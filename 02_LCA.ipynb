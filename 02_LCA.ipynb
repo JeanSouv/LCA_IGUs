{
 "cells": [
  {
   "cell_type": "raw",
   "metadata": {},
   "source": [
    "# Brightway2 uses atomic file writes to prevent data corruption,\n",
    "# but files are hard; regular backups using the Backups function:\n",
    "\n",
    "bw2io.backup.backup_project_directory(LCA_glazing)\n",
    "bw.backup_project_directory('LCA_Glazing_0')"
   ]
  },
  {
   "cell_type": "raw",
   "metadata": {},
   "source": [
    "import sys\n",
    "from pathlib import Path\n",
    "\n",
    "def show_argv_and_path():\n",
    "    print(f\"le répertoire courant est {Path.cwd()}\")\n",
    "    print(f\"le point d'entrée du programme est {sys.argv[0]}\")\n",
    "    print(f\"la variable sys.path contient\")\n",
    "    for i, path in enumerate(sys.path, 1):\n",
    "        print(f\"{i}-ème chemin dans sys.path {path}\")\n",
    "\n",
    "show_argv_and_path()"
   ]
  },
  {
   "cell_type": "markdown",
   "metadata": {},
   "source": [
    "# Setup"
   ]
  },
  {
   "cell_type": "code",
   "execution_count": 1,
   "metadata": {},
   "outputs": [],
   "source": [
    "from IPython.display import display\n",
    "from lci_to_bw2 import *\n",
    "from bw2data.project import ProjectManager\n",
    "from bw2data.parameters import (ActivityParameter, DatabaseParameter,\n",
    "                                ProjectParameter, Group)\n",
    "from brightway2 import *\n",
    "import bw2analyzer as bwa\n",
    "import brightway2 as bw\n",
    "from bw2data.parameters import *\n",
    "\n",
    "import pandas as pd\n",
    "import numpy as np\n",
    "\n",
    "import math\n",
    "\n",
    "import pathlib\n",
    "\n",
    "import sqlite3\n",
    "\n",
    "import os\n",
    "\n",
    "import matplotlib as mpl\n",
    "import matplotlib.pyplot as plt\n",
    "import seaborn as sns\n",
    "%matplotlib inline"
   ]
  },
  {
   "cell_type": "code",
   "execution_count": 2,
   "metadata": {},
   "outputs": [],
   "source": [
    "# Directory with datasets:\n",
    "ROOT_DIR = \"files\""
   ]
  },
  {
   "cell_type": "code",
   "execution_count": 3,
   "metadata": {},
   "outputs": [],
   "source": [
    "# Define size of figure:\n",
    "mpl.rcParams['figure.figsize'] = (16, 10)\n",
    "pd.options.display.max_rows = 200"
   ]
  },
  {
   "cell_type": "code",
   "execution_count": 4,
   "metadata": {},
   "outputs": [
    {
     "name": "stdout",
     "output_type": "stream",
     "text": [
      "Images will be saved in C:\\Users\\souvi\\Documents\\These\\80_Calculations\\05_LCA_Repo\\outputs\\IMG\n"
     ]
    }
   ],
   "source": [
    "# Define path to save figures:\n",
    "path_img = os.path.abspath(os.path.join('outputs', 'IMG'))\n",
    "if not os.path.exists(path_img):\n",
    "    os.makedirs(path_img)\n",
    "print(f'Images will be saved in {path_img}')"
   ]
  },
  {
   "cell_type": "code",
   "execution_count": 5,
   "metadata": {},
   "outputs": [],
   "source": [
    "# Define seaborn main parameters:\n",
    "sns.set_style(\"ticks\")\n",
    "sns.color_palette(\"colorblind\")\n",
    "sns.set_context(\"paper\", font_scale=1.5,\n",
    "                rc={\"axes.titlesize\": 15, \"lines.linewidth\": 1.2,\n",
    "                    \"legend.fontsize\": 10, \"legend.title_fontsize\": 10})"
   ]
  },
  {
   "cell_type": "code",
   "execution_count": 6,
   "metadata": {},
   "outputs": [
    {
     "data": {
      "text/plain": [
       "Brightway2 projects manager with 5 objects:\n",
       "\tLCA_Glazing\n",
       "\tLCA_Glazing_0\n",
       "\tLCOPT_Setup\n",
       "\tdefault\n",
       "\ttest\n",
       "Use `projects.report()` to get a report on all projects."
      ]
     },
     "execution_count": 6,
     "metadata": {},
     "output_type": "execute_result"
    }
   ],
   "source": [
    "# List of the available projects\n",
    "bw.projects"
   ]
  },
  {
   "cell_type": "code",
   "execution_count": 7,
   "metadata": {},
   "outputs": [
    {
     "data": {
      "text/plain": [
       "'C:\\\\Users\\\\souvi\\\\AppData\\\\Local\\\\pylca\\\\Brightway3\\\\LCA_Glazing.d2e1ffa0d7e38b337d42880125eeaeab'"
      ]
     },
     "execution_count": 7,
     "metadata": {},
     "output_type": "execute_result"
    }
   ],
   "source": [
    "# New project or access an existing one:\n",
    "bw.projects.set_current(\"LCA_Glazing\")\n",
    "\n",
    "# Where the current project is:\n",
    "bw.projects.dir"
   ]
  },
  {
   "cell_type": "raw",
   "metadata": {},
   "source": [
    "# Getting more information (installed databases and file sizes)\n",
    "# Installed databases and file sizes on an individual project:\n",
    "bw.projects.report()"
   ]
  },
  {
   "cell_type": "markdown",
   "metadata": {},
   "source": [
    "**Abbreviation:**"
   ]
  },
  {
   "cell_type": "markdown",
   "metadata": {},
   "source": [
    "- fg = flat glass\n",
    "- inv = inventory\n",
    "- act = activity\n",
    "- norm = normalised impacts\n",
    "- ia = impact assessment\n",
    "- fu = functional unit\n",
    "- igu = insulating glass unit"
   ]
  },
  {
   "cell_type": "markdown",
   "metadata": {},
   "source": [
    "# List of Scenarios with their Parameters"
   ]
  },
  {
   "cell_type": "markdown",
   "metadata": {},
   "source": [
    "Import the Excel file with the LCA scenarios (i.e. the values for the parameters to be used in BW2 and EnergyPlus):"
   ]
  },
  {
   "cell_type": "code",
   "execution_count": 8,
   "metadata": {},
   "outputs": [],
   "source": [
    "LCA_scenarios = pd.ExcelFile(os.path.join(ROOT_DIR, \"LCA_scenarios.xlsx\"))"
   ]
  },
  {
   "cell_type": "markdown",
   "metadata": {},
   "source": [
    "Define a series of dataframes for each step of calculation:"
   ]
  },
  {
   "cell_type": "code",
   "execution_count": 9,
   "metadata": {},
   "outputs": [
    {
     "name": "stdout",
     "output_type": "stream",
     "text": [
      "LCA_scenarios, sheet names = \n",
      " ['Scenarios', 'Step1', 'Step2', 'Step3', 'Step4', 'Step5', 'Step6', 'Step7', 'Step8', 'Step9', 'Step10', 'Step11', 'Step12', 'Step13', 'Step14', 'Step15', 'Step16', 'Step17', 'Step18', 'Step19', 'Step20', 'Step21', 'Step22']\n",
      "\n"
     ]
    }
   ],
   "source": [
    "print(\"LCA_scenarios, sheet names = \\n {}\\n\".format(LCA_scenarios.sheet_names))"
   ]
  },
  {
   "cell_type": "code",
   "execution_count": 10,
   "metadata": {},
   "outputs": [],
   "source": [
    "# Create dataframe for with scenarios for each step:\n",
    "df_step1 = LCA_scenarios.parse('Step1').set_index('name')\n",
    "df_step2 = LCA_scenarios.parse('Step2').set_index('name')\n",
    "df_step3 = LCA_scenarios.parse('Step3').set_index('name')\n",
    "df_step4 = LCA_scenarios.parse('Step4').set_index('name')\n",
    "df_step5 = LCA_scenarios.parse('Step5').set_index('name')\n",
    "df_step6 = LCA_scenarios.parse('Step6').set_index('name')\n",
    "df_step7 = LCA_scenarios.parse('Step7').set_index('name')\n",
    "df_step8 = LCA_scenarios.parse('Step8').set_index('name')\n",
    "df_step9 = LCA_scenarios.parse('Step9').set_index('name')\n",
    "df_step10 = LCA_scenarios.parse('Step10').set_index('name')\n",
    "df_step11 = LCA_scenarios.parse('Step11').set_index('name')\n",
    "df_step12 = LCA_scenarios.parse('Step12').set_index('name')\n",
    "df_step13 = LCA_scenarios.parse('Step13').set_index('name')\n",
    "df_step14 = LCA_scenarios.parse('Step14').set_index('name')\n",
    "df_step15 = LCA_scenarios.parse('Step15').set_index('name')\n",
    "df_step16 = LCA_scenarios.parse('Step16').set_index('name')\n",
    "df_step17 = LCA_scenarios.parse('Step17').set_index('name')\n",
    "df_step18 = LCA_scenarios.parse('Step18').set_index('name')\n",
    "df_step19 = LCA_scenarios.parse('Step19').set_index('name')\n",
    "df_step20 = LCA_scenarios.parse('Step20').set_index('name')\n",
    "df_step21 = LCA_scenarios.parse('Step21').set_index('name')\n",
    "df_step22 = LCA_scenarios.parse('Step22').set_index('name')"
   ]
  },
  {
   "cell_type": "markdown",
   "metadata": {},
   "source": [
    "# Import of LCA Databases"
   ]
  },
  {
   "cell_type": "code",
   "execution_count": 11,
   "metadata": {},
   "outputs": [
    {
     "data": {
      "text/plain": [
       "Databases dictionary with 7 object(s):\n",
       "\tbiosphere3\n",
       "\tecoinvent 3.7 cut-off\n",
       "\texldb_alu\n",
       "\texldb_cw\n",
       "\texldb_cw_EoL\n",
       "\texldb_igu\n",
       "\texldb_spacers"
      ]
     },
     "execution_count": 11,
     "metadata": {},
     "output_type": "execute_result"
    }
   ],
   "source": [
    "# databases available in the current project:\n",
    "bw.databases"
   ]
  },
  {
   "cell_type": "markdown",
   "metadata": {},
   "source": [
    "## Ecoinvent and Biosphere 3"
   ]
  },
  {
   "cell_type": "markdown",
   "metadata": {},
   "source": [
    "**Importing Biosphere 3:**"
   ]
  },
  {
   "cell_type": "code",
   "execution_count": 12,
   "metadata": {},
   "outputs": [
    {
     "name": "stdout",
     "output_type": "stream",
     "text": [
      "Biosphere database already present!!! No setup is needed\n"
     ]
    }
   ],
   "source": [
    "# Importing elementary flows, LCIA methods and some other data\n",
    "bw.bw2setup()"
   ]
  },
  {
   "cell_type": "markdown",
   "metadata": {},
   "source": [
    "**Importing Ecoinvent 3.7, cut-off system model:**"
   ]
  },
  {
   "cell_type": "markdown",
   "metadata": {},
   "source": [
    "For more information about the system models in ecoinvent 3, and especially the cut-off one, read [this](https://www.ecoinvent.org/database/system-models-in-ecoinvent-3/cut-off-system-model/allocation-cut-off-by-classification.html)."
   ]
  },
  {
   "cell_type": "code",
   "execution_count": 13,
   "metadata": {},
   "outputs": [
    {
     "name": "stdout",
     "output_type": "stream",
     "text": [
      "Database has already been imported!\n"
     ]
    }
   ],
   "source": [
    "# Import ecoinvent 3.7 cut-off\n",
    "ei37cutdir = r\"C:\\Users\\souvi\\Documents\\These\\80_Calculations\\06_LCA_SystemDiagrams\\02_Dataset\\ecoinvent 3.7_cutoff_ecoSpold02\\datasets\"\n",
    "\n",
    "if 'ecoinvent 3.7 cut-off' in databases:\n",
    "    print(\"Database has already been imported!\")\n",
    "else:\n",
    "    ei37cut = bw.SingleOutputEcospold2Importer(\n",
    "        ei37cutdir, 'ecoinvent 3.7 cut-off')\n",
    "    ei37cut.apply_strategies()\n",
    "    ei37cut.statistics()\n",
    "    ei37cut.write_database()"
   ]
  },
  {
   "cell_type": "markdown",
   "metadata": {},
   "source": [
    "## Excel datasets"
   ]
  },
  {
   "cell_type": "markdown",
   "metadata": {},
   "source": [
    "**Importing the Excel dataset relating to aluminium production:**"
   ]
  },
  {
   "cell_type": "code",
   "execution_count": 14,
   "metadata": {
    "scrolled": false
   },
   "outputs": [
    {
     "name": "stdout",
     "output_type": "stream",
     "text": [
      "Extracted 2 worksheets in 0.03 seconds\n",
      "Applying strategy: csv_restore_tuples\n",
      "Applying strategy: csv_restore_booleans\n",
      "Applying strategy: csv_numerize\n",
      "Applying strategy: csv_drop_unknown\n",
      "Applying strategy: csv_add_missing_exchanges_section\n",
      "Applying strategy: normalize_units\n",
      "Applying strategy: normalize_biosphere_categories\n",
      "Applying strategy: normalize_biosphere_names\n",
      "Applying strategy: strip_biosphere_exc_locations\n",
      "Applying strategy: set_code_by_activity_hash\n",
      "Applying strategy: link_iterable_by_fields\n",
      "Applying strategy: assign_only_product_as_production\n",
      "Applying strategy: link_technosphere_by_activity_hash\n",
      "Applying strategy: drop_falsey_uncertainty_fields_but_keep_zeros\n",
      "Applying strategy: convert_uncertainty_types_to_integers\n",
      "Applying strategy: convert_activity_parameters_to_list\n",
      "Applied 16 strategies in 0.25 seconds\n",
      "Applying strategy: link_iterable_by_fields\n",
      "Applying strategy: link_iterable_by_fields\n",
      "2 datasets\n",
      "12 exchanges\n",
      "0 unlinked exchanges\n",
      "  \n"
     ]
    },
    {
     "data": {
      "text/plain": [
       "(2, 12, 0)"
      ]
     },
     "execution_count": 14,
     "metadata": {},
     "output_type": "execute_result"
    }
   ],
   "source": [
    "imp = bw.ExcelImporter(os.path.join(ROOT_DIR, \"LCI_Alu.xlsx\"))\n",
    "imp.apply_strategies()\n",
    "imp.match_database(fields=('name', 'unit', 'location'))\n",
    "imp.match_database(\"ecoinvent 3.7 cut-off\",\n",
    "                   fields=('name', 'unit', 'location', 'input'))\n",
    "imp.statistics()"
   ]
  },
  {
   "cell_type": "markdown",
   "metadata": {},
   "source": [
    "Checking whether the import went as expected. Creation of an Excel sheet with process data:"
   ]
  },
  {
   "cell_type": "code",
   "execution_count": 15,
   "metadata": {},
   "outputs": [
    {
     "name": "stdout",
     "output_type": "stream",
     "text": [
      "Wrote matching file to:\n",
      "C:\\Users\\souvi\\AppData\\Local\\pylca\\Brightway3\\LCA_Glazing.d2e1ffa0d7e38b337d42880125eeaeab\\output\\db-matching-exldb_alu.xlsx\n"
     ]
    }
   ],
   "source": [
    "imp.write_excel()"
   ]
  },
  {
   "cell_type": "markdown",
   "metadata": {},
   "source": [
    "Write the data to a database to save it:"
   ]
  },
  {
   "cell_type": "code",
   "execution_count": 16,
   "metadata": {
    "scrolled": true
   },
   "outputs": [
    {
     "name": "stderr",
     "output_type": "stream",
     "text": [
      "Writing activities to SQLite3 database:\n",
      "0% [##] 100% | ETA: 00:00:01\n",
      "Total time elapsed: 00:00:00\n"
     ]
    },
    {
     "name": "stdout",
     "output_type": "stream",
     "text": [
      "Title: Writing activities to SQLite3 database:\n",
      "  Started: 12/03/2021 18:47:00\n",
      "  Finished: 12/03/2021 18:47:00\n",
      "  Total time elapsed: 00:00:00\n",
      "  CPU %: 0.00\n",
      "  Memory %: 1.23\n",
      "Created database: exldb_alu\n"
     ]
    }
   ],
   "source": [
    "imp.write_database()"
   ]
  },
  {
   "cell_type": "markdown",
   "metadata": {},
   "source": [
    "**Importing the Excel dataset relating to IGUs:**"
   ]
  },
  {
   "cell_type": "code",
   "execution_count": 17,
   "metadata": {},
   "outputs": [
    {
     "name": "stdout",
     "output_type": "stream",
     "text": [
      "Extracted 44 worksheets in 0.33 seconds\n",
      "Applying strategy: csv_restore_tuples\n",
      "Applying strategy: csv_restore_booleans\n",
      "Applying strategy: csv_numerize\n",
      "Applying strategy: csv_drop_unknown\n",
      "Applying strategy: csv_add_missing_exchanges_section\n",
      "Applying strategy: normalize_units\n",
      "Applying strategy: normalize_biosphere_categories\n",
      "Applying strategy: normalize_biosphere_names\n",
      "Applying strategy: strip_biosphere_exc_locations\n",
      "Applying strategy: set_code_by_activity_hash\n",
      "Applying strategy: link_iterable_by_fields\n",
      "Applying strategy: assign_only_product_as_production\n",
      "Applying strategy: link_technosphere_by_activity_hash\n",
      "Applying strategy: drop_falsey_uncertainty_fields_but_keep_zeros\n",
      "Applying strategy: convert_uncertainty_types_to_integers\n",
      "Applying strategy: convert_activity_parameters_to_list\n",
      "Applied 16 strategies in 0.22 seconds\n",
      "Applying strategy: link_iterable_by_fields\n",
      "Applying strategy: link_iterable_by_fields\n",
      "Applying strategy: link_iterable_by_fields\n",
      "44 datasets\n",
      "381 exchanges\n",
      "0 unlinked exchanges\n",
      "  \n"
     ]
    },
    {
     "data": {
      "text/plain": [
       "(44, 381, 0)"
      ]
     },
     "execution_count": 17,
     "metadata": {},
     "output_type": "execute_result"
    }
   ],
   "source": [
    "imp = bw.ExcelImporter(os.path.join(ROOT_DIR, \"LCI_IGU.xlsx\"))\n",
    "imp.apply_strategies()\n",
    "imp.match_database(fields=('name', 'unit', 'location'))\n",
    "imp.match_database(\"ecoinvent 3.7 cut-off\",\n",
    "                   fields=('name', 'unit', 'location'))\n",
    "imp.match_database(\"exldb_alu\",\n",
    "                   fields=('name', 'unit', 'location', 'input'))\n",
    "imp.statistics()"
   ]
  },
  {
   "cell_type": "markdown",
   "metadata": {},
   "source": [
    "Checking whether the import went as expected. Creation of an Excel sheet with process data:"
   ]
  },
  {
   "cell_type": "code",
   "execution_count": 18,
   "metadata": {},
   "outputs": [
    {
     "name": "stdout",
     "output_type": "stream",
     "text": [
      "Wrote matching file to:\n",
      "C:\\Users\\souvi\\AppData\\Local\\pylca\\Brightway3\\LCA_Glazing.d2e1ffa0d7e38b337d42880125eeaeab\\output\\db-matching-exldb_igu.xlsx\n"
     ]
    }
   ],
   "source": [
    "imp.write_excel()"
   ]
  },
  {
   "cell_type": "markdown",
   "metadata": {},
   "source": [
    "Add the project-level parameters:"
   ]
  },
  {
   "cell_type": "code",
   "execution_count": 19,
   "metadata": {},
   "outputs": [],
   "source": [
    "imp.write_project_parameters()"
   ]
  },
  {
   "cell_type": "markdown",
   "metadata": {},
   "source": [
    "Write the data to a database to save it:"
   ]
  },
  {
   "cell_type": "code",
   "execution_count": 20,
   "metadata": {},
   "outputs": [
    {
     "name": "stderr",
     "output_type": "stream",
     "text": [
      "Writing activities to SQLite3 database:\n",
      "0% [##############################] 100% | ETA: 00:00:00\n",
      "Total time elapsed: 00:00:00\n"
     ]
    },
    {
     "name": "stdout",
     "output_type": "stream",
     "text": [
      "Title: Writing activities to SQLite3 database:\n",
      "  Started: 12/03/2021 18:47:03\n",
      "  Finished: 12/03/2021 18:47:03\n",
      "  Total time elapsed: 00:00:00\n",
      "  CPU %: 158.20\n",
      "  Memory %: 1.37\n",
      "Created database: exldb_igu\n"
     ]
    }
   ],
   "source": [
    "imp.write_database()"
   ]
  },
  {
   "cell_type": "markdown",
   "metadata": {},
   "source": [
    "**Importing the Excel dataset relating to double glazing w/ different types of spacers:**"
   ]
  },
  {
   "cell_type": "code",
   "execution_count": 21,
   "metadata": {},
   "outputs": [
    {
     "name": "stdout",
     "output_type": "stream",
     "text": [
      "Extracted 12 worksheets in 0.10 seconds\n",
      "Applying strategy: csv_restore_tuples\n",
      "Applying strategy: csv_restore_booleans\n",
      "Applying strategy: csv_numerize\n",
      "Applying strategy: csv_drop_unknown\n",
      "Applying strategy: csv_add_missing_exchanges_section\n",
      "Applying strategy: normalize_units\n",
      "Applying strategy: normalize_biosphere_categories\n",
      "Applying strategy: normalize_biosphere_names\n",
      "Applying strategy: strip_biosphere_exc_locations\n",
      "Applying strategy: set_code_by_activity_hash\n",
      "Applying strategy: link_iterable_by_fields\n",
      "Applying strategy: assign_only_product_as_production\n",
      "Applying strategy: link_technosphere_by_activity_hash\n",
      "Applying strategy: drop_falsey_uncertainty_fields_but_keep_zeros\n",
      "Applying strategy: convert_uncertainty_types_to_integers\n",
      "Applying strategy: convert_activity_parameters_to_list\n",
      "Applied 16 strategies in 0.22 seconds\n",
      "Applying strategy: link_iterable_by_fields\n",
      "Applying strategy: link_iterable_by_fields\n",
      "Applying strategy: link_iterable_by_fields\n",
      "12 datasets\n",
      "174 exchanges\n",
      "0 unlinked exchanges\n",
      "  \n"
     ]
    },
    {
     "data": {
      "text/plain": [
       "(12, 174, 0)"
      ]
     },
     "execution_count": 21,
     "metadata": {},
     "output_type": "execute_result"
    }
   ],
   "source": [
    "imp = bw.ExcelImporter(os.path.join(ROOT_DIR, \"LCI_Spacers.xlsx\"))\n",
    "imp.apply_strategies()\n",
    "imp.match_database(fields=('name', 'unit', 'location'))\n",
    "imp.match_database(\"ecoinvent 3.7 cut-off\",\n",
    "                   fields=('name', 'unit', 'location'))\n",
    "imp.match_database(\"exldb_igu\",\n",
    "                   fields=('name', 'unit', 'location', 'input'))\n",
    "imp.statistics()"
   ]
  },
  {
   "cell_type": "markdown",
   "metadata": {},
   "source": [
    "Checking whether the import went as expected. Creation of an Excel sheet with process data:"
   ]
  },
  {
   "cell_type": "code",
   "execution_count": 22,
   "metadata": {},
   "outputs": [
    {
     "name": "stdout",
     "output_type": "stream",
     "text": [
      "Wrote matching file to:\n",
      "C:\\Users\\souvi\\AppData\\Local\\pylca\\Brightway3\\LCA_Glazing.d2e1ffa0d7e38b337d42880125eeaeab\\output\\db-matching-exldb_spacers.xlsx\n"
     ]
    }
   ],
   "source": [
    "imp.write_excel()"
   ]
  },
  {
   "cell_type": "markdown",
   "metadata": {},
   "source": [
    "Write the data to a database to save it:"
   ]
  },
  {
   "cell_type": "code",
   "execution_count": 23,
   "metadata": {
    "scrolled": true
   },
   "outputs": [
    {
     "name": "stderr",
     "output_type": "stream",
     "text": [
      "Writing activities to SQLite3 database:\n",
      "0% [############] 100% | ETA: 00:00:00\n",
      "Total time elapsed: 00:00:00\n"
     ]
    },
    {
     "name": "stdout",
     "output_type": "stream",
     "text": [
      "Title: Writing activities to SQLite3 database:\n",
      "  Started: 12/03/2021 18:47:06\n",
      "  Finished: 12/03/2021 18:47:06\n",
      "  Total time elapsed: 00:00:00\n",
      "  CPU %: 66.50\n",
      "  Memory %: 1.34\n",
      "Created database: exldb_spacers\n"
     ]
    }
   ],
   "source": [
    "imp.write_database()"
   ]
  },
  {
   "cell_type": "markdown",
   "metadata": {},
   "source": [
    "**Importing the Excel dataset relating to curtain wall end of life phase:**"
   ]
  },
  {
   "cell_type": "code",
   "execution_count": 24,
   "metadata": {},
   "outputs": [
    {
     "name": "stdout",
     "output_type": "stream",
     "text": [
      "Extracted 26 worksheets in 0.15 seconds\n",
      "Applying strategy: csv_restore_tuples\n",
      "Applying strategy: csv_restore_booleans\n",
      "Applying strategy: csv_numerize\n",
      "Applying strategy: csv_drop_unknown\n",
      "Applying strategy: csv_add_missing_exchanges_section\n",
      "Applying strategy: normalize_units\n",
      "Applying strategy: normalize_biosphere_categories\n",
      "Applying strategy: normalize_biosphere_names\n",
      "Applying strategy: strip_biosphere_exc_locations\n",
      "Applying strategy: set_code_by_activity_hash\n",
      "Applying strategy: link_iterable_by_fields\n",
      "Applying strategy: assign_only_product_as_production\n",
      "Applying strategy: link_technosphere_by_activity_hash\n",
      "Applying strategy: drop_falsey_uncertainty_fields_but_keep_zeros\n",
      "Applying strategy: convert_uncertainty_types_to_integers\n",
      "Applying strategy: convert_activity_parameters_to_list\n",
      "Applied 16 strategies in 0.23 seconds\n",
      "Applying strategy: link_iterable_by_fields\n",
      "Applying strategy: link_iterable_by_fields\n",
      "Applying strategy: link_iterable_by_fields\n",
      "26 datasets\n",
      "100 exchanges\n",
      "0 unlinked exchanges\n",
      "  \n"
     ]
    },
    {
     "data": {
      "text/plain": [
       "(26, 100, 0)"
      ]
     },
     "execution_count": 24,
     "metadata": {},
     "output_type": "execute_result"
    }
   ],
   "source": [
    "imp = bw.ExcelImporter(os.path.join(ROOT_DIR, \"LCI_CW_EoL.xlsx\"))\n",
    "imp.apply_strategies()\n",
    "imp.match_database(fields=('name', 'unit', 'location'))\n",
    "imp.match_database(\"ecoinvent 3.7 cut-off\",\n",
    "                   fields=('name', 'unit', 'location'))\n",
    "imp.match_database(\"exldb_cw\",\n",
    "                   fields=('name', 'unit', 'location', 'input'))\n",
    "imp.statistics()"
   ]
  },
  {
   "cell_type": "markdown",
   "metadata": {},
   "source": [
    "Checking whether the import went as expected. Creation of an Excel sheet with process data:"
   ]
  },
  {
   "cell_type": "code",
   "execution_count": 25,
   "metadata": {},
   "outputs": [
    {
     "name": "stdout",
     "output_type": "stream",
     "text": [
      "Wrote matching file to:\n",
      "C:\\Users\\souvi\\AppData\\Local\\pylca\\Brightway3\\LCA_Glazing.d2e1ffa0d7e38b337d42880125eeaeab\\output\\db-matching-exldb_cw_EoL.xlsx\n"
     ]
    }
   ],
   "source": [
    "imp.write_excel()"
   ]
  },
  {
   "cell_type": "markdown",
   "metadata": {},
   "source": [
    "Write the data to a database to save it:"
   ]
  },
  {
   "cell_type": "code",
   "execution_count": 26,
   "metadata": {},
   "outputs": [
    {
     "name": "stderr",
     "output_type": "stream",
     "text": [
      "Writing activities to SQLite3 database:\n",
      "0% [##########################] 100% | ETA: 00:00:00\n",
      "Total time elapsed: 00:00:00\n"
     ]
    },
    {
     "name": "stdout",
     "output_type": "stream",
     "text": [
      "Title: Writing activities to SQLite3 database:\n",
      "  Started: 12/03/2021 18:47:08\n",
      "  Finished: 12/03/2021 18:47:08\n",
      "  Total time elapsed: 00:00:00\n",
      "  CPU %: 104.20\n",
      "  Memory %: 1.36\n",
      "Created database: exldb_cw_EoL\n"
     ]
    }
   ],
   "source": [
    "imp.write_database()"
   ]
  },
  {
   "cell_type": "markdown",
   "metadata": {},
   "source": [
    "**Importing the Excel dataset relating to curtain wall production and use:**"
   ]
  },
  {
   "cell_type": "code",
   "execution_count": 27,
   "metadata": {},
   "outputs": [
    {
     "name": "stdout",
     "output_type": "stream",
     "text": [
      "Extracted 48 worksheets in 0.25 seconds\n",
      "Applying strategy: csv_restore_tuples\n",
      "Applying strategy: csv_restore_booleans\n",
      "Applying strategy: csv_numerize\n",
      "Applying strategy: csv_drop_unknown\n",
      "Applying strategy: csv_add_missing_exchanges_section\n",
      "Applying strategy: normalize_units\n",
      "Applying strategy: normalize_biosphere_categories\n",
      "Applying strategy: normalize_biosphere_names\n",
      "Applying strategy: strip_biosphere_exc_locations\n",
      "Applying strategy: set_code_by_activity_hash\n",
      "Applying strategy: link_iterable_by_fields\n",
      "Applying strategy: assign_only_product_as_production\n",
      "Applying strategy: link_technosphere_by_activity_hash\n",
      "Applying strategy: drop_falsey_uncertainty_fields_but_keep_zeros\n",
      "Applying strategy: convert_uncertainty_types_to_integers\n",
      "Applying strategy: convert_activity_parameters_to_list\n",
      "Applied 16 strategies in 0.29 seconds\n",
      "Applying strategy: link_iterable_by_fields\n",
      "Applying strategy: link_iterable_by_fields\n",
      "Applying strategy: link_iterable_by_fields\n",
      "Applying strategy: link_iterable_by_fields\n",
      "Applying strategy: link_iterable_by_fields\n",
      "48 datasets\n",
      "259 exchanges\n",
      "0 unlinked exchanges\n",
      "  \n"
     ]
    },
    {
     "data": {
      "text/plain": [
       "(48, 259, 0)"
      ]
     },
     "execution_count": 27,
     "metadata": {},
     "output_type": "execute_result"
    }
   ],
   "source": [
    "imp = bw.ExcelImporter(os.path.join(ROOT_DIR, \"LCI_CW.xlsx\"))\n",
    "imp.apply_strategies()\n",
    "imp.match_database(fields=('name', 'unit', 'location'))\n",
    "imp.match_database(\"ecoinvent 3.7 cut-off\",\n",
    "                   fields=('name', 'unit', 'location'))\n",
    "imp.match_database(\"exldb_igu\",\n",
    "                   fields=('name', 'unit', 'location', 'input'))\n",
    "imp.match_database(\"exldb_alu\",\n",
    "                   fields=('name', 'unit', 'location', 'input'))\n",
    "imp.match_database(\"exldb_cw_EoL\",\n",
    "                   fields=('name', 'unit', 'location', 'input'))\n",
    "imp.statistics()"
   ]
  },
  {
   "cell_type": "markdown",
   "metadata": {},
   "source": [
    "Checking whether the import went as expected. Creation of an Excel sheet with process data:"
   ]
  },
  {
   "cell_type": "code",
   "execution_count": 28,
   "metadata": {},
   "outputs": [
    {
     "name": "stdout",
     "output_type": "stream",
     "text": [
      "Wrote matching file to:\n",
      "C:\\Users\\souvi\\AppData\\Local\\pylca\\Brightway3\\LCA_Glazing.d2e1ffa0d7e38b337d42880125eeaeab\\output\\db-matching-exldb_cw.xlsx\n"
     ]
    }
   ],
   "source": [
    "imp.write_excel()"
   ]
  },
  {
   "cell_type": "markdown",
   "metadata": {},
   "source": [
    "Write the data to a database to save it:"
   ]
  },
  {
   "cell_type": "code",
   "execution_count": 29,
   "metadata": {},
   "outputs": [
    {
     "name": "stderr",
     "output_type": "stream",
     "text": [
      "Writing activities to SQLite3 database:\n",
      "0% [##############################] 100% | ETA: 00:00:00\n",
      "Total time elapsed: 00:00:00\n"
     ]
    },
    {
     "name": "stdout",
     "output_type": "stream",
     "text": [
      "Title: Writing activities to SQLite3 database:\n",
      "  Started: 12/03/2021 18:47:11\n",
      "  Finished: 12/03/2021 18:47:11\n",
      "  Total time elapsed: 00:00:00\n",
      "  CPU %: 140.20\n",
      "  Memory %: 1.39\n",
      "Created database: exldb_cw\n"
     ]
    }
   ],
   "source": [
    "imp.write_database()"
   ]
  },
  {
   "cell_type": "markdown",
   "metadata": {},
   "source": [
    "**Checking if the imports went well:**"
   ]
  },
  {
   "cell_type": "markdown",
   "metadata": {},
   "source": [
    "List databases:"
   ]
  },
  {
   "cell_type": "code",
   "execution_count": 30,
   "metadata": {},
   "outputs": [
    {
     "data": {
      "text/plain": [
       "Databases dictionary with 7 object(s):\n",
       "\tbiosphere3\n",
       "\tecoinvent 3.7 cut-off\n",
       "\texldb_alu\n",
       "\texldb_cw\n",
       "\texldb_cw_EoL\n",
       "\texldb_igu\n",
       "\texldb_spacers"
      ]
     },
     "execution_count": 30,
     "metadata": {},
     "output_type": "execute_result"
    }
   ],
   "source": [
    "bw.databases"
   ]
  },
  {
   "cell_type": "markdown",
   "metadata": {},
   "source": [
    "Checking Excel database:"
   ]
  },
  {
   "cell_type": "raw",
   "metadata": {},
   "source": [
    "wbi = bw.Database(\"exldb_spacers\")\n",
    "for act in wbi:\n",
    "    print(act)"
   ]
  },
  {
   "cell_type": "raw",
   "metadata": {},
   "source": [
    "wbp = [act for act in wbi][0]\n",
    "print(act['name'])\n",
    "print('------')\n",
    "for exc in wbp.exchanges():\n",
    "    print(exc['type'])\n",
    "    print(exc)\n",
    "    print('------')"
   ]
  },
  {
   "cell_type": "raw",
   "metadata": {},
   "source": [
    "# Check if details of the biosphere exchange are correct:\n",
    "ex = [act for act in wbi if 'double glazing production, argon, lsg' in act['name']][0]\n",
    "[exc for exc in ex.exchanges() if 'extrusion, plastic film' in str(exc)][0].as_dict()"
   ]
  },
  {
   "cell_type": "markdown",
   "metadata": {},
   "source": [
    "**Deleting a database, if needed:**"
   ]
  },
  {
   "cell_type": "raw",
   "metadata": {},
   "source": [
    "# Remove all items from D:\n",
    "databases.clear()"
   ]
  },
  {
   "cell_type": "raw",
   "metadata": {},
   "source": [
    "# delete a database:\n",
    "wbi = bw.Database(\"exldb_UsePhase\")\n",
    "del databases[wbi.name]\n",
    "\n",
    "# or:\n",
    "# wbi.delete()\n",
    "# del wbi, wbp"
   ]
  },
  {
   "cell_type": "raw",
   "metadata": {},
   "source": [
    "# Or deregister the database, which removes all metadata:\n",
    "bw.Database('BW2 Excel water bottle import').deregister()"
   ]
  },
  {
   "cell_type": "markdown",
   "metadata": {},
   "source": [
    "## Navigate Databases"
   ]
  },
  {
   "cell_type": "markdown",
   "metadata": {},
   "source": [
    "**Navigate Databases, assigning a variable to each one:**"
   ]
  },
  {
   "cell_type": "code",
   "execution_count": 31,
   "metadata": {},
   "outputs": [],
   "source": [
    "eib3db = bw.Database('biosphere3')\n",
    "\n",
    "eicutdb = bw.Database('ecoinvent 3.7 cut-off')\n",
    "\n",
    "exldb_alu = bw.Database('exldb_alu')\n",
    "exldb_igu = bw.Database('exldb_igu')\n",
    "exldb_cw = bw.Database('exldb_cw')\n",
    "exldb_spacers = bw.Database('exldb_spacers')"
   ]
  },
  {
   "cell_type": "raw",
   "metadata": {},
   "source": [
    "act_name = \"market for electricity, low\"\n",
    "\n",
    "# Search all the activities with 'act_name' somewhere in description:\n",
    "for activity in eicutdb.search(act_name, limit=200):\n",
    "    print(activity)\n",
    "    print('  Code is:', activity['code'])\n",
    "    print('  Location is:', activity['location'])\n",
    "    print(\"------\")\n",
    "    for exc in list(activity.exchanges()):\n",
    "        print(exc, \"\\n\")\n",
    "    print(\"------\")\n",
    "    print(\"------\")"
   ]
  },
  {
   "cell_type": "raw",
   "metadata": {},
   "source": [
    "act_name = \"glass\"\n",
    "\n",
    "# Search all the activities with 'act_name' somewhere in description:\n",
    "for activity in exldb_igu.search(act_name, limit=200):\n",
    "    print(activity)\n",
    "    print('  Code is:', activity['code'])\n",
    "    print('  Location is:', activity['location'])\n",
    "    print(\"------\")\n",
    "    for exc in list(activity.exchanges()):\n",
    "        print(exc, \"\\n\")\n",
    "    print(\"------\")\n",
    "    print(\"------\")"
   ]
  },
  {
   "cell_type": "markdown",
   "metadata": {},
   "source": [
    "# LCA of Glass Sheets and IGUs from Cradle to Gate"
   ]
  },
  {
   "cell_type": "markdown",
   "metadata": {},
   "source": [
    "## Parameters"
   ]
  },
  {
   "cell_type": "markdown",
   "metadata": {},
   "source": [
    "**Checking the total number of parameters:**"
   ]
  },
  {
   "cell_type": "code",
   "execution_count": 32,
   "metadata": {},
   "outputs": [
    {
     "data": {
      "text/plain": [
       "52"
      ]
     },
     "execution_count": 32,
     "metadata": {},
     "output_type": "execute_result"
    }
   ],
   "source": [
    "len(parameters)"
   ]
  },
  {
   "cell_type": "markdown",
   "metadata": {},
   "source": [
    "Look at the parameter directly:"
   ]
  },
  {
   "cell_type": "code",
   "execution_count": 33,
   "metadata": {},
   "outputs": [
    {
     "name": "stdout",
     "output_type": "stream",
     "text": [
      "Project parameters:\n",
      "param_g_density : 2.5\n",
      "param_t_lsg : 10.0\n",
      "param_t_tsg : 10.0\n",
      "param_n_pvb : 2.0\n",
      "param_d1 : 125.0\n",
      "param_t_g_ext : 8.0\n",
      "param_t_g_mid_tg : 6.0\n",
      "param_t_g_uncoated_int : 8.0\n",
      "------\n",
      "Database parameters:\n",
      "param_m_sg_g : 25.0\n",
      "param_m_sg_alu : 3.31\n",
      "param_m_sg_low_wood : 0.09\n",
      "param_m_sg_low_silicone : 0.15\n",
      "param_m_sg_high_epdm : 0.55\n",
      "param_m_dg_g : 45.0\n",
      "param_m_dg_alu : 3.47\n",
      "param_m_dg_low_wood : 0.09\n",
      "param_m_dg_low_silicone : 0.15\n",
      "param_m_dg_high_epdm : 0.67\n",
      "param_m_tg_g : 60.0\n",
      "param_m_tg_alu : 3.79\n",
      "param_m_tg_epdm : 0.78\n",
      "param_m_ccf_g : 70.0\n",
      "param_m_ccf_alu : 13.22\n",
      "param_m_ccf_epdm : 1.95\n",
      "param_m_vacuum_g : 45.0\n",
      "param_m_smart_g : 45.0\n",
      "param_m_smart_elec : 0.94\n",
      "param_m_dsf_g : 70.0\n",
      "param_m_dsf_alu : 6.79\n",
      "param_m_dsf_epdm : 1.22\n",
      "param_d2 : 130.0\n",
      "param_d3 : 50.0\n",
      "param_natural_gas : 0.0\n",
      "param_elec_use : 0.0\n",
      "param_lifespan : 40.0\n",
      "param_shdg_device : 0.0\n",
      "param_thermal_curtain : 0.0\n",
      "param_sg : 0.0\n",
      "param_sg_coated : 0.0\n",
      "param_dg : 0.0\n",
      "param_dg_coated : 0.0\n",
      "param_dg_coated_krypton : 0.0\n",
      "param_dg_2coatings : 0.0\n",
      "param_tg_coated : 0.0\n",
      "param_tg_2coatings : 0.0\n",
      "param_tg_2coatings_krypton : 0.0\n",
      "param_tg_2coatings_xenon : 0.0\n",
      "param_ccf : 0.0\n",
      "param_dg_vacuum : 0.0\n",
      "param_dg_smart : 0.0\n",
      "param_dsf : 0.0\n",
      "------\n",
      "Activity parameters:\n",
      "Use_of_glazed_curtain_wall_1 : 1.0\n"
     ]
    }
   ],
   "source": [
    "print(\"Project parameters:\")\n",
    "for p in ProjectParameter.select():\n",
    "    print(p.name, \":\", round(p.amount, 2))\n",
    "\n",
    "print(\"------\")\n",
    "print(\"Database parameters:\")\n",
    "for p in DatabaseParameter.select():\n",
    "    print(p.name, \":\", round(p.amount, 2))\n",
    "\n",
    "print(\"------\")\n",
    "print(\"Activity parameters:\")\n",
    "for p in ActivityParameter.select():\n",
    "    if \"dummy\" not in p.name:\n",
    "        print(p.name, \":\", round(p.amount, 2))"
   ]
  },
  {
   "cell_type": "markdown",
   "metadata": {},
   "source": [
    "**We have now to tell bw to activate the exchanges and their formulas:**"
   ]
  },
  {
   "cell_type": "markdown",
   "metadata": {},
   "source": [
    "First, we tell the parameter code that these exchanges have formulas:"
   ]
  },
  {
   "cell_type": "code",
   "execution_count": 34,
   "metadata": {},
   "outputs": [],
   "source": [
    "for act in exldb_igu:\n",
    "    parameters.add_exchanges_to_group(\"igu_db_parameters\", act)\n",
    "\n",
    "for act in exldb_cw:\n",
    "    parameters.add_exchanges_to_group(\"cw_db_parameters\", act)"
   ]
  },
  {
   "cell_type": "markdown",
   "metadata": {},
   "source": [
    "Then we calculate the \"activated\" formula values:"
   ]
  },
  {
   "cell_type": "code",
   "execution_count": 35,
   "metadata": {},
   "outputs": [],
   "source": [
    "ActivityParameter.recalculate_exchanges(\"igu_db_parameters\")\n",
    "ActivityParameter.recalculate_exchanges(\"cw_db_parameters\")"
   ]
  },
  {
   "cell_type": "markdown",
   "metadata": {},
   "source": [
    "**Delete the parameters:**"
   ]
  },
  {
   "cell_type": "raw",
   "metadata": {},
   "source": [
    "# delete the table of existing project parameters, i.e. actually deletes the project parameters\n",
    "ProjectParameter.drop_table(safe=True, drop_sequences=True)"
   ]
  },
  {
   "cell_type": "raw",
   "metadata": {},
   "source": [
    "# For a specific activity:\n",
    "parameters.remove_exchanges_from_group('my group', Database('SA_db').get('code_act'))"
   ]
  },
  {
   "cell_type": "markdown",
   "metadata": {},
   "source": [
    "## Methods"
   ]
  },
  {
   "cell_type": "markdown",
   "metadata": {},
   "source": [
    "List of available LCIA methods:"
   ]
  },
  {
   "cell_type": "raw",
   "metadata": {},
   "source": [
    "# bw.methods.list\n",
    "AllMethods = [method for method in bw.methods\n",
    "              if \"obsolete\" not in method[0]\n",
    "              and \"ILCD\" in method[0]\n",
    "              and \"no LT\" not in method[0]]\n",
    "AllMethods"
   ]
  },
  {
   "cell_type": "markdown",
   "metadata": {},
   "source": [
    "Define methods:"
   ]
  },
  {
   "cell_type": "code",
   "execution_count": 36,
   "metadata": {},
   "outputs": [],
   "source": [
    "method_ilcd_gwp = (\n",
    "    'ILCD 2.0 2018 midpoint', 'climate change', 'climate change total')"
   ]
  },
  {
   "cell_type": "code",
   "execution_count": 37,
   "metadata": {},
   "outputs": [],
   "source": [
    "methods_small = [\n",
    "    ('ILCD 2.0 2018 midpoint', 'climate change', 'climate change total'),\n",
    "    ('ILCD 2.0 2018 midpoint', 'ecosystem quality', 'freshwater ecotoxicity'),\n",
    "    ('ILCD 2.0 2018 midpoint', 'ecosystem quality',\n",
    "     'freshwater and terrestrial acidification'),\n",
    "    ('ILCD 2.0 2018 midpoint', 'ecosystem quality', 'freshwater eutrophication'),\n",
    "    ('ILCD 2.0 2018 midpoint', 'ecosystem quality', 'terrestrial eutrophication'),\n",
    "    ('ILCD 2.0 2018 midpoint', 'human health', 'ozone layer depletion'),\n",
    "    ('ILCD 2.0 2018 midpoint', 'human health', 'photochemical ozone creation'),\n",
    "    ('ILCD 2.0 2018 midpoint', 'resources', 'fossils'),\n",
    "    ('ILCD 2.0 2018 midpoint', 'resources', 'land use')\n",
    "]"
   ]
  },
  {
   "cell_type": "code",
   "execution_count": 38,
   "metadata": {},
   "outputs": [],
   "source": [
    "methods_full = [\n",
    "    ('ILCD 2.0 2018 midpoint', 'climate change', 'climate change total'),\n",
    "    ('ILCD 2.0 2018 midpoint', 'ecosystem quality', 'freshwater ecotoxicity'),\n",
    "    ('ILCD 2.0 2018 midpoint', 'ecosystem quality',\n",
    "     'freshwater and terrestrial acidification'),\n",
    "    ('ILCD 2.0 2018 midpoint', 'ecosystem quality', 'freshwater eutrophication'),\n",
    "    ('ILCD 2.0 2018 midpoint', 'ecosystem quality', 'marine eutrophication'),\n",
    "    ('ILCD 2.0 2018 midpoint', 'ecosystem quality', 'terrestrial eutrophication'),\n",
    "    ('ILCD 2.0 2018 midpoint', 'human health', 'non-carcinogenic effects'),\n",
    "    ('ILCD 2.0 2018 midpoint', 'human health', 'carcinogenic effects'),\n",
    "    ('ILCD 2.0 2018 midpoint', 'human health', 'ionising radiation'),\n",
    "    ('ILCD 2.0 2018 midpoint', 'human health', 'ozone layer depletion'),\n",
    "    ('ILCD 2.0 2018 midpoint', 'human health', 'photochemical ozone creation'),\n",
    "    ('ILCD 2.0 2018 midpoint', 'human health', 'respiratory effects, inorganics'),\n",
    "    ('ILCD 2.0 2018 midpoint', 'resources', 'minerals and metals'),\n",
    "    ('ILCD 2.0 2018 midpoint', 'resources', 'dissipated water'),\n",
    "    ('ILCD 2.0 2018 midpoint', 'resources', 'fossils'),\n",
    "    ('ILCD 2.0 2018 midpoint', 'resources', 'land use')\n",
    "]"
   ]
  },
  {
   "cell_type": "markdown",
   "metadata": {},
   "source": [
    "## Flat glass production"
   ]
  },
  {
   "cell_type": "markdown",
   "metadata": {},
   "source": [
    "Define the <font color='red'> functional unit </font> per flat glass (fg) type:"
   ]
  },
  {
   "cell_type": "code",
   "execution_count": 39,
   "metadata": {},
   "outputs": [
    {
     "data": {
      "text/plain": [
       "['market for flat glass, coated' (kilogram, BE, ('building components', 'windows')),\n",
       " 'market for flat glass, uncoated' (kilogram, BE, ('building components', 'windows'))]"
      ]
     },
     "execution_count": 39,
     "metadata": {},
     "output_type": "execute_result"
    }
   ],
   "source": [
    "inv_fg_unsorted = [act for act in exldb_igu\n",
    "                   if 'market for flat glass' in act['name']\n",
    "                   ]\n",
    "\n",
    "inv_fg = sorted(inv_fg_unsorted,\n",
    "                key=lambda k: k['name'])\n",
    "\n",
    "inv_fg"
   ]
  },
  {
   "cell_type": "code",
   "execution_count": 40,
   "metadata": {},
   "outputs": [
    {
     "data": {
      "text/plain": [
       "['market for laminated safety glass' (square meter, BE, ('building components', 'windows')),\n",
       " 'market for laminated safety glass, coated' (square meter, BE, ('building components', 'windows')),\n",
       " 'market for smart glass' (square meter, BE, ('building components', 'windows')),\n",
       " 'market for tempered safety glass' (square meter, BE, ('building components', 'windows')),\n",
       " 'market for tempered safety glass, coated' (square meter, BE, ('building components', 'windows'))]"
      ]
     },
     "execution_count": 40,
     "metadata": {},
     "output_type": "execute_result"
    }
   ],
   "source": [
    "names_fg_processed = ['market for laminated safety glass',\n",
    "                      'market for tempered safety glass',\n",
    "                      'market for smart glass'\n",
    "                      ]\n",
    "\n",
    "inv_fg_processed_unsorted = [act for act in exldb_igu\n",
    "                             for n in names_fg_processed\n",
    "                             if n in act['name']\n",
    "                             and \"glazing\" not in act['name']\n",
    "                             ]\n",
    "\n",
    "inv_fg_processed = sorted(inv_fg_processed_unsorted,\n",
    "                          key=lambda k: k['name'])\n",
    "\n",
    "inv_fg_processed"
   ]
  },
  {
   "cell_type": "code",
   "execution_count": 41,
   "metadata": {},
   "outputs": [],
   "source": [
    "# functional unit; 25kg of glass to obtain a thickness of 10mm for 1m²:\n",
    "fu_fg = 25\n",
    "# functional unit; 1m²:\n",
    "fu_fg_processed = 1\n",
    "\n",
    "impacts_fg = []\n",
    "\n",
    "for act in inv_fg:\n",
    "    lca = bw.LCA({act: fu_fg})\n",
    "    lca.lci()\n",
    "    for method in methods_small:\n",
    "        lca.switch_method(method)\n",
    "        lca.lcia()\n",
    "        impacts_fg.append((act[\"name\"], act[\"location\"],\n",
    "                           method[1].title(), lca.score,\n",
    "                           bw.methods.get(method).get('unit')))\n",
    "\n",
    "for act in inv_fg_processed:\n",
    "    lca = bw.LCA({act: fu_fg_processed})\n",
    "    lca.lci()\n",
    "    for method in methods_small:\n",
    "        lca.switch_method(method)\n",
    "        lca.lcia()\n",
    "        impacts_fg.append((act[\"name\"], act[\"location\"],\n",
    "                           method[1].title(), lca.score,\n",
    "                           bw.methods.get(method).get('unit')))\n",
    "\n",
    "# impacts_fg"
   ]
  },
  {
   "cell_type": "code",
   "execution_count": 42,
   "metadata": {},
   "outputs": [],
   "source": [
    "df_impacts_fg = pd.DataFrame(impacts_fg, columns=[\"Name\", \"Location\", \"Method\",\n",
    "                                                  \"Score\", \"Unit\"])\n",
    "\n",
    "df_impacts_fg = pd.pivot_table(df_impacts_fg, index=[\"Name\"],\n",
    "                               columns=[\"Method\", \"Unit\"],\n",
    "                               values=\"Score\")"
   ]
  },
  {
   "cell_type": "code",
   "execution_count": 43,
   "metadata": {
    "scrolled": false
   },
   "outputs": [
    {
     "data": {
      "text/html": [
       "<div>\n",
       "<style scoped>\n",
       "    .dataframe tbody tr th:only-of-type {\n",
       "        vertical-align: middle;\n",
       "    }\n",
       "\n",
       "    .dataframe tbody tr th {\n",
       "        vertical-align: top;\n",
       "    }\n",
       "\n",
       "    .dataframe thead tr th {\n",
       "        text-align: left;\n",
       "    }\n",
       "\n",
       "    .dataframe thead tr:last-of-type th {\n",
       "        text-align: right;\n",
       "    }\n",
       "</style>\n",
       "<table border=\"1\" class=\"dataframe\">\n",
       "  <thead>\n",
       "    <tr>\n",
       "      <th>Method</th>\n",
       "      <th>Climate Change</th>\n",
       "      <th colspan=\"4\" halign=\"left\">Ecosystem Quality</th>\n",
       "      <th colspan=\"2\" halign=\"left\">Human Health</th>\n",
       "      <th colspan=\"2\" halign=\"left\">Resources</th>\n",
       "    </tr>\n",
       "    <tr>\n",
       "      <th>Unit</th>\n",
       "      <th>kg CO2-Eq</th>\n",
       "      <th>CTU</th>\n",
       "      <th>kg P-Eq</th>\n",
       "      <th>mol H+-Eq</th>\n",
       "      <th>mol N-Eq</th>\n",
       "      <th>kg CFC-11.</th>\n",
       "      <th>kg NMVOC-.</th>\n",
       "      <th>megajoule</th>\n",
       "      <th>points</th>\n",
       "    </tr>\n",
       "    <tr>\n",
       "      <th>Name</th>\n",
       "      <th></th>\n",
       "      <th></th>\n",
       "      <th></th>\n",
       "      <th></th>\n",
       "      <th></th>\n",
       "      <th></th>\n",
       "      <th></th>\n",
       "      <th></th>\n",
       "      <th></th>\n",
       "    </tr>\n",
       "  </thead>\n",
       "  <tbody>\n",
       "    <tr>\n",
       "      <th>market for flat glass, uncoated</th>\n",
       "      <td>27.51</td>\n",
       "      <td>7.51</td>\n",
       "      <td>0.00</td>\n",
       "      <td>0.23</td>\n",
       "      <td>0.61</td>\n",
       "      <td>0.0</td>\n",
       "      <td>0.15</td>\n",
       "      <td>349.20</td>\n",
       "      <td>146.46</td>\n",
       "    </tr>\n",
       "    <tr>\n",
       "      <th>market for flat glass, coated</th>\n",
       "      <td>29.12</td>\n",
       "      <td>9.58</td>\n",
       "      <td>0.00</td>\n",
       "      <td>0.24</td>\n",
       "      <td>0.64</td>\n",
       "      <td>0.0</td>\n",
       "      <td>0.15</td>\n",
       "      <td>382.46</td>\n",
       "      <td>189.15</td>\n",
       "    </tr>\n",
       "    <tr>\n",
       "      <th>market for tempered safety glass</th>\n",
       "      <td>29.63</td>\n",
       "      <td>7.74</td>\n",
       "      <td>0.00</td>\n",
       "      <td>0.23</td>\n",
       "      <td>0.63</td>\n",
       "      <td>0.0</td>\n",
       "      <td>0.15</td>\n",
       "      <td>382.10</td>\n",
       "      <td>149.70</td>\n",
       "    </tr>\n",
       "    <tr>\n",
       "      <th>market for tempered safety glass, coated</th>\n",
       "      <td>31.27</td>\n",
       "      <td>9.85</td>\n",
       "      <td>0.00</td>\n",
       "      <td>0.25</td>\n",
       "      <td>0.66</td>\n",
       "      <td>0.0</td>\n",
       "      <td>0.16</td>\n",
       "      <td>416.02</td>\n",
       "      <td>193.24</td>\n",
       "    </tr>\n",
       "    <tr>\n",
       "      <th>market for laminated safety glass</th>\n",
       "      <td>37.33</td>\n",
       "      <td>12.78</td>\n",
       "      <td>0.01</td>\n",
       "      <td>0.26</td>\n",
       "      <td>0.70</td>\n",
       "      <td>0.0</td>\n",
       "      <td>0.17</td>\n",
       "      <td>628.82</td>\n",
       "      <td>239.95</td>\n",
       "    </tr>\n",
       "    <tr>\n",
       "      <th>market for laminated safety glass, coated</th>\n",
       "      <td>38.16</td>\n",
       "      <td>13.83</td>\n",
       "      <td>0.01</td>\n",
       "      <td>0.27</td>\n",
       "      <td>0.71</td>\n",
       "      <td>0.0</td>\n",
       "      <td>0.17</td>\n",
       "      <td>645.78</td>\n",
       "      <td>261.72</td>\n",
       "    </tr>\n",
       "    <tr>\n",
       "      <th>market for smart glass</th>\n",
       "      <td>543.25</td>\n",
       "      <td>1339.11</td>\n",
       "      <td>0.04</td>\n",
       "      <td>2.28</td>\n",
       "      <td>7.40</td>\n",
       "      <td>0.0</td>\n",
       "      <td>2.22</td>\n",
       "      <td>8468.86</td>\n",
       "      <td>7924.06</td>\n",
       "    </tr>\n",
       "  </tbody>\n",
       "</table>\n",
       "</div>"
      ],
      "text/plain": [
       "Method                                    Climate Change Ecosystem Quality  \\\n",
       "Unit                                           kg CO2-Eq               CTU   \n",
       "Name                                                                         \n",
       "market for flat glass, uncoated                    27.51              7.51   \n",
       "market for flat glass, coated                      29.12              9.58   \n",
       "market for tempered safety glass                   29.63              7.74   \n",
       "market for tempered safety glass, coated           31.27              9.85   \n",
       "market for laminated safety glass                  37.33             12.78   \n",
       "market for laminated safety glass, coated          38.16             13.83   \n",
       "market for smart glass                            543.25           1339.11   \n",
       "\n",
       "Method                                                                \\\n",
       "Unit                                      kg P-Eq mol H+-Eq mol N-Eq   \n",
       "Name                                                                   \n",
       "market for flat glass, uncoated              0.00      0.23     0.61   \n",
       "market for flat glass, coated                0.00      0.24     0.64   \n",
       "market for tempered safety glass             0.00      0.23     0.63   \n",
       "market for tempered safety glass, coated     0.00      0.25     0.66   \n",
       "market for laminated safety glass            0.01      0.26     0.70   \n",
       "market for laminated safety glass, coated    0.01      0.27     0.71   \n",
       "market for smart glass                       0.04      2.28     7.40   \n",
       "\n",
       "Method                                    Human Health            Resources  \\\n",
       "Unit                                        kg CFC-11. kg NMVOC-. megajoule   \n",
       "Name                                                                          \n",
       "market for flat glass, uncoated                    0.0       0.15    349.20   \n",
       "market for flat glass, coated                      0.0       0.15    382.46   \n",
       "market for tempered safety glass                   0.0       0.15    382.10   \n",
       "market for tempered safety glass, coated           0.0       0.16    416.02   \n",
       "market for laminated safety glass                  0.0       0.17    628.82   \n",
       "market for laminated safety glass, coated          0.0       0.17    645.78   \n",
       "market for smart glass                             0.0       2.22   8468.86   \n",
       "\n",
       "Method                                              \n",
       "Unit                                        points  \n",
       "Name                                                \n",
       "market for flat glass, uncoated             146.46  \n",
       "market for flat glass, coated               189.15  \n",
       "market for tempered safety glass            149.70  \n",
       "market for tempered safety glass, coated    193.24  \n",
       "market for laminated safety glass           239.95  \n",
       "market for laminated safety glass, coated   261.72  \n",
       "market for smart glass                     7924.06  "
      ]
     },
     "execution_count": 43,
     "metadata": {},
     "output_type": "execute_result"
    }
   ],
   "source": [
    "df_impacts_fg = df_impacts_fg.sort_values(\n",
    "    (\"Climate Change\", \"kg CO2-Eq\"), ascending=True)\n",
    "\n",
    "df_impacts_fg.round(2)"
   ]
  },
  {
   "cell_type": "code",
   "execution_count": 44,
   "metadata": {},
   "outputs": [],
   "source": [
    "df_impacts_fg = df_impacts_fg.reset_index()\n",
    "df_impacts_fg['Name'] = (df_impacts_fg['Name']\n",
    "                         .str.replace('market for ', ''))\n",
    "\n",
    "df_impacts_fg = df_impacts_fg.set_index('Name')"
   ]
  },
  {
   "cell_type": "code",
   "execution_count": 45,
   "metadata": {},
   "outputs": [
    {
     "data": {
      "image/png": "[encoded data removed]",
      "text/plain": [
       "<Figure size 504x216 with 1 Axes>"
      ]
     },
     "metadata": {},
     "output_type": "display_data"
    }
   ],
   "source": [
    "fig, ax = plt.subplots(figsize=(7, 3))\n",
    "\n",
    "df_impacts_wo_smartg = df_impacts_fg.drop(\"smart glass\", axis=0)\n",
    "\n",
    "sns.barplot(data=df_impacts_wo_smartg,\n",
    "            x=(\"Climate Change\", \"kg CO2-Eq\"),\n",
    "            y=df_impacts_wo_smartg.index,\n",
    "            color=\"white\", edgecolor=\".2\", linewidth=1.5)\n",
    "\n",
    "ax.yaxis.label.set_visible(False)\n",
    "ax.grid(which='major', axis='x', linestyle=':', linewidth=1)\n",
    "\n",
    "fig.suptitle(\n",
    "    'GWP of different types of glass panes, cradle-to-gate', y=1.1)\n",
    "sns.despine(left=True, offset=5)\n",
    "plt.show()"
   ]
  },
  {
   "cell_type": "code",
   "execution_count": 46,
   "metadata": {},
   "outputs": [
    {
     "data": {
      "text/html": [
       "<div>\n",
       "<style scoped>\n",
       "    .dataframe tbody tr th:only-of-type {\n",
       "        vertical-align: middle;\n",
       "    }\n",
       "\n",
       "    .dataframe tbody tr th {\n",
       "        vertical-align: top;\n",
       "    }\n",
       "\n",
       "    .dataframe thead tr th {\n",
       "        text-align: left;\n",
       "    }\n",
       "\n",
       "    .dataframe thead tr:last-of-type th {\n",
       "        text-align: right;\n",
       "    }\n",
       "</style>\n",
       "<table border=\"1\" class=\"dataframe\">\n",
       "  <thead>\n",
       "    <tr>\n",
       "      <th>Method</th>\n",
       "      <th>Climate Change</th>\n",
       "      <th colspan=\"4\" halign=\"left\">Ecosystem Quality</th>\n",
       "      <th colspan=\"2\" halign=\"left\">Human Health</th>\n",
       "      <th colspan=\"2\" halign=\"left\">Resources</th>\n",
       "    </tr>\n",
       "    <tr>\n",
       "      <th>Unit</th>\n",
       "      <th>kg CO2-Eq</th>\n",
       "      <th>CTU</th>\n",
       "      <th>kg P-Eq</th>\n",
       "      <th>mol H+-Eq</th>\n",
       "      <th>mol N-Eq</th>\n",
       "      <th>kg CFC-11.</th>\n",
       "      <th>kg NMVOC-.</th>\n",
       "      <th>megajoule</th>\n",
       "      <th>points</th>\n",
       "    </tr>\n",
       "    <tr>\n",
       "      <th>Name</th>\n",
       "      <th></th>\n",
       "      <th></th>\n",
       "      <th></th>\n",
       "      <th></th>\n",
       "      <th></th>\n",
       "      <th></th>\n",
       "      <th></th>\n",
       "      <th></th>\n",
       "      <th></th>\n",
       "    </tr>\n",
       "  </thead>\n",
       "  <tbody>\n",
       "    <tr>\n",
       "      <th>flat glass, uncoated</th>\n",
       "      <td>0.72</td>\n",
       "      <td>0.54</td>\n",
       "      <td>0.47</td>\n",
       "      <td>0.84</td>\n",
       "      <td>0.86</td>\n",
       "      <td>0.49</td>\n",
       "      <td>0.84</td>\n",
       "      <td>0.54</td>\n",
       "      <td>0.56</td>\n",
       "    </tr>\n",
       "    <tr>\n",
       "      <th>flat glass, coated</th>\n",
       "      <td>0.76</td>\n",
       "      <td>0.69</td>\n",
       "      <td>0.59</td>\n",
       "      <td>0.89</td>\n",
       "      <td>0.90</td>\n",
       "      <td>0.52</td>\n",
       "      <td>0.88</td>\n",
       "      <td>0.59</td>\n",
       "      <td>0.72</td>\n",
       "    </tr>\n",
       "    <tr>\n",
       "      <th>tempered safety glass</th>\n",
       "      <td>0.78</td>\n",
       "      <td>0.56</td>\n",
       "      <td>0.49</td>\n",
       "      <td>0.86</td>\n",
       "      <td>0.88</td>\n",
       "      <td>0.54</td>\n",
       "      <td>0.86</td>\n",
       "      <td>0.59</td>\n",
       "      <td>0.57</td>\n",
       "    </tr>\n",
       "    <tr>\n",
       "      <th>tempered safety glass, coated</th>\n",
       "      <td>0.82</td>\n",
       "      <td>0.71</td>\n",
       "      <td>0.61</td>\n",
       "      <td>0.91</td>\n",
       "      <td>0.93</td>\n",
       "      <td>0.57</td>\n",
       "      <td>0.90</td>\n",
       "      <td>0.64</td>\n",
       "      <td>0.74</td>\n",
       "    </tr>\n",
       "    <tr>\n",
       "      <th>laminated safety glass</th>\n",
       "      <td>0.98</td>\n",
       "      <td>0.92</td>\n",
       "      <td>0.94</td>\n",
       "      <td>0.97</td>\n",
       "      <td>0.98</td>\n",
       "      <td>0.99</td>\n",
       "      <td>0.98</td>\n",
       "      <td>0.97</td>\n",
       "      <td>0.92</td>\n",
       "    </tr>\n",
       "    <tr>\n",
       "      <th>laminated safety glass, coated</th>\n",
       "      <td>1.00</td>\n",
       "      <td>1.00</td>\n",
       "      <td>1.00</td>\n",
       "      <td>1.00</td>\n",
       "      <td>1.00</td>\n",
       "      <td>1.00</td>\n",
       "      <td>1.00</td>\n",
       "      <td>1.00</td>\n",
       "      <td>1.00</td>\n",
       "    </tr>\n",
       "  </tbody>\n",
       "</table>\n",
       "</div>"
      ],
      "text/plain": [
       "Method                         Climate Change Ecosystem Quality          \\\n",
       "Unit                                kg CO2-Eq               CTU kg P-Eq   \n",
       "Name                                                                      \n",
       "flat glass, uncoated                     0.72              0.54    0.47   \n",
       "flat glass, coated                       0.76              0.69    0.59   \n",
       "tempered safety glass                    0.78              0.56    0.49   \n",
       "tempered safety glass, coated            0.82              0.71    0.61   \n",
       "laminated safety glass                   0.98              0.92    0.94   \n",
       "laminated safety glass, coated           1.00              1.00    1.00   \n",
       "\n",
       "Method                                            Human Health             \\\n",
       "Unit                           mol H+-Eq mol N-Eq   kg CFC-11. kg NMVOC-.   \n",
       "Name                                                                        \n",
       "flat glass, uncoated                0.84     0.86         0.49       0.84   \n",
       "flat glass, coated                  0.89     0.90         0.52       0.88   \n",
       "tempered safety glass               0.86     0.88         0.54       0.86   \n",
       "tempered safety glass, coated       0.91     0.93         0.57       0.90   \n",
       "laminated safety glass              0.97     0.98         0.99       0.98   \n",
       "laminated safety glass, coated      1.00     1.00         1.00       1.00   \n",
       "\n",
       "Method                         Resources         \n",
       "Unit                           megajoule points  \n",
       "Name                                             \n",
       "flat glass, uncoated                0.54   0.56  \n",
       "flat glass, coated                  0.59   0.72  \n",
       "tempered safety glass               0.59   0.57  \n",
       "tempered safety glass, coated       0.64   0.74  \n",
       "laminated safety glass              0.97   0.92  \n",
       "laminated safety glass, coated      1.00   1.00  "
      ]
     },
     "execution_count": 46,
     "metadata": {},
     "output_type": "execute_result"
    }
   ],
   "source": [
    "df_norm_impacts_wo_smartg = (\n",
    "    df_impacts_wo_smartg / df_impacts_wo_smartg.max()\n",
    ")\n",
    "df_norm_impacts_wo_smartg.round(2)"
   ]
  },
  {
   "cell_type": "code",
   "execution_count": 47,
   "metadata": {},
   "outputs": [
    {
     "data": {
      "image/png": "[encoded data removed]",
      "text/plain": [
       "<Figure size 504x252 with 1 Axes>"
      ]
     },
     "metadata": {},
     "output_type": "display_data"
    }
   ],
   "source": [
    "fig, ax = plt.subplots(figsize=(7, 3.5))\n",
    "\n",
    "sns.barplot(data=df_impacts_fg,\n",
    "            x=(\"Climate Change\", \"kg CO2-Eq\"),\n",
    "            y=df_impacts_fg.index,\n",
    "            color=\"white\", edgecolor=\".2\", linewidth=1.5)\n",
    "\n",
    "ax.yaxis.label.set_visible(False)\n",
    "ax.grid(which='major', axis='x', linestyle=':', linewidth=1)\n",
    "\n",
    "fig.suptitle(\n",
    "    'GWP of different types of glass panes, cradle-to-gate')\n",
    "sns.despine(left=True, offset=5)\n",
    "plt.show()"
   ]
  },
  {
   "cell_type": "code",
   "execution_count": 48,
   "metadata": {},
   "outputs": [
    {
     "data": {
      "text/html": [
       "<div>\n",
       "<style scoped>\n",
       "    .dataframe tbody tr th:only-of-type {\n",
       "        vertical-align: middle;\n",
       "    }\n",
       "\n",
       "    .dataframe tbody tr th {\n",
       "        vertical-align: top;\n",
       "    }\n",
       "\n",
       "    .dataframe thead tr th {\n",
       "        text-align: left;\n",
       "    }\n",
       "\n",
       "    .dataframe thead tr:last-of-type th {\n",
       "        text-align: right;\n",
       "    }\n",
       "</style>\n",
       "<table border=\"1\" class=\"dataframe\">\n",
       "  <thead>\n",
       "    <tr>\n",
       "      <th>Method</th>\n",
       "      <th>Climate Change</th>\n",
       "      <th colspan=\"4\" halign=\"left\">Ecosystem Quality</th>\n",
       "      <th colspan=\"2\" halign=\"left\">Human Health</th>\n",
       "      <th colspan=\"2\" halign=\"left\">Resources</th>\n",
       "    </tr>\n",
       "    <tr>\n",
       "      <th>Unit</th>\n",
       "      <th>kg CO2-Eq</th>\n",
       "      <th>CTU</th>\n",
       "      <th>kg P-Eq</th>\n",
       "      <th>mol H+-Eq</th>\n",
       "      <th>mol N-Eq</th>\n",
       "      <th>kg CFC-11.</th>\n",
       "      <th>kg NMVOC-.</th>\n",
       "      <th>megajoule</th>\n",
       "      <th>points</th>\n",
       "    </tr>\n",
       "    <tr>\n",
       "      <th>Name</th>\n",
       "      <th></th>\n",
       "      <th></th>\n",
       "      <th></th>\n",
       "      <th></th>\n",
       "      <th></th>\n",
       "      <th></th>\n",
       "      <th></th>\n",
       "      <th></th>\n",
       "      <th></th>\n",
       "    </tr>\n",
       "  </thead>\n",
       "  <tbody>\n",
       "    <tr>\n",
       "      <th>flat glass, uncoated</th>\n",
       "      <td>0.05</td>\n",
       "      <td>0.01</td>\n",
       "      <td>0.06</td>\n",
       "      <td>0.10</td>\n",
       "      <td>0.08</td>\n",
       "      <td>0.02</td>\n",
       "      <td>0.07</td>\n",
       "      <td>0.04</td>\n",
       "      <td>0.02</td>\n",
       "    </tr>\n",
       "    <tr>\n",
       "      <th>flat glass, coated</th>\n",
       "      <td>0.05</td>\n",
       "      <td>0.01</td>\n",
       "      <td>0.08</td>\n",
       "      <td>0.11</td>\n",
       "      <td>0.09</td>\n",
       "      <td>0.02</td>\n",
       "      <td>0.07</td>\n",
       "      <td>0.05</td>\n",
       "      <td>0.02</td>\n",
       "    </tr>\n",
       "    <tr>\n",
       "      <th>tempered safety glass</th>\n",
       "      <td>0.05</td>\n",
       "      <td>0.01</td>\n",
       "      <td>0.06</td>\n",
       "      <td>0.10</td>\n",
       "      <td>0.09</td>\n",
       "      <td>0.02</td>\n",
       "      <td>0.07</td>\n",
       "      <td>0.05</td>\n",
       "      <td>0.02</td>\n",
       "    </tr>\n",
       "    <tr>\n",
       "      <th>tempered safety glass, coated</th>\n",
       "      <td>0.06</td>\n",
       "      <td>0.01</td>\n",
       "      <td>0.08</td>\n",
       "      <td>0.11</td>\n",
       "      <td>0.09</td>\n",
       "      <td>0.03</td>\n",
       "      <td>0.07</td>\n",
       "      <td>0.05</td>\n",
       "      <td>0.02</td>\n",
       "    </tr>\n",
       "    <tr>\n",
       "      <th>laminated safety glass</th>\n",
       "      <td>0.07</td>\n",
       "      <td>0.01</td>\n",
       "      <td>0.12</td>\n",
       "      <td>0.12</td>\n",
       "      <td>0.09</td>\n",
       "      <td>0.04</td>\n",
       "      <td>0.08</td>\n",
       "      <td>0.07</td>\n",
       "      <td>0.03</td>\n",
       "    </tr>\n",
       "    <tr>\n",
       "      <th>laminated safety glass, coated</th>\n",
       "      <td>0.07</td>\n",
       "      <td>0.01</td>\n",
       "      <td>0.13</td>\n",
       "      <td>0.12</td>\n",
       "      <td>0.10</td>\n",
       "      <td>0.05</td>\n",
       "      <td>0.08</td>\n",
       "      <td>0.08</td>\n",
       "      <td>0.03</td>\n",
       "    </tr>\n",
       "    <tr>\n",
       "      <th>smart glass</th>\n",
       "      <td>1.00</td>\n",
       "      <td>1.00</td>\n",
       "      <td>1.00</td>\n",
       "      <td>1.00</td>\n",
       "      <td>1.00</td>\n",
       "      <td>1.00</td>\n",
       "      <td>1.00</td>\n",
       "      <td>1.00</td>\n",
       "      <td>1.00</td>\n",
       "    </tr>\n",
       "  </tbody>\n",
       "</table>\n",
       "</div>"
      ],
      "text/plain": [
       "Method                         Climate Change Ecosystem Quality          \\\n",
       "Unit                                kg CO2-Eq               CTU kg P-Eq   \n",
       "Name                                                                      \n",
       "flat glass, uncoated                     0.05              0.01    0.06   \n",
       "flat glass, coated                       0.05              0.01    0.08   \n",
       "tempered safety glass                    0.05              0.01    0.06   \n",
       "tempered safety glass, coated            0.06              0.01    0.08   \n",
       "laminated safety glass                   0.07              0.01    0.12   \n",
       "laminated safety glass, coated           0.07              0.01    0.13   \n",
       "smart glass                              1.00              1.00    1.00   \n",
       "\n",
       "Method                                            Human Health             \\\n",
       "Unit                           mol H+-Eq mol N-Eq   kg CFC-11. kg NMVOC-.   \n",
       "Name                                                                        \n",
       "flat glass, uncoated                0.10     0.08         0.02       0.07   \n",
       "flat glass, coated                  0.11     0.09         0.02       0.07   \n",
       "tempered safety glass               0.10     0.09         0.02       0.07   \n",
       "tempered safety glass, coated       0.11     0.09         0.03       0.07   \n",
       "laminated safety glass              0.12     0.09         0.04       0.08   \n",
       "laminated safety glass, coated      0.12     0.10         0.05       0.08   \n",
       "smart glass                         1.00     1.00         1.00       1.00   \n",
       "\n",
       "Method                         Resources         \n",
       "Unit                           megajoule points  \n",
       "Name                                             \n",
       "flat glass, uncoated                0.04   0.02  \n",
       "flat glass, coated                  0.05   0.02  \n",
       "tempered safety glass               0.05   0.02  \n",
       "tempered safety glass, coated       0.05   0.02  \n",
       "laminated safety glass              0.07   0.03  \n",
       "laminated safety glass, coated      0.08   0.03  \n",
       "smart glass                         1.00   1.00  "
      ]
     },
     "execution_count": 48,
     "metadata": {},
     "output_type": "execute_result"
    }
   ],
   "source": [
    "df_norm_impacts_fg = df_impacts_fg / df_impacts_fg.max()\n",
    "df_norm_impacts_fg.round(2)"
   ]
  },
  {
   "cell_type": "markdown",
   "metadata": {},
   "source": [
    "**Same calculation, but using the MultiLCA class:**"
   ]
  },
  {
   "cell_type": "code",
   "execution_count": 49,
   "metadata": {},
   "outputs": [
    {
     "data": {
      "text/plain": [
       "[{('exldb_igu', 'market_glass_coated'): 25},\n",
       " {('exldb_igu', 'market_glass_uncoated'): 25},\n",
       " {('exldb_igu', 'market_lsg'): 1},\n",
       " {('exldb_igu', 'market_lsg_coated'): 1},\n",
       " {('exldb_igu', 'market_smartglass'): 1},\n",
       " {('exldb_igu', 'market_tsg'): 1},\n",
       " {('exldb_igu', 'market_tsg_coated'): 1}]"
      ]
     },
     "execution_count": 49,
     "metadata": {},
     "output_type": "execute_result"
    }
   ],
   "source": [
    "# functional unit; 25kg of glass to obtain a thickness of 10mm for 1m²:\n",
    "fu_fg = 25\n",
    "# functional unit; 1m²:\n",
    "fu_fg_processed = 1\n",
    "\n",
    "mlca_syst_fg = []\n",
    "\n",
    "for act in inv_fg:\n",
    "    mlca_syst_fg.append({act.key: fu_fg})\n",
    "\n",
    "for act in inv_fg_processed:\n",
    "    mlca_syst_fg.append({act.key: fu_fg_processed})\n",
    "\n",
    "mlca_syst_fg"
   ]
  },
  {
   "cell_type": "code",
   "execution_count": 50,
   "metadata": {},
   "outputs": [],
   "source": [
    "bw.calculation_setups['calculation_setup'] = {'inv': mlca_syst_fg,\n",
    "                                              'ia': methods_small}\n",
    "\n",
    "mlca = bw.MultiLCA('calculation_setup')\n",
    "df_impacts_mlca_fg = pd.DataFrame(data=mlca.results, columns=mlca.methods)"
   ]
  },
  {
   "cell_type": "code",
   "execution_count": 51,
   "metadata": {},
   "outputs": [],
   "source": [
    "activities = [(get_activity(key), amount)\n",
    "              for dct in mlca.func_units\n",
    "              for key, amount in dct.items()\n",
    "              ]\n",
    "\n",
    "df_fu = pd.DataFrame([(x['name'], x['database'], x['code'],\n",
    "                       x['location'], x['unit'], y)\n",
    "                      for x, y in activities],\n",
    "                     columns=('Database', 'Code', 'Name',\n",
    "                              'Location', 'Unit', 'Amount')\n",
    "                     )\n",
    "\n",
    "df_impacts_mlca_fg_expanded = pd.concat(\n",
    "    [df_fu, df_impacts_mlca_fg], axis=1\n",
    ")"
   ]
  },
  {
   "cell_type": "code",
   "execution_count": 52,
   "metadata": {},
   "outputs": [],
   "source": [
    "df_impacts_mlca_fg_expanded = (\n",
    "    df_impacts_mlca_fg_expanded.set_index(\"Name\")\n",
    "    .drop([\"Database\", \"Code\", \"Location\"], axis=1).round(2)\n",
    ")"
   ]
  },
  {
   "cell_type": "code",
   "execution_count": 53,
   "metadata": {},
   "outputs": [
    {
     "data": {
      "text/html": [
       "<div>\n",
       "<style scoped>\n",
       "    .dataframe tbody tr th:only-of-type {\n",
       "        vertical-align: middle;\n",
       "    }\n",
       "\n",
       "    .dataframe tbody tr th {\n",
       "        vertical-align: top;\n",
       "    }\n",
       "\n",
       "    .dataframe thead th {\n",
       "        text-align: right;\n",
       "    }\n",
       "</style>\n",
       "<table border=\"1\" class=\"dataframe\">\n",
       "  <thead>\n",
       "    <tr style=\"text-align: right;\">\n",
       "      <th></th>\n",
       "      <th>Unit</th>\n",
       "      <th>Amount</th>\n",
       "      <th>(ILCD 2.0 2018 midpoint, climate change, climate change total)</th>\n",
       "      <th>(ILCD 2.0 2018 midpoint, ecosystem quality, freshwater ecotoxicity)</th>\n",
       "      <th>(ILCD 2.0 2018 midpoint, ecosystem quality, freshwater and terrestrial acidification)</th>\n",
       "      <th>(ILCD 2.0 2018 midpoint, ecosystem quality, freshwater eutrophication)</th>\n",
       "      <th>(ILCD 2.0 2018 midpoint, ecosystem quality, terrestrial eutrophication)</th>\n",
       "      <th>(ILCD 2.0 2018 midpoint, human health, ozone layer depletion)</th>\n",
       "      <th>(ILCD 2.0 2018 midpoint, human health, photochemical ozone creation)</th>\n",
       "      <th>(ILCD 2.0 2018 midpoint, resources, fossils)</th>\n",
       "      <th>(ILCD 2.0 2018 midpoint, resources, land use)</th>\n",
       "    </tr>\n",
       "    <tr>\n",
       "      <th>Name</th>\n",
       "      <th></th>\n",
       "      <th></th>\n",
       "      <th></th>\n",
       "      <th></th>\n",
       "      <th></th>\n",
       "      <th></th>\n",
       "      <th></th>\n",
       "      <th></th>\n",
       "      <th></th>\n",
       "      <th></th>\n",
       "      <th></th>\n",
       "    </tr>\n",
       "  </thead>\n",
       "  <tbody>\n",
       "    <tr>\n",
       "      <th>market_glass_uncoated</th>\n",
       "      <td>kilogram</td>\n",
       "      <td>25</td>\n",
       "      <td>27.51</td>\n",
       "      <td>7.51</td>\n",
       "      <td>0.23</td>\n",
       "      <td>0.00</td>\n",
       "      <td>0.61</td>\n",
       "      <td>0.0</td>\n",
       "      <td>0.15</td>\n",
       "      <td>349.20</td>\n",
       "      <td>146.46</td>\n",
       "    </tr>\n",
       "    <tr>\n",
       "      <th>market_glass_coated</th>\n",
       "      <td>kilogram</td>\n",
       "      <td>25</td>\n",
       "      <td>29.12</td>\n",
       "      <td>9.58</td>\n",
       "      <td>0.24</td>\n",
       "      <td>0.00</td>\n",
       "      <td>0.64</td>\n",
       "      <td>0.0</td>\n",
       "      <td>0.15</td>\n",
       "      <td>382.46</td>\n",
       "      <td>189.15</td>\n",
       "    </tr>\n",
       "    <tr>\n",
       "      <th>market_tsg</th>\n",
       "      <td>square meter</td>\n",
       "      <td>1</td>\n",
       "      <td>29.63</td>\n",
       "      <td>7.74</td>\n",
       "      <td>0.23</td>\n",
       "      <td>0.00</td>\n",
       "      <td>0.63</td>\n",
       "      <td>0.0</td>\n",
       "      <td>0.15</td>\n",
       "      <td>382.10</td>\n",
       "      <td>149.70</td>\n",
       "    </tr>\n",
       "    <tr>\n",
       "      <th>market_tsg_coated</th>\n",
       "      <td>square meter</td>\n",
       "      <td>1</td>\n",
       "      <td>31.27</td>\n",
       "      <td>9.85</td>\n",
       "      <td>0.25</td>\n",
       "      <td>0.00</td>\n",
       "      <td>0.66</td>\n",
       "      <td>0.0</td>\n",
       "      <td>0.16</td>\n",
       "      <td>416.02</td>\n",
       "      <td>193.24</td>\n",
       "    </tr>\n",
       "    <tr>\n",
       "      <th>market_lsg</th>\n",
       "      <td>square meter</td>\n",
       "      <td>1</td>\n",
       "      <td>37.33</td>\n",
       "      <td>12.78</td>\n",
       "      <td>0.26</td>\n",
       "      <td>0.01</td>\n",
       "      <td>0.70</td>\n",
       "      <td>0.0</td>\n",
       "      <td>0.17</td>\n",
       "      <td>628.82</td>\n",
       "      <td>239.95</td>\n",
       "    </tr>\n",
       "    <tr>\n",
       "      <th>market_lsg_coated</th>\n",
       "      <td>square meter</td>\n",
       "      <td>1</td>\n",
       "      <td>38.16</td>\n",
       "      <td>13.83</td>\n",
       "      <td>0.27</td>\n",
       "      <td>0.01</td>\n",
       "      <td>0.71</td>\n",
       "      <td>0.0</td>\n",
       "      <td>0.17</td>\n",
       "      <td>645.78</td>\n",
       "      <td>261.72</td>\n",
       "    </tr>\n",
       "    <tr>\n",
       "      <th>market_smartglass</th>\n",
       "      <td>square meter</td>\n",
       "      <td>1</td>\n",
       "      <td>543.25</td>\n",
       "      <td>1339.11</td>\n",
       "      <td>2.28</td>\n",
       "      <td>0.04</td>\n",
       "      <td>7.40</td>\n",
       "      <td>0.0</td>\n",
       "      <td>2.22</td>\n",
       "      <td>8468.86</td>\n",
       "      <td>7924.06</td>\n",
       "    </tr>\n",
       "  </tbody>\n",
       "</table>\n",
       "</div>"
      ],
      "text/plain": [
       "                               Unit  Amount  \\\n",
       "Name                                          \n",
       "market_glass_uncoated      kilogram      25   \n",
       "market_glass_coated        kilogram      25   \n",
       "market_tsg             square meter       1   \n",
       "market_tsg_coated      square meter       1   \n",
       "market_lsg             square meter       1   \n",
       "market_lsg_coated      square meter       1   \n",
       "market_smartglass      square meter       1   \n",
       "\n",
       "                       (ILCD 2.0 2018 midpoint, climate change, climate change total)  \\\n",
       "Name                                                                                    \n",
       "market_glass_uncoated                                              27.51                \n",
       "market_glass_coated                                                29.12                \n",
       "market_tsg                                                         29.63                \n",
       "market_tsg_coated                                                  31.27                \n",
       "market_lsg                                                         37.33                \n",
       "market_lsg_coated                                                  38.16                \n",
       "market_smartglass                                                 543.25                \n",
       "\n",
       "                       (ILCD 2.0 2018 midpoint, ecosystem quality, freshwater ecotoxicity)  \\\n",
       "Name                                                                                         \n",
       "market_glass_uncoated                                               7.51                     \n",
       "market_glass_coated                                                 9.58                     \n",
       "market_tsg                                                          7.74                     \n",
       "market_tsg_coated                                                   9.85                     \n",
       "market_lsg                                                         12.78                     \n",
       "market_lsg_coated                                                  13.83                     \n",
       "market_smartglass                                                1339.11                     \n",
       "\n",
       "                       (ILCD 2.0 2018 midpoint, ecosystem quality, freshwater and terrestrial acidification)  \\\n",
       "Name                                                                                                           \n",
       "market_glass_uncoated                                               0.23                                       \n",
       "market_glass_coated                                                 0.24                                       \n",
       "market_tsg                                                          0.23                                       \n",
       "market_tsg_coated                                                   0.25                                       \n",
       "market_lsg                                                          0.26                                       \n",
       "market_lsg_coated                                                   0.27                                       \n",
       "market_smartglass                                                   2.28                                       \n",
       "\n",
       "                       (ILCD 2.0 2018 midpoint, ecosystem quality, freshwater eutrophication)  \\\n",
       "Name                                                                                            \n",
       "market_glass_uncoated                                               0.00                        \n",
       "market_glass_coated                                                 0.00                        \n",
       "market_tsg                                                          0.00                        \n",
       "market_tsg_coated                                                   0.00                        \n",
       "market_lsg                                                          0.01                        \n",
       "market_lsg_coated                                                   0.01                        \n",
       "market_smartglass                                                   0.04                        \n",
       "\n",
       "                       (ILCD 2.0 2018 midpoint, ecosystem quality, terrestrial eutrophication)  \\\n",
       "Name                                                                                             \n",
       "market_glass_uncoated                                               0.61                         \n",
       "market_glass_coated                                                 0.64                         \n",
       "market_tsg                                                          0.63                         \n",
       "market_tsg_coated                                                   0.66                         \n",
       "market_lsg                                                          0.70                         \n",
       "market_lsg_coated                                                   0.71                         \n",
       "market_smartglass                                                   7.40                         \n",
       "\n",
       "                       (ILCD 2.0 2018 midpoint, human health, ozone layer depletion)  \\\n",
       "Name                                                                                   \n",
       "market_glass_uncoated                                                0.0               \n",
       "market_glass_coated                                                  0.0               \n",
       "market_tsg                                                           0.0               \n",
       "market_tsg_coated                                                    0.0               \n",
       "market_lsg                                                           0.0               \n",
       "market_lsg_coated                                                    0.0               \n",
       "market_smartglass                                                    0.0               \n",
       "\n",
       "                       (ILCD 2.0 2018 midpoint, human health, photochemical ozone creation)  \\\n",
       "Name                                                                                          \n",
       "market_glass_uncoated                                               0.15                      \n",
       "market_glass_coated                                                 0.15                      \n",
       "market_tsg                                                          0.15                      \n",
       "market_tsg_coated                                                   0.16                      \n",
       "market_lsg                                                          0.17                      \n",
       "market_lsg_coated                                                   0.17                      \n",
       "market_smartglass                                                   2.22                      \n",
       "\n",
       "                       (ILCD 2.0 2018 midpoint, resources, fossils)  \\\n",
       "Name                                                                  \n",
       "market_glass_uncoated                                        349.20   \n",
       "market_glass_coated                                          382.46   \n",
       "market_tsg                                                   382.10   \n",
       "market_tsg_coated                                            416.02   \n",
       "market_lsg                                                   628.82   \n",
       "market_lsg_coated                                            645.78   \n",
       "market_smartglass                                           8468.86   \n",
       "\n",
       "                       (ILCD 2.0 2018 midpoint, resources, land use)  \n",
       "Name                                                                  \n",
       "market_glass_uncoated                                         146.46  \n",
       "market_glass_coated                                           189.15  \n",
       "market_tsg                                                    149.70  \n",
       "market_tsg_coated                                             193.24  \n",
       "market_lsg                                                    239.95  \n",
       "market_lsg_coated                                             261.72  \n",
       "market_smartglass                                            7924.06  "
      ]
     },
     "execution_count": 53,
     "metadata": {},
     "output_type": "execute_result"
    }
   ],
   "source": [
    "df_impacts_mlca_fg_expanded.sort_values(\n",
    "    by=[('ILCD 2.0 2018 midpoint', 'climate change', 'climate change total')],\n",
    "    ascending=True)"
   ]
  },
  {
   "cell_type": "markdown",
   "metadata": {},
   "source": [
    "## Analysis of the Impact of Different Types of Spacers, Sealants and Insulating Gases, Cradle-to-Gate"
   ]
  },
  {
   "cell_type": "markdown",
   "metadata": {},
   "source": [
    "**Comparative analysis of different spacers:**"
   ]
  },
  {
   "cell_type": "code",
   "execution_count": 54,
   "metadata": {},
   "outputs": [],
   "source": [
    "inv_spacers = [act for act in bw.Database(\"exldb_spacers\")\n",
    "               if 'krypton' not in act['name']\n",
    "               and 'xenon' not in act['name']\n",
    "               and 'air' not in act['name']]\n",
    "\n",
    "fu_spacers = [{igu: 1} for igu in inv_spacers]"
   ]
  },
  {
   "cell_type": "code",
   "execution_count": 55,
   "metadata": {
    "scrolled": true
   },
   "outputs": [],
   "source": [
    "impacts_spacers = []\n",
    "\n",
    "for igu in inv_spacers:\n",
    "    lca = bw.LCA({igu: 1})\n",
    "    lca.lci()\n",
    "    for method in methods_small:\n",
    "        lca.switch_method(method)\n",
    "        lca.lcia()\n",
    "        impacts_spacers.append((igu[\"name\"], igu[\"location\"],\n",
    "                                method[1].title(), lca.score,\n",
    "                                bw.methods.get(method).get('unit')))\n",
    "\n",
    "# impacts_spacers"
   ]
  },
  {
   "cell_type": "code",
   "execution_count": 56,
   "metadata": {
    "scrolled": false
   },
   "outputs": [],
   "source": [
    "df_impacts_spacers = pd.DataFrame(\n",
    "    impacts_spacers,\n",
    "    columns=[\"Name\", \"Location\", \"Method\", \"Score\", \"Unit\"]\n",
    ")\n",
    "\n",
    "df_impacts_spacers = pd.pivot_table(\n",
    "    df_impacts_spacers, index=[\"Name\"],\n",
    "    columns=[\"Method\", \"Unit\"], values=\"Score\"\n",
    ")"
   ]
  },
  {
   "cell_type": "code",
   "execution_count": 57,
   "metadata": {},
   "outputs": [],
   "source": [
    "df_impacts_spacers = df_impacts_spacers.sort_values(\n",
    "    (\"Climate Change\", \"kg CO2-Eq\"), ascending=True\n",
    ")\n",
    "\n",
    "df_impacts_spacers = df_impacts_spacers.reset_index()\n",
    "df_impacts_spacers['Name'] = (df_impacts_spacers['Name']\n",
    "                              .str.replace('double glazing production, ', '')\n",
    "                              .str.replace(', argon', ''))\n",
    "\n",
    "df_impacts_spacers = df_impacts_spacers.set_index('Name')"
   ]
  },
  {
   "cell_type": "code",
   "execution_count": 58,
   "metadata": {},
   "outputs": [
    {
     "data": {
      "text/html": [
       "<div>\n",
       "<style scoped>\n",
       "    .dataframe tbody tr th:only-of-type {\n",
       "        vertical-align: middle;\n",
       "    }\n",
       "\n",
       "    .dataframe tbody tr th {\n",
       "        vertical-align: top;\n",
       "    }\n",
       "\n",
       "    .dataframe thead tr th {\n",
       "        text-align: left;\n",
       "    }\n",
       "\n",
       "    .dataframe thead tr:last-of-type th {\n",
       "        text-align: right;\n",
       "    }\n",
       "</style>\n",
       "<table border=\"1\" class=\"dataframe\">\n",
       "  <thead>\n",
       "    <tr>\n",
       "      <th>Method</th>\n",
       "      <th>Climate Change</th>\n",
       "      <th colspan=\"4\" halign=\"left\">Ecosystem Quality</th>\n",
       "      <th colspan=\"2\" halign=\"left\">Human Health</th>\n",
       "      <th colspan=\"2\" halign=\"left\">Resources</th>\n",
       "    </tr>\n",
       "    <tr>\n",
       "      <th>Unit</th>\n",
       "      <th>kg CO2-Eq</th>\n",
       "      <th>CTU</th>\n",
       "      <th>kg P-Eq</th>\n",
       "      <th>mol H+-Eq</th>\n",
       "      <th>mol N-Eq</th>\n",
       "      <th>kg CFC-11.</th>\n",
       "      <th>kg NMVOC-.</th>\n",
       "      <th>megajoule</th>\n",
       "      <th>points</th>\n",
       "    </tr>\n",
       "    <tr>\n",
       "      <th>Name</th>\n",
       "      <th></th>\n",
       "      <th></th>\n",
       "      <th></th>\n",
       "      <th></th>\n",
       "      <th></th>\n",
       "      <th></th>\n",
       "      <th></th>\n",
       "      <th></th>\n",
       "      <th></th>\n",
       "    </tr>\n",
       "  </thead>\n",
       "  <tbody>\n",
       "    <tr>\n",
       "      <th>composite with corrugated metal</th>\n",
       "      <td>47.02</td>\n",
       "      <td>14.81</td>\n",
       "      <td>0.01</td>\n",
       "      <td>0.38</td>\n",
       "      <td>1.02</td>\n",
       "      <td>0.0</td>\n",
       "      <td>0.24</td>\n",
       "      <td>644.73</td>\n",
       "      <td>284.57</td>\n",
       "    </tr>\n",
       "    <tr>\n",
       "      <th>epdm foam</th>\n",
       "      <td>47.11</td>\n",
       "      <td>15.31</td>\n",
       "      <td>0.01</td>\n",
       "      <td>0.38</td>\n",
       "      <td>1.02</td>\n",
       "      <td>0.0</td>\n",
       "      <td>0.24</td>\n",
       "      <td>636.86</td>\n",
       "      <td>287.71</td>\n",
       "    </tr>\n",
       "    <tr>\n",
       "      <th>single-seal aluminium</th>\n",
       "      <td>47.23</td>\n",
       "      <td>17.50</td>\n",
       "      <td>0.01</td>\n",
       "      <td>0.38</td>\n",
       "      <td>1.02</td>\n",
       "      <td>0.0</td>\n",
       "      <td>0.24</td>\n",
       "      <td>634.99</td>\n",
       "      <td>290.38</td>\n",
       "    </tr>\n",
       "    <tr>\n",
       "      <th>dual-seal aluminium</th>\n",
       "      <td>47.31</td>\n",
       "      <td>17.57</td>\n",
       "      <td>0.01</td>\n",
       "      <td>0.38</td>\n",
       "      <td>1.03</td>\n",
       "      <td>0.0</td>\n",
       "      <td>0.24</td>\n",
       "      <td>637.45</td>\n",
       "      <td>291.08</td>\n",
       "    </tr>\n",
       "    <tr>\n",
       "      <th>dual-seal steel</th>\n",
       "      <td>47.32</td>\n",
       "      <td>17.81</td>\n",
       "      <td>0.01</td>\n",
       "      <td>0.38</td>\n",
       "      <td>1.03</td>\n",
       "      <td>0.0</td>\n",
       "      <td>0.24</td>\n",
       "      <td>637.49</td>\n",
       "      <td>291.33</td>\n",
       "    </tr>\n",
       "    <tr>\n",
       "      <th>thermally broken aluminium</th>\n",
       "      <td>47.48</td>\n",
       "      <td>17.58</td>\n",
       "      <td>0.01</td>\n",
       "      <td>0.38</td>\n",
       "      <td>1.03</td>\n",
       "      <td>0.0</td>\n",
       "      <td>0.25</td>\n",
       "      <td>641.65</td>\n",
       "      <td>291.87</td>\n",
       "    </tr>\n",
       "    <tr>\n",
       "      <th>thermoplastic PIB</th>\n",
       "      <td>47.57</td>\n",
       "      <td>15.64</td>\n",
       "      <td>0.01</td>\n",
       "      <td>0.38</td>\n",
       "      <td>1.03</td>\n",
       "      <td>0.0</td>\n",
       "      <td>0.24</td>\n",
       "      <td>643.67</td>\n",
       "      <td>293.18</td>\n",
       "    </tr>\n",
       "    <tr>\n",
       "      <th>slicone foam</th>\n",
       "      <td>48.79</td>\n",
       "      <td>16.10</td>\n",
       "      <td>0.01</td>\n",
       "      <td>0.39</td>\n",
       "      <td>1.04</td>\n",
       "      <td>0.0</td>\n",
       "      <td>0.25</td>\n",
       "      <td>666.35</td>\n",
       "      <td>301.75</td>\n",
       "    </tr>\n",
       "    <tr>\n",
       "      <th>dual-seal composite plastic</th>\n",
       "      <td>60.87</td>\n",
       "      <td>20.15</td>\n",
       "      <td>0.01</td>\n",
       "      <td>0.46</td>\n",
       "      <td>1.15</td>\n",
       "      <td>0.0</td>\n",
       "      <td>0.28</td>\n",
       "      <td>832.85</td>\n",
       "      <td>383.12</td>\n",
       "    </tr>\n",
       "  </tbody>\n",
       "</table>\n",
       "</div>"
      ],
      "text/plain": [
       "Method                          Climate Change Ecosystem Quality          \\\n",
       "Unit                                 kg CO2-Eq               CTU kg P-Eq   \n",
       "Name                                                                       \n",
       "composite with corrugated metal          47.02             14.81    0.01   \n",
       "epdm foam                                47.11             15.31    0.01   \n",
       "single-seal aluminium                    47.23             17.50    0.01   \n",
       "dual-seal aluminium                      47.31             17.57    0.01   \n",
       "dual-seal steel                          47.32             17.81    0.01   \n",
       "thermally broken aluminium               47.48             17.58    0.01   \n",
       "thermoplastic PIB                        47.57             15.64    0.01   \n",
       "slicone foam                             48.79             16.10    0.01   \n",
       "dual-seal composite plastic              60.87             20.15    0.01   \n",
       "\n",
       "Method                                             Human Health             \\\n",
       "Unit                            mol H+-Eq mol N-Eq   kg CFC-11. kg NMVOC-.   \n",
       "Name                                                                         \n",
       "composite with corrugated metal      0.38     1.02          0.0       0.24   \n",
       "epdm foam                            0.38     1.02          0.0       0.24   \n",
       "single-seal aluminium                0.38     1.02          0.0       0.24   \n",
       "dual-seal aluminium                  0.38     1.03          0.0       0.24   \n",
       "dual-seal steel                      0.38     1.03          0.0       0.24   \n",
       "thermally broken aluminium           0.38     1.03          0.0       0.25   \n",
       "thermoplastic PIB                    0.38     1.03          0.0       0.24   \n",
       "slicone foam                         0.39     1.04          0.0       0.25   \n",
       "dual-seal composite plastic          0.46     1.15          0.0       0.28   \n",
       "\n",
       "Method                          Resources          \n",
       "Unit                            megajoule  points  \n",
       "Name                                               \n",
       "composite with corrugated metal    644.73  284.57  \n",
       "epdm foam                          636.86  287.71  \n",
       "single-seal aluminium              634.99  290.38  \n",
       "dual-seal aluminium                637.45  291.08  \n",
       "dual-seal steel                    637.49  291.33  \n",
       "thermally broken aluminium         641.65  291.87  \n",
       "thermoplastic PIB                  643.67  293.18  \n",
       "slicone foam                       666.35  301.75  \n",
       "dual-seal composite plastic        832.85  383.12  "
      ]
     },
     "execution_count": 58,
     "metadata": {},
     "output_type": "execute_result"
    }
   ],
   "source": [
    "df_impacts_spacers.round(2)"
   ]
  },
  {
   "cell_type": "code",
   "execution_count": 59,
   "metadata": {},
   "outputs": [
    {
     "data": {
      "image/png": "[encoded data removed]",
      "text/plain": [
       "<Figure size 504x288 with 1 Axes>"
      ]
     },
     "metadata": {},
     "output_type": "display_data"
    }
   ],
   "source": [
    "fig, ax = plt.subplots(figsize=(7, 4))\n",
    "\n",
    "sns.barplot(data=df_impacts_spacers,\n",
    "            x=(\"Climate Change\", \"kg CO2-Eq\"),\n",
    "            y=df_impacts_spacers.index,\n",
    "            color=\"white\", edgecolor=\".2\", linewidth=1.5)\n",
    "\n",
    "ax.yaxis.label.set_visible(False)\n",
    "ax.grid(which='major', axis='x', linestyle=':', linewidth=1)\n",
    "\n",
    "fig.suptitle(\n",
    "    'GWP of double glazing according to spacer types, cradle-to-gate')\n",
    "sns.despine(left=True, offset=5)\n",
    "plt.show()"
   ]
  },
  {
   "cell_type": "code",
   "execution_count": 60,
   "metadata": {},
   "outputs": [
    {
     "data": {
      "text/html": [
       "<div>\n",
       "<style scoped>\n",
       "    .dataframe tbody tr th:only-of-type {\n",
       "        vertical-align: middle;\n",
       "    }\n",
       "\n",
       "    .dataframe tbody tr th {\n",
       "        vertical-align: top;\n",
       "    }\n",
       "\n",
       "    .dataframe thead tr th {\n",
       "        text-align: left;\n",
       "    }\n",
       "\n",
       "    .dataframe thead tr:last-of-type th {\n",
       "        text-align: right;\n",
       "    }\n",
       "</style>\n",
       "<table border=\"1\" class=\"dataframe\">\n",
       "  <thead>\n",
       "    <tr>\n",
       "      <th>Method</th>\n",
       "      <th>Climate Change</th>\n",
       "      <th colspan=\"4\" halign=\"left\">Ecosystem Quality</th>\n",
       "      <th colspan=\"2\" halign=\"left\">Human Health</th>\n",
       "      <th colspan=\"2\" halign=\"left\">Resources</th>\n",
       "    </tr>\n",
       "    <tr>\n",
       "      <th>Unit</th>\n",
       "      <th>kg CO2-Eq</th>\n",
       "      <th>CTU</th>\n",
       "      <th>kg P-Eq</th>\n",
       "      <th>mol H+-Eq</th>\n",
       "      <th>mol N-Eq</th>\n",
       "      <th>kg CFC-11.</th>\n",
       "      <th>kg NMVOC-.</th>\n",
       "      <th>megajoule</th>\n",
       "      <th>points</th>\n",
       "    </tr>\n",
       "    <tr>\n",
       "      <th>Name</th>\n",
       "      <th></th>\n",
       "      <th></th>\n",
       "      <th></th>\n",
       "      <th></th>\n",
       "      <th></th>\n",
       "      <th></th>\n",
       "      <th></th>\n",
       "      <th></th>\n",
       "      <th></th>\n",
       "    </tr>\n",
       "  </thead>\n",
       "  <tbody>\n",
       "    <tr>\n",
       "      <th>composite with corrugated metal</th>\n",
       "      <td>0.77</td>\n",
       "      <td>0.74</td>\n",
       "      <td>0.51</td>\n",
       "      <td>0.83</td>\n",
       "      <td>0.89</td>\n",
       "      <td>0.83</td>\n",
       "      <td>0.87</td>\n",
       "      <td>0.77</td>\n",
       "      <td>0.74</td>\n",
       "    </tr>\n",
       "    <tr>\n",
       "      <th>epdm foam</th>\n",
       "      <td>0.77</td>\n",
       "      <td>0.76</td>\n",
       "      <td>0.52</td>\n",
       "      <td>0.83</td>\n",
       "      <td>0.89</td>\n",
       "      <td>0.85</td>\n",
       "      <td>0.87</td>\n",
       "      <td>0.76</td>\n",
       "      <td>0.75</td>\n",
       "    </tr>\n",
       "    <tr>\n",
       "      <th>single-seal aluminium</th>\n",
       "      <td>0.78</td>\n",
       "      <td>0.87</td>\n",
       "      <td>0.53</td>\n",
       "      <td>0.84</td>\n",
       "      <td>0.89</td>\n",
       "      <td>0.85</td>\n",
       "      <td>0.87</td>\n",
       "      <td>0.76</td>\n",
       "      <td>0.76</td>\n",
       "    </tr>\n",
       "    <tr>\n",
       "      <th>dual-seal aluminium</th>\n",
       "      <td>0.78</td>\n",
       "      <td>0.87</td>\n",
       "      <td>0.53</td>\n",
       "      <td>0.84</td>\n",
       "      <td>0.90</td>\n",
       "      <td>0.85</td>\n",
       "      <td>0.87</td>\n",
       "      <td>0.77</td>\n",
       "      <td>0.76</td>\n",
       "    </tr>\n",
       "    <tr>\n",
       "      <th>dual-seal steel</th>\n",
       "      <td>0.78</td>\n",
       "      <td>0.88</td>\n",
       "      <td>0.53</td>\n",
       "      <td>0.84</td>\n",
       "      <td>0.90</td>\n",
       "      <td>0.85</td>\n",
       "      <td>0.87</td>\n",
       "      <td>0.77</td>\n",
       "      <td>0.76</td>\n",
       "    </tr>\n",
       "    <tr>\n",
       "      <th>thermally broken aluminium</th>\n",
       "      <td>0.78</td>\n",
       "      <td>0.87</td>\n",
       "      <td>0.54</td>\n",
       "      <td>0.84</td>\n",
       "      <td>0.90</td>\n",
       "      <td>0.85</td>\n",
       "      <td>0.88</td>\n",
       "      <td>0.77</td>\n",
       "      <td>0.76</td>\n",
       "    </tr>\n",
       "    <tr>\n",
       "      <th>thermoplastic PIB</th>\n",
       "      <td>0.78</td>\n",
       "      <td>0.78</td>\n",
       "      <td>0.54</td>\n",
       "      <td>0.84</td>\n",
       "      <td>0.90</td>\n",
       "      <td>0.92</td>\n",
       "      <td>0.87</td>\n",
       "      <td>0.77</td>\n",
       "      <td>0.77</td>\n",
       "    </tr>\n",
       "    <tr>\n",
       "      <th>slicone foam</th>\n",
       "      <td>0.80</td>\n",
       "      <td>0.80</td>\n",
       "      <td>0.57</td>\n",
       "      <td>0.85</td>\n",
       "      <td>0.90</td>\n",
       "      <td>1.00</td>\n",
       "      <td>0.89</td>\n",
       "      <td>0.80</td>\n",
       "      <td>0.79</td>\n",
       "    </tr>\n",
       "    <tr>\n",
       "      <th>dual-seal composite plastic</th>\n",
       "      <td>1.00</td>\n",
       "      <td>1.00</td>\n",
       "      <td>1.00</td>\n",
       "      <td>1.00</td>\n",
       "      <td>1.00</td>\n",
       "      <td>0.99</td>\n",
       "      <td>1.00</td>\n",
       "      <td>1.00</td>\n",
       "      <td>1.00</td>\n",
       "    </tr>\n",
       "  </tbody>\n",
       "</table>\n",
       "</div>"
      ],
      "text/plain": [
       "Method                          Climate Change Ecosystem Quality          \\\n",
       "Unit                                 kg CO2-Eq               CTU kg P-Eq   \n",
       "Name                                                                       \n",
       "composite with corrugated metal           0.77              0.74    0.51   \n",
       "epdm foam                                 0.77              0.76    0.52   \n",
       "single-seal aluminium                     0.78              0.87    0.53   \n",
       "dual-seal aluminium                       0.78              0.87    0.53   \n",
       "dual-seal steel                           0.78              0.88    0.53   \n",
       "thermally broken aluminium                0.78              0.87    0.54   \n",
       "thermoplastic PIB                         0.78              0.78    0.54   \n",
       "slicone foam                              0.80              0.80    0.57   \n",
       "dual-seal composite plastic               1.00              1.00    1.00   \n",
       "\n",
       "Method                                             Human Health             \\\n",
       "Unit                            mol H+-Eq mol N-Eq   kg CFC-11. kg NMVOC-.   \n",
       "Name                                                                         \n",
       "composite with corrugated metal      0.83     0.89         0.83       0.87   \n",
       "epdm foam                            0.83     0.89         0.85       0.87   \n",
       "single-seal aluminium                0.84     0.89         0.85       0.87   \n",
       "dual-seal aluminium                  0.84     0.90         0.85       0.87   \n",
       "dual-seal steel                      0.84     0.90         0.85       0.87   \n",
       "thermally broken aluminium           0.84     0.90         0.85       0.88   \n",
       "thermoplastic PIB                    0.84     0.90         0.92       0.87   \n",
       "slicone foam                         0.85     0.90         1.00       0.89   \n",
       "dual-seal composite plastic          1.00     1.00         0.99       1.00   \n",
       "\n",
       "Method                          Resources         \n",
       "Unit                            megajoule points  \n",
       "Name                                              \n",
       "composite with corrugated metal      0.77   0.74  \n",
       "epdm foam                            0.76   0.75  \n",
       "single-seal aluminium                0.76   0.76  \n",
       "dual-seal aluminium                  0.77   0.76  \n",
       "dual-seal steel                      0.77   0.76  \n",
       "thermally broken aluminium           0.77   0.76  \n",
       "thermoplastic PIB                    0.77   0.77  \n",
       "slicone foam                         0.80   0.79  \n",
       "dual-seal composite plastic          1.00   1.00  "
      ]
     },
     "execution_count": 60,
     "metadata": {},
     "output_type": "execute_result"
    }
   ],
   "source": [
    "df_norm_impacts_spacers = df_impacts_spacers / df_impacts_spacers.max()\n",
    "df_norm_impacts_spacers.round(2).sort_values(\n",
    "    (\"Climate Change\", \"kg CO2-Eq\"), ascending=True)"
   ]
  },
  {
   "cell_type": "markdown",
   "metadata": {},
   "source": [
    "**Comparative analysis of different infill gases:**"
   ]
  },
  {
   "cell_type": "code",
   "execution_count": 61,
   "metadata": {},
   "outputs": [
    {
     "data": {
      "text/plain": [
       "[{'double glazing production, thermally broken aluminium, air' (square meter, BE, ('building components/windows',)): 1},\n",
       " {'double glazing production, thermally broken aluminium, argon' (square meter, BE, ('building components/windows',)): 1},\n",
       " {'double glazing production, thermally broken aluminium, krypton' (square meter, BE, ('building components/windows',)): 1},\n",
       " {'double glazing production, thermally broken aluminium, xenon' (square meter, BE, ('building components/windows',)): 1}]"
      ]
     },
     "execution_count": 61,
     "metadata": {},
     "output_type": "execute_result"
    }
   ],
   "source": [
    "inv_gas = [act for act in bw.Database(\"exldb_spacers\")\n",
    "           if 'thermally broken aluminium' in act['name']\n",
    "           ]\n",
    "\n",
    "fu_gas = [{igu: 1} for igu in inv_gas]\n",
    "fu_gas"
   ]
  },
  {
   "cell_type": "code",
   "execution_count": 62,
   "metadata": {
    "scrolled": true
   },
   "outputs": [],
   "source": [
    "impacts_gas = []\n",
    "\n",
    "for igu in inv_gas:\n",
    "    lca = bw.LCA({igu: 1})\n",
    "    lca.lci()\n",
    "    for method in methods_small:\n",
    "        lca.switch_method(method)\n",
    "        lca.lcia()\n",
    "        impacts_gas.append((igu[\"name\"], igu[\"location\"],\n",
    "                            method[1].title(), lca.score,\n",
    "                            bw.methods.get(method).get('unit')))\n",
    "\n",
    "# impacts_gas"
   ]
  },
  {
   "cell_type": "code",
   "execution_count": 63,
   "metadata": {
    "scrolled": false
   },
   "outputs": [],
   "source": [
    "df_impacts_gas = pd.DataFrame(\n",
    "    impacts_gas,\n",
    "    columns=[\"Name\", \"Location\", \"Method\", \"Score\", \"Unit\"]\n",
    ")\n",
    "\n",
    "df_impacts_gas = pd.pivot_table(\n",
    "    df_impacts_gas, index=[\"Name\"],\n",
    "    columns=[\"Method\", \"Unit\"], values=\"Score\"\n",
    ")"
   ]
  },
  {
   "cell_type": "code",
   "execution_count": 64,
   "metadata": {},
   "outputs": [],
   "source": [
    "df_impacts_gas = df_impacts_gas.sort_values(\n",
    "    (\"Climate Change\", \"kg CO2-Eq\"), ascending=True\n",
    ")\n",
    "\n",
    "df_impacts_gas = df_impacts_gas.reset_index()\n",
    "df_impacts_gas['Name'] = (df_impacts_gas['Name']\n",
    "                          .str.replace('double glazing production, ', '')\n",
    "                          )\n",
    "\n",
    "df_impacts_gas = df_impacts_gas.set_index('Name')"
   ]
  },
  {
   "cell_type": "code",
   "execution_count": 65,
   "metadata": {},
   "outputs": [
    {
     "data": {
      "text/html": [
       "<div>\n",
       "<style scoped>\n",
       "    .dataframe tbody tr th:only-of-type {\n",
       "        vertical-align: middle;\n",
       "    }\n",
       "\n",
       "    .dataframe tbody tr th {\n",
       "        vertical-align: top;\n",
       "    }\n",
       "\n",
       "    .dataframe thead tr th {\n",
       "        text-align: left;\n",
       "    }\n",
       "\n",
       "    .dataframe thead tr:last-of-type th {\n",
       "        text-align: right;\n",
       "    }\n",
       "</style>\n",
       "<table border=\"1\" class=\"dataframe\">\n",
       "  <thead>\n",
       "    <tr>\n",
       "      <th>Method</th>\n",
       "      <th>Climate Change</th>\n",
       "      <th colspan=\"4\" halign=\"left\">Ecosystem Quality</th>\n",
       "      <th colspan=\"2\" halign=\"left\">Human Health</th>\n",
       "      <th colspan=\"2\" halign=\"left\">Resources</th>\n",
       "    </tr>\n",
       "    <tr>\n",
       "      <th>Unit</th>\n",
       "      <th>kg CO2-Eq</th>\n",
       "      <th>CTU</th>\n",
       "      <th>kg P-Eq</th>\n",
       "      <th>mol H+-Eq</th>\n",
       "      <th>mol N-Eq</th>\n",
       "      <th>kg CFC-11.</th>\n",
       "      <th>kg NMVOC-.</th>\n",
       "      <th>megajoule</th>\n",
       "      <th>points</th>\n",
       "    </tr>\n",
       "    <tr>\n",
       "      <th>Name</th>\n",
       "      <th></th>\n",
       "      <th></th>\n",
       "      <th></th>\n",
       "      <th></th>\n",
       "      <th></th>\n",
       "      <th></th>\n",
       "      <th></th>\n",
       "      <th></th>\n",
       "      <th></th>\n",
       "    </tr>\n",
       "  </thead>\n",
       "  <tbody>\n",
       "    <tr>\n",
       "      <th>thermally broken aluminium, air</th>\n",
       "      <td>47.41</td>\n",
       "      <td>17.55</td>\n",
       "      <td>0.01</td>\n",
       "      <td>0.38</td>\n",
       "      <td>1.03</td>\n",
       "      <td>0.0</td>\n",
       "      <td>0.24</td>\n",
       "      <td>639.72</td>\n",
       "      <td>291.23</td>\n",
       "    </tr>\n",
       "    <tr>\n",
       "      <th>thermally broken aluminium, argon</th>\n",
       "      <td>47.48</td>\n",
       "      <td>17.58</td>\n",
       "      <td>0.01</td>\n",
       "      <td>0.38</td>\n",
       "      <td>1.03</td>\n",
       "      <td>0.0</td>\n",
       "      <td>0.25</td>\n",
       "      <td>641.65</td>\n",
       "      <td>291.87</td>\n",
       "    </tr>\n",
       "    <tr>\n",
       "      <th>thermally broken aluminium, krypton</th>\n",
       "      <td>52.09</td>\n",
       "      <td>19.04</td>\n",
       "      <td>0.01</td>\n",
       "      <td>0.41</td>\n",
       "      <td>1.07</td>\n",
       "      <td>0.0</td>\n",
       "      <td>0.26</td>\n",
       "      <td>714.76</td>\n",
       "      <td>308.68</td>\n",
       "    </tr>\n",
       "    <tr>\n",
       "      <th>thermally broken aluminium, xenon</th>\n",
       "      <td>64.83</td>\n",
       "      <td>23.45</td>\n",
       "      <td>0.02</td>\n",
       "      <td>0.48</td>\n",
       "      <td>1.17</td>\n",
       "      <td>0.0</td>\n",
       "      <td>0.28</td>\n",
       "      <td>1046.78</td>\n",
       "      <td>398.88</td>\n",
       "    </tr>\n",
       "  </tbody>\n",
       "</table>\n",
       "</div>"
      ],
      "text/plain": [
       "Method                              Climate Change Ecosystem Quality          \\\n",
       "Unit                                     kg CO2-Eq               CTU kg P-Eq   \n",
       "Name                                                                           \n",
       "thermally broken aluminium, air              47.41             17.55    0.01   \n",
       "thermally broken aluminium, argon            47.48             17.58    0.01   \n",
       "thermally broken aluminium, krypton          52.09             19.04    0.01   \n",
       "thermally broken aluminium, xenon            64.83             23.45    0.02   \n",
       "\n",
       "Method                                                 Human Health  \\\n",
       "Unit                                mol H+-Eq mol N-Eq   kg CFC-11.   \n",
       "Name                                                                  \n",
       "thermally broken aluminium, air          0.38     1.03          0.0   \n",
       "thermally broken aluminium, argon        0.38     1.03          0.0   \n",
       "thermally broken aluminium, krypton      0.41     1.07          0.0   \n",
       "thermally broken aluminium, xenon        0.48     1.17          0.0   \n",
       "\n",
       "Method                                         Resources          \n",
       "Unit                                kg NMVOC-. megajoule  points  \n",
       "Name                                                              \n",
       "thermally broken aluminium, air           0.24    639.72  291.23  \n",
       "thermally broken aluminium, argon         0.25    641.65  291.87  \n",
       "thermally broken aluminium, krypton       0.26    714.76  308.68  \n",
       "thermally broken aluminium, xenon         0.28   1046.78  398.88  "
      ]
     },
     "execution_count": 65,
     "metadata": {},
     "output_type": "execute_result"
    }
   ],
   "source": [
    "df_impacts_gas.round(2)"
   ]
  },
  {
   "cell_type": "code",
   "execution_count": 66,
   "metadata": {},
   "outputs": [
    {
     "data": {
      "image/png": "[encoded data removed]",
      "text/plain": [
       "<Figure size 504x144 with 1 Axes>"
      ]
     },
     "metadata": {},
     "output_type": "display_data"
    }
   ],
   "source": [
    "fig, ax = plt.subplots(figsize=(7, 2))\n",
    "\n",
    "sns.barplot(data=df_impacts_gas,\n",
    "            x=(\"Climate Change\", \"kg CO2-Eq\"),\n",
    "            y=df_impacts_gas.index,\n",
    "            color=\"white\", edgecolor=\".2\", linewidth=1.5)\n",
    "\n",
    "ax.yaxis.label.set_visible(False)\n",
    "ax.grid(which='major', axis='x', linestyle=':', linewidth=1)\n",
    "\n",
    "fig.suptitle(\n",
    "    'GWP of double glazing according to insulating gas types, cradle-to-gate', y=1.1)\n",
    "sns.despine(left=True, offset=5)\n",
    "plt.show()"
   ]
  },
  {
   "cell_type": "code",
   "execution_count": 67,
   "metadata": {},
   "outputs": [
    {
     "data": {
      "text/html": [
       "<div>\n",
       "<style scoped>\n",
       "    .dataframe tbody tr th:only-of-type {\n",
       "        vertical-align: middle;\n",
       "    }\n",
       "\n",
       "    .dataframe tbody tr th {\n",
       "        vertical-align: top;\n",
       "    }\n",
       "\n",
       "    .dataframe thead tr th {\n",
       "        text-align: left;\n",
       "    }\n",
       "\n",
       "    .dataframe thead tr:last-of-type th {\n",
       "        text-align: right;\n",
       "    }\n",
       "</style>\n",
       "<table border=\"1\" class=\"dataframe\">\n",
       "  <thead>\n",
       "    <tr>\n",
       "      <th>Method</th>\n",
       "      <th>Climate Change</th>\n",
       "      <th colspan=\"4\" halign=\"left\">Ecosystem Quality</th>\n",
       "      <th colspan=\"2\" halign=\"left\">Human Health</th>\n",
       "      <th colspan=\"2\" halign=\"left\">Resources</th>\n",
       "    </tr>\n",
       "    <tr>\n",
       "      <th>Unit</th>\n",
       "      <th>kg CO2-Eq</th>\n",
       "      <th>CTU</th>\n",
       "      <th>kg P-Eq</th>\n",
       "      <th>mol H+-Eq</th>\n",
       "      <th>mol N-Eq</th>\n",
       "      <th>kg CFC-11.</th>\n",
       "      <th>kg NMVOC-.</th>\n",
       "      <th>megajoule</th>\n",
       "      <th>points</th>\n",
       "    </tr>\n",
       "    <tr>\n",
       "      <th>Name</th>\n",
       "      <th></th>\n",
       "      <th></th>\n",
       "      <th></th>\n",
       "      <th></th>\n",
       "      <th></th>\n",
       "      <th></th>\n",
       "      <th></th>\n",
       "      <th></th>\n",
       "      <th></th>\n",
       "    </tr>\n",
       "  </thead>\n",
       "  <tbody>\n",
       "    <tr>\n",
       "      <th>thermally broken aluminium, air</th>\n",
       "      <td>0.73</td>\n",
       "      <td>0.75</td>\n",
       "      <td>0.24</td>\n",
       "      <td>0.81</td>\n",
       "      <td>0.88</td>\n",
       "      <td>0.85</td>\n",
       "      <td>0.86</td>\n",
       "      <td>0.61</td>\n",
       "      <td>0.73</td>\n",
       "    </tr>\n",
       "    <tr>\n",
       "      <th>thermally broken aluminium, argon</th>\n",
       "      <td>0.73</td>\n",
       "      <td>0.75</td>\n",
       "      <td>0.24</td>\n",
       "      <td>0.81</td>\n",
       "      <td>0.88</td>\n",
       "      <td>0.85</td>\n",
       "      <td>0.86</td>\n",
       "      <td>0.61</td>\n",
       "      <td>0.73</td>\n",
       "    </tr>\n",
       "    <tr>\n",
       "      <th>thermally broken aluminium, krypton</th>\n",
       "      <td>0.80</td>\n",
       "      <td>0.81</td>\n",
       "      <td>0.34</td>\n",
       "      <td>0.85</td>\n",
       "      <td>0.92</td>\n",
       "      <td>0.87</td>\n",
       "      <td>0.91</td>\n",
       "      <td>0.68</td>\n",
       "      <td>0.77</td>\n",
       "    </tr>\n",
       "    <tr>\n",
       "      <th>thermally broken aluminium, xenon</th>\n",
       "      <td>1.00</td>\n",
       "      <td>1.00</td>\n",
       "      <td>1.00</td>\n",
       "      <td>1.00</td>\n",
       "      <td>1.00</td>\n",
       "      <td>1.00</td>\n",
       "      <td>1.00</td>\n",
       "      <td>1.00</td>\n",
       "      <td>1.00</td>\n",
       "    </tr>\n",
       "  </tbody>\n",
       "</table>\n",
       "</div>"
      ],
      "text/plain": [
       "Method                              Climate Change Ecosystem Quality          \\\n",
       "Unit                                     kg CO2-Eq               CTU kg P-Eq   \n",
       "Name                                                                           \n",
       "thermally broken aluminium, air               0.73              0.75    0.24   \n",
       "thermally broken aluminium, argon             0.73              0.75    0.24   \n",
       "thermally broken aluminium, krypton           0.80              0.81    0.34   \n",
       "thermally broken aluminium, xenon             1.00              1.00    1.00   \n",
       "\n",
       "Method                                                 Human Health  \\\n",
       "Unit                                mol H+-Eq mol N-Eq   kg CFC-11.   \n",
       "Name                                                                  \n",
       "thermally broken aluminium, air          0.81     0.88         0.85   \n",
       "thermally broken aluminium, argon        0.81     0.88         0.85   \n",
       "thermally broken aluminium, krypton      0.85     0.92         0.87   \n",
       "thermally broken aluminium, xenon        1.00     1.00         1.00   \n",
       "\n",
       "Method                                         Resources         \n",
       "Unit                                kg NMVOC-. megajoule points  \n",
       "Name                                                             \n",
       "thermally broken aluminium, air           0.86      0.61   0.73  \n",
       "thermally broken aluminium, argon         0.86      0.61   0.73  \n",
       "thermally broken aluminium, krypton       0.91      0.68   0.77  \n",
       "thermally broken aluminium, xenon         1.00      1.00   1.00  "
      ]
     },
     "execution_count": 67,
     "metadata": {},
     "output_type": "execute_result"
    }
   ],
   "source": [
    "df_norm_impacts_gas = df_impacts_gas / df_impacts_gas.max()\n",
    "df_norm_impacts_gas.round(2).sort_values(\n",
    "    (\"Climate Change\", \"kg CO2-Eq\"), ascending=True)"
   ]
  },
  {
   "cell_type": "markdown",
   "metadata": {},
   "source": [
    "## Comparative LCA of Different Designs for IGU, Cradle-to-Gate"
   ]
  },
  {
   "cell_type": "code",
   "execution_count": 68,
   "metadata": {},
   "outputs": [
    {
     "data": {
      "text/plain": [
       "[{'market for triple glazing, lsg, two coatings, krypton' (square meter, BE, ('building components', 'windows')): 1},\n",
       " {'market for double glazing, lsg' (square meter, BE, ('building components', 'windows')): 1},\n",
       " {'market for double glazing, lsg, coated' (square meter, BE, ('building components', 'windows')): 1},\n",
       " {'market for double glazing, lsg, two coatings' (square meter, BE, ('building components', 'windows')): 1},\n",
       " {'market for single glazing, lsg, coated' (square meter, BE, ('building components', 'windows')): 1},\n",
       " {'market for triple glazing, lsg, two coatings, xenon' (square meter, BE, ('building components', 'windows')): 1},\n",
       " {'market for triple glazing, lsg, two coatings' (square meter, BE, ('building components', 'windows')): 1},\n",
       " {'market for smart glass, double glazing' (square meter, BE, ('building components', 'windows')): 1},\n",
       " {'market for single glazing, lsg' (square meter, BE, ('building components', 'windows')): 1},\n",
       " {'market for double glazing, lsg, coated, krypton' (square meter, BE, ('building components', 'windows')): 1},\n",
       " {'market for triple glazing, lsg, coated' (square meter, BE, ('building components', 'windows')): 1},\n",
       " {'market for double glazing, lsg, vacuum' (square meter, BE, ('building components', 'windows')): 1},\n",
       " {'market for double glazing, coated' (square meter, BE, ('building components', 'windows')): 1},\n",
       " {'market for double glazing, lsg, two coatings, xenon' (square meter, BE, ('building components', 'windows')): 1},\n",
       " {'market for triple glazing, coated' (square meter, BE, ('building components', 'windows')): 1}]"
      ]
     },
     "execution_count": 68,
     "metadata": {},
     "output_type": "execute_result"
    }
   ],
   "source": [
    "inv_igus = [act for act in bw.Database(\"exldb_igu\")\n",
    "            if 'market' in act['name']\n",
    "            and ('glazing' in act['name']\n",
    "            or 'vacuum' in act['name'])\n",
    "            ]\n",
    "\n",
    "fu_igus = [{igu: 1} for igu in inv_igus]\n",
    "\n",
    "fu_igus"
   ]
  },
  {
   "cell_type": "code",
   "execution_count": 69,
   "metadata": {
    "scrolled": true
   },
   "outputs": [],
   "source": [
    "impacts_igus = []\n",
    "\n",
    "for igu in inv_igus:\n",
    "    lca = bw.LCA({igu: 1})\n",
    "    lca.lci()\n",
    "    for method in methods_small:\n",
    "        lca.switch_method(method)\n",
    "        lca.lcia()\n",
    "        impacts_igus.append((igu[\"name\"], igu[\"location\"],\n",
    "                             method[1].title(), lca.score,\n",
    "                             bw.methods.get(method).get('unit')))\n",
    "\n",
    "# impacts_igus"
   ]
  },
  {
   "cell_type": "code",
   "execution_count": 70,
   "metadata": {
    "scrolled": false
   },
   "outputs": [],
   "source": [
    "df_impacts_igus = pd.DataFrame(\n",
    "    impacts_igus,\n",
    "    columns=[\"Name\", \"Location\", \"Method\", \"Score\", \"Unit\"]\n",
    ")\n",
    "\n",
    "df_impacts_igus = pd.pivot_table(\n",
    "    df_impacts_igus, index=[\"Name\"],\n",
    "    columns=[\"Method\", \"Unit\"], values=\"Score\"\n",
    ")"
   ]
  },
  {
   "cell_type": "code",
   "execution_count": 71,
   "metadata": {},
   "outputs": [],
   "source": [
    "df_impacts_igus = df_impacts_igus.sort_values(\n",
    "    (\"Climate Change\", \"kg CO2-Eq\"), ascending=True\n",
    ")\n",
    "\n",
    "df_impacts_igus = df_impacts_igus.reset_index()\n",
    "df_impacts_igus['Name'] = (df_impacts_igus['Name']\n",
    "                           .str.replace('market for ', ''))\n",
    "\n",
    "df_impacts_igus = df_impacts_igus.set_index('Name')"
   ]
  },
  {
   "cell_type": "code",
   "execution_count": 72,
   "metadata": {},
   "outputs": [
    {
     "data": {
      "text/html": [
       "<div>\n",
       "<style scoped>\n",
       "    .dataframe tbody tr th:only-of-type {\n",
       "        vertical-align: middle;\n",
       "    }\n",
       "\n",
       "    .dataframe tbody tr th {\n",
       "        vertical-align: top;\n",
       "    }\n",
       "\n",
       "    .dataframe thead tr th {\n",
       "        text-align: left;\n",
       "    }\n",
       "\n",
       "    .dataframe thead tr:last-of-type th {\n",
       "        text-align: right;\n",
       "    }\n",
       "</style>\n",
       "<table border=\"1\" class=\"dataframe\">\n",
       "  <thead>\n",
       "    <tr>\n",
       "      <th>Method</th>\n",
       "      <th>Climate Change</th>\n",
       "      <th colspan=\"4\" halign=\"left\">Ecosystem Quality</th>\n",
       "      <th colspan=\"2\" halign=\"left\">Human Health</th>\n",
       "      <th colspan=\"2\" halign=\"left\">Resources</th>\n",
       "    </tr>\n",
       "    <tr>\n",
       "      <th>Unit</th>\n",
       "      <th>kg CO2-Eq</th>\n",
       "      <th>CTU</th>\n",
       "      <th>kg P-Eq</th>\n",
       "      <th>mol H+-Eq</th>\n",
       "      <th>mol N-Eq</th>\n",
       "      <th>kg CFC-11.</th>\n",
       "      <th>kg NMVOC-.</th>\n",
       "      <th>megajoule</th>\n",
       "      <th>points</th>\n",
       "    </tr>\n",
       "    <tr>\n",
       "      <th>Name</th>\n",
       "      <th></th>\n",
       "      <th></th>\n",
       "      <th></th>\n",
       "      <th></th>\n",
       "      <th></th>\n",
       "      <th></th>\n",
       "      <th></th>\n",
       "      <th></th>\n",
       "      <th></th>\n",
       "    </tr>\n",
       "  </thead>\n",
       "  <tbody>\n",
       "    <tr>\n",
       "      <th>single glazing, lsg</th>\n",
       "      <td>38.42</td>\n",
       "      <td>14.62</td>\n",
       "      <td>0.01</td>\n",
       "      <td>0.27</td>\n",
       "      <td>0.72</td>\n",
       "      <td>0.0</td>\n",
       "      <td>0.18</td>\n",
       "      <td>645.18</td>\n",
       "      <td>253.35</td>\n",
       "    </tr>\n",
       "    <tr>\n",
       "      <th>single glazing, lsg, coated</th>\n",
       "      <td>39.24</td>\n",
       "      <td>15.68</td>\n",
       "      <td>0.01</td>\n",
       "      <td>0.27</td>\n",
       "      <td>0.73</td>\n",
       "      <td>0.0</td>\n",
       "      <td>0.18</td>\n",
       "      <td>662.13</td>\n",
       "      <td>275.12</td>\n",
       "    </tr>\n",
       "    <tr>\n",
       "      <th>double glazing, coated</th>\n",
       "      <td>48.74</td>\n",
       "      <td>20.18</td>\n",
       "      <td>0.01</td>\n",
       "      <td>0.39</td>\n",
       "      <td>1.05</td>\n",
       "      <td>0.0</td>\n",
       "      <td>0.25</td>\n",
       "      <td>659.20</td>\n",
       "      <td>309.70</td>\n",
       "    </tr>\n",
       "    <tr>\n",
       "      <th>double glazing, lsg</th>\n",
       "      <td>62.89</td>\n",
       "      <td>25.58</td>\n",
       "      <td>0.01</td>\n",
       "      <td>0.46</td>\n",
       "      <td>1.23</td>\n",
       "      <td>0.0</td>\n",
       "      <td>0.30</td>\n",
       "      <td>983.63</td>\n",
       "      <td>399.91</td>\n",
       "    </tr>\n",
       "    <tr>\n",
       "      <th>double glazing, lsg, coated</th>\n",
       "      <td>64.18</td>\n",
       "      <td>27.23</td>\n",
       "      <td>0.01</td>\n",
       "      <td>0.47</td>\n",
       "      <td>1.26</td>\n",
       "      <td>0.0</td>\n",
       "      <td>0.31</td>\n",
       "      <td>1010.23</td>\n",
       "      <td>434.06</td>\n",
       "    </tr>\n",
       "    <tr>\n",
       "      <th>double glazing, lsg, two coatings</th>\n",
       "      <td>65.00</td>\n",
       "      <td>28.29</td>\n",
       "      <td>0.01</td>\n",
       "      <td>0.48</td>\n",
       "      <td>1.27</td>\n",
       "      <td>0.0</td>\n",
       "      <td>0.31</td>\n",
       "      <td>1027.19</td>\n",
       "      <td>455.83</td>\n",
       "    </tr>\n",
       "    <tr>\n",
       "      <th>double glazing, lsg, vacuum</th>\n",
       "      <td>66.11</td>\n",
       "      <td>24.43</td>\n",
       "      <td>0.01</td>\n",
       "      <td>0.47</td>\n",
       "      <td>1.27</td>\n",
       "      <td>0.0</td>\n",
       "      <td>0.31</td>\n",
       "      <td>1037.07</td>\n",
       "      <td>430.91</td>\n",
       "    </tr>\n",
       "    <tr>\n",
       "      <th>triple glazing, coated</th>\n",
       "      <td>66.88</td>\n",
       "      <td>28.24</td>\n",
       "      <td>0.01</td>\n",
       "      <td>0.53</td>\n",
       "      <td>1.43</td>\n",
       "      <td>0.0</td>\n",
       "      <td>0.34</td>\n",
       "      <td>905.72</td>\n",
       "      <td>413.91</td>\n",
       "    </tr>\n",
       "    <tr>\n",
       "      <th>double glazing, lsg, coated, krypton</th>\n",
       "      <td>69.36</td>\n",
       "      <td>28.88</td>\n",
       "      <td>0.01</td>\n",
       "      <td>0.50</td>\n",
       "      <td>1.31</td>\n",
       "      <td>0.0</td>\n",
       "      <td>0.32</td>\n",
       "      <td>1092.32</td>\n",
       "      <td>452.92</td>\n",
       "    </tr>\n",
       "    <tr>\n",
       "      <th>triple glazing, lsg, two coatings</th>\n",
       "      <td>82.34</td>\n",
       "      <td>34.22</td>\n",
       "      <td>0.01</td>\n",
       "      <td>0.62</td>\n",
       "      <td>1.65</td>\n",
       "      <td>0.0</td>\n",
       "      <td>0.40</td>\n",
       "      <td>1261.57</td>\n",
       "      <td>547.86</td>\n",
       "    </tr>\n",
       "    <tr>\n",
       "      <th>triple glazing, lsg, coated</th>\n",
       "      <td>82.63</td>\n",
       "      <td>36.11</td>\n",
       "      <td>0.01</td>\n",
       "      <td>0.62</td>\n",
       "      <td>1.65</td>\n",
       "      <td>0.0</td>\n",
       "      <td>0.40</td>\n",
       "      <td>1261.47</td>\n",
       "      <td>543.01</td>\n",
       "    </tr>\n",
       "    <tr>\n",
       "      <th>double glazing, lsg, two coatings, xenon</th>\n",
       "      <td>84.51</td>\n",
       "      <td>34.90</td>\n",
       "      <td>0.03</td>\n",
       "      <td>0.58</td>\n",
       "      <td>1.43</td>\n",
       "      <td>0.0</td>\n",
       "      <td>0.35</td>\n",
       "      <td>1482.80</td>\n",
       "      <td>576.16</td>\n",
       "    </tr>\n",
       "    <tr>\n",
       "      <th>triple glazing, lsg, two coatings, krypton</th>\n",
       "      <td>92.72</td>\n",
       "      <td>37.51</td>\n",
       "      <td>0.02</td>\n",
       "      <td>0.67</td>\n",
       "      <td>1.75</td>\n",
       "      <td>0.0</td>\n",
       "      <td>0.42</td>\n",
       "      <td>1425.75</td>\n",
       "      <td>585.59</td>\n",
       "    </tr>\n",
       "    <tr>\n",
       "      <th>triple glazing, lsg, two coatings, xenon</th>\n",
       "      <td>121.37</td>\n",
       "      <td>47.44</td>\n",
       "      <td>0.05</td>\n",
       "      <td>0.83</td>\n",
       "      <td>1.96</td>\n",
       "      <td>0.0</td>\n",
       "      <td>0.48</td>\n",
       "      <td>2172.78</td>\n",
       "      <td>788.53</td>\n",
       "    </tr>\n",
       "    <tr>\n",
       "      <th>smart glass, double glazing</th>\n",
       "      <td>701.78</td>\n",
       "      <td>1678.00</td>\n",
       "      <td>0.23</td>\n",
       "      <td>3.30</td>\n",
       "      <td>9.87</td>\n",
       "      <td>0.0</td>\n",
       "      <td>2.84</td>\n",
       "      <td>10857.73</td>\n",
       "      <td>9175.70</td>\n",
       "    </tr>\n",
       "  </tbody>\n",
       "</table>\n",
       "</div>"
      ],
      "text/plain": [
       "Method                                     Climate Change Ecosystem Quality  \\\n",
       "Unit                                            kg CO2-Eq               CTU   \n",
       "Name                                                                          \n",
       "single glazing, lsg                                 38.42             14.62   \n",
       "single glazing, lsg, coated                         39.24             15.68   \n",
       "double glazing, coated                              48.74             20.18   \n",
       "double glazing, lsg                                 62.89             25.58   \n",
       "double glazing, lsg, coated                         64.18             27.23   \n",
       "double glazing, lsg, two coatings                   65.00             28.29   \n",
       "double glazing, lsg, vacuum                         66.11             24.43   \n",
       "triple glazing, coated                              66.88             28.24   \n",
       "double glazing, lsg, coated, krypton                69.36             28.88   \n",
       "triple glazing, lsg, two coatings                   82.34             34.22   \n",
       "triple glazing, lsg, coated                         82.63             36.11   \n",
       "double glazing, lsg, two coatings, xenon            84.51             34.90   \n",
       "triple glazing, lsg, two coatings, krypton          92.72             37.51   \n",
       "triple glazing, lsg, two coatings, xenon           121.37             47.44   \n",
       "smart glass, double glazing                        701.78           1678.00   \n",
       "\n",
       "Method                                                                 \\\n",
       "Unit                                       kg P-Eq mol H+-Eq mol N-Eq   \n",
       "Name                                                                    \n",
       "single glazing, lsg                           0.01      0.27     0.72   \n",
       "single glazing, lsg, coated                   0.01      0.27     0.73   \n",
       "double glazing, coated                        0.01      0.39     1.05   \n",
       "double glazing, lsg                           0.01      0.46     1.23   \n",
       "double glazing, lsg, coated                   0.01      0.47     1.26   \n",
       "double glazing, lsg, two coatings             0.01      0.48     1.27   \n",
       "double glazing, lsg, vacuum                   0.01      0.47     1.27   \n",
       "triple glazing, coated                        0.01      0.53     1.43   \n",
       "double glazing, lsg, coated, krypton          0.01      0.50     1.31   \n",
       "triple glazing, lsg, two coatings             0.01      0.62     1.65   \n",
       "triple glazing, lsg, coated                   0.01      0.62     1.65   \n",
       "double glazing, lsg, two coatings, xenon      0.03      0.58     1.43   \n",
       "triple glazing, lsg, two coatings, krypton    0.02      0.67     1.75   \n",
       "triple glazing, lsg, two coatings, xenon      0.05      0.83     1.96   \n",
       "smart glass, double glazing                   0.23      3.30     9.87   \n",
       "\n",
       "Method                                     Human Health            Resources  \\\n",
       "Unit                                         kg CFC-11. kg NMVOC-. megajoule   \n",
       "Name                                                                           \n",
       "single glazing, lsg                                 0.0       0.18    645.18   \n",
       "single glazing, lsg, coated                         0.0       0.18    662.13   \n",
       "double glazing, coated                              0.0       0.25    659.20   \n",
       "double glazing, lsg                                 0.0       0.30    983.63   \n",
       "double glazing, lsg, coated                         0.0       0.31   1010.23   \n",
       "double glazing, lsg, two coatings                   0.0       0.31   1027.19   \n",
       "double glazing, lsg, vacuum                         0.0       0.31   1037.07   \n",
       "triple glazing, coated                              0.0       0.34    905.72   \n",
       "double glazing, lsg, coated, krypton                0.0       0.32   1092.32   \n",
       "triple glazing, lsg, two coatings                   0.0       0.40   1261.57   \n",
       "triple glazing, lsg, coated                         0.0       0.40   1261.47   \n",
       "double glazing, lsg, two coatings, xenon            0.0       0.35   1482.80   \n",
       "triple glazing, lsg, two coatings, krypton          0.0       0.42   1425.75   \n",
       "triple glazing, lsg, two coatings, xenon            0.0       0.48   2172.78   \n",
       "smart glass, double glazing                         0.0       2.84  10857.73   \n",
       "\n",
       "Method                                               \n",
       "Unit                                         points  \n",
       "Name                                                 \n",
       "single glazing, lsg                          253.35  \n",
       "single glazing, lsg, coated                  275.12  \n",
       "double glazing, coated                       309.70  \n",
       "double glazing, lsg                          399.91  \n",
       "double glazing, lsg, coated                  434.06  \n",
       "double glazing, lsg, two coatings            455.83  \n",
       "double glazing, lsg, vacuum                  430.91  \n",
       "triple glazing, coated                       413.91  \n",
       "double glazing, lsg, coated, krypton         452.92  \n",
       "triple glazing, lsg, two coatings            547.86  \n",
       "triple glazing, lsg, coated                  543.01  \n",
       "double glazing, lsg, two coatings, xenon     576.16  \n",
       "triple glazing, lsg, two coatings, krypton   585.59  \n",
       "triple glazing, lsg, two coatings, xenon     788.53  \n",
       "smart glass, double glazing                 9175.70  "
      ]
     },
     "execution_count": 72,
     "metadata": {},
     "output_type": "execute_result"
    }
   ],
   "source": [
    "df_impacts_igus.round(2)"
   ]
  },
  {
   "cell_type": "code",
   "execution_count": 73,
   "metadata": {},
   "outputs": [
    {
     "data": {
      "image/png": "[encoded data removed]",
      "text/plain": [
       "<Figure size 864x432 with 1 Axes>"
      ]
     },
     "metadata": {},
     "output_type": "display_data"
    }
   ],
   "source": [
    "fig, ax = plt.subplots(figsize=(12, 6))\n",
    "\n",
    "df_impacts_igus_wo_smartg = df_impacts_igus.drop(\n",
    "    \"smart glass, double glazing\", axis=0\n",
    ")\n",
    "\n",
    "sns.barplot(data=df_impacts_igus_wo_smartg,\n",
    "            x=(\"Climate Change\", \"kg CO2-Eq\"),\n",
    "            y=df_impacts_igus_wo_smartg.index,\n",
    "            color=\"white\", edgecolor=\".2\", linewidth=1.5)\n",
    "\n",
    "ax.yaxis.label.set_visible(False)\n",
    "ax.grid(which='major', axis='x', linestyle=':', linewidth=1)\n",
    "\n",
    "fig.suptitle(\n",
    "    'GWP of different design of IGUs, cradle-to-gate')\n",
    "sns.despine(left=True, offset=5)\n",
    "plt.show()"
   ]
  },
  {
   "cell_type": "code",
   "execution_count": 74,
   "metadata": {},
   "outputs": [
    {
     "data": {
      "text/html": [
       "<div>\n",
       "<style scoped>\n",
       "    .dataframe tbody tr th:only-of-type {\n",
       "        vertical-align: middle;\n",
       "    }\n",
       "\n",
       "    .dataframe tbody tr th {\n",
       "        vertical-align: top;\n",
       "    }\n",
       "\n",
       "    .dataframe thead tr th {\n",
       "        text-align: left;\n",
       "    }\n",
       "\n",
       "    .dataframe thead tr:last-of-type th {\n",
       "        text-align: right;\n",
       "    }\n",
       "</style>\n",
       "<table border=\"1\" class=\"dataframe\">\n",
       "  <thead>\n",
       "    <tr>\n",
       "      <th>Method</th>\n",
       "      <th>Climate Change</th>\n",
       "      <th colspan=\"4\" halign=\"left\">Ecosystem Quality</th>\n",
       "      <th colspan=\"2\" halign=\"left\">Human Health</th>\n",
       "      <th colspan=\"2\" halign=\"left\">Resources</th>\n",
       "    </tr>\n",
       "    <tr>\n",
       "      <th>Unit</th>\n",
       "      <th>kg CO2-Eq</th>\n",
       "      <th>CTU</th>\n",
       "      <th>kg P-Eq</th>\n",
       "      <th>mol H+-Eq</th>\n",
       "      <th>mol N-Eq</th>\n",
       "      <th>kg CFC-11.</th>\n",
       "      <th>kg NMVOC-.</th>\n",
       "      <th>megajoule</th>\n",
       "      <th>points</th>\n",
       "    </tr>\n",
       "    <tr>\n",
       "      <th>Name</th>\n",
       "      <th></th>\n",
       "      <th></th>\n",
       "      <th></th>\n",
       "      <th></th>\n",
       "      <th></th>\n",
       "      <th></th>\n",
       "      <th></th>\n",
       "      <th></th>\n",
       "      <th></th>\n",
       "    </tr>\n",
       "  </thead>\n",
       "  <tbody>\n",
       "    <tr>\n",
       "      <th>single glazing, lsg</th>\n",
       "      <td>0.32</td>\n",
       "      <td>0.31</td>\n",
       "      <td>0.11</td>\n",
       "      <td>0.32</td>\n",
       "      <td>0.36</td>\n",
       "      <td>0.47</td>\n",
       "      <td>0.36</td>\n",
       "      <td>0.30</td>\n",
       "      <td>0.32</td>\n",
       "    </tr>\n",
       "    <tr>\n",
       "      <th>single glazing, lsg, coated</th>\n",
       "      <td>0.32</td>\n",
       "      <td>0.33</td>\n",
       "      <td>0.11</td>\n",
       "      <td>0.33</td>\n",
       "      <td>0.37</td>\n",
       "      <td>0.48</td>\n",
       "      <td>0.37</td>\n",
       "      <td>0.30</td>\n",
       "      <td>0.35</td>\n",
       "    </tr>\n",
       "    <tr>\n",
       "      <th>double glazing, coated</th>\n",
       "      <td>0.40</td>\n",
       "      <td>0.43</td>\n",
       "      <td>0.11</td>\n",
       "      <td>0.47</td>\n",
       "      <td>0.53</td>\n",
       "      <td>0.42</td>\n",
       "      <td>0.52</td>\n",
       "      <td>0.30</td>\n",
       "      <td>0.39</td>\n",
       "    </tr>\n",
       "    <tr>\n",
       "      <th>double glazing, lsg</th>\n",
       "      <td>0.52</td>\n",
       "      <td>0.54</td>\n",
       "      <td>0.16</td>\n",
       "      <td>0.56</td>\n",
       "      <td>0.63</td>\n",
       "      <td>0.69</td>\n",
       "      <td>0.62</td>\n",
       "      <td>0.45</td>\n",
       "      <td>0.51</td>\n",
       "    </tr>\n",
       "    <tr>\n",
       "      <th>double glazing, lsg, coated</th>\n",
       "      <td>0.53</td>\n",
       "      <td>0.57</td>\n",
       "      <td>0.17</td>\n",
       "      <td>0.57</td>\n",
       "      <td>0.64</td>\n",
       "      <td>0.70</td>\n",
       "      <td>0.63</td>\n",
       "      <td>0.46</td>\n",
       "      <td>0.55</td>\n",
       "    </tr>\n",
       "    <tr>\n",
       "      <th>double glazing, lsg, two coatings</th>\n",
       "      <td>0.54</td>\n",
       "      <td>0.60</td>\n",
       "      <td>0.18</td>\n",
       "      <td>0.58</td>\n",
       "      <td>0.65</td>\n",
       "      <td>0.70</td>\n",
       "      <td>0.64</td>\n",
       "      <td>0.47</td>\n",
       "      <td>0.58</td>\n",
       "    </tr>\n",
       "    <tr>\n",
       "      <th>double glazing, lsg, vacuum</th>\n",
       "      <td>0.54</td>\n",
       "      <td>0.51</td>\n",
       "      <td>0.17</td>\n",
       "      <td>0.57</td>\n",
       "      <td>0.65</td>\n",
       "      <td>0.71</td>\n",
       "      <td>0.64</td>\n",
       "      <td>0.48</td>\n",
       "      <td>0.55</td>\n",
       "    </tr>\n",
       "    <tr>\n",
       "      <th>triple glazing, coated</th>\n",
       "      <td>0.55</td>\n",
       "      <td>0.60</td>\n",
       "      <td>0.15</td>\n",
       "      <td>0.65</td>\n",
       "      <td>0.73</td>\n",
       "      <td>0.57</td>\n",
       "      <td>0.71</td>\n",
       "      <td>0.42</td>\n",
       "      <td>0.52</td>\n",
       "    </tr>\n",
       "    <tr>\n",
       "      <th>double glazing, lsg, coated, krypton</th>\n",
       "      <td>0.57</td>\n",
       "      <td>0.61</td>\n",
       "      <td>0.22</td>\n",
       "      <td>0.60</td>\n",
       "      <td>0.67</td>\n",
       "      <td>0.71</td>\n",
       "      <td>0.66</td>\n",
       "      <td>0.50</td>\n",
       "      <td>0.57</td>\n",
       "    </tr>\n",
       "    <tr>\n",
       "      <th>triple glazing, lsg, two coatings</th>\n",
       "      <td>0.68</td>\n",
       "      <td>0.72</td>\n",
       "      <td>0.22</td>\n",
       "      <td>0.75</td>\n",
       "      <td>0.84</td>\n",
       "      <td>0.84</td>\n",
       "      <td>0.82</td>\n",
       "      <td>0.58</td>\n",
       "      <td>0.69</td>\n",
       "    </tr>\n",
       "    <tr>\n",
       "      <th>triple glazing, lsg, coated</th>\n",
       "      <td>0.68</td>\n",
       "      <td>0.76</td>\n",
       "      <td>0.22</td>\n",
       "      <td>0.75</td>\n",
       "      <td>0.84</td>\n",
       "      <td>0.86</td>\n",
       "      <td>0.82</td>\n",
       "      <td>0.58</td>\n",
       "      <td>0.69</td>\n",
       "    </tr>\n",
       "    <tr>\n",
       "      <th>double glazing, lsg, two coatings, xenon</th>\n",
       "      <td>0.70</td>\n",
       "      <td>0.74</td>\n",
       "      <td>0.57</td>\n",
       "      <td>0.70</td>\n",
       "      <td>0.73</td>\n",
       "      <td>0.78</td>\n",
       "      <td>0.73</td>\n",
       "      <td>0.68</td>\n",
       "      <td>0.73</td>\n",
       "    </tr>\n",
       "    <tr>\n",
       "      <th>triple glazing, lsg, two coatings, krypton</th>\n",
       "      <td>0.76</td>\n",
       "      <td>0.79</td>\n",
       "      <td>0.33</td>\n",
       "      <td>0.81</td>\n",
       "      <td>0.89</td>\n",
       "      <td>0.87</td>\n",
       "      <td>0.88</td>\n",
       "      <td>0.66</td>\n",
       "      <td>0.74</td>\n",
       "    </tr>\n",
       "    <tr>\n",
       "      <th>triple glazing, lsg, two coatings, xenon</th>\n",
       "      <td>1.00</td>\n",
       "      <td>1.00</td>\n",
       "      <td>1.00</td>\n",
       "      <td>1.00</td>\n",
       "      <td>1.00</td>\n",
       "      <td>1.00</td>\n",
       "      <td>1.00</td>\n",
       "      <td>1.00</td>\n",
       "      <td>1.00</td>\n",
       "    </tr>\n",
       "  </tbody>\n",
       "</table>\n",
       "</div>"
      ],
      "text/plain": [
       "Method                                     Climate Change Ecosystem Quality  \\\n",
       "Unit                                            kg CO2-Eq               CTU   \n",
       "Name                                                                          \n",
       "single glazing, lsg                                  0.32              0.31   \n",
       "single glazing, lsg, coated                          0.32              0.33   \n",
       "double glazing, coated                               0.40              0.43   \n",
       "double glazing, lsg                                  0.52              0.54   \n",
       "double glazing, lsg, coated                          0.53              0.57   \n",
       "double glazing, lsg, two coatings                    0.54              0.60   \n",
       "double glazing, lsg, vacuum                          0.54              0.51   \n",
       "triple glazing, coated                               0.55              0.60   \n",
       "double glazing, lsg, coated, krypton                 0.57              0.61   \n",
       "triple glazing, lsg, two coatings                    0.68              0.72   \n",
       "triple glazing, lsg, coated                          0.68              0.76   \n",
       "double glazing, lsg, two coatings, xenon             0.70              0.74   \n",
       "triple glazing, lsg, two coatings, krypton           0.76              0.79   \n",
       "triple glazing, lsg, two coatings, xenon             1.00              1.00   \n",
       "\n",
       "Method                                                                 \\\n",
       "Unit                                       kg P-Eq mol H+-Eq mol N-Eq   \n",
       "Name                                                                    \n",
       "single glazing, lsg                           0.11      0.32     0.36   \n",
       "single glazing, lsg, coated                   0.11      0.33     0.37   \n",
       "double glazing, coated                        0.11      0.47     0.53   \n",
       "double glazing, lsg                           0.16      0.56     0.63   \n",
       "double glazing, lsg, coated                   0.17      0.57     0.64   \n",
       "double glazing, lsg, two coatings             0.18      0.58     0.65   \n",
       "double glazing, lsg, vacuum                   0.17      0.57     0.65   \n",
       "triple glazing, coated                        0.15      0.65     0.73   \n",
       "double glazing, lsg, coated, krypton          0.22      0.60     0.67   \n",
       "triple glazing, lsg, two coatings             0.22      0.75     0.84   \n",
       "triple glazing, lsg, coated                   0.22      0.75     0.84   \n",
       "double glazing, lsg, two coatings, xenon      0.57      0.70     0.73   \n",
       "triple glazing, lsg, two coatings, krypton    0.33      0.81     0.89   \n",
       "triple glazing, lsg, two coatings, xenon      1.00      1.00     1.00   \n",
       "\n",
       "Method                                     Human Health            Resources  \\\n",
       "Unit                                         kg CFC-11. kg NMVOC-. megajoule   \n",
       "Name                                                                           \n",
       "single glazing, lsg                                0.47       0.36      0.30   \n",
       "single glazing, lsg, coated                        0.48       0.37      0.30   \n",
       "double glazing, coated                             0.42       0.52      0.30   \n",
       "double glazing, lsg                                0.69       0.62      0.45   \n",
       "double glazing, lsg, coated                        0.70       0.63      0.46   \n",
       "double glazing, lsg, two coatings                  0.70       0.64      0.47   \n",
       "double glazing, lsg, vacuum                        0.71       0.64      0.48   \n",
       "triple glazing, coated                             0.57       0.71      0.42   \n",
       "double glazing, lsg, coated, krypton               0.71       0.66      0.50   \n",
       "triple glazing, lsg, two coatings                  0.84       0.82      0.58   \n",
       "triple glazing, lsg, coated                        0.86       0.82      0.58   \n",
       "double glazing, lsg, two coatings, xenon           0.78       0.73      0.68   \n",
       "triple glazing, lsg, two coatings, krypton         0.87       0.88      0.66   \n",
       "triple glazing, lsg, two coatings, xenon           1.00       1.00      1.00   \n",
       "\n",
       "Method                                             \n",
       "Unit                                       points  \n",
       "Name                                               \n",
       "single glazing, lsg                          0.32  \n",
       "single glazing, lsg, coated                  0.35  \n",
       "double glazing, coated                       0.39  \n",
       "double glazing, lsg                          0.51  \n",
       "double glazing, lsg, coated                  0.55  \n",
       "double glazing, lsg, two coatings            0.58  \n",
       "double glazing, lsg, vacuum                  0.55  \n",
       "triple glazing, coated                       0.52  \n",
       "double glazing, lsg, coated, krypton         0.57  \n",
       "triple glazing, lsg, two coatings            0.69  \n",
       "triple glazing, lsg, coated                  0.69  \n",
       "double glazing, lsg, two coatings, xenon     0.73  \n",
       "triple glazing, lsg, two coatings, krypton   0.74  \n",
       "triple glazing, lsg, two coatings, xenon     1.00  "
      ]
     },
     "execution_count": 74,
     "metadata": {},
     "output_type": "execute_result"
    }
   ],
   "source": [
    "df_norm_impacts_igus_wo_smartg = (\n",
    "    df_impacts_igus_wo_smartg / df_impacts_igus_wo_smartg.max()\n",
    ")\n",
    "\n",
    "df_norm_impacts_igus_wo_smartg.round(2).sort_values(\n",
    "    (\"Climate Change\", \"kg CO2-Eq\"), ascending=True)"
   ]
  },
  {
   "cell_type": "code",
   "execution_count": 75,
   "metadata": {},
   "outputs": [
    {
     "data": {
      "image/png": "[encoded data removed]",
      "text/plain": [
       "<Figure size 864x468 with 1 Axes>"
      ]
     },
     "metadata": {},
     "output_type": "display_data"
    }
   ],
   "source": [
    "fig, ax = plt.subplots(figsize=(12, 6.5))\n",
    "\n",
    "sns.barplot(data=df_impacts_igus,\n",
    "            x=(\"Climate Change\", \"kg CO2-Eq\"),\n",
    "            y=df_impacts_igus.index,\n",
    "            color=\"white\", edgecolor=\".2\", linewidth=1.5)\n",
    "\n",
    "ax.yaxis.label.set_visible(False)\n",
    "ax.grid(which='major', axis='x', linestyle=':', linewidth=1)\n",
    "\n",
    "fig.suptitle(\n",
    "    'GWP of different design of IGUs, cradle-to-gate')\n",
    "sns.despine(left=True, offset=5)\n",
    "plt.show()"
   ]
  },
  {
   "cell_type": "code",
   "execution_count": 76,
   "metadata": {},
   "outputs": [
    {
     "data": {
      "text/html": [
       "<div>\n",
       "<style scoped>\n",
       "    .dataframe tbody tr th:only-of-type {\n",
       "        vertical-align: middle;\n",
       "    }\n",
       "\n",
       "    .dataframe tbody tr th {\n",
       "        vertical-align: top;\n",
       "    }\n",
       "\n",
       "    .dataframe thead tr th {\n",
       "        text-align: left;\n",
       "    }\n",
       "\n",
       "    .dataframe thead tr:last-of-type th {\n",
       "        text-align: right;\n",
       "    }\n",
       "</style>\n",
       "<table border=\"1\" class=\"dataframe\">\n",
       "  <thead>\n",
       "    <tr>\n",
       "      <th>Method</th>\n",
       "      <th>Climate Change</th>\n",
       "      <th colspan=\"4\" halign=\"left\">Ecosystem Quality</th>\n",
       "      <th colspan=\"2\" halign=\"left\">Human Health</th>\n",
       "      <th colspan=\"2\" halign=\"left\">Resources</th>\n",
       "    </tr>\n",
       "    <tr>\n",
       "      <th>Unit</th>\n",
       "      <th>kg CO2-Eq</th>\n",
       "      <th>CTU</th>\n",
       "      <th>kg P-Eq</th>\n",
       "      <th>mol H+-Eq</th>\n",
       "      <th>mol N-Eq</th>\n",
       "      <th>kg CFC-11.</th>\n",
       "      <th>kg NMVOC-.</th>\n",
       "      <th>megajoule</th>\n",
       "      <th>points</th>\n",
       "    </tr>\n",
       "    <tr>\n",
       "      <th>Name</th>\n",
       "      <th></th>\n",
       "      <th></th>\n",
       "      <th></th>\n",
       "      <th></th>\n",
       "      <th></th>\n",
       "      <th></th>\n",
       "      <th></th>\n",
       "      <th></th>\n",
       "      <th></th>\n",
       "    </tr>\n",
       "  </thead>\n",
       "  <tbody>\n",
       "    <tr>\n",
       "      <th>single glazing, lsg</th>\n",
       "      <td>0.05</td>\n",
       "      <td>0.01</td>\n",
       "      <td>0.02</td>\n",
       "      <td>0.08</td>\n",
       "      <td>0.07</td>\n",
       "      <td>0.04</td>\n",
       "      <td>0.06</td>\n",
       "      <td>0.06</td>\n",
       "      <td>0.03</td>\n",
       "    </tr>\n",
       "    <tr>\n",
       "      <th>single glazing, lsg, coated</th>\n",
       "      <td>0.06</td>\n",
       "      <td>0.01</td>\n",
       "      <td>0.02</td>\n",
       "      <td>0.08</td>\n",
       "      <td>0.07</td>\n",
       "      <td>0.04</td>\n",
       "      <td>0.06</td>\n",
       "      <td>0.06</td>\n",
       "      <td>0.03</td>\n",
       "    </tr>\n",
       "    <tr>\n",
       "      <th>double glazing, coated</th>\n",
       "      <td>0.07</td>\n",
       "      <td>0.01</td>\n",
       "      <td>0.02</td>\n",
       "      <td>0.12</td>\n",
       "      <td>0.11</td>\n",
       "      <td>0.04</td>\n",
       "      <td>0.09</td>\n",
       "      <td>0.06</td>\n",
       "      <td>0.03</td>\n",
       "    </tr>\n",
       "    <tr>\n",
       "      <th>double glazing, lsg</th>\n",
       "      <td>0.09</td>\n",
       "      <td>0.02</td>\n",
       "      <td>0.03</td>\n",
       "      <td>0.14</td>\n",
       "      <td>0.12</td>\n",
       "      <td>0.06</td>\n",
       "      <td>0.11</td>\n",
       "      <td>0.09</td>\n",
       "      <td>0.04</td>\n",
       "    </tr>\n",
       "    <tr>\n",
       "      <th>double glazing, lsg, coated</th>\n",
       "      <td>0.09</td>\n",
       "      <td>0.02</td>\n",
       "      <td>0.04</td>\n",
       "      <td>0.14</td>\n",
       "      <td>0.13</td>\n",
       "      <td>0.06</td>\n",
       "      <td>0.11</td>\n",
       "      <td>0.09</td>\n",
       "      <td>0.05</td>\n",
       "    </tr>\n",
       "    <tr>\n",
       "      <th>double glazing, lsg, two coatings</th>\n",
       "      <td>0.09</td>\n",
       "      <td>0.02</td>\n",
       "      <td>0.04</td>\n",
       "      <td>0.14</td>\n",
       "      <td>0.13</td>\n",
       "      <td>0.06</td>\n",
       "      <td>0.11</td>\n",
       "      <td>0.09</td>\n",
       "      <td>0.05</td>\n",
       "    </tr>\n",
       "    <tr>\n",
       "      <th>double glazing, lsg, vacuum</th>\n",
       "      <td>0.09</td>\n",
       "      <td>0.01</td>\n",
       "      <td>0.04</td>\n",
       "      <td>0.14</td>\n",
       "      <td>0.13</td>\n",
       "      <td>0.06</td>\n",
       "      <td>0.11</td>\n",
       "      <td>0.10</td>\n",
       "      <td>0.05</td>\n",
       "    </tr>\n",
       "    <tr>\n",
       "      <th>triple glazing, coated</th>\n",
       "      <td>0.10</td>\n",
       "      <td>0.02</td>\n",
       "      <td>0.03</td>\n",
       "      <td>0.16</td>\n",
       "      <td>0.15</td>\n",
       "      <td>0.05</td>\n",
       "      <td>0.12</td>\n",
       "      <td>0.08</td>\n",
       "      <td>0.05</td>\n",
       "    </tr>\n",
       "    <tr>\n",
       "      <th>double glazing, lsg, coated, krypton</th>\n",
       "      <td>0.10</td>\n",
       "      <td>0.02</td>\n",
       "      <td>0.05</td>\n",
       "      <td>0.15</td>\n",
       "      <td>0.13</td>\n",
       "      <td>0.06</td>\n",
       "      <td>0.11</td>\n",
       "      <td>0.10</td>\n",
       "      <td>0.05</td>\n",
       "    </tr>\n",
       "    <tr>\n",
       "      <th>triple glazing, lsg, two coatings</th>\n",
       "      <td>0.12</td>\n",
       "      <td>0.02</td>\n",
       "      <td>0.05</td>\n",
       "      <td>0.19</td>\n",
       "      <td>0.17</td>\n",
       "      <td>0.07</td>\n",
       "      <td>0.14</td>\n",
       "      <td>0.12</td>\n",
       "      <td>0.06</td>\n",
       "    </tr>\n",
       "    <tr>\n",
       "      <th>triple glazing, lsg, coated</th>\n",
       "      <td>0.12</td>\n",
       "      <td>0.02</td>\n",
       "      <td>0.05</td>\n",
       "      <td>0.19</td>\n",
       "      <td>0.17</td>\n",
       "      <td>0.08</td>\n",
       "      <td>0.14</td>\n",
       "      <td>0.12</td>\n",
       "      <td>0.06</td>\n",
       "    </tr>\n",
       "    <tr>\n",
       "      <th>double glazing, lsg, two coatings, xenon</th>\n",
       "      <td>0.12</td>\n",
       "      <td>0.02</td>\n",
       "      <td>0.12</td>\n",
       "      <td>0.18</td>\n",
       "      <td>0.15</td>\n",
       "      <td>0.07</td>\n",
       "      <td>0.12</td>\n",
       "      <td>0.14</td>\n",
       "      <td>0.06</td>\n",
       "    </tr>\n",
       "    <tr>\n",
       "      <th>triple glazing, lsg, two coatings, krypton</th>\n",
       "      <td>0.13</td>\n",
       "      <td>0.02</td>\n",
       "      <td>0.07</td>\n",
       "      <td>0.20</td>\n",
       "      <td>0.18</td>\n",
       "      <td>0.08</td>\n",
       "      <td>0.15</td>\n",
       "      <td>0.13</td>\n",
       "      <td>0.06</td>\n",
       "    </tr>\n",
       "    <tr>\n",
       "      <th>triple glazing, lsg, two coatings, xenon</th>\n",
       "      <td>0.17</td>\n",
       "      <td>0.03</td>\n",
       "      <td>0.21</td>\n",
       "      <td>0.25</td>\n",
       "      <td>0.20</td>\n",
       "      <td>0.09</td>\n",
       "      <td>0.17</td>\n",
       "      <td>0.20</td>\n",
       "      <td>0.09</td>\n",
       "    </tr>\n",
       "    <tr>\n",
       "      <th>smart glass, double glazing</th>\n",
       "      <td>1.00</td>\n",
       "      <td>1.00</td>\n",
       "      <td>1.00</td>\n",
       "      <td>1.00</td>\n",
       "      <td>1.00</td>\n",
       "      <td>1.00</td>\n",
       "      <td>1.00</td>\n",
       "      <td>1.00</td>\n",
       "      <td>1.00</td>\n",
       "    </tr>\n",
       "  </tbody>\n",
       "</table>\n",
       "</div>"
      ],
      "text/plain": [
       "Method                                     Climate Change Ecosystem Quality  \\\n",
       "Unit                                            kg CO2-Eq               CTU   \n",
       "Name                                                                          \n",
       "single glazing, lsg                                  0.05              0.01   \n",
       "single glazing, lsg, coated                          0.06              0.01   \n",
       "double glazing, coated                               0.07              0.01   \n",
       "double glazing, lsg                                  0.09              0.02   \n",
       "double glazing, lsg, coated                          0.09              0.02   \n",
       "double glazing, lsg, two coatings                    0.09              0.02   \n",
       "double glazing, lsg, vacuum                          0.09              0.01   \n",
       "triple glazing, coated                               0.10              0.02   \n",
       "double glazing, lsg, coated, krypton                 0.10              0.02   \n",
       "triple glazing, lsg, two coatings                    0.12              0.02   \n",
       "triple glazing, lsg, coated                          0.12              0.02   \n",
       "double glazing, lsg, two coatings, xenon             0.12              0.02   \n",
       "triple glazing, lsg, two coatings, krypton           0.13              0.02   \n",
       "triple glazing, lsg, two coatings, xenon             0.17              0.03   \n",
       "smart glass, double glazing                          1.00              1.00   \n",
       "\n",
       "Method                                                                 \\\n",
       "Unit                                       kg P-Eq mol H+-Eq mol N-Eq   \n",
       "Name                                                                    \n",
       "single glazing, lsg                           0.02      0.08     0.07   \n",
       "single glazing, lsg, coated                   0.02      0.08     0.07   \n",
       "double glazing, coated                        0.02      0.12     0.11   \n",
       "double glazing, lsg                           0.03      0.14     0.12   \n",
       "double glazing, lsg, coated                   0.04      0.14     0.13   \n",
       "double glazing, lsg, two coatings             0.04      0.14     0.13   \n",
       "double glazing, lsg, vacuum                   0.04      0.14     0.13   \n",
       "triple glazing, coated                        0.03      0.16     0.15   \n",
       "double glazing, lsg, coated, krypton          0.05      0.15     0.13   \n",
       "triple glazing, lsg, two coatings             0.05      0.19     0.17   \n",
       "triple glazing, lsg, coated                   0.05      0.19     0.17   \n",
       "double glazing, lsg, two coatings, xenon      0.12      0.18     0.15   \n",
       "triple glazing, lsg, two coatings, krypton    0.07      0.20     0.18   \n",
       "triple glazing, lsg, two coatings, xenon      0.21      0.25     0.20   \n",
       "smart glass, double glazing                   1.00      1.00     1.00   \n",
       "\n",
       "Method                                     Human Health            Resources  \\\n",
       "Unit                                         kg CFC-11. kg NMVOC-. megajoule   \n",
       "Name                                                                           \n",
       "single glazing, lsg                                0.04       0.06      0.06   \n",
       "single glazing, lsg, coated                        0.04       0.06      0.06   \n",
       "double glazing, coated                             0.04       0.09      0.06   \n",
       "double glazing, lsg                                0.06       0.11      0.09   \n",
       "double glazing, lsg, coated                        0.06       0.11      0.09   \n",
       "double glazing, lsg, two coatings                  0.06       0.11      0.09   \n",
       "double glazing, lsg, vacuum                        0.06       0.11      0.10   \n",
       "triple glazing, coated                             0.05       0.12      0.08   \n",
       "double glazing, lsg, coated, krypton               0.06       0.11      0.10   \n",
       "triple glazing, lsg, two coatings                  0.07       0.14      0.12   \n",
       "triple glazing, lsg, coated                        0.08       0.14      0.12   \n",
       "double glazing, lsg, two coatings, xenon           0.07       0.12      0.14   \n",
       "triple glazing, lsg, two coatings, krypton         0.08       0.15      0.13   \n",
       "triple glazing, lsg, two coatings, xenon           0.09       0.17      0.20   \n",
       "smart glass, double glazing                        1.00       1.00      1.00   \n",
       "\n",
       "Method                                             \n",
       "Unit                                       points  \n",
       "Name                                               \n",
       "single glazing, lsg                          0.03  \n",
       "single glazing, lsg, coated                  0.03  \n",
       "double glazing, coated                       0.03  \n",
       "double glazing, lsg                          0.04  \n",
       "double glazing, lsg, coated                  0.05  \n",
       "double glazing, lsg, two coatings            0.05  \n",
       "double glazing, lsg, vacuum                  0.05  \n",
       "triple glazing, coated                       0.05  \n",
       "double glazing, lsg, coated, krypton         0.05  \n",
       "triple glazing, lsg, two coatings            0.06  \n",
       "triple glazing, lsg, coated                  0.06  \n",
       "double glazing, lsg, two coatings, xenon     0.06  \n",
       "triple glazing, lsg, two coatings, krypton   0.06  \n",
       "triple glazing, lsg, two coatings, xenon     0.09  \n",
       "smart glass, double glazing                  1.00  "
      ]
     },
     "execution_count": 76,
     "metadata": {},
     "output_type": "execute_result"
    }
   ],
   "source": [
    "df_norm_impacts_igus = df_impacts_igus / df_impacts_igus.max()\n",
    "df_norm_impacts_igus.round(2).sort_values(\n",
    "    (\"Climate Change\", \"kg CO2-Eq\"), ascending=True)"
   ]
  },
  {
   "cell_type": "markdown",
   "metadata": {},
   "source": [
    "# Import Results from the BEM"
   ]
  },
  {
   "cell_type": "markdown",
   "metadata": {},
   "source": [
    "### Recover data saved in csv files from previous simulations:"
   ]
  },
  {
   "cell_type": "markdown",
   "metadata": {},
   "source": [
    "To read directly the csv file and work from them instead of relaunching the energy simulation (Please note that this does not prevent the simulations from being run again. To do this, change the run_all boolean variable above. If the simulations are rerun, the new results will overwrite the old ones saved in the csv files):"
   ]
  },
  {
   "cell_type": "markdown",
   "metadata": {},
   "source": [
    "Dataframe with all energy usage data per simulation run:"
   ]
  },
  {
   "cell_type": "markdown",
   "metadata": {},
   "source": [
    "Retrieve the data from the csv. The simulation_postprocess function will merge the new results by overwriting the old ones, or simply add the new ones if they did not exist yet."
   ]
  },
  {
   "cell_type": "code",
   "execution_count": 77,
   "metadata": {},
   "outputs": [],
   "source": [
    "# Open the df_end_use_allsteps from the csv file:\n",
    "# Avoid re-running energy simulations (time consuming):\n",
    "if os.path.isfile('outputs\\steps_dir\\df_end_use_allsteps.csv'):\n",
    "    df_end_use_allsteps_csv = (\n",
    "        pd.read_csv('outputs\\steps_dir\\df_end_use_allsteps.csv'))\n",
    "    df_end_use_allsteps_csv = df_end_use_allsteps_csv.pivot_table(\n",
    "        values='0', index=['EndUse'], columns=['Run name', 'FuelType'])\n",
    "\n",
    "    df_end_use_allsteps = df_end_use_allsteps_csv"
   ]
  },
  {
   "cell_type": "markdown",
   "metadata": {},
   "source": [
    "Dataframe with the main assumptions and results (natural gas and electricity) specific to each simulation run:"
   ]
  },
  {
   "cell_type": "markdown",
   "metadata": {},
   "source": [
    "A function to recover df_step dataframes saved as csv:"
   ]
  },
  {
   "cell_type": "code",
   "execution_count": 78,
   "metadata": {},
   "outputs": [],
   "source": [
    "def recover_df_step(n_step, df_step):\n",
    "    \"\"\"\n",
    "    If a df_step.csv exists, recover it as a dataframe wich replace \n",
    "    the one currently in use in the notebook.\n",
    "    Avoid re-running energy simulation (time consuming).\n",
    "\n",
    "    Parameters\n",
    "    ----------\n",
    "    n_step: number of the step\n",
    "    df_step: a dataframe. followed by a number (e.g. step4), \n",
    "    identify the step with simulation runs and main results\n",
    "\n",
    "    Returns\n",
    "    -------\n",
    "    df_step: update with csv data or exactly the same as the one in the input\n",
    "\n",
    "    \"\"\"\n",
    "\n",
    "    # Does the csv exist\n",
    "    # and check if the existing df_step includes simulation results:\n",
    "    if (os.path.isfile(f\"outputs\\steps_dir\\df_step\"+str(n_step)+\".csv\")\n",
    "            and np.isnan(\n",
    "                sum(df_step[\"natural_gas\"]) + sum(df_step[\"elec_use\"]))):\n",
    "        df_step = (\n",
    "            pd.read_csv(f\"outputs\\steps_dir\\df_step\"+str(n_step)+\".csv\")\n",
    "            .set_index(['name']))\n",
    "\n",
    "        print(\"df_step updated with csv data\")\n",
    "    else:\n",
    "        print(\"existing df_step kept in place\")\n",
    "\n",
    "    return df_step"
   ]
  },
  {
   "cell_type": "markdown",
   "metadata": {},
   "source": [
    "## Recover the df_step dataframes:"
   ]
  },
  {
   "cell_type": "code",
   "execution_count": 79,
   "metadata": {},
   "outputs": [
    {
     "name": "stdout",
     "output_type": "stream",
     "text": [
      "df_step updated with csv data\n"
     ]
    }
   ],
   "source": [
    "df_step4 = recover_df_step(4, df_step4)"
   ]
  },
  {
   "cell_type": "code",
   "execution_count": 81,
   "metadata": {},
   "outputs": [],
   "source": [
    "df_step4 = (\n",
    "    pd.read_csv(f\"outputs\\steps_dir\\df_step4.csv\").set_index(['name'])\n",
    ")"
   ]
  },
  {
   "cell_type": "code",
   "execution_count": 82,
   "metadata": {},
   "outputs": [
    {
     "data": {
      "text/html": [
       "<div>\n",
       "<style scoped>\n",
       "    .dataframe tbody tr th:only-of-type {\n",
       "        vertical-align: middle;\n",
       "    }\n",
       "\n",
       "    .dataframe tbody tr th {\n",
       "        vertical-align: top;\n",
       "    }\n",
       "\n",
       "    .dataframe thead th {\n",
       "        text-align: right;\n",
       "    }\n",
       "</style>\n",
       "<table border=\"1\" class=\"dataframe\">\n",
       "  <thead>\n",
       "    <tr style=\"text-align: right;\">\n",
       "      <th></th>\n",
       "      <th>glazing</th>\n",
       "      <th>heating_setpoint</th>\n",
       "      <th>cooling_setpoint</th>\n",
       "      <th>natural_gas</th>\n",
       "      <th>elec_use</th>\n",
       "      <th>shdg_device</th>\n",
       "      <th>thermal_curtain</th>\n",
       "      <th>sg</th>\n",
       "      <th>sg_coated</th>\n",
       "      <th>dg</th>\n",
       "      <th>...</th>\n",
       "      <th>dg_coated_krypton</th>\n",
       "      <th>dg_2coatings</th>\n",
       "      <th>tg_coated</th>\n",
       "      <th>tg_2coatings</th>\n",
       "      <th>tg_2coatings_krypton</th>\n",
       "      <th>tg_2coatings_xenon</th>\n",
       "      <th>ccf</th>\n",
       "      <th>dg_vacuum</th>\n",
       "      <th>dg_smart</th>\n",
       "      <th>dsf</th>\n",
       "    </tr>\n",
       "    <tr>\n",
       "      <th>name</th>\n",
       "      <th></th>\n",
       "      <th></th>\n",
       "      <th></th>\n",
       "      <th></th>\n",
       "      <th></th>\n",
       "      <th></th>\n",
       "      <th></th>\n",
       "      <th></th>\n",
       "      <th></th>\n",
       "      <th></th>\n",
       "      <th></th>\n",
       "      <th></th>\n",
       "      <th></th>\n",
       "      <th></th>\n",
       "      <th></th>\n",
       "      <th></th>\n",
       "      <th></th>\n",
       "      <th></th>\n",
       "      <th></th>\n",
       "      <th></th>\n",
       "      <th></th>\n",
       "    </tr>\n",
       "  </thead>\n",
       "  <tbody>\n",
       "    <tr>\n",
       "      <th>d_a_2126_dg_init_vav_sd</th>\n",
       "      <td>dg_init_bronze</td>\n",
       "      <td>_Heating_21</td>\n",
       "      <td>_Cooling_26</td>\n",
       "      <td>336.991453</td>\n",
       "      <td>570.074092</td>\n",
       "      <td>1</td>\n",
       "      <td>0</td>\n",
       "      <td>0</td>\n",
       "      <td>0</td>\n",
       "      <td>1</td>\n",
       "      <td>...</td>\n",
       "      <td>0</td>\n",
       "      <td>0</td>\n",
       "      <td>0</td>\n",
       "      <td>0</td>\n",
       "      <td>0</td>\n",
       "      <td>0</td>\n",
       "      <td>0</td>\n",
       "      <td>0</td>\n",
       "      <td>0</td>\n",
       "      <td>0</td>\n",
       "    </tr>\n",
       "    <tr>\n",
       "      <th>d_b_2126_dg0_vav_sd</th>\n",
       "      <td>dg_0_clear</td>\n",
       "      <td>_Heating_21</td>\n",
       "      <td>_Cooling_26</td>\n",
       "      <td>337.410256</td>\n",
       "      <td>591.294926</td>\n",
       "      <td>1</td>\n",
       "      <td>0</td>\n",
       "      <td>0</td>\n",
       "      <td>0</td>\n",
       "      <td>1</td>\n",
       "      <td>...</td>\n",
       "      <td>0</td>\n",
       "      <td>0</td>\n",
       "      <td>0</td>\n",
       "      <td>0</td>\n",
       "      <td>0</td>\n",
       "      <td>0</td>\n",
       "      <td>0</td>\n",
       "      <td>0</td>\n",
       "      <td>0</td>\n",
       "      <td>0</td>\n",
       "    </tr>\n",
       "    <tr>\n",
       "      <th>d_c_2126_sg1_vav_sd</th>\n",
       "      <td>sg_1_clear</td>\n",
       "      <td>_Heating_21</td>\n",
       "      <td>_Cooling_26</td>\n",
       "      <td>610.038462</td>\n",
       "      <td>581.988626</td>\n",
       "      <td>1</td>\n",
       "      <td>0</td>\n",
       "      <td>1</td>\n",
       "      <td>0</td>\n",
       "      <td>0</td>\n",
       "      <td>...</td>\n",
       "      <td>0</td>\n",
       "      <td>0</td>\n",
       "      <td>0</td>\n",
       "      <td>0</td>\n",
       "      <td>0</td>\n",
       "      <td>0</td>\n",
       "      <td>0</td>\n",
       "      <td>0</td>\n",
       "      <td>0</td>\n",
       "      <td>0</td>\n",
       "    </tr>\n",
       "    <tr>\n",
       "      <th>d_d_2126_sg2_vav_sd</th>\n",
       "      <td>sg_2_coated</td>\n",
       "      <td>_Heating_21</td>\n",
       "      <td>_Cooling_26</td>\n",
       "      <td>376.551282</td>\n",
       "      <td>561.245038</td>\n",
       "      <td>1</td>\n",
       "      <td>0</td>\n",
       "      <td>0</td>\n",
       "      <td>1</td>\n",
       "      <td>0</td>\n",
       "      <td>...</td>\n",
       "      <td>0</td>\n",
       "      <td>0</td>\n",
       "      <td>0</td>\n",
       "      <td>0</td>\n",
       "      <td>0</td>\n",
       "      <td>0</td>\n",
       "      <td>0</td>\n",
       "      <td>0</td>\n",
       "      <td>0</td>\n",
       "      <td>0</td>\n",
       "    </tr>\n",
       "    <tr>\n",
       "      <th>d_e_2126_dg1_vav_sd</th>\n",
       "      <td>dg_1_highSHG_highLT</td>\n",
       "      <td>_Heating_21</td>\n",
       "      <td>_Cooling_26</td>\n",
       "      <td>244.696581</td>\n",
       "      <td>621.582249</td>\n",
       "      <td>1</td>\n",
       "      <td>0</td>\n",
       "      <td>0</td>\n",
       "      <td>0</td>\n",
       "      <td>0</td>\n",
       "      <td>...</td>\n",
       "      <td>0</td>\n",
       "      <td>0</td>\n",
       "      <td>0</td>\n",
       "      <td>0</td>\n",
       "      <td>0</td>\n",
       "      <td>0</td>\n",
       "      <td>0</td>\n",
       "      <td>0</td>\n",
       "      <td>0</td>\n",
       "      <td>0</td>\n",
       "    </tr>\n",
       "    <tr>\n",
       "      <th>d_f_2126_dg2_vav_sd</th>\n",
       "      <td>dg_3_midSHG_highLT</td>\n",
       "      <td>_Heating_21</td>\n",
       "      <td>_Cooling_26</td>\n",
       "      <td>243.739316</td>\n",
       "      <td>594.121600</td>\n",
       "      <td>1</td>\n",
       "      <td>0</td>\n",
       "      <td>0</td>\n",
       "      <td>0</td>\n",
       "      <td>0</td>\n",
       "      <td>...</td>\n",
       "      <td>0</td>\n",
       "      <td>0</td>\n",
       "      <td>0</td>\n",
       "      <td>0</td>\n",
       "      <td>0</td>\n",
       "      <td>0</td>\n",
       "      <td>0</td>\n",
       "      <td>0</td>\n",
       "      <td>0</td>\n",
       "      <td>0</td>\n",
       "    </tr>\n",
       "    <tr>\n",
       "      <th>d_g_2126_dg3_vav_sd</th>\n",
       "      <td>dg_2_midSHG_midLT</td>\n",
       "      <td>_Heating_21</td>\n",
       "      <td>_Cooling_26</td>\n",
       "      <td>241.303419</td>\n",
       "      <td>597.283059</td>\n",
       "      <td>1</td>\n",
       "      <td>0</td>\n",
       "      <td>0</td>\n",
       "      <td>0</td>\n",
       "      <td>0</td>\n",
       "      <td>...</td>\n",
       "      <td>0</td>\n",
       "      <td>0</td>\n",
       "      <td>0</td>\n",
       "      <td>0</td>\n",
       "      <td>0</td>\n",
       "      <td>0</td>\n",
       "      <td>0</td>\n",
       "      <td>0</td>\n",
       "      <td>0</td>\n",
       "      <td>0</td>\n",
       "    </tr>\n",
       "    <tr>\n",
       "      <th>d_h_2126_dg4_vav_sd</th>\n",
       "      <td>dg_4_lowSHG_lowLT</td>\n",
       "      <td>_Heating_21</td>\n",
       "      <td>_Cooling_26</td>\n",
       "      <td>237.252137</td>\n",
       "      <td>571.203100</td>\n",
       "      <td>1</td>\n",
       "      <td>0</td>\n",
       "      <td>0</td>\n",
       "      <td>0</td>\n",
       "      <td>0</td>\n",
       "      <td>...</td>\n",
       "      <td>0</td>\n",
       "      <td>0</td>\n",
       "      <td>0</td>\n",
       "      <td>0</td>\n",
       "      <td>0</td>\n",
       "      <td>0</td>\n",
       "      <td>0</td>\n",
       "      <td>0</td>\n",
       "      <td>0</td>\n",
       "      <td>0</td>\n",
       "    </tr>\n",
       "    <tr>\n",
       "      <th>d_i_2126_dg5_vav_sd</th>\n",
       "      <td>dg_5_lowSHG_midLT</td>\n",
       "      <td>_Heating_21</td>\n",
       "      <td>_Cooling_26</td>\n",
       "      <td>239.410256</td>\n",
       "      <td>581.298874</td>\n",
       "      <td>1</td>\n",
       "      <td>0</td>\n",
       "      <td>0</td>\n",
       "      <td>0</td>\n",
       "      <td>0</td>\n",
       "      <td>...</td>\n",
       "      <td>0</td>\n",
       "      <td>0</td>\n",
       "      <td>0</td>\n",
       "      <td>0</td>\n",
       "      <td>0</td>\n",
       "      <td>0</td>\n",
       "      <td>0</td>\n",
       "      <td>0</td>\n",
       "      <td>0</td>\n",
       "      <td>0</td>\n",
       "    </tr>\n",
       "    <tr>\n",
       "      <th>d_j_2126_dg6_vav_sd</th>\n",
       "      <td>dg_6_lowSHG_highLT</td>\n",
       "      <td>_Heating_21</td>\n",
       "      <td>_Cooling_26</td>\n",
       "      <td>240.876068</td>\n",
       "      <td>593.214595</td>\n",
       "      <td>1</td>\n",
       "      <td>0</td>\n",
       "      <td>0</td>\n",
       "      <td>0</td>\n",
       "      <td>0</td>\n",
       "      <td>...</td>\n",
       "      <td>0</td>\n",
       "      <td>1</td>\n",
       "      <td>0</td>\n",
       "      <td>0</td>\n",
       "      <td>0</td>\n",
       "      <td>0</td>\n",
       "      <td>0</td>\n",
       "      <td>0</td>\n",
       "      <td>0</td>\n",
       "      <td>0</td>\n",
       "    </tr>\n",
       "    <tr>\n",
       "      <th>d_k_2126_tg1_vav_sd</th>\n",
       "      <td>tg_1_highSHG_highLT</td>\n",
       "      <td>_Heating_21</td>\n",
       "      <td>_Cooling_26</td>\n",
       "      <td>217.102564</td>\n",
       "      <td>631.281505</td>\n",
       "      <td>1</td>\n",
       "      <td>0</td>\n",
       "      <td>0</td>\n",
       "      <td>0</td>\n",
       "      <td>0</td>\n",
       "      <td>...</td>\n",
       "      <td>0</td>\n",
       "      <td>0</td>\n",
       "      <td>1</td>\n",
       "      <td>0</td>\n",
       "      <td>0</td>\n",
       "      <td>0</td>\n",
       "      <td>0</td>\n",
       "      <td>0</td>\n",
       "      <td>0</td>\n",
       "      <td>0</td>\n",
       "    </tr>\n",
       "    <tr>\n",
       "      <th>d_l_2126_tg2_vav_sd</th>\n",
       "      <td>tg_2_midSHG_midLT</td>\n",
       "      <td>_Heating_21</td>\n",
       "      <td>_Cooling_26</td>\n",
       "      <td>234.841880</td>\n",
       "      <td>602.325010</td>\n",
       "      <td>1</td>\n",
       "      <td>0</td>\n",
       "      <td>0</td>\n",
       "      <td>0</td>\n",
       "      <td>0</td>\n",
       "      <td>...</td>\n",
       "      <td>0</td>\n",
       "      <td>0</td>\n",
       "      <td>1</td>\n",
       "      <td>0</td>\n",
       "      <td>0</td>\n",
       "      <td>0</td>\n",
       "      <td>0</td>\n",
       "      <td>0</td>\n",
       "      <td>0</td>\n",
       "      <td>0</td>\n",
       "    </tr>\n",
       "    <tr>\n",
       "      <th>d_m_2126_tg3_vav_sd</th>\n",
       "      <td>tg_3_midSHG_highLT</td>\n",
       "      <td>_Heating_21</td>\n",
       "      <td>_Cooling_26</td>\n",
       "      <td>235.820513</td>\n",
       "      <td>599.672851</td>\n",
       "      <td>1</td>\n",
       "      <td>0</td>\n",
       "      <td>0</td>\n",
       "      <td>0</td>\n",
       "      <td>0</td>\n",
       "      <td>...</td>\n",
       "      <td>0</td>\n",
       "      <td>0</td>\n",
       "      <td>1</td>\n",
       "      <td>0</td>\n",
       "      <td>0</td>\n",
       "      <td>0</td>\n",
       "      <td>0</td>\n",
       "      <td>0</td>\n",
       "      <td>0</td>\n",
       "      <td>0</td>\n",
       "    </tr>\n",
       "    <tr>\n",
       "      <th>d_n_2126_tg4_vav_sd</th>\n",
       "      <td>tg_4_lowSHG_lowLT</td>\n",
       "      <td>_Heating_21</td>\n",
       "      <td>_Cooling_26</td>\n",
       "      <td>238.782051</td>\n",
       "      <td>583.206672</td>\n",
       "      <td>1</td>\n",
       "      <td>0</td>\n",
       "      <td>0</td>\n",
       "      <td>0</td>\n",
       "      <td>0</td>\n",
       "      <td>...</td>\n",
       "      <td>0</td>\n",
       "      <td>0</td>\n",
       "      <td>0</td>\n",
       "      <td>1</td>\n",
       "      <td>0</td>\n",
       "      <td>0</td>\n",
       "      <td>0</td>\n",
       "      <td>0</td>\n",
       "      <td>0</td>\n",
       "      <td>0</td>\n",
       "    </tr>\n",
       "    <tr>\n",
       "      <th>d_o_2126_tg5_vav_sd</th>\n",
       "      <td>tg_5_lowSHG_midLT</td>\n",
       "      <td>_Heating_21</td>\n",
       "      <td>_Cooling_26</td>\n",
       "      <td>238.205128</td>\n",
       "      <td>585.812531</td>\n",
       "      <td>1</td>\n",
       "      <td>0</td>\n",
       "      <td>0</td>\n",
       "      <td>0</td>\n",
       "      <td>0</td>\n",
       "      <td>...</td>\n",
       "      <td>0</td>\n",
       "      <td>0</td>\n",
       "      <td>0</td>\n",
       "      <td>1</td>\n",
       "      <td>0</td>\n",
       "      <td>0</td>\n",
       "      <td>0</td>\n",
       "      <td>0</td>\n",
       "      <td>0</td>\n",
       "      <td>0</td>\n",
       "    </tr>\n",
       "    <tr>\n",
       "      <th>d_p_2126_tg6_vav_sd</th>\n",
       "      <td>tg_6_lowSHG_highLT</td>\n",
       "      <td>_Heating_21</td>\n",
       "      <td>_Cooling_26</td>\n",
       "      <td>231.038462</td>\n",
       "      <td>602.868738</td>\n",
       "      <td>1</td>\n",
       "      <td>0</td>\n",
       "      <td>0</td>\n",
       "      <td>0</td>\n",
       "      <td>0</td>\n",
       "      <td>...</td>\n",
       "      <td>0</td>\n",
       "      <td>0</td>\n",
       "      <td>0</td>\n",
       "      <td>1</td>\n",
       "      <td>0</td>\n",
       "      <td>0</td>\n",
       "      <td>0</td>\n",
       "      <td>0</td>\n",
       "      <td>0</td>\n",
       "      <td>0</td>\n",
       "    </tr>\n",
       "  </tbody>\n",
       "</table>\n",
       "<p>16 rows × 21 columns</p>\n",
       "</div>"
      ],
      "text/plain": [
       "                                     glazing heating_setpoint  \\\n",
       "name                                                            \n",
       "d_a_2126_dg_init_vav_sd       dg_init_bronze      _Heating_21   \n",
       "d_b_2126_dg0_vav_sd               dg_0_clear      _Heating_21   \n",
       "d_c_2126_sg1_vav_sd               sg_1_clear      _Heating_21   \n",
       "d_d_2126_sg2_vav_sd              sg_2_coated      _Heating_21   \n",
       "d_e_2126_dg1_vav_sd      dg_1_highSHG_highLT      _Heating_21   \n",
       "d_f_2126_dg2_vav_sd       dg_3_midSHG_highLT      _Heating_21   \n",
       "d_g_2126_dg3_vav_sd        dg_2_midSHG_midLT      _Heating_21   \n",
       "d_h_2126_dg4_vav_sd        dg_4_lowSHG_lowLT      _Heating_21   \n",
       "d_i_2126_dg5_vav_sd        dg_5_lowSHG_midLT      _Heating_21   \n",
       "d_j_2126_dg6_vav_sd       dg_6_lowSHG_highLT      _Heating_21   \n",
       "d_k_2126_tg1_vav_sd      tg_1_highSHG_highLT      _Heating_21   \n",
       "d_l_2126_tg2_vav_sd        tg_2_midSHG_midLT      _Heating_21   \n",
       "d_m_2126_tg3_vav_sd       tg_3_midSHG_highLT      _Heating_21   \n",
       "d_n_2126_tg4_vav_sd        tg_4_lowSHG_lowLT      _Heating_21   \n",
       "d_o_2126_tg5_vav_sd        tg_5_lowSHG_midLT      _Heating_21   \n",
       "d_p_2126_tg6_vav_sd       tg_6_lowSHG_highLT      _Heating_21   \n",
       "\n",
       "                        cooling_setpoint  natural_gas    elec_use  \\\n",
       "name                                                                \n",
       "d_a_2126_dg_init_vav_sd      _Cooling_26   336.991453  570.074092   \n",
       "d_b_2126_dg0_vav_sd          _Cooling_26   337.410256  591.294926   \n",
       "d_c_2126_sg1_vav_sd          _Cooling_26   610.038462  581.988626   \n",
       "d_d_2126_sg2_vav_sd          _Cooling_26   376.551282  561.245038   \n",
       "d_e_2126_dg1_vav_sd          _Cooling_26   244.696581  621.582249   \n",
       "d_f_2126_dg2_vav_sd          _Cooling_26   243.739316  594.121600   \n",
       "d_g_2126_dg3_vav_sd          _Cooling_26   241.303419  597.283059   \n",
       "d_h_2126_dg4_vav_sd          _Cooling_26   237.252137  571.203100   \n",
       "d_i_2126_dg5_vav_sd          _Cooling_26   239.410256  581.298874   \n",
       "d_j_2126_dg6_vav_sd          _Cooling_26   240.876068  593.214595   \n",
       "d_k_2126_tg1_vav_sd          _Cooling_26   217.102564  631.281505   \n",
       "d_l_2126_tg2_vav_sd          _Cooling_26   234.841880  602.325010   \n",
       "d_m_2126_tg3_vav_sd          _Cooling_26   235.820513  599.672851   \n",
       "d_n_2126_tg4_vav_sd          _Cooling_26   238.782051  583.206672   \n",
       "d_o_2126_tg5_vav_sd          _Cooling_26   238.205128  585.812531   \n",
       "d_p_2126_tg6_vav_sd          _Cooling_26   231.038462  602.868738   \n",
       "\n",
       "                         shdg_device  thermal_curtain  sg  sg_coated  dg  ...  \\\n",
       "name                                                                      ...   \n",
       "d_a_2126_dg_init_vav_sd            1                0   0          0   1  ...   \n",
       "d_b_2126_dg0_vav_sd                1                0   0          0   1  ...   \n",
       "d_c_2126_sg1_vav_sd                1                0   1          0   0  ...   \n",
       "d_d_2126_sg2_vav_sd                1                0   0          1   0  ...   \n",
       "d_e_2126_dg1_vav_sd                1                0   0          0   0  ...   \n",
       "d_f_2126_dg2_vav_sd                1                0   0          0   0  ...   \n",
       "d_g_2126_dg3_vav_sd                1                0   0          0   0  ...   \n",
       "d_h_2126_dg4_vav_sd                1                0   0          0   0  ...   \n",
       "d_i_2126_dg5_vav_sd                1                0   0          0   0  ...   \n",
       "d_j_2126_dg6_vav_sd                1                0   0          0   0  ...   \n",
       "d_k_2126_tg1_vav_sd                1                0   0          0   0  ...   \n",
       "d_l_2126_tg2_vav_sd                1                0   0          0   0  ...   \n",
       "d_m_2126_tg3_vav_sd                1                0   0          0   0  ...   \n",
       "d_n_2126_tg4_vav_sd                1                0   0          0   0  ...   \n",
       "d_o_2126_tg5_vav_sd                1                0   0          0   0  ...   \n",
       "d_p_2126_tg6_vav_sd                1                0   0          0   0  ...   \n",
       "\n",
       "                         dg_coated_krypton  dg_2coatings  tg_coated  \\\n",
       "name                                                                  \n",
       "d_a_2126_dg_init_vav_sd                  0             0          0   \n",
       "d_b_2126_dg0_vav_sd                      0             0          0   \n",
       "d_c_2126_sg1_vav_sd                      0             0          0   \n",
       "d_d_2126_sg2_vav_sd                      0             0          0   \n",
       "d_e_2126_dg1_vav_sd                      0             0          0   \n",
       "d_f_2126_dg2_vav_sd                      0             0          0   \n",
       "d_g_2126_dg3_vav_sd                      0             0          0   \n",
       "d_h_2126_dg4_vav_sd                      0             0          0   \n",
       "d_i_2126_dg5_vav_sd                      0             0          0   \n",
       "d_j_2126_dg6_vav_sd                      0             1          0   \n",
       "d_k_2126_tg1_vav_sd                      0             0          1   \n",
       "d_l_2126_tg2_vav_sd                      0             0          1   \n",
       "d_m_2126_tg3_vav_sd                      0             0          1   \n",
       "d_n_2126_tg4_vav_sd                      0             0          0   \n",
       "d_o_2126_tg5_vav_sd                      0             0          0   \n",
       "d_p_2126_tg6_vav_sd                      0             0          0   \n",
       "\n",
       "                         tg_2coatings  tg_2coatings_krypton  \\\n",
       "name                                                          \n",
       "d_a_2126_dg_init_vav_sd             0                     0   \n",
       "d_b_2126_dg0_vav_sd                 0                     0   \n",
       "d_c_2126_sg1_vav_sd                 0                     0   \n",
       "d_d_2126_sg2_vav_sd                 0                     0   \n",
       "d_e_2126_dg1_vav_sd                 0                     0   \n",
       "d_f_2126_dg2_vav_sd                 0                     0   \n",
       "d_g_2126_dg3_vav_sd                 0                     0   \n",
       "d_h_2126_dg4_vav_sd                 0                     0   \n",
       "d_i_2126_dg5_vav_sd                 0                     0   \n",
       "d_j_2126_dg6_vav_sd                 0                     0   \n",
       "d_k_2126_tg1_vav_sd                 0                     0   \n",
       "d_l_2126_tg2_vav_sd                 0                     0   \n",
       "d_m_2126_tg3_vav_sd                 0                     0   \n",
       "d_n_2126_tg4_vav_sd                 1                     0   \n",
       "d_o_2126_tg5_vav_sd                 1                     0   \n",
       "d_p_2126_tg6_vav_sd                 1                     0   \n",
       "\n",
       "                         tg_2coatings_xenon  ccf  dg_vacuum  dg_smart  dsf  \n",
       "name                                                                        \n",
       "d_a_2126_dg_init_vav_sd                   0    0          0         0    0  \n",
       "d_b_2126_dg0_vav_sd                       0    0          0         0    0  \n",
       "d_c_2126_sg1_vav_sd                       0    0          0         0    0  \n",
       "d_d_2126_sg2_vav_sd                       0    0          0         0    0  \n",
       "d_e_2126_dg1_vav_sd                       0    0          0         0    0  \n",
       "d_f_2126_dg2_vav_sd                       0    0          0         0    0  \n",
       "d_g_2126_dg3_vav_sd                       0    0          0         0    0  \n",
       "d_h_2126_dg4_vav_sd                       0    0          0         0    0  \n",
       "d_i_2126_dg5_vav_sd                       0    0          0         0    0  \n",
       "d_j_2126_dg6_vav_sd                       0    0          0         0    0  \n",
       "d_k_2126_tg1_vav_sd                       0    0          0         0    0  \n",
       "d_l_2126_tg2_vav_sd                       0    0          0         0    0  \n",
       "d_m_2126_tg3_vav_sd                       0    0          0         0    0  \n",
       "d_n_2126_tg4_vav_sd                       0    0          0         0    0  \n",
       "d_o_2126_tg5_vav_sd                       0    0          0         0    0  \n",
       "d_p_2126_tg6_vav_sd                       0    0          0         0    0  \n",
       "\n",
       "[16 rows x 21 columns]"
      ]
     },
     "execution_count": 82,
     "metadata": {},
     "output_type": "execute_result"
    }
   ],
   "source": [
    "df_step4"
   ]
  },
  {
   "cell_type": "markdown",
   "metadata": {},
   "source": [
    "# Analysis of the Whole Life Cycle of Curtain Walls"
   ]
  },
  {
   "cell_type": "markdown",
   "metadata": {},
   "source": [
    "## Setup of the LCA"
   ]
  },
  {
   "cell_type": "markdown",
   "metadata": {},
   "source": [
    "First, we define the activity of dismantling, and thus disposal, of the existing curtain wall:"
   ]
  },
  {
   "cell_type": "code",
   "execution_count": null,
   "metadata": {},
   "outputs": [],
   "source": [
    "out_old_cw = exldb_cw.get('dismantling_cw_old_dg')\n",
    "# Check:\n",
    "print('My activity is:\\n', out_old_cw)"
   ]
  },
  {
   "cell_type": "markdown",
   "metadata": {},
   "source": [
    "Then we define the production activity of the new curtain wall:"
   ]
  },
  {
   "cell_type": "code",
   "execution_count": null,
   "metadata": {},
   "outputs": [],
   "source": [
    "prod_cw = exldb_cw.get('production_cw')\n",
    "# Check:\n",
    "print('My activity is:\\n', prod_cw)"
   ]
  },
  {
   "cell_type": "markdown",
   "metadata": {},
   "source": [
    "We define the use phase activity (not linked to production):"
   ]
  },
  {
   "cell_type": "code",
   "execution_count": null,
   "metadata": {},
   "outputs": [],
   "source": [
    "use_bldg_w_cw = exldb_cw.get('use_glazed_office_bldg')\n",
    "# Check:\n",
    "print('My activity is:\\n', use_bldg_w_cw)"
   ]
  },
  {
   "cell_type": "markdown",
   "metadata": {},
   "source": [
    "We define a use phase activity integrating the production phase:"
   ]
  },
  {
   "cell_type": "code",
   "execution_count": null,
   "metadata": {},
   "outputs": [],
   "source": [
    "prod_and_use_cw = exldb_cw.get('use_cw')\n",
    "# Check:\n",
    "print('My activity is:\\n', prod_and_use_cw)"
   ]
  },
  {
   "cell_type": "markdown",
   "metadata": {},
   "source": [
    "We define a maintenance activity:"
   ]
  },
  {
   "cell_type": "code",
   "execution_count": null,
   "metadata": {},
   "outputs": [],
   "source": [
    "repair_cw = exldb_cw.get('maintenance_cw')\n",
    "# Check:\n",
    "print('My activity is:\\n', repair_cw)"
   ]
  },
  {
   "cell_type": "markdown",
   "metadata": {},
   "source": [
    "And finally, the end-of-life activity:"
   ]
  },
  {
   "cell_type": "code",
   "execution_count": null,
   "metadata": {},
   "outputs": [],
   "source": [
    "eol_cw = exldb_cw.get('eol_cw')\n",
    "# Check:\n",
    "print('My activity is:\\n', eol_cw)"
   ]
  },
  {
   "cell_type": "markdown",
   "metadata": {},
   "source": [
    "List of parameters:"
   ]
  },
  {
   "cell_type": "code",
   "execution_count": null,
   "metadata": {},
   "outputs": [],
   "source": [
    "print(\"Project parameters:\")\n",
    "for p in ProjectParameter.select():\n",
    "    print(p.name, \":\", p.amount)\n",
    "\n",
    "print(\"------\")\n",
    "print(\"Database parameters:\")\n",
    "for p in DatabaseParameter.select():\n",
    "    print(p.name, \":\", p.amount)\n",
    "\n",
    "print(\"------\")\n",
    "print(\"Activity parameters:\")\n",
    "for p in ActivityParameter.select():\n",
    "    if \"dummy\" not in p.name:\n",
    "        print(p.name, \":\", p.amount)"
   ]
  },
  {
   "cell_type": "code",
   "execution_count": null,
   "metadata": {},
   "outputs": [],
   "source": [
    "# Define the details of the parameter:\n",
    "activity_data = [{'name': 'param_natural_gas', 'amount': 0.0,\n",
    "                  'database': 'exldb_cw', 'code': 'par_natgas'},\n",
    "                 {'name': 'param_elec_use', 'amount': 0.0,\n",
    "                     'database': 'exldb_cw', 'code': 'par_elec'},\n",
    "                 {'name': 'param_lifespan', 'amount': 40.0,\n",
    "                     'database': 'exldb_cw', 'code': 'par_lifespan'},\n",
    "                 {'name': 'param_shdg_device', 'amount': 0.0,\n",
    "                     'database': 'exldb_cw', 'code': 'par_shdg'},\n",
    "                 {'name': 'param_thermal_curtain', 'amount': 0.0,\n",
    "                     'database': 'exldb_cw', 'code': 'par_curtain'},\n",
    "                 {'name': 'param_sg', 'amount': 0.0,\n",
    "                     'database': 'exldb_cw', 'code': 'par_cw1'},\n",
    "                 {'name': 'param_sg_coated', 'amount': 0.0,\n",
    "                     'database': 'exldb_cw', 'code': 'par_cw2'},\n",
    "                 {'name': 'param_dg', 'amount': 0.0,\n",
    "                     'database': 'exldb_cw', 'code': 'par_cw3'},\n",
    "                 {'name': 'param_dg_coated', 'amount': 0.0,\n",
    "                     'database': 'exldb_cw', 'code': 'par_cw4'},\n",
    "                 {'name': 'param_dg_coated_krypton', 'amount': 0.0,\n",
    "                     'database': 'exldb_cw', 'code': 'par_cw5'},\n",
    "                 {'name': 'param_dg_2coatings', 'amount': 0.0,\n",
    "                     'database': 'exldb_cw', 'code': 'par_cw6'},\n",
    "                 {'name': 'param_tg_coated', 'amount': 0.0,\n",
    "                     'database': 'exldb_cw', 'code': 'par_cw7'},\n",
    "                 {'name': 'param_tg_2coatings', 'amount': 0.0,\n",
    "                     'database': 'exldb_cw', 'code': 'par_cw8'},\n",
    "                 {'name': 'param_tg_2coatings_krypton', 'amount': 0.0,\n",
    "                     'database': 'exldb_cw', 'code': 'par_cw9'},\n",
    "                 {'name': 'param_tg_2coatings_xenon', 'amount': 0.0,\n",
    "                     'database': 'exldb_cw', 'code': 'par_cw10'},\n",
    "                 {'name': 'param_ccf', 'amount': 0.0,\n",
    "                     'database': 'exldb_cw', 'code': 'par_cw11'},\n",
    "                 {'name': 'param_dg_vacuum', 'amount': 0.0,\n",
    "                     'database': 'exldb_cw', 'code': 'par_cw12'},\n",
    "                 {'name': 'param_dg_smart', 'amount': 0.0,\n",
    "                  'database': 'exldb_cw', 'code': 'par_cw13'},\n",
    "                 {'name': 'param_dsf', 'amount': 0.0,\n",
    "                     'database': 'exldb_cw', 'code': 'par_cw14'}]\n",
    "\n",
    "parameters.new_activity_parameters(\n",
    "    activity_data, \"cw_param_group\", overwrite=True)\n",
    "parameters.add_exchanges_to_group(\"cw_param_group\", prod_cw)\n",
    "parameters.add_exchanges_to_group(\"cw_param_group\", use_cw)\n",
    "ActivityParameter.recalculate_exchanges(\"cw_param_group\")\n",
    "\n",
    "# Create a list with parameter names:\n",
    "p_name_ls = []\n",
    "for p in ActivityParameter.select():\n",
    "    if \"dummy\" not in p.name:\n",
    "        p_name_ls.append(p.name)\n",
    "        print(p, p.amount)"
   ]
  },
  {
   "cell_type": "markdown",
   "metadata": {},
   "source": [
    "## Functions to Perform the LCAs"
   ]
  },
  {
   "cell_type": "markdown",
   "metadata": {},
   "source": [
    "Write a function to perform the LCA according to activities and parameter sets:"
   ]
  },
  {
   "cell_type": "code",
   "execution_count": null,
   "metadata": {},
   "outputs": [],
   "source": [
    "def lca_cw_gwp(df_step, act):\n",
    "    \"\"\"\n",
    "    Perform a simple lca for different scenarios \n",
    "    according to parameters defined in df_step\n",
    "\n",
    "    Parameters\n",
    "    ----------\n",
    "    df_step: DataFrame with list of parameters and their values\n",
    "    act: activity to assess\n",
    "\n",
    "    Returns\n",
    "    -------\n",
    "    ls_results: list of values for IPCC GWP\n",
    "    \"\"\"\n",
    "\n",
    "    # To save results:\n",
    "    ls_results = []\n",
    "\n",
    "    # Define a dataframe only with bw2 parameters:\n",
    "    df_param = df_step.drop(['glazing', 'heating_setpoint',\n",
    "                             'cooling_setpoint'], axis=1)\n",
    "\n",
    "    # Convert dataframe in a numpy array:\n",
    "    val_np = df_param.to_numpy()\n",
    "\n",
    "    n_scenario = 0\n",
    "\n",
    "    for v in val_np:\n",
    "        name_scenario = df_param.index[n_scenario]\n",
    "        n_scenario += 1\n",
    "\n",
    "        for i in range(len(df_param.columns)):\n",
    "            # Change parameters according to column.index:\n",
    "            param_name = df_param.columns[i]\n",
    "            n = df_param.columns.get_loc(param_name)\n",
    "\n",
    "            (ActivityParameter.update(amount=v[n])\n",
    "             .where(ActivityParameter.name == f'param_{param_name}').execute())\n",
    "\n",
    "        parameters.add_exchanges_to_group(\"cw_param_group\", act)\n",
    "        ActivityParameter.recalculate_exchanges(\"cw_param_group\")\n",
    "\n",
    "        lca = LCA({act: 1}, method_ilcd_gwp)\n",
    "        lca.lci()\n",
    "        lca.lcia()\n",
    "        ls_results.append({'run': name_scenario, 'result': lca.score})\n",
    "\n",
    "    return ls_results"
   ]
  },
  {
   "cell_type": "markdown",
   "metadata": {},
   "source": [
    "Write a function to perform a multi_method LCA, with small_methods, according to activities and parameter sets:"
   ]
  },
  {
   "cell_type": "code",
   "execution_count": null,
   "metadata": {},
   "outputs": [],
   "source": [
    "# Reminder of the reduced list of methods:\n",
    "methods_small"
   ]
  },
  {
   "cell_type": "code",
   "execution_count": null,
   "metadata": {},
   "outputs": [],
   "source": [
    "def lca_cw_mlca_small(df_step, act):\n",
    "    \"\"\"\n",
    "    Perform a multi-method lca for different scenarios \n",
    "    according to parameters defined in df_step.\n",
    "    Methods= ReCiPe: GWP100, ODPinf, PMFP, POFP\n",
    "\n",
    "    Parameters\n",
    "    ----------\n",
    "    df_step: DataFrame with list of parameters and their values\n",
    "    act: activity to assess\n",
    "\n",
    "    Returns\n",
    "    -------\n",
    "    ls_mlca_small_results: list of values\n",
    "    \"\"\"\n",
    "\n",
    "    # To save results:\n",
    "    ls_mlca_small_results = []\n",
    "\n",
    "    # Define a dataframe only with bw2 parameters:\n",
    "    df_param = df_step.drop(['glazing', 'heating_setpoint',\n",
    "                             'cooling_setpoint'], axis=1)\n",
    "\n",
    "    # Convert dataframe in a numpy array:\n",
    "    val_np = df_param.to_numpy()\n",
    "\n",
    "    n_scenario = 0\n",
    "\n",
    "    for v in val_np:\n",
    "        name_scenario = df_param.index[n_scenario]\n",
    "        n_scenario += 1\n",
    "\n",
    "        for i in range(len(df_param.columns)):\n",
    "            # Change parameters according to column.index:\n",
    "            param_name = df_param.columns[i]\n",
    "            n = df_param.columns.get_loc(param_name)\n",
    "\n",
    "            (ActivityParameter.update(amount=v[n])\n",
    "             .where(ActivityParameter.name == f'param_{param_name}').execute())\n",
    "\n",
    "        parameters.add_exchanges_to_group(\"cw_param_group\", act)\n",
    "        ActivityParameter.recalculate_exchanges(\"cw_param_group\")\n",
    "\n",
    "        lca = LCA({act: 1}, method_ilcd_gwp)\n",
    "        lca.lci()\n",
    "\n",
    "        for method in methods_small:\n",
    "            lca.switch_method(method)\n",
    "            lca.lcia()\n",
    "            ls_mlca_small_results.append((name_scenario,\n",
    "                                          method[1].title(), lca.score,\n",
    "                                          bw.methods.get(method).get('unit')))\n",
    "\n",
    "    return ls_mlca_small_results"
   ]
  },
  {
   "cell_type": "markdown",
   "metadata": {},
   "source": [
    "Write a function to perform a multi_method LCA, with full_methods, according to activities and parameter sets:"
   ]
  },
  {
   "cell_type": "code",
   "execution_count": null,
   "metadata": {},
   "outputs": [],
   "source": [
    "# Reminder of the full list of methods:\n",
    "methods_full"
   ]
  },
  {
   "cell_type": "code",
   "execution_count": null,
   "metadata": {},
   "outputs": [],
   "source": [
    "def lca_cw_mlca_full(df_step, act):\n",
    "    \"\"\"\n",
    "    Perform a multi-method lca for different scenarios \n",
    "    according to parameters defined in df_step.\n",
    "    Methods= ReCiPe: GWP100, ODPinf, PMFP, POFP\n",
    "\n",
    "    Parameters\n",
    "    ----------\n",
    "    df_step: DataFrame with list of parameters and their values\n",
    "    act: activity to assess\n",
    "\n",
    "    Returns\n",
    "    -------\n",
    "    ls_mlca_full_results: list of values\n",
    "    \"\"\"\n",
    "\n",
    "    # To save results:\n",
    "    ls_mlca_full_results = []\n",
    "\n",
    "    # Define a dataframe only with bw2 parameters:\n",
    "    df_param = df_step.drop(['glazing', 'heating_setpoint',\n",
    "                             'cooling_setpoint'], axis=1)\n",
    "\n",
    "    # Convert dataframe in a numpy array:\n",
    "    val_np = df_param.to_numpy()\n",
    "\n",
    "    n_scenario = 0\n",
    "\n",
    "    for v in val_np:\n",
    "        name_scenario = df_param.index[n_scenario]\n",
    "        n_scenario += 1\n",
    "\n",
    "        for i in range(len(df_param.columns)):\n",
    "            # Change parameters according to column.index:\n",
    "            param_name = df_param.columns[i]\n",
    "            n = df_param.columns.get_loc(param_name)\n",
    "\n",
    "            (ActivityParameter.update(amount=v[n])\n",
    "             .where(ActivityParameter.name == f'param_{param_name}').execute())\n",
    "\n",
    "        parameters.add_exchanges_to_group(\"cw_param_group\", act)\n",
    "        ActivityParameter.recalculate_exchanges(\"cw_param_group\")\n",
    "\n",
    "        lca = LCA({act: 1}, method_ilcd_gwp)\n",
    "        lca.lci()\n",
    "\n",
    "        for method in methods_full:\n",
    "            lca.switch_method(method)\n",
    "            lca.lcia()\n",
    "            ls_mlca_full_results.append((name_scenario,\n",
    "                                         method[1].title(), lca.score,\n",
    "                                         bw.methods.get(method).get('unit')))\n",
    "\n",
    "    return ls_mlca_full_results"
   ]
  },
  {
   "cell_type": "markdown",
   "metadata": {},
   "source": [
    "A little function to transform the a list of mlca_results in a DataFrame:"
   ]
  },
  {
   "cell_type": "code",
   "execution_count": null,
   "metadata": {},
   "outputs": [],
   "source": [
    "def ls_to_df_mlca(ls):\n",
    "    \"\"\"\n",
    "    A little function to transform the ls_mlca_results \n",
    "    in a readable DataFrame\n",
    "\n",
    "    Parameters\n",
    "    ----------\n",
    "    ls: the list\n",
    "\n",
    "    Returns\n",
    "    -------\n",
    "    df: the DataFrame\n",
    "    \"\"\"\n",
    "    # DataFrame to then work w/ results:\n",
    "    df = pd.DataFrame(ls, columns=[\"Name\", \"Method\",\n",
    "                                   \"Score\", \"Unit\"]\n",
    "                      )\n",
    "\n",
    "    df = pd.pivot_table(df, index=[\"Name\"],\n",
    "                        columns=[\"Method\", \"Unit\"],\n",
    "                        values=\"Score\"\n",
    "                        )\n",
    "\n",
    "    return df"
   ]
  },
  {
   "cell_type": "markdown",
   "metadata": {},
   "source": [
    "A function to save mlca_full_results in a DataFrame, for each simulation run and LCA phase:"
   ]
  },
  {
   "cell_type": "code",
   "execution_count": null,
   "metadata": {},
   "outputs": [],
   "source": [
    "# Initialise a DataFrame:\n",
    "df_mlca_full_raw_results = pd.DataFrame()"
   ]
  },
  {
   "cell_type": "code",
   "execution_count": null,
   "metadata": {},
   "outputs": [],
   "source": [
    "def ls_to_df_mlca_full(step, ls, act, df_results):\n",
    "    \"\"\"\n",
    "    A function to append a list of mlca results in a DataFrame, \n",
    "        with values organised per simulation run (index), \n",
    "        and LCA phase (columns).\n",
    "\n",
    "    Parameters\n",
    "    ----------\n",
    "    step: correspond to the batch of simulation runs: step_1, 2...\n",
    "    ls: the list of results.\n",
    "    df_results: a DataFrame where LCA results will be saved.\n",
    "    act: activity for which the LCA has been done.\n",
    "\n",
    "    Returns\n",
    "    -------\n",
    "    df_results\n",
    "    \"\"\"\n",
    "\n",
    "    # New DataFrame from list of results:\n",
    "    df_temp = pd.DataFrame(ls, columns=[\"Name\", \"Method\", \"Score\", \"Unit\"])\n",
    "    # Add information regarding the step:\n",
    "    df_temp[\"Step\"] = step\n",
    "    # Add information regarding the LCA phase:\n",
    "    df_temp[\"LCA Phase\"] = str(act[\"name\"])\n",
    "    # Pivot the DataFrame:\n",
    "    df_temp = pd.pivot_table(df_temp, index=[\"Step\", \"Name\"],\n",
    "                             columns=[\"LCA Phase\", \"Method\", \"Unit\"],\n",
    "                             values=\"Score\"\n",
    "                             )\n",
    "    if df_results.empty:\n",
    "        df_results = df_temp\n",
    "    else:\n",
    "        df_results.columns.difference(df_temp.columns)\n",
    "        # Merge:\n",
    "        df_results = pd.merge(df_temp, df_results, on=(\"Step\", \"Name\"))\n",
    "\n",
    "    return df_results"
   ]
  },
  {
   "cell_type": "markdown",
   "metadata": {},
   "source": [
    "A function to conduct a mLCA per activity and save the mlca_full_results in a DataFrame, for each simulation run and each LCA phase:"
   ]
  },
  {
   "cell_type": "code",
   "execution_count": null,
   "metadata": {},
   "outputs": [],
   "source": [
    "def full_lca_to_df(step, df_step, df_results):\n",
    "    \"\"\"\n",
    "    A function to append a list of mlca results in a DataFrame,\n",
    "        with values organised per simulation run (index),\n",
    "        and LCA phase (columns).\n",
    "\n",
    "    Parameters\n",
    "    ----------\n",
    "    step: correspond to the batch of simulation runs: step_1, 2...\n",
    "    df_step: DataFrame with list of parameters and their values\n",
    "\n",
    "    Returns\n",
    "    -------\n",
    "    df_results: a DataFrame where LCA results are saved,\n",
    "        simulation run as index, LCA phase and impact indicators as columns.\n",
    "    \"\"\"\n",
    "\n",
    "    for act in [out_old_cw, prod_cw, use_bldg_w_cw, repair_cw, eol_cw]:\n",
    "        ls = lca_cw_mlca_full(df_step, act)\n",
    "        df_results = ls_to_df_mlca_full(\n",
    "            step, ls, act, df_results)\n",
    "\n",
    "    return df_results"
   ]
  },
  {
   "cell_type": "markdown",
   "metadata": {},
   "source": [
    "## Step 4: Analysis of Different Glazing Types"
   ]
  },
  {
   "cell_type": "code",
   "execution_count": null,
   "metadata": {},
   "outputs": [],
   "source": [
    "# Overview of the dataframe with parameters for step_4::\n",
    "with pd.option_context('display.max_rows', 20, 'display.max_columns', 10):\n",
    "    display(df_step4)"
   ]
  },
  {
   "cell_type": "markdown",
   "metadata": {},
   "source": [
    "GWP only:"
   ]
  },
  {
   "cell_type": "code",
   "execution_count": null,
   "metadata": {},
   "outputs": [],
   "source": [
    "step4_prod_gwp_results = lca_cw_gwp(df_step4, prod_cw)"
   ]
  },
  {
   "cell_type": "code",
   "execution_count": null,
   "metadata": {
    "scrolled": true
   },
   "outputs": [],
   "source": [
    "step4_prod_gwp_results"
   ]
  },
  {
   "cell_type": "markdown",
   "metadata": {},
   "source": [
    "Multi-Method LCA, ILCD, methods_small:"
   ]
  },
  {
   "cell_type": "code",
   "execution_count": null,
   "metadata": {},
   "outputs": [],
   "source": [
    "# Multi-method LCA:\n",
    "step4_prod_mlca_results = lca_cw_mlca_small(df_step4, prod_cw)\n",
    "# Convert results to df:\n",
    "df_step4_prod_mlca_results = ls_to_df_mlca(step4_prod_mlca_results)"
   ]
  },
  {
   "cell_type": "code",
   "execution_count": null,
   "metadata": {},
   "outputs": [],
   "source": [
    "df_step4_prod_mlca_results"
   ]
  },
  {
   "cell_type": "markdown",
   "metadata": {},
   "source": [
    "Full life cycle assessment, ILCD methods:"
   ]
  },
  {
   "cell_type": "code",
   "execution_count": null,
   "metadata": {},
   "outputs": [],
   "source": [
    "df_mlca_full_raw_results = full_lca_to_df(\"step_4\", df_step4,\n",
    "                                          df_mlca_full_raw_results)"
   ]
  },
  {
   "cell_type": "code",
   "execution_count": null,
   "metadata": {},
   "outputs": [],
   "source": [
    "df_mlca_full_raw_results.loc[\"step_4\"].xs('Climate Change', axis=1,\n",
    "                                          level=1, drop_level=False)"
   ]
  },
  {
   "cell_type": "code",
   "execution_count": null,
   "metadata": {},
   "outputs": [],
   "source": []
  },
  {
   "cell_type": "markdown",
   "metadata": {},
   "source": [
    "### Use Phase"
   ]
  },
  {
   "cell_type": "markdown",
   "metadata": {},
   "source": [
    "GWP only:"
   ]
  },
  {
   "cell_type": "code",
   "execution_count": null,
   "metadata": {},
   "outputs": [],
   "source": [
    "step1_use_gwp_results = lca_cw_gwp(df_step1, use_cw)"
   ]
  },
  {
   "cell_type": "code",
   "execution_count": null,
   "metadata": {},
   "outputs": [],
   "source": [
    "step1_use_gwp_results"
   ]
  },
  {
   "cell_type": "markdown",
   "metadata": {},
   "source": [
    "Multi-Method LCA, ReCiPe (GWP100, ODPinf, PMFP, POFP):"
   ]
  },
  {
   "cell_type": "code",
   "execution_count": null,
   "metadata": {},
   "outputs": [],
   "source": [
    "# Multi-method LCA:\n",
    "step1_use_mlca_results = lca_cw_mlca_small(df_step1, use_cw)\n",
    "\n",
    "# Convert results to df:\n",
    "df_step1_use_mlca_results = ls_to_df_mlca(step1_use_mlca_results)"
   ]
  },
  {
   "cell_type": "code",
   "execution_count": null,
   "metadata": {},
   "outputs": [],
   "source": [
    "df_step1_use_mlca_results.round(2)"
   ]
  },
  {
   "cell_type": "markdown",
   "metadata": {},
   "source": [
    "### Post-processing"
   ]
  },
  {
   "cell_type": "code",
   "execution_count": null,
   "metadata": {},
   "outputs": [],
   "source": [
    "lifespan = [p.amount for p in DatabaseParameter.select()\n",
    "            if p.name == 'lifespan'][0]"
   ]
  },
  {
   "cell_type": "code",
   "execution_count": null,
   "metadata": {},
   "outputs": [],
   "source": [
    "df_step1_gwp = pd.DataFrame(\n",
    "    {'Year': np.arange(lifespan+2), 'Step': 'ref', 'Scenario': 'no_retrofit', 'GWP100': 0})\n",
    "\n",
    "df_step1_gwp = df_step1_gwp.pivot(\n",
    "    index='Year', columns=['Step', 'Scenario'], values='GWP100')"
   ]
  },
  {
   "cell_type": "code",
   "execution_count": null,
   "metadata": {},
   "outputs": [],
   "source": [
    "for y in np.arange(lifespan):\n",
    "    df_step1_gwp[('ref', 'no_retrofit')][y+2] = (\n",
    "        df_step1_gwp[('ref', 'no_retrofit')][y+1]\n",
    "        + [val['result'] for val in step1_use_gwp_results\n",
    "           if val[\"run\"] == \"1_1926_dg_init\"][0] / lifespan)\n",
    "\n",
    "# df_step1_gwp"
   ]
  },
  {
   "cell_type": "code",
   "execution_count": null,
   "metadata": {},
   "outputs": [],
   "source": [
    "gwp_per_year_init = df_step1_gwp[('ref', 'no_retrofit')][2]\n",
    "\n",
    "for scenario in df_step1.index:\n",
    "    df_step1_gwp[('1', scenario)] = 0\n",
    "\n",
    "    gwp_per_year = ([val['result'] for val in step1_use_gwp_results\n",
    "                    if val[\"run\"] == scenario][0] / lifespan)\n",
    "\n",
    "    # GWP at year 1 = production:\n",
    "    df_step1_gwp.loc[df_step1_gwp.index == 1, ('1', scenario)] = (\n",
    "        [val['result'] for val in step1_prod_gwp_results\n",
    "         if val[\"run\"] == scenario][0]\n",
    "    )\n",
    "\n",
    "    # positive or negative gwp as consequential of retrofit:\n",
    "    for y in np.arange(lifespan):\n",
    "        df_step1_gwp.loc[df_step1_gwp.index == y+2, ('1', scenario)] = (\n",
    "            df_step1_gwp[('1', scenario)][y+1]\n",
    "            + gwp_per_year - gwp_per_year_init)"
   ]
  },
  {
   "cell_type": "code",
   "execution_count": null,
   "metadata": {},
   "outputs": [],
   "source": [
    "# Plot the evolution of the GWP per year:\n",
    "fig, ax = plt.subplots(figsize=(16, 9))\n",
    "\n",
    "for glazing in df_step1.index:\n",
    "    if 'dg' in glazing:\n",
    "        if 'dg_init' in glazing:\n",
    "            sns.lineplot(data=df_step1_gwp.reset_index(),\n",
    "                         x='Year', y=('1', '1_1926_dg_init'),\n",
    "                         color='firebrick',\n",
    "                         ax=ax)\n",
    "\n",
    "        else:\n",
    "            sns.lineplot(data=df_step1_gwp.reset_index(),\n",
    "                         x='Year', y=('1', glazing),\n",
    "                         color='steelblue',\n",
    "                         ax=ax)\n",
    "    if 'tg' in glazing:\n",
    "        sns.lineplot(data=df_step1_gwp.reset_index(),\n",
    "                     x='Year', y=('1', glazing),\n",
    "                     color='forestgreen',\n",
    "                     ax=ax)\n",
    "\n",
    "ax.fill_between(np.array(df_step1_gwp.index),\n",
    "                np.array(df_step1_gwp['1', '1_1926_dg3']),\n",
    "                np.array(df_step1_gwp['1', '1_1926_dg6']), alpha=0.25)\n",
    "\n",
    "ax.axhline(y=0, c='black', linestyle=':', linewidth=0.75)\n",
    "ax.grid(which='major', axis='y', linestyle=':', linewidth=1)\n",
    "\n",
    "ax.yaxis.label.set_visible(False)\n",
    "ax.set_xlim(0, 45)\n",
    "ax.set_ylim(-500, 1000)\n",
    "\n",
    "fig.suptitle('')\n",
    "sns.despine(offset=5)\n",
    "plt.show()"
   ]
  },
  {
   "cell_type": "code",
   "execution_count": null,
   "metadata": {},
   "outputs": [],
   "source": [
    "# Plot the evolution of the GWP per year:\n",
    "fig, ax = plt.subplots(figsize=(16, 9))\n",
    "\n",
    "for glazing in df_step1.index:\n",
    "    if 'dg_init' in glazing:\n",
    "        sns.lineplot(data=df_step1_gwp.reset_index(),\n",
    "                     x='Year', y=('1', '1_1926_dg_init'),\n",
    "                     color='firebrick',\n",
    "                     ax=ax)\n",
    "\n",
    "    if 'tg' in glazing:\n",
    "        sns.lineplot(data=df_step1_gwp.reset_index(),\n",
    "                     x='Year', y=('1', glazing),\n",
    "                     color='forestgreen',\n",
    "                     ax=ax)\n",
    "\n",
    "ax.fill_between(np.array(df_step1_gwp.index),\n",
    "                np.array(df_step1_gwp['1', '1_1926_dg3']),\n",
    "                np.array(df_step1_gwp['1', '1_1926_dg6']), alpha=0.10)\n",
    "\n",
    "ax.axhline(y=0, c='black', linestyle=':', linewidth=0.75)\n",
    "ax.grid(which='major', axis='y', linestyle=':', linewidth=1)\n",
    "\n",
    "ax.yaxis.label.set_visible(False)\n",
    "ax.set_xlim(0, 45)\n",
    "ax.set_ylim(-500, 1000)\n",
    "\n",
    "fig.suptitle('')\n",
    "sns.despine(offset=5)\n",
    "plt.show()"
   ]
  },
  {
   "cell_type": "code",
   "execution_count": null,
   "metadata": {},
   "outputs": [],
   "source": [
    "# Plot the evolution of the GWP per year:\n",
    "fig, ax = plt.subplots(figsize=(16, 9))\n",
    "\n",
    "for glazing in df_step1.index:\n",
    "    if 'dg_init' in glazing:\n",
    "        sns.lineplot(data=df_step1_gwp.reset_index(),\n",
    "                     x='Year', y=('1', '1_1926_dg_init'),\n",
    "                     color='firebrick',\n",
    "                     ax=ax)\n",
    "\n",
    "    if 'sg' in glazing:\n",
    "        sns.lineplot(data=df_step1_gwp.reset_index(),\n",
    "                     x='Year', y=('1', glazing),\n",
    "                     color='darkorange',\n",
    "                     ax=ax)\n",
    "\n",
    "ax.fill_between(np.array(df_step1_gwp.index),\n",
    "                np.array(df_step1_gwp['1', '1_1926_dg3']),\n",
    "                np.array(df_step1_gwp['1', '1_1926_dg6']), alpha=0.10)\n",
    "\n",
    "ax.axhline(y=0, c='black', linestyle=':', linewidth=0.75)\n",
    "ax.grid(which='major', axis='y', linestyle=':', linewidth=1)\n",
    "\n",
    "ax.yaxis.label.set_visible(False)\n",
    "ax.set_xlim(0, 45)\n",
    "ax.set_ylim(-500, 1000)\n",
    "\n",
    "fig.suptitle('')\n",
    "sns.despine(offset=5)\n",
    "plt.show()"
   ]
  },
  {
   "cell_type": "code",
   "execution_count": null,
   "metadata": {},
   "outputs": [],
   "source": []
  },
  {
   "cell_type": "code",
   "execution_count": null,
   "metadata": {},
   "outputs": [],
   "source": []
  },
  {
   "cell_type": "markdown",
   "metadata": {},
   "source": [
    "# Energy Mix: Sensitivity Analysis"
   ]
  },
  {
   "cell_type": "raw",
   "metadata": {},
   "source": [
    "# Look at activities to change, in this case electricity markets:\n",
    "locations = [\"FR\", \"DE\", \"PL\", \"NL\", \"CH\"]\n",
    "\n",
    "act_name = \"market for electricity, low voltage\"\n",
    "\n",
    "for act in eicutdb.search(act_name, limit=200):\n",
    "    for location in locations:\n",
    "        if location in act['location'] and act_name in act['name']:\n",
    "            print(act['name'])\n",
    "            print(act['location'])"
   ]
  },
  {
   "cell_type": "raw",
   "metadata": {},
   "source": [
    "eu_locations = [\"FR\", \"DE\", \"PL\", \"CH\", \"AT\", \"SE\", \"NO\", \"DK\", \"HU\", \"BG\",\n",
    "            \"CY\", \"CZ\", \"HR\", \"ES\", \"EE\", \"GR\", \"IE\", \"IT\", \"LT\", \"LV\", \"NL\"]"
   ]
  },
  {
   "cell_type": "code",
   "execution_count": null,
   "metadata": {},
   "outputs": [],
   "source": [
    "# List of activities to change, in this case electricity markets:\n",
    "locations = [\"FR\", \"DE\", \"PL\", \"NL\", \"CH\"]\n",
    "\n",
    "act_name = \"market for electricity, low voltage\"\n",
    "\n",
    "el_markets = [('ecoinvent 3.7 cut-off', act['code'])\n",
    "              for act in eicutdb.search(act_name, limit=200)\n",
    "              for location in locations\n",
    "              if act_name in act['name'] and location in act['location']\n",
    "              and \"US-FRCC\" not in act['location']\n",
    "              and \"US-SERC\" not in act['location']]\n",
    "\n",
    "# Remove \"market for electricity, low voltage, label-certified\" for CH:\n",
    "el_markets.pop(5)\n",
    "\n",
    "el_markets"
   ]
  },
  {
   "cell_type": "code",
   "execution_count": null,
   "metadata": {},
   "outputs": [],
   "source": [
    "act_cw = exldb_cw.get('use_cw')\n",
    "\n",
    "# Printing the exchanges\n",
    "print('My activity is:\\n', act_cw,\n",
    "      '\\n-------\\nAnd its exchanges:\\n-------')\n",
    "\n",
    "for i in list(act_cw.exchanges()):\n",
    "    print(i['type'])\n",
    "    print(i)\n",
    "    print(i['input'])\n",
    "    print('-------')"
   ]
  },
  {
   "cell_type": "code",
   "execution_count": null,
   "metadata": {},
   "outputs": [],
   "source": [
    "exc = list(act_cw.exchanges())[10]\n",
    "exc"
   ]
  },
  {
   "cell_type": "code",
   "execution_count": null,
   "metadata": {},
   "outputs": [],
   "source": [
    "# Make a copy of the activity, substitute the background process\n",
    "# save and calculate:\n",
    "\n",
    "cw_elec_results = []\n",
    "\n",
    "for m in el_markets[0:2]:\n",
    "    act_cw_copy = act_cw.copy()\n",
    "    exc['input'] = m\n",
    "    exc.save()\n",
    "    lca = LCA({act_cw_copy: 1}, ('IPCC 2013', 'climate change', 'GWP 100a'))\n",
    "    lca.lci()\n",
    "    lca.lcia()\n",
    "    cw_elec_results.append(lca.score)"
   ]
  },
  {
   "cell_type": "code",
   "execution_count": null,
   "metadata": {},
   "outputs": [],
   "source": [
    "# Results for Belgium:\n",
    "lca = LCA({act_cw: 1}, method_ilcd_gwp)\n",
    "lca.lci()\n",
    "lca.lcia()\n",
    "be_cw_elec_result = lca.score"
   ]
  },
  {
   "cell_type": "code",
   "execution_count": null,
   "metadata": {},
   "outputs": [],
   "source": [
    "be_cw_elec_result"
   ]
  },
  {
   "cell_type": "code",
   "execution_count": null,
   "metadata": {},
   "outputs": [],
   "source": [
    "np.mean([(i/be_cw_elec_result) for i in cw_elec_results])"
   ]
  },
  {
   "cell_type": "code",
   "execution_count": null,
   "metadata": {},
   "outputs": [],
   "source": [
    "pd.DataFrame(cw_elec_results).describe()"
   ]
  },
  {
   "cell_type": "code",
   "execution_count": null,
   "metadata": {},
   "outputs": [],
   "source": [
    "plt.boxplot(cw_elec_results)\n",
    "plt.ylabel(methods[('IPCC 2013', 'climate change', 'GWP 100a')]['unit'])\n",
    "plt.xlabel('El Production')"
   ]
  },
  {
   "cell_type": "code",
   "execution_count": null,
   "metadata": {},
   "outputs": [],
   "source": []
  },
  {
   "cell_type": "code",
   "execution_count": null,
   "metadata": {},
   "outputs": [],
   "source": []
  },
  {
   "cell_type": "code",
   "execution_count": null,
   "metadata": {},
   "outputs": [],
   "source": []
  },
  {
   "cell_type": "code",
   "execution_count": null,
   "metadata": {},
   "outputs": [],
   "source": []
  }
 ],
 "metadata": {
  "kernelspec": {
   "display_name": "Python 3 (ipykernel)",
   "language": "python",
   "name": "python3"
  },
  "language_info": {
   "codemirror_mode": {
    "name": "ipython",
    "version": 3
   },
   "file_extension": ".py",
   "mimetype": "text/x-python",
   "name": "python",
   "nbconvert_exporter": "python",
   "pygments_lexer": "ipython3",
   "version": "3.9.6"
  },
  "toc": {
   "base_numbering": 1,
   "nav_menu": {},
   "number_sections": true,
   "sideBar": true,
   "skip_h1_title": false,
   "title_cell": "Table of Contents",
   "title_sidebar": "Contents",
   "toc_cell": false,
   "toc_position": {
    "height": "calc(100% - 180px)",
    "left": "10px",
    "top": "150px",
    "width": "241.733px"
   },
   "toc_section_display": true,
   "toc_window_display": true
  },
  "varInspector": {
   "cols": {
    "lenName": 16,
    "lenType": 16,
    "lenVar": 40
   },
   "kernels_config": {
    "python": {
     "delete_cmd_postfix": "",
     "delete_cmd_prefix": "del ",
     "library": "var_list.py",
     "varRefreshCmd": "print(var_dic_list())"
    },
    "r": {
     "delete_cmd_postfix": ") ",
     "delete_cmd_prefix": "rm(",
     "library": "var_list.r",
     "varRefreshCmd": "cat(var_dic_list()) "
    }
   },
   "types_to_exclude": [
    "module",
    "function",
    "builtin_function_or_method",
    "instance",
    "_Feature"
   ],
   "window_display": false
  }
 },
 "nbformat": 4,
 "nbformat_minor": 4
}
