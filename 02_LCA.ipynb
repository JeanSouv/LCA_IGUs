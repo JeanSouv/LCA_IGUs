{
 "cells": [
  {
   "cell_type": "raw",
   "metadata": {},
   "source": [
    "# Brightway2 uses atomic file writes to prevent data corruption,\n",
    "# but files are hard; regular backups using the Backups function:\n",
    "\n",
    "bw2io.backup.backup_project_directory(LCA_glazing)\n",
    "bw.backup_project_directory('LCA_Glazing_0')"
   ]
  },
  {
   "cell_type": "raw",
   "metadata": {},
   "source": [
    "import sys\n",
    "from pathlib import Path\n",
    "\n",
    "def show_argv_and_path():\n",
    "    print(f\"le répertoire courant est {Path.cwd()}\")\n",
    "    print(f\"le point d'entrée du programme est {sys.argv[0]}\")\n",
    "    print(f\"la variable sys.path contient\")\n",
    "    for i, path in enumerate(sys.path, 1):\n",
    "        print(f\"{i}-ème chemin dans sys.path {path}\")\n",
    "\n",
    "show_argv_and_path()"
   ]
  },
  {
   "cell_type": "markdown",
   "metadata": {},
   "source": [
    "# Setup"
   ]
  },
  {
   "cell_type": "code",
   "execution_count": null,
   "metadata": {},
   "outputs": [],
   "source": [
    "from IPython.display import display\n",
    "\n",
    "from brightway2 import *\n",
    "import bw2analyzer as bwa\n",
    "import brightway2 as bw\n",
    "from bw2data.parameters import *\n",
    "from lci_to_bw2 import *\n",
    "from bw2data.project import ProjectManager\n",
    "from bw2data.parameters import (ActivityParameter, DatabaseParameter,\n",
    "                                ProjectParameter, Group)\n",
    "\n",
    "import pandas as pd\n",
    "import numpy as np\n",
    "\n",
    "import math\n",
    "\n",
    "import pathlib\n",
    "\n",
    "import sqlite3\n",
    "\n",
    "import os\n",
    "\n",
    "import matplotlib as mpl\n",
    "import matplotlib.pyplot as plt\n",
    "import seaborn as sns\n",
    "%matplotlib inline"
   ]
  },
  {
   "cell_type": "code",
   "execution_count": null,
   "metadata": {},
   "outputs": [],
   "source": [
    "# Directory with datasets:\n",
    "ROOT_DIR = \"files\""
   ]
  },
  {
   "cell_type": "code",
   "execution_count": null,
   "metadata": {},
   "outputs": [],
   "source": [
    "# Define size of figure:\n",
    "mpl.rcParams['figure.figsize'] = (16, 10)\n",
    "pd.options.display.max_rows = 200"
   ]
  },
  {
   "cell_type": "code",
   "execution_count": null,
   "metadata": {},
   "outputs": [],
   "source": [
    "# Define path to save figures:\n",
    "path_img = os.path.abspath(os.path.join('outputs', 'IMG'))\n",
    "if not os.path.exists(path_img):\n",
    "    os.makedirs(path_img)\n",
    "print(f'Images will be saved in {path_img}')"
   ]
  },
  {
   "cell_type": "code",
   "execution_count": null,
   "metadata": {},
   "outputs": [],
   "source": [
    "# Define seaborn main parameters:\n",
    "sns.set_style(\"ticks\")\n",
    "sns.color_palette(\"colorblind\")\n",
    "sns.set_context(\"paper\", font_scale=1.5,\n",
    "                rc={\"axes.titlesize\": 15, \"lines.linewidth\": 1.2,\n",
    "                    \"legend.fontsize\": 10, \"legend.title_fontsize\": 10})"
   ]
  },
  {
   "cell_type": "code",
   "execution_count": null,
   "metadata": {},
   "outputs": [],
   "source": [
    "# List of the available projects\n",
    "bw.projects"
   ]
  },
  {
   "cell_type": "code",
   "execution_count": null,
   "metadata": {},
   "outputs": [],
   "source": [
    "# New project or access an existing one:\n",
    "bw.projects.set_current(\"LCA_Glazing\")\n",
    "\n",
    "# Where the current project is:\n",
    "bw.projects.dir"
   ]
  },
  {
   "cell_type": "raw",
   "metadata": {},
   "source": [
    "# Getting more information (installed databases and file sizes)\n",
    "# Installed databases and file sizes on an individual project:\n",
    "bw.projects.report()"
   ]
  },
  {
   "cell_type": "markdown",
   "metadata": {},
   "source": [
    "**Abbreviation:**"
   ]
  },
  {
   "cell_type": "markdown",
   "metadata": {},
   "source": [
    "- fg = flat glass\n",
    "- inv = inventory\n",
    "- act = activity\n",
    "- norm = normalised impacts\n",
    "- ia = impact assessment\n",
    "- fu = functional unit\n",
    "- igu = insulating glass unit"
   ]
  },
  {
   "cell_type": "markdown",
   "metadata": {},
   "source": [
    "# List of Scenarios with their Parameters"
   ]
  },
  {
   "cell_type": "markdown",
   "metadata": {},
   "source": [
    "Import the Excel file with the LCA scenarios (i.e. the values for the parameters to be used in BW2 and EnergyPlus):"
   ]
  },
  {
   "cell_type": "code",
   "execution_count": null,
   "metadata": {},
   "outputs": [],
   "source": [
    "LCA_scenarios = pd.ExcelFile(os.path.join(ROOT_DIR, \"LCA_scenarios.xlsx\"))"
   ]
  },
  {
   "cell_type": "markdown",
   "metadata": {},
   "source": [
    "Define a series of dataframes for each step of calculation:"
   ]
  },
  {
   "cell_type": "code",
   "execution_count": null,
   "metadata": {},
   "outputs": [],
   "source": [
    "print(\"LCA_scenarios, sheet names = \\n {}\\n\".format(LCA_scenarios.sheet_names))"
   ]
  },
  {
   "cell_type": "code",
   "execution_count": null,
   "metadata": {},
   "outputs": [],
   "source": [
    "# Create dataframe for with scenarios for each step:\n",
    "df_step1 = LCA_scenarios.parse('Step1').set_index('name')\n",
    "df_step2 = LCA_scenarios.parse('Step2').set_index('name')\n",
    "df_step3 = LCA_scenarios.parse('Step3').set_index('name')\n",
    "df_step4 = LCA_scenarios.parse('Step4').set_index('name')\n",
    "df_step5 = LCA_scenarios.parse('Step5').set_index('name')\n",
    "df_step6 = LCA_scenarios.parse('Step6').set_index('name')\n",
    "df_step7 = LCA_scenarios.parse('Step7').set_index('name')\n",
    "df_step8 = LCA_scenarios.parse('Step8').set_index('name')\n",
    "df_step9 = LCA_scenarios.parse('Step9').set_index('name')\n",
    "df_step10 = LCA_scenarios.parse('Step10').set_index('name')\n",
    "df_step11 = LCA_scenarios.parse('Step11').set_index('name')\n",
    "df_step12 = LCA_scenarios.parse('Step12').set_index('name')\n",
    "df_step13 = LCA_scenarios.parse('Step13').set_index('name')\n",
    "df_step14 = LCA_scenarios.parse('Step14').set_index('name')\n",
    "df_step15 = LCA_scenarios.parse('Step15').set_index('name')\n",
    "df_step16 = LCA_scenarios.parse('Step16').set_index('name')\n",
    "df_step17 = LCA_scenarios.parse('Step17').set_index('name')\n",
    "df_step18 = LCA_scenarios.parse('Step18').set_index('name')\n",
    "df_step19 = LCA_scenarios.parse('Step19').set_index('name')"
   ]
  },
  {
   "cell_type": "markdown",
   "metadata": {},
   "source": [
    "# Import of LCA Databases"
   ]
  },
  {
   "cell_type": "code",
   "execution_count": null,
   "metadata": {},
   "outputs": [],
   "source": [
    "# databases available in the current project:\n",
    "bw.databases"
   ]
  },
  {
   "cell_type": "markdown",
   "metadata": {},
   "source": [
    "## Ecoinvent and Biosphere 3"
   ]
  },
  {
   "cell_type": "markdown",
   "metadata": {},
   "source": [
    "**Importing Biosphere 3:**"
   ]
  },
  {
   "cell_type": "code",
   "execution_count": null,
   "metadata": {},
   "outputs": [],
   "source": [
    "# Importing elementary flows, LCIA methods and some other data\n",
    "bw.bw2setup()"
   ]
  },
  {
   "cell_type": "markdown",
   "metadata": {},
   "source": [
    "**Importing Ecoinvent 3.7, cut-off system model:**"
   ]
  },
  {
   "cell_type": "markdown",
   "metadata": {},
   "source": [
    "For more information about the system models in ecoinvent 3, and especially the cut-off one, read [this](https://www.ecoinvent.org/database/system-models-in-ecoinvent-3/cut-off-system-model/allocation-cut-off-by-classification.html)."
   ]
  },
  {
   "cell_type": "code",
   "execution_count": null,
   "metadata": {},
   "outputs": [],
   "source": [
    "# Import ecoinvent 3.7 cut-off\n",
    "ei37cutdir = r\"C:\\Users\\souvi\\Documents\\These\\80_Calculations\\06_LCA_SystemDiagrams\\02_Dataset\\ecoinvent 3.7_cutoff_ecoSpold02\\datasets\"\n",
    "\n",
    "if 'ecoinvent 3.7 cut-off' in databases:\n",
    "    print(\"Database has already been imported!\")\n",
    "else:\n",
    "    ei37cut = bw.SingleOutputEcospold2Importer(\n",
    "        ei37cutdir, 'ecoinvent 3.7 cut-off')\n",
    "    ei37cut.apply_strategies()\n",
    "    ei37cut.statistics()\n",
    "    ei37cut.write_database()"
   ]
  },
  {
   "cell_type": "markdown",
   "metadata": {},
   "source": [
    "## Excel datasets"
   ]
  },
  {
   "cell_type": "markdown",
   "metadata": {},
   "source": [
    "<font color='red'>Do we need to import the Excel datasets?<font>"
   ]
  },
  {
   "cell_type": "code",
   "execution_count": null,
   "metadata": {},
   "outputs": [],
   "source": [
    "import_exldb = True"
   ]
  },
  {
   "cell_type": "markdown",
   "metadata": {},
   "source": [
    "**Importing the Excel dataset relating to aluminium production:**"
   ]
  },
  {
   "cell_type": "code",
   "execution_count": null,
   "metadata": {
    "scrolled": false
   },
   "outputs": [],
   "source": [
    "if import_exldb:\n",
    "    imp = bw.ExcelImporter(os.path.join(ROOT_DIR, \"LCI_Alu.xlsx\"))\n",
    "    imp.apply_strategies()\n",
    "    imp.match_database(fields=('name', 'unit', 'location'))\n",
    "    imp.match_database(\"ecoinvent 3.7 cut-off\",\n",
    "                       fields=('name', 'unit', 'location', 'input'))\n",
    "    imp.statistics()\n",
    "\n",
    "    # Checking whether the import went as expected.\n",
    "    # Creation of an Excel sheet with process data:\n",
    "    imp.write_excel()\n",
    "\n",
    "    # Write the data to a database to save it:\n",
    "    imp.write_database()"
   ]
  },
  {
   "cell_type": "markdown",
   "metadata": {},
   "source": [
    "**Importing the Excel dataset relating to IGUs:**"
   ]
  },
  {
   "cell_type": "code",
   "execution_count": null,
   "metadata": {},
   "outputs": [],
   "source": [
    "if import_exldb:\n",
    "    imp = bw.ExcelImporter(os.path.join(ROOT_DIR, \"LCI_IGU.xlsx\"))\n",
    "    imp.apply_strategies()\n",
    "    imp.match_database(fields=('name', 'unit', 'location'))\n",
    "    imp.match_database(\"ecoinvent 3.7 cut-off\",\n",
    "                       fields=('name', 'unit', 'location'))\n",
    "    imp.match_database(\"exldb_alu\",\n",
    "                       fields=('name', 'unit', 'location', 'input'))\n",
    "    imp.statistics()\n",
    "\n",
    "    # Checking whether the import went as expected.\n",
    "    # Creation of an Excel sheet with process data:\n",
    "    imp.write_excel()\n",
    "\n",
    "    # Add the project-level parameters:\n",
    "    imp.write_project_parameters()\n",
    "\n",
    "    # Write the data to a database to save it:\n",
    "    imp.write_database()"
   ]
  },
  {
   "cell_type": "markdown",
   "metadata": {},
   "source": [
    "**Importing the Excel dataset relating to double glazing w/ different types of spacers:**"
   ]
  },
  {
   "cell_type": "code",
   "execution_count": null,
   "metadata": {},
   "outputs": [],
   "source": [
    "if import_exldb:\n",
    "    imp = bw.ExcelImporter(os.path.join(ROOT_DIR, \"LCI_Spacers.xlsx\"))\n",
    "    imp.apply_strategies()\n",
    "    imp.match_database(fields=('name', 'unit', 'location'))\n",
    "    imp.match_database(\"ecoinvent 3.7 cut-off\",\n",
    "                       fields=('name', 'unit', 'location'))\n",
    "    imp.match_database(\"exldb_igu\",\n",
    "                       fields=('name', 'unit', 'location', 'input'))\n",
    "    imp.statistics()\n",
    "\n",
    "    # Checking whether the import went as expected.\n",
    "    # Creation of an Excel sheet with process data:\n",
    "    imp.write_excel()\n",
    "\n",
    "    # Write the data to a database to save it:\n",
    "    imp.write_database()"
   ]
  },
  {
   "cell_type": "markdown",
   "metadata": {},
   "source": [
    "**Importing the Excel dataset relating to curtain wall end-of-life phase:**"
   ]
  },
  {
   "cell_type": "code",
   "execution_count": null,
   "metadata": {},
   "outputs": [],
   "source": [
    "if import_exldb:\n",
    "    imp = bw.ExcelImporter(os.path.join(ROOT_DIR, \"LCI_CW_EoL.xlsx\"))\n",
    "    imp.apply_strategies()\n",
    "    imp.match_database(fields=('name', 'unit', 'location'))\n",
    "    imp.match_database(\"ecoinvent 3.7 cut-off\",\n",
    "                       fields=('name', 'unit', 'location'))\n",
    "    imp.match_database(\"exldb_cw\",\n",
    "                       fields=('name', 'unit', 'location', 'input'))\n",
    "    imp.statistics()\n",
    "\n",
    "    # Checking whether the import went as expected.\n",
    "    # Creation of an Excel sheet with process data:\n",
    "    imp.write_excel()\n",
    "\n",
    "    # Write the data to a database to save it:\n",
    "    imp.write_database()"
   ]
  },
  {
   "cell_type": "markdown",
   "metadata": {},
   "source": [
    "**Importing the Excel dataset relating to curtain wall production and use:**"
   ]
  },
  {
   "cell_type": "code",
   "execution_count": null,
   "metadata": {},
   "outputs": [],
   "source": [
    "if import_exldb:\n",
    "    imp = bw.ExcelImporter(os.path.join(ROOT_DIR, \"LCI_CW.xlsx\"))\n",
    "    imp.apply_strategies()\n",
    "    imp.match_database(fields=('name', 'unit', 'location'))\n",
    "    imp.match_database(\"ecoinvent 3.7 cut-off\",\n",
    "                       fields=('name', 'unit', 'location'))\n",
    "    imp.match_database(\"exldb_igu\",\n",
    "                       fields=('name', 'unit', 'location', 'input'))\n",
    "    imp.match_database(\"exldb_alu\",\n",
    "                       fields=('name', 'unit', 'location', 'input'))\n",
    "    imp.match_database(\"exldb_cw_eol\",\n",
    "                       fields=('name', 'unit', 'location', 'input'))\n",
    "    imp.statistics()\n",
    "\n",
    "    # Checking whether the import went as expected.\n",
    "    # Creation of an Excel sheet with process data:\n",
    "    imp.write_excel()\n",
    "\n",
    "    # Write the data to a database to save it:\n",
    "    imp.write_database()"
   ]
  },
  {
   "cell_type": "markdown",
   "metadata": {},
   "source": [
    "**Checking if the imports went well:**"
   ]
  },
  {
   "cell_type": "markdown",
   "metadata": {},
   "source": [
    "List databases:"
   ]
  },
  {
   "cell_type": "code",
   "execution_count": null,
   "metadata": {},
   "outputs": [],
   "source": [
    "bw.databases"
   ]
  },
  {
   "cell_type": "markdown",
   "metadata": {},
   "source": [
    "Checking Excel database:"
   ]
  },
  {
   "cell_type": "raw",
   "metadata": {},
   "source": [
    "wbi = bw.Database(\"exldb_spacers\")\n",
    "for act in wbi:\n",
    "    print(act)"
   ]
  },
  {
   "cell_type": "raw",
   "metadata": {},
   "source": [
    "wbp = [act for act in wbi][0]\n",
    "print(act['name'])\n",
    "print('------')\n",
    "for exc in wbp.exchanges():\n",
    "    print(exc['type'])\n",
    "    print(exc)\n",
    "    print('------')"
   ]
  },
  {
   "cell_type": "raw",
   "metadata": {},
   "source": [
    "# Check if details of the biosphere exchange are correct:\n",
    "ex = [act for act in wbi if 'double glazing production, argon, lsg' in act['name']][0]\n",
    "[exc for exc in ex.exchanges() if 'extrusion, plastic film' in str(exc)][0].as_dict()"
   ]
  },
  {
   "cell_type": "markdown",
   "metadata": {},
   "source": [
    "**Deleting a database, if needed:**"
   ]
  },
  {
   "cell_type": "raw",
   "metadata": {},
   "source": [
    "# Remove all items from D:\n",
    "databases.clear()"
   ]
  },
  {
   "cell_type": "raw",
   "metadata": {},
   "source": [
    "# delete a database:\n",
    "wbi = bw.Database(\"exldb_cw_EoL\")\n",
    "del databases[wbi.name]\n",
    "\n",
    "# or:\n",
    "# wbi.delete()\n",
    "# del wbi, wbp"
   ]
  },
  {
   "cell_type": "raw",
   "metadata": {},
   "source": [
    "# Or deregister the database, which removes all metadata:\n",
    "bw.Database('BW2 Excel water bottle import').deregister()"
   ]
  },
  {
   "cell_type": "markdown",
   "metadata": {},
   "source": [
    "## Navigate Databases"
   ]
  },
  {
   "cell_type": "markdown",
   "metadata": {},
   "source": [
    "**Navigate Databases, assigning a variable to each one:**"
   ]
  },
  {
   "cell_type": "code",
   "execution_count": null,
   "metadata": {},
   "outputs": [],
   "source": [
    "eib3db = bw.Database('biosphere3')\n",
    "\n",
    "eicutdb = bw.Database('ecoinvent 3.7 cut-off')\n",
    "\n",
    "exldb_alu = bw.Database('exldb_alu')\n",
    "exldb_igu = bw.Database('exldb_igu')\n",
    "exldb_cw = bw.Database('exldb_cw')\n",
    "exldb_spacers = bw.Database('exldb_spacers')\n",
    "exldb_cw_eol = bw.Database('exldb_cw_eol')"
   ]
  },
  {
   "cell_type": "raw",
   "metadata": {},
   "source": [
    "act_name = \"market for electricity, low\"\n",
    "\n",
    "# Search all the activities with 'act_name' somewhere in description:\n",
    "for activity in eicutdb.search(act_name, limit=200):\n",
    "    print(activity)\n",
    "    print('  Code is:', activity['code'])\n",
    "    print('  Location is:', activity['location'])\n",
    "    print(\"------\")\n",
    "    for exc in list(activity.exchanges()):\n",
    "        print(exc, \"\\n\")\n",
    "    print(\"------\")\n",
    "    print(\"------\")"
   ]
  },
  {
   "cell_type": "raw",
   "metadata": {},
   "source": [
    "act_name = \"glass\"\n",
    "\n",
    "# Search all the activities with 'act_name' somewhere in description:\n",
    "for activity in exldb_igu.search(act_name, limit=200):\n",
    "    print(activity)\n",
    "    print('  Code is:', activity['code'])\n",
    "    print('  Location is:', activity['location'])\n",
    "    print(\"------\")\n",
    "    for exc in list(activity.exchanges()):\n",
    "        print(exc, \"\\n\")\n",
    "    print(\"------\")\n",
    "    print(\"------\")"
   ]
  },
  {
   "cell_type": "markdown",
   "metadata": {},
   "source": [
    "# Define the Parameters"
   ]
  },
  {
   "cell_type": "markdown",
   "metadata": {},
   "source": [
    "## Overview"
   ]
  },
  {
   "cell_type": "markdown",
   "metadata": {},
   "source": [
    "**Checking the total number of parameters:**"
   ]
  },
  {
   "cell_type": "code",
   "execution_count": null,
   "metadata": {},
   "outputs": [],
   "source": [
    "len(parameters)"
   ]
  },
  {
   "cell_type": "markdown",
   "metadata": {},
   "source": [
    "Look at the parameter directly:"
   ]
  },
  {
   "cell_type": "code",
   "execution_count": null,
   "metadata": {},
   "outputs": [],
   "source": [
    "print(\"Project parameters:\")\n",
    "for p in ProjectParameter.select():\n",
    "    print(p.name, \":\", round(p.amount, 2))\n",
    "\n",
    "print(\"------\")\n",
    "print(\"Database parameters:\")\n",
    "for p in DatabaseParameter.select():\n",
    "    print(p.database, \" > \", p.name, \":\", round(p.amount, 2))\n",
    "\n",
    "print(\"------\")\n",
    "print(\"Activity parameters:\")\n",
    "for p in ActivityParameter.select():\n",
    "    if \"dummy\" not in p.name:\n",
    "        print(p.name, \":\", round(p.amount, 2))"
   ]
  },
  {
   "cell_type": "markdown",
   "metadata": {},
   "source": [
    "## Activate Parameters"
   ]
  },
  {
   "cell_type": "markdown",
   "metadata": {},
   "source": [
    "**We have now to tell bw to activate the exchanges and their formulas:**"
   ]
  },
  {
   "cell_type": "markdown",
   "metadata": {},
   "source": [
    "First, we tell the parameter code that these exchanges have formulas:"
   ]
  },
  {
   "cell_type": "code",
   "execution_count": null,
   "metadata": {
    "scrolled": false
   },
   "outputs": [],
   "source": [
    "# Add exchanges with formulas from activity to group:\n",
    "for act in exldb_igu:\n",
    "    parameters.add_exchanges_to_group(\"igu_param_group\", act)"
   ]
  },
  {
   "cell_type": "code",
   "execution_count": null,
   "metadata": {},
   "outputs": [],
   "source": [
    "ls_act_data_cw_eol = []\n",
    "n_code = 0\n",
    "for obj in DatabaseParameter.select().where(\n",
    "        DatabaseParameter.database == \"exldb_cw_eol\"):\n",
    "    ls_act_data_cw_eol.append({'name': obj.name, 'amount': obj.amount,\n",
    "                               'formula': obj.formula, 'database': obj.database,\n",
    "                              'code': \"p_eol_\"+str(n_code)})\n",
    "    n_code += 1\n",
    "\n",
    "parameters.new_activity_parameters(\n",
    "    ls_act_data_cw_eol, \"cw_eol_param_group\", overwrite=True)"
   ]
  },
  {
   "cell_type": "code",
   "execution_count": null,
   "metadata": {},
   "outputs": [],
   "source": [
    "for act in exldb_cw_eol:\n",
    "    parameters.add_exchanges_to_group(\"cw_eol_param_group\", act)"
   ]
  },
  {
   "cell_type": "code",
   "execution_count": null,
   "metadata": {},
   "outputs": [],
   "source": [
    "ls_act_data_cw = []\n",
    "n_code = 0\n",
    "for obj in DatabaseParameter.select().where(\n",
    "        DatabaseParameter.database == \"exldb_cw\"):\n",
    "    ls_act_data_cw.append({'name': obj.name, 'amount': obj.amount,\n",
    "                           'formula': obj.formula, 'database': obj.database,\n",
    "                           'code': \"p_\"+str(n_code)})\n",
    "    n_code += 1\n",
    "\n",
    "parameters.new_activity_parameters(\n",
    "    ls_act_data_cw, \"cw_use_param_group\", overwrite=True)"
   ]
  },
  {
   "cell_type": "code",
   "execution_count": null,
   "metadata": {},
   "outputs": [],
   "source": [
    "for act in exldb_cw:\n",
    "    parameters.add_exchanges_to_group(\"cw_use_param_group\", act)"
   ]
  },
  {
   "cell_type": "markdown",
   "metadata": {},
   "source": [
    "Then we calculate the \"activated\" formula values:"
   ]
  },
  {
   "cell_type": "code",
   "execution_count": null,
   "metadata": {},
   "outputs": [],
   "source": [
    "ActivityParameter.recalculate_exchanges(\"igu_param_group\")\n",
    "ActivityParameter.recalculate_exchanges(\"cw_use_param_group\")\n",
    "ActivityParameter.recalculate_exchanges(\"cw_eol_param_group\")"
   ]
  },
  {
   "cell_type": "markdown",
   "metadata": {},
   "source": [
    "**Delete the parameters:**"
   ]
  },
  {
   "cell_type": "raw",
   "metadata": {},
   "source": [
    "# delete the table of existing project parameters, i.e. actually deletes the project parameters\n",
    "ProjectParameter.drop_table(safe=True, drop_sequences=True)"
   ]
  },
  {
   "cell_type": "raw",
   "metadata": {},
   "source": [
    "# For a specific activity:\n",
    "parameters.remove_exchanges_from_group('my group', Database('SA_db').get('code_act'))"
   ]
  },
  {
   "cell_type": "markdown",
   "metadata": {},
   "source": [
    "# LCIA Methods"
   ]
  },
  {
   "cell_type": "markdown",
   "metadata": {},
   "source": [
    "List of available LCIA methods:"
   ]
  },
  {
   "cell_type": "raw",
   "metadata": {},
   "source": [
    "# bw.methods.list\n",
    "AllMethods = [method for method in bw.methods\n",
    "              if \"obsolete\" not in method[0]\n",
    "              and \"ILCD\" in method[0]\n",
    "              and \"no LT\" not in method[0]]\n",
    "AllMethods"
   ]
  },
  {
   "cell_type": "markdown",
   "metadata": {},
   "source": [
    "Define methods:"
   ]
  },
  {
   "cell_type": "code",
   "execution_count": null,
   "metadata": {},
   "outputs": [],
   "source": [
    "method_ilcd_gwp = (\n",
    "    'ILCD 2.0 2018 midpoint', 'climate change', 'climate change total')"
   ]
  },
  {
   "cell_type": "code",
   "execution_count": null,
   "metadata": {},
   "outputs": [],
   "source": [
    "methods_small = [\n",
    "    ('ILCD 2.0 2018 midpoint', 'climate change', 'climate change total'),\n",
    "    ('ILCD 2.0 2018 midpoint', 'ecosystem quality', 'freshwater ecotoxicity'),\n",
    "    ('ILCD 2.0 2018 midpoint', 'ecosystem quality',\n",
    "     'freshwater and terrestrial acidification'),\n",
    "    ('ILCD 2.0 2018 midpoint', 'ecosystem quality', 'freshwater eutrophication'),\n",
    "    ('ILCD 2.0 2018 midpoint', 'ecosystem quality', 'terrestrial eutrophication'),\n",
    "    ('ILCD 2.0 2018 midpoint', 'human health', 'ozone layer depletion'),\n",
    "    ('ILCD 2.0 2018 midpoint', 'human health', 'photochemical ozone creation'),\n",
    "    ('ILCD 2.0 2018 midpoint', 'resources', 'fossils'),\n",
    "    ('ILCD 2.0 2018 midpoint', 'resources', 'land use')\n",
    "]"
   ]
  },
  {
   "cell_type": "code",
   "execution_count": null,
   "metadata": {},
   "outputs": [],
   "source": [
    "methods_full = [\n",
    "    ('ILCD 2.0 2018 midpoint', 'climate change', 'climate change total'),\n",
    "    ('ILCD 2.0 2018 midpoint', 'ecosystem quality', 'freshwater ecotoxicity'),\n",
    "    ('ILCD 2.0 2018 midpoint', 'ecosystem quality',\n",
    "     'freshwater and terrestrial acidification'),\n",
    "    ('ILCD 2.0 2018 midpoint', 'ecosystem quality', 'freshwater eutrophication'),\n",
    "    ('ILCD 2.0 2018 midpoint', 'ecosystem quality', 'marine eutrophication'),\n",
    "    ('ILCD 2.0 2018 midpoint', 'ecosystem quality', 'terrestrial eutrophication'),\n",
    "    ('ILCD 2.0 2018 midpoint', 'human health', 'non-carcinogenic effects'),\n",
    "    ('ILCD 2.0 2018 midpoint', 'human health', 'carcinogenic effects'),\n",
    "    ('ILCD 2.0 2018 midpoint', 'human health', 'ionising radiation'),\n",
    "    ('ILCD 2.0 2018 midpoint', 'human health', 'ozone layer depletion'),\n",
    "    ('ILCD 2.0 2018 midpoint', 'human health', 'photochemical ozone creation'),\n",
    "    ('ILCD 2.0 2018 midpoint', 'human health', 'respiratory effects, inorganics'),\n",
    "    ('ILCD 2.0 2018 midpoint', 'resources', 'minerals and metals'),\n",
    "    ('ILCD 2.0 2018 midpoint', 'resources', 'dissipated water'),\n",
    "    ('ILCD 2.0 2018 midpoint', 'resources', 'fossils'),\n",
    "    ('ILCD 2.0 2018 midpoint', 'resources', 'land use')\n",
    "]"
   ]
  },
  {
   "cell_type": "markdown",
   "metadata": {},
   "source": [
    "# LCA of Glass Sheets and IGUs from Cradle to Gate"
   ]
  },
  {
   "cell_type": "markdown",
   "metadata": {},
   "source": [
    "## Flat glass production"
   ]
  },
  {
   "cell_type": "markdown",
   "metadata": {},
   "source": [
    "Define the <font color='red'> functional unit </font> per flat glass (fg) type:"
   ]
  },
  {
   "cell_type": "code",
   "execution_count": null,
   "metadata": {},
   "outputs": [],
   "source": [
    "inv_fg_unsorted = [act for act in exldb_igu\n",
    "                   if 'market for flat glass' in act['name']\n",
    "                   ]\n",
    "\n",
    "inv_fg = sorted(inv_fg_unsorted,\n",
    "                key=lambda k: k['name'])\n",
    "\n",
    "inv_fg"
   ]
  },
  {
   "cell_type": "code",
   "execution_count": null,
   "metadata": {},
   "outputs": [],
   "source": [
    "names_fg_processed = ['market for laminated safety glass',\n",
    "                      'market for tempered safety glass',\n",
    "                      'market for smart glass'\n",
    "                      ]\n",
    "\n",
    "inv_fg_processed_unsorted = [act for act in exldb_igu\n",
    "                             for n in names_fg_processed\n",
    "                             if n in act['name']\n",
    "                             and \"glazing\" not in act['name']\n",
    "                             ]\n",
    "\n",
    "inv_fg_processed = sorted(inv_fg_processed_unsorted,\n",
    "                          key=lambda k: k['name'])\n",
    "\n",
    "inv_fg_processed"
   ]
  },
  {
   "cell_type": "code",
   "execution_count": null,
   "metadata": {},
   "outputs": [],
   "source": [
    "# functional unit; 25kg of glass to obtain a thickness of 10mm for 1m²:\n",
    "fu_fg = 25\n",
    "# functional unit; 1m²:\n",
    "fu_fg_processed = 1\n",
    "\n",
    "impacts_fg = []\n",
    "\n",
    "for act in inv_fg:\n",
    "    lca = bw.LCA({act: fu_fg})\n",
    "    lca.lci()\n",
    "    for method in methods_small:\n",
    "        lca.switch_method(method)\n",
    "        lca.lcia()\n",
    "        impacts_fg.append((act[\"name\"], act[\"location\"],\n",
    "                           method[1].title(), lca.score,\n",
    "                           bw.methods.get(method).get('unit')))\n",
    "\n",
    "for act in inv_fg_processed:\n",
    "    lca = bw.LCA({act: fu_fg_processed})\n",
    "    lca.lci()\n",
    "    for method in methods_small:\n",
    "        lca.switch_method(method)\n",
    "        lca.lcia()\n",
    "        impacts_fg.append((act[\"name\"], act[\"location\"],\n",
    "                           method[1].title(), lca.score,\n",
    "                           bw.methods.get(method).get('unit')))\n",
    "\n",
    "# impacts_fg"
   ]
  },
  {
   "cell_type": "code",
   "execution_count": null,
   "metadata": {},
   "outputs": [],
   "source": [
    "df_impacts_fg = pd.DataFrame(impacts_fg, columns=[\"Name\", \"Location\", \"Method\",\n",
    "                                                  \"Score\", \"Unit\"])\n",
    "\n",
    "df_impacts_fg = pd.pivot_table(df_impacts_fg, index=[\"Name\"],\n",
    "                               columns=[\"Method\", \"Unit\"],\n",
    "                               values=\"Score\")"
   ]
  },
  {
   "cell_type": "code",
   "execution_count": null,
   "metadata": {
    "scrolled": false
   },
   "outputs": [],
   "source": [
    "df_impacts_fg = df_impacts_fg.sort_values(\n",
    "    (\"Climate Change\", \"kg CO2-Eq\"), ascending=True)\n",
    "\n",
    "df_impacts_fg.round(2)"
   ]
  },
  {
   "cell_type": "code",
   "execution_count": null,
   "metadata": {},
   "outputs": [],
   "source": [
    "df_impacts_fg = df_impacts_fg.reset_index()\n",
    "df_impacts_fg['Name'] = (df_impacts_fg['Name']\n",
    "                         .str.replace('market for ', ''))\n",
    "\n",
    "df_impacts_fg = df_impacts_fg.set_index('Name')"
   ]
  },
  {
   "cell_type": "code",
   "execution_count": null,
   "metadata": {},
   "outputs": [],
   "source": [
    "fig, ax = plt.subplots(figsize=(7, 3))\n",
    "\n",
    "df_impacts_wo_smartg = df_impacts_fg.drop(\"smart glass\", axis=0)\n",
    "\n",
    "sns.barplot(data=df_impacts_wo_smartg,\n",
    "            x=(\"Climate Change\", \"kg CO2-Eq\"),\n",
    "            y=df_impacts_wo_smartg.index,\n",
    "            color=\"white\", edgecolor=\".2\", linewidth=1.5)\n",
    "\n",
    "ax.yaxis.label.set_visible(False)\n",
    "ax.grid(which='major', axis='x', linestyle=':', linewidth=1)\n",
    "\n",
    "fig.suptitle(\n",
    "    'GWP of different types of glass panes, cradle-to-gate', y=1.1)\n",
    "sns.despine(left=True, offset=5)\n",
    "plt.show()"
   ]
  },
  {
   "cell_type": "code",
   "execution_count": null,
   "metadata": {},
   "outputs": [],
   "source": [
    "df_norm_impacts_wo_smartg = (\n",
    "    df_impacts_wo_smartg / df_impacts_wo_smartg.max()\n",
    ")\n",
    "df_norm_impacts_wo_smartg.round(2)"
   ]
  },
  {
   "cell_type": "code",
   "execution_count": null,
   "metadata": {},
   "outputs": [],
   "source": [
    "fig, ax = plt.subplots(figsize=(7, 3.5))\n",
    "\n",
    "sns.barplot(data=df_impacts_fg,\n",
    "            x=(\"Climate Change\", \"kg CO2-Eq\"),\n",
    "            y=df_impacts_fg.index,\n",
    "            color=\"white\", edgecolor=\".2\", linewidth=1.5)\n",
    "\n",
    "ax.yaxis.label.set_visible(False)\n",
    "ax.grid(which='major', axis='x', linestyle=':', linewidth=1)\n",
    "\n",
    "fig.suptitle(\n",
    "    'GWP of different types of glass panes, cradle-to-gate')\n",
    "sns.despine(left=True, offset=5)\n",
    "plt.show()"
   ]
  },
  {
   "cell_type": "code",
   "execution_count": null,
   "metadata": {},
   "outputs": [],
   "source": [
    "df_norm_impacts_fg = df_impacts_fg / df_impacts_fg.max()\n",
    "df_norm_impacts_fg.round(2)"
   ]
  },
  {
   "cell_type": "markdown",
   "metadata": {},
   "source": [
    "**Same calculation, but using the MultiLCA class:**"
   ]
  },
  {
   "cell_type": "code",
   "execution_count": null,
   "metadata": {},
   "outputs": [],
   "source": [
    "# functional unit; 25kg of glass to obtain a thickness of 10mm for 1m²:\n",
    "fu_fg = 25\n",
    "# functional unit; 1m²:\n",
    "fu_fg_processed = 1\n",
    "\n",
    "mlca_syst_fg = []\n",
    "\n",
    "for act in inv_fg:\n",
    "    mlca_syst_fg.append({act.key: fu_fg})\n",
    "\n",
    "for act in inv_fg_processed:\n",
    "    mlca_syst_fg.append({act.key: fu_fg_processed})\n",
    "\n",
    "mlca_syst_fg"
   ]
  },
  {
   "cell_type": "code",
   "execution_count": null,
   "metadata": {},
   "outputs": [],
   "source": [
    "bw.calculation_setups['calculation_setup'] = {'inv': mlca_syst_fg,\n",
    "                                              'ia': methods_small}\n",
    "\n",
    "mlca = bw.MultiLCA('calculation_setup')\n",
    "df_impacts_mlca_fg = pd.DataFrame(data=mlca.results, columns=mlca.methods)"
   ]
  },
  {
   "cell_type": "code",
   "execution_count": null,
   "metadata": {},
   "outputs": [],
   "source": [
    "activities = [(get_activity(key), amount)\n",
    "              for dct in mlca.func_units\n",
    "              for key, amount in dct.items()\n",
    "              ]\n",
    "\n",
    "df_fu = pd.DataFrame([(x['name'], x['database'], x['code'],\n",
    "                       x['location'], x['unit'], y)\n",
    "                      for x, y in activities],\n",
    "                     columns=('Database', 'Code', 'Name',\n",
    "                              'Location', 'Unit', 'Amount')\n",
    "                     )\n",
    "\n",
    "df_impacts_mlca_fg_expanded = pd.concat(\n",
    "    [df_fu, df_impacts_mlca_fg], axis=1\n",
    ")"
   ]
  },
  {
   "cell_type": "code",
   "execution_count": null,
   "metadata": {},
   "outputs": [],
   "source": [
    "df_impacts_mlca_fg_expanded = (\n",
    "    df_impacts_mlca_fg_expanded.set_index(\"Name\")\n",
    "    .drop([\"Database\", \"Code\", \"Location\"], axis=1).round(2)\n",
    ")"
   ]
  },
  {
   "cell_type": "code",
   "execution_count": null,
   "metadata": {},
   "outputs": [],
   "source": [
    "df_impacts_mlca_fg_expanded.sort_values(\n",
    "    by=[('ILCD 2.0 2018 midpoint', 'climate change', 'climate change total')],\n",
    "    ascending=True)"
   ]
  },
  {
   "cell_type": "markdown",
   "metadata": {},
   "source": [
    "## Analysis of the Impact of Different Types of Spacers, Sealants and Insulating Gases, Cradle-to-Gate"
   ]
  },
  {
   "cell_type": "markdown",
   "metadata": {},
   "source": [
    "**Comparative analysis of different spacers:**"
   ]
  },
  {
   "cell_type": "code",
   "execution_count": null,
   "metadata": {},
   "outputs": [],
   "source": [
    "inv_spacers = [act for act in bw.Database(\"exldb_spacers\")\n",
    "               if 'krypton' not in act['name']\n",
    "               and 'xenon' not in act['name']\n",
    "               and 'air' not in act['name']]\n",
    "\n",
    "fu_spacers = [{igu: 1} for igu in inv_spacers]"
   ]
  },
  {
   "cell_type": "code",
   "execution_count": null,
   "metadata": {
    "scrolled": true
   },
   "outputs": [],
   "source": [
    "impacts_spacers = []\n",
    "\n",
    "for igu in inv_spacers:\n",
    "    lca = bw.LCA({igu: 1})\n",
    "    lca.lci()\n",
    "    for method in methods_small:\n",
    "        lca.switch_method(method)\n",
    "        lca.lcia()\n",
    "        impacts_spacers.append((igu[\"name\"], igu[\"location\"],\n",
    "                                method[1].title(), lca.score,\n",
    "                                bw.methods.get(method).get('unit')))\n",
    "\n",
    "# impacts_spacers"
   ]
  },
  {
   "cell_type": "code",
   "execution_count": null,
   "metadata": {
    "scrolled": false
   },
   "outputs": [],
   "source": [
    "df_impacts_spacers = pd.DataFrame(\n",
    "    impacts_spacers,\n",
    "    columns=[\"Name\", \"Location\", \"Method\", \"Score\", \"Unit\"]\n",
    ")\n",
    "\n",
    "df_impacts_spacers = pd.pivot_table(\n",
    "    df_impacts_spacers, index=[\"Name\"],\n",
    "    columns=[\"Method\", \"Unit\"], values=\"Score\"\n",
    ")"
   ]
  },
  {
   "cell_type": "code",
   "execution_count": null,
   "metadata": {},
   "outputs": [],
   "source": [
    "df_impacts_spacers = df_impacts_spacers.sort_values(\n",
    "    (\"Climate Change\", \"kg CO2-Eq\"), ascending=True\n",
    ")\n",
    "\n",
    "df_impacts_spacers = df_impacts_spacers.reset_index()\n",
    "df_impacts_spacers['Name'] = (df_impacts_spacers['Name']\n",
    "                              .str.replace('double glazing production, ', '')\n",
    "                              .str.replace(', argon', ''))\n",
    "\n",
    "df_impacts_spacers = df_impacts_spacers.set_index('Name')"
   ]
  },
  {
   "cell_type": "code",
   "execution_count": null,
   "metadata": {},
   "outputs": [],
   "source": [
    "df_impacts_spacers.round(2)"
   ]
  },
  {
   "cell_type": "code",
   "execution_count": null,
   "metadata": {},
   "outputs": [],
   "source": [
    "fig, ax = plt.subplots(figsize=(7, 4))\n",
    "\n",
    "sns.barplot(data=df_impacts_spacers,\n",
    "            x=(\"Climate Change\", \"kg CO2-Eq\"),\n",
    "            y=df_impacts_spacers.index,\n",
    "            color=\"white\", edgecolor=\".2\", linewidth=1.5)\n",
    "\n",
    "ax.yaxis.label.set_visible(False)\n",
    "ax.grid(which='major', axis='x', linestyle=':', linewidth=1)\n",
    "\n",
    "fig.suptitle(\n",
    "    'GWP of double glazing according to spacer types, cradle-to-gate')\n",
    "sns.despine(left=True, offset=5)\n",
    "plt.show()"
   ]
  },
  {
   "cell_type": "code",
   "execution_count": null,
   "metadata": {},
   "outputs": [],
   "source": [
    "df_norm_impacts_spacers = df_impacts_spacers / df_impacts_spacers.max()\n",
    "df_norm_impacts_spacers.round(2).sort_values(\n",
    "    (\"Climate Change\", \"kg CO2-Eq\"), ascending=True)"
   ]
  },
  {
   "cell_type": "markdown",
   "metadata": {},
   "source": [
    "**Comparative analysis of different infill gases:**"
   ]
  },
  {
   "cell_type": "code",
   "execution_count": null,
   "metadata": {},
   "outputs": [],
   "source": [
    "inv_gas = [act for act in bw.Database(\"exldb_spacers\")\n",
    "           if 'thermally broken aluminium' in act['name']\n",
    "           ]\n",
    "\n",
    "fu_gas = [{igu: 1} for igu in inv_gas]\n",
    "fu_gas"
   ]
  },
  {
   "cell_type": "code",
   "execution_count": null,
   "metadata": {
    "scrolled": true
   },
   "outputs": [],
   "source": [
    "impacts_gas = []\n",
    "\n",
    "for igu in inv_gas:\n",
    "    lca = bw.LCA({igu: 1})\n",
    "    lca.lci()\n",
    "    for method in methods_small:\n",
    "        lca.switch_method(method)\n",
    "        lca.lcia()\n",
    "        impacts_gas.append((igu[\"name\"], igu[\"location\"],\n",
    "                            method[1].title(), lca.score,\n",
    "                            bw.methods.get(method).get('unit')))\n",
    "\n",
    "# impacts_gas"
   ]
  },
  {
   "cell_type": "code",
   "execution_count": null,
   "metadata": {
    "scrolled": false
   },
   "outputs": [],
   "source": [
    "df_impacts_gas = pd.DataFrame(\n",
    "    impacts_gas,\n",
    "    columns=[\"Name\", \"Location\", \"Method\", \"Score\", \"Unit\"]\n",
    ")\n",
    "\n",
    "df_impacts_gas = pd.pivot_table(\n",
    "    df_impacts_gas, index=[\"Name\"],\n",
    "    columns=[\"Method\", \"Unit\"], values=\"Score\"\n",
    ")"
   ]
  },
  {
   "cell_type": "code",
   "execution_count": null,
   "metadata": {},
   "outputs": [],
   "source": [
    "df_impacts_gas = df_impacts_gas.sort_values(\n",
    "    (\"Climate Change\", \"kg CO2-Eq\"), ascending=True\n",
    ")\n",
    "\n",
    "df_impacts_gas = df_impacts_gas.reset_index()\n",
    "df_impacts_gas['Name'] = (df_impacts_gas['Name']\n",
    "                          .str.replace('double glazing production, ', '')\n",
    "                          )\n",
    "\n",
    "df_impacts_gas = df_impacts_gas.set_index('Name')"
   ]
  },
  {
   "cell_type": "code",
   "execution_count": null,
   "metadata": {},
   "outputs": [],
   "source": [
    "df_impacts_gas.round(2)"
   ]
  },
  {
   "cell_type": "code",
   "execution_count": null,
   "metadata": {},
   "outputs": [],
   "source": [
    "fig, ax = plt.subplots(figsize=(7, 2))\n",
    "\n",
    "sns.barplot(data=df_impacts_gas,\n",
    "            x=(\"Climate Change\", \"kg CO2-Eq\"),\n",
    "            y=df_impacts_gas.index,\n",
    "            color=\"white\", edgecolor=\".2\", linewidth=1.5)\n",
    "\n",
    "ax.yaxis.label.set_visible(False)\n",
    "ax.grid(which='major', axis='x', linestyle=':', linewidth=1)\n",
    "\n",
    "fig.suptitle(\n",
    "    'GWP of double glazing according to insulating gas types, cradle-to-gate', y=1.1)\n",
    "sns.despine(left=True, offset=5)\n",
    "plt.show()"
   ]
  },
  {
   "cell_type": "code",
   "execution_count": null,
   "metadata": {},
   "outputs": [],
   "source": [
    "df_norm_impacts_gas = df_impacts_gas / df_impacts_gas.max()\n",
    "df_norm_impacts_gas.round(2).sort_values(\n",
    "    (\"Climate Change\", \"kg CO2-Eq\"), ascending=True)"
   ]
  },
  {
   "cell_type": "markdown",
   "metadata": {},
   "source": [
    "## Comparative LCA of Different Designs for IGU, Cradle-to-Gate"
   ]
  },
  {
   "cell_type": "code",
   "execution_count": null,
   "metadata": {},
   "outputs": [],
   "source": [
    "inv_igus = [act for act in bw.Database(\"exldb_igu\")\n",
    "            if 'market' in act['name']\n",
    "            and ('glazing' in act['name']\n",
    "            or 'vacuum' in act['name'])\n",
    "            ]\n",
    "\n",
    "fu_igus = [{igu: 1} for igu in inv_igus]\n",
    "\n",
    "fu_igus"
   ]
  },
  {
   "cell_type": "code",
   "execution_count": null,
   "metadata": {
    "scrolled": true
   },
   "outputs": [],
   "source": [
    "impacts_igus = []\n",
    "\n",
    "for igu in inv_igus:\n",
    "    lca = bw.LCA({igu: 1})\n",
    "    lca.lci()\n",
    "    for method in methods_small:\n",
    "        lca.switch_method(method)\n",
    "        lca.lcia()\n",
    "        impacts_igus.append((igu[\"name\"], igu[\"location\"],\n",
    "                             method[1].title(), lca.score,\n",
    "                             bw.methods.get(method).get('unit')))\n",
    "\n",
    "# impacts_igus"
   ]
  },
  {
   "cell_type": "code",
   "execution_count": null,
   "metadata": {
    "scrolled": false
   },
   "outputs": [],
   "source": [
    "df_impacts_igus = pd.DataFrame(\n",
    "    impacts_igus,\n",
    "    columns=[\"Name\", \"Location\", \"Method\", \"Score\", \"Unit\"]\n",
    ")\n",
    "\n",
    "df_impacts_igus = pd.pivot_table(\n",
    "    df_impacts_igus, index=[\"Name\"],\n",
    "    columns=[\"Method\", \"Unit\"], values=\"Score\"\n",
    ")"
   ]
  },
  {
   "cell_type": "code",
   "execution_count": null,
   "metadata": {},
   "outputs": [],
   "source": [
    "df_impacts_igus = df_impacts_igus.sort_values(\n",
    "    (\"Climate Change\", \"kg CO2-Eq\"), ascending=True\n",
    ")\n",
    "\n",
    "df_impacts_igus = df_impacts_igus.reset_index()\n",
    "df_impacts_igus['Name'] = (df_impacts_igus['Name']\n",
    "                           .str.replace('market for ', ''))\n",
    "\n",
    "df_impacts_igus = df_impacts_igus.set_index('Name')"
   ]
  },
  {
   "cell_type": "code",
   "execution_count": null,
   "metadata": {},
   "outputs": [],
   "source": [
    "df_impacts_igus.round(2)"
   ]
  },
  {
   "cell_type": "code",
   "execution_count": null,
   "metadata": {},
   "outputs": [],
   "source": [
    "fig, ax = plt.subplots(figsize=(12, 6))\n",
    "\n",
    "df_impacts_igus_wo_smartg = df_impacts_igus.drop(\n",
    "    \"smart glass, double glazing\", axis=0\n",
    ")\n",
    "\n",
    "sns.barplot(data=df_impacts_igus_wo_smartg,\n",
    "            x=(\"Climate Change\", \"kg CO2-Eq\"),\n",
    "            y=df_impacts_igus_wo_smartg.index,\n",
    "            color=\"white\", edgecolor=\".2\", linewidth=1.5)\n",
    "\n",
    "ax.yaxis.label.set_visible(False)\n",
    "ax.grid(which='major', axis='x', linestyle=':', linewidth=1)\n",
    "\n",
    "fig.suptitle(\n",
    "    'GWP of different design of IGUs, cradle-to-gate')\n",
    "sns.despine(left=True, offset=5)\n",
    "plt.show()"
   ]
  },
  {
   "cell_type": "code",
   "execution_count": null,
   "metadata": {},
   "outputs": [],
   "source": [
    "df_norm_impacts_igus_wo_smartg = (\n",
    "    df_impacts_igus_wo_smartg / df_impacts_igus_wo_smartg.max()\n",
    ")\n",
    "\n",
    "df_norm_impacts_igus_wo_smartg.round(2).sort_values(\n",
    "    (\"Climate Change\", \"kg CO2-Eq\"), ascending=True)"
   ]
  },
  {
   "cell_type": "code",
   "execution_count": null,
   "metadata": {},
   "outputs": [],
   "source": [
    "fig, ax = plt.subplots(figsize=(12, 6.5))\n",
    "\n",
    "sns.barplot(data=df_impacts_igus,\n",
    "            x=(\"Climate Change\", \"kg CO2-Eq\"),\n",
    "            y=df_impacts_igus.index,\n",
    "            color=\"white\", edgecolor=\".2\", linewidth=1.5)\n",
    "\n",
    "ax.yaxis.label.set_visible(False)\n",
    "ax.grid(which='major', axis='x', linestyle=':', linewidth=1)\n",
    "\n",
    "fig.suptitle(\n",
    "    'GWP of different design of IGUs, cradle-to-gate')\n",
    "sns.despine(left=True, offset=5)\n",
    "plt.show()"
   ]
  },
  {
   "cell_type": "code",
   "execution_count": null,
   "metadata": {},
   "outputs": [],
   "source": [
    "df_norm_impacts_igus = df_impacts_igus / df_impacts_igus.max()\n",
    "df_norm_impacts_igus.round(2).sort_values(\n",
    "    (\"Climate Change\", \"kg CO2-Eq\"), ascending=True)"
   ]
  },
  {
   "cell_type": "markdown",
   "metadata": {},
   "source": [
    "# Import Results from the BEM"
   ]
  },
  {
   "cell_type": "markdown",
   "metadata": {},
   "source": [
    "## Recover data saved in csv files from previous simulations:"
   ]
  },
  {
   "cell_type": "markdown",
   "metadata": {},
   "source": [
    "To read directly the csv file and work from them instead of relaunching the energy simulation (Please note that this does not prevent the simulations from being run again. To do this, change the run_all boolean variable above. If the simulations are rerun, the new results will overwrite the old ones saved in the csv files):"
   ]
  },
  {
   "cell_type": "markdown",
   "metadata": {},
   "source": [
    "Dataframe with all energy usage data per simulation run:"
   ]
  },
  {
   "cell_type": "markdown",
   "metadata": {},
   "source": [
    "Retrieve the data from the csv. The simulation_postprocess function will merge the new results by overwriting the old ones, or simply add the new ones if they did not exist yet."
   ]
  },
  {
   "cell_type": "code",
   "execution_count": null,
   "metadata": {},
   "outputs": [],
   "source": [
    "# Open the df_end_use_allsteps from the csv file:\n",
    "# Avoid re-running energy simulations (time consuming):\n",
    "if os.path.isfile('outputs\\steps_dir\\df_end_use_allsteps.csv'):\n",
    "    df_end_use_allsteps_csv = (\n",
    "        pd.read_csv('outputs\\steps_dir\\df_end_use_allsteps.csv'))\n",
    "    df_end_use_allsteps_csv = df_end_use_allsteps_csv.pivot_table(\n",
    "        values='0', index=['EndUse'], columns=['Run name', 'FuelType'])\n",
    "\n",
    "    df_end_use_allsteps = df_end_use_allsteps_csv"
   ]
  },
  {
   "cell_type": "markdown",
   "metadata": {},
   "source": [
    "A function to recover df_step dataframes saved as csv, i.e. DataFrame with the main assumptions and results (natural gas and electricity) specific to each simulation run:"
   ]
  },
  {
   "cell_type": "markdown",
   "metadata": {},
   "source": [
    "To assess the indirect impact of glazing replacement on energy use in the building, the natural gas and electricity use results for each scenario are subtracted by the initial scenario, where the exact same glazing is kept. "
   ]
  },
  {
   "cell_type": "code",
   "execution_count": null,
   "metadata": {},
   "outputs": [],
   "source": [
    "def recover_df_step(n_step, df_step):\n",
    "    \"\"\"\n",
    "    If a df_step.csv exists, recover it as a dataframe wich replace \n",
    "    the one currently in use in the notebook.\n",
    "    Avoid re-running energy simulation (time consuming).\n",
    "\n",
    "    Parameters\n",
    "    ----------\n",
    "    n_step: number of the step\n",
    "    df_step: a dataframe. followed by a number (e.g. step4), \n",
    "    identify the step with simulation runs and main results\n",
    "\n",
    "    Returns\n",
    "    -------\n",
    "    df_step: update with csv data or exactly the same as the one in the input\n",
    "\n",
    "    \"\"\"\n",
    "\n",
    "    # Does the csv exist\n",
    "    # and check if the existing df_step includes simulation results:\n",
    "    if os.path.isfile(f\"outputs\\steps_dir\\df_step\"+str(n_step)+\".csv\"):\n",
    "        df_step = (\n",
    "            pd.read_csv(f\"outputs\\steps_dir\\df_step\"+str(n_step)+\".csv\")\n",
    "            .set_index(['name']))\n",
    "\n",
    "        print(\"df_step \", n_step, \"updated with csv data\")\n",
    "    else:\n",
    "        print(\"existing df_step \", n_step, \"kept in place\")\n",
    "\n",
    "    # Subtraction of energy use by that in an initial scenario\n",
    "    if not df_step.loc[df_step[\"glazing\"] == \"dg_init_bronze\"].empty:\n",
    "        i_gas = float(\n",
    "            df_step.loc[df_step[\"glazing\"] == \"dg_init_bronze\", \"natural_gas\"])\n",
    "        i_elec = float(\n",
    "            df_step.loc[df_step[\"glazing\"] == \"dg_init_bronze\", \"elec_use\"])\n",
    "\n",
    "        df_step[\"natural_gas\"] = (df_step[\"natural_gas\"] - i_gas)\n",
    "        df_step[\"elec_use\"] = (df_step[\"elec_use\"] - i_elec)\n",
    "\n",
    "    else:\n",
    "        print(\"DG_init not in step \", n_step,\n",
    "              \"! energy use not substracted by dg_init!\")\n",
    "\n",
    "    return df_step"
   ]
  },
  {
   "cell_type": "markdown",
   "metadata": {},
   "source": [
    "## Recover the df_step dataframes:"
   ]
  },
  {
   "cell_type": "code",
   "execution_count": null,
   "metadata": {},
   "outputs": [],
   "source": [
    "df_step1 = recover_df_step(1, df_step1)\n",
    "df_step2 = recover_df_step(2, df_step2)\n",
    "df_step3 = recover_df_step(3, df_step3)\n",
    "df_step4 = recover_df_step(4, df_step4)\n",
    "df_step5 = recover_df_step(5, df_step5)\n",
    "df_step6 = recover_df_step(6, df_step6)\n",
    "df_step7 = recover_df_step(7, df_step7)\n",
    "df_step8 = recover_df_step(8, df_step8)\n",
    "df_step9 = recover_df_step(9, df_step9)\n",
    "df_step10 = recover_df_step(10, df_step10)\n",
    "df_step11 = recover_df_step(11, df_step11)\n",
    "df_step12 = recover_df_step(12, df_step12)\n",
    "df_step13 = recover_df_step(13, df_step13)\n",
    "df_step14 = recover_df_step(14, df_step14)\n",
    "df_step15 = recover_df_step(15, df_step15)\n",
    "df_step16 = recover_df_step(16, df_step16)\n",
    "df_step17 = recover_df_step(17, df_step17)\n",
    "df_step18 = recover_df_step(18, df_step18)\n",
    "df_step19 = recover_df_step(19, df_step19)"
   ]
  },
  {
   "cell_type": "markdown",
   "metadata": {},
   "source": [
    "# Impact Assessment of the Whole Life Cycle of Curtain Walls Retrofitting"
   ]
  },
  {
   "cell_type": "markdown",
   "metadata": {},
   "source": [
    "## Setup of the LCA"
   ]
  },
  {
   "cell_type": "markdown",
   "metadata": {},
   "source": [
    "First, we define the activity of dismantling, and thus disposal, of the existing curtain wall:"
   ]
  },
  {
   "cell_type": "code",
   "execution_count": null,
   "metadata": {},
   "outputs": [],
   "source": [
    "out_old_cw = exldb_cw.get('dismantling_cw_old_dg')\n",
    "# Check:\n",
    "print('My activity is:\\n', out_old_cw)"
   ]
  },
  {
   "cell_type": "markdown",
   "metadata": {},
   "source": [
    "Then we define the production activity of the new curtain wall:"
   ]
  },
  {
   "cell_type": "code",
   "execution_count": null,
   "metadata": {},
   "outputs": [],
   "source": [
    "prod_cw = exldb_cw.get('production_cw')\n",
    "# Check:\n",
    "print('My activity is:\\n', prod_cw)"
   ]
  },
  {
   "cell_type": "markdown",
   "metadata": {},
   "source": [
    "We define the use phase activity (not linked to production):"
   ]
  },
  {
   "cell_type": "code",
   "execution_count": null,
   "metadata": {},
   "outputs": [],
   "source": [
    "use_bldg_w_cw = exldb_cw.get('use_glazed_office_bldg')\n",
    "# Check:\n",
    "print('My activity is:\\n', use_bldg_w_cw)"
   ]
  },
  {
   "cell_type": "markdown",
   "metadata": {},
   "source": [
    "We define a use phase activity integrating the production phase:"
   ]
  },
  {
   "cell_type": "code",
   "execution_count": null,
   "metadata": {},
   "outputs": [],
   "source": [
    "prod_and_use_cw = exldb_cw.get('use_cw')\n",
    "# Check:\n",
    "print('My activity is:\\n', prod_and_use_cw)"
   ]
  },
  {
   "cell_type": "markdown",
   "metadata": {},
   "source": [
    "We define a maintenance activity:"
   ]
  },
  {
   "cell_type": "code",
   "execution_count": null,
   "metadata": {},
   "outputs": [],
   "source": [
    "repair_cw = exldb_cw.get('maintenance_cw')\n",
    "# Check:\n",
    "print('My activity is:\\n', repair_cw)"
   ]
  },
  {
   "cell_type": "markdown",
   "metadata": {},
   "source": [
    "And finally, the end-of-life activity:"
   ]
  },
  {
   "cell_type": "code",
   "execution_count": null,
   "metadata": {},
   "outputs": [],
   "source": [
    "eol_cw = exldb_cw.get('eol_cw')\n",
    "# Check:\n",
    "print('My activity is:\\n', eol_cw)"
   ]
  },
  {
   "cell_type": "markdown",
   "metadata": {},
   "source": [
    "Define the lifespan (years):"
   ]
  },
  {
   "cell_type": "code",
   "execution_count": null,
   "metadata": {},
   "outputs": [],
   "source": [
    "lifespan = [p.amount for p in DatabaseParameter.select()\n",
    "            if p.name == 'param_lifespan'][0]"
   ]
  },
  {
   "cell_type": "markdown",
   "metadata": {},
   "source": [
    "## Functions to Perform the LCAs"
   ]
  },
  {
   "cell_type": "markdown",
   "metadata": {},
   "source": [
    "Write a function to perform the LCA according to activities and parameter sets:"
   ]
  },
  {
   "cell_type": "code",
   "execution_count": null,
   "metadata": {},
   "outputs": [],
   "source": [
    "def lca_cw_gwp(df_step, act, fu):\n",
    "    \"\"\"\n",
    "    Perform a simple lca for different scenarios \n",
    "    according to parameters defined in df_step\n",
    "\n",
    "    Parameters\n",
    "    ----------\n",
    "    df_step: DataFrame with list of parameters and their values\n",
    "    act: activity to assess\n",
    "    fu: functional unit\n",
    "\n",
    "    Returns\n",
    "    -------\n",
    "    ls_results: list of values for IPCC GWP\n",
    "    \"\"\"\n",
    "\n",
    "    # To save results:\n",
    "    ls_results = []\n",
    "\n",
    "    # Define a dataframe only with bw2 parameters:\n",
    "    df_param = df_step.drop(['glazing',\n",
    "                             'heating_setpoint',\n",
    "                             'cooling_setpoint'], axis=1)\n",
    "\n",
    "    # Convert dataframe in a numpy array:\n",
    "    val_np = df_param.to_numpy()\n",
    "\n",
    "    n_scenario = 0\n",
    "\n",
    "    for v in val_np:\n",
    "        name_scenario = df_param.index[n_scenario]\n",
    "        n_scenario += 1\n",
    "\n",
    "        for i in range(len(df_param.columns)):\n",
    "            # Change parameters according to column.index:\n",
    "            param_name = df_param.columns[i]\n",
    "            n = df_param.columns.get_loc(param_name)\n",
    "\n",
    "            (ActivityParameter.update(amount=v[n])\n",
    "             .where(ActivityParameter.name == f'param_{param_name}').execute())\n",
    "\n",
    "        ActivityParameter.recalculate_exchanges(\"cw_use_param_group\")\n",
    "        ActivityParameter.recalculate_exchanges(\"cw_eol_param_group\")\n",
    "\n",
    "        lca = LCA({act: fu}, method_ilcd_gwp)\n",
    "        lca.lci()\n",
    "        lca.lcia()\n",
    "        ls_results.append({'run': name_scenario, 'result': lca.score})\n",
    "\n",
    "    return ls_results"
   ]
  },
  {
   "cell_type": "markdown",
   "metadata": {},
   "source": [
    "Write a function to perform a multi_method LCA, with small_methods, according to activities and parameter sets:"
   ]
  },
  {
   "cell_type": "code",
   "execution_count": null,
   "metadata": {},
   "outputs": [],
   "source": [
    "# Reminder of the reduced list of methods:\n",
    "methods_small"
   ]
  },
  {
   "cell_type": "code",
   "execution_count": null,
   "metadata": {},
   "outputs": [],
   "source": [
    "def lca_cw_mlca_small(df_step, act, fu):\n",
    "    \"\"\"\n",
    "    Perform a multi-method lca for different scenarios \n",
    "    according to parameters defined in df_step.\n",
    "    Methods= ReCiPe: GWP100, ODPinf, PMFP, POFP\n",
    "\n",
    "    Parameters\n",
    "    ----------\n",
    "    df_step: DataFrame with list of parameters and their values\n",
    "    act: activity to assess\n",
    "    fu: functional unit\n",
    "\n",
    "    Returns\n",
    "    -------\n",
    "    ls_mlca_small_results: list of values\n",
    "    \"\"\"\n",
    "\n",
    "    # To save results:\n",
    "    ls_mlca_small_results = []\n",
    "\n",
    "    # Define a dataframe only with bw2 parameters:\n",
    "    df_param = df_step.drop(['glazing', 'heating_setpoint',\n",
    "                             'cooling_setpoint'], axis=1)\n",
    "\n",
    "    # Convert dataframe in a numpy array:\n",
    "    val_np = df_param.to_numpy()\n",
    "\n",
    "    n_scenario = 0\n",
    "\n",
    "    for v in val_np:\n",
    "        name_scenario = df_param.index[n_scenario]\n",
    "        n_scenario += 1\n",
    "\n",
    "        for i in range(len(df_param.columns)):\n",
    "            # Change parameters according to column.index:\n",
    "            param_name = df_param.columns[i]\n",
    "            n = df_param.columns.get_loc(param_name)\n",
    "\n",
    "            (ActivityParameter.update(amount=v[n])\n",
    "             .where(ActivityParameter.name == f'param_{param_name}').execute())\n",
    "\n",
    "        ActivityParameter.recalculate_exchanges(\"cw_use_param_group\")\n",
    "        ActivityParameter.recalculate_exchanges(\"cw_eol_param_group\")\n",
    "\n",
    "        lca = LCA({act: fu})\n",
    "        lca.lci()\n",
    "\n",
    "        for method in methods_small:\n",
    "            lca.switch_method(method)\n",
    "            lca.lcia()\n",
    "            ls_mlca_small_results.append((name_scenario,\n",
    "                                          method[2].title(), lca.score,\n",
    "                                          bw.methods.get(method).get('unit')))\n",
    "\n",
    "    return ls_mlca_small_results"
   ]
  },
  {
   "cell_type": "markdown",
   "metadata": {},
   "source": [
    "Write a function to perform a multi_method LCA, with full_methods, according to activities and parameter sets:"
   ]
  },
  {
   "cell_type": "code",
   "execution_count": null,
   "metadata": {},
   "outputs": [],
   "source": [
    "# Reminder of the full list of methods:\n",
    "methods_full"
   ]
  },
  {
   "cell_type": "code",
   "execution_count": null,
   "metadata": {},
   "outputs": [],
   "source": [
    "def lca_cw_mlca_full(df_step, act, fu):\n",
    "    \"\"\"\n",
    "    Perform a multi-method lca for different scenarios \n",
    "    according to parameters defined in df_step.\n",
    "    Methods= ReCiPe: GWP100, ODPinf, PMFP, POFP\n",
    "\n",
    "    Parameters\n",
    "    ----------\n",
    "    df_step: DataFrame with list of parameters and their values\n",
    "    act: activity to assess\n",
    "    fu: functional unit\n",
    "\n",
    "    Returns\n",
    "    -------\n",
    "    ls_mlca_full_results: list of values\n",
    "    \"\"\"\n",
    "\n",
    "    # To save results:\n",
    "    ls_mlca_full_results = []\n",
    "\n",
    "    # Define a dataframe only with bw2 parameters:\n",
    "    df_param = df_step.drop(['glazing', 'heating_setpoint',\n",
    "                             'cooling_setpoint'], axis=1)\n",
    "\n",
    "    # Convert dataframe in a numpy array:\n",
    "    val_np = df_param.to_numpy()\n",
    "\n",
    "    n_scenario = 0\n",
    "\n",
    "    for v in val_np:\n",
    "        name_scenario = df_param.index[n_scenario]\n",
    "        n_scenario += 1\n",
    "\n",
    "        for i in range(len(df_param.columns)):\n",
    "            # Change parameters according to column.index:\n",
    "            param_name = df_param.columns[i]\n",
    "            n = df_param.columns.get_loc(param_name)\n",
    "\n",
    "            (ActivityParameter.update(amount=v[n])\n",
    "             .where(ActivityParameter.name == f'param_{param_name}').execute())\n",
    "\n",
    "        ActivityParameter.recalculate_exchanges(\"cw_use_param_group\")\n",
    "        ActivityParameter.recalculate_exchanges(\"cw_eol_param_group\")\n",
    "\n",
    "        lca = LCA({act: fu})\n",
    "        lca.lci()\n",
    "\n",
    "        for method in methods_full:\n",
    "            lca.switch_method(method)\n",
    "            lca.lcia()\n",
    "            ls_mlca_full_results.append((name_scenario,\n",
    "                                         method[2].title(), lca.score,\n",
    "                                         bw.methods.get(method).get('unit')))\n",
    "\n",
    "    return ls_mlca_full_results"
   ]
  },
  {
   "cell_type": "markdown",
   "metadata": {},
   "source": [
    "A little function to transform a list of mlca_results in a DataFrame:"
   ]
  },
  {
   "cell_type": "code",
   "execution_count": null,
   "metadata": {},
   "outputs": [],
   "source": [
    "def ls_to_df_mlca(ls):\n",
    "    \"\"\"\n",
    "    A little function to transform the ls_mlca_results \n",
    "    in a readable DataFrame\n",
    "\n",
    "    Parameters\n",
    "    ----------\n",
    "    ls: the list\n",
    "\n",
    "    Returns\n",
    "    -------\n",
    "    df: the DataFrame\n",
    "    \"\"\"\n",
    "\n",
    "    # DataFrame to then work w/ results:\n",
    "    df = pd.DataFrame(ls,\n",
    "                      columns=[\"Name\",\n",
    "                               \"Impact Category\",\n",
    "                               \"Score\",\n",
    "                               \"Unit\"\n",
    "                               ]\n",
    "                      )\n",
    "\n",
    "    df = pd.pivot_table(df,\n",
    "                        index=[\"Name\"],\n",
    "                        columns=[\"Impact Category\",\n",
    "                                 \"Unit\"\n",
    "                                 ],\n",
    "                        values=\"Score\"\n",
    "                        )\n",
    "\n",
    "    return df"
   ]
  },
  {
   "cell_type": "markdown",
   "metadata": {},
   "source": [
    "A function to save mlca_full_results in a DataFrame, for each simulation run and LCA phase:"
   ]
  },
  {
   "cell_type": "code",
   "execution_count": null,
   "metadata": {},
   "outputs": [],
   "source": [
    "# Initialise a DataFrame:\n",
    "df_mlca_full_raw_results = pd.DataFrame()"
   ]
  },
  {
   "cell_type": "code",
   "execution_count": null,
   "metadata": {},
   "outputs": [],
   "source": [
    "def ls_to_df_mlca_full(step, ls, act, df_results):\n",
    "    \"\"\"\n",
    "    A function to append a list of mlca results in a DataFrame, \n",
    "        with values organised per simulation run (index), \n",
    "        and LCA phase (columns).\n",
    "\n",
    "    Parameters\n",
    "    ----------\n",
    "    step: correspond to the batch of simulation runs: step_1, 2...\n",
    "    ls: the list of results.\n",
    "    df_results: a DataFrame where LCA results will be saved.\n",
    "    act: activity for which the LCA has been done.\n",
    "\n",
    "    Returns\n",
    "    -------\n",
    "    df_results\n",
    "    \"\"\"\n",
    "\n",
    "    # New DataFrame from list of results:\n",
    "    df_temp = pd.DataFrame(ls,\n",
    "                           columns=[\"Name\",\n",
    "                                    \"Impact Category\",\n",
    "                                    \"Score\",\n",
    "                                    \"Unit\"\n",
    "                                    ]\n",
    "                           )\n",
    "\n",
    "    # Add information regarding the step:\n",
    "    df_temp[\"Step\"] = step\n",
    "    # Add information regarding the LCA phase:\n",
    "    df_temp[\"LCA Phase\"] = str(act[\"name\"])\n",
    "\n",
    "    # Pivot the DataFrame:\n",
    "    df_temp = pd.pivot_table(df_temp,\n",
    "                             index=[\"Step\",\n",
    "                                    \"Name\"\n",
    "                                    ],\n",
    "                             columns=[\"LCA Phase\",\n",
    "                                      \"Impact Category\",\n",
    "                                      \"Unit\"\n",
    "                                      ],\n",
    "                             values=\"Score\"\n",
    "                             )\n",
    "    # Merge with existing results:\n",
    "    if df_results.empty:\n",
    "        df_results = df_temp\n",
    "        print(\"empty, df_results replaced\")\n",
    "    else:\n",
    "        # Merge by columns_to_use:\n",
    "        df_results = pd.concat(\n",
    "            [df_results, df_temp[~df_temp.index.isin(df_results.index)]]\n",
    "        )\n",
    "        df_results.update(df_temp)\n",
    "\n",
    "    return df_results"
   ]
  },
  {
   "cell_type": "markdown",
   "metadata": {},
   "source": [
    "A function to conduct a mLCA per activity and save the mlca_full_results in a DataFrame, for each simulation run and each LCA phase:"
   ]
  },
  {
   "cell_type": "code",
   "execution_count": null,
   "metadata": {},
   "outputs": [],
   "source": [
    "def full_lca_to_df(step, df_step, df_results, fu):\n",
    "    \"\"\"\n",
    "    A function to conduct and LCA (w/ function: lca_cw_mlca_full)\n",
    "        and append a list of mlca results in a DataFrame \n",
    "        (w/ function: ls_to_df_mlca_full), \n",
    "        with values organised per simulation run (index),\n",
    "        and LCA phase (columns).\n",
    "\n",
    "    Parameters\n",
    "    ----------\n",
    "    step: correspond to the batch of simulation runs: step_1, 2...\n",
    "    df_step: DataFrame with list of parameters and their values\n",
    "\n",
    "    Returns\n",
    "    -------\n",
    "    df_results: a DataFrame where LCA results are saved,\n",
    "        simulation run as index, LCA phase and impact indicators as columns.\n",
    "    \"\"\"\n",
    "\n",
    "    for act in [prod_cw, use_bldg_w_cw, repair_cw, eol_cw]:\n",
    "        ls = lca_cw_mlca_full(df_step, act, fu)\n",
    "        df_results = ls_to_df_mlca_full(step, ls, act, df_results)\n",
    "\n",
    "    return df_results"
   ]
  },
  {
   "cell_type": "markdown",
   "metadata": {},
   "source": [
    "## Environmental Analysis, Step-by-Step"
   ]
  },
  {
   "cell_type": "markdown",
   "metadata": {},
   "source": [
    "### Life Cycle Impact Assessment"
   ]
  },
  {
   "cell_type": "markdown",
   "metadata": {},
   "source": [
    "Full life cycle assessment, ILCD methods, from cradle-to-grave, for each simulation run:"
   ]
  },
  {
   "cell_type": "markdown",
   "metadata": {},
   "source": [
    "<font color=\"red\">Performing the impact assessment or loading the csv file where previous results are stored?<font>"
   ]
  },
  {
   "cell_type": "code",
   "execution_count": null,
   "metadata": {},
   "outputs": [],
   "source": [
    "# Do we perform the LCIA?\n",
    "calc_lcia = False"
   ]
  },
  {
   "cell_type": "markdown",
   "metadata": {},
   "source": [
    "Be patient, takes time to calculate !"
   ]
  },
  {
   "cell_type": "code",
   "execution_count": null,
   "metadata": {},
   "outputs": [],
   "source": [
    "if calc_lcia:\n",
    "    # LCIA calculation:\n",
    "    ls_df_step = [\n",
    "        df_step1, df_step2, df_step3, df_step4, df_step5,\n",
    "        df_step6, df_step7, df_step8, df_step9, df_step10,\n",
    "        df_step11, df_step12, df_step13, df_step14, df_step15,\n",
    "        df_step16, df_step17, df_step18, df_step19\n",
    "    ]\n",
    "\n",
    "    n = 1\n",
    "    for df in ls_df_step:\n",
    "        step = \"step_\"+str(n)\n",
    "        df_mlca_full_raw_results = full_lca_to_df(step, df,\n",
    "                                                  df_mlca_full_raw_results, 1)\n",
    "        n += 1\n",
    "\n",
    "    # Save df_mlca_full_raw_results to csv:\n",
    "    df_mlca_full_raw_results.unstack([0, 1]).to_csv(\n",
    "        'outputs\\steps_dir\\df_mlca_full_raw_results.csv', index=True)\n",
    "\n",
    "else:\n",
    "    # Open the csv file, to avoid recalculating the impacts:\n",
    "    if os.path.isfile('outputs\\steps_dir\\df_mlca_full_raw_results.csv'):\n",
    "        df_mlca_full_raw_results = (\n",
    "            pd.read_csv('outputs\\steps_dir\\df_mlca_full_raw_results.csv')\n",
    "        )\n",
    "        df_mlca_full_raw_results = df_mlca_full_raw_results.pivot_table(\n",
    "            values='0',\n",
    "            index=['Step', 'Name'],\n",
    "            columns=['LCA Phase', 'Impact Category', 'Unit']\n",
    "        )"
   ]
  },
  {
   "cell_type": "code",
   "execution_count": null,
   "metadata": {},
   "outputs": [],
   "source": [
    "df_mlca_full_raw_results"
   ]
  },
  {
   "cell_type": "markdown",
   "metadata": {},
   "source": [
    "### Navigate the LCIA Result DataFrame"
   ]
  },
  {
   "cell_type": "markdown",
   "metadata": {},
   "source": [
    "List of impact categories:"
   ]
  },
  {
   "cell_type": "code",
   "execution_count": null,
   "metadata": {},
   "outputs": [],
   "source": [
    "df_ilcd_methods = pd.DataFrame()\n",
    "n = 0\n",
    "ls_n = []\n",
    "ls_ic = []\n",
    "ls_ic_details = []\n",
    "ls_u = []\n",
    "for method in methods_full:\n",
    "    ls_n.append(n + 1)\n",
    "    ls_ic.append(method[1].title())\n",
    "    ls_ic_details.append(method[2].title())\n",
    "    ls_u.append(bw.methods.get(method).get('unit'))\n",
    "    n += 1\n",
    "\n",
    "df_ilcd_methods[\"Impact Category\"] = ls_ic\n",
    "df_ilcd_methods[\"Sub-Category\"] = ls_ic_details\n",
    "df_ilcd_methods[\"Unit\"] = ls_u\n",
    "df_ilcd_methods[\"#\"] = ls_n\n",
    "\n",
    "df_ilcd_methods = df_ilcd_methods.set_index([\"Impact Category\", \"#\"])\n",
    "df_ilcd_methods"
   ]
  },
  {
   "cell_type": "markdown",
   "metadata": {},
   "source": [
    "Select the impact category to display:"
   ]
  },
  {
   "cell_type": "code",
   "execution_count": null,
   "metadata": {},
   "outputs": [],
   "source": [
    "# Define the rank of the impact category (#):\n",
    "n = 4"
   ]
  },
  {
   "cell_type": "markdown",
   "metadata": {},
   "source": [
    "Select the step of analysis, with the batch of simulation runs:"
   ]
  },
  {
   "cell_type": "code",
   "execution_count": null,
   "metadata": {},
   "outputs": [],
   "source": [
    "step = \"step_4\""
   ]
  },
  {
   "cell_type": "code",
   "execution_count": null,
   "metadata": {},
   "outputs": [],
   "source": [
    "ic = df_ilcd_methods.xs(n, level=1)[\"Sub-Category\"][0]\n",
    "df_mlca_full_raw_results.loc[step].xs(ic, axis=1,\n",
    "                                      level=1, drop_level=False)"
   ]
  },
  {
   "cell_type": "markdown",
   "metadata": {},
   "source": [
    "### Disposal of the Existing Curtain Wall"
   ]
  },
  {
   "cell_type": "code",
   "execution_count": null,
   "metadata": {},
   "outputs": [],
   "source": [
    "ls_mlca_oldcw_results = []\n",
    "\n",
    "lca = bw.LCA({out_old_cw: 1})\n",
    "lca.lci()\n",
    "for method in methods_full:\n",
    "    lca.switch_method(method)\n",
    "    lca.lcia()\n",
    "    ls_mlca_oldcw_results.append((method[2].title(), lca.score,\n",
    "                                  bw.methods.get(method).get('unit')))\n",
    "\n",
    "ls_mlca_oldcw_results"
   ]
  },
  {
   "cell_type": "code",
   "execution_count": null,
   "metadata": {},
   "outputs": [],
   "source": [
    "df_mlca_oldcw_results = pd.DataFrame(ls_mlca_oldcw_results,\n",
    "                                     columns=[\"Impact Category\",\n",
    "                                              \"Score\",\n",
    "                                              \"Unit\"]\n",
    "                                     )\n",
    "\n",
    "df_mlca_oldcw_results = pd.pivot_table(df_mlca_oldcw_results,\n",
    "                                       columns=[\"Impact Category\", \"Unit\"],\n",
    "                                       values=\"Score\"\n",
    "                                       )\n",
    "\n",
    "df_mlca_oldcw_results"
   ]
  },
  {
   "cell_type": "markdown",
   "metadata": {},
   "source": [
    "# Post-Processing and Data Analysis"
   ]
  },
  {
   "cell_type": "code",
   "execution_count": null,
   "metadata": {},
   "outputs": [],
   "source": [
    "df_lca_lifespan = pd.DataFrame(\n",
    "    {'Year': np.arange(lifespan+3),\n",
    "     'Step': 'ref',\n",
    "     'Scenario': 'no_retrofit',\n",
    "     'Impact Category': 'All',\n",
    "     'Unit': 'None',\n",
    "     'Score': 0\n",
    "     }\n",
    ")\n",
    "\n",
    "df_lca_lifespan = df_lca_lifespan.pivot(index='Year',\n",
    "                                        columns=['Step',\n",
    "                                                 'Scenario',\n",
    "                                                 'Impact Category',\n",
    "                                                 'Unit'\n",
    "                                                 ],\n",
    "                                        values='Score'\n",
    "                                        )"
   ]
  },
  {
   "cell_type": "code",
   "execution_count": null,
   "metadata": {},
   "outputs": [],
   "source": [
    "df_mlca_full_raw_results = df_mlca_full_raw_results.reset_index(level=0)\n",
    "\n",
    "# Defining the columns, one for each simulation run:\n",
    "for run in df_mlca_full_raw_results.index:\n",
    "    n_step = df_mlca_full_raw_results[\"Step\"].loc[run]\n",
    "    for method in methods_full:\n",
    "        ic = method[2].title()\n",
    "        u = bw.methods.get(method).get('unit')\n",
    "        # define a new column:\n",
    "        df_lca_lifespan[n_step, run, ic, u] = 0\n",
    "\n",
    "df_lca_lifespan = df_lca_lifespan.drop(\"ref\", axis=1)"
   ]
  },
  {
   "cell_type": "code",
   "execution_count": null,
   "metadata": {},
   "outputs": [],
   "source": [
    "# LCIA over the 40 years of the service life of the curtain wall:\n",
    "for step, run, ic, u in df_lca_lifespan.columns:\n",
    "    # First phase of the LCA, disposal of the existing curtain wall:\n",
    "    df_lca_lifespan.loc[0][step, run, ic, u] = (\n",
    "        df_mlca_oldcw_results[ic, u]\n",
    "    )\n",
    "\n",
    "    # Second phase, production/construction of the new curtain wall:\n",
    "    df_lca_lifespan.loc[1][step, run, ic, u] = (\n",
    "        df_lca_lifespan.loc[0][step, run, ic, u] +\n",
    "        df_mlca_full_raw_results.loc[run][\n",
    "            \"curtain wall, production\", ic, u\n",
    "        ]\n",
    "    )\n",
    "\n",
    "    # Third phase, use of the curtain wall, indirect energy use impacts:\n",
    "    for y in range(2, 42):\n",
    "        df_lca_lifespan.loc[y][step, run, ic, u] = (\n",
    "            df_lca_lifespan.loc[y-1][step, run, ic, u] +\n",
    "            df_mlca_full_raw_results.loc[run][\n",
    "                \"use of glazed office building, hvac and lighting\", ic, u\n",
    "            ]\n",
    "        )\n",
    "        if (y == 12 or y == 22 or y == 32):\n",
    "            # Third phase, impacts relating to maintenance, every 10y:\n",
    "            df_lca_lifespan.loc[y][step, run, ic, u] += (\n",
    "                df_mlca_full_raw_results.loc[run][\n",
    "                    \"curtain wall, maintenance\", ic, u\n",
    "                ]\n",
    "            )\n",
    "\n",
    "    # Last phase, end-of-life of the new curtain wall:\n",
    "    df_lca_lifespan.loc[42][step, run, ic, u] = (\n",
    "        df_lca_lifespan.loc[41][step, run, ic, u] +\n",
    "        df_mlca_full_raw_results.loc[run][\n",
    "            \"curtain wall, end of life\", ic, u\n",
    "        ]\n",
    "    )"
   ]
  },
  {
   "cell_type": "markdown",
   "metadata": {},
   "source": [
    "Post-processing the LCA results to define the trajectory 2020 > 2050, with climate change:"
   ]
  },
  {
   "cell_type": "code",
   "execution_count": null,
   "metadata": {},
   "outputs": [],
   "source": [
    "# Code for the simulations run in 2020 which corresponds\n",
    "# to the same configuration as the one in 2050, \n",
    "# step_14 > step_4; step_16 > step_10; step_18 > step_11:\n",
    "run_2050_2020 = {\n",
    "    \"n_a_2126_dg_init_cc2050\": \"d_a_2126_dg_init_vav_sd\",\n",
    "    \"n_b_2126_dg0_cc2050\": \"d_b_2126_dg0_vav_sd\",\n",
    "    \"n_c_2126_dg4_cc2050\": \"d_h_2126_dg4_vav_sd\",\n",
    "    \"n_d_2126_dg5_cc2050\": \"d_i_2126_dg5_vav_sd\",\n",
    "    \"n_e_2126_dg6_cc2050\": \"d_j_2126_dg6_vav_sd\",\n",
    "    \"n_f_2126_tg4_cc2050\": \"d_n_2126_tg4_vav_sd\",\n",
    "    \"n_g_2126_tg5_cc2050\": \"d_o_2126_tg5_vav_sd\",\n",
    "    \"n_h_2126_tg6_cc2050\": \"d_p_2126_tg6_vav_sd\",\n",
    "    \"p_a_2124_dg_init_cc2050\": \"j_a_2124_dg_init_sd\",\n",
    "    \"p_b_2124_dg0_cc2050\": \"j_b_2124_dg0_sd\",\n",
    "    \"p_c_2124_dg4_cc2050\": \"j_c_2124_dg4_sd\",\n",
    "    \"p_d_2124_dg5_cc2050\": \"j_d_2124_dg5_sd\",\n",
    "    \"p_e_2124_dg6_cc2050\": \"j_e_2124_dg6_sd\",\n",
    "    \"p_f_2124_tg4_cc2050\": \"j_f_2124_tg4_sd\",\n",
    "    \"p_g_2124_tg5_cc2050\": \"j_g_2124_tg5_sd\",\n",
    "    \"p_h_2124_tg6_cc2050\": \"j_h_2124_tg6_sd\",\n",
    "    \"r_a_1927_dg_init_cc2050\": \"k_a_1927_dg_init_tc\",\n",
    "    \"r_b_1927_dg0_cc2050\": \"k_b_1927_dg0_tc\",\n",
    "    \"r_c_1927_dg4_cc2050\": \"k_c_1927_dg4_tc\",\n",
    "    \"r_d_1927_dg5_cc2050\": \"k_d_1927_dg5_tc\",\n",
    "    \"r_e_1927_dg6_cc2050\": \"k_e_1927_dg6_tc\",\n",
    "    \"r_f_1927_tg4_cc2050\": \"k_f_1927_tg4_tc\",\n",
    "    \"r_g_1927_tg5_cc2050\": \"k_g_1927_tg5_tc\",\n",
    "    \"r_h_1927_tg6_cc2050\": \"k_h_1927_tg6_tc\"\n",
    "}"
   ]
  },
  {
   "cell_type": "code",
   "execution_count": null,
   "metadata": {},
   "outputs": [],
   "source": [
    "# Corresponding simulations 2050 > 2020:\n",
    "steps_2050_2020 = {\"step_14\": \"step_4\",\n",
    "                   \"step_16\": \"step_10\",\n",
    "                   \"step_18\": \"step_11\"\n",
    "                   }"
   ]
  },
  {
   "cell_type": "code",
   "execution_count": null,
   "metadata": {},
   "outputs": [],
   "source": [
    "# LCIA over 40years for 2050 climate change scenario:\n",
    "# 2022 corresponds to y = 2\n",
    "for step, run, ic, u in df_lca_lifespan.columns:\n",
    "    # First step, heating 21, cooling 26:\n",
    "    if step in steps_2050_2020.keys():\n",
    "        # Modification of the first year in use, i.e. 2022 and not 2050:\n",
    "        df_lca_lifespan.loc[2][step, run, ic, u] = (\n",
    "            df_lca_lifespan.loc[2][steps_2050_2020[step], \n",
    "                                   run_2050_2020[run], \n",
    "                                   ic, \n",
    "                                   u\n",
    "                                  ]\n",
    "        )\n",
    "\n",
    "        # Delete data between 2022 and 2050, i.e. y=30:\n",
    "        for y in range(3, 30):\n",
    "            df_lca_lifespan.loc[y][step, run, ic, u] = np.nan\n",
    "\n",
    "        # Idem passed 2050, i.e. y=30:\n",
    "        for y in range(31, 43):\n",
    "            df_lca_lifespan.loc[y][step, run, ic, u] = np.nan\n",
    "\n",
    "        # Interpolate between 2020 and 2050, and the 10 years after:\n",
    "        df_lca_lifespan[step, run, ic, u].interpolate(\n",
    "            method='linear',\n",
    "            limit_direction='forward',\n",
    "            axis=0\n",
    "        )\n",
    "\n",
    "        # Last phase, end-of-life of the new curtain wall:\n",
    "        df_lca_lifespan.loc[42][step, run, ic, u] += (\n",
    "            df_mlca_full_raw_results.loc[run][\n",
    "                \"curtain wall, end of life\", ic, u\n",
    "            ]\n",
    "        )"
   ]
  },
  {
   "cell_type": "code",
   "execution_count": null,
   "metadata": {},
   "outputs": [],
   "source": [
    "# Rebuild df_mlca_full_raw_results:\n",
    "df_mlca_full_raw_results = (\n",
    "    df_mlca_full_raw_results.reset_index().set_index([\"Step\", \"Name\"])\n",
    ")"
   ]
  },
  {
   "cell_type": "code",
   "execution_count": null,
   "metadata": {
    "scrolled": true
   },
   "outputs": [],
   "source": [
    "df_lca_lifespan[\"step_16\"].xs(\n",
    "    \"Climate Change Total\", axis=1, level=1, drop_level=False)"
   ]
  },
  {
   "cell_type": "code",
   "execution_count": null,
   "metadata": {},
   "outputs": [],
   "source": []
  },
  {
   "cell_type": "code",
   "execution_count": null,
   "metadata": {},
   "outputs": [],
   "source": []
  },
  {
   "cell_type": "code",
   "execution_count": null,
   "metadata": {},
   "outputs": [],
   "source": []
  },
  {
   "cell_type": "code",
   "execution_count": null,
   "metadata": {},
   "outputs": [],
   "source": []
  },
  {
   "cell_type": "code",
   "execution_count": null,
   "metadata": {},
   "outputs": [],
   "source": []
  },
  {
   "cell_type": "code",
   "execution_count": null,
   "metadata": {},
   "outputs": [],
   "source": [
    "# Plot the evolution of the GWP per year:\n",
    "fig, ax = plt.subplots(figsize=(16, 9))\n",
    "\n",
    "for glazing in df_step1.index:\n",
    "    if 'dg' in glazing:\n",
    "        if 'dg_init' in glazing:\n",
    "            sns.lineplot(data=df_step1_gwp.reset_index(),\n",
    "                         x='Year', y=('1', '1_1926_dg_init'),\n",
    "                         color='firebrick',\n",
    "                         ax=ax)\n",
    "\n",
    "        else:\n",
    "            sns.lineplot(data=df_step1_gwp.reset_index(),\n",
    "                         x='Year', y=('1', glazing),\n",
    "                         color='steelblue',\n",
    "                         ax=ax)\n",
    "    if 'tg' in glazing:\n",
    "        sns.lineplot(data=df_step1_gwp.reset_index(),\n",
    "                     x='Year', y=('1', glazing),\n",
    "                     color='forestgreen',\n",
    "                     ax=ax)\n",
    "\n",
    "ax.fill_between(np.array(df_step1_gwp.index),\n",
    "                np.array(df_step1_gwp['1', '1_1926_dg3']),\n",
    "                np.array(df_step1_gwp['1', '1_1926_dg6']), alpha=0.25)\n",
    "\n",
    "ax.axhline(y=0, c='black', linestyle=':', linewidth=0.75)\n",
    "ax.grid(which='major', axis='y', linestyle=':', linewidth=1)\n",
    "\n",
    "ax.yaxis.label.set_visible(False)\n",
    "ax.set_xlim(0, 45)\n",
    "ax.set_ylim(-500, 1000)\n",
    "\n",
    "fig.suptitle('')\n",
    "sns.despine(offset=5)\n",
    "plt.show()"
   ]
  },
  {
   "cell_type": "code",
   "execution_count": null,
   "metadata": {},
   "outputs": [],
   "source": [
    "# Plot the evolution of the GWP per year:\n",
    "fig, ax = plt.subplots(figsize=(16, 9))\n",
    "\n",
    "for glazing in df_step1.index:\n",
    "    if 'dg_init' in glazing:\n",
    "        sns.lineplot(data=df_step1_gwp.reset_index(),\n",
    "                     x='Year', y=('1', '1_1926_dg_init'),\n",
    "                     color='firebrick',\n",
    "                     ax=ax)\n",
    "\n",
    "    if 'tg' in glazing:\n",
    "        sns.lineplot(data=df_step1_gwp.reset_index(),\n",
    "                     x='Year', y=('1', glazing),\n",
    "                     color='forestgreen',\n",
    "                     ax=ax)\n",
    "\n",
    "ax.fill_between(np.array(df_step1_gwp.index),\n",
    "                np.array(df_step1_gwp['1', '1_1926_dg3']),\n",
    "                np.array(df_step1_gwp['1', '1_1926_dg6']), alpha=0.10)\n",
    "\n",
    "ax.axhline(y=0, c='black', linestyle=':', linewidth=0.75)\n",
    "ax.grid(which='major', axis='y', linestyle=':', linewidth=1)\n",
    "\n",
    "ax.yaxis.label.set_visible(False)\n",
    "ax.set_xlim(0, 45)\n",
    "ax.set_ylim(-500, 1000)\n",
    "\n",
    "fig.suptitle('')\n",
    "sns.despine(offset=5)\n",
    "plt.show()"
   ]
  },
  {
   "cell_type": "code",
   "execution_count": null,
   "metadata": {},
   "outputs": [],
   "source": [
    "# Plot the evolution of the GWP per year:\n",
    "fig, ax = plt.subplots(figsize=(16, 9))\n",
    "\n",
    "for glazing in df_step1.index:\n",
    "    if 'dg_init' in glazing:\n",
    "        sns.lineplot(data=df_step1_gwp.reset_index(),\n",
    "                     x='Year', y=('1', '1_1926_dg_init'),\n",
    "                     color='firebrick',\n",
    "                     ax=ax)\n",
    "\n",
    "    if 'sg' in glazing:\n",
    "        sns.lineplot(data=df_step1_gwp.reset_index(),\n",
    "                     x='Year', y=('1', glazing),\n",
    "                     color='darkorange',\n",
    "                     ax=ax)\n",
    "\n",
    "ax.fill_between(np.array(df_step1_gwp.index),\n",
    "                np.array(df_step1_gwp['1', '1_1926_dg3']),\n",
    "                np.array(df_step1_gwp['1', '1_1926_dg6']), alpha=0.10)\n",
    "\n",
    "ax.axhline(y=0, c='black', linestyle=':', linewidth=0.75)\n",
    "ax.grid(which='major', axis='y', linestyle=':', linewidth=1)\n",
    "\n",
    "ax.yaxis.label.set_visible(False)\n",
    "ax.set_xlim(0, 45)\n",
    "ax.set_ylim(-500, 1000)\n",
    "\n",
    "fig.suptitle('')\n",
    "sns.despine(offset=5)\n",
    "plt.show()"
   ]
  },
  {
   "cell_type": "code",
   "execution_count": null,
   "metadata": {},
   "outputs": [],
   "source": []
  },
  {
   "cell_type": "code",
   "execution_count": null,
   "metadata": {},
   "outputs": [],
   "source": []
  },
  {
   "cell_type": "markdown",
   "metadata": {},
   "source": [
    "# Energy Mix: Sensitivity Analysis"
   ]
  },
  {
   "cell_type": "raw",
   "metadata": {},
   "source": [
    "# Look at activities to change, in this case electricity markets:\n",
    "locations = [\"FR\", \"DE\", \"PL\", \"NL\", \"CH\"]\n",
    "\n",
    "act_name = \"market for electricity, low voltage\"\n",
    "\n",
    "for act in eicutdb.search(act_name, limit=200):\n",
    "    for location in locations:\n",
    "        if location in act['location'] and act_name in act['name']:\n",
    "            print(act['name'])\n",
    "            print(act['location'])"
   ]
  },
  {
   "cell_type": "raw",
   "metadata": {},
   "source": [
    "eu_locations = [\"FR\", \"DE\", \"PL\", \"CH\", \"AT\", \"SE\", \"NO\", \"DK\", \"HU\", \"BG\",\n",
    "            \"CY\", \"CZ\", \"HR\", \"ES\", \"EE\", \"GR\", \"IE\", \"IT\", \"LT\", \"LV\", \"NL\"]"
   ]
  },
  {
   "cell_type": "code",
   "execution_count": null,
   "metadata": {},
   "outputs": [],
   "source": [
    "# List of activities to change, in this case electricity markets:\n",
    "locations = [\"FR\", \"DE\", \"PL\", \"NL\", \"CH\"]\n",
    "\n",
    "act_name = \"market for electricity, low voltage\"\n",
    "\n",
    "el_markets = [('ecoinvent 3.7 cut-off', act['code'])\n",
    "              for act in eicutdb.search(act_name, limit=200)\n",
    "              for location in locations\n",
    "              if act_name in act['name'] and location in act['location']\n",
    "              and \"US-FRCC\" not in act['location']\n",
    "              and \"US-SERC\" not in act['location']]\n",
    "\n",
    "# Remove \"market for electricity, low voltage, label-certified\" for CH:\n",
    "el_markets.pop(5)\n",
    "\n",
    "el_markets"
   ]
  },
  {
   "cell_type": "code",
   "execution_count": null,
   "metadata": {},
   "outputs": [],
   "source": [
    "act_cw = exldb_cw.get('use_cw')\n",
    "\n",
    "# Printing the exchanges\n",
    "print('My activity is:\\n', act_cw,\n",
    "      '\\n-------\\nAnd its exchanges:\\n-------')\n",
    "\n",
    "for i in list(act_cw.exchanges()):\n",
    "    print(i['type'])\n",
    "    print(i)\n",
    "    print(i['input'])\n",
    "    print('-------')"
   ]
  },
  {
   "cell_type": "code",
   "execution_count": null,
   "metadata": {},
   "outputs": [],
   "source": [
    "exc = list(act_cw.exchanges())[10]\n",
    "exc"
   ]
  },
  {
   "cell_type": "code",
   "execution_count": null,
   "metadata": {},
   "outputs": [],
   "source": [
    "# Make a copy of the activity, substitute the background process\n",
    "# save and calculate:\n",
    "\n",
    "cw_elec_results = []\n",
    "\n",
    "for m in el_markets[0:2]:\n",
    "    act_cw_copy = act_cw.copy()\n",
    "    exc['input'] = m\n",
    "    exc.save()\n",
    "    lca = LCA({act_cw_copy: 1}, ('IPCC 2013', 'climate change', 'GWP 100a'))\n",
    "    lca.lci()\n",
    "    lca.lcia()\n",
    "    cw_elec_results.append(lca.score)"
   ]
  },
  {
   "cell_type": "code",
   "execution_count": null,
   "metadata": {},
   "outputs": [],
   "source": [
    "# Results for Belgium:\n",
    "lca = LCA({act_cw: 1}, method_ilcd_gwp)\n",
    "lca.lci()\n",
    "lca.lcia()\n",
    "be_cw_elec_result = lca.score"
   ]
  },
  {
   "cell_type": "code",
   "execution_count": null,
   "metadata": {},
   "outputs": [],
   "source": [
    "be_cw_elec_result"
   ]
  },
  {
   "cell_type": "code",
   "execution_count": null,
   "metadata": {},
   "outputs": [],
   "source": [
    "np.mean([(i/be_cw_elec_result) for i in cw_elec_results])"
   ]
  },
  {
   "cell_type": "code",
   "execution_count": null,
   "metadata": {},
   "outputs": [],
   "source": [
    "pd.DataFrame(cw_elec_results).describe()"
   ]
  },
  {
   "cell_type": "code",
   "execution_count": null,
   "metadata": {},
   "outputs": [],
   "source": [
    "plt.boxplot(cw_elec_results)\n",
    "plt.ylabel(methods[('IPCC 2013', 'climate change', 'GWP 100a')]['unit'])\n",
    "plt.xlabel('El Production')"
   ]
  },
  {
   "cell_type": "code",
   "execution_count": null,
   "metadata": {},
   "outputs": [],
   "source": []
  },
  {
   "cell_type": "code",
   "execution_count": null,
   "metadata": {},
   "outputs": [],
   "source": []
  },
  {
   "cell_type": "code",
   "execution_count": null,
   "metadata": {},
   "outputs": [],
   "source": []
  },
  {
   "cell_type": "code",
   "execution_count": null,
   "metadata": {},
   "outputs": [],
   "source": []
  }
 ],
 "metadata": {
  "kernelspec": {
   "display_name": "Python 3 (ipykernel)",
   "language": "python",
   "name": "python3"
  },
  "language_info": {
   "codemirror_mode": {
    "name": "ipython",
    "version": 3
   },
   "file_extension": ".py",
   "mimetype": "text/x-python",
   "name": "python",
   "nbconvert_exporter": "python",
   "pygments_lexer": "ipython3",
   "version": "3.9.6"
  },
  "toc": {
   "base_numbering": 1,
   "nav_menu": {},
   "number_sections": true,
   "sideBar": true,
   "skip_h1_title": false,
   "title_cell": "Table of Contents",
   "title_sidebar": "Contents",
   "toc_cell": false,
   "toc_position": {
    "height": "calc(100% - 180px)",
    "left": "10px",
    "top": "150px",
    "width": "241.733px"
   },
   "toc_section_display": true,
   "toc_window_display": true
  },
  "varInspector": {
   "cols": {
    "lenName": 16,
    "lenType": 16,
    "lenVar": 40
   },
   "kernels_config": {
    "python": {
     "delete_cmd_postfix": "",
     "delete_cmd_prefix": "del ",
     "library": "var_list.py",
     "varRefreshCmd": "print(var_dic_list())"
    },
    "r": {
     "delete_cmd_postfix": ") ",
     "delete_cmd_prefix": "rm(",
     "library": "var_list.r",
     "varRefreshCmd": "cat(var_dic_list()) "
    }
   },
   "types_to_exclude": [
    "module",
    "function",
    "builtin_function_or_method",
    "instance",
    "_Feature"
   ],
   "window_display": false
  }
 },
 "nbformat": 4,
 "nbformat_minor": 4
}
