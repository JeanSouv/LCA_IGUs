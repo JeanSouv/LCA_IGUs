{
 "cells": [
  {
   "cell_type": "raw",
   "metadata": {},
   "source": [
    "# Brightway2 uses atomic file writes to prevent data corruption,\n",
    "# but files are hard; regular backups using the Backups function:\n",
    "\n",
    "bw2io.backup.backup_project_directory(LCA_glazing)\n",
    "bw.backup_project_directory('LCA_Glazing_0')"
   ]
  },
  {
   "cell_type": "raw",
   "metadata": {},
   "source": [
    "import sys\n",
    "from pathlib import Path\n",
    "\n",
    "def show_argv_and_path():\n",
    "    print(f\"le répertoire courant est {Path.cwd()}\")\n",
    "    print(f\"le point d'entrée du programme est {sys.argv[0]}\")\n",
    "    print(f\"la variable sys.path contient\")\n",
    "    for i, path in enumerate(sys.path, 1):\n",
    "        print(f\"{i}-ème chemin dans sys.path {path}\")\n",
    "\n",
    "show_argv_and_path()"
   ]
  },
  {
   "cell_type": "markdown",
   "metadata": {},
   "source": [
    "# Setup"
   ]
  },
  {
   "cell_type": "code",
   "execution_count": 1,
   "metadata": {},
   "outputs": [],
   "source": [
    "from IPython.display import display\n",
    "\n",
    "from brightway2 import *\n",
    "import bw2analyzer as bwa\n",
    "import brightway2 as bw\n",
    "from bw2data.parameters import *\n",
    "from lci_to_bw2 import *\n",
    "from bw2data.project import ProjectManager\n",
    "from bw2data.parameters import (ActivityParameter, DatabaseParameter,\n",
    "                                ProjectParameter, Group)\n",
    "\n",
    "import pandas as pd\n",
    "import numpy as np\n",
    "\n",
    "import math\n",
    "\n",
    "import pathlib\n",
    "\n",
    "import sqlite3\n",
    "\n",
    "import os\n",
    "\n",
    "import seaborn as sns\n",
    "\n",
    "import matplotlib as mpl\n",
    "import matplotlib.pyplot as plt\n",
    "from matplotlib.ticker import FuncFormatter\n",
    "%matplotlib inline"
   ]
  },
  {
   "cell_type": "code",
   "execution_count": 2,
   "metadata": {},
   "outputs": [],
   "source": [
    "# Directory with datasets:\n",
    "ROOT_DIR = \"files\""
   ]
  },
  {
   "cell_type": "code",
   "execution_count": 3,
   "metadata": {},
   "outputs": [],
   "source": [
    "# Define size of figure:\n",
    "mpl.rcParams['figure.figsize'] = (16, 10)\n",
    "pd.options.display.max_rows = 200"
   ]
  },
  {
   "cell_type": "code",
   "execution_count": 4,
   "metadata": {},
   "outputs": [
    {
     "name": "stdout",
     "output_type": "stream",
     "text": [
      "Images will be saved in C:\\Users\\souvi\\Documents\\These\\80_Calculations\\05_LCA\\outputs\\IMG\n"
     ]
    }
   ],
   "source": [
    "# Define path to save figures:\n",
    "path_img = os.path.abspath(os.path.join('outputs', 'IMG'))\n",
    "if not os.path.exists(path_img):\n",
    "    os.makedirs(path_img)\n",
    "print(f'Images will be saved in {path_img}')"
   ]
  },
  {
   "cell_type": "code",
   "execution_count": 5,
   "metadata": {},
   "outputs": [],
   "source": [
    "# Define seaborn main parameters:\n",
    "sns.set_style(\"ticks\")\n",
    "sns.color_palette(\"colorblind\")\n",
    "sns.set_context(\"paper\", font_scale=1.5,\n",
    "                rc={\"axes.titlesize\": 15, \"lines.linewidth\": 1.2,\n",
    "                    \"legend.fontsize\": 10, \"legend.title_fontsize\": 10})"
   ]
  },
  {
   "cell_type": "code",
   "execution_count": 6,
   "metadata": {},
   "outputs": [],
   "source": [
    "# A function used to define the thickness of x and y axis:\n",
    "def style_ax(ax):\n",
    "    for axis in ['top', 'bottom', 'left', 'right']:\n",
    "        ax.spines[axis].set_linewidth(0.5)\n",
    "        ax.tick_params(width=0.5)\n",
    "        ax.set_xlabel(None)\n",
    "    return ax"
   ]
  },
  {
   "cell_type": "code",
   "execution_count": 7,
   "metadata": {},
   "outputs": [
    {
     "data": {
      "text/plain": [
       "Brightway2 projects manager with 5 objects:\n",
       "\tLCA_Glazing\n",
       "\tLCA_Glazing_0\n",
       "\tLCOPT_Setup\n",
       "\tdefault\n",
       "\ttest\n",
       "Use `projects.report()` to get a report on all projects."
      ]
     },
     "execution_count": 7,
     "metadata": {},
     "output_type": "execute_result"
    }
   ],
   "source": [
    "# List of the available projects\n",
    "bw.projects"
   ]
  },
  {
   "cell_type": "code",
   "execution_count": 8,
   "metadata": {},
   "outputs": [
    {
     "data": {
      "text/plain": [
       "'C:\\\\Users\\\\souvi\\\\AppData\\\\Local\\\\pylca\\\\Brightway3\\\\LCA_Glazing.d2e1ffa0d7e38b337d42880125eeaeab'"
      ]
     },
     "execution_count": 8,
     "metadata": {},
     "output_type": "execute_result"
    }
   ],
   "source": [
    "# New project or access an existing one:\n",
    "bw.projects.set_current(\"LCA_Glazing\")\n",
    "\n",
    "# Where the current project is:\n",
    "bw.projects.dir"
   ]
  },
  {
   "cell_type": "raw",
   "metadata": {},
   "source": [
    "# Getting more information (installed databases and file sizes)\n",
    "# Installed databases and file sizes on an individual project:\n",
    "bw.projects.report()"
   ]
  },
  {
   "cell_type": "markdown",
   "metadata": {},
   "source": [
    "**Abbreviation:**"
   ]
  },
  {
   "cell_type": "markdown",
   "metadata": {},
   "source": [
    "- fg = flat glass\n",
    "- inv = inventory\n",
    "- act = activity\n",
    "- norm = normalised impacts\n",
    "- ia = impact assessment\n",
    "- fu = functional unit\n",
    "- igu = insulating glass unit"
   ]
  },
  {
   "cell_type": "markdown",
   "metadata": {},
   "source": [
    "# List of Scenarios with their Parameters"
   ]
  },
  {
   "cell_type": "markdown",
   "metadata": {},
   "source": [
    "Import the Excel file with the LCA scenarios (i.e. the values for the parameters to be used in BW2 and EnergyPlus):"
   ]
  },
  {
   "cell_type": "code",
   "execution_count": 9,
   "metadata": {},
   "outputs": [],
   "source": [
    "lca_scenarios = pd.ExcelFile(os.path.join(ROOT_DIR, \"lca_scenarios.xlsx\"))"
   ]
  },
  {
   "cell_type": "markdown",
   "metadata": {},
   "source": [
    "Define a series of dataframes for each step of calculation:"
   ]
  },
  {
   "cell_type": "code",
   "execution_count": 10,
   "metadata": {},
   "outputs": [
    {
     "name": "stdout",
     "output_type": "stream",
     "text": [
      "lca_scenarios, sheet names = \n",
      " ['Scenarios', 'Step1', 'Step2', 'Step3', 'Step4', 'Step5', 'Step6', 'Step7', 'Step8', 'Step9', 'Step10', 'Step11', 'Step12', 'Step13', 'Step14', 'Step15', 'Step16']\n",
      "\n"
     ]
    }
   ],
   "source": [
    "print(\"lca_scenarios, sheet names = \\n {}\\n\".format(lca_scenarios.sheet_names))"
   ]
  },
  {
   "cell_type": "code",
   "execution_count": 11,
   "metadata": {},
   "outputs": [],
   "source": [
    "# Create dataframe for with scenarios for each step:\n",
    "df_step1 = lca_scenarios.parse('Step1').set_index('name')\n",
    "df_step2 = lca_scenarios.parse('Step2').set_index('name')\n",
    "df_step3 = lca_scenarios.parse('Step3').set_index('name')\n",
    "df_step4 = lca_scenarios.parse('Step4').set_index('name')\n",
    "df_step5 = lca_scenarios.parse('Step5').set_index('name')\n",
    "df_step6 = lca_scenarios.parse('Step6').set_index('name')\n",
    "df_step7 = lca_scenarios.parse('Step7').set_index('name')\n",
    "df_step8 = lca_scenarios.parse('Step8').set_index('name')\n",
    "df_step9 = lca_scenarios.parse('Step9').set_index('name')\n",
    "df_step10 = lca_scenarios.parse('Step10').set_index('name')\n",
    "df_step11 = lca_scenarios.parse('Step11').set_index('name')\n",
    "df_step12 = lca_scenarios.parse('Step12').set_index('name')\n",
    "df_step13 = lca_scenarios.parse('Step13').set_index('name')\n",
    "df_step14 = lca_scenarios.parse('Step14').set_index('name')\n",
    "df_step15 = lca_scenarios.parse('Step15').set_index('name')\n",
    "df_step16 = lca_scenarios.parse('Step16').set_index('name')"
   ]
  },
  {
   "cell_type": "markdown",
   "metadata": {},
   "source": [
    "# Import of LCA Databases"
   ]
  },
  {
   "cell_type": "code",
   "execution_count": 12,
   "metadata": {},
   "outputs": [
    {
     "data": {
      "text/plain": [
       "Databases dictionary with 8 object(s):\n",
       "\tbiosphere3\n",
       "\tecoinvent 3.7 cut-off\n",
       "\texldb_alu\n",
       "\texldb_cw\n",
       "\texldb_cw_eol\n",
       "\texldb_igu\n",
       "\texldb_sand\n",
       "\texldb_spacers"
      ]
     },
     "execution_count": 12,
     "metadata": {},
     "output_type": "execute_result"
    }
   ],
   "source": [
    "# databases available in the current project:\n",
    "bw.databases"
   ]
  },
  {
   "cell_type": "markdown",
   "metadata": {},
   "source": [
    "## Ecoinvent and Biosphere 3"
   ]
  },
  {
   "cell_type": "markdown",
   "metadata": {},
   "source": [
    "**Importing Biosphere 3:**"
   ]
  },
  {
   "cell_type": "code",
   "execution_count": 13,
   "metadata": {},
   "outputs": [
    {
     "name": "stdout",
     "output_type": "stream",
     "text": [
      "Biosphere database already present!!! No setup is needed\n"
     ]
    }
   ],
   "source": [
    "# Importing elementary flows, LCIA methods and some other data\n",
    "bw.bw2setup()"
   ]
  },
  {
   "cell_type": "markdown",
   "metadata": {},
   "source": [
    "**Importing Ecoinvent 3.7, cut-off system model:**"
   ]
  },
  {
   "cell_type": "markdown",
   "metadata": {},
   "source": [
    "For more information about the system models in ecoinvent 3, and especially the cut-off one, read [this](https://www.ecoinvent.org/database/system-models-in-ecoinvent-3/cut-off-system-model/allocation-cut-off-by-classification.html)."
   ]
  },
  {
   "cell_type": "code",
   "execution_count": 14,
   "metadata": {},
   "outputs": [
    {
     "name": "stdout",
     "output_type": "stream",
     "text": [
      "Database has already been imported!\n"
     ]
    }
   ],
   "source": [
    "# Import ecoinvent 3.7 cut-off\n",
    "ei37cutdir = r\"C:\\Users\\souvi\\Documents\\These\\80_Calculations\\06_LCA_SystemDiagrams\\02_Dataset\\ecoinvent 3.7_cutoff_ecoSpold02\\datasets\"\n",
    "\n",
    "if 'ecoinvent 3.7 cut-off' in databases:\n",
    "    print(\"Database has already been imported!\")\n",
    "else:\n",
    "    ei37cut = bw.SingleOutputEcospold2Importer(\n",
    "        ei37cutdir, 'ecoinvent 3.7 cut-off')\n",
    "    ei37cut.apply_strategies()\n",
    "    ei37cut.statistics()\n",
    "    ei37cut.write_database()"
   ]
  },
  {
   "cell_type": "markdown",
   "metadata": {},
   "source": [
    "## Excel Datasets"
   ]
  },
  {
   "cell_type": "markdown",
   "metadata": {},
   "source": [
    "<font color='red'>Do we need to import the Excel datasets?<font>"
   ]
  },
  {
   "cell_type": "code",
   "execution_count": 15,
   "metadata": {},
   "outputs": [],
   "source": [
    "import_exldb = False"
   ]
  },
  {
   "cell_type": "markdown",
   "metadata": {},
   "source": [
    "**Importing the Excel dataset relating to aluminium production:**"
   ]
  },
  {
   "cell_type": "code",
   "execution_count": 16,
   "metadata": {
    "scrolled": false
   },
   "outputs": [],
   "source": [
    "if import_exldb:\n",
    "    imp = bw.ExcelImporter(os.path.join(ROOT_DIR, \"lci_alu.xlsx\"))\n",
    "    imp.apply_strategies()\n",
    "    imp.match_database(fields=('name', 'unit', 'location'))\n",
    "    imp.match_database(\"ecoinvent 3.7 cut-off\",\n",
    "                       fields=('name', 'unit', 'location', 'input'))\n",
    "    imp.statistics()\n",
    "\n",
    "    # Checking whether the import went as expected.\n",
    "    # Creation of an Excel sheet with process data:\n",
    "    imp.write_excel()\n",
    "\n",
    "    # Write the data to a database to save it:\n",
    "    imp.write_database()"
   ]
  },
  {
   "cell_type": "markdown",
   "metadata": {},
   "source": [
    "**Importing the Excel dataset relating to silica sand production:**"
   ]
  },
  {
   "cell_type": "code",
   "execution_count": 17,
   "metadata": {
    "scrolled": false
   },
   "outputs": [],
   "source": [
    "if import_exldb:\n",
    "    imp = bw.ExcelImporter(os.path.join(ROOT_DIR, \"lci_silica_sand.xlsx\"))\n",
    "    imp.apply_strategies()\n",
    "    imp.match_database(fields=('name', 'unit', 'location'))\n",
    "    imp.match_database(\"ecoinvent 3.7 cut-off\",\n",
    "                       fields=('name', 'unit', 'location', 'input'))\n",
    "    imp.statistics()\n",
    "\n",
    "    # Checking whether the import went as expected.\n",
    "    # Creation of an Excel sheet with process data:\n",
    "    imp.write_excel()\n",
    "\n",
    "    # Write the data to a database to save it:\n",
    "    imp.write_database()"
   ]
  },
  {
   "cell_type": "markdown",
   "metadata": {},
   "source": [
    "**Importing the Excel dataset relating to IGUs:**"
   ]
  },
  {
   "cell_type": "code",
   "execution_count": 18,
   "metadata": {},
   "outputs": [],
   "source": [
    "if import_exldb:\n",
    "    imp = bw.ExcelImporter(os.path.join(ROOT_DIR, \"lci_igu.xlsx\"))\n",
    "    imp.apply_strategies()\n",
    "    imp.match_database(fields=('name', 'unit', 'location'))\n",
    "    imp.match_database(\"ecoinvent 3.7 cut-off\",\n",
    "                       fields=('name', 'unit', 'location'))\n",
    "    imp.match_database(\"exldb_alu\",\n",
    "                       fields=('name', 'unit', 'location', 'input'))\n",
    "    imp.match_database(\"exldb_sand\",\n",
    "                       fields=('name', 'unit', 'location', 'input'))\n",
    "    imp.statistics()\n",
    "\n",
    "    # Checking whether the import went as expected.\n",
    "    # Creation of an Excel sheet with process data:\n",
    "    imp.write_excel()\n",
    "\n",
    "    # Add the project-level parameters:\n",
    "    imp.write_project_parameters()\n",
    "\n",
    "    # Write the data to a database to save it:\n",
    "    imp.write_database()"
   ]
  },
  {
   "cell_type": "markdown",
   "metadata": {},
   "source": [
    "**Importing the Excel dataset relating to double glazing w/ different types of spacers:**"
   ]
  },
  {
   "cell_type": "code",
   "execution_count": 19,
   "metadata": {},
   "outputs": [],
   "source": [
    "if import_exldb:\n",
    "    imp = bw.ExcelImporter(os.path.join(ROOT_DIR, \"lci_spacers.xlsx\"))\n",
    "    imp.apply_strategies()\n",
    "    imp.match_database(fields=('name', 'unit', 'location'))\n",
    "    imp.match_database(\"ecoinvent 3.7 cut-off\",\n",
    "                       fields=('name', 'unit', 'location'))\n",
    "    imp.match_database(\"exldb_igu\",\n",
    "                       fields=('name', 'unit', 'location', 'input'))\n",
    "    imp.statistics()\n",
    "\n",
    "    # Checking whether the import went as expected.\n",
    "    # Creation of an Excel sheet with process data:\n",
    "    imp.write_excel()\n",
    "\n",
    "    # Write the data to a database to save it:\n",
    "    imp.write_database()"
   ]
  },
  {
   "cell_type": "markdown",
   "metadata": {},
   "source": [
    "**Importing the Excel dataset relating to curtain wall end-of-life phase:**"
   ]
  },
  {
   "cell_type": "code",
   "execution_count": 20,
   "metadata": {},
   "outputs": [],
   "source": [
    "if import_exldb:\n",
    "    imp = bw.ExcelImporter(os.path.join(ROOT_DIR, \"lci_cw_eol.xlsx\"))\n",
    "    imp.apply_strategies()\n",
    "    imp.match_database(fields=('name', 'unit', 'location'))\n",
    "    imp.match_database(\"ecoinvent 3.7 cut-off\",\n",
    "                       fields=('name', 'unit', 'location'))\n",
    "    imp.statistics()\n",
    "\n",
    "    # Checking whether the import went as expected.\n",
    "    # Creation of an Excel sheet with process data:\n",
    "    imp.write_excel()\n",
    "\n",
    "    # Write the data to a database to save it:\n",
    "    imp.write_database()"
   ]
  },
  {
   "cell_type": "markdown",
   "metadata": {},
   "source": [
    "**Importing the Excel dataset relating to curtain wall production and use:**"
   ]
  },
  {
   "cell_type": "code",
   "execution_count": 21,
   "metadata": {},
   "outputs": [],
   "source": [
    "if import_exldb:\n",
    "    imp = bw.ExcelImporter(os.path.join(ROOT_DIR, \"lci_cw.xlsx\"))\n",
    "    imp.apply_strategies()\n",
    "    imp.match_database(fields=('name', 'unit', 'location'))\n",
    "    imp.match_database(\"ecoinvent 3.7 cut-off\",\n",
    "                       fields=('name', 'unit', 'location'))\n",
    "    imp.match_database(\"exldb_igu\",\n",
    "                       fields=('name', 'unit', 'location', 'input'))\n",
    "    imp.match_database(\"exldb_alu\",\n",
    "                       fields=('name', 'unit', 'location', 'input'))\n",
    "    imp.match_database(\"exldb_cw_eol\",\n",
    "                       fields=('name', 'unit', 'location', 'input'))\n",
    "    imp.statistics()\n",
    "\n",
    "    # Checking whether the import went as expected.\n",
    "    # Creation of an Excel sheet with process data:\n",
    "    imp.write_excel()\n",
    "\n",
    "    # Write the data to a database to save it:\n",
    "    imp.write_database()"
   ]
  },
  {
   "cell_type": "markdown",
   "metadata": {},
   "source": [
    "**Checking if the imports went well:**"
   ]
  },
  {
   "cell_type": "markdown",
   "metadata": {},
   "source": [
    "List databases:"
   ]
  },
  {
   "cell_type": "code",
   "execution_count": 22,
   "metadata": {},
   "outputs": [
    {
     "data": {
      "text/plain": [
       "Databases dictionary with 8 object(s):\n",
       "\tbiosphere3\n",
       "\tecoinvent 3.7 cut-off\n",
       "\texldb_alu\n",
       "\texldb_cw\n",
       "\texldb_cw_eol\n",
       "\texldb_igu\n",
       "\texldb_sand\n",
       "\texldb_spacers"
      ]
     },
     "execution_count": 22,
     "metadata": {},
     "output_type": "execute_result"
    }
   ],
   "source": [
    "bw.databases"
   ]
  },
  {
   "cell_type": "markdown",
   "metadata": {},
   "source": [
    "Checking Excel database:"
   ]
  },
  {
   "cell_type": "raw",
   "metadata": {},
   "source": [
    "wbi = bw.Database(\"exldb_spacers\")\n",
    "for act in wbi:\n",
    "    print(act)"
   ]
  },
  {
   "cell_type": "raw",
   "metadata": {},
   "source": [
    "wbp = [act for act in wbi][0]\n",
    "print(act['name'])\n",
    "print('------')\n",
    "for exc in wbp.exchanges():\n",
    "    print(exc['type'])\n",
    "    print(exc)\n",
    "    print('------')"
   ]
  },
  {
   "cell_type": "raw",
   "metadata": {},
   "source": [
    "# Check if details of the biosphere exchange are correct:\n",
    "ex = [act for act in wbi if 'double glazing production, argon, lsg' in act['name']][0]\n",
    "[exc for exc in ex.exchanges() if 'extrusion, plastic film' in str(exc)][0].as_dict()"
   ]
  },
  {
   "cell_type": "markdown",
   "metadata": {},
   "source": [
    "**Deleting a database, if needed:**"
   ]
  },
  {
   "cell_type": "raw",
   "metadata": {},
   "source": [
    "# Remove all items from D:\n",
    "databases.clear()"
   ]
  },
  {
   "cell_type": "raw",
   "metadata": {},
   "source": [
    "# delete a database:\n",
    "wbi = bw.Database(\"exldb_cw_EoL\")\n",
    "del databases[wbi.name]\n",
    "\n",
    "# or:\n",
    "# wbi.delete()\n",
    "# del wbi, wbp"
   ]
  },
  {
   "cell_type": "raw",
   "metadata": {},
   "source": [
    "# Or deregister the database, which removes all metadata:\n",
    "bw.Database('BW2 Excel water bottle import').deregister()"
   ]
  },
  {
   "cell_type": "markdown",
   "metadata": {},
   "source": [
    "## Navigate Databases"
   ]
  },
  {
   "cell_type": "markdown",
   "metadata": {},
   "source": [
    "**Navigate Databases, assigning a variable to each one:**"
   ]
  },
  {
   "cell_type": "code",
   "execution_count": 23,
   "metadata": {},
   "outputs": [],
   "source": [
    "eib3db = bw.Database('biosphere3')\n",
    "\n",
    "eicutdb = bw.Database('ecoinvent 3.7 cut-off')\n",
    "\n",
    "exldb_alu = bw.Database('exldb_alu')\n",
    "exldb_igu = bw.Database('exldb_igu')\n",
    "exldb_cw = bw.Database('exldb_cw')\n",
    "exldb_spacers = bw.Database('exldb_spacers')\n",
    "exldb_cw_eol = bw.Database('exldb_cw_eol')"
   ]
  },
  {
   "cell_type": "raw",
   "metadata": {},
   "source": [
    "act_name = \"market for electricity, low\"\n",
    "\n",
    "# Search all the activities with 'act_name' somewhere in description:\n",
    "for activity in eicutdb.search(act_name, limit=200):\n",
    "    print(activity)\n",
    "    print('  Code is:', activity['code'])\n",
    "    print('  Location is:', activity['location'])\n",
    "    print(\"------\")\n",
    "    for exc in list(activity.exchanges()):\n",
    "        print(exc, \"\\n\")\n",
    "    print(\"------\")\n",
    "    print(\"------\")"
   ]
  },
  {
   "cell_type": "raw",
   "metadata": {},
   "source": [
    "act_name = \"glass\"\n",
    "\n",
    "# Search all the activities with 'act_name' somewhere in description:\n",
    "for activity in exldb_igu.search(act_name, limit=200):\n",
    "    print(activity)\n",
    "    print('  Code is:', activity['code'])\n",
    "    print('  Location is:', activity['location'])\n",
    "    print(\"------\")\n",
    "    for exc in list(activity.exchanges()):\n",
    "        print(exc, \"\\n\")\n",
    "    print(\"------\")\n",
    "    print(\"------\")"
   ]
  },
  {
   "cell_type": "markdown",
   "metadata": {},
   "source": [
    "# Define the Parameters"
   ]
  },
  {
   "cell_type": "markdown",
   "metadata": {},
   "source": [
    "## Overview"
   ]
  },
  {
   "cell_type": "markdown",
   "metadata": {},
   "source": [
    "**Checking the total number of parameters:**"
   ]
  },
  {
   "cell_type": "code",
   "execution_count": 24,
   "metadata": {},
   "outputs": [
    {
     "data": {
      "text/plain": [
       "205"
      ]
     },
     "execution_count": 24,
     "metadata": {},
     "output_type": "execute_result"
    }
   ],
   "source": [
    "len(parameters)"
   ]
  },
  {
   "cell_type": "markdown",
   "metadata": {},
   "source": [
    "Look at the parameter directly:"
   ]
  },
  {
   "cell_type": "code",
   "execution_count": 25,
   "metadata": {},
   "outputs": [
    {
     "name": "stdout",
     "output_type": "stream",
     "text": [
      "Project parameters:\n",
      "param_g_density : 2.5\n",
      "param_t_lsg : 10.0\n",
      "param_t_tsg : 10.0\n",
      "param_n_pvb : 2.0\n",
      "param_d1 : 125.0\n",
      "param_t_g_ext : 8.0\n",
      "param_t_g_mid_tg : 6.0\n",
      "param_t_g_uncoated_int : 8.0\n",
      "------\n",
      "Database parameters:\n",
      "exldb_cw_eol  >  param_m_sg_g : 25.0\n",
      "exldb_cw_eol  >  param_m_sg_alu : 3.31\n",
      "exldb_cw_eol  >  param_m_sg_low_wood : 0.09\n",
      "exldb_cw_eol  >  param_m_sg_low_silicone : 0.15\n",
      "exldb_cw_eol  >  param_m_sg_high_epdm : 0.55\n",
      "exldb_cw_eol  >  param_m_dg_g : 45.0\n",
      "exldb_cw_eol  >  param_m_dg_alu : 3.47\n",
      "exldb_cw_eol  >  param_m_dg_low_wood : 0.09\n",
      "exldb_cw_eol  >  param_m_dg_low_silicone : 0.15\n",
      "exldb_cw_eol  >  param_m_dg_high_epdm : 0.67\n",
      "exldb_cw_eol  >  param_m_tg_g : 60.0\n",
      "exldb_cw_eol  >  param_m_tg_alu : 3.79\n",
      "exldb_cw_eol  >  param_m_tg_epdm : 0.78\n",
      "exldb_cw_eol  >  param_m_ccf_g : 70.0\n",
      "exldb_cw_eol  >  param_m_ccf_alu : 13.22\n",
      "exldb_cw_eol  >  param_m_ccf_epdm : 1.95\n",
      "exldb_cw_eol  >  param_m_vacuum_g : 45.0\n",
      "exldb_cw_eol  >  param_m_smart_g : 45.0\n",
      "exldb_cw_eol  >  param_m_smart_elec : 0.94\n",
      "exldb_cw_eol  >  param_m_dsf_g : 70.0\n",
      "exldb_cw_eol  >  param_m_dsf_alu : 6.79\n",
      "exldb_cw_eol  >  param_m_dsf_epdm : 1.22\n",
      "exldb_cw_eol  >  param_d2 : 130.0\n",
      "exldb_cw_eol  >  param_d3 : 50.0\n",
      "exldb_cw  >  param_natural_gas : 0.0\n",
      "exldb_cw  >  param_elec_use : 0.0\n",
      "exldb_cw  >  param_lifespan : 40.0\n",
      "exldb_cw  >  param_ext_shdg_device : 0.0\n",
      "exldb_cw  >  param_int_shdg_device : 0.0\n",
      "exldb_cw  >  param_thermal_curtain : 0.0\n",
      "exldb_cw  >  param_sg : 0.0\n",
      "exldb_cw  >  param_sg_coated : 0.0\n",
      "exldb_cw  >  param_dg : 0.0\n",
      "exldb_cw  >  param_dg_coated : 0.0\n",
      "exldb_cw  >  param_dg_coated_krypton : 0.0\n",
      "exldb_cw  >  param_dg_2coatings : 0.0\n",
      "exldb_cw  >  param_tg_coated : 0.0\n",
      "exldb_cw  >  param_tg_2coatings : 0.0\n",
      "exldb_cw  >  param_tg_2coatings_krypton : 0.0\n",
      "exldb_cw  >  param_tg_2coatings_xenon : 0.0\n",
      "exldb_cw  >  param_ccf : 0.0\n",
      "exldb_cw  >  param_dg_vacuum : 0.0\n",
      "exldb_cw  >  param_dg_smart : 0.0\n",
      "exldb_cw  >  param_dsf : 0.0\n",
      "------\n",
      "Activity parameters:\n",
      "Use_of_glazed_curtain_wall_1 : 1.0\n"
     ]
    }
   ],
   "source": [
    "print(\"Project parameters:\")\n",
    "for p in ProjectParameter.select():\n",
    "    print(p.name, \":\", round(p.amount, 2))\n",
    "\n",
    "print(\"------\")\n",
    "print(\"Database parameters:\")\n",
    "for p in DatabaseParameter.select():\n",
    "    print(p.database, \" > \", p.name, \":\", round(p.amount, 2))\n",
    "\n",
    "print(\"------\")\n",
    "print(\"Activity parameters:\")\n",
    "for p in ActivityParameter.select():\n",
    "    if \"dummy\" not in p.name:\n",
    "        print(p.name, \":\", round(p.amount, 2))"
   ]
  },
  {
   "cell_type": "markdown",
   "metadata": {},
   "source": [
    "## Activate Parameters"
   ]
  },
  {
   "cell_type": "markdown",
   "metadata": {},
   "source": [
    "**We have now to tell bw to activate the exchanges and their formulas:**"
   ]
  },
  {
   "cell_type": "markdown",
   "metadata": {},
   "source": [
    "First, we tell the parameter code that these exchanges have formulas:"
   ]
  },
  {
   "cell_type": "code",
   "execution_count": 26,
   "metadata": {
    "scrolled": false
   },
   "outputs": [],
   "source": [
    "# Add exchanges with formulas from activity to group:\n",
    "for act in exldb_igu:\n",
    "    parameters.add_exchanges_to_group(\"igu_param_group\", act)"
   ]
  },
  {
   "cell_type": "code",
   "execution_count": 27,
   "metadata": {},
   "outputs": [],
   "source": [
    "ls_act_data_cw_eol = []\n",
    "n_code = 0\n",
    "for obj in DatabaseParameter.select().where(\n",
    "        DatabaseParameter.database == \"exldb_cw_eol\"):\n",
    "    ls_act_data_cw_eol.append({'name': obj.name, 'amount': obj.amount,\n",
    "                               'formula': obj.formula, 'database': obj.database,\n",
    "                              'code': \"p_eol_\"+str(n_code)})\n",
    "    n_code += 1\n",
    "\n",
    "parameters.new_activity_parameters(\n",
    "    ls_act_data_cw_eol, \"cw_eol_param_group\", overwrite=True)"
   ]
  },
  {
   "cell_type": "code",
   "execution_count": 28,
   "metadata": {},
   "outputs": [],
   "source": [
    "for act in exldb_cw_eol:\n",
    "    parameters.add_exchanges_to_group(\"cw_eol_param_group\", act)"
   ]
  },
  {
   "cell_type": "code",
   "execution_count": 29,
   "metadata": {},
   "outputs": [],
   "source": [
    "ls_act_data_cw = []\n",
    "n_code = 0\n",
    "for obj in DatabaseParameter.select().where(\n",
    "        DatabaseParameter.database == \"exldb_cw\"):\n",
    "    ls_act_data_cw.append({'name': obj.name, 'amount': obj.amount,\n",
    "                           'formula': obj.formula, 'database': obj.database,\n",
    "                           'code': \"p_\"+str(n_code)})\n",
    "    n_code += 1\n",
    "\n",
    "parameters.new_activity_parameters(\n",
    "    ls_act_data_cw, \"cw_use_param_group\", overwrite=True)"
   ]
  },
  {
   "cell_type": "code",
   "execution_count": 30,
   "metadata": {},
   "outputs": [],
   "source": [
    "for act in exldb_cw:\n",
    "    parameters.add_exchanges_to_group(\"cw_use_param_group\", act)"
   ]
  },
  {
   "cell_type": "markdown",
   "metadata": {},
   "source": [
    "Then we calculate the \"activated\" formula values:"
   ]
  },
  {
   "cell_type": "code",
   "execution_count": 31,
   "metadata": {},
   "outputs": [],
   "source": [
    "ActivityParameter.recalculate_exchanges(\"igu_param_group\")\n",
    "ActivityParameter.recalculate_exchanges(\"cw_use_param_group\")\n",
    "ActivityParameter.recalculate_exchanges(\"cw_eol_param_group\")"
   ]
  },
  {
   "cell_type": "markdown",
   "metadata": {},
   "source": [
    "**Delete the parameters:**"
   ]
  },
  {
   "cell_type": "raw",
   "metadata": {},
   "source": [
    "# delete the table of existing project parameters, i.e. actually deletes the project parameters\n",
    "ProjectParameter.drop_table(safe=True, drop_sequences=True)"
   ]
  },
  {
   "cell_type": "raw",
   "metadata": {},
   "source": [
    "# For a specific activity:\n",
    "parameters.remove_exchanges_from_group('my group', Database('SA_db').get('code_act'))"
   ]
  },
  {
   "cell_type": "markdown",
   "metadata": {},
   "source": [
    "# LCIA Methods"
   ]
  },
  {
   "cell_type": "markdown",
   "metadata": {},
   "source": [
    "List of available LCIA methods:"
   ]
  },
  {
   "cell_type": "raw",
   "metadata": {},
   "source": [
    "# bw.methods.list\n",
    "AllMethods = [method for method in bw.methods\n",
    "              if \"obsolete\" not in method[0]\n",
    "              and \"ILCD\" in method[0]\n",
    "              and \"no LT\" not in method[0]]\n",
    "AllMethods"
   ]
  },
  {
   "cell_type": "markdown",
   "metadata": {},
   "source": [
    "Define methods:"
   ]
  },
  {
   "cell_type": "code",
   "execution_count": 32,
   "metadata": {},
   "outputs": [],
   "source": [
    "method_ilcd_gwp = (\n",
    "    'ILCD 2.0 2018 midpoint', 'climate change', 'climate change total')"
   ]
  },
  {
   "cell_type": "code",
   "execution_count": 33,
   "metadata": {},
   "outputs": [],
   "source": [
    "methods_small = [\n",
    "    ('ILCD 2.0 2018 midpoint', 'climate change', 'climate change total'),\n",
    "    ('ILCD 2.0 2018 midpoint', 'ecosystem quality', 'freshwater ecotoxicity'),\n",
    "    ('ILCD 2.0 2018 midpoint', 'ecosystem quality',\n",
    "     'freshwater and terrestrial acidification'),\n",
    "    ('ILCD 2.0 2018 midpoint', 'ecosystem quality', 'freshwater eutrophication'),\n",
    "    ('ILCD 2.0 2018 midpoint', 'ecosystem quality', 'terrestrial eutrophication'),\n",
    "    ('ILCD 2.0 2018 midpoint', 'human health', 'ozone layer depletion'),\n",
    "    ('ILCD 2.0 2018 midpoint', 'human health', 'photochemical ozone creation'),\n",
    "    ('ILCD 2.0 2018 midpoint', 'resources', 'fossils'),\n",
    "    ('ILCD 2.0 2018 midpoint', 'resources', 'land use')\n",
    "]"
   ]
  },
  {
   "cell_type": "code",
   "execution_count": 34,
   "metadata": {},
   "outputs": [],
   "source": [
    "methods_full = [\n",
    "    ('ILCD 2.0 2018 midpoint', 'climate change', 'climate change total'),\n",
    "    ('ILCD 2.0 2018 midpoint', 'ecosystem quality', 'freshwater ecotoxicity'),\n",
    "    ('ILCD 2.0 2018 midpoint', 'ecosystem quality',\n",
    "     'freshwater and terrestrial acidification'),\n",
    "    ('ILCD 2.0 2018 midpoint', 'ecosystem quality', 'freshwater eutrophication'),\n",
    "    ('ILCD 2.0 2018 midpoint', 'ecosystem quality', 'marine eutrophication'),\n",
    "    ('ILCD 2.0 2018 midpoint', 'ecosystem quality', 'terrestrial eutrophication'),\n",
    "    ('ILCD 2.0 2018 midpoint', 'human health', 'non-carcinogenic effects'),\n",
    "    ('ILCD 2.0 2018 midpoint', 'human health', 'carcinogenic effects'),\n",
    "    ('ILCD 2.0 2018 midpoint', 'human health', 'ionising radiation'),\n",
    "    ('ILCD 2.0 2018 midpoint', 'human health', 'ozone layer depletion'),\n",
    "    ('ILCD 2.0 2018 midpoint', 'human health', 'photochemical ozone creation'),\n",
    "    ('ILCD 2.0 2018 midpoint', 'human health', 'respiratory effects, inorganics'),\n",
    "    ('ILCD 2.0 2018 midpoint', 'resources', 'minerals and metals'),\n",
    "    ('ILCD 2.0 2018 midpoint', 'resources', 'dissipated water'),\n",
    "    ('ILCD 2.0 2018 midpoint', 'resources', 'fossils'),\n",
    "    ('ILCD 2.0 2018 midpoint', 'resources', 'land use')\n",
    "]"
   ]
  },
  {
   "cell_type": "markdown",
   "metadata": {},
   "source": [
    "# LCA of Glass Sheets and IGUs from Cradle to Gate"
   ]
  },
  {
   "cell_type": "markdown",
   "metadata": {},
   "source": [
    "## Flat Glass Production"
   ]
  },
  {
   "cell_type": "markdown",
   "metadata": {},
   "source": [
    "Define the <font color='red'> functional unit </font> per flat glass (fg) type:"
   ]
  },
  {
   "cell_type": "code",
   "execution_count": 35,
   "metadata": {},
   "outputs": [
    {
     "data": {
      "text/plain": [
       "['market for flat glass, coated' (kilogram, BE, ('building components', 'windows')),\n",
       " 'market for flat glass, uncoated' (kilogram, BE, ('building components', 'windows'))]"
      ]
     },
     "execution_count": 35,
     "metadata": {},
     "output_type": "execute_result"
    }
   ],
   "source": [
    "inv_fg_unsorted = [act for act in exldb_igu\n",
    "                   if 'market for flat glass' in act['name']\n",
    "                   ]\n",
    "\n",
    "inv_fg = sorted(inv_fg_unsorted,\n",
    "                key=lambda k: k['name'])\n",
    "\n",
    "inv_fg"
   ]
  },
  {
   "cell_type": "code",
   "execution_count": 36,
   "metadata": {},
   "outputs": [
    {
     "data": {
      "text/plain": [
       "['market for laminated safety glass' (square meter, BE, ('building components', 'windows')),\n",
       " 'market for laminated safety glass, coated' (square meter, BE, ('building components', 'windows')),\n",
       " 'market for smart glass' (square meter, BE, ('building components', 'windows')),\n",
       " 'market for tempered safety glass' (square meter, BE, ('building components', 'windows')),\n",
       " 'market for tempered safety glass, coated' (square meter, BE, ('building components', 'windows'))]"
      ]
     },
     "execution_count": 36,
     "metadata": {},
     "output_type": "execute_result"
    }
   ],
   "source": [
    "names_fg_processed = ['market for laminated safety glass',\n",
    "                      'market for tempered safety glass',\n",
    "                      'market for smart glass'\n",
    "                      ]\n",
    "\n",
    "inv_fg_processed_unsorted = [act for act in exldb_igu\n",
    "                             for n in names_fg_processed\n",
    "                             if n in act['name']\n",
    "                             and \"glazing\" not in act['name']\n",
    "                             ]\n",
    "\n",
    "inv_fg_processed = sorted(inv_fg_processed_unsorted,\n",
    "                          key=lambda k: k['name'])\n",
    "\n",
    "inv_fg_processed"
   ]
  },
  {
   "cell_type": "code",
   "execution_count": 37,
   "metadata": {},
   "outputs": [],
   "source": [
    "# functional unit; 25kg of glass to obtain a thickness of 10mm for 1m²:\n",
    "fu_fg = 25\n",
    "# functional unit; 1m²:\n",
    "fu_fg_processed = 1\n",
    "\n",
    "impacts_fg = []\n",
    "\n",
    "for act in inv_fg:\n",
    "    lca = bw.LCA({act: fu_fg})\n",
    "    lca.lci()\n",
    "    for method in methods_small:\n",
    "        lca.switch_method(method)\n",
    "        lca.lcia()\n",
    "        impacts_fg.append((act[\"name\"], act[\"location\"],\n",
    "                           method[1].title(), lca.score,\n",
    "                           bw.methods.get(method).get('unit')))\n",
    "\n",
    "for act in inv_fg_processed:\n",
    "    lca = bw.LCA({act: fu_fg_processed})\n",
    "    lca.lci()\n",
    "    for method in methods_small:\n",
    "        lca.switch_method(method)\n",
    "        lca.lcia()\n",
    "        impacts_fg.append((act[\"name\"], act[\"location\"],\n",
    "                           method[1].title(), lca.score,\n",
    "                           bw.methods.get(method).get('unit')))\n",
    "\n",
    "# impacts_fg"
   ]
  },
  {
   "cell_type": "code",
   "execution_count": 38,
   "metadata": {},
   "outputs": [],
   "source": [
    "df_impacts_fg = pd.DataFrame(impacts_fg, columns=[\"Name\", \"Location\", \"Method\",\n",
    "                                                  \"Score\", \"Unit\"])\n",
    "\n",
    "df_impacts_fg = pd.pivot_table(df_impacts_fg, index=[\"Name\"],\n",
    "                               columns=[\"Method\", \"Unit\"],\n",
    "                               values=\"Score\")"
   ]
  },
  {
   "cell_type": "code",
   "execution_count": 39,
   "metadata": {
    "scrolled": false
   },
   "outputs": [
    {
     "data": {
      "text/html": [
       "<div>\n",
       "<style scoped>\n",
       "    .dataframe tbody tr th:only-of-type {\n",
       "        vertical-align: middle;\n",
       "    }\n",
       "\n",
       "    .dataframe tbody tr th {\n",
       "        vertical-align: top;\n",
       "    }\n",
       "\n",
       "    .dataframe thead tr th {\n",
       "        text-align: left;\n",
       "    }\n",
       "\n",
       "    .dataframe thead tr:last-of-type th {\n",
       "        text-align: right;\n",
       "    }\n",
       "</style>\n",
       "<table border=\"1\" class=\"dataframe\">\n",
       "  <thead>\n",
       "    <tr>\n",
       "      <th>Method</th>\n",
       "      <th>Climate Change</th>\n",
       "      <th colspan=\"4\" halign=\"left\">Ecosystem Quality</th>\n",
       "      <th colspan=\"2\" halign=\"left\">Human Health</th>\n",
       "      <th colspan=\"2\" halign=\"left\">Resources</th>\n",
       "    </tr>\n",
       "    <tr>\n",
       "      <th>Unit</th>\n",
       "      <th>kg CO2-Eq</th>\n",
       "      <th>CTU</th>\n",
       "      <th>kg P-Eq</th>\n",
       "      <th>mol H+-Eq</th>\n",
       "      <th>mol N-Eq</th>\n",
       "      <th>kg CFC-11.</th>\n",
       "      <th>kg NMVOC-.</th>\n",
       "      <th>megajoule</th>\n",
       "      <th>points</th>\n",
       "    </tr>\n",
       "    <tr>\n",
       "      <th>Name</th>\n",
       "      <th></th>\n",
       "      <th></th>\n",
       "      <th></th>\n",
       "      <th></th>\n",
       "      <th></th>\n",
       "      <th></th>\n",
       "      <th></th>\n",
       "      <th></th>\n",
       "      <th></th>\n",
       "    </tr>\n",
       "  </thead>\n",
       "  <tbody>\n",
       "    <tr>\n",
       "      <th>market for flat glass, uncoated</th>\n",
       "      <td>27.11</td>\n",
       "      <td>7.08</td>\n",
       "      <td>0.00</td>\n",
       "      <td>0.22</td>\n",
       "      <td>0.60</td>\n",
       "      <td>0.0</td>\n",
       "      <td>0.14</td>\n",
       "      <td>344.41</td>\n",
       "      <td>104.18</td>\n",
       "    </tr>\n",
       "    <tr>\n",
       "      <th>market for flat glass, coated</th>\n",
       "      <td>28.71</td>\n",
       "      <td>9.15</td>\n",
       "      <td>0.00</td>\n",
       "      <td>0.24</td>\n",
       "      <td>0.63</td>\n",
       "      <td>0.0</td>\n",
       "      <td>0.15</td>\n",
       "      <td>377.57</td>\n",
       "      <td>146.02</td>\n",
       "    </tr>\n",
       "    <tr>\n",
       "      <th>market for tempered safety glass</th>\n",
       "      <td>29.22</td>\n",
       "      <td>7.31</td>\n",
       "      <td>0.00</td>\n",
       "      <td>0.23</td>\n",
       "      <td>0.62</td>\n",
       "      <td>0.0</td>\n",
       "      <td>0.15</td>\n",
       "      <td>377.22</td>\n",
       "      <td>106.57</td>\n",
       "    </tr>\n",
       "    <tr>\n",
       "      <th>market for tempered safety glass, coated</th>\n",
       "      <td>30.86</td>\n",
       "      <td>9.41</td>\n",
       "      <td>0.00</td>\n",
       "      <td>0.24</td>\n",
       "      <td>0.65</td>\n",
       "      <td>0.0</td>\n",
       "      <td>0.15</td>\n",
       "      <td>411.04</td>\n",
       "      <td>149.25</td>\n",
       "    </tr>\n",
       "    <tr>\n",
       "      <th>market for laminated safety glass</th>\n",
       "      <td>36.93</td>\n",
       "      <td>12.35</td>\n",
       "      <td>0.01</td>\n",
       "      <td>0.26</td>\n",
       "      <td>0.69</td>\n",
       "      <td>0.0</td>\n",
       "      <td>0.17</td>\n",
       "      <td>623.93</td>\n",
       "      <td>196.82</td>\n",
       "    </tr>\n",
       "    <tr>\n",
       "      <th>market for laminated safety glass, coated</th>\n",
       "      <td>37.75</td>\n",
       "      <td>13.40</td>\n",
       "      <td>0.01</td>\n",
       "      <td>0.27</td>\n",
       "      <td>0.70</td>\n",
       "      <td>0.0</td>\n",
       "      <td>0.17</td>\n",
       "      <td>640.85</td>\n",
       "      <td>218.16</td>\n",
       "    </tr>\n",
       "    <tr>\n",
       "      <th>market for smart glass</th>\n",
       "      <td>542.85</td>\n",
       "      <td>1338.69</td>\n",
       "      <td>0.04</td>\n",
       "      <td>2.27</td>\n",
       "      <td>7.39</td>\n",
       "      <td>0.0</td>\n",
       "      <td>2.21</td>\n",
       "      <td>8464.07</td>\n",
       "      <td>7881.78</td>\n",
       "    </tr>\n",
       "  </tbody>\n",
       "</table>\n",
       "</div>"
      ],
      "text/plain": [
       "Method                                    Climate Change Ecosystem Quality  \\\n",
       "Unit                                           kg CO2-Eq               CTU   \n",
       "Name                                                                         \n",
       "market for flat glass, uncoated                    27.11              7.08   \n",
       "market for flat glass, coated                      28.71              9.15   \n",
       "market for tempered safety glass                   29.22              7.31   \n",
       "market for tempered safety glass, coated           30.86              9.41   \n",
       "market for laminated safety glass                  36.93             12.35   \n",
       "market for laminated safety glass, coated          37.75             13.40   \n",
       "market for smart glass                            542.85           1338.69   \n",
       "\n",
       "Method                                                                \\\n",
       "Unit                                      kg P-Eq mol H+-Eq mol N-Eq   \n",
       "Name                                                                   \n",
       "market for flat glass, uncoated              0.00      0.22     0.60   \n",
       "market for flat glass, coated                0.00      0.24     0.63   \n",
       "market for tempered safety glass             0.00      0.23     0.62   \n",
       "market for tempered safety glass, coated     0.00      0.24     0.65   \n",
       "market for laminated safety glass            0.01      0.26     0.69   \n",
       "market for laminated safety glass, coated    0.01      0.27     0.70   \n",
       "market for smart glass                       0.04      2.27     7.39   \n",
       "\n",
       "Method                                    Human Health            Resources  \\\n",
       "Unit                                        kg CFC-11. kg NMVOC-. megajoule   \n",
       "Name                                                                          \n",
       "market for flat glass, uncoated                    0.0       0.14    344.41   \n",
       "market for flat glass, coated                      0.0       0.15    377.57   \n",
       "market for tempered safety glass                   0.0       0.15    377.22   \n",
       "market for tempered safety glass, coated           0.0       0.15    411.04   \n",
       "market for laminated safety glass                  0.0       0.17    623.93   \n",
       "market for laminated safety glass, coated          0.0       0.17    640.85   \n",
       "market for smart glass                             0.0       2.21   8464.07   \n",
       "\n",
       "Method                                              \n",
       "Unit                                        points  \n",
       "Name                                                \n",
       "market for flat glass, uncoated             104.18  \n",
       "market for flat glass, coated               146.02  \n",
       "market for tempered safety glass            106.57  \n",
       "market for tempered safety glass, coated    149.25  \n",
       "market for laminated safety glass           196.82  \n",
       "market for laminated safety glass, coated   218.16  \n",
       "market for smart glass                     7881.78  "
      ]
     },
     "execution_count": 39,
     "metadata": {},
     "output_type": "execute_result"
    }
   ],
   "source": [
    "df_impacts_fg = df_impacts_fg.sort_values(\n",
    "    (\"Climate Change\", \"kg CO2-Eq\"), ascending=True)\n",
    "\n",
    "df_impacts_fg.round(2)"
   ]
  },
  {
   "cell_type": "code",
   "execution_count": 40,
   "metadata": {},
   "outputs": [],
   "source": [
    "df_impacts_fg = df_impacts_fg.reset_index()\n",
    "df_impacts_fg['Name'] = (df_impacts_fg['Name']\n",
    "                         .str.replace('market for ', ''))\n",
    "\n",
    "df_impacts_fg = df_impacts_fg.set_index('Name')"
   ]
  },
  {
   "cell_type": "code",
   "execution_count": 41,
   "metadata": {},
   "outputs": [
    {
     "data": {
      "image/png": "[encoded data removed]",
      "text/plain": [
       "<Figure size 504x216 with 1 Axes>"
      ]
     },
     "metadata": {},
     "output_type": "display_data"
    }
   ],
   "source": [
    "fig, ax = plt.subplots(figsize=(7, 3))\n",
    "\n",
    "df_impacts_wo_smartg = df_impacts_fg.drop(\"smart glass\", axis=0)\n",
    "\n",
    "sns.barplot(data=df_impacts_wo_smartg,\n",
    "            x=(\"Climate Change\", \"kg CO2-Eq\"),\n",
    "            y=df_impacts_wo_smartg.index,\n",
    "            color=\"lightsteelblue\", linewidth=1.5)\n",
    "\n",
    "ax.yaxis.label.set_visible(False)\n",
    "ax.grid(which='major', axis='x', linestyle=':', linewidth=1)\n",
    "\n",
    "fig.suptitle(\n",
    "    'GWP of different types of glass panes, cradle-to-gate, per m²', y=1.1)\n",
    "sns.despine(left=True, offset=5)\n",
    "plt.show()"
   ]
  },
  {
   "cell_type": "code",
   "execution_count": 42,
   "metadata": {},
   "outputs": [
    {
     "data": {
      "text/html": [
       "<div>\n",
       "<style scoped>\n",
       "    .dataframe tbody tr th:only-of-type {\n",
       "        vertical-align: middle;\n",
       "    }\n",
       "\n",
       "    .dataframe tbody tr th {\n",
       "        vertical-align: top;\n",
       "    }\n",
       "\n",
       "    .dataframe thead tr th {\n",
       "        text-align: left;\n",
       "    }\n",
       "\n",
       "    .dataframe thead tr:last-of-type th {\n",
       "        text-align: right;\n",
       "    }\n",
       "</style>\n",
       "<table border=\"1\" class=\"dataframe\">\n",
       "  <thead>\n",
       "    <tr>\n",
       "      <th>Method</th>\n",
       "      <th>Climate Change</th>\n",
       "      <th colspan=\"4\" halign=\"left\">Ecosystem Quality</th>\n",
       "      <th colspan=\"2\" halign=\"left\">Human Health</th>\n",
       "      <th colspan=\"2\" halign=\"left\">Resources</th>\n",
       "    </tr>\n",
       "    <tr>\n",
       "      <th>Unit</th>\n",
       "      <th>kg CO2-Eq</th>\n",
       "      <th>CTU</th>\n",
       "      <th>kg P-Eq</th>\n",
       "      <th>mol H+-Eq</th>\n",
       "      <th>mol N-Eq</th>\n",
       "      <th>kg CFC-11.</th>\n",
       "      <th>kg NMVOC-.</th>\n",
       "      <th>megajoule</th>\n",
       "      <th>points</th>\n",
       "    </tr>\n",
       "    <tr>\n",
       "      <th>Name</th>\n",
       "      <th></th>\n",
       "      <th></th>\n",
       "      <th></th>\n",
       "      <th></th>\n",
       "      <th></th>\n",
       "      <th></th>\n",
       "      <th></th>\n",
       "      <th></th>\n",
       "      <th></th>\n",
       "    </tr>\n",
       "  </thead>\n",
       "  <tbody>\n",
       "    <tr>\n",
       "      <th>flat glass, uncoated</th>\n",
       "      <td>0.72</td>\n",
       "      <td>0.53</td>\n",
       "      <td>0.47</td>\n",
       "      <td>0.84</td>\n",
       "      <td>0.86</td>\n",
       "      <td>0.49</td>\n",
       "      <td>0.83</td>\n",
       "      <td>0.54</td>\n",
       "      <td>0.48</td>\n",
       "    </tr>\n",
       "    <tr>\n",
       "      <th>flat glass, coated</th>\n",
       "      <td>0.76</td>\n",
       "      <td>0.68</td>\n",
       "      <td>0.59</td>\n",
       "      <td>0.89</td>\n",
       "      <td>0.90</td>\n",
       "      <td>0.51</td>\n",
       "      <td>0.88</td>\n",
       "      <td>0.59</td>\n",
       "      <td>0.67</td>\n",
       "    </tr>\n",
       "    <tr>\n",
       "      <th>tempered safety glass</th>\n",
       "      <td>0.77</td>\n",
       "      <td>0.55</td>\n",
       "      <td>0.48</td>\n",
       "      <td>0.86</td>\n",
       "      <td>0.88</td>\n",
       "      <td>0.54</td>\n",
       "      <td>0.86</td>\n",
       "      <td>0.59</td>\n",
       "      <td>0.49</td>\n",
       "    </tr>\n",
       "    <tr>\n",
       "      <th>tempered safety glass, coated</th>\n",
       "      <td>0.82</td>\n",
       "      <td>0.70</td>\n",
       "      <td>0.60</td>\n",
       "      <td>0.91</td>\n",
       "      <td>0.92</td>\n",
       "      <td>0.56</td>\n",
       "      <td>0.90</td>\n",
       "      <td>0.64</td>\n",
       "      <td>0.68</td>\n",
       "    </tr>\n",
       "    <tr>\n",
       "      <th>laminated safety glass</th>\n",
       "      <td>0.98</td>\n",
       "      <td>0.92</td>\n",
       "      <td>0.94</td>\n",
       "      <td>0.97</td>\n",
       "      <td>0.98</td>\n",
       "      <td>0.99</td>\n",
       "      <td>0.98</td>\n",
       "      <td>0.97</td>\n",
       "      <td>0.90</td>\n",
       "    </tr>\n",
       "    <tr>\n",
       "      <th>laminated safety glass, coated</th>\n",
       "      <td>1.00</td>\n",
       "      <td>1.00</td>\n",
       "      <td>1.00</td>\n",
       "      <td>1.00</td>\n",
       "      <td>1.00</td>\n",
       "      <td>1.00</td>\n",
       "      <td>1.00</td>\n",
       "      <td>1.00</td>\n",
       "      <td>1.00</td>\n",
       "    </tr>\n",
       "  </tbody>\n",
       "</table>\n",
       "</div>"
      ],
      "text/plain": [
       "Method                         Climate Change Ecosystem Quality          \\\n",
       "Unit                                kg CO2-Eq               CTU kg P-Eq   \n",
       "Name                                                                      \n",
       "flat glass, uncoated                     0.72              0.53    0.47   \n",
       "flat glass, coated                       0.76              0.68    0.59   \n",
       "tempered safety glass                    0.77              0.55    0.48   \n",
       "tempered safety glass, coated            0.82              0.70    0.60   \n",
       "laminated safety glass                   0.98              0.92    0.94   \n",
       "laminated safety glass, coated           1.00              1.00    1.00   \n",
       "\n",
       "Method                                            Human Health             \\\n",
       "Unit                           mol H+-Eq mol N-Eq   kg CFC-11. kg NMVOC-.   \n",
       "Name                                                                        \n",
       "flat glass, uncoated                0.84     0.86         0.49       0.83   \n",
       "flat glass, coated                  0.89     0.90         0.51       0.88   \n",
       "tempered safety glass               0.86     0.88         0.54       0.86   \n",
       "tempered safety glass, coated       0.91     0.92         0.56       0.90   \n",
       "laminated safety glass              0.97     0.98         0.99       0.98   \n",
       "laminated safety glass, coated      1.00     1.00         1.00       1.00   \n",
       "\n",
       "Method                         Resources         \n",
       "Unit                           megajoule points  \n",
       "Name                                             \n",
       "flat glass, uncoated                0.54   0.48  \n",
       "flat glass, coated                  0.59   0.67  \n",
       "tempered safety glass               0.59   0.49  \n",
       "tempered safety glass, coated       0.64   0.68  \n",
       "laminated safety glass              0.97   0.90  \n",
       "laminated safety glass, coated      1.00   1.00  "
      ]
     },
     "execution_count": 42,
     "metadata": {},
     "output_type": "execute_result"
    }
   ],
   "source": [
    "df_norm_impacts_wo_smartg = (\n",
    "    df_impacts_wo_smartg / df_impacts_wo_smartg.max()\n",
    ")\n",
    "df_norm_impacts_wo_smartg.round(2)"
   ]
  },
  {
   "cell_type": "code",
   "execution_count": 43,
   "metadata": {},
   "outputs": [
    {
     "data": {
      "image/png": "[encoded data removed]",
      "text/plain": [
       "<Figure size 504x252 with 1 Axes>"
      ]
     },
     "metadata": {},
     "output_type": "display_data"
    }
   ],
   "source": [
    "fig, ax = plt.subplots(figsize=(7, 3.5))\n",
    "\n",
    "sns.barplot(data=df_impacts_fg,\n",
    "            x=(\"Climate Change\", \"kg CO2-Eq\"),\n",
    "            y=df_impacts_fg.index,\n",
    "            color=\"lightsteelblue\", linewidth=1.5)\n",
    "\n",
    "ax.yaxis.label.set_visible(False)\n",
    "ax.grid(which='major', axis='x', linestyle=':', linewidth=1)\n",
    "\n",
    "fig.suptitle(\n",
    "    'GWP of different types of glass panes, cradle-to-gate, per m²')\n",
    "sns.despine(left=True, offset=5)\n",
    "plt.show()"
   ]
  },
  {
   "cell_type": "code",
   "execution_count": 44,
   "metadata": {},
   "outputs": [
    {
     "data": {
      "text/html": [
       "<div>\n",
       "<style scoped>\n",
       "    .dataframe tbody tr th:only-of-type {\n",
       "        vertical-align: middle;\n",
       "    }\n",
       "\n",
       "    .dataframe tbody tr th {\n",
       "        vertical-align: top;\n",
       "    }\n",
       "\n",
       "    .dataframe thead tr th {\n",
       "        text-align: left;\n",
       "    }\n",
       "\n",
       "    .dataframe thead tr:last-of-type th {\n",
       "        text-align: right;\n",
       "    }\n",
       "</style>\n",
       "<table border=\"1\" class=\"dataframe\">\n",
       "  <thead>\n",
       "    <tr>\n",
       "      <th>Method</th>\n",
       "      <th>Climate Change</th>\n",
       "      <th colspan=\"4\" halign=\"left\">Ecosystem Quality</th>\n",
       "      <th colspan=\"2\" halign=\"left\">Human Health</th>\n",
       "      <th colspan=\"2\" halign=\"left\">Resources</th>\n",
       "    </tr>\n",
       "    <tr>\n",
       "      <th>Unit</th>\n",
       "      <th>kg CO2-Eq</th>\n",
       "      <th>CTU</th>\n",
       "      <th>kg P-Eq</th>\n",
       "      <th>mol H+-Eq</th>\n",
       "      <th>mol N-Eq</th>\n",
       "      <th>kg CFC-11.</th>\n",
       "      <th>kg NMVOC-.</th>\n",
       "      <th>megajoule</th>\n",
       "      <th>points</th>\n",
       "    </tr>\n",
       "    <tr>\n",
       "      <th>Name</th>\n",
       "      <th></th>\n",
       "      <th></th>\n",
       "      <th></th>\n",
       "      <th></th>\n",
       "      <th></th>\n",
       "      <th></th>\n",
       "      <th></th>\n",
       "      <th></th>\n",
       "      <th></th>\n",
       "    </tr>\n",
       "  </thead>\n",
       "  <tbody>\n",
       "    <tr>\n",
       "      <th>flat glass, uncoated</th>\n",
       "      <td>0.05</td>\n",
       "      <td>0.01</td>\n",
       "      <td>0.06</td>\n",
       "      <td>0.10</td>\n",
       "      <td>0.08</td>\n",
       "      <td>0.02</td>\n",
       "      <td>0.06</td>\n",
       "      <td>0.04</td>\n",
       "      <td>0.01</td>\n",
       "    </tr>\n",
       "    <tr>\n",
       "      <th>flat glass, coated</th>\n",
       "      <td>0.05</td>\n",
       "      <td>0.01</td>\n",
       "      <td>0.07</td>\n",
       "      <td>0.10</td>\n",
       "      <td>0.09</td>\n",
       "      <td>0.02</td>\n",
       "      <td>0.07</td>\n",
       "      <td>0.04</td>\n",
       "      <td>0.02</td>\n",
       "    </tr>\n",
       "    <tr>\n",
       "      <th>tempered safety glass</th>\n",
       "      <td>0.05</td>\n",
       "      <td>0.01</td>\n",
       "      <td>0.06</td>\n",
       "      <td>0.10</td>\n",
       "      <td>0.08</td>\n",
       "      <td>0.02</td>\n",
       "      <td>0.07</td>\n",
       "      <td>0.04</td>\n",
       "      <td>0.01</td>\n",
       "    </tr>\n",
       "    <tr>\n",
       "      <th>tempered safety glass, coated</th>\n",
       "      <td>0.06</td>\n",
       "      <td>0.01</td>\n",
       "      <td>0.08</td>\n",
       "      <td>0.11</td>\n",
       "      <td>0.09</td>\n",
       "      <td>0.03</td>\n",
       "      <td>0.07</td>\n",
       "      <td>0.05</td>\n",
       "      <td>0.02</td>\n",
       "    </tr>\n",
       "    <tr>\n",
       "      <th>laminated safety glass</th>\n",
       "      <td>0.07</td>\n",
       "      <td>0.01</td>\n",
       "      <td>0.12</td>\n",
       "      <td>0.11</td>\n",
       "      <td>0.09</td>\n",
       "      <td>0.04</td>\n",
       "      <td>0.08</td>\n",
       "      <td>0.07</td>\n",
       "      <td>0.02</td>\n",
       "    </tr>\n",
       "    <tr>\n",
       "      <th>laminated safety glass, coated</th>\n",
       "      <td>0.07</td>\n",
       "      <td>0.01</td>\n",
       "      <td>0.13</td>\n",
       "      <td>0.12</td>\n",
       "      <td>0.10</td>\n",
       "      <td>0.04</td>\n",
       "      <td>0.08</td>\n",
       "      <td>0.08</td>\n",
       "      <td>0.03</td>\n",
       "    </tr>\n",
       "    <tr>\n",
       "      <th>smart glass</th>\n",
       "      <td>1.00</td>\n",
       "      <td>1.00</td>\n",
       "      <td>1.00</td>\n",
       "      <td>1.00</td>\n",
       "      <td>1.00</td>\n",
       "      <td>1.00</td>\n",
       "      <td>1.00</td>\n",
       "      <td>1.00</td>\n",
       "      <td>1.00</td>\n",
       "    </tr>\n",
       "  </tbody>\n",
       "</table>\n",
       "</div>"
      ],
      "text/plain": [
       "Method                         Climate Change Ecosystem Quality          \\\n",
       "Unit                                kg CO2-Eq               CTU kg P-Eq   \n",
       "Name                                                                      \n",
       "flat glass, uncoated                     0.05              0.01    0.06   \n",
       "flat glass, coated                       0.05              0.01    0.07   \n",
       "tempered safety glass                    0.05              0.01    0.06   \n",
       "tempered safety glass, coated            0.06              0.01    0.08   \n",
       "laminated safety glass                   0.07              0.01    0.12   \n",
       "laminated safety glass, coated           0.07              0.01    0.13   \n",
       "smart glass                              1.00              1.00    1.00   \n",
       "\n",
       "Method                                            Human Health             \\\n",
       "Unit                           mol H+-Eq mol N-Eq   kg CFC-11. kg NMVOC-.   \n",
       "Name                                                                        \n",
       "flat glass, uncoated                0.10     0.08         0.02       0.06   \n",
       "flat glass, coated                  0.10     0.09         0.02       0.07   \n",
       "tempered safety glass               0.10     0.08         0.02       0.07   \n",
       "tempered safety glass, coated       0.11     0.09         0.03       0.07   \n",
       "laminated safety glass              0.11     0.09         0.04       0.08   \n",
       "laminated safety glass, coated      0.12     0.10         0.04       0.08   \n",
       "smart glass                         1.00     1.00         1.00       1.00   \n",
       "\n",
       "Method                         Resources         \n",
       "Unit                           megajoule points  \n",
       "Name                                             \n",
       "flat glass, uncoated                0.04   0.01  \n",
       "flat glass, coated                  0.04   0.02  \n",
       "tempered safety glass               0.04   0.01  \n",
       "tempered safety glass, coated       0.05   0.02  \n",
       "laminated safety glass              0.07   0.02  \n",
       "laminated safety glass, coated      0.08   0.03  \n",
       "smart glass                         1.00   1.00  "
      ]
     },
     "execution_count": 44,
     "metadata": {},
     "output_type": "execute_result"
    }
   ],
   "source": [
    "df_norm_impacts_fg = df_impacts_fg / df_impacts_fg.max()\n",
    "df_norm_impacts_fg.round(2)"
   ]
  },
  {
   "cell_type": "markdown",
   "metadata": {},
   "source": [
    "**Same calculation, but using the MultiLCA class:**"
   ]
  },
  {
   "cell_type": "code",
   "execution_count": 45,
   "metadata": {},
   "outputs": [
    {
     "data": {
      "text/plain": [
       "[{('exldb_igu', 'market_glass_coated'): 25},\n",
       " {('exldb_igu', 'market_glass_uncoated'): 25},\n",
       " {('exldb_igu', 'market_lsg'): 1},\n",
       " {('exldb_igu', 'market_lsg_coated'): 1},\n",
       " {('exldb_igu', 'market_smartglass'): 1},\n",
       " {('exldb_igu', 'market_tsg'): 1},\n",
       " {('exldb_igu', 'market_tsg_coated'): 1}]"
      ]
     },
     "execution_count": 45,
     "metadata": {},
     "output_type": "execute_result"
    }
   ],
   "source": [
    "# functional unit; 25kg of glass to obtain a thickness of 10mm for 1m²:\n",
    "fu_fg = 25\n",
    "# functional unit; 1m²:\n",
    "fu_fg_processed = 1\n",
    "\n",
    "mlca_syst_fg = []\n",
    "\n",
    "for act in inv_fg:\n",
    "    mlca_syst_fg.append({act.key: fu_fg})\n",
    "\n",
    "for act in inv_fg_processed:\n",
    "    mlca_syst_fg.append({act.key: fu_fg_processed})\n",
    "\n",
    "mlca_syst_fg"
   ]
  },
  {
   "cell_type": "code",
   "execution_count": 46,
   "metadata": {},
   "outputs": [],
   "source": [
    "bw.calculation_setups['calculation_setup'] = {'inv': mlca_syst_fg,\n",
    "                                              'ia': methods_small}\n",
    "\n",
    "mlca = bw.MultiLCA('calculation_setup')\n",
    "df_impacts_mlca_fg = pd.DataFrame(data=mlca.results, columns=mlca.methods)"
   ]
  },
  {
   "cell_type": "code",
   "execution_count": 47,
   "metadata": {},
   "outputs": [],
   "source": [
    "activities = [(get_activity(key), amount)\n",
    "              for dct in mlca.func_units\n",
    "              for key, amount in dct.items()\n",
    "              ]\n",
    "\n",
    "df_fu = pd.DataFrame([(x['name'], x['database'], x['code'],\n",
    "                       x['location'], x['unit'], y)\n",
    "                      for x, y in activities],\n",
    "                     columns=('Database', 'Code', 'Name',\n",
    "                              'Location', 'Unit', 'Amount')\n",
    "                     )\n",
    "\n",
    "df_impacts_mlca_fg_expanded = pd.concat(\n",
    "    [df_fu, df_impacts_mlca_fg], axis=1\n",
    ")"
   ]
  },
  {
   "cell_type": "code",
   "execution_count": 48,
   "metadata": {},
   "outputs": [],
   "source": [
    "df_impacts_mlca_fg_expanded = (\n",
    "    df_impacts_mlca_fg_expanded.set_index(\"Name\")\n",
    "    .drop([\"Database\", \"Code\", \"Location\"], axis=1).round(2)\n",
    ")"
   ]
  },
  {
   "cell_type": "code",
   "execution_count": 49,
   "metadata": {},
   "outputs": [
    {
     "data": {
      "text/html": [
       "<div>\n",
       "<style scoped>\n",
       "    .dataframe tbody tr th:only-of-type {\n",
       "        vertical-align: middle;\n",
       "    }\n",
       "\n",
       "    .dataframe tbody tr th {\n",
       "        vertical-align: top;\n",
       "    }\n",
       "\n",
       "    .dataframe thead th {\n",
       "        text-align: right;\n",
       "    }\n",
       "</style>\n",
       "<table border=\"1\" class=\"dataframe\">\n",
       "  <thead>\n",
       "    <tr style=\"text-align: right;\">\n",
       "      <th></th>\n",
       "      <th>Unit</th>\n",
       "      <th>Amount</th>\n",
       "      <th>(ILCD 2.0 2018 midpoint, climate change, climate change total)</th>\n",
       "      <th>(ILCD 2.0 2018 midpoint, ecosystem quality, freshwater ecotoxicity)</th>\n",
       "      <th>(ILCD 2.0 2018 midpoint, ecosystem quality, freshwater and terrestrial acidification)</th>\n",
       "      <th>(ILCD 2.0 2018 midpoint, ecosystem quality, freshwater eutrophication)</th>\n",
       "      <th>(ILCD 2.0 2018 midpoint, ecosystem quality, terrestrial eutrophication)</th>\n",
       "      <th>(ILCD 2.0 2018 midpoint, human health, ozone layer depletion)</th>\n",
       "      <th>(ILCD 2.0 2018 midpoint, human health, photochemical ozone creation)</th>\n",
       "      <th>(ILCD 2.0 2018 midpoint, resources, fossils)</th>\n",
       "      <th>(ILCD 2.0 2018 midpoint, resources, land use)</th>\n",
       "    </tr>\n",
       "    <tr>\n",
       "      <th>Name</th>\n",
       "      <th></th>\n",
       "      <th></th>\n",
       "      <th></th>\n",
       "      <th></th>\n",
       "      <th></th>\n",
       "      <th></th>\n",
       "      <th></th>\n",
       "      <th></th>\n",
       "      <th></th>\n",
       "      <th></th>\n",
       "      <th></th>\n",
       "    </tr>\n",
       "  </thead>\n",
       "  <tbody>\n",
       "    <tr>\n",
       "      <th>market_glass_uncoated</th>\n",
       "      <td>kilogram</td>\n",
       "      <td>25</td>\n",
       "      <td>27.11</td>\n",
       "      <td>7.08</td>\n",
       "      <td>0.22</td>\n",
       "      <td>0.00</td>\n",
       "      <td>0.60</td>\n",
       "      <td>0.0</td>\n",
       "      <td>0.14</td>\n",
       "      <td>344.41</td>\n",
       "      <td>104.18</td>\n",
       "    </tr>\n",
       "    <tr>\n",
       "      <th>market_glass_coated</th>\n",
       "      <td>kilogram</td>\n",
       "      <td>25</td>\n",
       "      <td>28.71</td>\n",
       "      <td>9.15</td>\n",
       "      <td>0.24</td>\n",
       "      <td>0.00</td>\n",
       "      <td>0.63</td>\n",
       "      <td>0.0</td>\n",
       "      <td>0.15</td>\n",
       "      <td>377.57</td>\n",
       "      <td>146.02</td>\n",
       "    </tr>\n",
       "    <tr>\n",
       "      <th>market_tsg</th>\n",
       "      <td>square meter</td>\n",
       "      <td>1</td>\n",
       "      <td>29.22</td>\n",
       "      <td>7.31</td>\n",
       "      <td>0.23</td>\n",
       "      <td>0.00</td>\n",
       "      <td>0.62</td>\n",
       "      <td>0.0</td>\n",
       "      <td>0.15</td>\n",
       "      <td>377.22</td>\n",
       "      <td>106.57</td>\n",
       "    </tr>\n",
       "    <tr>\n",
       "      <th>market_tsg_coated</th>\n",
       "      <td>square meter</td>\n",
       "      <td>1</td>\n",
       "      <td>30.86</td>\n",
       "      <td>9.41</td>\n",
       "      <td>0.24</td>\n",
       "      <td>0.00</td>\n",
       "      <td>0.65</td>\n",
       "      <td>0.0</td>\n",
       "      <td>0.15</td>\n",
       "      <td>411.04</td>\n",
       "      <td>149.25</td>\n",
       "    </tr>\n",
       "    <tr>\n",
       "      <th>market_lsg</th>\n",
       "      <td>square meter</td>\n",
       "      <td>1</td>\n",
       "      <td>36.93</td>\n",
       "      <td>12.35</td>\n",
       "      <td>0.26</td>\n",
       "      <td>0.01</td>\n",
       "      <td>0.69</td>\n",
       "      <td>0.0</td>\n",
       "      <td>0.17</td>\n",
       "      <td>623.93</td>\n",
       "      <td>196.82</td>\n",
       "    </tr>\n",
       "    <tr>\n",
       "      <th>market_lsg_coated</th>\n",
       "      <td>square meter</td>\n",
       "      <td>1</td>\n",
       "      <td>37.75</td>\n",
       "      <td>13.40</td>\n",
       "      <td>0.27</td>\n",
       "      <td>0.01</td>\n",
       "      <td>0.70</td>\n",
       "      <td>0.0</td>\n",
       "      <td>0.17</td>\n",
       "      <td>640.85</td>\n",
       "      <td>218.16</td>\n",
       "    </tr>\n",
       "    <tr>\n",
       "      <th>market_smartglass</th>\n",
       "      <td>square meter</td>\n",
       "      <td>1</td>\n",
       "      <td>542.85</td>\n",
       "      <td>1338.69</td>\n",
       "      <td>2.27</td>\n",
       "      <td>0.04</td>\n",
       "      <td>7.39</td>\n",
       "      <td>0.0</td>\n",
       "      <td>2.21</td>\n",
       "      <td>8464.07</td>\n",
       "      <td>7881.78</td>\n",
       "    </tr>\n",
       "  </tbody>\n",
       "</table>\n",
       "</div>"
      ],
      "text/plain": [
       "                               Unit  Amount  \\\n",
       "Name                                          \n",
       "market_glass_uncoated      kilogram      25   \n",
       "market_glass_coated        kilogram      25   \n",
       "market_tsg             square meter       1   \n",
       "market_tsg_coated      square meter       1   \n",
       "market_lsg             square meter       1   \n",
       "market_lsg_coated      square meter       1   \n",
       "market_smartglass      square meter       1   \n",
       "\n",
       "                       (ILCD 2.0 2018 midpoint, climate change, climate change total)  \\\n",
       "Name                                                                                    \n",
       "market_glass_uncoated                                              27.11                \n",
       "market_glass_coated                                                28.71                \n",
       "market_tsg                                                         29.22                \n",
       "market_tsg_coated                                                  30.86                \n",
       "market_lsg                                                         36.93                \n",
       "market_lsg_coated                                                  37.75                \n",
       "market_smartglass                                                 542.85                \n",
       "\n",
       "                       (ILCD 2.0 2018 midpoint, ecosystem quality, freshwater ecotoxicity)  \\\n",
       "Name                                                                                         \n",
       "market_glass_uncoated                                               7.08                     \n",
       "market_glass_coated                                                 9.15                     \n",
       "market_tsg                                                          7.31                     \n",
       "market_tsg_coated                                                   9.41                     \n",
       "market_lsg                                                         12.35                     \n",
       "market_lsg_coated                                                  13.40                     \n",
       "market_smartglass                                                1338.69                     \n",
       "\n",
       "                       (ILCD 2.0 2018 midpoint, ecosystem quality, freshwater and terrestrial acidification)  \\\n",
       "Name                                                                                                           \n",
       "market_glass_uncoated                                               0.22                                       \n",
       "market_glass_coated                                                 0.24                                       \n",
       "market_tsg                                                          0.23                                       \n",
       "market_tsg_coated                                                   0.24                                       \n",
       "market_lsg                                                          0.26                                       \n",
       "market_lsg_coated                                                   0.27                                       \n",
       "market_smartglass                                                   2.27                                       \n",
       "\n",
       "                       (ILCD 2.0 2018 midpoint, ecosystem quality, freshwater eutrophication)  \\\n",
       "Name                                                                                            \n",
       "market_glass_uncoated                                               0.00                        \n",
       "market_glass_coated                                                 0.00                        \n",
       "market_tsg                                                          0.00                        \n",
       "market_tsg_coated                                                   0.00                        \n",
       "market_lsg                                                          0.01                        \n",
       "market_lsg_coated                                                   0.01                        \n",
       "market_smartglass                                                   0.04                        \n",
       "\n",
       "                       (ILCD 2.0 2018 midpoint, ecosystem quality, terrestrial eutrophication)  \\\n",
       "Name                                                                                             \n",
       "market_glass_uncoated                                               0.60                         \n",
       "market_glass_coated                                                 0.63                         \n",
       "market_tsg                                                          0.62                         \n",
       "market_tsg_coated                                                   0.65                         \n",
       "market_lsg                                                          0.69                         \n",
       "market_lsg_coated                                                   0.70                         \n",
       "market_smartglass                                                   7.39                         \n",
       "\n",
       "                       (ILCD 2.0 2018 midpoint, human health, ozone layer depletion)  \\\n",
       "Name                                                                                   \n",
       "market_glass_uncoated                                                0.0               \n",
       "market_glass_coated                                                  0.0               \n",
       "market_tsg                                                           0.0               \n",
       "market_tsg_coated                                                    0.0               \n",
       "market_lsg                                                           0.0               \n",
       "market_lsg_coated                                                    0.0               \n",
       "market_smartglass                                                    0.0               \n",
       "\n",
       "                       (ILCD 2.0 2018 midpoint, human health, photochemical ozone creation)  \\\n",
       "Name                                                                                          \n",
       "market_glass_uncoated                                               0.14                      \n",
       "market_glass_coated                                                 0.15                      \n",
       "market_tsg                                                          0.15                      \n",
       "market_tsg_coated                                                   0.15                      \n",
       "market_lsg                                                          0.17                      \n",
       "market_lsg_coated                                                   0.17                      \n",
       "market_smartglass                                                   2.21                      \n",
       "\n",
       "                       (ILCD 2.0 2018 midpoint, resources, fossils)  \\\n",
       "Name                                                                  \n",
       "market_glass_uncoated                                        344.41   \n",
       "market_glass_coated                                          377.57   \n",
       "market_tsg                                                   377.22   \n",
       "market_tsg_coated                                            411.04   \n",
       "market_lsg                                                   623.93   \n",
       "market_lsg_coated                                            640.85   \n",
       "market_smartglass                                           8464.07   \n",
       "\n",
       "                       (ILCD 2.0 2018 midpoint, resources, land use)  \n",
       "Name                                                                  \n",
       "market_glass_uncoated                                         104.18  \n",
       "market_glass_coated                                           146.02  \n",
       "market_tsg                                                    106.57  \n",
       "market_tsg_coated                                             149.25  \n",
       "market_lsg                                                    196.82  \n",
       "market_lsg_coated                                             218.16  \n",
       "market_smartglass                                            7881.78  "
      ]
     },
     "execution_count": 49,
     "metadata": {},
     "output_type": "execute_result"
    }
   ],
   "source": [
    "df_impacts_mlca_fg_expanded.sort_values(\n",
    "    by=[('ILCD 2.0 2018 midpoint', 'climate change', 'climate change total')],\n",
    "    ascending=True)"
   ]
  },
  {
   "cell_type": "markdown",
   "metadata": {},
   "source": [
    "## Impact of Different Types of Spacers, Sealants and Insulating Gases, Cradle-to-Gate"
   ]
  },
  {
   "cell_type": "markdown",
   "metadata": {},
   "source": [
    "**Comparative analysis of different spacers:**"
   ]
  },
  {
   "cell_type": "code",
   "execution_count": 50,
   "metadata": {},
   "outputs": [],
   "source": [
    "inv_spacers = [act for act in bw.Database(\"exldb_spacers\")\n",
    "               if 'krypton' not in act['name']\n",
    "               and 'xenon' not in act['name']\n",
    "               and 'air' not in act['name']]\n",
    "\n",
    "fu_spacers = [{igu: 1} for igu in inv_spacers]"
   ]
  },
  {
   "cell_type": "code",
   "execution_count": 51,
   "metadata": {
    "scrolled": true
   },
   "outputs": [],
   "source": [
    "impacts_spacers = []\n",
    "\n",
    "for igu in inv_spacers:\n",
    "    lca = bw.LCA({igu: 1})\n",
    "    lca.lci()\n",
    "    for method in methods_small:\n",
    "        lca.switch_method(method)\n",
    "        lca.lcia()\n",
    "        impacts_spacers.append((igu[\"name\"], igu[\"location\"],\n",
    "                                method[1].title(), lca.score,\n",
    "                                bw.methods.get(method).get('unit')))\n",
    "\n",
    "# impacts_spacers"
   ]
  },
  {
   "cell_type": "code",
   "execution_count": 52,
   "metadata": {
    "scrolled": false
   },
   "outputs": [],
   "source": [
    "df_impacts_spacers = pd.DataFrame(\n",
    "    impacts_spacers,\n",
    "    columns=[\"Name\", \"Location\", \"Method\", \"Score\", \"Unit\"]\n",
    ")\n",
    "\n",
    "df_impacts_spacers = pd.pivot_table(\n",
    "    df_impacts_spacers, index=[\"Name\"],\n",
    "    columns=[\"Method\", \"Unit\"], values=\"Score\"\n",
    ")"
   ]
  },
  {
   "cell_type": "code",
   "execution_count": 53,
   "metadata": {},
   "outputs": [],
   "source": [
    "df_impacts_spacers = df_impacts_spacers.sort_values(\n",
    "    (\"Climate Change\", \"kg CO2-Eq\"), ascending=True\n",
    ")\n",
    "\n",
    "df_impacts_spacers = df_impacts_spacers.reset_index()\n",
    "df_impacts_spacers['Name'] = (df_impacts_spacers['Name']\n",
    "                              .str.replace('double glazing production, ', '')\n",
    "                              .str.replace(', argon', ''))\n",
    "\n",
    "df_impacts_spacers = df_impacts_spacers.set_index('Name')"
   ]
  },
  {
   "cell_type": "code",
   "execution_count": 54,
   "metadata": {},
   "outputs": [
    {
     "data": {
      "text/html": [
       "<div>\n",
       "<style scoped>\n",
       "    .dataframe tbody tr th:only-of-type {\n",
       "        vertical-align: middle;\n",
       "    }\n",
       "\n",
       "    .dataframe tbody tr th {\n",
       "        vertical-align: top;\n",
       "    }\n",
       "\n",
       "    .dataframe thead tr th {\n",
       "        text-align: left;\n",
       "    }\n",
       "\n",
       "    .dataframe thead tr:last-of-type th {\n",
       "        text-align: right;\n",
       "    }\n",
       "</style>\n",
       "<table border=\"1\" class=\"dataframe\">\n",
       "  <thead>\n",
       "    <tr>\n",
       "      <th>Method</th>\n",
       "      <th>Climate Change</th>\n",
       "      <th colspan=\"4\" halign=\"left\">Ecosystem Quality</th>\n",
       "      <th colspan=\"2\" halign=\"left\">Human Health</th>\n",
       "      <th colspan=\"2\" halign=\"left\">Resources</th>\n",
       "    </tr>\n",
       "    <tr>\n",
       "      <th>Unit</th>\n",
       "      <th>kg CO2-Eq</th>\n",
       "      <th>CTU</th>\n",
       "      <th>kg P-Eq</th>\n",
       "      <th>mol H+-Eq</th>\n",
       "      <th>mol N-Eq</th>\n",
       "      <th>kg CFC-11.</th>\n",
       "      <th>kg NMVOC-.</th>\n",
       "      <th>megajoule</th>\n",
       "      <th>points</th>\n",
       "    </tr>\n",
       "    <tr>\n",
       "      <th>Name</th>\n",
       "      <th></th>\n",
       "      <th></th>\n",
       "      <th></th>\n",
       "      <th></th>\n",
       "      <th></th>\n",
       "      <th></th>\n",
       "      <th></th>\n",
       "      <th></th>\n",
       "      <th></th>\n",
       "    </tr>\n",
       "  </thead>\n",
       "  <tbody>\n",
       "    <tr>\n",
       "      <th>composite with corrugated metal</th>\n",
       "      <td>46.37</td>\n",
       "      <td>14.13</td>\n",
       "      <td>0.00</td>\n",
       "      <td>0.37</td>\n",
       "      <td>1.00</td>\n",
       "      <td>0.0</td>\n",
       "      <td>0.24</td>\n",
       "      <td>636.99</td>\n",
       "      <td>216.24</td>\n",
       "    </tr>\n",
       "    <tr>\n",
       "      <th>epdm foam</th>\n",
       "      <td>46.46</td>\n",
       "      <td>14.63</td>\n",
       "      <td>0.01</td>\n",
       "      <td>0.38</td>\n",
       "      <td>1.00</td>\n",
       "      <td>0.0</td>\n",
       "      <td>0.24</td>\n",
       "      <td>629.12</td>\n",
       "      <td>219.38</td>\n",
       "    </tr>\n",
       "    <tr>\n",
       "      <th>single-seal aluminium</th>\n",
       "      <td>46.59</td>\n",
       "      <td>16.82</td>\n",
       "      <td>0.01</td>\n",
       "      <td>0.38</td>\n",
       "      <td>1.01</td>\n",
       "      <td>0.0</td>\n",
       "      <td>0.24</td>\n",
       "      <td>627.25</td>\n",
       "      <td>222.06</td>\n",
       "    </tr>\n",
       "    <tr>\n",
       "      <th>dual-seal aluminium</th>\n",
       "      <td>46.67</td>\n",
       "      <td>16.89</td>\n",
       "      <td>0.01</td>\n",
       "      <td>0.38</td>\n",
       "      <td>1.01</td>\n",
       "      <td>0.0</td>\n",
       "      <td>0.24</td>\n",
       "      <td>629.71</td>\n",
       "      <td>222.75</td>\n",
       "    </tr>\n",
       "    <tr>\n",
       "      <th>dual-seal steel</th>\n",
       "      <td>46.68</td>\n",
       "      <td>17.13</td>\n",
       "      <td>0.01</td>\n",
       "      <td>0.38</td>\n",
       "      <td>1.01</td>\n",
       "      <td>0.0</td>\n",
       "      <td>0.24</td>\n",
       "      <td>629.75</td>\n",
       "      <td>223.00</td>\n",
       "    </tr>\n",
       "    <tr>\n",
       "      <th>thermally broken aluminium</th>\n",
       "      <td>46.84</td>\n",
       "      <td>16.89</td>\n",
       "      <td>0.01</td>\n",
       "      <td>0.38</td>\n",
       "      <td>1.01</td>\n",
       "      <td>0.0</td>\n",
       "      <td>0.24</td>\n",
       "      <td>633.91</td>\n",
       "      <td>223.54</td>\n",
       "    </tr>\n",
       "    <tr>\n",
       "      <th>thermoplastic PIB</th>\n",
       "      <td>46.93</td>\n",
       "      <td>14.96</td>\n",
       "      <td>0.01</td>\n",
       "      <td>0.38</td>\n",
       "      <td>1.01</td>\n",
       "      <td>0.0</td>\n",
       "      <td>0.24</td>\n",
       "      <td>635.93</td>\n",
       "      <td>224.85</td>\n",
       "    </tr>\n",
       "    <tr>\n",
       "      <th>slicone foam</th>\n",
       "      <td>48.15</td>\n",
       "      <td>15.42</td>\n",
       "      <td>0.01</td>\n",
       "      <td>0.38</td>\n",
       "      <td>1.02</td>\n",
       "      <td>0.0</td>\n",
       "      <td>0.24</td>\n",
       "      <td>658.61</td>\n",
       "      <td>233.42</td>\n",
       "    </tr>\n",
       "    <tr>\n",
       "      <th>dual-seal composite plastic</th>\n",
       "      <td>60.23</td>\n",
       "      <td>19.47</td>\n",
       "      <td>0.01</td>\n",
       "      <td>0.45</td>\n",
       "      <td>1.13</td>\n",
       "      <td>0.0</td>\n",
       "      <td>0.28</td>\n",
       "      <td>825.12</td>\n",
       "      <td>314.79</td>\n",
       "    </tr>\n",
       "  </tbody>\n",
       "</table>\n",
       "</div>"
      ],
      "text/plain": [
       "Method                          Climate Change Ecosystem Quality          \\\n",
       "Unit                                 kg CO2-Eq               CTU kg P-Eq   \n",
       "Name                                                                       \n",
       "composite with corrugated metal          46.37             14.13    0.00   \n",
       "epdm foam                                46.46             14.63    0.01   \n",
       "single-seal aluminium                    46.59             16.82    0.01   \n",
       "dual-seal aluminium                      46.67             16.89    0.01   \n",
       "dual-seal steel                          46.68             17.13    0.01   \n",
       "thermally broken aluminium               46.84             16.89    0.01   \n",
       "thermoplastic PIB                        46.93             14.96    0.01   \n",
       "slicone foam                             48.15             15.42    0.01   \n",
       "dual-seal composite plastic              60.23             19.47    0.01   \n",
       "\n",
       "Method                                             Human Health             \\\n",
       "Unit                            mol H+-Eq mol N-Eq   kg CFC-11. kg NMVOC-.   \n",
       "Name                                                                         \n",
       "composite with corrugated metal      0.37     1.00          0.0       0.24   \n",
       "epdm foam                            0.38     1.00          0.0       0.24   \n",
       "single-seal aluminium                0.38     1.01          0.0       0.24   \n",
       "dual-seal aluminium                  0.38     1.01          0.0       0.24   \n",
       "dual-seal steel                      0.38     1.01          0.0       0.24   \n",
       "thermally broken aluminium           0.38     1.01          0.0       0.24   \n",
       "thermoplastic PIB                    0.38     1.01          0.0       0.24   \n",
       "slicone foam                         0.38     1.02          0.0       0.24   \n",
       "dual-seal composite plastic          0.45     1.13          0.0       0.28   \n",
       "\n",
       "Method                          Resources          \n",
       "Unit                            megajoule  points  \n",
       "Name                                               \n",
       "composite with corrugated metal    636.99  216.24  \n",
       "epdm foam                          629.12  219.38  \n",
       "single-seal aluminium              627.25  222.06  \n",
       "dual-seal aluminium                629.71  222.75  \n",
       "dual-seal steel                    629.75  223.00  \n",
       "thermally broken aluminium         633.91  223.54  \n",
       "thermoplastic PIB                  635.93  224.85  \n",
       "slicone foam                       658.61  233.42  \n",
       "dual-seal composite plastic        825.12  314.79  "
      ]
     },
     "execution_count": 54,
     "metadata": {},
     "output_type": "execute_result"
    }
   ],
   "source": [
    "df_impacts_spacers.round(2)"
   ]
  },
  {
   "cell_type": "code",
   "execution_count": 55,
   "metadata": {},
   "outputs": [
    {
     "data": {
      "image/png": "[encoded data removed]",
      "text/plain": [
       "<Figure size 504x288 with 1 Axes>"
      ]
     },
     "metadata": {},
     "output_type": "display_data"
    }
   ],
   "source": [
    "fig, ax = plt.subplots(figsize=(7, 4))\n",
    "\n",
    "sns.barplot(data=df_impacts_spacers,\n",
    "            x=(\"Climate Change\", \"kg CO2-Eq\"),\n",
    "            y=df_impacts_spacers.index,\n",
    "            color=\"lightsteelblue\", linewidth=1.5)\n",
    "\n",
    "ax.yaxis.label.set_visible(False)\n",
    "ax.grid(which='major', axis='x', linestyle=':', linewidth=1)\n",
    "\n",
    "fig.suptitle(\n",
    "    'GWP of double glazing according to spacer types, cradle-to-gate, per m²')\n",
    "sns.despine(left=True, offset=5)\n",
    "plt.show()"
   ]
  },
  {
   "cell_type": "code",
   "execution_count": 56,
   "metadata": {},
   "outputs": [
    {
     "data": {
      "text/html": [
       "<div>\n",
       "<style scoped>\n",
       "    .dataframe tbody tr th:only-of-type {\n",
       "        vertical-align: middle;\n",
       "    }\n",
       "\n",
       "    .dataframe tbody tr th {\n",
       "        vertical-align: top;\n",
       "    }\n",
       "\n",
       "    .dataframe thead tr th {\n",
       "        text-align: left;\n",
       "    }\n",
       "\n",
       "    .dataframe thead tr:last-of-type th {\n",
       "        text-align: right;\n",
       "    }\n",
       "</style>\n",
       "<table border=\"1\" class=\"dataframe\">\n",
       "  <thead>\n",
       "    <tr>\n",
       "      <th>Method</th>\n",
       "      <th>Climate Change</th>\n",
       "      <th colspan=\"4\" halign=\"left\">Ecosystem Quality</th>\n",
       "      <th colspan=\"2\" halign=\"left\">Human Health</th>\n",
       "      <th colspan=\"2\" halign=\"left\">Resources</th>\n",
       "    </tr>\n",
       "    <tr>\n",
       "      <th>Unit</th>\n",
       "      <th>kg CO2-Eq</th>\n",
       "      <th>CTU</th>\n",
       "      <th>kg P-Eq</th>\n",
       "      <th>mol H+-Eq</th>\n",
       "      <th>mol N-Eq</th>\n",
       "      <th>kg CFC-11.</th>\n",
       "      <th>kg NMVOC-.</th>\n",
       "      <th>megajoule</th>\n",
       "      <th>points</th>\n",
       "    </tr>\n",
       "    <tr>\n",
       "      <th>Name</th>\n",
       "      <th></th>\n",
       "      <th></th>\n",
       "      <th></th>\n",
       "      <th></th>\n",
       "      <th></th>\n",
       "      <th></th>\n",
       "      <th></th>\n",
       "      <th></th>\n",
       "      <th></th>\n",
       "    </tr>\n",
       "  </thead>\n",
       "  <tbody>\n",
       "    <tr>\n",
       "      <th>composite with corrugated metal</th>\n",
       "      <td>0.77</td>\n",
       "      <td>0.73</td>\n",
       "      <td>0.51</td>\n",
       "      <td>0.83</td>\n",
       "      <td>0.89</td>\n",
       "      <td>0.82</td>\n",
       "      <td>0.87</td>\n",
       "      <td>0.77</td>\n",
       "      <td>0.69</td>\n",
       "    </tr>\n",
       "    <tr>\n",
       "      <th>epdm foam</th>\n",
       "      <td>0.77</td>\n",
       "      <td>0.75</td>\n",
       "      <td>0.51</td>\n",
       "      <td>0.83</td>\n",
       "      <td>0.89</td>\n",
       "      <td>0.85</td>\n",
       "      <td>0.87</td>\n",
       "      <td>0.76</td>\n",
       "      <td>0.70</td>\n",
       "    </tr>\n",
       "    <tr>\n",
       "      <th>single-seal aluminium</th>\n",
       "      <td>0.77</td>\n",
       "      <td>0.86</td>\n",
       "      <td>0.53</td>\n",
       "      <td>0.84</td>\n",
       "      <td>0.89</td>\n",
       "      <td>0.85</td>\n",
       "      <td>0.87</td>\n",
       "      <td>0.76</td>\n",
       "      <td>0.71</td>\n",
       "    </tr>\n",
       "    <tr>\n",
       "      <th>dual-seal aluminium</th>\n",
       "      <td>0.77</td>\n",
       "      <td>0.87</td>\n",
       "      <td>0.53</td>\n",
       "      <td>0.84</td>\n",
       "      <td>0.89</td>\n",
       "      <td>0.85</td>\n",
       "      <td>0.87</td>\n",
       "      <td>0.76</td>\n",
       "      <td>0.71</td>\n",
       "    </tr>\n",
       "    <tr>\n",
       "      <th>dual-seal steel</th>\n",
       "      <td>0.77</td>\n",
       "      <td>0.88</td>\n",
       "      <td>0.53</td>\n",
       "      <td>0.84</td>\n",
       "      <td>0.89</td>\n",
       "      <td>0.85</td>\n",
       "      <td>0.87</td>\n",
       "      <td>0.76</td>\n",
       "      <td>0.71</td>\n",
       "    </tr>\n",
       "    <tr>\n",
       "      <th>thermally broken aluminium</th>\n",
       "      <td>0.78</td>\n",
       "      <td>0.87</td>\n",
       "      <td>0.54</td>\n",
       "      <td>0.84</td>\n",
       "      <td>0.89</td>\n",
       "      <td>0.85</td>\n",
       "      <td>0.87</td>\n",
       "      <td>0.77</td>\n",
       "      <td>0.71</td>\n",
       "    </tr>\n",
       "    <tr>\n",
       "      <th>thermoplastic PIB</th>\n",
       "      <td>0.78</td>\n",
       "      <td>0.77</td>\n",
       "      <td>0.53</td>\n",
       "      <td>0.84</td>\n",
       "      <td>0.89</td>\n",
       "      <td>0.92</td>\n",
       "      <td>0.87</td>\n",
       "      <td>0.77</td>\n",
       "      <td>0.71</td>\n",
       "    </tr>\n",
       "    <tr>\n",
       "      <th>slicone foam</th>\n",
       "      <td>0.80</td>\n",
       "      <td>0.79</td>\n",
       "      <td>0.56</td>\n",
       "      <td>0.85</td>\n",
       "      <td>0.90</td>\n",
       "      <td>1.00</td>\n",
       "      <td>0.89</td>\n",
       "      <td>0.80</td>\n",
       "      <td>0.74</td>\n",
       "    </tr>\n",
       "    <tr>\n",
       "      <th>dual-seal composite plastic</th>\n",
       "      <td>1.00</td>\n",
       "      <td>1.00</td>\n",
       "      <td>1.00</td>\n",
       "      <td>1.00</td>\n",
       "      <td>1.00</td>\n",
       "      <td>0.98</td>\n",
       "      <td>1.00</td>\n",
       "      <td>1.00</td>\n",
       "      <td>1.00</td>\n",
       "    </tr>\n",
       "  </tbody>\n",
       "</table>\n",
       "</div>"
      ],
      "text/plain": [
       "Method                          Climate Change Ecosystem Quality          \\\n",
       "Unit                                 kg CO2-Eq               CTU kg P-Eq   \n",
       "Name                                                                       \n",
       "composite with corrugated metal           0.77              0.73    0.51   \n",
       "epdm foam                                 0.77              0.75    0.51   \n",
       "single-seal aluminium                     0.77              0.86    0.53   \n",
       "dual-seal aluminium                       0.77              0.87    0.53   \n",
       "dual-seal steel                           0.77              0.88    0.53   \n",
       "thermally broken aluminium                0.78              0.87    0.54   \n",
       "thermoplastic PIB                         0.78              0.77    0.53   \n",
       "slicone foam                              0.80              0.79    0.56   \n",
       "dual-seal composite plastic               1.00              1.00    1.00   \n",
       "\n",
       "Method                                             Human Health             \\\n",
       "Unit                            mol H+-Eq mol N-Eq   kg CFC-11. kg NMVOC-.   \n",
       "Name                                                                         \n",
       "composite with corrugated metal      0.83     0.89         0.82       0.87   \n",
       "epdm foam                            0.83     0.89         0.85       0.87   \n",
       "single-seal aluminium                0.84     0.89         0.85       0.87   \n",
       "dual-seal aluminium                  0.84     0.89         0.85       0.87   \n",
       "dual-seal steel                      0.84     0.89         0.85       0.87   \n",
       "thermally broken aluminium           0.84     0.89         0.85       0.87   \n",
       "thermoplastic PIB                    0.84     0.89         0.92       0.87   \n",
       "slicone foam                         0.85     0.90         1.00       0.89   \n",
       "dual-seal composite plastic          1.00     1.00         0.98       1.00   \n",
       "\n",
       "Method                          Resources         \n",
       "Unit                            megajoule points  \n",
       "Name                                              \n",
       "composite with corrugated metal      0.77   0.69  \n",
       "epdm foam                            0.76   0.70  \n",
       "single-seal aluminium                0.76   0.71  \n",
       "dual-seal aluminium                  0.76   0.71  \n",
       "dual-seal steel                      0.76   0.71  \n",
       "thermally broken aluminium           0.77   0.71  \n",
       "thermoplastic PIB                    0.77   0.71  \n",
       "slicone foam                         0.80   0.74  \n",
       "dual-seal composite plastic          1.00   1.00  "
      ]
     },
     "execution_count": 56,
     "metadata": {},
     "output_type": "execute_result"
    }
   ],
   "source": [
    "df_norm_impacts_spacers = df_impacts_spacers / df_impacts_spacers.max()\n",
    "df_norm_impacts_spacers.round(2).sort_values(\n",
    "    (\"Climate Change\", \"kg CO2-Eq\"), ascending=True)"
   ]
  },
  {
   "cell_type": "markdown",
   "metadata": {},
   "source": [
    "**Comparative analysis of different infill gases:**"
   ]
  },
  {
   "cell_type": "code",
   "execution_count": 57,
   "metadata": {},
   "outputs": [
    {
     "data": {
      "text/plain": [
       "[{'double glazing production, thermally broken aluminium, air' (square meter, BE, ('building components/windows',)): 1},\n",
       " {'double glazing production, thermally broken aluminium, krypton' (square meter, BE, ('building components/windows',)): 1},\n",
       " {'double glazing production, thermally broken aluminium, argon' (square meter, BE, ('building components/windows',)): 1},\n",
       " {'double glazing production, thermally broken aluminium, xenon' (square meter, BE, ('building components/windows',)): 1}]"
      ]
     },
     "execution_count": 57,
     "metadata": {},
     "output_type": "execute_result"
    }
   ],
   "source": [
    "inv_gas = [act for act in bw.Database(\"exldb_spacers\")\n",
    "           if 'thermally broken aluminium' in act['name']\n",
    "           ]\n",
    "\n",
    "fu_gas = [{igu: 1} for igu in inv_gas]\n",
    "fu_gas"
   ]
  },
  {
   "cell_type": "code",
   "execution_count": 58,
   "metadata": {
    "scrolled": true
   },
   "outputs": [],
   "source": [
    "impacts_gas = []\n",
    "\n",
    "for igu in inv_gas:\n",
    "    lca = bw.LCA({igu: 1})\n",
    "    lca.lci()\n",
    "    for method in methods_small:\n",
    "        lca.switch_method(method)\n",
    "        lca.lcia()\n",
    "        impacts_gas.append((igu[\"name\"], igu[\"location\"],\n",
    "                            method[1].title(), lca.score,\n",
    "                            bw.methods.get(method).get('unit')))\n",
    "\n",
    "# impacts_gas"
   ]
  },
  {
   "cell_type": "code",
   "execution_count": 59,
   "metadata": {
    "scrolled": false
   },
   "outputs": [],
   "source": [
    "df_impacts_gas = pd.DataFrame(\n",
    "    impacts_gas,\n",
    "    columns=[\"Name\", \"Location\", \"Method\", \"Score\", \"Unit\"]\n",
    ")\n",
    "\n",
    "df_impacts_gas = pd.pivot_table(\n",
    "    df_impacts_gas, index=[\"Name\"],\n",
    "    columns=[\"Method\", \"Unit\"], values=\"Score\"\n",
    ")"
   ]
  },
  {
   "cell_type": "code",
   "execution_count": 60,
   "metadata": {},
   "outputs": [],
   "source": [
    "df_impacts_gas = df_impacts_gas.sort_values(\n",
    "    (\"Climate Change\", \"kg CO2-Eq\"), ascending=True\n",
    ")\n",
    "\n",
    "df_impacts_gas = df_impacts_gas.reset_index()\n",
    "df_impacts_gas['Name'] = (df_impacts_gas['Name']\n",
    "                          .str.replace('double glazing production, ', '')\n",
    "                          )\n",
    "\n",
    "df_impacts_gas = df_impacts_gas.set_index('Name')"
   ]
  },
  {
   "cell_type": "code",
   "execution_count": 61,
   "metadata": {},
   "outputs": [
    {
     "data": {
      "text/html": [
       "<div>\n",
       "<style scoped>\n",
       "    .dataframe tbody tr th:only-of-type {\n",
       "        vertical-align: middle;\n",
       "    }\n",
       "\n",
       "    .dataframe tbody tr th {\n",
       "        vertical-align: top;\n",
       "    }\n",
       "\n",
       "    .dataframe thead tr th {\n",
       "        text-align: left;\n",
       "    }\n",
       "\n",
       "    .dataframe thead tr:last-of-type th {\n",
       "        text-align: right;\n",
       "    }\n",
       "</style>\n",
       "<table border=\"1\" class=\"dataframe\">\n",
       "  <thead>\n",
       "    <tr>\n",
       "      <th>Method</th>\n",
       "      <th>Climate Change</th>\n",
       "      <th colspan=\"4\" halign=\"left\">Ecosystem Quality</th>\n",
       "      <th colspan=\"2\" halign=\"left\">Human Health</th>\n",
       "      <th colspan=\"2\" halign=\"left\">Resources</th>\n",
       "    </tr>\n",
       "    <tr>\n",
       "      <th>Unit</th>\n",
       "      <th>kg CO2-Eq</th>\n",
       "      <th>CTU</th>\n",
       "      <th>kg P-Eq</th>\n",
       "      <th>mol H+-Eq</th>\n",
       "      <th>mol N-Eq</th>\n",
       "      <th>kg CFC-11.</th>\n",
       "      <th>kg NMVOC-.</th>\n",
       "      <th>megajoule</th>\n",
       "      <th>points</th>\n",
       "    </tr>\n",
       "    <tr>\n",
       "      <th>Name</th>\n",
       "      <th></th>\n",
       "      <th></th>\n",
       "      <th></th>\n",
       "      <th></th>\n",
       "      <th></th>\n",
       "      <th></th>\n",
       "      <th></th>\n",
       "      <th></th>\n",
       "      <th></th>\n",
       "    </tr>\n",
       "  </thead>\n",
       "  <tbody>\n",
       "    <tr>\n",
       "      <th>thermally broken aluminium, air</th>\n",
       "      <td>46.77</td>\n",
       "      <td>16.87</td>\n",
       "      <td>0.01</td>\n",
       "      <td>0.38</td>\n",
       "      <td>1.01</td>\n",
       "      <td>0.0</td>\n",
       "      <td>0.24</td>\n",
       "      <td>631.98</td>\n",
       "      <td>222.90</td>\n",
       "    </tr>\n",
       "    <tr>\n",
       "      <th>thermally broken aluminium, argon</th>\n",
       "      <td>46.84</td>\n",
       "      <td>16.89</td>\n",
       "      <td>0.01</td>\n",
       "      <td>0.38</td>\n",
       "      <td>1.01</td>\n",
       "      <td>0.0</td>\n",
       "      <td>0.24</td>\n",
       "      <td>633.91</td>\n",
       "      <td>223.54</td>\n",
       "    </tr>\n",
       "    <tr>\n",
       "      <th>thermally broken aluminium, krypton</th>\n",
       "      <td>51.45</td>\n",
       "      <td>18.36</td>\n",
       "      <td>0.01</td>\n",
       "      <td>0.40</td>\n",
       "      <td>1.05</td>\n",
       "      <td>0.0</td>\n",
       "      <td>0.25</td>\n",
       "      <td>707.03</td>\n",
       "      <td>240.35</td>\n",
       "    </tr>\n",
       "    <tr>\n",
       "      <th>thermally broken aluminium, xenon</th>\n",
       "      <td>64.19</td>\n",
       "      <td>22.77</td>\n",
       "      <td>0.02</td>\n",
       "      <td>0.47</td>\n",
       "      <td>1.15</td>\n",
       "      <td>0.0</td>\n",
       "      <td>0.28</td>\n",
       "      <td>1039.04</td>\n",
       "      <td>330.55</td>\n",
       "    </tr>\n",
       "  </tbody>\n",
       "</table>\n",
       "</div>"
      ],
      "text/plain": [
       "Method                              Climate Change Ecosystem Quality          \\\n",
       "Unit                                     kg CO2-Eq               CTU kg P-Eq   \n",
       "Name                                                                           \n",
       "thermally broken aluminium, air              46.77             16.87    0.01   \n",
       "thermally broken aluminium, argon            46.84             16.89    0.01   \n",
       "thermally broken aluminium, krypton          51.45             18.36    0.01   \n",
       "thermally broken aluminium, xenon            64.19             22.77    0.02   \n",
       "\n",
       "Method                                                 Human Health  \\\n",
       "Unit                                mol H+-Eq mol N-Eq   kg CFC-11.   \n",
       "Name                                                                  \n",
       "thermally broken aluminium, air          0.38     1.01          0.0   \n",
       "thermally broken aluminium, argon        0.38     1.01          0.0   \n",
       "thermally broken aluminium, krypton      0.40     1.05          0.0   \n",
       "thermally broken aluminium, xenon        0.47     1.15          0.0   \n",
       "\n",
       "Method                                         Resources          \n",
       "Unit                                kg NMVOC-. megajoule  points  \n",
       "Name                                                              \n",
       "thermally broken aluminium, air           0.24    631.98  222.90  \n",
       "thermally broken aluminium, argon         0.24    633.91  223.54  \n",
       "thermally broken aluminium, krypton       0.25    707.03  240.35  \n",
       "thermally broken aluminium, xenon         0.28   1039.04  330.55  "
      ]
     },
     "execution_count": 61,
     "metadata": {},
     "output_type": "execute_result"
    }
   ],
   "source": [
    "df_impacts_gas.round(2)"
   ]
  },
  {
   "cell_type": "code",
   "execution_count": 62,
   "metadata": {},
   "outputs": [
    {
     "data": {
      "image/png": "[encoded data removed]",
      "text/plain": [
       "<Figure size 504x144 with 1 Axes>"
      ]
     },
     "metadata": {},
     "output_type": "display_data"
    }
   ],
   "source": [
    "fig, ax = plt.subplots(figsize=(7, 2))\n",
    "\n",
    "sns.barplot(data=df_impacts_gas,\n",
    "            x=(\"Climate Change\", \"kg CO2-Eq\"),\n",
    "            y=df_impacts_gas.index,\n",
    "            color=\"lightsteelblue\", linewidth=1.5)\n",
    "\n",
    "ax.yaxis.label.set_visible(False)\n",
    "ax.grid(which='major', axis='x', linestyle=':', linewidth=1)\n",
    "\n",
    "fig.suptitle(\n",
    "    'GWP of double glazing according to insulating gas type,' +\n",
    "    ' cradle-to-gate, per m²', y=1.1)\n",
    "sns.despine(left=True, offset=5)\n",
    "plt.show()"
   ]
  },
  {
   "cell_type": "code",
   "execution_count": 63,
   "metadata": {},
   "outputs": [
    {
     "data": {
      "text/html": [
       "<div>\n",
       "<style scoped>\n",
       "    .dataframe tbody tr th:only-of-type {\n",
       "        vertical-align: middle;\n",
       "    }\n",
       "\n",
       "    .dataframe tbody tr th {\n",
       "        vertical-align: top;\n",
       "    }\n",
       "\n",
       "    .dataframe thead tr th {\n",
       "        text-align: left;\n",
       "    }\n",
       "\n",
       "    .dataframe thead tr:last-of-type th {\n",
       "        text-align: right;\n",
       "    }\n",
       "</style>\n",
       "<table border=\"1\" class=\"dataframe\">\n",
       "  <thead>\n",
       "    <tr>\n",
       "      <th>Method</th>\n",
       "      <th>Climate Change</th>\n",
       "      <th colspan=\"4\" halign=\"left\">Ecosystem Quality</th>\n",
       "      <th colspan=\"2\" halign=\"left\">Human Health</th>\n",
       "      <th colspan=\"2\" halign=\"left\">Resources</th>\n",
       "    </tr>\n",
       "    <tr>\n",
       "      <th>Unit</th>\n",
       "      <th>kg CO2-Eq</th>\n",
       "      <th>CTU</th>\n",
       "      <th>kg P-Eq</th>\n",
       "      <th>mol H+-Eq</th>\n",
       "      <th>mol N-Eq</th>\n",
       "      <th>kg CFC-11.</th>\n",
       "      <th>kg NMVOC-.</th>\n",
       "      <th>megajoule</th>\n",
       "      <th>points</th>\n",
       "    </tr>\n",
       "    <tr>\n",
       "      <th>Name</th>\n",
       "      <th></th>\n",
       "      <th></th>\n",
       "      <th></th>\n",
       "      <th></th>\n",
       "      <th></th>\n",
       "      <th></th>\n",
       "      <th></th>\n",
       "      <th></th>\n",
       "      <th></th>\n",
       "    </tr>\n",
       "  </thead>\n",
       "  <tbody>\n",
       "    <tr>\n",
       "      <th>thermally broken aluminium, air</th>\n",
       "      <td>0.73</td>\n",
       "      <td>0.74</td>\n",
       "      <td>0.23</td>\n",
       "      <td>0.80</td>\n",
       "      <td>0.88</td>\n",
       "      <td>0.85</td>\n",
       "      <td>0.86</td>\n",
       "      <td>0.61</td>\n",
       "      <td>0.67</td>\n",
       "    </tr>\n",
       "    <tr>\n",
       "      <th>thermally broken aluminium, argon</th>\n",
       "      <td>0.73</td>\n",
       "      <td>0.74</td>\n",
       "      <td>0.24</td>\n",
       "      <td>0.80</td>\n",
       "      <td>0.88</td>\n",
       "      <td>0.85</td>\n",
       "      <td>0.86</td>\n",
       "      <td>0.61</td>\n",
       "      <td>0.68</td>\n",
       "    </tr>\n",
       "    <tr>\n",
       "      <th>thermally broken aluminium, krypton</th>\n",
       "      <td>0.80</td>\n",
       "      <td>0.81</td>\n",
       "      <td>0.34</td>\n",
       "      <td>0.85</td>\n",
       "      <td>0.92</td>\n",
       "      <td>0.87</td>\n",
       "      <td>0.90</td>\n",
       "      <td>0.68</td>\n",
       "      <td>0.73</td>\n",
       "    </tr>\n",
       "    <tr>\n",
       "      <th>thermally broken aluminium, xenon</th>\n",
       "      <td>1.00</td>\n",
       "      <td>1.00</td>\n",
       "      <td>1.00</td>\n",
       "      <td>1.00</td>\n",
       "      <td>1.00</td>\n",
       "      <td>1.00</td>\n",
       "      <td>1.00</td>\n",
       "      <td>1.00</td>\n",
       "      <td>1.00</td>\n",
       "    </tr>\n",
       "  </tbody>\n",
       "</table>\n",
       "</div>"
      ],
      "text/plain": [
       "Method                              Climate Change Ecosystem Quality          \\\n",
       "Unit                                     kg CO2-Eq               CTU kg P-Eq   \n",
       "Name                                                                           \n",
       "thermally broken aluminium, air               0.73              0.74    0.23   \n",
       "thermally broken aluminium, argon             0.73              0.74    0.24   \n",
       "thermally broken aluminium, krypton           0.80              0.81    0.34   \n",
       "thermally broken aluminium, xenon             1.00              1.00    1.00   \n",
       "\n",
       "Method                                                 Human Health  \\\n",
       "Unit                                mol H+-Eq mol N-Eq   kg CFC-11.   \n",
       "Name                                                                  \n",
       "thermally broken aluminium, air          0.80     0.88         0.85   \n",
       "thermally broken aluminium, argon        0.80     0.88         0.85   \n",
       "thermally broken aluminium, krypton      0.85     0.92         0.87   \n",
       "thermally broken aluminium, xenon        1.00     1.00         1.00   \n",
       "\n",
       "Method                                         Resources         \n",
       "Unit                                kg NMVOC-. megajoule points  \n",
       "Name                                                             \n",
       "thermally broken aluminium, air           0.86      0.61   0.67  \n",
       "thermally broken aluminium, argon         0.86      0.61   0.68  \n",
       "thermally broken aluminium, krypton       0.90      0.68   0.73  \n",
       "thermally broken aluminium, xenon         1.00      1.00   1.00  "
      ]
     },
     "execution_count": 63,
     "metadata": {},
     "output_type": "execute_result"
    }
   ],
   "source": [
    "df_norm_impacts_gas = df_impacts_gas / df_impacts_gas.max()\n",
    "df_norm_impacts_gas.round(2).sort_values(\n",
    "    (\"Climate Change\", \"kg CO2-Eq\"), ascending=True)"
   ]
  },
  {
   "cell_type": "markdown",
   "metadata": {},
   "source": [
    "## Comparative LCA of Different Designs for IGU, Cradle-to-Gate"
   ]
  },
  {
   "cell_type": "code",
   "execution_count": 64,
   "metadata": {},
   "outputs": [
    {
     "data": {
      "text/plain": [
       "[{'market for triple glazing, lsg, two coatings' (square meter, BE, ('building components', 'windows')): 1},\n",
       " {'market for single glazing, lsg, coated' (square meter, BE, ('building components', 'windows')): 1},\n",
       " {'market for double glazing, lsg, vacuum' (square meter, BE, ('building components', 'windows')): 1},\n",
       " {'market for double glazing, lsg, two coatings' (square meter, BE, ('building components', 'windows')): 1},\n",
       " {'market for double glazing, lsg' (square meter, BE, ('building components', 'windows')): 1},\n",
       " {'market for double glazing, lsg, two coatings, xenon' (square meter, BE, ('building components', 'windows')): 1},\n",
       " {'market for single glazing, lsg' (square meter, BE, ('building components', 'windows')): 1},\n",
       " {'market for triple glazing, coated' (square meter, BE, ('building components', 'windows')): 1},\n",
       " {'market for triple glazing, lsg, coated' (square meter, BE, ('building components', 'windows')): 1},\n",
       " {'market for triple glazing, lsg, two coatings, xenon' (square meter, BE, ('building components', 'windows')): 1},\n",
       " {'market for triple glazing, lsg, two coatings, krypton' (square meter, BE, ('building components', 'windows')): 1},\n",
       " {'market for double glazing, lsg, coated, krypton' (square meter, BE, ('building components', 'windows')): 1},\n",
       " {'market for double glazing, lsg, coated' (square meter, BE, ('building components', 'windows')): 1},\n",
       " {'market for double glazing, coated' (square meter, BE, ('building components', 'windows')): 1},\n",
       " {'market for smart glass, double glazing' (square meter, BE, ('building components', 'windows')): 1}]"
      ]
     },
     "execution_count": 64,
     "metadata": {},
     "output_type": "execute_result"
    }
   ],
   "source": [
    "inv_igus = [act for act in bw.Database(\"exldb_igu\")\n",
    "            if 'market' in act['name']\n",
    "            and ('glazing' in act['name']\n",
    "            or 'vacuum' in act['name'])\n",
    "            ]\n",
    "\n",
    "fu_igus = [{igu: 1} for igu in inv_igus]\n",
    "\n",
    "fu_igus"
   ]
  },
  {
   "cell_type": "code",
   "execution_count": 65,
   "metadata": {
    "scrolled": true
   },
   "outputs": [],
   "source": [
    "impacts_igus = []\n",
    "\n",
    "for igu in inv_igus:\n",
    "    lca = bw.LCA({igu: 1})\n",
    "    lca.lci()\n",
    "    for method in methods_small:\n",
    "        lca.switch_method(method)\n",
    "        lca.lcia()\n",
    "        impacts_igus.append((igu[\"name\"], igu[\"location\"],\n",
    "                             method[1].title(), lca.score,\n",
    "                             bw.methods.get(method).get('unit')))\n",
    "\n",
    "# impacts_igus"
   ]
  },
  {
   "cell_type": "code",
   "execution_count": 66,
   "metadata": {
    "scrolled": false
   },
   "outputs": [],
   "source": [
    "df_impacts_igus = pd.DataFrame(\n",
    "    impacts_igus,\n",
    "    columns=[\"Name\", \"Location\", \"Method\", \"Score\", \"Unit\"]\n",
    ")\n",
    "\n",
    "df_impacts_igus = pd.pivot_table(\n",
    "    df_impacts_igus, index=[\"Name\"],\n",
    "    columns=[\"Method\", \"Unit\"], values=\"Score\"\n",
    ")"
   ]
  },
  {
   "cell_type": "code",
   "execution_count": 67,
   "metadata": {},
   "outputs": [],
   "source": [
    "df_impacts_igus = df_impacts_igus.sort_values(\n",
    "    (\"Climate Change\", \"kg CO2-Eq\"), ascending=True\n",
    ")\n",
    "\n",
    "df_impacts_igus = df_impacts_igus.reset_index()\n",
    "df_impacts_igus['Name'] = (df_impacts_igus['Name']\n",
    "                           .str.replace('market for ', ''))\n",
    "\n",
    "df_impacts_igus = df_impacts_igus.set_index('Name')"
   ]
  },
  {
   "cell_type": "code",
   "execution_count": 68,
   "metadata": {},
   "outputs": [
    {
     "data": {
      "text/html": [
       "<div>\n",
       "<style scoped>\n",
       "    .dataframe tbody tr th:only-of-type {\n",
       "        vertical-align: middle;\n",
       "    }\n",
       "\n",
       "    .dataframe tbody tr th {\n",
       "        vertical-align: top;\n",
       "    }\n",
       "\n",
       "    .dataframe thead tr th {\n",
       "        text-align: left;\n",
       "    }\n",
       "\n",
       "    .dataframe thead tr:last-of-type th {\n",
       "        text-align: right;\n",
       "    }\n",
       "</style>\n",
       "<table border=\"1\" class=\"dataframe\">\n",
       "  <thead>\n",
       "    <tr>\n",
       "      <th>Method</th>\n",
       "      <th>Climate Change</th>\n",
       "      <th colspan=\"4\" halign=\"left\">Ecosystem Quality</th>\n",
       "      <th colspan=\"2\" halign=\"left\">Human Health</th>\n",
       "      <th colspan=\"2\" halign=\"left\">Resources</th>\n",
       "    </tr>\n",
       "    <tr>\n",
       "      <th>Unit</th>\n",
       "      <th>kg CO2-Eq</th>\n",
       "      <th>CTU</th>\n",
       "      <th>kg P-Eq</th>\n",
       "      <th>mol H+-Eq</th>\n",
       "      <th>mol N-Eq</th>\n",
       "      <th>kg CFC-11.</th>\n",
       "      <th>kg NMVOC-.</th>\n",
       "      <th>megajoule</th>\n",
       "      <th>points</th>\n",
       "    </tr>\n",
       "    <tr>\n",
       "      <th>Name</th>\n",
       "      <th></th>\n",
       "      <th></th>\n",
       "      <th></th>\n",
       "      <th></th>\n",
       "      <th></th>\n",
       "      <th></th>\n",
       "      <th></th>\n",
       "      <th></th>\n",
       "      <th></th>\n",
       "    </tr>\n",
       "  </thead>\n",
       "  <tbody>\n",
       "    <tr>\n",
       "      <th>single glazing, lsg</th>\n",
       "      <td>38.01</td>\n",
       "      <td>14.19</td>\n",
       "      <td>0.01</td>\n",
       "      <td>0.26</td>\n",
       "      <td>0.71</td>\n",
       "      <td>0.0</td>\n",
       "      <td>0.17</td>\n",
       "      <td>640.29</td>\n",
       "      <td>210.22</td>\n",
       "    </tr>\n",
       "    <tr>\n",
       "      <th>single glazing, lsg, coated</th>\n",
       "      <td>38.83</td>\n",
       "      <td>15.24</td>\n",
       "      <td>0.01</td>\n",
       "      <td>0.27</td>\n",
       "      <td>0.72</td>\n",
       "      <td>0.0</td>\n",
       "      <td>0.18</td>\n",
       "      <td>657.20</td>\n",
       "      <td>231.56</td>\n",
       "    </tr>\n",
       "    <tr>\n",
       "      <th>double glazing, coated</th>\n",
       "      <td>48.10</td>\n",
       "      <td>19.50</td>\n",
       "      <td>0.01</td>\n",
       "      <td>0.38</td>\n",
       "      <td>1.03</td>\n",
       "      <td>0.0</td>\n",
       "      <td>0.25</td>\n",
       "      <td>651.46</td>\n",
       "      <td>241.37</td>\n",
       "    </tr>\n",
       "    <tr>\n",
       "      <th>double glazing, lsg</th>\n",
       "      <td>62.16</td>\n",
       "      <td>24.81</td>\n",
       "      <td>0.01</td>\n",
       "      <td>0.45</td>\n",
       "      <td>1.21</td>\n",
       "      <td>0.0</td>\n",
       "      <td>0.29</td>\n",
       "      <td>974.92</td>\n",
       "      <td>322.95</td>\n",
       "    </tr>\n",
       "    <tr>\n",
       "      <th>double glazing, lsg, coated</th>\n",
       "      <td>63.45</td>\n",
       "      <td>26.46</td>\n",
       "      <td>0.01</td>\n",
       "      <td>0.47</td>\n",
       "      <td>1.24</td>\n",
       "      <td>0.0</td>\n",
       "      <td>0.30</td>\n",
       "      <td>1001.44</td>\n",
       "      <td>356.43</td>\n",
       "    </tr>\n",
       "    <tr>\n",
       "      <th>double glazing, lsg, two coatings</th>\n",
       "      <td>64.27</td>\n",
       "      <td>27.51</td>\n",
       "      <td>0.01</td>\n",
       "      <td>0.47</td>\n",
       "      <td>1.25</td>\n",
       "      <td>0.0</td>\n",
       "      <td>0.30</td>\n",
       "      <td>1018.35</td>\n",
       "      <td>377.77</td>\n",
       "    </tr>\n",
       "    <tr>\n",
       "      <th>double glazing, lsg, vacuum</th>\n",
       "      <td>65.37</td>\n",
       "      <td>23.64</td>\n",
       "      <td>0.01</td>\n",
       "      <td>0.47</td>\n",
       "      <td>1.25</td>\n",
       "      <td>0.0</td>\n",
       "      <td>0.30</td>\n",
       "      <td>1028.08</td>\n",
       "      <td>351.59</td>\n",
       "    </tr>\n",
       "    <tr>\n",
       "      <th>triple glazing, coated</th>\n",
       "      <td>66.00</td>\n",
       "      <td>27.30</td>\n",
       "      <td>0.01</td>\n",
       "      <td>0.53</td>\n",
       "      <td>1.41</td>\n",
       "      <td>0.0</td>\n",
       "      <td>0.34</td>\n",
       "      <td>895.11</td>\n",
       "      <td>320.21</td>\n",
       "    </tr>\n",
       "    <tr>\n",
       "      <th>double glazing, lsg, coated, krypton</th>\n",
       "      <td>68.63</td>\n",
       "      <td>28.11</td>\n",
       "      <td>0.01</td>\n",
       "      <td>0.49</td>\n",
       "      <td>1.29</td>\n",
       "      <td>0.0</td>\n",
       "      <td>0.31</td>\n",
       "      <td>1083.53</td>\n",
       "      <td>375.29</td>\n",
       "    </tr>\n",
       "    <tr>\n",
       "      <th>triple glazing, lsg, two coatings</th>\n",
       "      <td>81.37</td>\n",
       "      <td>33.19</td>\n",
       "      <td>0.01</td>\n",
       "      <td>0.61</td>\n",
       "      <td>1.62</td>\n",
       "      <td>0.0</td>\n",
       "      <td>0.39</td>\n",
       "      <td>1249.86</td>\n",
       "      <td>444.43</td>\n",
       "    </tr>\n",
       "    <tr>\n",
       "      <th>triple glazing, lsg, coated</th>\n",
       "      <td>81.66</td>\n",
       "      <td>35.09</td>\n",
       "      <td>0.01</td>\n",
       "      <td>0.61</td>\n",
       "      <td>1.62</td>\n",
       "      <td>0.0</td>\n",
       "      <td>0.39</td>\n",
       "      <td>1249.81</td>\n",
       "      <td>440.00</td>\n",
       "    </tr>\n",
       "    <tr>\n",
       "      <th>double glazing, lsg, two coatings, xenon</th>\n",
       "      <td>83.78</td>\n",
       "      <td>34.12</td>\n",
       "      <td>0.03</td>\n",
       "      <td>0.58</td>\n",
       "      <td>1.41</td>\n",
       "      <td>0.0</td>\n",
       "      <td>0.35</td>\n",
       "      <td>1473.95</td>\n",
       "      <td>498.10</td>\n",
       "    </tr>\n",
       "    <tr>\n",
       "      <th>triple glazing, lsg, two coatings, krypton</th>\n",
       "      <td>91.75</td>\n",
       "      <td>36.48</td>\n",
       "      <td>0.02</td>\n",
       "      <td>0.66</td>\n",
       "      <td>1.72</td>\n",
       "      <td>0.0</td>\n",
       "      <td>0.42</td>\n",
       "      <td>1414.03</td>\n",
       "      <td>482.16</td>\n",
       "    </tr>\n",
       "    <tr>\n",
       "      <th>triple glazing, lsg, two coatings, xenon</th>\n",
       "      <td>120.40</td>\n",
       "      <td>46.41</td>\n",
       "      <td>0.05</td>\n",
       "      <td>0.82</td>\n",
       "      <td>1.94</td>\n",
       "      <td>0.0</td>\n",
       "      <td>0.48</td>\n",
       "      <td>2161.07</td>\n",
       "      <td>685.10</td>\n",
       "    </tr>\n",
       "    <tr>\n",
       "      <th>smart glass, double glazing</th>\n",
       "      <td>701.06</td>\n",
       "      <td>1677.25</td>\n",
       "      <td>0.23</td>\n",
       "      <td>3.29</td>\n",
       "      <td>9.85</td>\n",
       "      <td>0.0</td>\n",
       "      <td>2.83</td>\n",
       "      <td>10849.11</td>\n",
       "      <td>9099.59</td>\n",
       "    </tr>\n",
       "  </tbody>\n",
       "</table>\n",
       "</div>"
      ],
      "text/plain": [
       "Method                                     Climate Change Ecosystem Quality  \\\n",
       "Unit                                            kg CO2-Eq               CTU   \n",
       "Name                                                                          \n",
       "single glazing, lsg                                 38.01             14.19   \n",
       "single glazing, lsg, coated                         38.83             15.24   \n",
       "double glazing, coated                              48.10             19.50   \n",
       "double glazing, lsg                                 62.16             24.81   \n",
       "double glazing, lsg, coated                         63.45             26.46   \n",
       "double glazing, lsg, two coatings                   64.27             27.51   \n",
       "double glazing, lsg, vacuum                         65.37             23.64   \n",
       "triple glazing, coated                              66.00             27.30   \n",
       "double glazing, lsg, coated, krypton                68.63             28.11   \n",
       "triple glazing, lsg, two coatings                   81.37             33.19   \n",
       "triple glazing, lsg, coated                         81.66             35.09   \n",
       "double glazing, lsg, two coatings, xenon            83.78             34.12   \n",
       "triple glazing, lsg, two coatings, krypton          91.75             36.48   \n",
       "triple glazing, lsg, two coatings, xenon           120.40             46.41   \n",
       "smart glass, double glazing                        701.06           1677.25   \n",
       "\n",
       "Method                                                                 \\\n",
       "Unit                                       kg P-Eq mol H+-Eq mol N-Eq   \n",
       "Name                                                                    \n",
       "single glazing, lsg                           0.01      0.26     0.71   \n",
       "single glazing, lsg, coated                   0.01      0.27     0.72   \n",
       "double glazing, coated                        0.01      0.38     1.03   \n",
       "double glazing, lsg                           0.01      0.45     1.21   \n",
       "double glazing, lsg, coated                   0.01      0.47     1.24   \n",
       "double glazing, lsg, two coatings             0.01      0.47     1.25   \n",
       "double glazing, lsg, vacuum                   0.01      0.47     1.25   \n",
       "triple glazing, coated                        0.01      0.53     1.41   \n",
       "double glazing, lsg, coated, krypton          0.01      0.49     1.29   \n",
       "triple glazing, lsg, two coatings             0.01      0.61     1.62   \n",
       "triple glazing, lsg, coated                   0.01      0.61     1.62   \n",
       "double glazing, lsg, two coatings, xenon      0.03      0.58     1.41   \n",
       "triple glazing, lsg, two coatings, krypton    0.02      0.66     1.72   \n",
       "triple glazing, lsg, two coatings, xenon      0.05      0.82     1.94   \n",
       "smart glass, double glazing                   0.23      3.29     9.85   \n",
       "\n",
       "Method                                     Human Health            Resources  \\\n",
       "Unit                                         kg CFC-11. kg NMVOC-. megajoule   \n",
       "Name                                                                           \n",
       "single glazing, lsg                                 0.0       0.17    640.29   \n",
       "single glazing, lsg, coated                         0.0       0.18    657.20   \n",
       "double glazing, coated                              0.0       0.25    651.46   \n",
       "double glazing, lsg                                 0.0       0.29    974.92   \n",
       "double glazing, lsg, coated                         0.0       0.30   1001.44   \n",
       "double glazing, lsg, two coatings                   0.0       0.30   1018.35   \n",
       "double glazing, lsg, vacuum                         0.0       0.30   1028.08   \n",
       "triple glazing, coated                              0.0       0.34    895.11   \n",
       "double glazing, lsg, coated, krypton                0.0       0.31   1083.53   \n",
       "triple glazing, lsg, two coatings                   0.0       0.39   1249.86   \n",
       "triple glazing, lsg, coated                         0.0       0.39   1249.81   \n",
       "double glazing, lsg, two coatings, xenon            0.0       0.35   1473.95   \n",
       "triple glazing, lsg, two coatings, krypton          0.0       0.42   1414.03   \n",
       "triple glazing, lsg, two coatings, xenon            0.0       0.48   2161.07   \n",
       "smart glass, double glazing                         0.0       2.83  10849.11   \n",
       "\n",
       "Method                                               \n",
       "Unit                                         points  \n",
       "Name                                                 \n",
       "single glazing, lsg                          210.22  \n",
       "single glazing, lsg, coated                  231.56  \n",
       "double glazing, coated                       241.37  \n",
       "double glazing, lsg                          322.95  \n",
       "double glazing, lsg, coated                  356.43  \n",
       "double glazing, lsg, two coatings            377.77  \n",
       "double glazing, lsg, vacuum                  351.59  \n",
       "triple glazing, coated                       320.21  \n",
       "double glazing, lsg, coated, krypton         375.29  \n",
       "triple glazing, lsg, two coatings            444.43  \n",
       "triple glazing, lsg, coated                  440.00  \n",
       "double glazing, lsg, two coatings, xenon     498.10  \n",
       "triple glazing, lsg, two coatings, krypton   482.16  \n",
       "triple glazing, lsg, two coatings, xenon     685.10  \n",
       "smart glass, double glazing                 9099.59  "
      ]
     },
     "execution_count": 68,
     "metadata": {},
     "output_type": "execute_result"
    }
   ],
   "source": [
    "df_impacts_igus.round(2)"
   ]
  },
  {
   "cell_type": "code",
   "execution_count": 69,
   "metadata": {},
   "outputs": [
    {
     "data": {
      "image/png": "[encoded data removed]",
      "text/plain": [
       "<Figure size 864x432 with 1 Axes>"
      ]
     },
     "metadata": {},
     "output_type": "display_data"
    }
   ],
   "source": [
    "fig, ax = plt.subplots(figsize=(12, 6))\n",
    "\n",
    "df_impacts_igus_wo_smartg = df_impacts_igus.drop(\n",
    "    \"smart glass, double glazing\", axis=0\n",
    ")\n",
    "\n",
    "sns.barplot(data=df_impacts_igus_wo_smartg,\n",
    "            x=(\"Climate Change\", \"kg CO2-Eq\"),\n",
    "            y=df_impacts_igus_wo_smartg.index,\n",
    "            color=\"lightsteelblue\", linewidth=1.5)\n",
    "\n",
    "ax.yaxis.label.set_visible(False)\n",
    "ax.grid(which='major', axis='x', linestyle=':', linewidth=1)\n",
    "\n",
    "fig.suptitle(\n",
    "    'GWP of different design of IGUs, cradle-to-gate, per m²')\n",
    "sns.despine(left=True, offset=5)\n",
    "plt.show()"
   ]
  },
  {
   "cell_type": "code",
   "execution_count": 70,
   "metadata": {},
   "outputs": [
    {
     "data": {
      "text/html": [
       "<div>\n",
       "<style scoped>\n",
       "    .dataframe tbody tr th:only-of-type {\n",
       "        vertical-align: middle;\n",
       "    }\n",
       "\n",
       "    .dataframe tbody tr th {\n",
       "        vertical-align: top;\n",
       "    }\n",
       "\n",
       "    .dataframe thead tr th {\n",
       "        text-align: left;\n",
       "    }\n",
       "\n",
       "    .dataframe thead tr:last-of-type th {\n",
       "        text-align: right;\n",
       "    }\n",
       "</style>\n",
       "<table border=\"1\" class=\"dataframe\">\n",
       "  <thead>\n",
       "    <tr>\n",
       "      <th>Method</th>\n",
       "      <th>Climate Change</th>\n",
       "      <th colspan=\"4\" halign=\"left\">Ecosystem Quality</th>\n",
       "      <th colspan=\"2\" halign=\"left\">Human Health</th>\n",
       "      <th colspan=\"2\" halign=\"left\">Resources</th>\n",
       "    </tr>\n",
       "    <tr>\n",
       "      <th>Unit</th>\n",
       "      <th>kg CO2-Eq</th>\n",
       "      <th>CTU</th>\n",
       "      <th>kg P-Eq</th>\n",
       "      <th>mol H+-Eq</th>\n",
       "      <th>mol N-Eq</th>\n",
       "      <th>kg CFC-11.</th>\n",
       "      <th>kg NMVOC-.</th>\n",
       "      <th>megajoule</th>\n",
       "      <th>points</th>\n",
       "    </tr>\n",
       "    <tr>\n",
       "      <th>Name</th>\n",
       "      <th></th>\n",
       "      <th></th>\n",
       "      <th></th>\n",
       "      <th></th>\n",
       "      <th></th>\n",
       "      <th></th>\n",
       "      <th></th>\n",
       "      <th></th>\n",
       "      <th></th>\n",
       "    </tr>\n",
       "  </thead>\n",
       "  <tbody>\n",
       "    <tr>\n",
       "      <th>single glazing, lsg</th>\n",
       "      <td>0.32</td>\n",
       "      <td>0.31</td>\n",
       "      <td>0.11</td>\n",
       "      <td>0.32</td>\n",
       "      <td>0.36</td>\n",
       "      <td>0.48</td>\n",
       "      <td>0.36</td>\n",
       "      <td>0.30</td>\n",
       "      <td>0.31</td>\n",
       "    </tr>\n",
       "    <tr>\n",
       "      <th>single glazing, lsg, coated</th>\n",
       "      <td>0.32</td>\n",
       "      <td>0.33</td>\n",
       "      <td>0.11</td>\n",
       "      <td>0.33</td>\n",
       "      <td>0.37</td>\n",
       "      <td>0.48</td>\n",
       "      <td>0.37</td>\n",
       "      <td>0.30</td>\n",
       "      <td>0.34</td>\n",
       "    </tr>\n",
       "    <tr>\n",
       "      <th>double glazing, coated</th>\n",
       "      <td>0.40</td>\n",
       "      <td>0.42</td>\n",
       "      <td>0.11</td>\n",
       "      <td>0.47</td>\n",
       "      <td>0.53</td>\n",
       "      <td>0.42</td>\n",
       "      <td>0.52</td>\n",
       "      <td>0.30</td>\n",
       "      <td>0.35</td>\n",
       "    </tr>\n",
       "    <tr>\n",
       "      <th>double glazing, lsg</th>\n",
       "      <td>0.52</td>\n",
       "      <td>0.53</td>\n",
       "      <td>0.16</td>\n",
       "      <td>0.56</td>\n",
       "      <td>0.63</td>\n",
       "      <td>0.69</td>\n",
       "      <td>0.62</td>\n",
       "      <td>0.45</td>\n",
       "      <td>0.47</td>\n",
       "    </tr>\n",
       "    <tr>\n",
       "      <th>double glazing, lsg, coated</th>\n",
       "      <td>0.53</td>\n",
       "      <td>0.57</td>\n",
       "      <td>0.17</td>\n",
       "      <td>0.57</td>\n",
       "      <td>0.64</td>\n",
       "      <td>0.70</td>\n",
       "      <td>0.63</td>\n",
       "      <td>0.46</td>\n",
       "      <td>0.52</td>\n",
       "    </tr>\n",
       "    <tr>\n",
       "      <th>double glazing, lsg, two coatings</th>\n",
       "      <td>0.53</td>\n",
       "      <td>0.59</td>\n",
       "      <td>0.18</td>\n",
       "      <td>0.58</td>\n",
       "      <td>0.65</td>\n",
       "      <td>0.70</td>\n",
       "      <td>0.64</td>\n",
       "      <td>0.47</td>\n",
       "      <td>0.55</td>\n",
       "    </tr>\n",
       "    <tr>\n",
       "      <th>double glazing, lsg, vacuum</th>\n",
       "      <td>0.54</td>\n",
       "      <td>0.51</td>\n",
       "      <td>0.16</td>\n",
       "      <td>0.57</td>\n",
       "      <td>0.65</td>\n",
       "      <td>0.71</td>\n",
       "      <td>0.64</td>\n",
       "      <td>0.48</td>\n",
       "      <td>0.51</td>\n",
       "    </tr>\n",
       "    <tr>\n",
       "      <th>triple glazing, coated</th>\n",
       "      <td>0.55</td>\n",
       "      <td>0.59</td>\n",
       "      <td>0.15</td>\n",
       "      <td>0.64</td>\n",
       "      <td>0.73</td>\n",
       "      <td>0.57</td>\n",
       "      <td>0.71</td>\n",
       "      <td>0.41</td>\n",
       "      <td>0.47</td>\n",
       "    </tr>\n",
       "    <tr>\n",
       "      <th>double glazing, lsg, coated, krypton</th>\n",
       "      <td>0.57</td>\n",
       "      <td>0.61</td>\n",
       "      <td>0.22</td>\n",
       "      <td>0.60</td>\n",
       "      <td>0.66</td>\n",
       "      <td>0.71</td>\n",
       "      <td>0.66</td>\n",
       "      <td>0.50</td>\n",
       "      <td>0.55</td>\n",
       "    </tr>\n",
       "    <tr>\n",
       "      <th>triple glazing, lsg, two coatings</th>\n",
       "      <td>0.68</td>\n",
       "      <td>0.72</td>\n",
       "      <td>0.22</td>\n",
       "      <td>0.75</td>\n",
       "      <td>0.84</td>\n",
       "      <td>0.84</td>\n",
       "      <td>0.82</td>\n",
       "      <td>0.58</td>\n",
       "      <td>0.65</td>\n",
       "    </tr>\n",
       "    <tr>\n",
       "      <th>triple glazing, lsg, coated</th>\n",
       "      <td>0.68</td>\n",
       "      <td>0.76</td>\n",
       "      <td>0.21</td>\n",
       "      <td>0.74</td>\n",
       "      <td>0.84</td>\n",
       "      <td>0.85</td>\n",
       "      <td>0.82</td>\n",
       "      <td>0.58</td>\n",
       "      <td>0.64</td>\n",
       "    </tr>\n",
       "    <tr>\n",
       "      <th>double glazing, lsg, two coatings, xenon</th>\n",
       "      <td>0.70</td>\n",
       "      <td>0.74</td>\n",
       "      <td>0.57</td>\n",
       "      <td>0.70</td>\n",
       "      <td>0.73</td>\n",
       "      <td>0.78</td>\n",
       "      <td>0.73</td>\n",
       "      <td>0.68</td>\n",
       "      <td>0.73</td>\n",
       "    </tr>\n",
       "    <tr>\n",
       "      <th>triple glazing, lsg, two coatings, krypton</th>\n",
       "      <td>0.76</td>\n",
       "      <td>0.79</td>\n",
       "      <td>0.32</td>\n",
       "      <td>0.81</td>\n",
       "      <td>0.89</td>\n",
       "      <td>0.87</td>\n",
       "      <td>0.87</td>\n",
       "      <td>0.65</td>\n",
       "      <td>0.70</td>\n",
       "    </tr>\n",
       "    <tr>\n",
       "      <th>triple glazing, lsg, two coatings, xenon</th>\n",
       "      <td>1.00</td>\n",
       "      <td>1.00</td>\n",
       "      <td>1.00</td>\n",
       "      <td>1.00</td>\n",
       "      <td>1.00</td>\n",
       "      <td>1.00</td>\n",
       "      <td>1.00</td>\n",
       "      <td>1.00</td>\n",
       "      <td>1.00</td>\n",
       "    </tr>\n",
       "  </tbody>\n",
       "</table>\n",
       "</div>"
      ],
      "text/plain": [
       "Method                                     Climate Change Ecosystem Quality  \\\n",
       "Unit                                            kg CO2-Eq               CTU   \n",
       "Name                                                                          \n",
       "single glazing, lsg                                  0.32              0.31   \n",
       "single glazing, lsg, coated                          0.32              0.33   \n",
       "double glazing, coated                               0.40              0.42   \n",
       "double glazing, lsg                                  0.52              0.53   \n",
       "double glazing, lsg, coated                          0.53              0.57   \n",
       "double glazing, lsg, two coatings                    0.53              0.59   \n",
       "double glazing, lsg, vacuum                          0.54              0.51   \n",
       "triple glazing, coated                               0.55              0.59   \n",
       "double glazing, lsg, coated, krypton                 0.57              0.61   \n",
       "triple glazing, lsg, two coatings                    0.68              0.72   \n",
       "triple glazing, lsg, coated                          0.68              0.76   \n",
       "double glazing, lsg, two coatings, xenon             0.70              0.74   \n",
       "triple glazing, lsg, two coatings, krypton           0.76              0.79   \n",
       "triple glazing, lsg, two coatings, xenon             1.00              1.00   \n",
       "\n",
       "Method                                                                 \\\n",
       "Unit                                       kg P-Eq mol H+-Eq mol N-Eq   \n",
       "Name                                                                    \n",
       "single glazing, lsg                           0.11      0.32     0.36   \n",
       "single glazing, lsg, coated                   0.11      0.33     0.37   \n",
       "double glazing, coated                        0.11      0.47     0.53   \n",
       "double glazing, lsg                           0.16      0.56     0.63   \n",
       "double glazing, lsg, coated                   0.17      0.57     0.64   \n",
       "double glazing, lsg, two coatings             0.18      0.58     0.65   \n",
       "double glazing, lsg, vacuum                   0.16      0.57     0.65   \n",
       "triple glazing, coated                        0.15      0.64     0.73   \n",
       "double glazing, lsg, coated, krypton          0.22      0.60     0.66   \n",
       "triple glazing, lsg, two coatings             0.22      0.75     0.84   \n",
       "triple glazing, lsg, coated                   0.21      0.74     0.84   \n",
       "double glazing, lsg, two coatings, xenon      0.57      0.70     0.73   \n",
       "triple glazing, lsg, two coatings, krypton    0.32      0.81     0.89   \n",
       "triple glazing, lsg, two coatings, xenon      1.00      1.00     1.00   \n",
       "\n",
       "Method                                     Human Health            Resources  \\\n",
       "Unit                                         kg CFC-11. kg NMVOC-. megajoule   \n",
       "Name                                                                           \n",
       "single glazing, lsg                                0.48       0.36      0.30   \n",
       "single glazing, lsg, coated                        0.48       0.37      0.30   \n",
       "double glazing, coated                             0.42       0.52      0.30   \n",
       "double glazing, lsg                                0.69       0.62      0.45   \n",
       "double glazing, lsg, coated                        0.70       0.63      0.46   \n",
       "double glazing, lsg, two coatings                  0.70       0.64      0.47   \n",
       "double glazing, lsg, vacuum                        0.71       0.64      0.48   \n",
       "triple glazing, coated                             0.57       0.71      0.41   \n",
       "double glazing, lsg, coated, krypton               0.71       0.66      0.50   \n",
       "triple glazing, lsg, two coatings                  0.84       0.82      0.58   \n",
       "triple glazing, lsg, coated                        0.85       0.82      0.58   \n",
       "double glazing, lsg, two coatings, xenon           0.78       0.73      0.68   \n",
       "triple glazing, lsg, two coatings, krypton         0.87       0.87      0.65   \n",
       "triple glazing, lsg, two coatings, xenon           1.00       1.00      1.00   \n",
       "\n",
       "Method                                             \n",
       "Unit                                       points  \n",
       "Name                                               \n",
       "single glazing, lsg                          0.31  \n",
       "single glazing, lsg, coated                  0.34  \n",
       "double glazing, coated                       0.35  \n",
       "double glazing, lsg                          0.47  \n",
       "double glazing, lsg, coated                  0.52  \n",
       "double glazing, lsg, two coatings            0.55  \n",
       "double glazing, lsg, vacuum                  0.51  \n",
       "triple glazing, coated                       0.47  \n",
       "double glazing, lsg, coated, krypton         0.55  \n",
       "triple glazing, lsg, two coatings            0.65  \n",
       "triple glazing, lsg, coated                  0.64  \n",
       "double glazing, lsg, two coatings, xenon     0.73  \n",
       "triple glazing, lsg, two coatings, krypton   0.70  \n",
       "triple glazing, lsg, two coatings, xenon     1.00  "
      ]
     },
     "execution_count": 70,
     "metadata": {},
     "output_type": "execute_result"
    }
   ],
   "source": [
    "df_norm_impacts_igus_wo_smartg = (\n",
    "    df_impacts_igus_wo_smartg / df_impacts_igus_wo_smartg.max()\n",
    ")\n",
    "\n",
    "df_norm_impacts_igus_wo_smartg.round(2).sort_values(\n",
    "    (\"Climate Change\", \"kg CO2-Eq\"), ascending=True)"
   ]
  },
  {
   "cell_type": "code",
   "execution_count": 71,
   "metadata": {},
   "outputs": [
    {
     "data": {
      "image/png": "[encoded data removed]",
      "text/plain": [
       "<Figure size 864x468 with 1 Axes>"
      ]
     },
     "metadata": {},
     "output_type": "display_data"
    }
   ],
   "source": [
    "fig, ax = plt.subplots(figsize=(12, 6.5))\n",
    "\n",
    "sns.barplot(data=df_impacts_igus,\n",
    "            x=(\"Climate Change\", \"kg CO2-Eq\"),\n",
    "            y=df_impacts_igus.index,\n",
    "            color=\"lightsteelblue\", linewidth=1.5)\n",
    "\n",
    "ax.yaxis.label.set_visible(False)\n",
    "ax.grid(which='major', axis='x', linestyle=':', linewidth=1)\n",
    "\n",
    "fig.suptitle(\n",
    "    'GWP of different design of IGUs, cradle-to-gate, per m²')\n",
    "sns.despine(left=True, offset=5)\n",
    "plt.show()"
   ]
  },
  {
   "cell_type": "code",
   "execution_count": 72,
   "metadata": {},
   "outputs": [
    {
     "data": {
      "text/html": [
       "<div>\n",
       "<style scoped>\n",
       "    .dataframe tbody tr th:only-of-type {\n",
       "        vertical-align: middle;\n",
       "    }\n",
       "\n",
       "    .dataframe tbody tr th {\n",
       "        vertical-align: top;\n",
       "    }\n",
       "\n",
       "    .dataframe thead tr th {\n",
       "        text-align: left;\n",
       "    }\n",
       "\n",
       "    .dataframe thead tr:last-of-type th {\n",
       "        text-align: right;\n",
       "    }\n",
       "</style>\n",
       "<table border=\"1\" class=\"dataframe\">\n",
       "  <thead>\n",
       "    <tr>\n",
       "      <th>Method</th>\n",
       "      <th>Climate Change</th>\n",
       "      <th colspan=\"4\" halign=\"left\">Ecosystem Quality</th>\n",
       "      <th colspan=\"2\" halign=\"left\">Human Health</th>\n",
       "      <th colspan=\"2\" halign=\"left\">Resources</th>\n",
       "    </tr>\n",
       "    <tr>\n",
       "      <th>Unit</th>\n",
       "      <th>kg CO2-Eq</th>\n",
       "      <th>CTU</th>\n",
       "      <th>kg P-Eq</th>\n",
       "      <th>mol H+-Eq</th>\n",
       "      <th>mol N-Eq</th>\n",
       "      <th>kg CFC-11.</th>\n",
       "      <th>kg NMVOC-.</th>\n",
       "      <th>megajoule</th>\n",
       "      <th>points</th>\n",
       "    </tr>\n",
       "    <tr>\n",
       "      <th>Name</th>\n",
       "      <th></th>\n",
       "      <th></th>\n",
       "      <th></th>\n",
       "      <th></th>\n",
       "      <th></th>\n",
       "      <th></th>\n",
       "      <th></th>\n",
       "      <th></th>\n",
       "      <th></th>\n",
       "    </tr>\n",
       "  </thead>\n",
       "  <tbody>\n",
       "    <tr>\n",
       "      <th>single glazing, lsg</th>\n",
       "      <td>0.05</td>\n",
       "      <td>0.01</td>\n",
       "      <td>0.02</td>\n",
       "      <td>0.08</td>\n",
       "      <td>0.07</td>\n",
       "      <td>0.04</td>\n",
       "      <td>0.06</td>\n",
       "      <td>0.06</td>\n",
       "      <td>0.02</td>\n",
       "    </tr>\n",
       "    <tr>\n",
       "      <th>single glazing, lsg, coated</th>\n",
       "      <td>0.06</td>\n",
       "      <td>0.01</td>\n",
       "      <td>0.02</td>\n",
       "      <td>0.08</td>\n",
       "      <td>0.07</td>\n",
       "      <td>0.04</td>\n",
       "      <td>0.06</td>\n",
       "      <td>0.06</td>\n",
       "      <td>0.03</td>\n",
       "    </tr>\n",
       "    <tr>\n",
       "      <th>double glazing, coated</th>\n",
       "      <td>0.07</td>\n",
       "      <td>0.01</td>\n",
       "      <td>0.02</td>\n",
       "      <td>0.12</td>\n",
       "      <td>0.10</td>\n",
       "      <td>0.04</td>\n",
       "      <td>0.09</td>\n",
       "      <td>0.06</td>\n",
       "      <td>0.03</td>\n",
       "    </tr>\n",
       "    <tr>\n",
       "      <th>double glazing, lsg</th>\n",
       "      <td>0.09</td>\n",
       "      <td>0.01</td>\n",
       "      <td>0.03</td>\n",
       "      <td>0.14</td>\n",
       "      <td>0.12</td>\n",
       "      <td>0.06</td>\n",
       "      <td>0.10</td>\n",
       "      <td>0.09</td>\n",
       "      <td>0.04</td>\n",
       "    </tr>\n",
       "    <tr>\n",
       "      <th>double glazing, lsg, coated</th>\n",
       "      <td>0.09</td>\n",
       "      <td>0.02</td>\n",
       "      <td>0.04</td>\n",
       "      <td>0.14</td>\n",
       "      <td>0.13</td>\n",
       "      <td>0.06</td>\n",
       "      <td>0.11</td>\n",
       "      <td>0.09</td>\n",
       "      <td>0.04</td>\n",
       "    </tr>\n",
       "    <tr>\n",
       "      <th>double glazing, lsg, two coatings</th>\n",
       "      <td>0.09</td>\n",
       "      <td>0.02</td>\n",
       "      <td>0.04</td>\n",
       "      <td>0.14</td>\n",
       "      <td>0.13</td>\n",
       "      <td>0.06</td>\n",
       "      <td>0.11</td>\n",
       "      <td>0.09</td>\n",
       "      <td>0.04</td>\n",
       "    </tr>\n",
       "    <tr>\n",
       "      <th>double glazing, lsg, vacuum</th>\n",
       "      <td>0.09</td>\n",
       "      <td>0.01</td>\n",
       "      <td>0.04</td>\n",
       "      <td>0.14</td>\n",
       "      <td>0.13</td>\n",
       "      <td>0.06</td>\n",
       "      <td>0.11</td>\n",
       "      <td>0.09</td>\n",
       "      <td>0.04</td>\n",
       "    </tr>\n",
       "    <tr>\n",
       "      <th>triple glazing, coated</th>\n",
       "      <td>0.09</td>\n",
       "      <td>0.02</td>\n",
       "      <td>0.03</td>\n",
       "      <td>0.16</td>\n",
       "      <td>0.14</td>\n",
       "      <td>0.05</td>\n",
       "      <td>0.12</td>\n",
       "      <td>0.08</td>\n",
       "      <td>0.04</td>\n",
       "    </tr>\n",
       "    <tr>\n",
       "      <th>double glazing, lsg, coated, krypton</th>\n",
       "      <td>0.10</td>\n",
       "      <td>0.02</td>\n",
       "      <td>0.05</td>\n",
       "      <td>0.15</td>\n",
       "      <td>0.13</td>\n",
       "      <td>0.06</td>\n",
       "      <td>0.11</td>\n",
       "      <td>0.10</td>\n",
       "      <td>0.04</td>\n",
       "    </tr>\n",
       "    <tr>\n",
       "      <th>triple glazing, lsg, two coatings</th>\n",
       "      <td>0.12</td>\n",
       "      <td>0.02</td>\n",
       "      <td>0.05</td>\n",
       "      <td>0.19</td>\n",
       "      <td>0.16</td>\n",
       "      <td>0.07</td>\n",
       "      <td>0.14</td>\n",
       "      <td>0.12</td>\n",
       "      <td>0.05</td>\n",
       "    </tr>\n",
       "    <tr>\n",
       "      <th>triple glazing, lsg, coated</th>\n",
       "      <td>0.12</td>\n",
       "      <td>0.02</td>\n",
       "      <td>0.05</td>\n",
       "      <td>0.19</td>\n",
       "      <td>0.16</td>\n",
       "      <td>0.07</td>\n",
       "      <td>0.14</td>\n",
       "      <td>0.12</td>\n",
       "      <td>0.05</td>\n",
       "    </tr>\n",
       "    <tr>\n",
       "      <th>double glazing, lsg, two coatings, xenon</th>\n",
       "      <td>0.12</td>\n",
       "      <td>0.02</td>\n",
       "      <td>0.12</td>\n",
       "      <td>0.17</td>\n",
       "      <td>0.14</td>\n",
       "      <td>0.07</td>\n",
       "      <td>0.12</td>\n",
       "      <td>0.14</td>\n",
       "      <td>0.05</td>\n",
       "    </tr>\n",
       "    <tr>\n",
       "      <th>triple glazing, lsg, two coatings, krypton</th>\n",
       "      <td>0.13</td>\n",
       "      <td>0.02</td>\n",
       "      <td>0.07</td>\n",
       "      <td>0.20</td>\n",
       "      <td>0.17</td>\n",
       "      <td>0.08</td>\n",
       "      <td>0.15</td>\n",
       "      <td>0.13</td>\n",
       "      <td>0.05</td>\n",
       "    </tr>\n",
       "    <tr>\n",
       "      <th>triple glazing, lsg, two coatings, xenon</th>\n",
       "      <td>0.17</td>\n",
       "      <td>0.03</td>\n",
       "      <td>0.21</td>\n",
       "      <td>0.25</td>\n",
       "      <td>0.20</td>\n",
       "      <td>0.09</td>\n",
       "      <td>0.17</td>\n",
       "      <td>0.20</td>\n",
       "      <td>0.08</td>\n",
       "    </tr>\n",
       "    <tr>\n",
       "      <th>smart glass, double glazing</th>\n",
       "      <td>1.00</td>\n",
       "      <td>1.00</td>\n",
       "      <td>1.00</td>\n",
       "      <td>1.00</td>\n",
       "      <td>1.00</td>\n",
       "      <td>1.00</td>\n",
       "      <td>1.00</td>\n",
       "      <td>1.00</td>\n",
       "      <td>1.00</td>\n",
       "    </tr>\n",
       "  </tbody>\n",
       "</table>\n",
       "</div>"
      ],
      "text/plain": [
       "Method                                     Climate Change Ecosystem Quality  \\\n",
       "Unit                                            kg CO2-Eq               CTU   \n",
       "Name                                                                          \n",
       "single glazing, lsg                                  0.05              0.01   \n",
       "single glazing, lsg, coated                          0.06              0.01   \n",
       "double glazing, coated                               0.07              0.01   \n",
       "double glazing, lsg                                  0.09              0.01   \n",
       "double glazing, lsg, coated                          0.09              0.02   \n",
       "double glazing, lsg, two coatings                    0.09              0.02   \n",
       "double glazing, lsg, vacuum                          0.09              0.01   \n",
       "triple glazing, coated                               0.09              0.02   \n",
       "double glazing, lsg, coated, krypton                 0.10              0.02   \n",
       "triple glazing, lsg, two coatings                    0.12              0.02   \n",
       "triple glazing, lsg, coated                          0.12              0.02   \n",
       "double glazing, lsg, two coatings, xenon             0.12              0.02   \n",
       "triple glazing, lsg, two coatings, krypton           0.13              0.02   \n",
       "triple glazing, lsg, two coatings, xenon             0.17              0.03   \n",
       "smart glass, double glazing                          1.00              1.00   \n",
       "\n",
       "Method                                                                 \\\n",
       "Unit                                       kg P-Eq mol H+-Eq mol N-Eq   \n",
       "Name                                                                    \n",
       "single glazing, lsg                           0.02      0.08     0.07   \n",
       "single glazing, lsg, coated                   0.02      0.08     0.07   \n",
       "double glazing, coated                        0.02      0.12     0.10   \n",
       "double glazing, lsg                           0.03      0.14     0.12   \n",
       "double glazing, lsg, coated                   0.04      0.14     0.13   \n",
       "double glazing, lsg, two coatings             0.04      0.14     0.13   \n",
       "double glazing, lsg, vacuum                   0.04      0.14     0.13   \n",
       "triple glazing, coated                        0.03      0.16     0.14   \n",
       "double glazing, lsg, coated, krypton          0.05      0.15     0.13   \n",
       "triple glazing, lsg, two coatings             0.05      0.19     0.16   \n",
       "triple glazing, lsg, coated                   0.05      0.19     0.16   \n",
       "double glazing, lsg, two coatings, xenon      0.12      0.17     0.14   \n",
       "triple glazing, lsg, two coatings, krypton    0.07      0.20     0.17   \n",
       "triple glazing, lsg, two coatings, xenon      0.21      0.25     0.20   \n",
       "smart glass, double glazing                   1.00      1.00     1.00   \n",
       "\n",
       "Method                                     Human Health            Resources  \\\n",
       "Unit                                         kg CFC-11. kg NMVOC-. megajoule   \n",
       "Name                                                                           \n",
       "single glazing, lsg                                0.04       0.06      0.06   \n",
       "single glazing, lsg, coated                        0.04       0.06      0.06   \n",
       "double glazing, coated                             0.04       0.09      0.06   \n",
       "double glazing, lsg                                0.06       0.10      0.09   \n",
       "double glazing, lsg, coated                        0.06       0.11      0.09   \n",
       "double glazing, lsg, two coatings                  0.06       0.11      0.09   \n",
       "double glazing, lsg, vacuum                        0.06       0.11      0.09   \n",
       "triple glazing, coated                             0.05       0.12      0.08   \n",
       "double glazing, lsg, coated, krypton               0.06       0.11      0.10   \n",
       "triple glazing, lsg, two coatings                  0.07       0.14      0.12   \n",
       "triple glazing, lsg, coated                        0.07       0.14      0.12   \n",
       "double glazing, lsg, two coatings, xenon           0.07       0.12      0.14   \n",
       "triple glazing, lsg, two coatings, krypton         0.08       0.15      0.13   \n",
       "triple glazing, lsg, two coatings, xenon           0.09       0.17      0.20   \n",
       "smart glass, double glazing                        1.00       1.00      1.00   \n",
       "\n",
       "Method                                             \n",
       "Unit                                       points  \n",
       "Name                                               \n",
       "single glazing, lsg                          0.02  \n",
       "single glazing, lsg, coated                  0.03  \n",
       "double glazing, coated                       0.03  \n",
       "double glazing, lsg                          0.04  \n",
       "double glazing, lsg, coated                  0.04  \n",
       "double glazing, lsg, two coatings            0.04  \n",
       "double glazing, lsg, vacuum                  0.04  \n",
       "triple glazing, coated                       0.04  \n",
       "double glazing, lsg, coated, krypton         0.04  \n",
       "triple glazing, lsg, two coatings            0.05  \n",
       "triple glazing, lsg, coated                  0.05  \n",
       "double glazing, lsg, two coatings, xenon     0.05  \n",
       "triple glazing, lsg, two coatings, krypton   0.05  \n",
       "triple glazing, lsg, two coatings, xenon     0.08  \n",
       "smart glass, double glazing                  1.00  "
      ]
     },
     "execution_count": 72,
     "metadata": {},
     "output_type": "execute_result"
    }
   ],
   "source": [
    "df_norm_impacts_igus = df_impacts_igus / df_impacts_igus.max()\n",
    "df_norm_impacts_igus.round(2).sort_values(\n",
    "    (\"Climate Change\", \"kg CO2-Eq\"), ascending=True)"
   ]
  },
  {
   "cell_type": "markdown",
   "metadata": {},
   "source": [
    "# LCA of Curtain Wall Systems, from Cradle to Gate"
   ]
  },
  {
   "cell_type": "markdown",
   "metadata": {},
   "source": [
    "## Environmental Impact"
   ]
  },
  {
   "cell_type": "markdown",
   "metadata": {},
   "source": [
    "**Comparative analysis of different CW configurations:**"
   ]
  },
  {
   "cell_type": "code",
   "execution_count": 73,
   "metadata": {},
   "outputs": [],
   "source": [
    "inv_cw = [act for act in bw.Database(\"exldb_cw\")\n",
    "          if 'market for curtain wall' in act['name']\n",
    "          # and 'xenon' not in act['name']\n",
    "          # and 'air' not in act['name']\n",
    "          ]\n",
    "\n",
    "fu_cw = [{cw: 1} for cw in inv_cw]"
   ]
  },
  {
   "cell_type": "code",
   "execution_count": 74,
   "metadata": {
    "scrolled": true
   },
   "outputs": [],
   "source": [
    "impacts_cw = []\n",
    "\n",
    "for cw in inv_cw:\n",
    "    lca = bw.LCA({cw: 1})\n",
    "    lca.lci()\n",
    "    for method in methods_small:\n",
    "        lca.switch_method(method)\n",
    "        lca.lcia()\n",
    "        impacts_cw.append((cw[\"name\"], cw[\"location\"],\n",
    "                           method[1].title(), lca.score,\n",
    "                           bw.methods.get(method).get('unit')))"
   ]
  },
  {
   "cell_type": "code",
   "execution_count": 75,
   "metadata": {
    "scrolled": false
   },
   "outputs": [],
   "source": [
    "df_impacts_cw = pd.DataFrame(\n",
    "    impacts_cw,\n",
    "    columns=[\"Name\", \"Location\", \"Method\", \"Score\", \"Unit\"]\n",
    ")\n",
    "\n",
    "df_impacts_cw = pd.pivot_table(\n",
    "    df_impacts_cw, index=[\"Name\"],\n",
    "    columns=[\"Method\", \"Unit\"], values=\"Score\"\n",
    ")"
   ]
  },
  {
   "cell_type": "code",
   "execution_count": 76,
   "metadata": {},
   "outputs": [],
   "source": [
    "df_impacts_cw = df_impacts_cw.sort_values(\n",
    "    (\"Climate Change\", \"kg CO2-Eq\"), ascending=True\n",
    ")\n",
    "\n",
    "df_impacts_cw = df_impacts_cw.reset_index()\n",
    "df_impacts_cw['Name'] = (df_impacts_cw['Name']\n",
    "                         .str.replace('double glazing production, ', '')\n",
    "                         .str.replace(', argon', ''))\n",
    "\n",
    "df_impacts_cw = df_impacts_cw.set_index('Name')"
   ]
  },
  {
   "cell_type": "code",
   "execution_count": 77,
   "metadata": {},
   "outputs": [
    {
     "data": {
      "text/html": [
       "<div>\n",
       "<style scoped>\n",
       "    .dataframe tbody tr th:only-of-type {\n",
       "        vertical-align: middle;\n",
       "    }\n",
       "\n",
       "    .dataframe tbody tr th {\n",
       "        vertical-align: top;\n",
       "    }\n",
       "\n",
       "    .dataframe thead tr th {\n",
       "        text-align: left;\n",
       "    }\n",
       "\n",
       "    .dataframe thead tr:last-of-type th {\n",
       "        text-align: right;\n",
       "    }\n",
       "</style>\n",
       "<table border=\"1\" class=\"dataframe\">\n",
       "  <thead>\n",
       "    <tr>\n",
       "      <th>Method</th>\n",
       "      <th>Climate Change</th>\n",
       "      <th colspan=\"4\" halign=\"left\">Ecosystem Quality</th>\n",
       "      <th colspan=\"2\" halign=\"left\">Human Health</th>\n",
       "      <th colspan=\"2\" halign=\"left\">Resources</th>\n",
       "    </tr>\n",
       "    <tr>\n",
       "      <th>Unit</th>\n",
       "      <th>kg CO2-Eq</th>\n",
       "      <th>CTU</th>\n",
       "      <th>kg P-Eq</th>\n",
       "      <th>mol H+-Eq</th>\n",
       "      <th>mol N-Eq</th>\n",
       "      <th>kg CFC-11.</th>\n",
       "      <th>kg NMVOC-.</th>\n",
       "      <th>megajoule</th>\n",
       "      <th>points</th>\n",
       "    </tr>\n",
       "    <tr>\n",
       "      <th>Name</th>\n",
       "      <th></th>\n",
       "      <th></th>\n",
       "      <th></th>\n",
       "      <th></th>\n",
       "      <th></th>\n",
       "      <th></th>\n",
       "      <th></th>\n",
       "      <th></th>\n",
       "      <th></th>\n",
       "    </tr>\n",
       "  </thead>\n",
       "  <tbody>\n",
       "    <tr>\n",
       "      <th>market for curtain wall, single glazing, low perf alu frame</th>\n",
       "      <td>132.06</td>\n",
       "      <td>198.35</td>\n",
       "      <td>0.05</td>\n",
       "      <td>0.91</td>\n",
       "      <td>1.76</td>\n",
       "      <td>0.0</td>\n",
       "      <td>0.49</td>\n",
       "      <td>2025.82</td>\n",
       "      <td>1582.94</td>\n",
       "    </tr>\n",
       "    <tr>\n",
       "      <th>market for curtain wall, single glazing, coated, low perf alu frame</th>\n",
       "      <td>132.83</td>\n",
       "      <td>199.35</td>\n",
       "      <td>0.05</td>\n",
       "      <td>0.92</td>\n",
       "      <td>1.78</td>\n",
       "      <td>0.0</td>\n",
       "      <td>0.49</td>\n",
       "      <td>2041.88</td>\n",
       "      <td>1603.22</td>\n",
       "    </tr>\n",
       "    <tr>\n",
       "      <th>market for curtain wall, double glazing, low perf alu frame</th>\n",
       "      <td>158.63</td>\n",
       "      <td>213.90</td>\n",
       "      <td>0.05</td>\n",
       "      <td>1.12</td>\n",
       "      <td>2.28</td>\n",
       "      <td>0.0</td>\n",
       "      <td>0.61</td>\n",
       "      <td>2396.14</td>\n",
       "      <td>1703.24</td>\n",
       "    </tr>\n",
       "    <tr>\n",
       "      <th>market for curtain wall, double glazing, coated, high perf alu frame</th>\n",
       "      <td>162.82</td>\n",
       "      <td>218.14</td>\n",
       "      <td>0.05</td>\n",
       "      <td>1.15</td>\n",
       "      <td>2.33</td>\n",
       "      <td>0.0</td>\n",
       "      <td>0.63</td>\n",
       "      <td>2520.10</td>\n",
       "      <td>1664.86</td>\n",
       "    </tr>\n",
       "    <tr>\n",
       "      <th>market for curtain wall, double glazing, two coatings, high perf alu frame</th>\n",
       "      <td>163.60</td>\n",
       "      <td>219.13</td>\n",
       "      <td>0.05</td>\n",
       "      <td>1.15</td>\n",
       "      <td>2.34</td>\n",
       "      <td>0.0</td>\n",
       "      <td>0.64</td>\n",
       "      <td>2536.10</td>\n",
       "      <td>1685.05</td>\n",
       "    </tr>\n",
       "    <tr>\n",
       "      <th>market for curtain wall, vacuum double glazing, coated, high perf alu frame</th>\n",
       "      <td>164.64</td>\n",
       "      <td>215.46</td>\n",
       "      <td>0.05</td>\n",
       "      <td>1.15</td>\n",
       "      <td>2.34</td>\n",
       "      <td>0.0</td>\n",
       "      <td>0.64</td>\n",
       "      <td>2545.31</td>\n",
       "      <td>1660.29</td>\n",
       "    </tr>\n",
       "    <tr>\n",
       "      <th>market for curtain wall, double glazing, coated, krypton, high perf alu frame</th>\n",
       "      <td>167.73</td>\n",
       "      <td>219.70</td>\n",
       "      <td>0.06</td>\n",
       "      <td>1.17</td>\n",
       "      <td>2.37</td>\n",
       "      <td>0.0</td>\n",
       "      <td>0.65</td>\n",
       "      <td>2597.76</td>\n",
       "      <td>1682.71</td>\n",
       "    </tr>\n",
       "    <tr>\n",
       "      <th>market for curtain wall, triple glazing, two coatings, high perf alu frame</th>\n",
       "      <td>188.17</td>\n",
       "      <td>240.14</td>\n",
       "      <td>0.06</td>\n",
       "      <td>1.34</td>\n",
       "      <td>2.78</td>\n",
       "      <td>0.0</td>\n",
       "      <td>0.75</td>\n",
       "      <td>2886.15</td>\n",
       "      <td>1783.68</td>\n",
       "    </tr>\n",
       "    <tr>\n",
       "      <th>market for curtain wall, triple glazing, coated, high perf alu frame</th>\n",
       "      <td>188.44</td>\n",
       "      <td>241.94</td>\n",
       "      <td>0.06</td>\n",
       "      <td>1.34</td>\n",
       "      <td>2.77</td>\n",
       "      <td>0.0</td>\n",
       "      <td>0.75</td>\n",
       "      <td>2886.10</td>\n",
       "      <td>1779.49</td>\n",
       "    </tr>\n",
       "    <tr>\n",
       "      <th>market for curtain wall, triple glazing, two coatings, krypton, high perf alu frame</th>\n",
       "      <td>197.98</td>\n",
       "      <td>243.26</td>\n",
       "      <td>0.06</td>\n",
       "      <td>1.39</td>\n",
       "      <td>2.87</td>\n",
       "      <td>0.0</td>\n",
       "      <td>0.77</td>\n",
       "      <td>3041.47</td>\n",
       "      <td>1819.38</td>\n",
       "    </tr>\n",
       "    <tr>\n",
       "      <th>market for curtain wall, triple glazing, two coatings, xenon, high perf alu frame</th>\n",
       "      <td>225.10</td>\n",
       "      <td>252.65</td>\n",
       "      <td>0.10</td>\n",
       "      <td>1.54</td>\n",
       "      <td>3.07</td>\n",
       "      <td>0.0</td>\n",
       "      <td>0.83</td>\n",
       "      <td>3748.24</td>\n",
       "      <td>2011.38</td>\n",
       "    </tr>\n",
       "    <tr>\n",
       "      <th>market for curtain wall, double skin facade</th>\n",
       "      <td>289.08</td>\n",
       "      <td>426.04</td>\n",
       "      <td>0.10</td>\n",
       "      <td>2.04</td>\n",
       "      <td>4.05</td>\n",
       "      <td>0.0</td>\n",
       "      <td>1.11</td>\n",
       "      <td>4341.33</td>\n",
       "      <td>3196.59</td>\n",
       "    </tr>\n",
       "    <tr>\n",
       "      <th>market for curtain wall, ccf</th>\n",
       "      <td>434.54</td>\n",
       "      <td>582.27</td>\n",
       "      <td>0.17</td>\n",
       "      <td>3.06</td>\n",
       "      <td>5.35</td>\n",
       "      <td>0.0</td>\n",
       "      <td>1.57</td>\n",
       "      <td>6553.75</td>\n",
       "      <td>2765.43</td>\n",
       "    </tr>\n",
       "    <tr>\n",
       "      <th>market for curtain wall, smart glazing, high perf alu frame</th>\n",
       "      <td>774.14</td>\n",
       "      <td>1791.16</td>\n",
       "      <td>0.26</td>\n",
       "      <td>3.88</td>\n",
       "      <td>10.55</td>\n",
       "      <td>0.0</td>\n",
       "      <td>3.06</td>\n",
       "      <td>11963.54</td>\n",
       "      <td>9970.23</td>\n",
       "    </tr>\n",
       "  </tbody>\n",
       "</table>\n",
       "</div>"
      ],
      "text/plain": [
       "Method                                             Climate Change  \\\n",
       "Unit                                                    kg CO2-Eq   \n",
       "Name                                                                \n",
       "market for curtain wall, single glazing, low pe...         132.06   \n",
       "market for curtain wall, single glazing, coated...         132.83   \n",
       "market for curtain wall, double glazing, low pe...         158.63   \n",
       "market for curtain wall, double glazing, coated...         162.82   \n",
       "market for curtain wall, double glazing, two co...         163.60   \n",
       "market for curtain wall, vacuum double glazing,...         164.64   \n",
       "market for curtain wall, double glazing, coated...         167.73   \n",
       "market for curtain wall, triple glazing, two co...         188.17   \n",
       "market for curtain wall, triple glazing, coated...         188.44   \n",
       "market for curtain wall, triple glazing, two co...         197.98   \n",
       "market for curtain wall, triple glazing, two co...         225.10   \n",
       "market for curtain wall, double skin facade                289.08   \n",
       "market for curtain wall, ccf                               434.54   \n",
       "market for curtain wall, smart glazing, high pe...         774.14   \n",
       "\n",
       "Method                                             Ecosystem Quality          \\\n",
       "Unit                                                             CTU kg P-Eq   \n",
       "Name                                                                           \n",
       "market for curtain wall, single glazing, low pe...            198.35    0.05   \n",
       "market for curtain wall, single glazing, coated...            199.35    0.05   \n",
       "market for curtain wall, double glazing, low pe...            213.90    0.05   \n",
       "market for curtain wall, double glazing, coated...            218.14    0.05   \n",
       "market for curtain wall, double glazing, two co...            219.13    0.05   \n",
       "market for curtain wall, vacuum double glazing,...            215.46    0.05   \n",
       "market for curtain wall, double glazing, coated...            219.70    0.06   \n",
       "market for curtain wall, triple glazing, two co...            240.14    0.06   \n",
       "market for curtain wall, triple glazing, coated...            241.94    0.06   \n",
       "market for curtain wall, triple glazing, two co...            243.26    0.06   \n",
       "market for curtain wall, triple glazing, two co...            252.65    0.10   \n",
       "market for curtain wall, double skin facade                   426.04    0.10   \n",
       "market for curtain wall, ccf                                  582.27    0.17   \n",
       "market for curtain wall, smart glazing, high pe...           1791.16    0.26   \n",
       "\n",
       "Method                                                                 \\\n",
       "Unit                                               mol H+-Eq mol N-Eq   \n",
       "Name                                                                    \n",
       "market for curtain wall, single glazing, low pe...      0.91     1.76   \n",
       "market for curtain wall, single glazing, coated...      0.92     1.78   \n",
       "market for curtain wall, double glazing, low pe...      1.12     2.28   \n",
       "market for curtain wall, double glazing, coated...      1.15     2.33   \n",
       "market for curtain wall, double glazing, two co...      1.15     2.34   \n",
       "market for curtain wall, vacuum double glazing,...      1.15     2.34   \n",
       "market for curtain wall, double glazing, coated...      1.17     2.37   \n",
       "market for curtain wall, triple glazing, two co...      1.34     2.78   \n",
       "market for curtain wall, triple glazing, coated...      1.34     2.77   \n",
       "market for curtain wall, triple glazing, two co...      1.39     2.87   \n",
       "market for curtain wall, triple glazing, two co...      1.54     3.07   \n",
       "market for curtain wall, double skin facade             2.04     4.05   \n",
       "market for curtain wall, ccf                            3.06     5.35   \n",
       "market for curtain wall, smart glazing, high pe...      3.88    10.55   \n",
       "\n",
       "Method                                             Human Health             \\\n",
       "Unit                                                 kg CFC-11. kg NMVOC-.   \n",
       "Name                                                                         \n",
       "market for curtain wall, single glazing, low pe...          0.0       0.49   \n",
       "market for curtain wall, single glazing, coated...          0.0       0.49   \n",
       "market for curtain wall, double glazing, low pe...          0.0       0.61   \n",
       "market for curtain wall, double glazing, coated...          0.0       0.63   \n",
       "market for curtain wall, double glazing, two co...          0.0       0.64   \n",
       "market for curtain wall, vacuum double glazing,...          0.0       0.64   \n",
       "market for curtain wall, double glazing, coated...          0.0       0.65   \n",
       "market for curtain wall, triple glazing, two co...          0.0       0.75   \n",
       "market for curtain wall, triple glazing, coated...          0.0       0.75   \n",
       "market for curtain wall, triple glazing, two co...          0.0       0.77   \n",
       "market for curtain wall, triple glazing, two co...          0.0       0.83   \n",
       "market for curtain wall, double skin facade                 0.0       1.11   \n",
       "market for curtain wall, ccf                                0.0       1.57   \n",
       "market for curtain wall, smart glazing, high pe...          0.0       3.06   \n",
       "\n",
       "Method                                             Resources           \n",
       "Unit                                               megajoule   points  \n",
       "Name                                                                   \n",
       "market for curtain wall, single glazing, low pe...   2025.82  1582.94  \n",
       "market for curtain wall, single glazing, coated...   2041.88  1603.22  \n",
       "market for curtain wall, double glazing, low pe...   2396.14  1703.24  \n",
       "market for curtain wall, double glazing, coated...   2520.10  1664.86  \n",
       "market for curtain wall, double glazing, two co...   2536.10  1685.05  \n",
       "market for curtain wall, vacuum double glazing,...   2545.31  1660.29  \n",
       "market for curtain wall, double glazing, coated...   2597.76  1682.71  \n",
       "market for curtain wall, triple glazing, two co...   2886.15  1783.68  \n",
       "market for curtain wall, triple glazing, coated...   2886.10  1779.49  \n",
       "market for curtain wall, triple glazing, two co...   3041.47  1819.38  \n",
       "market for curtain wall, triple glazing, two co...   3748.24  2011.38  \n",
       "market for curtain wall, double skin facade          4341.33  3196.59  \n",
       "market for curtain wall, ccf                         6553.75  2765.43  \n",
       "market for curtain wall, smart glazing, high pe...  11963.54  9970.23  "
      ]
     },
     "execution_count": 77,
     "metadata": {},
     "output_type": "execute_result"
    }
   ],
   "source": [
    "df_impacts_cw.round(2)"
   ]
  },
  {
   "cell_type": "code",
   "execution_count": 78,
   "metadata": {},
   "outputs": [
    {
     "data": {
      "image/png": "[encoded data removed]",
      "text/plain": [
       "<Figure size 504x288 with 1 Axes>"
      ]
     },
     "metadata": {},
     "output_type": "display_data"
    }
   ],
   "source": [
    "fig, ax = plt.subplots(figsize=(7, 4))\n",
    "\n",
    "sns.barplot(data=df_impacts_cw,\n",
    "            x=(\"Climate Change\", \"kg CO2-Eq\"),\n",
    "            y=df_impacts_cw.index,\n",
    "            color=\"lightsteelblue\", linewidth=1.5)\n",
    "\n",
    "ax.yaxis.label.set_visible(False)\n",
    "ax.grid(which='major', axis='x', linestyle=':', linewidth=1)\n",
    "\n",
    "fig.suptitle(\n",
    "    'GWP of curtain wall systems, cradle-to-gate, per m²')\n",
    "sns.despine(left=True, offset=5)\n",
    "plt.show()"
   ]
  },
  {
   "cell_type": "markdown",
   "metadata": {},
   "source": [
    "## Uncertainty Analysis through Monte Carlo Simulation"
   ]
  },
  {
   "cell_type": "markdown",
   "metadata": {},
   "source": [
    "Define the number of iterations:"
   ]
  },
  {
   "cell_type": "code",
   "execution_count": 79,
   "metadata": {},
   "outputs": [],
   "source": [
    "n_runs = 100"
   ]
  },
  {
   "cell_type": "markdown",
   "metadata": {},
   "source": [
    "### For a Single Activity, MC for GWP"
   ]
  },
  {
   "cell_type": "code",
   "execution_count": 80,
   "metadata": {},
   "outputs": [
    {
     "data": {
      "text/plain": [
       "[{'market for curtain wall, double glazing, coated, high perf alu frame' (square meter, BE, ('building components', 'windows')): 1},\n",
       " {'market for curtain wall, single glazing, coated, low perf alu frame' (square meter, BE, ('building components', 'windows')): 1},\n",
       " {'market for curtain wall, triple glazing, coated, high perf alu frame' (square meter, BE, ('building components', 'windows')): 1},\n",
       " {'market for curtain wall, ccf' (square meter, BE, ('building components', 'windows')): 1},\n",
       " {'market for curtain wall, single glazing, low perf alu frame' (square meter, BE, ('building components', 'windows')): 1},\n",
       " {'market for curtain wall, vacuum double glazing, coated, high perf alu frame' (square meter, BE, ('building components', 'windows')): 1},\n",
       " {'market for curtain wall, double skin facade' (square meter, BE, ('building components', 'windows')): 1},\n",
       " {'market for curtain wall, double glazing, two coatings, high perf alu frame' (square meter, BE, ('building components', 'windows')): 1},\n",
       " {'market for curtain wall, triple glazing, two coatings, high perf alu frame' (square meter, BE, ('building components', 'windows')): 1},\n",
       " {'market for curtain wall, double glazing, coated, krypton, high perf alu frame' (square meter, BE, ('building components', 'windows')): 1},\n",
       " {'market for curtain wall, triple glazing, two coatings, krypton, high perf alu frame' (square meter, BE, ('building components', 'windows')): 1},\n",
       " {'market for curtain wall, smart glazing, high perf alu frame' (square meter, BE, ('building components', 'windows')): 1},\n",
       " {'market for curtain wall, triple glazing, two coatings, xenon, high perf alu frame' (square meter, BE, ('building components', 'windows')): 1},\n",
       " {'market for curtain wall, double glazing, low perf alu frame' (square meter, BE, ('building components', 'windows')): 1}]"
      ]
     },
     "execution_count": 80,
     "metadata": {},
     "output_type": "execute_result"
    }
   ],
   "source": [
    "fu_cw"
   ]
  },
  {
   "cell_type": "code",
   "execution_count": 81,
   "metadata": {},
   "outputs": [
    {
     "name": "stdout",
     "output_type": "stream",
     "text": [
      "'market for curtain wall, double glazing, coated, high perf alu frame' (square meter, BE, ('building components', 'windows'))\n"
     ]
    }
   ],
   "source": [
    "act = \"market for curtain wall, double glazing, coated, high perf alu frame\"\n",
    "\n",
    "for fu in fu_cw:\n",
    "    for key, value in fu.items():\n",
    "        if act in str(key):\n",
    "            print(key)\n",
    "            mc_fu = fu"
   ]
  },
  {
   "cell_type": "code",
   "execution_count": 82,
   "metadata": {},
   "outputs": [],
   "source": [
    "# Simple montecarlo:\n",
    "mc = MonteCarloLCA(mc_fu, method_ilcd_gwp)\n",
    "ls_mc_results = [next(mc) for n in range(n_runs)]"
   ]
  },
  {
   "cell_type": "code",
   "execution_count": 83,
   "metadata": {},
   "outputs": [
    {
     "data": {
      "text/html": [
       "<div>\n",
       "<style scoped>\n",
       "    .dataframe tbody tr th:only-of-type {\n",
       "        vertical-align: middle;\n",
       "    }\n",
       "\n",
       "    .dataframe tbody tr th {\n",
       "        vertical-align: top;\n",
       "    }\n",
       "\n",
       "    .dataframe thead th {\n",
       "        text-align: right;\n",
       "    }\n",
       "</style>\n",
       "<table border=\"1\" class=\"dataframe\">\n",
       "  <thead>\n",
       "    <tr style=\"text-align: right;\">\n",
       "      <th></th>\n",
       "      <th>0</th>\n",
       "    </tr>\n",
       "  </thead>\n",
       "  <tbody>\n",
       "    <tr>\n",
       "      <th>count</th>\n",
       "      <td>100.000000</td>\n",
       "    </tr>\n",
       "    <tr>\n",
       "      <th>mean</th>\n",
       "      <td>179.619044</td>\n",
       "    </tr>\n",
       "    <tr>\n",
       "      <th>std</th>\n",
       "      <td>11.313106</td>\n",
       "    </tr>\n",
       "    <tr>\n",
       "      <th>min</th>\n",
       "      <td>154.002020</td>\n",
       "    </tr>\n",
       "    <tr>\n",
       "      <th>25%</th>\n",
       "      <td>172.380333</td>\n",
       "    </tr>\n",
       "    <tr>\n",
       "      <th>50%</th>\n",
       "      <td>178.170314</td>\n",
       "    </tr>\n",
       "    <tr>\n",
       "      <th>75%</th>\n",
       "      <td>184.881432</td>\n",
       "    </tr>\n",
       "    <tr>\n",
       "      <th>max</th>\n",
       "      <td>216.796202</td>\n",
       "    </tr>\n",
       "  </tbody>\n",
       "</table>\n",
       "</div>"
      ],
      "text/plain": [
       "                0\n",
       "count  100.000000\n",
       "mean   179.619044\n",
       "std     11.313106\n",
       "min    154.002020\n",
       "25%    172.380333\n",
       "50%    178.170314\n",
       "75%    184.881432\n",
       "max    216.796202"
      ]
     },
     "execution_count": 83,
     "metadata": {},
     "output_type": "execute_result"
    }
   ],
   "source": [
    "pd.DataFrame(ls_mc_results).describe()"
   ]
  },
  {
   "cell_type": "code",
   "execution_count": 84,
   "metadata": {},
   "outputs": [
    {
     "name": "stdout",
     "output_type": "stream",
     "text": [
      "{'market for curtain wall, double glazing, coated, high perf alu frame' (square meter, BE, ('building components', 'windows')): 1}\n"
     ]
    },
    {
     "data": {
      "image/png": "[encoded data removed]",
      "text/plain": [
       "<Figure size 360x360 with 1 Axes>"
      ]
     },
     "metadata": {},
     "output_type": "display_data"
    }
   ],
   "source": [
    "sns.displot(data=ls_mc_results)\n",
    "\n",
    "plt.ylabel(\"Probability\")\n",
    "plt.xlabel(methods[method_ilcd_gwp][\"unit\"])\n",
    "\n",
    "print(mc_fu)"
   ]
  },
  {
   "cell_type": "markdown",
   "metadata": {},
   "source": [
    "### Comparative MonteCarlo Analysis of Different IGUs"
   ]
  },
  {
   "cell_type": "markdown",
   "metadata": {},
   "source": [
    "Conduct the uncertainty analysis? If not, recover csv file (if exists):"
   ]
  },
  {
   "cell_type": "code",
   "execution_count": 85,
   "metadata": {},
   "outputs": [],
   "source": [
    "mc_bool = False"
   ]
  },
  {
   "cell_type": "code",
   "execution_count": 86,
   "metadata": {},
   "outputs": [
    {
     "name": "stdout",
     "output_type": "stream",
     "text": [
      "MonteCarlo DataFrame is empty!\n"
     ]
    }
   ],
   "source": [
    "if mc_bool:\n",
    "    # Now, a comparative analysis of different IGUs:\n",
    "    simulations = []\n",
    "    ls_col = []\n",
    "\n",
    "    for n in range(n_runs):\n",
    "        next(mc)\n",
    "        ls_mcresults = []    \n",
    "        for fu in fu_cw:\n",
    "            mc.redo_lcia(fu)\n",
    "            ls_mcresults.append(mc.score)\n",
    "\n",
    "        simulations.append(ls_mcresults)\n",
    "\n",
    "    for fu in fu_cw:\n",
    "        a = [label for label, q in fu.items()]\n",
    "        ls_col.append(a[0][\"name\"])\n",
    "\n",
    "    df_mc_results = pd.DataFrame(simulations, columns = ls_col)\n",
    "    \n",
    "    df_mc_results.to_csv('outputs\\lca\\mc_results_igus.csv')\n",
    "    \n",
    "else:\n",
    "    if os.path.isfile('outputs\\lca\\mc_results_igus.csv'):\n",
    "        df_mc_results_csv = (\n",
    "            pd.read_csv('outputs\\lca\\mc_results_igus.csv'))\n",
    "        \n",
    "        df_mc_results_csv = df_mc_results_csv.rename(\n",
    "            columns={\"Unnamed: 0\":\"Iteration\"}\n",
    "        ).set_index(\"Iteration\")\n",
    "\n",
    "        df_mc_results = df_mc_results_csv\n",
    "    \n",
    "    else:\n",
    "        print(\"MonteCarlo DataFrame is empty!\")   "
   ]
  },
  {
   "cell_type": "code",
   "execution_count": 87,
   "metadata": {},
   "outputs": [
    {
     "ename": "NameError",
     "evalue": "name 'df_mc_results' is not defined",
     "output_type": "error",
     "traceback": [
      "\u001b[1;31m---------------------------------------------------------------------------\u001b[0m",
      "\u001b[1;31mNameError\u001b[0m                                 Traceback (most recent call last)",
      "\u001b[1;32m~\\AppData\\Local\\Temp/ipykernel_38780/782159499.py\u001b[0m in \u001b[0;36m<module>\u001b[1;34m\u001b[0m\n\u001b[1;32m----> 1\u001b[1;33m \u001b[0mdf_mc_results\u001b[0m\u001b[1;33m.\u001b[0m\u001b[0mdescribe\u001b[0m\u001b[1;33m(\u001b[0m\u001b[1;33m)\u001b[0m\u001b[1;33m\u001b[0m\u001b[1;33m\u001b[0m\u001b[0m\n\u001b[0m",
      "\u001b[1;31mNameError\u001b[0m: name 'df_mc_results' is not defined"
     ]
    }
   ],
   "source": [
    "if mc_bool:\n",
    "    df_mc_results.describe()"
   ]
  },
  {
   "cell_type": "code",
   "execution_count": null,
   "metadata": {},
   "outputs": [],
   "source": [
    "if mc_bool:\n",
    "    fig, ax = plt.subplots(figsize=(10, 6))\n",
    "\n",
    "    ax = sns.boxplot(data=df_mc_results, palette=\"Set3\")\n",
    "\n",
    "    ax.set(ylabel=\"\", xlabel=\"\")\n",
    "    plt.yticks(np.arange(0, 1501, 500))\n",
    "    sns.despine(left=True, bottom=True, offset=5)\n",
    "    for tick in ax.get_xticklabels():\n",
    "        tick.set_rotation(45)\n",
    "        tick.set_ha('right')"
   ]
  },
  {
   "cell_type": "code",
   "execution_count": null,
   "metadata": {},
   "outputs": [],
   "source": [
    "if mc_bool:\n",
    "    fig, ax = plt.subplots(figsize=(8, 8))\n",
    "\n",
    "    ax = sns.boxplot(\n",
    "        data=df_mc_results[\n",
    "            [x for x in df_mc_results.columns if 'smart glazing' not in x]\n",
    "        ], palette=\"Set3\"\n",
    "    )\n",
    "\n",
    "    ax.set(ylabel=\"\", xlabel=\"\")\n",
    "    plt.yticks(np.arange(0, 601, 100))\n",
    "    sns.despine(left=True, bottom=True, offset=5)\n",
    "    for tick in ax.get_xticklabels():\n",
    "        tick.set_rotation(45)\n",
    "        tick.set_ha('right')"
   ]
  },
  {
   "cell_type": "code",
   "execution_count": null,
   "metadata": {},
   "outputs": [],
   "source": [
    "if mc_bool:\n",
    "    fig, ax = plt.subplots(figsize=(4, 6))\n",
    "\n",
    "    ax = sns.boxplot(\n",
    "        data=df_mc_results[\n",
    "            [x for x in df_mc_results.columns if 'double glazing' in x]\n",
    "        ], palette=\"Set3\"\n",
    "    )\n",
    "\n",
    "    ax.set(ylabel=\"\", xlabel=\"\")\n",
    "    plt.yticks(np.arange(0, 301, 100))\n",
    "    sns.despine(left=True, bottom=True, offset=5)\n",
    "    for tick in ax.get_xticklabels():\n",
    "        tick.set_rotation(45)\n",
    "        tick.set_ha('right')"
   ]
  },
  {
   "cell_type": "code",
   "execution_count": null,
   "metadata": {},
   "outputs": [],
   "source": [
    "if mc_bool:\n",
    "    fig, ax = plt.subplots(figsize=(4, 6))\n",
    "\n",
    "    ax = sns.boxplot(\n",
    "        data=df_mc_results[\n",
    "            [x for x in df_mc_results.columns if 'triple glazing' in x]\n",
    "        ], palette=\"Set3\"\n",
    "    )\n",
    "\n",
    "    ax.set(ylabel=\"\", xlabel=\"\")\n",
    "    plt.yticks(np.arange(0, 301, 100))\n",
    "    sns.despine(left=True, offset=5)\n",
    "    for tick in ax.get_xticklabels():\n",
    "        tick.set_rotation(45)\n",
    "        tick.set_ha('right')"
   ]
  },
  {
   "cell_type": "markdown",
   "metadata": {},
   "source": [
    "### Monte Carlo Analysis for Multiple Impact Categories"
   ]
  },
  {
   "cell_type": "code",
   "execution_count": null,
   "metadata": {},
   "outputs": [],
   "source": [
    "# define the function for MC simulation\n",
    "def multiImpactMonteCarloLCA(fu, ls_methods, nruns):\n",
    "    \n",
    "    mc_lca = bw.MonteCarloLCA(fu)\n",
    "    mc_lca.lci()\n",
    "    \n",
    "    c_matrices = {}\n",
    "    \n",
    "    for method in ls_methods:\n",
    "        mc_lca.switch_method(method)\n",
    "        c_matrices[method] = mc_lca.characterization_matrix\n",
    "    \n",
    "    results = np.empty((len(ls_methods), nruns))\n",
    "    \n",
    "    for iteration in range(nruns):\n",
    "        next(mc_lca)\n",
    "        for method_index, method in enumerate(ls_methods):\n",
    "            results[method_index, iteration] = (\n",
    "                c_matrices[method]*mc_lca.inventory).sum()\n",
    "            \n",
    "    return results"
   ]
  },
  {
   "cell_type": "code",
   "execution_count": null,
   "metadata": {},
   "outputs": [],
   "source": [
    "fu_cw"
   ]
  },
  {
   "cell_type": "code",
   "execution_count": null,
   "metadata": {},
   "outputs": [],
   "source": [
    "act = \"market for curtain wall, double glazing, coated, high perf alu frame\"\n",
    "\n",
    "for fu in fu_cw:\n",
    "    for key, value in fu.items():\n",
    "        if act in str(key):\n",
    "            print(key)\n",
    "            mc_fu = fu"
   ]
  },
  {
   "cell_type": "code",
   "execution_count": null,
   "metadata": {},
   "outputs": [],
   "source": [
    "if mc_bool:\n",
    "    \n",
    "    mc_results = multiImpactMonteCarloLCA(mc_fu,\n",
    "                                          methods_full, \n",
    "                                          n_runs\n",
    "                                         )\n",
    "    \n",
    "    df_multiimpact_mc_results = pd.DataFrame(data=mc_results, \n",
    "                                             index=methods_full).T\n",
    "    \n",
    "    df_multiimpact_mc_results.to_csv('outputs\\lca\\multiimpact_mc_results.csv',\n",
    "                                    index_label=\"Iteration\")\n",
    "    \n",
    "else:\n",
    "    if os.path.isfile('outputs\\lca\\multiimpact_mc_results.csv'):\n",
    "        df_multiimpact_mc_results_csv = (\n",
    "            pd.read_csv('outputs\\lca\\multiimpact_mc_results.csv'))\n",
    "        df_multiimpact_mc_results_csv = (\n",
    "            df_multiimpact_mc_results_csv.set_index(\"Iteration\")\n",
    "        )\n",
    "\n",
    "        df_multiimpact_mc_results = df_multiimpact_mc_results_csv\n",
    "    \n",
    "    else:\n",
    "        print(\"MonteCarlo DataFrame is empty!\")   "
   ]
  },
  {
   "cell_type": "code",
   "execution_count": null,
   "metadata": {},
   "outputs": [],
   "source": [
    "df_multiimpact_mc_results.head()"
   ]
  },
  {
   "cell_type": "code",
   "execution_count": null,
   "metadata": {},
   "outputs": [],
   "source": [
    "df_multiimpact_mc_results.describe()"
   ]
  },
  {
   "cell_type": "code",
   "execution_count": null,
   "metadata": {},
   "outputs": [],
   "source": [
    "df_multiimpact_mc_results.columns"
   ]
  },
  {
   "cell_type": "code",
   "execution_count": null,
   "metadata": {},
   "outputs": [],
   "source": [
    "impact = 'freshwater ecotoxicity'"
   ]
  },
  {
   "cell_type": "code",
   "execution_count": null,
   "metadata": {},
   "outputs": [],
   "source": [
    "fig, ax = plt.subplots(figsize=(1, 8))\n",
    "\n",
    "ax = sns.boxplot(\n",
    "    data=df_multiimpact_mc_results[\n",
    "        [x for x in df_multiimpact_mc_results.columns if impact in x]\n",
    "    ], palette=\"Set3\"\n",
    ")\n",
    "\n",
    "ax.set(ylabel=\"\", xlabel=\"\")\n",
    "plt.yticks(np.arange(0, 1201, 200))\n",
    "sns.despine(left=True, bottom=True)"
   ]
  },
  {
   "cell_type": "markdown",
   "metadata": {},
   "source": [
    "# Import Results from the BEM"
   ]
  },
  {
   "cell_type": "markdown",
   "metadata": {},
   "source": [
    "## Recover Data Saved in CSV Files from Previous Simulations:"
   ]
  },
  {
   "cell_type": "markdown",
   "metadata": {},
   "source": [
    "To read directly the csv file and work from them instead of relaunching the energy simulation (Please note that this does not prevent the simulations from being run again. To do this, change the run_all boolean variable above. If the simulations are rerun, the new results will overwrite the old ones saved in the csv files):"
   ]
  },
  {
   "cell_type": "markdown",
   "metadata": {},
   "source": [
    "Dataframe with all energy usage data per simulation run:"
   ]
  },
  {
   "cell_type": "markdown",
   "metadata": {},
   "source": [
    "Retrieve the data from the csv. The simulation_postprocess function will merge the new results by overwriting the old ones, or simply add the new ones if they did not exist yet."
   ]
  },
  {
   "cell_type": "code",
   "execution_count": 88,
   "metadata": {},
   "outputs": [],
   "source": [
    "# Open the df_end_use_allsteps from the csv file:\n",
    "# Avoid re-running energy simulations (time consuming):\n",
    "if os.path.isfile('outputs\\steps_dir\\df_end_use_allsteps.csv'):\n",
    "    df_end_use_allsteps_csv = (\n",
    "        pd.read_csv('outputs\\steps_dir\\df_end_use_allsteps.csv'))\n",
    "    df_end_use_allsteps_csv = df_end_use_allsteps_csv.pivot_table(\n",
    "        values='0', index=['EndUse'], columns=['Run name', 'FuelType'])\n",
    "\n",
    "    df_end_use_allsteps = df_end_use_allsteps_csv"
   ]
  },
  {
   "cell_type": "markdown",
   "metadata": {},
   "source": [
    "A function to recover df_step dataframes saved as csv, i.e. DataFrame with the main assumptions and results (natural gas and electricity) specific to each simulation run:"
   ]
  },
  {
   "cell_type": "markdown",
   "metadata": {},
   "source": [
    "To assess the indirect impact of glazing replacement on energy use in the building, the natural gas and electricity use results for each scenario are subtracted by the initial scenario, where the exact same glazing is kept. "
   ]
  },
  {
   "cell_type": "code",
   "execution_count": 89,
   "metadata": {},
   "outputs": [],
   "source": [
    "def recover_df_step(n_step, df_step):\n",
    "    \"\"\"\n",
    "    If a df_step.csv exists, recover it as a dataframe wich replace \n",
    "    the one currently in use in the notebook.\n",
    "    Avoid re-running energy simulation (time consuming).\n",
    "\n",
    "    Parameters\n",
    "    ----------\n",
    "    n_step: number of the step\n",
    "    df_step: a dataframe. followed by a number (e.g. step4), \n",
    "    identify the step with simulation runs and main results\n",
    "\n",
    "    Returns\n",
    "    -------\n",
    "    df_step: update with csv data or exactly the same as the one in the input\n",
    "\n",
    "    \"\"\"\n",
    "\n",
    "    # Does the csv exist\n",
    "    # and check if the existing df_step includes simulation results:\n",
    "    if os.path.isfile(f\"outputs\\steps_dir\\df_step\"+str(n_step)+\".csv\"):\n",
    "        df_step = (\n",
    "            pd.read_csv(f\"outputs\\steps_dir\\df_step\"+str(n_step)+\".csv\")\n",
    "            .set_index(['name']))\n",
    "\n",
    "        print(\"df_step \", n_step, \"updated with csv data\")\n",
    "    else:\n",
    "        print(\"existing df_step \", n_step, \"kept in place\")\n",
    "\n",
    "    return df_step"
   ]
  },
  {
   "cell_type": "markdown",
   "metadata": {},
   "source": [
    "## Recover and Post-Process the df_step Dataframes:"
   ]
  },
  {
   "cell_type": "markdown",
   "metadata": {},
   "source": [
    "As a reminder: df_step units are MJ/m² of glazed façade for natural gas, and kWh/m² for electricity use."
   ]
  },
  {
   "cell_type": "code",
   "execution_count": 90,
   "metadata": {},
   "outputs": [
    {
     "name": "stdout",
     "output_type": "stream",
     "text": [
      "df_step  1 updated with csv data\n",
      "df_step  2 updated with csv data\n",
      "df_step  3 updated with csv data\n",
      "df_step  4 updated with csv data\n",
      "df_step  5 updated with csv data\n",
      "df_step  6 updated with csv data\n",
      "df_step  7 updated with csv data\n",
      "df_step  8 updated with csv data\n",
      "df_step  9 updated with csv data\n",
      "df_step  10 updated with csv data\n",
      "df_step  11 updated with csv data\n",
      "df_step  12 updated with csv data\n",
      "df_step  13 updated with csv data\n",
      "df_step  14 updated with csv data\n",
      "df_step  15 updated with csv data\n",
      "df_step  16 updated with csv data\n"
     ]
    }
   ],
   "source": [
    "df_step1 = recover_df_step(1, df_step1)\n",
    "df_step1.name = \"df_step1\"\n",
    "df_step2 = recover_df_step(2, df_step2)\n",
    "df_step2.name = \"df_step2\"\n",
    "df_step3 = recover_df_step(3, df_step3)\n",
    "df_step3.name = \"df_step3\"\n",
    "df_step4 = recover_df_step(4, df_step4)\n",
    "df_step4.name = \"df_step4\"\n",
    "df_step5 = recover_df_step(5, df_step5)\n",
    "df_step5.name = \"df_step5\"\n",
    "df_step6 = recover_df_step(6, df_step6)\n",
    "df_step6.name = \"df_step6\"\n",
    "df_step7 = recover_df_step(7, df_step7)\n",
    "df_step7.name = \"df_step7\"\n",
    "df_step8 = recover_df_step(8, df_step8)\n",
    "df_step8.name = \"df_step8\"\n",
    "df_step9 = recover_df_step(9, df_step9)\n",
    "df_step9.name = \"df_step9\"\n",
    "df_step10 = recover_df_step(10, df_step10)\n",
    "df_step10.name = \"df_step10\"\n",
    "df_step11 = recover_df_step(11, df_step11)\n",
    "df_step11.name = \"df_step11\"\n",
    "df_step12 = recover_df_step(12, df_step12)\n",
    "df_step12.name = \"df_step12\"\n",
    "df_step13 = recover_df_step(13, df_step13)\n",
    "df_step13.name = \"df_step13\"\n",
    "df_step14 = recover_df_step(14, df_step14)\n",
    "df_step14.name = \"df_step14\"\n",
    "df_step15 = recover_df_step(15, df_step15)\n",
    "df_step15.name = \"df_step15\"\n",
    "df_step16 = recover_df_step(16, df_step16)\n",
    "df_step16.name = \"df_step16\""
   ]
  },
  {
   "cell_type": "code",
   "execution_count": 91,
   "metadata": {},
   "outputs": [],
   "source": [
    "# Initial HVAC configuration, \"inefficient\" fan coils (steps 1, 2, 3):\n",
    "# Subtraction of energy use by that in the initial scenario:\n",
    "if not df_step1.loc[df_step1[\"glazing\"] == \"dg_init_bronze\"].empty:\n",
    "    i_gas = float(\n",
    "        df_step1.loc[df_step1[\"glazing\"] == \"dg_init_bronze\", \"natural_gas\"])\n",
    "    i_elec = float(\n",
    "        df_step1.loc[df_step1[\"glazing\"] == \"dg_init_bronze\", \"elec_use\"])\n",
    "\n",
    "    for df_step in [df_step1, df_step2, df_step3]:\n",
    "        df_step[\"natural_gas\"] = (df_step[\"natural_gas\"] - i_gas)\n",
    "        df_step[\"elec_use\"] = (df_step[\"elec_use\"] - i_elec)\n",
    "\n",
    "else:\n",
    "    print(\"DG_init not in step 1! energy use not substracted by dg_init!\")"
   ]
  },
  {
   "cell_type": "code",
   "execution_count": 92,
   "metadata": {},
   "outputs": [],
   "source": [
    "# Optimised HVAC system, VAV, (steps 4, 5, 8, 9):\n",
    "# Subtraction of energy use by that in the initial scenario:\n",
    "if not df_step4.loc[df_step4[\"glazing\"] == \"dg_init_bronze\"].empty:\n",
    "    i_gas = float(\n",
    "        df_step4.loc[df_step4[\"glazing\"] == \"dg_init_bronze\", \"natural_gas\"])\n",
    "    i_elec = float(\n",
    "        df_step4.loc[df_step4[\"glazing\"] == \"dg_init_bronze\", \"elec_use\"])\n",
    "\n",
    "    for df_step in [df_step4, df_step5, df_step8, df_step9,\n",
    "                    df_step10, df_step11, df_step12, df_step13]:\n",
    "        df_step[\"natural_gas\"] = (df_step[\"natural_gas\"] - i_gas)\n",
    "        df_step[\"elec_use\"] = (df_step[\"elec_use\"] - i_elec)\n",
    "\n",
    "else:\n",
    "    print(\"DG_init not in step 4! energy use not substracted by dg_init!\")"
   ]
  },
  {
   "cell_type": "code",
   "execution_count": 93,
   "metadata": {},
   "outputs": [],
   "source": [
    "# Fully electrified HVAC system, VRF, (steps 6, 7):\n",
    "# Subtraction of energy use by that in the initial scenario:\n",
    "if not df_step6.loc[df_step6[\"glazing\"] == \"dg_init_bronze\"].empty:\n",
    "    i_gas = float(\n",
    "        df_step6.loc[df_step6[\"glazing\"] == \"dg_init_bronze\", \"natural_gas\"])\n",
    "    i_elec = float(\n",
    "        df_step6.loc[df_step6[\"glazing\"] == \"dg_init_bronze\", \"elec_use\"])\n",
    "\n",
    "    for df_step in [df_step6, df_step7]:\n",
    "        df_step[\"natural_gas\"] = (df_step[\"natural_gas\"] - i_gas)\n",
    "        df_step[\"elec_use\"] = (df_step[\"elec_use\"] - i_elec)\n",
    "\n",
    "else:\n",
    "    print(\"DG_init not in step 6! energy use not substracted by dg_init!\")"
   ]
  },
  {
   "cell_type": "code",
   "execution_count": 94,
   "metadata": {},
   "outputs": [],
   "source": [
    "# Varying weather data, steps: 14, 15, 16:\n",
    "# Subtraction of energy use by that in the initial scenario:\n",
    "for df_step in [df_step14, df_step15, df_step16]:\n",
    "    if not df_step.loc[df_step[\"glazing\"] == \"dg_init_bronze\"].empty:\n",
    "        i_gas = float(\n",
    "            df_step.loc[df_step[\"glazing\"] == \"dg_init_bronze\", \"natural_gas\"])\n",
    "        i_elec = float(\n",
    "            df_step.loc[df_step[\"glazing\"] == \"dg_init_bronze\", \"elec_use\"])\n",
    "\n",
    "        df_step[\"natural_gas\"] = (df_step[\"natural_gas\"] - i_gas)\n",
    "        df_step[\"elec_use\"] = (df_step[\"elec_use\"] - i_elec)\n",
    "\n",
    "    else:\n",
    "        print(\"DG_init not in step \", df_step.name,\n",
    "              \"! energy use not substracted by dg_init!\")"
   ]
  },
  {
   "cell_type": "markdown",
   "metadata": {},
   "source": [
    "# Impact Assessment of the Whole Life Cycle of Curtain Walls Retrofitting"
   ]
  },
  {
   "cell_type": "markdown",
   "metadata": {},
   "source": [
    "## Setup of the LCA"
   ]
  },
  {
   "cell_type": "markdown",
   "metadata": {},
   "source": [
    "First, we define the activity of dismantling, and thus disposal, of the existing curtain wall:"
   ]
  },
  {
   "cell_type": "code",
   "execution_count": 95,
   "metadata": {},
   "outputs": [
    {
     "name": "stdout",
     "output_type": "stream",
     "text": [
      "My activity is:\n",
      " 'curtain wall, dismantling, old double glazing' (square meter, BE, ('building components', 'windows'))\n"
     ]
    }
   ],
   "source": [
    "out_old_cw = exldb_cw.get('dismantling_cw_old_dg')\n",
    "# Check:\n",
    "print('My activity is:\\n', out_old_cw)"
   ]
  },
  {
   "cell_type": "markdown",
   "metadata": {},
   "source": [
    "Then we define the production activity of the new curtain wall:"
   ]
  },
  {
   "cell_type": "code",
   "execution_count": 96,
   "metadata": {},
   "outputs": [
    {
     "name": "stdout",
     "output_type": "stream",
     "text": [
      "My activity is:\n",
      " 'curtain wall, production' (square meter, BE, ('building components', 'windows'))\n"
     ]
    }
   ],
   "source": [
    "prod_cw = exldb_cw.get('production_cw')\n",
    "# Check:\n",
    "print('My activity is:\\n', prod_cw)"
   ]
  },
  {
   "cell_type": "markdown",
   "metadata": {},
   "source": [
    "We define the use phase activity (not linked to production):"
   ]
  },
  {
   "cell_type": "code",
   "execution_count": 97,
   "metadata": {},
   "outputs": [
    {
     "name": "stdout",
     "output_type": "stream",
     "text": [
      "My activity is:\n",
      " 'use of glazed office building, hvac and lighting' (square meter, BE, ('building components', 'windows'))\n"
     ]
    }
   ],
   "source": [
    "use_bldg_w_cw = exldb_cw.get('use_glazed_office_bldg')\n",
    "# Check:\n",
    "print('My activity is:\\n', use_bldg_w_cw)"
   ]
  },
  {
   "cell_type": "markdown",
   "metadata": {},
   "source": [
    "We define a use phase activity integrating the production phase:"
   ]
  },
  {
   "cell_type": "code",
   "execution_count": 98,
   "metadata": {},
   "outputs": [
    {
     "name": "stdout",
     "output_type": "stream",
     "text": [
      "My activity is:\n",
      " 'use of curtain wall' (square meter, BE, ('building components', 'windows'))\n"
     ]
    }
   ],
   "source": [
    "prod_and_use_cw = exldb_cw.get('use_cw')\n",
    "# Check:\n",
    "print('My activity is:\\n', prod_and_use_cw)"
   ]
  },
  {
   "cell_type": "markdown",
   "metadata": {},
   "source": [
    "We define a maintenance activity:"
   ]
  },
  {
   "cell_type": "code",
   "execution_count": 99,
   "metadata": {},
   "outputs": [
    {
     "name": "stdout",
     "output_type": "stream",
     "text": [
      "My activity is:\n",
      " 'curtain wall, maintenance' (square meter, BE, ('building components', 'windows'))\n"
     ]
    }
   ],
   "source": [
    "repair_cw = exldb_cw.get('maintenance_cw')\n",
    "# Check:\n",
    "print('My activity is:\\n', repair_cw)"
   ]
  },
  {
   "cell_type": "markdown",
   "metadata": {},
   "source": [
    "And finally, the end-of-life activity:"
   ]
  },
  {
   "cell_type": "code",
   "execution_count": 100,
   "metadata": {},
   "outputs": [
    {
     "name": "stdout",
     "output_type": "stream",
     "text": [
      "My activity is:\n",
      " 'curtain wall, end of life' (square meter, BE, ('building components', 'windows'))\n"
     ]
    }
   ],
   "source": [
    "eol_cw = exldb_cw.get('eol_cw')\n",
    "# Check:\n",
    "print('My activity is:\\n', eol_cw)"
   ]
  },
  {
   "cell_type": "markdown",
   "metadata": {},
   "source": [
    "Define the lifespan (years):"
   ]
  },
  {
   "cell_type": "code",
   "execution_count": 101,
   "metadata": {},
   "outputs": [],
   "source": [
    "lifespan = [p.amount for p in DatabaseParameter.select()\n",
    "            if p.name == 'param_lifespan'][0]"
   ]
  },
  {
   "cell_type": "markdown",
   "metadata": {},
   "source": [
    "## Functions to Perform the LCAs"
   ]
  },
  {
   "cell_type": "markdown",
   "metadata": {},
   "source": [
    "Write a function to perform the LCA according to activities and parameter sets:"
   ]
  },
  {
   "cell_type": "code",
   "execution_count": 102,
   "metadata": {},
   "outputs": [],
   "source": [
    "def lca_cw_gwp(df_step, act, fu):\n",
    "    \"\"\"\n",
    "    Perform a simple lca for different scenarios \n",
    "    according to parameters defined in df_step\n",
    "\n",
    "    Parameters\n",
    "    ----------\n",
    "    df_step: DataFrame with list of parameters and their values\n",
    "    act: activity to assess\n",
    "    fu: functional unit\n",
    "\n",
    "    Returns\n",
    "    -------\n",
    "    ls_results: list of values for IPCC GWP\n",
    "    \"\"\"\n",
    "\n",
    "    # To save results:\n",
    "    ls_results = []\n",
    "\n",
    "    # Define a dataframe only with bw2 parameters:\n",
    "    df_param = df_step.drop(['glazing',\n",
    "                             'heating_setpoint',\n",
    "                             'cooling_setpoint'], axis=1)\n",
    "\n",
    "    # Convert dataframe in a numpy array:\n",
    "    val_np = df_param.to_numpy()\n",
    "\n",
    "    n_scenario = 0\n",
    "\n",
    "    for v in val_np:\n",
    "        name_scenario = df_param.index[n_scenario]\n",
    "        n_scenario += 1\n",
    "\n",
    "        for i in range(len(df_param.columns)):\n",
    "            # Change parameters according to column.index:\n",
    "            param_name = df_param.columns[i]\n",
    "            n = df_param.columns.get_loc(param_name)\n",
    "\n",
    "            (ActivityParameter.update(amount=v[n])\n",
    "             .where(ActivityParameter.name == f'param_{param_name}').execute())\n",
    "\n",
    "        ActivityParameter.recalculate_exchanges(\"cw_use_param_group\")\n",
    "        ActivityParameter.recalculate_exchanges(\"cw_eol_param_group\")\n",
    "\n",
    "        lca = LCA({act: fu}, method_ilcd_gwp)\n",
    "        lca.lci()\n",
    "        lca.lcia()\n",
    "        ls_results.append({'run': name_scenario, 'result': lca.score})\n",
    "\n",
    "    return ls_results"
   ]
  },
  {
   "cell_type": "markdown",
   "metadata": {},
   "source": [
    "Write a function to perform a multi_method LCA, with small_methods, according to activities and parameter sets:"
   ]
  },
  {
   "cell_type": "code",
   "execution_count": 103,
   "metadata": {},
   "outputs": [
    {
     "data": {
      "text/plain": [
       "[('ILCD 2.0 2018 midpoint', 'climate change', 'climate change total'),\n",
       " ('ILCD 2.0 2018 midpoint', 'ecosystem quality', 'freshwater ecotoxicity'),\n",
       " ('ILCD 2.0 2018 midpoint',\n",
       "  'ecosystem quality',\n",
       "  'freshwater and terrestrial acidification'),\n",
       " ('ILCD 2.0 2018 midpoint', 'ecosystem quality', 'freshwater eutrophication'),\n",
       " ('ILCD 2.0 2018 midpoint', 'ecosystem quality', 'terrestrial eutrophication'),\n",
       " ('ILCD 2.0 2018 midpoint', 'human health', 'ozone layer depletion'),\n",
       " ('ILCD 2.0 2018 midpoint', 'human health', 'photochemical ozone creation'),\n",
       " ('ILCD 2.0 2018 midpoint', 'resources', 'fossils'),\n",
       " ('ILCD 2.0 2018 midpoint', 'resources', 'land use')]"
      ]
     },
     "execution_count": 103,
     "metadata": {},
     "output_type": "execute_result"
    }
   ],
   "source": [
    "# Reminder of the reduced list of methods:\n",
    "methods_small"
   ]
  },
  {
   "cell_type": "code",
   "execution_count": 104,
   "metadata": {},
   "outputs": [],
   "source": [
    "def lca_cw_mlca_small(df_step, act, fu):\n",
    "    \"\"\"\n",
    "    Perform a multi-method lca for different scenarios \n",
    "    according to parameters defined in df_step.\n",
    "    Methods= ReCiPe: GWP100, ODPinf, PMFP, POFP\n",
    "\n",
    "    Parameters\n",
    "    ----------\n",
    "    df_step: DataFrame with list of parameters and their values\n",
    "    act: activity to assess\n",
    "    fu: functional unit\n",
    "\n",
    "    Returns\n",
    "    -------\n",
    "    ls_mlca_small_results: list of values\n",
    "    \"\"\"\n",
    "\n",
    "    # To save results:\n",
    "    ls_mlca_small_results = []\n",
    "\n",
    "    # Define a dataframe only with bw2 parameters:\n",
    "    df_param = df_step.drop(['glazing', 'heating_setpoint',\n",
    "                             'cooling_setpoint'], axis=1)\n",
    "\n",
    "    # Convert dataframe in a numpy array:\n",
    "    val_np = df_param.to_numpy()\n",
    "\n",
    "    n_scenario = 0\n",
    "\n",
    "    for v in val_np:\n",
    "        name_scenario = df_param.index[n_scenario]\n",
    "        n_scenario += 1\n",
    "\n",
    "        for i in range(len(df_param.columns)):\n",
    "            # Change parameters according to column.index:\n",
    "            param_name = df_param.columns[i]\n",
    "            n = df_param.columns.get_loc(param_name)\n",
    "\n",
    "            (ActivityParameter.update(amount=v[n])\n",
    "             .where(ActivityParameter.name == f'param_{param_name}').execute())\n",
    "\n",
    "        ActivityParameter.recalculate_exchanges(\"cw_use_param_group\")\n",
    "        ActivityParameter.recalculate_exchanges(\"cw_eol_param_group\")\n",
    "\n",
    "        lca = LCA({act: fu})\n",
    "        lca.lci()\n",
    "\n",
    "        for method in methods_small:\n",
    "            lca.switch_method(method)\n",
    "            lca.lcia()\n",
    "            ls_mlca_small_results.append((name_scenario,\n",
    "                                          method[2].title(), lca.score,\n",
    "                                          bw.methods.get(method).get('unit')))\n",
    "\n",
    "    return ls_mlca_small_results"
   ]
  },
  {
   "cell_type": "markdown",
   "metadata": {},
   "source": [
    "Write a function to perform a multi_method LCA, with full_methods, according to activities and parameter sets:"
   ]
  },
  {
   "cell_type": "code",
   "execution_count": 105,
   "metadata": {},
   "outputs": [
    {
     "data": {
      "text/plain": [
       "[('ILCD 2.0 2018 midpoint', 'climate change', 'climate change total'),\n",
       " ('ILCD 2.0 2018 midpoint', 'ecosystem quality', 'freshwater ecotoxicity'),\n",
       " ('ILCD 2.0 2018 midpoint',\n",
       "  'ecosystem quality',\n",
       "  'freshwater and terrestrial acidification'),\n",
       " ('ILCD 2.0 2018 midpoint', 'ecosystem quality', 'freshwater eutrophication'),\n",
       " ('ILCD 2.0 2018 midpoint', 'ecosystem quality', 'marine eutrophication'),\n",
       " ('ILCD 2.0 2018 midpoint', 'ecosystem quality', 'terrestrial eutrophication'),\n",
       " ('ILCD 2.0 2018 midpoint', 'human health', 'non-carcinogenic effects'),\n",
       " ('ILCD 2.0 2018 midpoint', 'human health', 'carcinogenic effects'),\n",
       " ('ILCD 2.0 2018 midpoint', 'human health', 'ionising radiation'),\n",
       " ('ILCD 2.0 2018 midpoint', 'human health', 'ozone layer depletion'),\n",
       " ('ILCD 2.0 2018 midpoint', 'human health', 'photochemical ozone creation'),\n",
       " ('ILCD 2.0 2018 midpoint', 'human health', 'respiratory effects, inorganics'),\n",
       " ('ILCD 2.0 2018 midpoint', 'resources', 'minerals and metals'),\n",
       " ('ILCD 2.0 2018 midpoint', 'resources', 'dissipated water'),\n",
       " ('ILCD 2.0 2018 midpoint', 'resources', 'fossils'),\n",
       " ('ILCD 2.0 2018 midpoint', 'resources', 'land use')]"
      ]
     },
     "execution_count": 105,
     "metadata": {},
     "output_type": "execute_result"
    }
   ],
   "source": [
    "# Reminder of the full list of methods:\n",
    "methods_full"
   ]
  },
  {
   "cell_type": "code",
   "execution_count": 106,
   "metadata": {},
   "outputs": [],
   "source": [
    "def lca_cw_mlca_full(df_step, act, fu):\n",
    "    \"\"\"\n",
    "    Perform a multi-method lca for different scenarios \n",
    "    according to parameters defined in df_step.\n",
    "    Methods= ReCiPe: GWP100, ODPinf, PMFP, POFP\n",
    "\n",
    "    Parameters\n",
    "    ----------\n",
    "    df_step: DataFrame with list of parameters and their values\n",
    "    act: activity to assess\n",
    "    fu: functional unit\n",
    "\n",
    "    Returns\n",
    "    -------\n",
    "    ls_mlca_full_results: list of values\n",
    "    \"\"\"\n",
    "\n",
    "    # To save results:\n",
    "    ls_mlca_full_results = []\n",
    "\n",
    "    # Define a dataframe only with bw2 parameters:\n",
    "    df_param = df_step.drop(['glazing', 'heating_setpoint',\n",
    "                             'cooling_setpoint'], axis=1)\n",
    "\n",
    "    # Convert dataframe in a numpy array:\n",
    "    val_np = df_param.to_numpy()\n",
    "\n",
    "    n_scenario = 0\n",
    "\n",
    "    for v in val_np:\n",
    "        name_scenario = df_param.index[n_scenario]\n",
    "        n_scenario += 1\n",
    "\n",
    "        for i in range(len(df_param.columns)):\n",
    "            # Change parameters according to column.index:\n",
    "            param_name = df_param.columns[i]\n",
    "            n = df_param.columns.get_loc(param_name)\n",
    "\n",
    "            (ActivityParameter.update(amount=v[n])\n",
    "             .where(ActivityParameter.name == f'param_{param_name}').execute())\n",
    "\n",
    "        ActivityParameter.recalculate_exchanges(\"cw_use_param_group\")\n",
    "        ActivityParameter.recalculate_exchanges(\"cw_eol_param_group\")\n",
    "\n",
    "        lca = LCA({act: fu})\n",
    "        lca.lci()\n",
    "\n",
    "        for method in methods_full:\n",
    "            lca.switch_method(method)\n",
    "            lca.lcia()\n",
    "            ls_mlca_full_results.append((name_scenario,\n",
    "                                         method[2].title(), lca.score,\n",
    "                                         bw.methods.get(method).get('unit')))\n",
    "\n",
    "    return ls_mlca_full_results"
   ]
  },
  {
   "cell_type": "markdown",
   "metadata": {},
   "source": [
    "A little function to transform a list of mlca_results in a DataFrame:"
   ]
  },
  {
   "cell_type": "code",
   "execution_count": 107,
   "metadata": {},
   "outputs": [],
   "source": [
    "def ls_to_df_mlca(ls):\n",
    "    \"\"\"\n",
    "    A little function to transform the ls_mlca_results \n",
    "    in a readable DataFrame\n",
    "\n",
    "    Parameters\n",
    "    ----------\n",
    "    ls: the list\n",
    "\n",
    "    Returns\n",
    "    -------\n",
    "    df: the DataFrame\n",
    "    \"\"\"\n",
    "\n",
    "    # DataFrame to then work w/ results:\n",
    "    df = pd.DataFrame(ls,\n",
    "                      columns=[\"Name\",\n",
    "                               \"Impact Category\",\n",
    "                               \"Score\",\n",
    "                               \"Unit\"\n",
    "                               ]\n",
    "                      )\n",
    "\n",
    "    df = pd.pivot_table(df,\n",
    "                        index=[\"Name\"],\n",
    "                        columns=[\"Impact Category\",\n",
    "                                 \"Unit\"\n",
    "                                 ],\n",
    "                        values=\"Score\"\n",
    "                        )\n",
    "\n",
    "    return df"
   ]
  },
  {
   "cell_type": "markdown",
   "metadata": {},
   "source": [
    "A function to save mlca_full_results in a DataFrame, for each simulation run and LCA phase:"
   ]
  },
  {
   "cell_type": "code",
   "execution_count": 108,
   "metadata": {},
   "outputs": [],
   "source": [
    "def ls_to_df_mlca_full(step, ls, act, df_results):\n",
    "    \"\"\"\n",
    "    A function to append a list of mlca results in a DataFrame, \n",
    "        with values organised per simulation run (index), \n",
    "        and LCA phase (columns).\n",
    "\n",
    "    Parameters\n",
    "    ----------\n",
    "    step: correspond to the batch of simulation runs: step_1, 2...\n",
    "    ls: the list of results.\n",
    "    df_results: a DataFrame where LCA results will be saved.\n",
    "    act: activity for which the LCA has been done.\n",
    "\n",
    "    Returns\n",
    "    -------\n",
    "    df_results\n",
    "    \"\"\"\n",
    "\n",
    "    # New DataFrame from list of results:\n",
    "    df_temp = pd.DataFrame(ls,\n",
    "                           columns=[\"Name\",\n",
    "                                    \"Impact Category\",\n",
    "                                    \"Score\",\n",
    "                                    \"Unit\"\n",
    "                                    ]\n",
    "                           )\n",
    "\n",
    "    # Add information regarding the step:\n",
    "    df_temp[\"Step\"] = step\n",
    "    # Add information regarding the LCA phase:\n",
    "    df_temp[\"LCA Phase\"] = str(act[\"name\"])\n",
    "\n",
    "    # Pivot the DataFrame:\n",
    "    df_temp = pd.pivot_table(df_temp,\n",
    "                             index=[\"Step\",\n",
    "                                    \"Name\"\n",
    "                                    ],\n",
    "                             columns=[\"LCA Phase\",\n",
    "                                      \"Impact Category\",\n",
    "                                      \"Unit\"\n",
    "                                      ],\n",
    "                             values=\"Score\"\n",
    "                             )\n",
    "    # Merge with existing results:\n",
    "    if df_results.empty:\n",
    "        df_results = df_temp\n",
    "        print(\"empty, df_results replaced\")\n",
    "    else:\n",
    "        # Merge by columns_to_use:\n",
    "        df_results = pd.concat(\n",
    "            [df_results, df_temp[~df_temp.index.isin(df_results.index)]]\n",
    "        )\n",
    "        df_results.update(df_temp)\n",
    "\n",
    "    return df_results"
   ]
  },
  {
   "cell_type": "markdown",
   "metadata": {},
   "source": [
    "A function to conduct a mLCA per activity and save the mlca_full_results in a DataFrame, for each simulation run and each LCA phase:"
   ]
  },
  {
   "cell_type": "code",
   "execution_count": 109,
   "metadata": {},
   "outputs": [],
   "source": [
    "def full_lca_to_df(step, df_step, df_results, fu):\n",
    "    \"\"\"\n",
    "    A function to conduct and LCA (w/ function: lca_cw_mlca_full)\n",
    "        and append a list of mlca results in a DataFrame \n",
    "        (w/ function: ls_to_df_mlca_full), \n",
    "        with values organised per simulation run (index),\n",
    "        and LCA phase (columns).\n",
    "\n",
    "    Parameters\n",
    "    ----------\n",
    "    step: correspond to the batch of simulation runs: step_1, 2...\n",
    "    df_step: DataFrame with list of parameters and their values\n",
    "\n",
    "    Returns\n",
    "    -------\n",
    "    df_results: a DataFrame where LCA results are saved,\n",
    "        simulation run as index, LCA phase and impact indicators as columns.\n",
    "    \"\"\"\n",
    "\n",
    "    for act in [prod_cw, use_bldg_w_cw, repair_cw, eol_cw]:\n",
    "        ls = lca_cw_mlca_full(df_step, act, fu)\n",
    "        df_results = ls_to_df_mlca_full(step, ls, act, df_results)\n",
    "\n",
    "    return df_results"
   ]
  },
  {
   "cell_type": "markdown",
   "metadata": {},
   "source": [
    "## Environmental Analysis, Step-by-Step"
   ]
  },
  {
   "cell_type": "markdown",
   "metadata": {},
   "source": [
    "### Life Cycle Impact Assessment"
   ]
  },
  {
   "cell_type": "markdown",
   "metadata": {},
   "source": [
    "Full life cycle assessment, ILCD methods, from cradle-to-grave, for each simulation run:"
   ]
  },
  {
   "cell_type": "markdown",
   "metadata": {},
   "source": [
    "<font color=\"red\">Performing the impact assessment or loading the csv file where previous results are stored?<font>"
   ]
  },
  {
   "cell_type": "code",
   "execution_count": 110,
   "metadata": {},
   "outputs": [],
   "source": [
    "# Do we perform the LCIA?\n",
    "calc_lcia = True"
   ]
  },
  {
   "cell_type": "markdown",
   "metadata": {},
   "source": [
    "Be patient, takes time to calculate !"
   ]
  },
  {
   "cell_type": "code",
   "execution_count": 111,
   "metadata": {
    "scrolled": false
   },
   "outputs": [
    {
     "name": "stdout",
     "output_type": "stream",
     "text": [
      "empty, df_results replaced\n"
     ]
    },
    {
     "name": "stderr",
     "output_type": "stream",
     "text": [
      "TypeError\n",
      "   param_elec_use *  param_lifespan\n",
      "unsupported operand type(s) for *: 'NoneType' and 'float'\n",
      "TypeError\n",
      "   param_natural_gas *  param_lifespan\n",
      "unsupported operand type(s) for *: 'NoneType' and 'float'\n",
      "TypeError\n",
      "   param_elec_use *  param_lifespan\n",
      "unsupported operand type(s) for *: 'NoneType' and 'float'\n",
      "TypeError\n",
      "   param_natural_gas *  param_lifespan\n",
      "unsupported operand type(s) for *: 'NoneType' and 'float'\n",
      "TypeError\n",
      "   param_elec_use *  param_lifespan\n",
      "unsupported operand type(s) for *: 'NoneType' and 'float'\n",
      "TypeError\n",
      "   param_natural_gas *  param_lifespan\n",
      "unsupported operand type(s) for *: 'NoneType' and 'float'\n",
      "TypeError\n",
      "   param_elec_use *  param_lifespan\n",
      "unsupported operand type(s) for *: 'NoneType' and 'float'\n",
      "TypeError\n",
      "   param_natural_gas *  param_lifespan\n",
      "unsupported operand type(s) for *: 'NoneType' and 'float'\n",
      "TypeError\n",
      "   param_elec_use *  param_lifespan\n",
      "unsupported operand type(s) for *: 'NoneType' and 'float'\n",
      "TypeError\n",
      "   param_natural_gas *  param_lifespan\n",
      "unsupported operand type(s) for *: 'NoneType' and 'float'\n",
      "TypeError\n",
      "   param_elec_use *  param_lifespan\n",
      "unsupported operand type(s) for *: 'NoneType' and 'float'\n",
      "TypeError\n",
      "   param_natural_gas *  param_lifespan\n",
      "unsupported operand type(s) for *: 'NoneType' and 'float'\n",
      "TypeError\n",
      "   param_elec_use *  param_lifespan\n",
      "unsupported operand type(s) for *: 'NoneType' and 'float'\n",
      "TypeError\n",
      "   param_natural_gas *  param_lifespan\n",
      "unsupported operand type(s) for *: 'NoneType' and 'float'\n",
      "TypeError\n",
      "   param_elec_use *  param_lifespan\n",
      "unsupported operand type(s) for *: 'NoneType' and 'float'\n",
      "TypeError\n",
      "   param_natural_gas *  param_lifespan\n",
      "unsupported operand type(s) for *: 'NoneType' and 'float'\n",
      "TypeError\n",
      "   param_elec_use *  param_lifespan\n",
      "unsupported operand type(s) for *: 'NoneType' and 'float'\n",
      "TypeError\n",
      "   param_natural_gas *  param_lifespan\n",
      "unsupported operand type(s) for *: 'NoneType' and 'float'\n",
      "TypeError\n",
      "   param_elec_use *  param_lifespan\n",
      "unsupported operand type(s) for *: 'NoneType' and 'float'\n",
      "TypeError\n",
      "   param_natural_gas *  param_lifespan\n",
      "unsupported operand type(s) for *: 'NoneType' and 'float'\n",
      "TypeError\n",
      "   param_elec_use *  param_lifespan\n",
      "unsupported operand type(s) for *: 'NoneType' and 'float'\n",
      "TypeError\n",
      "   param_natural_gas *  param_lifespan\n",
      "unsupported operand type(s) for *: 'NoneType' and 'float'\n",
      "TypeError\n",
      "   param_elec_use *  param_lifespan\n",
      "unsupported operand type(s) for *: 'NoneType' and 'float'\n",
      "TypeError\n",
      "   param_natural_gas *  param_lifespan\n",
      "unsupported operand type(s) for *: 'NoneType' and 'float'\n",
      "TypeError\n",
      "   param_elec_use *  param_lifespan\n",
      "unsupported operand type(s) for *: 'NoneType' and 'float'\n",
      "TypeError\n",
      "   param_natural_gas *  param_lifespan\n",
      "unsupported operand type(s) for *: 'NoneType' and 'float'\n",
      "TypeError\n",
      "   param_elec_use *  param_lifespan\n",
      "unsupported operand type(s) for *: 'NoneType' and 'float'\n",
      "TypeError\n",
      "   param_natural_gas *  param_lifespan\n",
      "unsupported operand type(s) for *: 'NoneType' and 'float'\n",
      "TypeError\n",
      "   param_elec_use *  param_lifespan\n",
      "unsupported operand type(s) for *: 'NoneType' and 'float'\n",
      "TypeError\n",
      "   param_natural_gas *  param_lifespan\n",
      "unsupported operand type(s) for *: 'NoneType' and 'float'\n",
      "TypeError\n",
      "   param_elec_use *  param_lifespan\n",
      "unsupported operand type(s) for *: 'NoneType' and 'float'\n",
      "TypeError\n",
      "   param_natural_gas *  param_lifespan\n",
      "unsupported operand type(s) for *: 'NoneType' and 'float'\n",
      "TypeError\n",
      "   param_elec_use *  param_lifespan\n",
      "unsupported operand type(s) for *: 'NoneType' and 'float'\n",
      "TypeError\n",
      "   param_natural_gas *  param_lifespan\n",
      "unsupported operand type(s) for *: 'NoneType' and 'float'\n",
      "TypeError\n",
      "   param_elec_use *  param_lifespan\n",
      "unsupported operand type(s) for *: 'NoneType' and 'float'\n",
      "TypeError\n",
      "   param_natural_gas *  param_lifespan\n",
      "unsupported operand type(s) for *: 'NoneType' and 'float'\n",
      "TypeError\n",
      "   param_elec_use *  param_lifespan\n",
      "unsupported operand type(s) for *: 'NoneType' and 'float'\n",
      "TypeError\n",
      "   param_natural_gas *  param_lifespan\n",
      "unsupported operand type(s) for *: 'NoneType' and 'float'\n",
      "TypeError\n",
      "   param_elec_use *  param_lifespan\n",
      "unsupported operand type(s) for *: 'NoneType' and 'float'\n",
      "TypeError\n",
      "   param_natural_gas *  param_lifespan\n",
      "unsupported operand type(s) for *: 'NoneType' and 'float'\n",
      "TypeError\n",
      "   param_elec_use *  param_lifespan\n",
      "unsupported operand type(s) for *: 'NoneType' and 'float'\n",
      "TypeError\n",
      "   param_natural_gas *  param_lifespan\n",
      "unsupported operand type(s) for *: 'NoneType' and 'float'\n",
      "TypeError\n",
      "   param_elec_use *  param_lifespan\n",
      "unsupported operand type(s) for *: 'NoneType' and 'float'\n",
      "TypeError\n",
      "   param_natural_gas *  param_lifespan\n",
      "unsupported operand type(s) for *: 'NoneType' and 'float'\n",
      "TypeError\n",
      "   param_elec_use *  param_lifespan\n",
      "unsupported operand type(s) for *: 'NoneType' and 'float'\n",
      "TypeError\n",
      "   param_natural_gas *  param_lifespan\n",
      "unsupported operand type(s) for *: 'NoneType' and 'float'\n",
      "TypeError\n",
      "   param_elec_use *  param_lifespan\n",
      "unsupported operand type(s) for *: 'NoneType' and 'float'\n",
      "TypeError\n",
      "   param_natural_gas *  param_lifespan\n",
      "unsupported operand type(s) for *: 'NoneType' and 'float'\n",
      "TypeError\n",
      "   param_elec_use *  param_lifespan\n",
      "unsupported operand type(s) for *: 'NoneType' and 'float'\n",
      "TypeError\n",
      "   param_natural_gas *  param_lifespan\n",
      "unsupported operand type(s) for *: 'NoneType' and 'float'\n",
      "TypeError\n",
      "   param_elec_use *  param_lifespan\n",
      "unsupported operand type(s) for *: 'NoneType' and 'float'\n",
      "TypeError\n",
      "   param_natural_gas *  param_lifespan\n",
      "unsupported operand type(s) for *: 'NoneType' and 'float'\n",
      "TypeError\n",
      "   param_elec_use *  param_lifespan\n",
      "unsupported operand type(s) for *: 'NoneType' and 'float'\n",
      "TypeError\n",
      "   param_natural_gas *  param_lifespan\n",
      "unsupported operand type(s) for *: 'NoneType' and 'float'\n",
      "TypeError\n",
      "   param_elec_use *  param_lifespan\n",
      "unsupported operand type(s) for *: 'NoneType' and 'float'\n",
      "TypeError\n",
      "   param_natural_gas *  param_lifespan\n",
      "unsupported operand type(s) for *: 'NoneType' and 'float'\n",
      "TypeError\n",
      "   param_elec_use *  param_lifespan\n",
      "unsupported operand type(s) for *: 'NoneType' and 'float'\n",
      "TypeError\n",
      "   param_natural_gas *  param_lifespan\n",
      "unsupported operand type(s) for *: 'NoneType' and 'float'\n",
      "TypeError\n",
      "   param_elec_use *  param_lifespan\n",
      "unsupported operand type(s) for *: 'NoneType' and 'float'\n",
      "TypeError\n",
      "   param_natural_gas *  param_lifespan\n",
      "unsupported operand type(s) for *: 'NoneType' and 'float'\n",
      "TypeError\n",
      "   param_elec_use *  param_lifespan\n",
      "unsupported operand type(s) for *: 'NoneType' and 'float'\n",
      "TypeError\n",
      "   param_natural_gas *  param_lifespan\n",
      "unsupported operand type(s) for *: 'NoneType' and 'float'\n",
      "TypeError\n",
      "   param_elec_use *  param_lifespan\n",
      "unsupported operand type(s) for *: 'NoneType' and 'float'\n",
      "TypeError\n",
      "   param_natural_gas *  param_lifespan\n",
      "unsupported operand type(s) for *: 'NoneType' and 'float'\n",
      "TypeError\n",
      "   param_elec_use *  param_lifespan\n",
      "unsupported operand type(s) for *: 'NoneType' and 'float'\n",
      "TypeError\n",
      "   param_natural_gas *  param_lifespan\n",
      "unsupported operand type(s) for *: 'NoneType' and 'float'\n",
      "TypeError\n",
      "   param_elec_use *  param_lifespan\n",
      "unsupported operand type(s) for *: 'NoneType' and 'float'\n",
      "TypeError\n",
      "   param_natural_gas *  param_lifespan\n",
      "unsupported operand type(s) for *: 'NoneType' and 'float'\n"
     ]
    },
    {
     "ename": "TypeError",
     "evalue": "ufunc 'isnan' not supported for the input types, and the inputs could not be safely coerced to any supported types according to the casting rule ''safe''",
     "output_type": "error",
     "traceback": [
      "\u001b[1;31m---------------------------------------------------------------------------\u001b[0m",
      "\u001b[1;31mTypeError\u001b[0m                                 Traceback (most recent call last)",
      "\u001b[1;32m~\\AppData\\Local\\Temp/ipykernel_38780/1585493235.py\u001b[0m in \u001b[0;36m<module>\u001b[1;34m\u001b[0m\n\u001b[0;32m     14\u001b[0m     \u001b[1;32mfor\u001b[0m \u001b[0mdf\u001b[0m \u001b[1;32min\u001b[0m \u001b[0mls_df_step\u001b[0m\u001b[1;33m:\u001b[0m\u001b[1;33m\u001b[0m\u001b[1;33m\u001b[0m\u001b[0m\n\u001b[0;32m     15\u001b[0m         \u001b[0mstep\u001b[0m \u001b[1;33m=\u001b[0m \u001b[1;34m\"step_\"\u001b[0m\u001b[1;33m+\u001b[0m\u001b[0mstr\u001b[0m\u001b[1;33m(\u001b[0m\u001b[0mn\u001b[0m\u001b[1;33m)\u001b[0m\u001b[1;33m\u001b[0m\u001b[1;33m\u001b[0m\u001b[0m\n\u001b[1;32m---> 16\u001b[1;33m         df_mlca_full_raw_results = full_lca_to_df(step, df,\n\u001b[0m\u001b[0;32m     17\u001b[0m                                                   \u001b[0mdf_mlca_full_raw_results\u001b[0m\u001b[1;33m,\u001b[0m \u001b[1;36m1\u001b[0m\u001b[1;33m\u001b[0m\u001b[1;33m\u001b[0m\u001b[0m\n\u001b[0;32m     18\u001b[0m                                                   )\n",
      "\u001b[1;32m~\\AppData\\Local\\Temp/ipykernel_38780/567823009.py\u001b[0m in \u001b[0;36mfull_lca_to_df\u001b[1;34m(step, df_step, df_results, fu)\u001b[0m\n\u001b[0;32m     19\u001b[0m \u001b[1;33m\u001b[0m\u001b[0m\n\u001b[0;32m     20\u001b[0m     \u001b[1;32mfor\u001b[0m \u001b[0mact\u001b[0m \u001b[1;32min\u001b[0m \u001b[1;33m[\u001b[0m\u001b[0mprod_cw\u001b[0m\u001b[1;33m,\u001b[0m \u001b[0muse_bldg_w_cw\u001b[0m\u001b[1;33m,\u001b[0m \u001b[0mrepair_cw\u001b[0m\u001b[1;33m,\u001b[0m \u001b[0meol_cw\u001b[0m\u001b[1;33m]\u001b[0m\u001b[1;33m:\u001b[0m\u001b[1;33m\u001b[0m\u001b[1;33m\u001b[0m\u001b[0m\n\u001b[1;32m---> 21\u001b[1;33m         \u001b[0mls\u001b[0m \u001b[1;33m=\u001b[0m \u001b[0mlca_cw_mlca_full\u001b[0m\u001b[1;33m(\u001b[0m\u001b[0mdf_step\u001b[0m\u001b[1;33m,\u001b[0m \u001b[0mact\u001b[0m\u001b[1;33m,\u001b[0m \u001b[0mfu\u001b[0m\u001b[1;33m)\u001b[0m\u001b[1;33m\u001b[0m\u001b[1;33m\u001b[0m\u001b[0m\n\u001b[0m\u001b[0;32m     22\u001b[0m         \u001b[0mdf_results\u001b[0m \u001b[1;33m=\u001b[0m \u001b[0mls_to_df_mlca_full\u001b[0m\u001b[1;33m(\u001b[0m\u001b[0mstep\u001b[0m\u001b[1;33m,\u001b[0m \u001b[0mls\u001b[0m\u001b[1;33m,\u001b[0m \u001b[0mact\u001b[0m\u001b[1;33m,\u001b[0m \u001b[0mdf_results\u001b[0m\u001b[1;33m)\u001b[0m\u001b[1;33m\u001b[0m\u001b[1;33m\u001b[0m\u001b[0m\n\u001b[0;32m     23\u001b[0m \u001b[1;33m\u001b[0m\u001b[0m\n",
      "\u001b[1;32m~\\AppData\\Local\\Temp/ipykernel_38780/936975810.py\u001b[0m in \u001b[0;36mlca_cw_mlca_full\u001b[1;34m(df_step, act, fu)\u001b[0m\n\u001b[0;32m     43\u001b[0m         \u001b[0mActivityParameter\u001b[0m\u001b[1;33m.\u001b[0m\u001b[0mrecalculate_exchanges\u001b[0m\u001b[1;33m(\u001b[0m\u001b[1;34m\"cw_eol_param_group\"\u001b[0m\u001b[1;33m)\u001b[0m\u001b[1;33m\u001b[0m\u001b[1;33m\u001b[0m\u001b[0m\n\u001b[0;32m     44\u001b[0m \u001b[1;33m\u001b[0m\u001b[0m\n\u001b[1;32m---> 45\u001b[1;33m         \u001b[0mlca\u001b[0m \u001b[1;33m=\u001b[0m \u001b[0mLCA\u001b[0m\u001b[1;33m(\u001b[0m\u001b[1;33m{\u001b[0m\u001b[0mact\u001b[0m\u001b[1;33m:\u001b[0m \u001b[0mfu\u001b[0m\u001b[1;33m}\u001b[0m\u001b[1;33m)\u001b[0m\u001b[1;33m\u001b[0m\u001b[1;33m\u001b[0m\u001b[0m\n\u001b[0m\u001b[0;32m     46\u001b[0m         \u001b[0mlca\u001b[0m\u001b[1;33m.\u001b[0m\u001b[0mlci\u001b[0m\u001b[1;33m(\u001b[0m\u001b[1;33m)\u001b[0m\u001b[1;33m\u001b[0m\u001b[1;33m\u001b[0m\u001b[0m\n\u001b[0;32m     47\u001b[0m \u001b[1;33m\u001b[0m\u001b[0m\n",
      "\u001b[1;32m~\\miniconda3\\envs\\py39_PhD\\lib\\site-packages\\bw2calc\\lca.py\u001b[0m in \u001b[0;36m__init__\u001b[1;34m(self, demand, method, weighting, normalization, database_filepath, log_config, presamples, seed, override_presamples_seed)\u001b[0m\n\u001b[0;32m     77\u001b[0m         \u001b[0mself\u001b[0m\u001b[1;33m.\u001b[0m\u001b[0mlogger\u001b[0m \u001b[1;33m=\u001b[0m \u001b[0mlogging\u001b[0m\u001b[1;33m.\u001b[0m\u001b[0mgetLogger\u001b[0m\u001b[1;33m(\u001b[0m\u001b[1;34m'bw2calc'\u001b[0m\u001b[1;33m)\u001b[0m\u001b[1;33m\u001b[0m\u001b[1;33m\u001b[0m\u001b[0m\n\u001b[0;32m     78\u001b[0m \u001b[1;33m\u001b[0m\u001b[0m\n\u001b[1;32m---> 79\u001b[1;33m         \u001b[0mclean_databases\u001b[0m\u001b[1;33m(\u001b[0m\u001b[1;33m)\u001b[0m\u001b[1;33m\u001b[0m\u001b[1;33m\u001b[0m\u001b[0m\n\u001b[0m\u001b[0;32m     80\u001b[0m         \u001b[0mself\u001b[0m\u001b[1;33m.\u001b[0m\u001b[0m_fixed\u001b[0m \u001b[1;33m=\u001b[0m \u001b[1;32mFalse\u001b[0m\u001b[1;33m\u001b[0m\u001b[1;33m\u001b[0m\u001b[0m\n\u001b[0;32m     81\u001b[0m \u001b[1;33m\u001b[0m\u001b[0m\n",
      "\u001b[1;32m~\\miniconda3\\envs\\py39_PhD\\lib\\site-packages\\bw2calc\\utils.py\u001b[0m in \u001b[0;36mclean_databases\u001b[1;34m()\u001b[0m\n\u001b[0;32m    100\u001b[0m \u001b[1;33m\u001b[0m\u001b[0m\n\u001b[0;32m    101\u001b[0m     \u001b[1;32mdef\u001b[0m \u001b[0mclean_databases\u001b[0m\u001b[1;33m(\u001b[0m\u001b[1;33m)\u001b[0m\u001b[1;33m:\u001b[0m\u001b[1;33m\u001b[0m\u001b[1;33m\u001b[0m\u001b[0m\n\u001b[1;32m--> 102\u001b[1;33m         \u001b[0mdatabases\u001b[0m\u001b[1;33m.\u001b[0m\u001b[0mclean\u001b[0m\u001b[1;33m(\u001b[0m\u001b[1;33m)\u001b[0m\u001b[1;33m\u001b[0m\u001b[1;33m\u001b[0m\u001b[0m\n\u001b[0m\u001b[0;32m    103\u001b[0m \u001b[1;33m\u001b[0m\u001b[0m\n\u001b[0;32m    104\u001b[0m     \u001b[1;32mdef\u001b[0m \u001b[0msave_calculation_package\u001b[0m\u001b[1;33m(\u001b[0m\u001b[0mname\u001b[0m\u001b[1;33m,\u001b[0m \u001b[0mdemand\u001b[0m\u001b[1;33m,\u001b[0m \u001b[1;33m**\u001b[0m\u001b[0mkwargs\u001b[0m\u001b[1;33m)\u001b[0m\u001b[1;33m:\u001b[0m\u001b[1;33m\u001b[0m\u001b[1;33m\u001b[0m\u001b[0m\n",
      "\u001b[1;32m~\\miniconda3\\envs\\py39_PhD\\lib\\site-packages\\bw2data\\meta.py\u001b[0m in \u001b[0;36mclean\u001b[1;34m(self)\u001b[0m\n\u001b[0;32m    119\u001b[0m             \u001b[1;32mreturn\u001b[0m\u001b[1;33m\u001b[0m\u001b[1;33m\u001b[0m\u001b[0m\n\u001b[0;32m    120\u001b[0m         \u001b[1;32melse\u001b[0m\u001b[1;33m:\u001b[0m\u001b[1;33m\u001b[0m\u001b[1;33m\u001b[0m\u001b[0m\n\u001b[1;32m--> 121\u001b[1;33m             \u001b[1;32mreturn\u001b[0m \u001b[0m_clean\u001b[0m\u001b[1;33m(\u001b[0m\u001b[1;33m)\u001b[0m\u001b[1;33m\u001b[0m\u001b[1;33m\u001b[0m\u001b[0m\n\u001b[0m\u001b[0;32m    122\u001b[0m \u001b[1;33m\u001b[0m\u001b[0m\n\u001b[0;32m    123\u001b[0m     \u001b[1;33m@\u001b[0m\u001b[0mwritable_project\u001b[0m\u001b[1;33m\u001b[0m\u001b[1;33m\u001b[0m\u001b[0m\n",
      "\u001b[1;32m~\\miniconda3\\envs\\py39_PhD\\lib\\site-packages\\bw2data\\project.py\u001b[0m in \u001b[0;36mwritable_project\u001b[1;34m(wrapped, instance, args, kwargs)\u001b[0m\n\u001b[0;32m    354\u001b[0m     \u001b[1;32mif\u001b[0m \u001b[0mprojects\u001b[0m\u001b[1;33m.\u001b[0m\u001b[0mread_only\u001b[0m\u001b[1;33m:\u001b[0m\u001b[1;33m\u001b[0m\u001b[1;33m\u001b[0m\u001b[0m\n\u001b[0;32m    355\u001b[0m         \u001b[1;32mraise\u001b[0m \u001b[0mReadOnlyProject\u001b[0m\u001b[1;33m(\u001b[0m\u001b[0mREAD_ONLY_PROJECT\u001b[0m\u001b[1;33m)\u001b[0m\u001b[1;33m\u001b[0m\u001b[1;33m\u001b[0m\u001b[0m\n\u001b[1;32m--> 356\u001b[1;33m     \u001b[1;32mreturn\u001b[0m \u001b[0mwrapped\u001b[0m\u001b[1;33m(\u001b[0m\u001b[1;33m*\u001b[0m\u001b[0margs\u001b[0m\u001b[1;33m,\u001b[0m \u001b[1;33m**\u001b[0m\u001b[0mkwargs\u001b[0m\u001b[1;33m)\u001b[0m\u001b[1;33m\u001b[0m\u001b[1;33m\u001b[0m\u001b[0m\n\u001b[0m",
      "\u001b[1;32m~\\miniconda3\\envs\\py39_PhD\\lib\\site-packages\\bw2data\\meta.py\u001b[0m in \u001b[0;36m_clean\u001b[1;34m()\u001b[0m\n\u001b[0;32m    112\u001b[0m             \u001b[1;32mfor\u001b[0m \u001b[0mx\u001b[0m \u001b[1;32min\u001b[0m \u001b[0mself\u001b[0m\u001b[1;33m:\u001b[0m\u001b[1;33m\u001b[0m\u001b[1;33m\u001b[0m\u001b[0m\n\u001b[0;32m    113\u001b[0m                 \u001b[1;32mif\u001b[0m \u001b[0mself\u001b[0m\u001b[1;33m[\u001b[0m\u001b[0mx\u001b[0m\u001b[1;33m]\u001b[0m\u001b[1;33m.\u001b[0m\u001b[0mget\u001b[0m\u001b[1;33m(\u001b[0m\u001b[1;34m'dirty'\u001b[0m\u001b[1;33m)\u001b[0m\u001b[1;33m:\u001b[0m\u001b[1;33m\u001b[0m\u001b[1;33m\u001b[0m\u001b[0m\n\u001b[1;32m--> 114\u001b[1;33m                     \u001b[0mDatabase\u001b[0m\u001b[1;33m(\u001b[0m\u001b[0mx\u001b[0m\u001b[1;33m)\u001b[0m\u001b[1;33m.\u001b[0m\u001b[0mprocess\u001b[0m\u001b[1;33m(\u001b[0m\u001b[1;33m)\u001b[0m\u001b[1;33m\u001b[0m\u001b[1;33m\u001b[0m\u001b[0m\n\u001b[0m\u001b[0;32m    115\u001b[0m                     \u001b[1;32mdel\u001b[0m \u001b[0mself\u001b[0m\u001b[1;33m[\u001b[0m\u001b[0mx\u001b[0m\u001b[1;33m]\u001b[0m\u001b[1;33m[\u001b[0m\u001b[1;34m'dirty'\u001b[0m\u001b[1;33m]\u001b[0m\u001b[1;33m\u001b[0m\u001b[1;33m\u001b[0m\u001b[0m\n\u001b[0;32m    116\u001b[0m             \u001b[0mself\u001b[0m\u001b[1;33m.\u001b[0m\u001b[0mflush\u001b[0m\u001b[1;33m(\u001b[0m\u001b[1;33m)\u001b[0m\u001b[1;33m\u001b[0m\u001b[1;33m\u001b[0m\u001b[0m\n",
      "\u001b[1;32m~\\miniconda3\\envs\\py39_PhD\\lib\\site-packages\\bw2data\\backends\\peewee\\database.py\u001b[0m in \u001b[0;36mprocess\u001b[1;34m(self)\u001b[0m\n\u001b[0;32m    443\u001b[0m             \u001b[1;32mif\u001b[0m \u001b[1;34m\"amount\"\u001b[0m \u001b[1;32mnot\u001b[0m \u001b[1;32min\u001b[0m \u001b[0mdata\u001b[0m \u001b[1;32mor\u001b[0m \u001b[1;34m\"input\"\u001b[0m \u001b[1;32mnot\u001b[0m \u001b[1;32min\u001b[0m \u001b[0mdata\u001b[0m\u001b[1;33m:\u001b[0m\u001b[1;33m\u001b[0m\u001b[1;33m\u001b[0m\u001b[0m\n\u001b[0;32m    444\u001b[0m                 \u001b[1;32mraise\u001b[0m \u001b[0mInvalidExchange\u001b[0m\u001b[1;33m\u001b[0m\u001b[1;33m\u001b[0m\u001b[0m\n\u001b[1;32m--> 445\u001b[1;33m             \u001b[1;32mif\u001b[0m \u001b[0mnp\u001b[0m\u001b[1;33m.\u001b[0m\u001b[0misnan\u001b[0m\u001b[1;33m(\u001b[0m\u001b[0mdata\u001b[0m\u001b[1;33m[\u001b[0m\u001b[1;34m'amount'\u001b[0m\u001b[1;33m]\u001b[0m\u001b[1;33m)\u001b[0m \u001b[1;32mor\u001b[0m \u001b[0mnp\u001b[0m\u001b[1;33m.\u001b[0m\u001b[0misinf\u001b[0m\u001b[1;33m(\u001b[0m\u001b[0mdata\u001b[0m\u001b[1;33m[\u001b[0m\u001b[1;34m'amount'\u001b[0m\u001b[1;33m]\u001b[0m\u001b[1;33m)\u001b[0m\u001b[1;33m:\u001b[0m\u001b[1;33m\u001b[0m\u001b[1;33m\u001b[0m\u001b[0m\n\u001b[0m\u001b[0;32m    446\u001b[0m                 \u001b[1;32mraise\u001b[0m \u001b[0mValueError\u001b[0m\u001b[1;33m(\u001b[0m\u001b[1;34m\"Invalid amount in exchange {}\"\u001b[0m\u001b[1;33m.\u001b[0m\u001b[0mformat\u001b[0m\u001b[1;33m(\u001b[0m\u001b[0mdata\u001b[0m\u001b[1;33m)\u001b[0m\u001b[1;33m)\u001b[0m\u001b[1;33m\u001b[0m\u001b[1;33m\u001b[0m\u001b[0m\n\u001b[0;32m    447\u001b[0m \u001b[1;33m\u001b[0m\u001b[0m\n",
      "\u001b[1;31mTypeError\u001b[0m: ufunc 'isnan' not supported for the input types, and the inputs could not be safely coerced to any supported types according to the casting rule ''safe''"
     ]
    }
   ],
   "source": [
    "if calc_lcia:\n",
    "    # Initialise a DataFrame:\n",
    "    df_mlca_full_raw_results = pd.DataFrame()\n",
    "    \n",
    "    # LCIA calculation:\n",
    "    ls_df_step = [\n",
    "        df_step1, df_step2, df_step3, df_step4, \n",
    "        df_step5, df_step6, df_step7, df_step8, \n",
    "        df_step9, df_step10, df_step11, df_step12, \n",
    "        df_step13, df_step14, df_step15, df_step16\n",
    "    ]\n",
    "\n",
    "    n = 1\n",
    "    for df in ls_df_step:\n",
    "        step = \"step_\"+str(n)\n",
    "        df_mlca_full_raw_results = full_lca_to_df(step, df,\n",
    "                                                  df_mlca_full_raw_results, 1\n",
    "                                                  )\n",
    "        n += 1\n",
    "\n",
    "    # Save df_mlca_full_raw_results to csv:\n",
    "    df_mlca_full_raw_results.unstack([0, 1]).to_csv(\n",
    "        'outputs\\lca\\df_mlca_full_raw_results.csv', index=True)\n",
    "\n",
    "else:\n",
    "    # Open the csv file, to avoid recalculating the impacts:\n",
    "    if os.path.isfile('outputs\\lca\\df_mlca_full_raw_results.csv'):\n",
    "        df_mlca_full_raw_results = (\n",
    "            pd.read_csv('outputs\\lca\\df_mlca_full_raw_results.csv')\n",
    "        )\n",
    "        df_mlca_full_raw_results = df_mlca_full_raw_results.pivot_table(\n",
    "            values='0',\n",
    "            index=['Step', 'Name'],\n",
    "            columns=['LCA Phase', 'Impact Category', 'Unit']\n",
    "        )\n",
    "    \n",
    "    else:\n",
    "        print(\"df_mlca_full_raw_results does not exist!\")\n",
    "        \n",
    "    "
   ]
  },
  {
   "cell_type": "code",
   "execution_count": null,
   "metadata": {},
   "outputs": [],
   "source": [
    "df_mlca_full_raw_results.head()"
   ]
  },
  {
   "cell_type": "markdown",
   "metadata": {},
   "source": [
    "### Navigate the LCIA Result DataFrame"
   ]
  },
  {
   "cell_type": "markdown",
   "metadata": {},
   "source": [
    "List of impact categories:"
   ]
  },
  {
   "cell_type": "code",
   "execution_count": null,
   "metadata": {},
   "outputs": [],
   "source": [
    "df_ilcd_methods = pd.DataFrame()\n",
    "n = 0\n",
    "ls_n = []\n",
    "ls_ic = []\n",
    "ls_ic_details = []\n",
    "ls_u = []\n",
    "for method in methods_full:\n",
    "    ls_n.append(n + 1)\n",
    "    ls_ic.append(method[1].title())\n",
    "    ls_ic_details.append(method[2].title())\n",
    "    ls_u.append(bw.methods.get(method).get('unit'))\n",
    "    n += 1\n",
    "\n",
    "df_ilcd_methods[\"Impact Category\"] = ls_ic\n",
    "df_ilcd_methods[\"Sub-Category\"] = ls_ic_details\n",
    "df_ilcd_methods[\"Unit\"] = ls_u\n",
    "df_ilcd_methods[\"#\"] = ls_n\n",
    "\n",
    "df_ilcd_methods = df_ilcd_methods.set_index([\"Impact Category\", \"#\"])\n",
    "df_ilcd_methods"
   ]
  },
  {
   "cell_type": "markdown",
   "metadata": {},
   "source": [
    "Select the impact category to display:"
   ]
  },
  {
   "cell_type": "code",
   "execution_count": null,
   "metadata": {},
   "outputs": [],
   "source": [
    "# Define the rank of the impact category (#):\n",
    "n = 1"
   ]
  },
  {
   "cell_type": "markdown",
   "metadata": {},
   "source": [
    "Select the step of analysis, with the batch of simulation runs:"
   ]
  },
  {
   "cell_type": "code",
   "execution_count": null,
   "metadata": {},
   "outputs": [],
   "source": [
    "step = \"step_9\""
   ]
  },
  {
   "cell_type": "markdown",
   "metadata": {},
   "source": [
    "Display LCA results:"
   ]
  },
  {
   "cell_type": "code",
   "execution_count": null,
   "metadata": {},
   "outputs": [],
   "source": [
    "ic = df_ilcd_methods.xs(n, level=1)[\"Sub-Category\"][0]\n",
    "df_mlca_full_raw_results.loc[step].xs(ic, axis=1,\n",
    "                                      level=1, drop_level=False\n",
    "                                      )"
   ]
  },
  {
   "cell_type": "markdown",
   "metadata": {},
   "source": [
    "### Disposal of the Existing Curtain Wall"
   ]
  },
  {
   "cell_type": "code",
   "execution_count": null,
   "metadata": {},
   "outputs": [],
   "source": [
    "ls_mlca_oldcw_results = []\n",
    "\n",
    "lca = bw.LCA({out_old_cw: 1})\n",
    "lca.lci()\n",
    "for method in methods_full:\n",
    "    lca.switch_method(method)\n",
    "    lca.lcia()\n",
    "    ls_mlca_oldcw_results.append((method[2].title(), lca.score,\n",
    "                                  bw.methods.get(method).get('unit')))\n",
    "\n",
    "ls_mlca_oldcw_results"
   ]
  },
  {
   "cell_type": "code",
   "execution_count": null,
   "metadata": {},
   "outputs": [],
   "source": [
    "df_mlca_oldcw_results = pd.DataFrame(ls_mlca_oldcw_results,\n",
    "                                     columns=[\"Impact Category\",\n",
    "                                              \"Score\",\n",
    "                                              \"Unit\"]\n",
    "                                     )\n",
    "\n",
    "df_mlca_oldcw_results = pd.pivot_table(df_mlca_oldcw_results,\n",
    "                                       columns=[\"Impact Category\", \"Unit\"],\n",
    "                                       values=\"Score\"\n",
    "                                       )\n",
    "\n",
    "df_mlca_oldcw_results"
   ]
  },
  {
   "cell_type": "markdown",
   "metadata": {},
   "source": [
    "# Post-Processing and Data Analysis"
   ]
  },
  {
   "cell_type": "markdown",
   "metadata": {},
   "source": [
    "## Calculation of the Environmental Impact over 40 years of Service Life"
   ]
  },
  {
   "cell_type": "code",
   "execution_count": null,
   "metadata": {},
   "outputs": [],
   "source": [
    "df_lca_lifespan = pd.DataFrame(\n",
    "    {'Year': np.arange(lifespan+2),\n",
    "     'Step': 'ref',\n",
    "     'Scenario': 'no_retrofit',\n",
    "     'Impact Category': 'All',\n",
    "     'Unit': 'None',\n",
    "     'Score': 0\n",
    "     }\n",
    ")\n",
    "\n",
    "df_lca_lifespan = df_lca_lifespan.pivot(index='Year',\n",
    "                                        columns=['Step',\n",
    "                                                 'Scenario',\n",
    "                                                 'Impact Category',\n",
    "                                                 'Unit'\n",
    "                                                 ],\n",
    "                                        values='Score'\n",
    "                                        )"
   ]
  },
  {
   "cell_type": "code",
   "execution_count": null,
   "metadata": {},
   "outputs": [],
   "source": [
    "df_mlca_full_raw_results = df_mlca_full_raw_results.reset_index(level=0)\n",
    "\n",
    "# Defining the columns, one for each simulation run:\n",
    "for run in df_mlca_full_raw_results.index:\n",
    "    n_step = df_mlca_full_raw_results[\"Step\"].loc[run]\n",
    "    for method in methods_full:\n",
    "        ic = method[2].title()\n",
    "        u = bw.methods.get(method).get('unit')\n",
    "        # define a new column:\n",
    "        df_lca_lifespan[n_step, run, ic, u] = 0\n",
    "\n",
    "df_lca_lifespan = df_lca_lifespan.drop(\"ref\", axis=1)"
   ]
  },
  {
   "cell_type": "code",
   "execution_count": null,
   "metadata": {},
   "outputs": [],
   "source": [
    "# LCIA over the 40 years of the service life of the curtain wall:\n",
    "for step, run, ic, u in df_lca_lifespan.columns:\n",
    "    # First phase of the LCA, disposal of the existing curtain wall\n",
    "    # and production/construction of the new curtain wall:\n",
    "    df_lca_lifespan.loc[0][step, run, ic, u] = (\n",
    "        df_mlca_oldcw_results[ic, u]\n",
    "        + df_mlca_full_raw_results.loc[run][\n",
    "            \"curtain wall, production\", ic, u\n",
    "        ]\n",
    "    )\n",
    "\n",
    "    # Second phase, use of the curtain wall, indirect energy use impacts:\n",
    "    for y in range(1, 41):\n",
    "        df_lca_lifespan.loc[y][step, run, ic, u] = (\n",
    "            df_lca_lifespan.loc[y-1][step, run, ic, u] +\n",
    "            df_mlca_full_raw_results.loc[run][\n",
    "                \"use of glazed office building, hvac and lighting\", ic, u\n",
    "            ]\n",
    "        )\n",
    "        \n",
    "        if (y == 12 or y == 22 or y == 32):\n",
    "            # Impacts relating to maintenance, every 10y:\n",
    "            df_lca_lifespan.loc[y][step, run, ic, u] += (\n",
    "                df_mlca_full_raw_results.loc[run][\n",
    "                    \"curtain wall, maintenance\", ic, u\n",
    "                ]\n",
    "            )\n",
    "\n",
    "    # Last phase, end-of-life of the new curtain wall:\n",
    "    df_lca_lifespan.loc[41][step, run, ic, u] = (\n",
    "        df_lca_lifespan.loc[40][step, run, ic, u] +\n",
    "        df_mlca_full_raw_results.loc[run][\n",
    "            \"curtain wall, end of life\", ic, u\n",
    "        ]\n",
    "    )"
   ]
  },
  {
   "cell_type": "markdown",
   "metadata": {},
   "source": [
    "Post-processing the LCA results to take into consideration climate change:"
   ]
  },
  {
   "cell_type": "code",
   "execution_count": null,
   "metadata": {},
   "outputs": [],
   "source": [
    "# Names for the simulations run in 2020 which corresponds\n",
    "# to the same configuration as the one integrating climate change,\n",
    "# step_14: step_5; step_15: step_10; step_16: step_11:\n",
    "run_cc = {\n",
    "    \"n_a_2126_dg_init_cc\": \"e_a_2126_dg_init_vav_int\",\n",
    "    \"n_b_2126_dg0_cc\": \"e_b_2126_dg0_vav_int\",\n",
    "    \"n_c_2126_dg4_cc\": \"e_h_2126_dg4_vav_int\",\n",
    "    \"n_d_2126_dg5_cc\": \"e_i_2126_dg5_vav_int\",\n",
    "    \"n_e_2126_dg6_cc\": \"e_j_2126_dg6_vav_int\",\n",
    "    \"n_f_2126_tg4_cc\": \"e_n_2126_tg4_vav_int\",\n",
    "    \"n_g_2126_tg5_cc\": \"e_o_2126_tg5_vav_int\",\n",
    "    \"n_h_2126_tg6_cc\": \"e_p_2126_tg6_vav_int\",\n",
    "    \"o_a_2124_dg_init_cc\": \"j_a_2124_dg_init\",\n",
    "    \"o_b_2124_dg0_cc\": \"j_b_2124_dg0\",\n",
    "    \"o_c_2124_dg4_cc\": \"j_c_2124_dg4\",\n",
    "    \"o_d_2124_dg5_cc\": \"j_d_2124_dg5\",\n",
    "    \"o_e_2124_dg6_cc\": \"j_e_2124_dg6\",\n",
    "    \"o_f_2124_tg4_cc\": \"j_f_2124_tg4\",\n",
    "    \"o_g_2124_tg5_cc\": \"j_g_2124_tg5\",\n",
    "    \"o_h_2124_tg6_cc\": \"j_h_2124_tg6\",\n",
    "    \"p_a_1927_dg_init_cc\": \"k_a_1927_dg_init_ext\",\n",
    "    \"p_b_1927_dg0_cc\": \"k_b_1927_dg0_ext\",\n",
    "    \"p_c_1927_dg4_cc\": \"k_c_1927_dg4_ext\",\n",
    "    \"p_d_1927_dg5_cc\": \"k_d_1927_dg5_ext\",\n",
    "    \"p_e_1927_dg6_cc\": \"k_e_1927_dg6_ext\",\n",
    "    \"p_f_1927_tg4_cc\": \"k_f_1927_tg4_ext\",\n",
    "    \"p_g_1927_tg5_cc\": \"k_g_1927_tg5_ext\",\n",
    "    \"p_h_1927_tg6_cc\": \"k_h_1927_tg6_ext\"\n",
    "}"
   ]
  },
  {
   "cell_type": "code",
   "execution_count": null,
   "metadata": {},
   "outputs": [],
   "source": [
    "# Corresponding simulations:\n",
    "steps_cc = {\"step_14\": \"step_5\",\n",
    "            \"step_15\": \"step_10\",\n",
    "            \"step_16\": \"step_11\"\n",
    "           }"
   ]
  },
  {
   "cell_type": "code",
   "execution_count": null,
   "metadata": {},
   "outputs": [],
   "source": [
    "# LCIA over 40years for climate change scenario:\n",
    "for step, run, ic, u in df_lca_lifespan.columns:\n",
    "    if step in steps_cc.keys():\n",
    "        \n",
    "        # Modification of the first year in use:\n",
    "        df_lca_lifespan.loc[1][step, run, ic, u] = (\n",
    "            df_lca_lifespan.loc[1][steps_cc[step],\n",
    "                                   run_cc[run],\n",
    "                                   ic,\n",
    "                                   u\n",
    "                                   ]\n",
    "        )\n",
    "\n",
    "        # Delete data between year 1 and year 40:\n",
    "        for y in range(2, 40):\n",
    "            df_lca_lifespan.loc[y][step, run, ic, u] = np.nan\n",
    "\n",
    "        # Interpolate between year 1 and year 40:\n",
    "        df_lca_lifespan[step, run, ic, u].interpolate(\n",
    "            method='linear',\n",
    "            limit_direction='forward',\n",
    "            axis=0\n",
    "        )\n",
    "\n",
    "        # Last phase, end-of-life of the new curtain wall:\n",
    "        df_lca_lifespan.loc[41][step, run, ic, u] += (\n",
    "            df_mlca_full_raw_results.loc[run][\n",
    "                \"curtain wall, end of life\", ic, u\n",
    "            ]\n",
    "        )"
   ]
  },
  {
   "cell_type": "code",
   "execution_count": null,
   "metadata": {},
   "outputs": [],
   "source": [
    "# Rebuild df_mlca_full_raw_results:\n",
    "df_mlca_full_raw_results = (\n",
    "    df_mlca_full_raw_results.reset_index().set_index([\"Step\", \"Name\"])\n",
    ")"
   ]
  },
  {
   "cell_type": "code",
   "execution_count": null,
   "metadata": {
    "scrolled": true
   },
   "outputs": [],
   "source": [
    "df_lca_lifespan[\"step_11\"].xs(\n",
    "    \"Climate Change Total\", axis=1, level=1, drop_level=False)"
   ]
  },
  {
   "cell_type": "markdown",
   "metadata": {},
   "source": [
    "## Setup to Create the Graphs"
   ]
  },
  {
   "cell_type": "markdown",
   "metadata": {},
   "source": [
    "Define a function to divide/multiply the y-axis by a thousand, if needed:"
   ]
  },
  {
   "cell_type": "code",
   "execution_count": null,
   "metadata": {},
   "outputs": [],
   "source": [
    "def thousand_divide(x, pos):\n",
    "    # The two args are the value and tick position\n",
    "    return '%1.1f' % (x*1e-3)\n",
    "\n",
    "\n",
    "def thousand_multiply(x, pos):\n",
    "    # The two args are the value and tick position\n",
    "    return '%1.1f' % (x*1e+3)"
   ]
  },
  {
   "cell_type": "code",
   "execution_count": null,
   "metadata": {},
   "outputs": [],
   "source": [
    "formatter = FuncFormatter(thousand_divide)"
   ]
  },
  {
   "cell_type": "code",
   "execution_count": null,
   "metadata": {},
   "outputs": [],
   "source": [
    "# Add a row index to sort by step (column indexing):\n",
    "df_lca_lifespan = df_lca_lifespan.T\n",
    "\n",
    "# Add a row to sort by IGU type (column indexing):\n",
    "ls_igu = []\n",
    "for code in df_lca_lifespan.index.get_level_values('Scenario'):\n",
    "    if \"dg_init\" in code:\n",
    "        ls_igu.append(\"dg_init\")\n",
    "    if \"dg0\" in code:\n",
    "        ls_igu.append(\"dg0\")\n",
    "    if \"sg\" in code:\n",
    "        ls_igu.append(\"sg\")\n",
    "    if ((\"dg1\" in code) or (\"dg2\" in code) or (\"dg3\" in code)\n",
    "            or (\"dg4\" in code) or (\"dg5\" in code) or (\"dg6\" in code)):\n",
    "        ls_igu.append(\"dg\")\n",
    "    if ((\"tg1\" in code) or (\"tg2\" in code) or (\"tg3\" in code)\n",
    "            or (\"tg4\" in code) or (\"tg5\" in code) or (\"tg6\" in code)):\n",
    "        ls_igu.append(\"tg\")\n",
    "    if \"dg_vacuum\" in code:\n",
    "        ls_igu.append(\"dg_vacuum\")\n",
    "    if \"dg_smart\" in code:\n",
    "        ls_igu.append(\"dg_smart\")\n",
    "    if \"dsf\" in code:\n",
    "        ls_igu.append(\"dsf\")\n",
    "    if \"ccf\" in code:\n",
    "        ls_igu.append(\"ccf\")\n",
    "\n",
    "df_lca_lifespan.loc[:, ('IGU')] = ls_igu\n",
    "\n",
    "df_lca_lifespan = df_lca_lifespan.reset_index().set_index(\n",
    "    [\"Step\", \"Scenario\", \"IGU\", \"Impact Category\", \"Unit\"]\n",
    ").T"
   ]
  },
  {
   "cell_type": "code",
   "execution_count": null,
   "metadata": {},
   "outputs": [],
   "source": [
    "def plot_lca_40(step_lines, impact_cat, ls_lineplot,\n",
    "                ylim_min, ylim_max, ylim_gap,\n",
    "                conv_factor):\n",
    "    \n",
    "    \"\"\"\n",
    "    Plot the curves according to the data defined in ls_lineplot \n",
    "        (i.e. sg, dg, dg_init, tg).\n",
    "        x = 40 years of service life. 41 year corresponds to the end \n",
    "        of timeline including 1 year of deconstruction.\n",
    "\n",
    "    Parameters\n",
    "    ----------\n",
    "    step_lines: a string, step where the simulations and LCA results \n",
    "        are taken from, plot as curves\n",
    "    impact_cat: an int which correspond to the reference number \n",
    "        in df_ilcd_methods\n",
    "    ls_lineplot: list of simulation runs to plot, according to simplified \n",
    "        igu name (i.e. sg, dg, dg_init, tg)\n",
    "    ylim_min: an integer, minimum value of the y-axis.\n",
    "    ylim_max: an integer, maximum value of the y-axis.\n",
    "    ylim_gap: gap between each ytick.\n",
    "    conv_factor: to scale the y-axis values.\n",
    "\n",
    "    Returns\n",
    "    -------\n",
    "    df: the DataFrame with impact values at year = 41\n",
    "    \"\"\"\n",
    "\n",
    "    ls_impact_eol = {}\n",
    "\n",
    "    # Defining the LCA results to plot:\n",
    "    ic = df_ilcd_methods.xs(impact_cat, level=1)[\"Sub-Category\"][0]\n",
    "    unit = df_ilcd_methods.xs(impact_cat, level=1)[\"Unit\"][0]\n",
    "    df_lca_step = df_lca_lifespan[step_lines].xs(ic,\n",
    "                                                 axis=1, level=2,\n",
    "                                                 drop_level=False\n",
    "                                                 ) * conv_factor\n",
    "    \n",
    "    print(step)\n",
    "    print(ic)\n",
    "    print(\"Unit is:\", unit, \". With conversion factor:\", conv_factor)\n",
    "\n",
    "    fig, ax = plt.subplots(figsize=(9, 3))\n",
    "\n",
    "    # Evolution of the GWP over 40 years:\n",
    "    for run, igu, i, u in df_lca_step.columns:\n",
    "        # Then, we plot the curves:\n",
    "        if ('dg_init' in run) and ('dg_init' in ls_lineplot):\n",
    "            sns.lineplot(x=df_lca_step.index,\n",
    "                         y=df_lca_step[run, igu, i, u].tolist(),\n",
    "                         color='black',\n",
    "                         ax=ax\n",
    "                         )\n",
    "\n",
    "        elif ('dg0' in run) and ('dg0' in ls_lineplot):\n",
    "            sns.lineplot(x=df_lca_step.index,\n",
    "                         y=df_lca_step[run, igu, i, u].tolist(),\n",
    "                         color='black',\n",
    "                         linestyle='--',\n",
    "                         ax=ax\n",
    "                         )\n",
    "\n",
    "        elif ('sg' in run) and ('sg' in ls_lineplot):\n",
    "            sns.lineplot(x=df_lca_step.index,\n",
    "                         y=df_lca_step[run, igu, i, u].tolist(),\n",
    "                         color='lightsalmon',\n",
    "                         ax=ax\n",
    "                         )\n",
    "\n",
    "        elif ('dg' in run) and ('dg' in ls_lineplot):\n",
    "            sns.lineplot(x=df_lca_step.index,\n",
    "                         y=df_lca_step[run, igu, i, u].tolist(),\n",
    "                         color='darksalmon',\n",
    "                         ax=ax\n",
    "                         )\n",
    "\n",
    "        elif ('tg' in run) and ('tg' in ls_lineplot):\n",
    "            sns.lineplot(x=df_lca_step.index,\n",
    "                         y=df_lca_step[run, igu, i, u].tolist(),\n",
    "                         color='firebrick',\n",
    "                         ax=ax\n",
    "                         )\n",
    "            \n",
    "        elif ('dg_vacuum' in run) and ('dg_vacuum' in ls_lineplot):\n",
    "            sns.lineplot(x=df_lca_step.index,\n",
    "                         y=df_lca_step[run, igu, i, u].tolist(),\n",
    "                         color='cornflowerblue',\n",
    "                         ax=ax\n",
    "                         )\n",
    "            \n",
    "        elif ('dg_smart' in run) and ('dg_smart' in ls_lineplot):\n",
    "            sns.lineplot(x=df_lca_step.index,\n",
    "                         y=df_lca_step[run, igu, i, u].tolist(),\n",
    "                         color='royalblue',\n",
    "                         ax=ax\n",
    "                         )\n",
    "            \n",
    "        elif ('dsf' in run) and ('dsf' in ls_lineplot):\n",
    "            sns.lineplot(x=df_lca_step.index,\n",
    "                         y=df_lca_step[run, igu, i, u].tolist(),\n",
    "                         color='darkgreen',\n",
    "                         ax=ax\n",
    "                         )\n",
    "            \n",
    "        elif ('ccf' in run) and ('ccf' in ls_lineplot):\n",
    "            sns.lineplot(x=df_lca_step.index,\n",
    "                         y=df_lca_step[run, igu, i, u].tolist(),\n",
    "                         color='midnightblue',\n",
    "                         ax=ax\n",
    "                         )\n",
    "        else:\n",
    "            continue\n",
    "\n",
    "        # Update the dictionary with value at year = 41:\n",
    "        ls_impact_eol[run] = df_lca_step.loc[41][run, igu, i, u]\n",
    "\n",
    "    ax.set_xlim(0, 41)\n",
    "    ax.axhline(y=0, c='grey', linestyle='-', linewidth=0.75)\n",
    "\n",
    "    ax.set_ylim(ylim_min, ylim_max)\n",
    "    plt.yticks(np.arange(ylim_min, ylim_max+1, ylim_gap))\n",
    "    ax.grid(which='major', axis='y', linestyle=':', linewidth=1)\n",
    "\n",
    "    ax.xaxis.label.set_visible(False)\n",
    "    ax.yaxis.label.set_visible(False)\n",
    "\n",
    "    style_ax(ax)\n",
    "\n",
    "    sns.despine(offset=5, bottom=True, left=True)\n",
    "    plt.show()\n",
    "\n",
    "    df = pd.DataFrame.from_dict(ls_impact_eol, orient='index',\n",
    "                                columns=['impact at year = 41, '+str(u)])\n",
    "\n",
    "    return df"
   ]
  },
  {
   "cell_type": "code",
   "execution_count": null,
   "metadata": {},
   "outputs": [],
   "source": [
    "def plot_multilca_40(step, impact_cat, var,\n",
    "                     ylim_min, ylim_max, ylim_gap,\n",
    "                     conv_factor):\n",
    "    \n",
    "    \"\"\"\n",
    "    Plot the curves of the specific step over 40 years.\n",
    "        x = 40 years of service life. 41 year corresponds to the end \n",
    "        of timeline including 1 year of deconstruction.\n",
    "\n",
    "    Parameters\n",
    "    ----------\n",
    "    step: a string, step where the simulations and LCA results \n",
    "        are taken from, plot as curves\n",
    "    impact_cat: an int which correspond to the reference number \n",
    "        in df_ilcd_methods\n",
    "    var: string, \"Scenario\" or \"IGU\".\n",
    "    ylim_min: an integer, minimum value of the y-axis.\n",
    "    ylim_max: an integer, maximum value of the y-axis.\n",
    "    ylim_gap: gap between each ytick.\n",
    "    conv_factor: to scale the y-axis values.\n",
    "\n",
    "\n",
    "    Returns\n",
    "    -------\n",
    "    df: the DataFrame with impact values at year = 41\n",
    "    \"\"\"\n",
    "    \n",
    "    ls_impact_eol = {}\n",
    "\n",
    "    # Defining the LCA results to plot:\n",
    "    ic = df_ilcd_methods.xs(impact_cat, level=1)[\"Sub-Category\"][0]\n",
    "    unit = df_ilcd_methods.xs(impact_cat, level=1)[\"Unit\"][0]\n",
    "    \n",
    "    print(step)\n",
    "    print(ic)\n",
    "    print(\"Unit is:\", unit, \". With conversion factor:\", conv_factor)\n",
    "    \n",
    "    df_lca_step = df_lca_lifespan[step].xs(ic, axis=1,\n",
    "                                           level=2, \n",
    "                                           drop_level=False\n",
    "                                          ) * conv_factor\n",
    "\n",
    "    df_lca_step.columns = df_lca_step.columns.droplevel([2,3])\n",
    "    df_plot = df_lca_step.stack(level=[0,1])\n",
    "\n",
    "    df_plot.name = \"impact\"\n",
    "    df_plot = df_plot.reset_index()\n",
    "\n",
    "    # Plot each year's time series in its own facet\n",
    "    g = sns.relplot(\n",
    "        data=df_plot,\n",
    "        x=\"Year\", y=\"impact\", col=var, hue=\"Scenario\",\n",
    "        kind=\"line\", palette=\"crest\", linewidth=1.5, zorder=5,\n",
    "        col_wrap=2, height=2.5, aspect=1.5, legend=False,\n",
    "    )\n",
    "\n",
    "    # Iterate over each subplot to customize further\n",
    "    for year, ax in g.axes_dict.items():\n",
    "\n",
    "        # Add the title as an annotation within the plot\n",
    "        ax.text(.1, .95, year, transform=ax.transAxes, \n",
    "                fontweight=\"bold\", fontsize=12)\n",
    "\n",
    "        # Plot every year's time series in the background\n",
    "        sns.lineplot(\n",
    "            data=df_plot, x=\"Year\", y=\"impact\", units=\"Scenario\",\n",
    "            estimator=None, color=\".7\", linewidth=0.5, ax=ax,\n",
    "        )\n",
    "\n",
    "        style_ax(ax)\n",
    "\n",
    "        ax.set_ylim(ylim_min, ylim_max)\n",
    "        plt.yticks(np.arange(ylim_min, (ylim_max+1), ylim_gap))\n",
    "\n",
    "        ax.set_xlim(0, 41)\n",
    "        plt.xticks(np.arange(0, 42, 10))\n",
    "    \n",
    "    g.set_titles(\"\")\n",
    "    g.set_axis_labels(\"\", \"\")\n",
    "    g.tight_layout()\n",
    "    \n",
    "    for run in df_lca_step.columns:\n",
    "        ls_impact_eol[run[0]] = df_lca_step.loc[41][run]\n",
    "        \n",
    "    df = pd.DataFrame.from_dict(ls_impact_eol, orient='index',\n",
    "                                columns=['impact at year = 41, '+str(u)])\n",
    "\n",
    "    return df        "
   ]
  },
  {
   "cell_type": "code",
   "execution_count": null,
   "metadata": {},
   "outputs": [],
   "source": [
    "df_lca_lifespan[\"step_15\"].xs(\n",
    "    \"Climate Change Total\", axis=1, level=2, drop_level=False)"
   ]
  },
  {
   "cell_type": "markdown",
   "metadata": {},
   "source": [
    "Reminder of the impact categories and their reference numbers:"
   ]
  },
  {
   "cell_type": "code",
   "execution_count": null,
   "metadata": {},
   "outputs": [],
   "source": [
    "df_ilcd_methods"
   ]
  },
  {
   "cell_type": "markdown",
   "metadata": {},
   "source": [
    "## Step 1-3: Initial Configuration with Different Glazing Types"
   ]
  },
  {
   "cell_type": "markdown",
   "metadata": {},
   "source": [
    "### Step 1: Different Glazing Types, w/o Shading Devices, Fan Coil Chiller w/ Boiler"
   ]
  },
  {
   "cell_type": "code",
   "execution_count": null,
   "metadata": {},
   "outputs": [],
   "source": [
    "# Define the simulation step, plot as curves:\n",
    "step = \"step_1\"\n",
    "# Define the rank of the impact category (#):\n",
    "impact_cat = 1\n",
    "# Simulation runs to print:\n",
    "ls_igu = ['dg_init', 'sg', \"dg0\"]\n",
    "conv_factor = 0.001\n",
    "\n",
    "# plot:\n",
    "plot_lca_40(step, impact_cat, ls_igu,\n",
    "            -50, 100, 50, conv_factor\n",
    "            )"
   ]
  },
  {
   "cell_type": "code",
   "execution_count": null,
   "metadata": {},
   "outputs": [],
   "source": [
    "ls_igu = ['dg', \"dg0\"]\n",
    "\n",
    "# plot:\n",
    "plot_lca_40(step, impact_cat, ls_igu,\n",
    "            -50, 100, 50, conv_factor\n",
    "            )"
   ]
  },
  {
   "cell_type": "code",
   "execution_count": null,
   "metadata": {},
   "outputs": [],
   "source": [
    "ls_igu = ['tg']\n",
    "\n",
    "# plot:\n",
    "plot_lca_40(step, impact_cat, ls_igu,\n",
    "            -50, 100, 50, conv_factor\n",
    "            )"
   ]
  },
  {
   "cell_type": "markdown",
   "metadata": {},
   "source": [
    "Another kind of plot:"
   ]
  },
  {
   "cell_type": "code",
   "execution_count": null,
   "metadata": {},
   "outputs": [],
   "source": [
    "# Define the rank of the impact category (#):\n",
    "impact_cat = 1\n",
    "var = \"IGU\"\n",
    "step = \"step_1\"\n",
    "conv_factor = 0.001\n",
    "\n",
    "plot_multilca_40(step, impact_cat, var, -100, 100, 50, conv_factor)"
   ]
  },
  {
   "cell_type": "markdown",
   "metadata": {},
   "source": [
    "### Step 2: Different Glazing Types, with Interior Shading Devices, Fan Coil Chiller w/ Boiler"
   ]
  },
  {
   "cell_type": "code",
   "execution_count": null,
   "metadata": {},
   "outputs": [],
   "source": [
    "# Define the rank of the impact category (#):\n",
    "impact_cat = 1\n",
    "var = \"IGU\"\n",
    "step = \"step_2\"\n",
    "conv_factor = 0.001\n",
    "\n",
    "plot_multilca_40(step, impact_cat, var, -100, 100, 50, conv_factor)"
   ]
  },
  {
   "cell_type": "markdown",
   "metadata": {},
   "source": [
    "### Step 3: Different Glazing Types, w/ Exterior Shading Devices, Fan Coil Chiller w/ Boiler"
   ]
  },
  {
   "cell_type": "code",
   "execution_count": null,
   "metadata": {},
   "outputs": [],
   "source": [
    "# Define the rank of the impact category (#):\n",
    "impact_cat = 1\n",
    "var = \"IGU\"\n",
    "step = \"step_3\"\n",
    "conv_factor = 0.001\n",
    "\n",
    "plot_multilca_40(step, impact_cat, var, -100, 100, 50, conv_factor)"
   ]
  },
  {
   "cell_type": "markdown",
   "metadata": {},
   "source": [
    "### Comparative Analysis Steps 1-3"
   ]
  },
  {
   "cell_type": "code",
   "execution_count": null,
   "metadata": {},
   "outputs": [],
   "source": [
    "# Define the impact category:\n",
    "n = 1\n",
    "\n",
    "ic = df_ilcd_methods.xs(n, level=1)[\"Sub-Category\"][0]\n",
    "ic\n",
    "\n",
    "# Keep the lca impact results at the end of life:\n",
    "df_plot = df_lca_lifespan[['step_1', 'step_2', 'step_3']].xs(\n",
    "    ic, axis=1, level=3, drop_level=False).loc[[41]]\n",
    "\n",
    "# Transpose:\n",
    "df_plot = df_plot.T.unstack(level=(3, 4))[41].reset_index()\n",
    "\n",
    "# Category plot:\n",
    "g = sns.catplot(data=df_plot, x=\"IGU\",\n",
    "                y=(\"Climate Change Total\", \"kg CO2-Eq\"),\n",
    "                hue=\"IGU\", col=\"Step\",\n",
    "                # kind=\"point\", capsize=.1,\n",
    "                palette=\"crest\", height=5, aspect=1\n",
    "                )\n",
    "\n",
    "# palette=sns.color_palette(['firebrick', 'lightcoral', 'royalblue'])\n",
    "\n",
    "for ax in g.axes.flat:\n",
    "    ax.yaxis.set_major_formatter(FuncFormatter(thousand_divide))\n",
    "    style_ax(ax)\n",
    "    ax.axhline(y=0, c='lightgrey', linestyle='-', linewidth=0.75)\n",
    "    \n",
    "(g.set_titles(\"{col_name}\", fontsize=17, y=1.1)\n",
    " .set(ylim=(-100000, 100000))\n",
    " .despine(left=True, bottom=True, offset=5)\n",
    " )\n",
    "\n",
    "plt.show()"
   ]
  },
  {
   "cell_type": "markdown",
   "metadata": {},
   "source": [
    "## Steps 4-7: HVAC System Optimisation, VAV and VRF"
   ]
  },
  {
   "cell_type": "markdown",
   "metadata": {},
   "source": [
    "### Step 4: Efficient VAV HVAC System, w/o Shading Devices"
   ]
  },
  {
   "cell_type": "code",
   "execution_count": null,
   "metadata": {},
   "outputs": [],
   "source": [
    "# Define the rank of the impact category (#):\n",
    "impact_cat = 1\n",
    "var = \"IGU\"\n",
    "step = \"step_4\"\n",
    "conv_factor = 0.001\n",
    "\n",
    "plot_multilca_40(step, impact_cat, var, -100, 100, 50, conv_factor)"
   ]
  },
  {
   "cell_type": "markdown",
   "metadata": {},
   "source": [
    "### Step 5: Efficient VAV HVAC System, with interior shading devices"
   ]
  },
  {
   "cell_type": "code",
   "execution_count": null,
   "metadata": {
    "scrolled": false
   },
   "outputs": [],
   "source": [
    "# Define the rank of the impact category (#):\n",
    "impact_cat = 1\n",
    "var = \"IGU\"\n",
    "step = \"step_5\"\n",
    "conv_factor = 0.001\n",
    "\n",
    "plot_multilca_40(step, impact_cat, var, -100, 100, 50, conv_factor)"
   ]
  },
  {
   "cell_type": "markdown",
   "metadata": {},
   "source": [
    "### Step 6: Efficient VRF HVAC System, w/o Shading Devices"
   ]
  },
  {
   "cell_type": "code",
   "execution_count": null,
   "metadata": {},
   "outputs": [],
   "source": [
    "# Define the rank of the impact category (#):\n",
    "impact_cat = 1\n",
    "var = \"IGU\"\n",
    "step = \"step_6\"\n",
    "conv_factor = 0.001\n",
    "\n",
    "plot_multilca_40(step, impact_cat, var, -100, 100, 50, conv_factor)"
   ]
  },
  {
   "cell_type": "markdown",
   "metadata": {},
   "source": [
    "### Step 7: Efficient VRF HVAC System, with interior shading devices"
   ]
  },
  {
   "cell_type": "code",
   "execution_count": null,
   "metadata": {
    "scrolled": false
   },
   "outputs": [],
   "source": [
    "# Define the rank of the impact category (#):\n",
    "impact_cat = 1\n",
    "var = \"IGU\"\n",
    "step = \"step_7\"\n",
    "conv_factor = 0.001\n",
    "\n",
    "plot_multilca_40(step, impact_cat, var, -100, 100, 50, conv_factor)"
   ]
  },
  {
   "cell_type": "markdown",
   "metadata": {},
   "source": [
    "### Comparative Analysis According to HVAC System"
   ]
  },
  {
   "cell_type": "code",
   "execution_count": null,
   "metadata": {},
   "outputs": [],
   "source": [
    "# Define the impact category:\n",
    "n = 1\n",
    "\n",
    "ic = df_ilcd_methods.xs(n, level=1)[\"Sub-Category\"][0]\n",
    "ic\n",
    "\n",
    "for i, j in [('step_1', 'step_2'), \n",
    "             ('step_4', 'step_5'), \n",
    "             ('step_6', 'step_7')]:\n",
    "    \n",
    "    # Keep the lca impact results at the end of life:\n",
    "    df_plot = df_lca_lifespan[[i, j]].xs(\n",
    "        ic, axis=1, level=3, drop_level=False).loc[[41]]\n",
    "\n",
    "    # Transpose:\n",
    "    df_plot = df_plot.T.unstack(level=(3, 4))[41].reset_index()\n",
    "\n",
    "    # Category plot:\n",
    "    g = sns.catplot(data=df_plot, x=\"IGU\",\n",
    "                    y=(\"Climate Change Total\", \"kg CO2-Eq\"),\n",
    "                    hue=\"IGU\", col=\"Step\",\n",
    "                    # kind=\"point\", capsize=.1,\n",
    "                    palette=\"crest\", height=5, aspect=1\n",
    "                    )\n",
    "\n",
    "    # palette=sns.color_palette(['firebrick', 'lightcoral', 'royalblue'])\n",
    "\n",
    "    for ax in g.axes.flat:\n",
    "        ax.yaxis.set_major_formatter(FuncFormatter(thousand_divide))\n",
    "        style_ax(ax)\n",
    "        ax.axhline(y=0, c='lightgrey', linestyle='-', linewidth=0.75)\n",
    "\n",
    "    (g.set_titles(\"{col_name}\", fontsize=17, y=1.1)\n",
    "     .set(ylim=(-100000, 100000))\n",
    "     .despine(left=True, bottom=True, offset=5)\n",
    "     )\n",
    "    \n",
    "    plt.show()"
   ]
  },
  {
   "cell_type": "markdown",
   "metadata": {},
   "source": [
    "## Steps 8: Reduction of the Window-to-Wall Ratio"
   ]
  },
  {
   "cell_type": "markdown",
   "metadata": {},
   "source": [
    "### 75% of the Initial WtW Ratio"
   ]
  },
  {
   "cell_type": "code",
   "execution_count": null,
   "metadata": {},
   "outputs": [],
   "source": [
    "# Define the rank of the impact category (#):\n",
    "impact_cat = 1\n",
    "var = \"IGU\"\n",
    "step = \"step_8\"\n",
    "conv_factor = 0.001\n",
    "\n",
    "plot_multilca_40(step, impact_cat, var, -100, 100, 50, conv_factor)"
   ]
  },
  {
   "cell_type": "markdown",
   "metadata": {},
   "source": [
    "### Comparative Analysis According to WtW Ratio"
   ]
  },
  {
   "cell_type": "markdown",
   "metadata": {},
   "source": [
    "Compare step 4 and 8. Difference comes from the window-to-wall ratio, 100% and 75% respectively."
   ]
  },
  {
   "cell_type": "code",
   "execution_count": null,
   "metadata": {},
   "outputs": [],
   "source": [
    "# Define the impact category:\n",
    "n = 1\n",
    "\n",
    "ic = df_ilcd_methods.xs(n, level=1)[\"Sub-Category\"][0]\n",
    "ic\n",
    "\n",
    "# Keep the lca impact results at the end of life:\n",
    "df_plot = df_lca_lifespan[['step_4', 'step_8']].xs(\n",
    "    ic, axis=1, level=3, drop_level=False).loc[[41]]\n",
    "\n",
    "# Transpose:\n",
    "df_plot = df_plot.T.unstack(level=(3, 4))[41].reset_index()\n",
    "\n",
    "# Category plot:\n",
    "g = sns.catplot(data=df_plot, x=\"IGU\",\n",
    "                y=(\"Climate Change Total\", \"kg CO2-Eq\"),\n",
    "                hue=\"IGU\", col=\"Step\",\n",
    "                # kind=\"point\", capsize=.1,\n",
    "                palette=\"crest\", height=5, aspect=1\n",
    "                )\n",
    "\n",
    "# palette=sns.color_palette(['firebrick', 'lightcoral', 'royalblue'])\n",
    "\n",
    "for ax in g.axes.flat:\n",
    "    ax.yaxis.set_major_formatter(FuncFormatter(thousand_divide))\n",
    "    style_ax(ax)\n",
    "    ax.axhline(y=0, c='lightgrey', linestyle='-', linewidth=0.75)\n",
    "\n",
    "(g.set_titles(\"{col_name}\", fontsize=17, y=1.1)\n",
    " .set(ylim=(-100000, 100000))\n",
    " .despine(left=True, bottom=True, offset=5)\n",
    " )\n",
    "\n",
    "plt.show()"
   ]
  },
  {
   "cell_type": "markdown",
   "metadata": {},
   "source": [
    "## Steps 9: High-Tech Glazing Units"
   ]
  },
  {
   "cell_type": "code",
   "execution_count": null,
   "metadata": {},
   "outputs": [],
   "source": [
    "# Define the rank of the impact category (#):\n",
    "impact_cat = 1\n",
    "var = \"IGU\"\n",
    "step = \"step_9\"\n",
    "conv_factor = 0.001\n",
    "\n",
    "plot_multilca_40(step, impact_cat, var, -100, 100, 50, conv_factor)"
   ]
  },
  {
   "cell_type": "markdown",
   "metadata": {},
   "source": [
    "### Comparative Analysis of High-Tech Glazing Units"
   ]
  },
  {
   "cell_type": "code",
   "execution_count": null,
   "metadata": {
    "scrolled": false
   },
   "outputs": [],
   "source": [
    "# Define the impact category:\n",
    "n = 1\n",
    "\n",
    "ic = df_ilcd_methods.xs(n, level=1)[\"Sub-Category\"][0]\n",
    "ic\n",
    "\n",
    "for step in ['step_4', 'step_9']:\n",
    "    # Keep the lca impact results at the end of life:\n",
    "    df_plot = df_lca_lifespan[[step]].xs(\n",
    "        ic, axis=1, level=3, drop_level=False).loc[[41]]\n",
    "\n",
    "    # Transpose:\n",
    "    df_plot = df_plot.T.unstack(level=(3, 4))[41].reset_index()\n",
    "    \n",
    "    if step == 'step_4':\n",
    "        p = \"crest\"\n",
    "    else:\n",
    "        p = \"dark:salmon_r\"\n",
    "\n",
    "    # Category plot:\n",
    "    g = sns.catplot(data=df_plot, x=\"IGU\",\n",
    "                    y=(\"Climate Change Total\", \"kg CO2-Eq\"),\n",
    "                    hue=\"IGU\", col=\"Step\",\n",
    "                    # kind=\"point\", capsize=.1,\n",
    "                    palette=p, height=5, aspect=1\n",
    "                    )\n",
    "\n",
    "    # palette=sns.color_palette(['firebrick', 'lightcoral', 'royalblue'])\n",
    "\n",
    "    for ax in g.axes.flat:\n",
    "        ax.yaxis.set_major_formatter(FuncFormatter(thousand_divide))\n",
    "        style_ax(ax)\n",
    "        ax.axhline(y=0, c='lightgrey', linestyle='-', linewidth=0.75)\n",
    "\n",
    "    (g.set_titles(\"{col_name}\", fontsize=17, y=1.1)\n",
    "     .set(ylim=(-100000, 100000))\n",
    "     .despine(left=True, bottom=True, offset=5)\n",
    "     )\n",
    "\n",
    "    plt.show()"
   ]
  },
  {
   "cell_type": "markdown",
   "metadata": {},
   "source": [
    "## Steps 10-11: Lifestyles"
   ]
  },
  {
   "cell_type": "markdown",
   "metadata": {},
   "source": [
    "\"Americanisation\""
   ]
  },
  {
   "cell_type": "code",
   "execution_count": null,
   "metadata": {},
   "outputs": [],
   "source": [
    "# Define the rank of the impact category (#):\n",
    "impact_cat = 1\n",
    "var = \"IGU\"\n",
    "step = \"step_10\"\n",
    "conv_factor = 0.001\n",
    "\n",
    "plot_multilca_40(step, impact_cat, var, -100, 100, 50, conv_factor)"
   ]
  },
  {
   "cell_type": "markdown",
   "metadata": {},
   "source": [
    "\"Sufficiency\""
   ]
  },
  {
   "cell_type": "code",
   "execution_count": null,
   "metadata": {},
   "outputs": [],
   "source": [
    "# Define the rank of the impact category (#):\n",
    "impact_cat = 1\n",
    "var = \"IGU\"\n",
    "step = \"step_11\"\n",
    "conv_factor = 0.001\n",
    "\n",
    "plot_multilca_40(step, impact_cat, var, -100, 100, 50, conv_factor)"
   ]
  },
  {
   "cell_type": "markdown",
   "metadata": {},
   "source": [
    "## Steps 12-13: Internal Gains"
   ]
  },
  {
   "cell_type": "code",
   "execution_count": null,
   "metadata": {},
   "outputs": [],
   "source": [
    "# Define the rank of the impact category (#):\n",
    "impact_cat = 1\n",
    "var = \"IGU\"\n",
    "step = \"step_12\"\n",
    "conv_factor = 0.001\n",
    "\n",
    "plot_multilca_40(step, impact_cat, var, -100, 100, 50, conv_factor)"
   ]
  },
  {
   "cell_type": "code",
   "execution_count": null,
   "metadata": {},
   "outputs": [],
   "source": [
    "# Define the rank of the impact category (#):\n",
    "impact_cat = 1\n",
    "var = \"IGU\"\n",
    "step = \"step_13\"\n",
    "conv_factor = 0.001\n",
    "\n",
    "plot_multilca_40(step, impact_cat, var, -100, 100, 50, conv_factor)"
   ]
  },
  {
   "cell_type": "markdown",
   "metadata": {},
   "source": [
    "# Energy Mix and Fully Electrified HVAC System: Sensitivity Analysis"
   ]
  },
  {
   "cell_type": "raw",
   "metadata": {},
   "source": [
    "# Look at activities to change, in this case electricity markets:\n",
    "locations = [\"FR\", \"DE\", \"PL\", \"NL\", \"CH\"]\n",
    "\n",
    "act_name = \"market for electricity, low voltage\"\n",
    "\n",
    "for act in eicutdb.search(act_name, limit=200):\n",
    "    for location in locations:\n",
    "        if location in act['location'] and act_name in act['name']:\n",
    "            print(act['name'])\n",
    "            print(act['location'])"
   ]
  },
  {
   "cell_type": "raw",
   "metadata": {},
   "source": [
    "eu_locations = [\"FR\", \"DE\", \"PL\", \"CH\", \"AT\", \"SE\", \"NO\", \"DK\", \"HU\", \"BG\",\n",
    "            \"CY\", \"CZ\", \"HR\", \"ES\", \"EE\", \"GR\", \"IE\", \"IT\", \"LT\", \"LV\", \"NL\"]"
   ]
  },
  {
   "cell_type": "code",
   "execution_count": null,
   "metadata": {},
   "outputs": [],
   "source": [
    "# List of activities to change, in this case electricity markets:\n",
    "locations = [\"FR\", \"DE\", \"PL\", \"NL\", \"CH\"]\n",
    "\n",
    "act_name = \"market for electricity, low voltage\"\n",
    "\n",
    "elec_market = [('ecoinvent 3.7 cut-off', act['code'])\n",
    "              for act in eicutdb.search(act_name, limit=200)\n",
    "              for location in locations\n",
    "              if act_name in act['name'] and location in act['location']\n",
    "              and \"US-FRCC\" not in act['location']\n",
    "              and \"US-SERC\" not in act['location']\n",
    "             ]\n",
    "\n",
    "# Remove \"market for electricity, low voltage, label-certified\" for CH:\n",
    "elec_market.pop(5)\n",
    "\n",
    "elec_market"
   ]
  },
  {
   "cell_type": "code",
   "execution_count": null,
   "metadata": {
    "scrolled": true
   },
   "outputs": [],
   "source": [
    "# Printing the exchanges\n",
    "print('My activity is:\\n', use_bldg_w_cw, '\\n-------\\nAnd its exchanges:\\n-------')\n",
    "\n",
    "for i in list(use_bldg_w_cw.exchanges()):\n",
    "    print(i['type'])\n",
    "    print(i)\n",
    "    print(i['input'])\n",
    "    print('-------')"
   ]
  },
  {
   "cell_type": "code",
   "execution_count": null,
   "metadata": {},
   "outputs": [],
   "source": [
    "exc_elec = list(use_bldg_w_cw.exchanges())[0]\n",
    "exc_elec"
   ]
  },
  {
   "cell_type": "code",
   "execution_count": null,
   "metadata": {},
   "outputs": [],
   "source": [
    "# LCA according to energy mix:\n",
    "\n",
    "# DF to save results:\n",
    "df_results = pd.DataFrame()\n",
    "\n",
    "n = 0\n",
    "\n",
    "# to name the calculation steps according to location for elec mix:\n",
    "ls_loc = []\n",
    "for i in range(len(elec_market)):\n",
    "    my_act_elec = Database('ecoinvent 3.7 cut-off').get(elec_market[i][1])\n",
    "    ls_loc.append(my_act_elec['location'])\n",
    "\n",
    "# Make a copy of the activity, substitute the background process\n",
    "# save and calculate:\n",
    "for m in elec_market:\n",
    "    use_bldg_w_cw_copy = use_bldg_w_cw.copy()\n",
    "    exc_elec['input'] = m\n",
    "    exc_elec.save()\n",
    "    step = \"step_6_\"+ls_loc[n]\n",
    "    n += 1\n",
    "    for act in [prod_cw, use_bldg_w_cw_copy, repair_cw, eol_cw]:\n",
    "        ls = lca_cw_mlca_full(df_step6, act, 1)\n",
    "        df_energymix_results = ls_to_df_mlca_full(\n",
    "            step, ls, act, df_results\n",
    "        )"
   ]
  },
  {
   "cell_type": "code",
   "execution_count": null,
   "metadata": {},
   "outputs": [],
   "source": [
    "ic = df_ilcd_methods.xs(n, level=1)[\"Sub-Category\"][0]\n",
    "df_energymix_results.loc[step].xs(ic, axis=1,\n",
    "                                      level=1, drop_level=False\n",
    "                                      )"
   ]
  },
  {
   "cell_type": "code",
   "execution_count": null,
   "metadata": {},
   "outputs": [],
   "source": []
  },
  {
   "cell_type": "code",
   "execution_count": null,
   "metadata": {},
   "outputs": [],
   "source": [
    "np.mean([(i/be_cw_elec_result) for i in cw_elec_results])"
   ]
  },
  {
   "cell_type": "code",
   "execution_count": null,
   "metadata": {},
   "outputs": [],
   "source": [
    "pd.DataFrame(cw_elec_results).describe()"
   ]
  },
  {
   "cell_type": "code",
   "execution_count": null,
   "metadata": {},
   "outputs": [],
   "source": [
    "plt.boxplot(cw_elec_results)\n",
    "plt.ylabel(methods[('IPCC 2013', 'climate change', 'GWP 100a')]['unit'])\n",
    "plt.xlabel('El Production')"
   ]
  },
  {
   "cell_type": "code",
   "execution_count": null,
   "metadata": {},
   "outputs": [],
   "source": []
  },
  {
   "cell_type": "code",
   "execution_count": null,
   "metadata": {},
   "outputs": [],
   "source": []
  },
  {
   "cell_type": "code",
   "execution_count": null,
   "metadata": {},
   "outputs": [],
   "source": []
  },
  {
   "cell_type": "code",
   "execution_count": null,
   "metadata": {},
   "outputs": [],
   "source": []
  }
 ],
 "metadata": {
  "kernelspec": {
   "display_name": "Python 3 (ipykernel)",
   "language": "python",
   "name": "python3"
  },
  "language_info": {
   "codemirror_mode": {
    "name": "ipython",
    "version": 3
   },
   "file_extension": ".py",
   "mimetype": "text/x-python",
   "name": "python",
   "nbconvert_exporter": "python",
   "pygments_lexer": "ipython3",
   "version": "3.9.6"
  },
  "toc": {
   "base_numbering": 1,
   "nav_menu": {},
   "number_sections": true,
   "sideBar": true,
   "skip_h1_title": false,
   "title_cell": "Table of Contents",
   "title_sidebar": "Contents",
   "toc_cell": false,
   "toc_position": {
    "height": "calc(100% - 180px)",
    "left": "10px",
    "top": "150px",
    "width": "202px"
   },
   "toc_section_display": true,
   "toc_window_display": true
  },
  "varInspector": {
   "cols": {
    "lenName": 16,
    "lenType": 16,
    "lenVar": 40
   },
   "kernels_config": {
    "python": {
     "delete_cmd_postfix": "",
     "delete_cmd_prefix": "del ",
     "library": "var_list.py",
     "varRefreshCmd": "print(var_dic_list())"
    },
    "r": {
     "delete_cmd_postfix": ") ",
     "delete_cmd_prefix": "rm(",
     "library": "var_list.r",
     "varRefreshCmd": "cat(var_dic_list()) "
    }
   },
   "types_to_exclude": [
    "module",
    "function",
    "builtin_function_or_method",
    "instance",
    "_Feature"
   ],
   "window_display": false
  }
 },
 "nbformat": 4,
 "nbformat_minor": 4
}
