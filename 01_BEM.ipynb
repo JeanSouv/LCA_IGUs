{
 "cells": [
  {
   "cell_type": "raw",
   "metadata": {},
   "source": [
    "import sys\n",
    "from pathlib import Path\n",
    "\n",
    "def show_argv_and_path():\n",
    "    print(f\"le répertoire courant est {Path.cwd()}\")\n",
    "    print(f\"le point d'entrée du programme est {sys.argv[0]}\")\n",
    "    print(f\"la variable sys.path contient\")\n",
    "    for i, path in enumerate(sys.path, 1):\n",
    "        print(f\"{i}-ème chemin dans sys.path {path}\")\n",
    "\n",
    "show_argv_and_path()"
   ]
  },
  {
   "cell_type": "markdown",
   "metadata": {},
   "source": [
    "# Setup"
   ]
  },
  {
   "cell_type": "code",
   "execution_count": 1,
   "metadata": {},
   "outputs": [],
   "source": [
    "import glob as gb\n",
    "from IPython.display import display\n",
    "\n",
    "import datetime\n",
    "\n",
    "import pandas as pd\n",
    "import numpy as np\n",
    "\n",
    "import math\n",
    "\n",
    "import pathlib\n",
    "from pathlib import Path\n",
    "\n",
    "import sqlite3\n",
    "\n",
    "import os\n",
    "\n",
    "from importlib import reload\n",
    "\n",
    "import tqdm\n",
    "\n",
    "import multiprocessing\n",
    "import multiprocess as mp\n",
    "\n",
    "import shlex\n",
    "import subprocess\n",
    "from itertools import product\n",
    "\n",
    "import seaborn as sns\n",
    "\n",
    "import matplotlib as mpl\n",
    "import matplotlib.pyplot as plt\n",
    "%matplotlib inline"
   ]
  },
  {
   "cell_type": "code",
   "execution_count": 2,
   "metadata": {},
   "outputs": [
    {
     "data": {
      "text/plain": [
       "['EnergyPlus_osm\\\\OS\\\\Office_BXL\\\\run\\\\eplusout.sql',\n",
       " 'EnergyPlus_osm\\\\OS\\\\Office_BXL_smartglass\\\\run\\\\eplusout.sql',\n",
       " 'EnergyPlus_osm\\\\OS\\\\Office_BXL_VAV\\\\run\\\\eplusout.sql',\n",
       " 'EnergyPlus_osm\\\\OS\\\\Office_BXL_VRF\\\\run\\\\eplusout.sql',\n",
       " 'EnergyPlus_osm\\\\_ref_Python_and_BEM\\\\eplusout.sql',\n",
       " 'outputs\\\\energyplus\\\\eplusout.sql',\n",
       " 'outputs\\\\energyplus\\\\j_a_2124_dg_init\\\\eplusout.sql',\n",
       " 'outputs\\\\energyplus\\\\j_b_2124_dg0\\\\eplusout.sql',\n",
       " 'outputs\\\\energyplus\\\\j_c_2124_dg4\\\\eplusout.sql',\n",
       " 'outputs\\\\energyplus\\\\j_d_2124_dg5\\\\eplusout.sql']"
      ]
     },
     "execution_count": 2,
     "metadata": {},
     "output_type": "execute_result"
    }
   ],
   "source": [
    "gb.glob('**/*.sql', recursive=True)"
   ]
  },
  {
   "cell_type": "code",
   "execution_count": 3,
   "metadata": {},
   "outputs": [
    {
     "data": {
      "text/plain": [
       "WindowsPath('C:/Users/souvi/Documents/These/80_Calculations/05_LCA/files')"
      ]
     },
     "execution_count": 3,
     "metadata": {},
     "output_type": "execute_result"
    }
   ],
   "source": [
    "# Directory with datasets:\n",
    "ROOT_DIR = Path('./files').absolute()\n",
    "ROOT_DIR"
   ]
  },
  {
   "cell_type": "code",
   "execution_count": 4,
   "metadata": {},
   "outputs": [],
   "source": [
    "# Define size of figure:\n",
    "mpl.rcParams['figure.figsize'] = (16, 10)\n",
    "pd.options.display.max_rows = 200"
   ]
  },
  {
   "cell_type": "code",
   "execution_count": 5,
   "metadata": {},
   "outputs": [
    {
     "name": "stdout",
     "output_type": "stream",
     "text": [
      "Images will be saved in C:\\Users\\souvi\\Documents\\These\\80_Calculations\\05_LCA\\outputs\\IMG\n"
     ]
    }
   ],
   "source": [
    "# Define path to save figures:\n",
    "path_img = os.path.abspath(os.path.join('outputs', 'IMG'))\n",
    "if not os.path.exists(path_img):\n",
    "    os.makedirs(path_img)\n",
    "print(f'Images will be saved in {path_img}')"
   ]
  },
  {
   "cell_type": "code",
   "execution_count": 6,
   "metadata": {},
   "outputs": [],
   "source": [
    "# Define seaborn main parameters:\n",
    "sns.set_style(\"ticks\")\n",
    "sns.color_palette(\"colorblind\")\n",
    "sns.set_context(\"paper\", font_scale=1.5,\n",
    "                rc={\"axes.titlesize\": 15, \"lines.linewidth\": 1.2,\n",
    "                    \"legend.fontsize\": 10, \"legend.title_fontsize\": 10})"
   ]
  },
  {
   "cell_type": "code",
   "execution_count": 7,
   "metadata": {},
   "outputs": [],
   "source": [
    "# A function used to define the thickness of x and y axis:\n",
    "def style_ax(ax):\n",
    "    for axis in ['top', 'bottom', 'left', 'right']:\n",
    "        ax.spines[axis].set_linewidth(0.5)\n",
    "        ax.tick_params(width=0.5)\n",
    "        ax.set_xlabel(None)\n",
    "    return ax"
   ]
  },
  {
   "cell_type": "markdown",
   "metadata": {},
   "source": [
    "## Class EnergyPlus SQL"
   ]
  },
  {
   "cell_type": "markdown",
   "metadata": {},
   "source": [
    "To work with the output data from EnergyPlus:"
   ]
  },
  {
   "cell_type": "code",
   "execution_count": 8,
   "metadata": {},
   "outputs": [],
   "source": [
    "class EPLusSQL():\n",
    "\n",
    "    def __init__(self, sql_path=None):\n",
    "        abs_sql_path = os.path.abspath(sql_path)\n",
    "        self.sql_uri = '{}?mode=ro'.format(pathlib.Path(abs_sql_path).as_uri())\n",
    "\n",
    "    def get_annual_energy_by_fuel_and_enduse(self):\n",
    "        \"\"\"\n",
    "        Queries SQL file and returns the ABUPS' End Uses table\n",
    "\n",
    "        Parameters\n",
    "        ----------\n",
    "        None\n",
    "\n",
    "        Returns\n",
    "        -------\n",
    "        df_end_use: pd.DataFrame\n",
    "            Annual End Use table\n",
    "            index = 'EndUse'\n",
    "            columns = ['FuelType','Units']\n",
    "        \"\"\"\n",
    "\n",
    "        # RowName = '#{end_use}'\n",
    "        # ColumnName='#{fuel_type}'\n",
    "        annual_end_use_query = \"\"\"SELECT RowName, ColumnName, Units, Value\n",
    "            FROM TabularDataWithStrings\n",
    "            WHERE ReportName='AnnualBuildingUtilityPerformanceSummary'\n",
    "            AND ReportForString='Entire Facility'\n",
    "            AND TableName='End Uses'\n",
    "        \"\"\"\n",
    "\n",
    "        with sqlite3.connect(self.sql_uri, uri=True) as con:\n",
    "            df_end_use = pd.read_sql(annual_end_use_query, con=con)\n",
    "\n",
    "        # Convert Value to Float\n",
    "        df_end_use['Value'] = pd.to_numeric(df_end_use['Value'])\n",
    "\n",
    "        df_end_use = df_end_use.set_index(['RowName',\n",
    "                                           'ColumnName',\n",
    "                                           'Units'])['Value'].unstack([1, 2])\n",
    "        df_end_use.index.name = 'EndUse'\n",
    "        df_end_use.columns.names = ['FuelType', 'Units']\n",
    "\n",
    "        end_use_order = ['Heating', 'Cooling',\n",
    "                         'Interior Lighting', 'Exterior Lighting',\n",
    "                         'Interior Equipment', 'Exterior Equipment',\n",
    "                         'Fans', 'Pumps', 'Heat Rejection', 'Humidification',\n",
    "                         'Heat Recovery', 'Water Systems',\n",
    "                         'Refrigeration', 'Generators']\n",
    "        col_order = [\n",
    "            'Electricity', 'Natural Gas', 'Gasoline', 'Diesel', 'Coal',\n",
    "            'Fuel Oil No 1', 'Fuel Oil No 2', 'Propane', 'Other Fuel 1',\n",
    "            'Other Fuel 2', 'District Cooling', 'District Heating',\n",
    "            'Water']\n",
    "        df_end_use = df_end_use[col_order].loc[end_use_order]\n",
    "\n",
    "        # Filter out columns with ALL zeroes\n",
    "        df_end_use = df_end_use.loc[:, (df_end_use > 0).any(axis=0)]\n",
    "\n",
    "        return df_end_use\n",
    "\n",
    "    def get_unmet_hours_table(self):\n",
    "        \"\"\"\n",
    "        Queries 'SystemSummary' and returns all unmet hours\n",
    "\n",
    "        Parameters\n",
    "        ----------\n",
    "        None\n",
    "\n",
    "        Returns\n",
    "        -------\n",
    "        df_unmet: pd.DataFrame\n",
    "            A DataFrame where\n",
    "\n",
    "\n",
    "        \"\"\"\n",
    "\n",
    "        query = \"\"\"SELECT RowName, ColumnName, Units, Value FROM TabularDataWithStrings\n",
    "    WHERE ReportName='SystemSummary'\n",
    "    AND ReportForString='Entire Facility'\n",
    "    AND TableName='Time Setpoint Not Met'\n",
    "    \"\"\"\n",
    "        with sqlite3.connect(self.sql_uri, uri=True) as con:\n",
    "            df_unmet = pd.read_sql(query, con=con)\n",
    "\n",
    "        # Convert Value to Float\n",
    "        df_unmet['Value'] = pd.to_numeric(df_unmet['Value'])\n",
    "\n",
    "        df_unmet = df_unmet.pivot(index='RowName',\n",
    "                                  columns='ColumnName',\n",
    "                                  values='Value')\n",
    "\n",
    "        df_unmet.columns.names = ['Time Setpoint Not Met (hr)']\n",
    "\n",
    "        # Move 'Facility' as last row (Should always be in the index...)\n",
    "        if 'Facility' in df_unmet.index:\n",
    "            df_unmet = df_unmet.loc[[x for x\n",
    "                                     in df_unmet.index\n",
    "                                     if x != 'Facility'] + ['Facility']]\n",
    "\n",
    "        return df_unmet\n",
    "\n",
    "    def get_reporting_vars(self):\n",
    "        \"\"\"\n",
    "        Queries 'ReportingDataDictionary' and returns a DataFrame\n",
    "\n",
    "        Parameters\n",
    "        -----------\n",
    "        None\n",
    "\n",
    "        Returns\n",
    "        ---------\n",
    "        df_vars: pd.DataFrame\n",
    "            A DataFrame where each row is a reporting variable\n",
    "        \"\"\"\n",
    "\n",
    "        with sqlite3.connect(self.sql_uri, uri=True) as con:\n",
    "            query = '''\n",
    "        SELECT KeyValue, Name, TimestepType, ReportingFrequency, Units, Type\n",
    "            FROM ReportDataDictionary\n",
    "            '''\n",
    "            df_vars = pd.read_sql(query, con=con)\n",
    "\n",
    "        return df_vars\n",
    "\n",
    "    def get_hourly_variables(self, variables_list):\n",
    "        \"\"\"\n",
    "        Queries Hourly variables which names are in variables_list\n",
    "\n",
    "        eg: variables_list=['Zone Thermal Comfort CEN 15251 Adaptive Model Temperature']\n",
    "        \"\"\"\n",
    "\n",
    "        query = '''\n",
    "        SELECT EnvironmentPeriodIndex, Month, Day, Hour, Minute,\n",
    "            ReportingFrequency, KeyValue, Name, Units,\n",
    "            Value\n",
    "        FROM ReportVariableWithTime\n",
    "        '''\n",
    "\n",
    "        cond = []\n",
    "\n",
    "        cond.append(\n",
    "            (\"UPPER(Name) IN ({})\".format(', '.join(\n",
    "                map(repr, [name.upper() for name in variables_list]))))\n",
    "        )\n",
    "\n",
    "        cond.append('ReportingFrequency = \"Hourly\"')\n",
    "\n",
    "        query += '  WHERE {}'.format('\\n    AND '.join(cond))\n",
    "\n",
    "        with sqlite3.connect(self.sql_uri, uri=True) as con:\n",
    "            df = pd.read_sql(query, con=con)\n",
    "\n",
    "        df_pivot = pd.pivot_table(df, values='Value',\n",
    "                                  columns=['ReportingFrequency', 'KeyValue',\n",
    "                                           'Name', 'Units'],\n",
    "                                  index=['EnvironmentPeriodIndex',\n",
    "                                         'Month', 'Day', 'Hour', 'Minute'])\n",
    "\n",
    "        df_pivot = df_pivot.loc[3]  # Get the annual environment period index\n",
    "\n",
    "        # We know it's hourly, so recreate a clear index\n",
    "        (month, day, hour, minute) = df_pivot.index[0]\n",
    "        start = datetime.datetime(2005, month, day)\n",
    "        df_pivot.index = pd.date_range(\n",
    "            start=start, periods=df_pivot.index.size, freq='H')\n",
    "        df_pivot = df_pivot['Hourly']\n",
    "\n",
    "        return df_pivot\n",
    "\n",
    "    def get_timestep_variables(self, variables_list=None):\n",
    "        \"\"\"\n",
    "        Queries 'Zone Timestep' variables which names are in variables_list (if supplied, otherwise all)\n",
    "\n",
    "        eg: variables_list=['Zone Thermal Comfort CEN 15251 Adaptive Model Temperature']\n",
    "        \"\"\"\n",
    "\n",
    "        query = '''\n",
    "        SELECT EnvironmentPeriodIndex, Month, Day, Hour, Minute,\n",
    "            ReportingFrequency, KeyValue, Name, Units,\n",
    "            Value\n",
    "        FROM ReportVariableWithTime\n",
    "        '''\n",
    "\n",
    "        cond = []\n",
    "\n",
    "        if variables_list:\n",
    "            cond.append(\n",
    "                (\"UPPER(Name) IN ({})\".format(', '.join(\n",
    "                    map(repr, [name.upper() for name in variables_list]))))\n",
    "            )\n",
    "\n",
    "        cond.append('ReportingFrequency = \"Zone Timestep\"')\n",
    "\n",
    "        query += '  WHERE {}'.format('\\n    AND '.join(cond))\n",
    "\n",
    "        with sqlite3.connect(self.sql_uri, uri=True) as con:\n",
    "            df = pd.read_sql(query, con=con)\n",
    "\n",
    "        df_pivot = pd.pivot_table(df, values='Value',\n",
    "                                  columns=['ReportingFrequency', 'KeyValue',\n",
    "                                           'Name', 'Units'],\n",
    "                                  index=['EnvironmentPeriodIndex',\n",
    "                                         'Month', 'Day', 'Hour', 'Minute'])\n",
    "\n",
    "        df_pivot = df_pivot.loc[3]  # Get the annual environment period index\n",
    "\n",
    "        # We know it's Zone Timestep, with 15min timestep, so recreate a clear index\n",
    "        (month, day, hour, minute) = df_pivot.index[0]\n",
    "        start = datetime.datetime(2005, month, day)\n",
    "\n",
    "        df_pivot.index = pd.date_range(\n",
    "            start=start, periods=df_pivot.index.size, freq='15Min')\n",
    "        df_pivot = df_pivot['Zone Timestep']\n",
    "\n",
    "        return df_pivot"
   ]
  },
  {
   "cell_type": "markdown",
   "metadata": {},
   "source": [
    "# List of Scenarios with their Parameters"
   ]
  },
  {
   "cell_type": "markdown",
   "metadata": {},
   "source": [
    "Import the Excel file with the scenarios for the BEM and LCA (i.e., the parameter values for the configuration of the model):"
   ]
  },
  {
   "cell_type": "code",
   "execution_count": 9,
   "metadata": {},
   "outputs": [],
   "source": [
    "lca_scenarios = pd.ExcelFile(ROOT_DIR / 'lca_scenarios.xlsx')"
   ]
  },
  {
   "cell_type": "markdown",
   "metadata": {},
   "source": [
    "Define a series of dataframes for each step of calculation:"
   ]
  },
  {
   "cell_type": "code",
   "execution_count": 10,
   "metadata": {},
   "outputs": [
    {
     "name": "stdout",
     "output_type": "stream",
     "text": [
      "lca_scenarios, sheet names = \n",
      " ['Scenarios', 'Step1', 'Step2', 'Step3', 'Step4', 'Step5', 'Step6', 'Step7', 'Step8', 'Step9', 'Step10', 'Step11', 'Step12', 'Step13', 'Step14', 'Step15', 'Step16']\n",
      "\n"
     ]
    }
   ],
   "source": [
    "print(\"lca_scenarios, sheet names = \\n {}\\n\".format(lca_scenarios.sheet_names))"
   ]
  },
  {
   "cell_type": "code",
   "execution_count": 11,
   "metadata": {},
   "outputs": [],
   "source": [
    "# Create dataframe for with scenarios for each step:\n",
    "df_step1 = lca_scenarios.parse('Step1').set_index('name')\n",
    "df_step2 = lca_scenarios.parse('Step2').set_index('name')\n",
    "df_step3 = lca_scenarios.parse('Step3').set_index('name')\n",
    "df_step4 = lca_scenarios.parse('Step4').set_index('name')\n",
    "df_step5 = lca_scenarios.parse('Step5').set_index('name')\n",
    "df_step6 = lca_scenarios.parse('Step6').set_index('name')\n",
    "df_step7 = lca_scenarios.parse('Step7').set_index('name')\n",
    "df_step8 = lca_scenarios.parse('Step8').set_index('name')\n",
    "df_step9 = lca_scenarios.parse('Step9').set_index('name')\n",
    "df_step10 = lca_scenarios.parse('Step10').set_index('name')\n",
    "df_step11 = lca_scenarios.parse('Step11').set_index('name')\n",
    "df_step12 = lca_scenarios.parse('Step12').set_index('name')\n",
    "df_step13 = lca_scenarios.parse('Step13').set_index('name')\n",
    "df_step14 = lca_scenarios.parse('Step14').set_index('name')\n",
    "df_step15 = lca_scenarios.parse('Step15').set_index('name')\n",
    "df_step16 = lca_scenarios.parse('Step16').set_index('name')"
   ]
  },
  {
   "cell_type": "code",
   "execution_count": 12,
   "metadata": {},
   "outputs": [],
   "source": [
    "df_step1.name = \"df_step1\"\n",
    "df_step2.name = \"df_step2\"\n",
    "df_step3.name = \"df_step3\"\n",
    "df_step4.name = \"df_step4\"\n",
    "df_step5.name = \"df_step5\"\n",
    "df_step6.name = \"df_step6\"\n",
    "df_step7.name = \"df_step7\"\n",
    "df_step8.name = \"df_step8\"\n",
    "df_step9.name = \"df_step9\"\n",
    "df_step10.name = \"df_step10\"\n",
    "df_step11.name = \"df_step11\"\n",
    "df_step12.name = \"df_step12\"\n",
    "df_step13.name = \"df_step13\"\n",
    "df_step14.name = \"df_step14\"\n",
    "df_step15.name = \"df_step15\"\n",
    "df_step16.name = \"df_step16\""
   ]
  },
  {
   "cell_type": "markdown",
   "metadata": {},
   "source": [
    "# Building Energy Simulation with EnergyPlus"
   ]
  },
  {
   "cell_type": "markdown",
   "metadata": {},
   "source": [
    "Inspired by the notebooks on Data Driven Building posted on GitHub by Clayton Miller:\n",
    "https://github.com/buds-lab/python-for-building-analysts"
   ]
  },
  {
   "cell_type": "markdown",
   "metadata": {},
   "source": [
    "## Setup for the Energy Simulation"
   ]
  },
  {
   "cell_type": "code",
   "execution_count": 13,
   "metadata": {},
   "outputs": [],
   "source": [
    "from eppy import modeleditor\n",
    "from eppy.modeleditor import IDF\n",
    "\n",
    "iddfile = \"C:\\EnergyPlusV9-5-0\\Energy+.idd\"\n",
    "#iddfile = '/usr/local/EnergyPlus-9-5-0/Energy+.idd'\n",
    "IDF.setiddname(iddfile)"
   ]
  },
  {
   "cell_type": "code",
   "execution_count": 14,
   "metadata": {},
   "outputs": [],
   "source": [
    "ROOT_DIR_EPlus = ROOT_DIR / 'EnergyPlus'\n",
    "\n",
    "# Weather data for Brussels:\n",
    "epwfile = str(ROOT_DIR_EPlus / \"BEL_Brussels.064510_IWEC.epw\")\n",
    "\n",
    "# Weather data for Brussels, 2069-2098 - RCP 8.5 (see steps 14-16):\n",
    "epwfile_cc = str(ROOT_DIR_EPlus / \"TDY_Uccle_Future_2069-2098.epw\")\n",
    "\n",
    "# IDF file, initial configuration:\n",
    "idfname_init = str(ROOT_DIR_EPlus / \"BEM_init.idf\")\n",
    "\n",
    "# IDF file, HVAC changed, optimised VAV system:\n",
    "idfname_vav = str(ROOT_DIR_EPlus / \"BEM_VAV.idf\")\n",
    "\n",
    "# IDF file, HVAC changed, VRF system:\n",
    "idfname_vrf = str(ROOT_DIR_EPlus / \"BEM_VRF.idf\")\n",
    "\n",
    "# IDF file for smart glass modeling, initial configuration:\n",
    "idfname_smartglass = str(ROOT_DIR_EPlus / \"BEM_SmartGlass.idf\")"
   ]
  },
  {
   "cell_type": "code",
   "execution_count": 15,
   "metadata": {},
   "outputs": [
    {
     "data": {
      "text/plain": [
       "WindowsPath('C:/Users/souvi/Documents/These/80_Calculations/05_LCA/outputs/energyplus')"
      ]
     },
     "execution_count": 15,
     "metadata": {},
     "output_type": "execute_result"
    }
   ],
   "source": [
    "# Directory with datasets:\n",
    "OUT_DIR_EPlus = Path('./outputs/energyplus').absolute()\n",
    "OUT_DIR_EPlus"
   ]
  },
  {
   "cell_type": "code",
   "execution_count": 16,
   "metadata": {},
   "outputs": [],
   "source": [
    "# Subdirectory with the idf copies:\n",
    "IDF_DIR = Path('./files/EnergyPlus/copies').absolute()"
   ]
  },
  {
   "cell_type": "code",
   "execution_count": 17,
   "metadata": {
    "code_folding": []
   },
   "outputs": [],
   "source": [
    "# Setup of the IDF_init:\n",
    "idf_init = IDF(str(idfname_init), str(epwfile))"
   ]
  },
  {
   "cell_type": "raw",
   "metadata": {},
   "source": [
    "idf_init.printidf()"
   ]
  },
  {
   "cell_type": "code",
   "execution_count": 18,
   "metadata": {},
   "outputs": [
    {
     "data": {
      "text/plain": [
       "\n",
       "Building,\n",
       "    Office,                   !- Name\n",
       "    0,                        !- North Axis\n",
       "    City,                     !- Terrain\n",
       "    0.04,                     !- Loads Convergence Tolerance Value\n",
       "    0.2,                      !- Temperature Convergence Tolerance Value\n",
       "    FullInteriorAndExterior,    !- Solar Distribution\n",
       "    25,                       !- Maximum Number of Warmup Days\n",
       "    6;                        !- Minimum Number of Warmup Days"
      ]
     },
     "execution_count": 18,
     "metadata": {},
     "output_type": "execute_result"
    }
   ],
   "source": [
    "# look at a specific object:\n",
    "building = idf_init.idfobjects['BUILDING'][0]\n",
    "building"
   ]
  },
  {
   "cell_type": "code",
   "execution_count": 19,
   "metadata": {},
   "outputs": [
    {
     "data": {
      "text/plain": [
       "'Fully-glazed office building'"
      ]
     },
     "execution_count": 19,
     "metadata": {},
     "output_type": "execute_result"
    }
   ],
   "source": [
    "# Change a parameter:\n",
    "building.Name = \"Fully-glazed office building\"\n",
    "building.Name"
   ]
  },
  {
   "cell_type": "raw",
   "metadata": {},
   "source": [
    "# .idfobjects function to look inside the idf \n",
    "# to view all of the object types and instances\n",
    "objectlist = idf.idfobjects\n",
    "objectnamelist = []"
   ]
  },
  {
   "cell_type": "raw",
   "metadata": {},
   "source": [
    "for objectname in objectlist:\n",
    "    objectnamelist.append(objectname)"
   ]
  },
  {
   "cell_type": "raw",
   "metadata": {},
   "source": [
    "# a pandas series (1-dimensional) of the possible object 'types' within EnergyPlus\n",
    "nameseries = pd.Series(objectnamelist)\n",
    "nameseries"
   ]
  },
  {
   "cell_type": "markdown",
   "metadata": {},
   "source": [
    "## Materials and Construction"
   ]
  },
  {
   "cell_type": "markdown",
   "metadata": {},
   "source": [
    "Materials:"
   ]
  },
  {
   "cell_type": "code",
   "execution_count": 20,
   "metadata": {},
   "outputs": [
    {
     "name": "stdout",
     "output_type": "stream",
     "text": [
      "[\n",
      "Material,\n",
      "    F13 Built-up roofing,     !- Name\n",
      "    Rough,                    !- Roughness\n",
      "    0.0095,                   !- Thickness\n",
      "    0.16,                     !- Conductivity\n",
      "    1120,                     !- Density\n",
      "    1460,                     !- Specific Heat\n",
      "    0.9,                      !- Thermal Absorptance\n",
      "    0.7,                      !- Solar Absorptance\n",
      "    0.7;                      !- Visible Absorptance\n",
      ", \n",
      "Material,\n",
      "    Gypsum_13mm,              !- Name\n",
      "    Smooth,                   !- Roughness\n",
      "    0.0127,                   !- Thickness\n",
      "    0.16,                     !- Conductivity\n",
      "    800,                      !- Density\n",
      "    1090,                     !- Specific Heat\n",
      "    0.9,                      !- Thermal Absorptance\n",
      "    0.7,                      !- Solar Absorptance\n",
      "    0.5;                      !- Visible Absorptance\n",
      ", \n",
      "Material,\n",
      "    METAL Door Medium 18Ga_1,    !- Name\n",
      "    Smooth,                   !- Roughness\n",
      "    0.0013106,                !- Thickness\n",
      "    45.3149,                  !- Conductivity\n",
      "    7833.03,                  !- Density\n",
      "    502.08,                   !- Specific Heat\n",
      "    0.8,                      !- Thermal Absorptance\n",
      "    0.5,                      !- Solar Absorptance\n",
      "    0.5;                      !- Visible Absorptance\n",
      ", \n",
      "Material,\n",
      "    METAL Door Medium 18Ga_2,    !- Name\n",
      "    Smooth,                   !- Roughness\n",
      "    0.0013106,                !- Thickness\n",
      "    45.3149,                  !- Conductivity\n",
      "    7833.03,                  !- Density\n",
      "    502.08,                   !- Specific Heat\n",
      "    0.8,                      !- Thermal Absorptance\n",
      "    0.5,                      !- Solar Absorptance\n",
      "    0.5;                      !- Visible Absorptance\n",
      ", \n",
      "Material,\n",
      "    Std Wood,                 !- Name\n",
      "    MediumSmooth,             !- Roughness\n",
      "    0.15,                     !- Thickness\n",
      "    0.12,                     !- Conductivity\n",
      "    540,                      !- Density\n",
      "    1210,                     !- Specific Heat\n",
      "    0.9,                      !- Thermal Absorptance\n",
      "    0.7,                      !- Solar Absorptance\n",
      "    0.7;                      !- Visible Absorptance\n",
      ", \n",
      "Material,\n",
      "    _Ceiling,                 !- Name\n",
      "    Smooth,                   !- Roughness\n",
      "    0.02,                     !- Thickness\n",
      "    0.057,                    !- Conductivity\n",
      "    288,                      !- Density\n",
      "    1339,                     !- Specific Heat\n",
      "    0.9,                      !- Thermal Absorptance\n",
      "    0.7,                      !- Solar Absorptance\n",
      "    0.2;                      !- Visible Absorptance\n",
      ", \n",
      "Material,\n",
      "    _Floor_Concrete200mm,     !- Name\n",
      "    MediumRough,              !- Roughness\n",
      "    0.2,                      !- Thickness\n",
      "    1.4,                      !- Conductivity\n",
      "    2100,                     !- Density\n",
      "    840,                      !- Specific Heat\n",
      "    0.9,                      !- Thermal Absorptance\n",
      "    0.7,                      !- Solar Absorptance\n",
      "    0.7;                      !- Visible Absorptance\n",
      ", \n",
      "Material,\n",
      "    _Spandrel_Equivalent,     !- Name\n",
      "    Smooth,                   !- Roughness\n",
      "    0.205,                    !- Thickness\n",
      "    0.081,                    !- Conductivity\n",
      "    536,                      !- Density\n",
      "    1085,                     !- Specific Heat\n",
      "    0.9,                      !- Thermal Absorptance\n",
      "    0.7,                      !- Solar Absorptance\n",
      "    0.7;                      !- Visible Absorptance\n",
      ", \n",
      "Material,\n",
      "    _Wall_Concrete300mm,      !- Name\n",
      "    MediumRough,              !- Roughness\n",
      "    0.3,                      !- Thickness\n",
      "    1.4,                      !- Conductivity\n",
      "    2100,                     !- Density\n",
      "    840,                      !- Specific Heat\n",
      "    0.9,                      !- Thermal Absorptance\n",
      "    0.7,                      !- Solar Absorptance\n",
      "    0.7;                      !- Visible Absorptance\n",
      "]\n"
     ]
    }
   ],
   "source": [
    "materials = idf_init.idfobjects[\"Material\"]\n",
    "print(materials)"
   ]
  },
  {
   "cell_type": "code",
   "execution_count": 21,
   "metadata": {},
   "outputs": [
    {
     "name": "stdout",
     "output_type": "stream",
     "text": [
      "[\n",
      "WindowMaterial:SimpleGlazingSystem,\n",
      "    ccf,                      !- Name\n",
      "    0.75,                     !- UFactor\n",
      "    0.2,                      !- Solar Heat Gain Coefficient\n",
      "    0.44;                     !- Visible Transmittance\n",
      ", \n",
      "WindowMaterial:SimpleGlazingSystem,\n",
      "    DG_0_clear,               !- Name\n",
      "    2.71,                     !- UFactor\n",
      "    0.69,                     !- Solar Heat Gain Coefficient\n",
      "    0.77;                     !- Visible Transmittance\n",
      ", \n",
      "WindowMaterial:SimpleGlazingSystem,\n",
      "    DG_1_highSHG_highLT,      !- Name\n",
      "    1.1,                      !- UFactor\n",
      "    0.62,                     !- Solar Heat Gain Coefficient\n",
      "    0.82;                     !- Visible Transmittance\n",
      ", \n",
      "WindowMaterial:SimpleGlazingSystem,\n",
      "    DG_2_midSHG_midLT,        !- Name\n",
      "    1,                        !- UFactor\n",
      "    0.41,                     !- Solar Heat Gain Coefficient\n",
      "    0.58;                     !- Visible Transmittance\n",
      ", \n",
      "WindowMaterial:SimpleGlazingSystem,\n",
      "    DG_3_midSHG_highLT,       !- Name\n",
      "    1.1,                      !- UFactor\n",
      "    0.41,                     !- Solar Heat Gain Coefficient\n",
      "    0.74;                     !- Visible Transmittance\n",
      ", \n",
      "WindowMaterial:SimpleGlazingSystem,\n",
      "    DG_4_lowSHG_lowLT,        !- Name\n",
      "    1,                        !- UFactor\n",
      "    0.21,                     !- Solar Heat Gain Coefficient\n",
      "    0.4;                      !- Visible Transmittance\n",
      ", \n",
      "WindowMaterial:SimpleGlazingSystem,\n",
      "    DG_5_Krypton_lowSHG_midLT,    !- Name\n",
      "    0.7,                      !- UFactor\n",
      "    0.29,                     !- Solar Heat Gain Coefficient\n",
      "    0.62;                     !- Visible Transmittance\n",
      ", \n",
      "WindowMaterial:SimpleGlazingSystem,\n",
      "    DG_5_lowSHG_midLT,        !- Name\n",
      "    1,                        !- UFactor\n",
      "    0.29,                     !- Solar Heat Gain Coefficient\n",
      "    0.62;                     !- Visible Transmittance\n",
      ", \n",
      "WindowMaterial:SimpleGlazingSystem,\n",
      "    DG_6_lowSHG_highLT,       !- Name\n",
      "    1,                        !- UFactor\n",
      "    0.38,                     !- Solar Heat Gain Coefficient\n",
      "    0.72;                     !- Visible Transmittance\n",
      ", \n",
      "WindowMaterial:SimpleGlazingSystem,\n",
      "    DG_init_bronze,           !- Name\n",
      "    2.71,                     !- UFactor\n",
      "    0.46,                     !- Solar Heat Gain Coefficient\n",
      "    0.36;                     !- Visible Transmittance\n",
      ", \n",
      "WindowMaterial:SimpleGlazingSystem,\n",
      "    DG_vacuum_lowSHG_midLT,    !- Name\n",
      "    0.6,                      !- UFactor\n",
      "    0.29,                     !- Solar Heat Gain Coefficient\n",
      "    0.62;                     !- Visible Transmittance\n",
      ", \n",
      "WindowMaterial:SimpleGlazingSystem,\n",
      "    SG_1_clear,               !- Name\n",
      "    5.57,                     !- UFactor\n",
      "    0.81,                     !- Solar Heat Gain Coefficient\n",
      "    0.88;                     !- Visible Transmittance\n",
      ", \n",
      "WindowMaterial:SimpleGlazingSystem,\n",
      "    SG_2_coated,              !- Name\n",
      "    3.1,                      !- UFactor\n",
      "    0.4,                      !- Solar Heat Gain Coefficient\n",
      "    0.7;                      !- Visible Transmittance\n",
      ", \n",
      "WindowMaterial:SimpleGlazingSystem,\n",
      "    TG_1_highSHG_highLT,      !- Name\n",
      "    0.6,                      !- UFactor\n",
      "    0.54,                     !- Solar Heat Gain Coefficient\n",
      "    0.75;                     !- Visible Transmittance\n",
      ", \n",
      "WindowMaterial:SimpleGlazingSystem,\n",
      "    TG_2_midSHG_midLT,        !- Name\n",
      "    0.7,                      !- UFactor\n",
      "    0.37,                     !- Solar Heat Gain Coefficient\n",
      "    0.52;                     !- Visible Transmittance\n",
      ", \n",
      "WindowMaterial:SimpleGlazingSystem,\n",
      "    TG_3_midSHG_highLT,       !- Name\n",
      "    0.7,                      !- UFactor\n",
      "    0.35,                     !- Solar Heat Gain Coefficient\n",
      "    0.64;                     !- Visible Transmittance\n",
      ", \n",
      "WindowMaterial:SimpleGlazingSystem,\n",
      "    TG_4_lowSHG_lowLT,        !- Name\n",
      "    0.6,                      !- UFactor\n",
      "    0.19,                     !- Solar Heat Gain Coefficient\n",
      "    0.33;                     !- Visible Transmittance\n",
      ", \n",
      "WindowMaterial:SimpleGlazingSystem,\n",
      "    TG_5_Krypton_lowSHG_midLT,    !- Name\n",
      "    0.5,                      !- UFactor\n",
      "    0.21,                     !- Solar Heat Gain Coefficient\n",
      "    0.46;                     !- Visible Transmittance\n",
      ", \n",
      "WindowMaterial:SimpleGlazingSystem,\n",
      "    TG_5_lowSHG_midLT,        !- Name\n",
      "    0.6,                      !- UFactor\n",
      "    0.21,                     !- Solar Heat Gain Coefficient\n",
      "    0.46;                     !- Visible Transmittance\n",
      ", \n",
      "WindowMaterial:SimpleGlazingSystem,\n",
      "    TG_5_Xenon_lowSHG_midLT,    !- Name\n",
      "    0.45,                     !- UFactor\n",
      "    0.21,                     !- Solar Heat Gain Coefficient\n",
      "    0.46;                     !- Visible Transmittance\n",
      ", \n",
      "WindowMaterial:SimpleGlazingSystem,\n",
      "    TG_6_lowSHG_highLT,       !- Name\n",
      "    0.6,                      !- UFactor\n",
      "    0.34,                     !- Solar Heat Gain Coefficient\n",
      "    0.64;                     !- Visible Transmittance\n",
      "]\n"
     ]
    }
   ],
   "source": [
    "# Glazing types:\n",
    "igus = idf_init.idfobjects[\"WindowMaterial:SimpleGlazingSystem\"]\n",
    "print(igus)"
   ]
  },
  {
   "cell_type": "code",
   "execution_count": 22,
   "metadata": {},
   "outputs": [
    {
     "name": "stdout",
     "output_type": "stream",
     "text": [
      "[\n",
      "WindowMaterial:Shade,\n",
      "    EnviroScreen_lightgrey_silver,    !- Name\n",
      "    0.1,                      !- Solar Transmittance\n",
      "    0.7,                      !- Solar Reflectance\n",
      "    0.15,                     !- Visible Transmittance\n",
      "    0.8,                      !- Visible Reflectance\n",
      "    0.9,                      !- Infrared Hemispherical Emissivity\n",
      "    0,                        !- Infrared Transmittance\n",
      "    0.0005,                   !- Thickness\n",
      "    0.15,                     !- Conductivity\n",
      "    0.05,                     !- Shade to Glass Distance\n",
      "    0,                        !- Top Opening Multiplier\n",
      "    0,                        !- Bottom Opening Multiplier\n",
      "    0,                        !- LeftSide Opening Multiplier\n",
      "    0,                        !- RightSide Opening Multiplier\n",
      "    0.1;                      !- Airflow Permeability\n",
      ", \n",
      "WindowMaterial:Shade,\n",
      "    Isotiss_Thermal Curtain and Air Wall,    !- Name\n",
      "    0.12,                     !- Solar Transmittance\n",
      "    0.71,                     !- Solar Reflectance\n",
      "    0.12,                     !- Visible Transmittance\n",
      "    0.7,                      !- Visible Reflectance\n",
      "    0.9,                      !- Infrared Hemispherical Emissivity\n",
      "    0.05,                     !- Infrared Transmittance\n",
      "    0.01,                     !- Thickness\n",
      "    0.046,                    !- Conductivity\n",
      "    0.05,                     !- Shade to Glass Distance\n",
      "    0,                        !- Top Opening Multiplier\n",
      "    0,                        !- Bottom Opening Multiplier\n",
      "    0,                        !- LeftSide Opening Multiplier\n",
      "    0,                        !- RightSide Opening Multiplier\n",
      "    0;                        !- Airflow Permeability\n",
      ", \n",
      "WindowMaterial:Shade,\n",
      "    Isotiss_Thermal Curtain_Only,    !- Name\n",
      "    0.12,                     !- Solar Transmittance\n",
      "    0.71,                     !- Solar Reflectance\n",
      "    0.12,                     !- Visible Transmittance\n",
      "    0.7,                      !- Visible Reflectance\n",
      "    0.9,                      !- Infrared Hemispherical Emissivity\n",
      "    0.05,                     !- Infrared Transmittance\n",
      "    0.01,                     !- Thickness\n",
      "    0.046,                    !- Conductivity\n",
      "    0.12,                     !- Shade to Glass Distance\n",
      "    0,                        !- Top Opening Multiplier\n",
      "    0,                        !- Bottom Opening Multiplier\n",
      "    0,                        !- LeftSide Opening Multiplier\n",
      "    0,                        !- RightSide Opening Multiplier\n",
      "    0;                        !- Airflow Permeability\n",
      "]\n"
     ]
    }
   ],
   "source": [
    "# Exterior shading and thermal curtain:\n",
    "shades = idf_init.idfobjects[\"WindowMaterial:Shade\"]\n",
    "print(shades)"
   ]
  },
  {
   "cell_type": "markdown",
   "metadata": {},
   "source": [
    "Constructions:"
   ]
  },
  {
   "cell_type": "code",
   "execution_count": 23,
   "metadata": {},
   "outputs": [
    {
     "name": "stdout",
     "output_type": "stream",
     "text": [
      "[\n",
      "Construction,\n",
      "    ccf,                      !- Name\n",
      "    ccf;                      !- Outside Layer\n",
      ", \n",
      "Construction,\n",
      "    dg_0_clear,               !- Name\n",
      "    DG_0_clear;               !- Outside Layer\n",
      ", \n",
      "Construction,\n",
      "    dg_1_highSHG_highLT,      !- Name\n",
      "    DG_1_highSHG_highLT;      !- Outside Layer\n",
      ", \n",
      "Construction,\n",
      "    dg_2_midSHG_midLT,        !- Name\n",
      "    DG_2_midSHG_midLT;        !- Outside Layer\n",
      ", \n",
      "Construction,\n",
      "    dg_3_midSHG_highLT,       !- Name\n",
      "    DG_3_midSHG_highLT;       !- Outside Layer\n",
      ", \n",
      "Construction,\n",
      "    dg_4_lowSHG_lowLT,        !- Name\n",
      "    DG_4_lowSHG_lowLT;        !- Outside Layer\n",
      ", \n",
      "Construction,\n",
      "    dg_5k_Krypton_lowSHG_midLT,    !- Name\n",
      "    DG_5_Krypton_lowSHG_midLT;    !- Outside Layer\n",
      ", \n",
      "Construction,\n",
      "    dg_5_lowSHG_midLT,        !- Name\n",
      "    DG_5_lowSHG_midLT;        !- Outside Layer\n",
      ", \n",
      "Construction,\n",
      "    dg_6_lowSHG_highLT,       !- Name\n",
      "    DG_6_lowSHG_highLT;       !- Outside Layer\n",
      ", \n",
      "Construction,\n",
      "    dg_init_bronze,           !- Name\n",
      "    DG_init_bronze;           !- Outside Layer\n",
      ", \n",
      "Construction,\n",
      "    dg_vacuum,                !- Name\n",
      "    DG_vacuum_lowSHG_midLT;    !- Outside Layer\n",
      ", \n",
      "Construction,\n",
      "    sg_1_clear,               !- Name\n",
      "    SG_1_clear;               !- Outside Layer\n",
      ", \n",
      "Construction,\n",
      "    sg_2_coated,              !- Name\n",
      "    SG_2_coated;              !- Outside Layer\n",
      ", \n",
      "Construction,\n",
      "    tg_1_highSHG_highLT,      !- Name\n",
      "    TG_1_highSHG_highLT;      !- Outside Layer\n",
      ", \n",
      "Construction,\n",
      "    tg_2_midSHG_midLT,        !- Name\n",
      "    TG_2_midSHG_midLT;        !- Outside Layer\n",
      ", \n",
      "Construction,\n",
      "    tg_3_midSHG_highLT,       !- Name\n",
      "    TG_3_midSHG_highLT;       !- Outside Layer\n",
      ", \n",
      "Construction,\n",
      "    tg_4_lowSHG_lowLT,        !- Name\n",
      "    TG_4_lowSHG_lowLT;        !- Outside Layer\n",
      ", \n",
      "Construction,\n",
      "    tg_5k_Krypton_lowSHG_midLT,    !- Name\n",
      "    TG_5_Krypton_lowSHG_midLT;    !- Outside Layer\n",
      ", \n",
      "Construction,\n",
      "    tg_5x_Xenon_lowSHG_midLT,    !- Name\n",
      "    TG_5_Xenon_lowSHG_midLT;    !- Outside Layer\n",
      ", \n",
      "Construction,\n",
      "    tg_5_lowSHG_midLT,        !- Name\n",
      "    TG_5_lowSHG_midLT;        !- Outside Layer\n",
      ", \n",
      "Construction,\n",
      "    tg_6_lowSHG_highLT,       !- Name\n",
      "    TG_6_lowSHG_highLT;       !- Outside Layer\n",
      ", \n",
      "Construction,\n",
      "    _ConcreteAndCarpet,       !- Name\n",
      "    Carpet pad,               !- Outside Layer\n",
      "    _Floor_Concrete200mm;     !- Layer 2\n",
      ", \n",
      "Construction,\n",
      "    _ConcreteAndCarpet Reversed,    !- Name\n",
      "    _Floor_Concrete200mm,     !- Outside Layer\n",
      "    Carpet pad;               !- Layer 2\n",
      ", \n",
      "Construction,\n",
      "    _ConcreteSlab_200mm,      !- Name\n",
      "    _Floor_Concrete200mm;     !- Outside Layer\n",
      ", \n",
      "Construction,\n",
      "    _Concrete_300mm,          !- Name\n",
      "    _Wall_Concrete300mm;      !- Outside Layer\n",
      ", \n",
      "Construction,\n",
      "    _Door_Metal,              !- Name\n",
      "    METAL Door Medium 18Ga_1,    !- Outside Layer\n",
      "    AIR [4],                  !- Layer 2\n",
      "    METAL Door Medium 18Ga_2;    !- Layer 3\n",
      ", \n",
      "Construction,\n",
      "    _DropCeiling,             !- Name\n",
      "    _Ceiling;                 !- Outside Layer\n",
      ", \n",
      "Construction,\n",
      "    _ExtDoor_Main entrance,    !- Name\n",
      "    SG_2_coated;              !- Outside Layer\n",
      ", \n",
      "Construction,\n",
      "    _Gypsum13_Concrete200mm_Gypsum13,    !- Name\n",
      "    Gypsum_13mm,              !- Outside Layer\n",
      "    _Floor_Concrete200mm,     !- Layer 2\n",
      "    Gypsum_13mm;              !- Layer 3\n",
      ", \n",
      "Construction,\n",
      "    _Roof,                    !- Name\n",
      "    F13 Built-up roofing,     !- Outside Layer\n",
      "    Roof_Insulation,          !- Layer 2\n",
      "    _Floor_Concrete200mm;     !- Layer 3\n",
      ", \n",
      "Construction,\n",
      "    _Spandrel_Equivalent,     !- Name\n",
      "    _Spandrel_Equivalent;     !- Outside Layer\n",
      ", \n",
      "Construction,\n",
      "    _WoodFurnitures,          !- Name\n",
      "    Std Wood;                 !- Outside Layer\n",
      "]\n"
     ]
    }
   ],
   "source": [
    "constructions = idf_init.idfobjects[\"CONSTRUCTION\"]\n",
    "print(constructions)"
   ]
  },
  {
   "cell_type": "code",
   "execution_count": 24,
   "metadata": {},
   "outputs": [
    {
     "data": {
      "text/plain": [
       "32"
      ]
     },
     "execution_count": 24,
     "metadata": {},
     "output_type": "execute_result"
    }
   ],
   "source": [
    "len(constructions)"
   ]
  },
  {
   "cell_type": "code",
   "execution_count": 25,
   "metadata": {},
   "outputs": [
    {
     "data": {
      "text/plain": [
       "['ccf',\n",
       " 'dg_0_clear',\n",
       " 'dg_1_highSHG_highLT',\n",
       " 'dg_2_midSHG_midLT',\n",
       " 'dg_3_midSHG_highLT',\n",
       " 'dg_4_lowSHG_lowLT',\n",
       " 'dg_5k_Krypton_lowSHG_midLT',\n",
       " 'dg_5_lowSHG_midLT',\n",
       " 'dg_6_lowSHG_highLT',\n",
       " 'dg_init_bronze',\n",
       " 'dg_vacuum',\n",
       " 'sg_1_clear',\n",
       " 'sg_2_coated',\n",
       " 'tg_1_highSHG_highLT',\n",
       " 'tg_2_midSHG_midLT',\n",
       " 'tg_3_midSHG_highLT',\n",
       " 'tg_4_lowSHG_lowLT',\n",
       " 'tg_5k_Krypton_lowSHG_midLT',\n",
       " 'tg_5x_Xenon_lowSHG_midLT',\n",
       " 'tg_5_lowSHG_midLT',\n",
       " 'tg_6_lowSHG_highLT',\n",
       " '_ConcreteAndCarpet',\n",
       " '_ConcreteAndCarpet Reversed',\n",
       " '_ConcreteSlab_200mm',\n",
       " '_Concrete_300mm',\n",
       " '_Door_Metal',\n",
       " '_DropCeiling',\n",
       " '_ExtDoor_Main entrance',\n",
       " '_Gypsum13_Concrete200mm_Gypsum13',\n",
       " '_Roof',\n",
       " '_Spandrel_Equivalent',\n",
       " '_WoodFurnitures']"
      ]
     },
     "execution_count": 25,
     "metadata": {},
     "output_type": "execute_result"
    }
   ],
   "source": [
    "[construction.Name for construction in constructions]"
   ]
  },
  {
   "cell_type": "markdown",
   "metadata": {},
   "source": [
    "Total area of conditioned indoor climate or glazed façade:"
   ]
  },
  {
   "cell_type": "code",
   "execution_count": 26,
   "metadata": {},
   "outputs": [],
   "source": [
    "net_conditioned_area = 8100\n",
    "glazed_facade_area = 2750"
   ]
  },
  {
   "cell_type": "markdown",
   "metadata": {},
   "source": [
    "Listing the different types of IGUs according to the efficiency of their frame:"
   ]
  },
  {
   "cell_type": "code",
   "execution_count": 27,
   "metadata": {},
   "outputs": [],
   "source": [
    "igu_low_perf = ['dg_init_bronze', 'dg_0_clear', 'sg_1_clear', 'sg_2_coated']\n",
    "igu_high_perf = ['dg_1_highSHG_highLT', 'dg_2_midSHG_midLT',\n",
    "                 'dg_3_midSHG_highLT', 'dg_4_lowSHG_lowLT',\n",
    "                 'dg_5_lowSHG_midLT', 'dg_6_lowSHG_highLT',\n",
    "                 'dg_5k_Krypton_lowSHG_midLT', 'dg_vacuum',\n",
    "                 'tg_1_highSHG_highLT', 'tg_2_midSHG_midLT',\n",
    "                 'tg_3_midSHG_highLT', 'tg_4_lowSHG_lowLT',\n",
    "                 'tg_5_lowSHG_midLT', 'tg_6_lowSHG_highLT',\n",
    "                 'tg_5k_Krypton_lowSHG_midLT', 'tg_5x_Xenon_lowSHG_midLT',\n",
    "                 'ccf'\n",
    "                 ]"
   ]
  },
  {
   "cell_type": "markdown",
   "metadata": {},
   "source": [
    "## Functions to Conduct Simulations"
   ]
  },
  {
   "cell_type": "markdown",
   "metadata": {},
   "source": [
    "Function to modify idf according to scenario parameters:"
   ]
  },
  {
   "cell_type": "code",
   "execution_count": 28,
   "metadata": {},
   "outputs": [],
   "source": [
    "def modify_idf(idfname_init, epwfile, igu, run_n, df_step):\n",
    "    \"\"\"\n",
    "    Modify the idf parameters, i.e. glazing, frame, and shadings, \n",
    "    according to the parameters defined in the dataframe,\n",
    "    and returns the idf file\n",
    "\n",
    "    Parameters\n",
    "    ----------\n",
    "    idfname_init: idf file to modify\n",
    "    epwfile: weather data, .epw\n",
    "    igu: name of the igu studied for energy simulation\n",
    "    run_n: name/code for the energy simulation\n",
    "    df_step: dataframe w/ a list of variables according to which are changed\n",
    "        the idf parameters\n",
    "    ((batch: a string, to create a subfolder to save the idf.))\n",
    "\n",
    "    Returns\n",
    "    -------\n",
    "    idf_modified: a copy (saved as) of the initial idf\n",
    "    \"\"\"\n",
    "\n",
    "    idf = IDF(idfname_init, epwfile)\n",
    "    constructions = idf.idfobjects[\"CONSTRUCTION\"]\n",
    "\n",
    "    # Change the glazing and frame:\n",
    "    for element in idf.idfobjects['FenestrationSurface:Detailed']:\n",
    "        if element.Surface_Type == 'Window':\n",
    "\n",
    "            # Replace the glazing:\n",
    "            element.Construction_Name = igu\n",
    "            if igu not in [\n",
    "                construction.Name for construction in constructions\n",
    "            ]:\n",
    "                print('Wrong construction name!! See:', igu)\n",
    "\n",
    "    # Replace the frame:\n",
    "    for element in idf.idfobjects['WindowProperty:FrameAndDivider']:\n",
    "        if igu in igu_low_perf:\n",
    "            # if df_step.loc[df_step.index == run_n, 'thermal_curtain'][0] == 0:\n",
    "            # element.Frame_Conductance = 5.5\n",
    "            # element.Divider_Conductance = 5.5\n",
    "            # else:\n",
    "            element.Frame_Conductance = 1.56\n",
    "            element.Divider_Conductance = 1.56\n",
    "\n",
    "        if igu in igu_high_perf:\n",
    "            # if df_step.loc[df_step.index == run_n, 'thermal_curtain'][0] == 0:\n",
    "            # element.Frame_Conductance = 1.5\n",
    "            # element.Divider_Conductance = 1.5\n",
    "            # else:\n",
    "            element.Frame_Conductance = 1\n",
    "            element.Divider_Conductance = 1\n",
    "\n",
    "    # Activate or not the shading control:\n",
    "    for element in idf.idfobjects['WindowShadingControl']:\n",
    "        element.Shading_Device_Material_Name = 'EnviroScreen_lightgrey_silver'\n",
    "        element.Shading_Control_Type = 'OnIfHighZoneAirTempAndHighSolarOnWindow'\n",
    "        element.Schedule_Name = 'Shading_On'\n",
    "        element.Shading_Control_Is_Scheduled = 'Yes'\n",
    "        element.Glare_Control_Is_Active = 'No'\n",
    "        element.Type_of_Slat_Angle_Control_for_Blinds = 'FixedSlatAngle'\n",
    "\n",
    "        if df_step.loc[df_step.index == run_n, 'int_shdg_device'][0] == 1:\n",
    "            element.Setpoint = '26'\n",
    "            element.Setpoint_2 = '100'\n",
    "            element.Shading_Type = 'InteriorShade'\n",
    "\n",
    "        elif df_step.loc[df_step.index == run_n, 'ext_shdg_device'][0] == 1:\n",
    "            element.Setpoint = '22'\n",
    "            element.Setpoint_2 = '100'\n",
    "            element.Shading_Type = 'InteriorShade'\n",
    "            element.Shading_Type = 'ExteriorShade'\n",
    "\n",
    "        else:\n",
    "            element.Schedule_Name = 'Shading_OFF'\n",
    "\n",
    "    # Define heating and cooling setpoint:\n",
    "    for element in idf.idfobjects['ThermostatSetpoint:DualSetpoint']:\n",
    "        if ('Core' in element.Name\n",
    "                or 'Perimeter' in element.Name):\n",
    "            element.Heating_Setpoint_Temperature_Schedule_Name = (\n",
    "                df_step.loc[df_step.index == run_n, 'heating_setpoint'][0])\n",
    "            element.Cooling_Setpoint_Temperature_Schedule_Name = (\n",
    "                df_step.loc[df_step.index == run_n, 'cooling_setpoint'][0])\n",
    "    \n",
    "    idf_dir = os.path.join(IDF_DIR)\n",
    "\n",
    "    if not os.path.exists(idf_dir):\n",
    "        os.makedirs(idf_dir)\n",
    "\n",
    "    idf.saveas(idf_dir+\"\\BEM_\"+str(run_n)+\".idf\")\n",
    "    idf_modified = IDF(idf_dir+\"\\BEM_\"+str(run_n)+\".idf\", epwfile)\n",
    "\n",
    "    print(\"Saved: BEM_\"+str(run_n))\n",
    "\n",
    "    return idf_modified"
   ]
  },
  {
   "cell_type": "markdown",
   "metadata": {},
   "source": [
    "A function to post-process the results and save them in specific DataFrames:"
   ]
  },
  {
   "cell_type": "code",
   "execution_count": 29,
   "metadata": {},
   "outputs": [],
   "source": [
    "def simulation_postprocess(run_n, df_step):\n",
    "    \"\"\"\n",
    "    Run a simulation from an idf, extract results in df or ls:\n",
    "    > total energy end use in df_end_use (electricity + natural gas)\n",
    "    > unmethours during occupation in ls_unmet\n",
    "    > Energy consumption per enduse in df_end_use_allsteps\n",
    "\n",
    "    Save also the hourly reporting variables per simulation run \n",
    "    in a csv file: df_h_run.csv.\n",
    "\n",
    "    Parameters\n",
    "    ----------\n",
    "    run_n: name/code for the energy simulation\n",
    "    df_step: df define for each step of the LCA where to save\n",
    "        values for electricity and natural gas use.\n",
    "\n",
    "    Returns\n",
    "    -------\n",
    "    df_step: electricity use in kWh, use of nat gas in MJ\n",
    "    ls_unmet\n",
    "    df_end_use_allsteps: values in GJ\n",
    "\n",
    "    \"\"\"\n",
    "\n",
    "    # Find the output data:\n",
    "    eplus_sql = EPLusSQL(sql_path='outputs\\energyplus\\eplusout.sql')\n",
    "\n",
    "    # Get total(i.e. whole building) energy end use in a dataframe, in GJ:\n",
    "    df_end_use = eplus_sql.get_annual_energy_by_fuel_and_enduse()\n",
    "    if 'Water' in df_end_use.columns:\n",
    "        df_end_use = df_end_use.drop('Water', axis=1)\n",
    "    df_end_use = df_end_use.drop([\n",
    "        'Exterior Lighting', 'Exterior Equipment', 'Generators',\n",
    "        'Water Systems', 'Heat Recovery', 'Humidification', 'Refrigeration'])\n",
    "\n",
    "    # Save total elec and nat gas use for LCA in df_step:\n",
    "    # Sum of the electricity uses:\n",
    "    elec_tot_gj = df_end_use[('Electricity', 'GJ')].sum()\n",
    "    # Convert GJ to kWh:\n",
    "    elec_tot_kwh = elec_tot_gj * 277.8\n",
    "\n",
    "    # Use of natural gas:\n",
    "    if 'Natural Gas' not in df_end_use.columns:\n",
    "        df_end_use[('Natural Gas', 'GJ')] = 0\n",
    "\n",
    "    # Use of natural gas:\n",
    "    gas_tot_gj = df_end_use[('Natural Gas', 'GJ')].sum()\n",
    "    # Convert GJ to MJ:\n",
    "    gas_tot_mj = gas_tot_gj * 1000\n",
    "\n",
    "    # Save values in df_step:\n",
    "    # elec: kWh/m² of glazed façade\n",
    "    df_step.loc[df_step.index == run_n, 'elec_use'] = (\n",
    "        elec_tot_kwh / glazed_facade_area)\n",
    "    # gas: MJ/m² of glazed façade\n",
    "    df_step.loc[df_step.index == run_n, 'natural_gas'] = (\n",
    "        gas_tot_mj / glazed_facade_area)\n",
    "\n",
    "    # Append the list of unmet hours during occupied cooling/heating:\n",
    "    df_unmet = eplus_sql.get_unmet_hours_table()\n",
    "    val_toadd = {'Run': run_n,\n",
    "                 'During cooling': df_unmet.loc[df_unmet.index == 'Facility',\n",
    "                                                'During Occupied Cooling'][0],\n",
    "                 'During heating': df_unmet.loc[df_unmet.index == 'Facility',\n",
    "                                                'During Occupied Heating'][0]\n",
    "                 }\n",
    "    \n",
    "    # Initialisation of a list for unmet hours during occupied coolg/heatg\n",
    "    # If does not already exists:\n",
    "    try:\n",
    "        ls_unmet\n",
    "    except NameError:\n",
    "        ls_unmet = []\n",
    "        print(\"ls_unmet newly defined\")\n",
    "    \n",
    "    # Avoid duplicating values:\n",
    "    if len(ls_unmet) > 0:\n",
    "        for i in range(len(ls_unmet)):\n",
    "            if ls_unmet[i]['Run'] == val_toadd['Run']:\n",
    "                # Replace old value:\n",
    "                ls_unmet[i] = val_toadd\n",
    "    else:\n",
    "        # And append if did not exist before:\n",
    "        ls_unmet.append(val_toadd)\n",
    "\n",
    "    # Save energy consumption per end use, GJ, whole building:\n",
    "    df_end_use = df_end_use.stack(['FuelType'])\n",
    "    df_end_use['Run name'] = run_n\n",
    "    df_end_use = df_end_use.reset_index().pivot(\n",
    "        index='EndUse', columns=['Run name', 'FuelType'], values='GJ')\n",
    "    \n",
    "    # Define an empty DataFrame to save the energy consumption\n",
    "    # per end use for each simulation:\n",
    "    # If does not already exists:\n",
    "    try:\n",
    "        df_end_use_allsteps\n",
    "    except NameError:\n",
    "        df_end_use_allsteps = pd.DataFrame()\n",
    "        print(\"df_end_use_allsteps newly defined\")\n",
    "    \n",
    "    if not df_end_use_allsteps.empty:\n",
    "        # Columns to avoid when merging, avoid duplicates and save new values:\n",
    "        cols_to_use = df_end_use_allsteps.columns.difference(\n",
    "            df_end_use.columns)\n",
    "        # Merge by columns_to_use:\n",
    "        df_end_use_allsteps = pd.merge(df_end_use,\n",
    "                                       df_end_use_allsteps[cols_to_use],\n",
    "                                       on=\"EndUse\")\n",
    "    else:\n",
    "        df_end_use_allsteps = df_end_use\n",
    "\n",
    "    df_end_use_allsteps = df_end_use_allsteps.reindex(\n",
    "        sorted(df_end_use_allsteps.columns), axis=1\n",
    "    )\n",
    "\n",
    "    # Hourly reporting variables\n",
    "    # Define an empty DataFrame to save the hourly reporting variables:\n",
    "    df_h_run = pd.DataFrame()\n",
    "\n",
    "    ls_vars = [\n",
    "        'Zone Windows Total Heat Gain Energy',\n",
    "        'Zone Windows Total Heat Loss Energy',\n",
    "        'Surface Shading Device Is On Time Fraction',\n",
    "        'Zone Operative Temperature',\n",
    "        'Zone Thermal Comfort CEN 15251 Adaptive Model Temperature',\n",
    "        'Zone Thermal Comfort ASHRAE 55 Adaptive Model Temperature',\n",
    "        'Chiller Electricity Energy', 'Boiler Heating Energy'\n",
    "    ]\n",
    "\n",
    "    df_h_run = eplus_sql.get_hourly_variables(variables_list=ls_vars)\n",
    "\n",
    "    for col in df_h_run.columns:\n",
    "        if \"BASEMENT\" in col[0]:\n",
    "            df_h_run = df_h_run.drop(col, axis=1)\n",
    "\n",
    "    # Save df_h_run to csv:\n",
    "    df_h_run.to_csv('outputs\\steps_dir\\df_h_run_'+str(run_n[:3])+'.csv',\n",
    "                    index=True)\n",
    "    print(\"df_h_run.csv saved\")\n",
    "\n",
    "    return df_step, ls_unmet, df_end_use_allsteps"
   ]
  },
  {
   "cell_type": "markdown",
   "metadata": {},
   "source": [
    "**Units:**\n",
    "- Data saved in df_end_use_allsteps in GJ, whole building energy use;\n",
    "- Data saved in df_step in kWh (electricity) and MJ (natural gas) per m² of glazed area."
   ]
  },
  {
   "cell_type": "markdown",
   "metadata": {},
   "source": [
    "A function to save the results in csv files:"
   ]
  },
  {
   "cell_type": "code",
   "execution_count": 30,
   "metadata": {},
   "outputs": [],
   "source": [
    "def save_results_csv(n_step, df_step, ls_unmet, df_end_use_allsteps):\n",
    "    \"\"\"\n",
    "    Save the DataFrames and Lists where the results are to avoid \n",
    "    reruning the time consuming energy simulation\n",
    "\n",
    "    Parameters\n",
    "    ----------\n",
    "    n_step: number of the step\n",
    "    df_step: df define for each step of the LCA where to save\n",
    "        values for electricity and natural gas use.\n",
    "    ls_unmet: list for unmet hours during occupation\n",
    "    df_end_use_allsteps: dataframe with end uses \n",
    "        per type of energy per simulation run\n",
    "\n",
    "    Returns\n",
    "    -------\n",
    "    None\n",
    "\n",
    "    \"\"\"\n",
    "\n",
    "    # Save df_step to csv:\n",
    "    df_step.to_csv('outputs\\steps_dir\\df_step'+str(n_step)+'.csv', index=True)\n",
    "    print(\"df_step.csv saved\")\n",
    "\n",
    "    # Save ls_unmet to csv:\n",
    "    df_ls_unmet = pd.DataFrame(ls_unmet)\n",
    "    df_ls_unmet.to_csv('outputs\\steps_dir\\df_ls_unmet.csv', index=False)\n",
    "    print(\"ls_unmet.csv saved\")\n",
    "\n",
    "    # Save df_end_use_allsteps to csv:\n",
    "    df_end_use_allsteps.stack([0, 1]).to_csv(\n",
    "        'outputs\\steps_dir\\df_end_use_allsteps.csv', index=True)\n",
    "    print(\"df_end_use_allsteps.csv saved\")\n",
    "    print(\"------\")\n",
    "\n",
    "    return"
   ]
  },
  {
   "cell_type": "markdown",
   "metadata": {},
   "source": [
    "## Save idf Files"
   ]
  },
  {
   "cell_type": "raw",
   "metadata": {},
   "source": [
    "# idf.save()\n",
    "\n",
    "# or save a copy\n",
    "# idf1.saveas('something.idf')"
   ]
  },
  {
   "cell_type": "markdown",
   "metadata": {},
   "source": [
    "## Simulation Runs"
   ]
  },
  {
   "cell_type": "markdown",
   "metadata": {},
   "source": [
    "### Recover data saved in csv files from previous simulations:"
   ]
  },
  {
   "cell_type": "markdown",
   "metadata": {},
   "source": [
    "To read directly the csv file and work from them instead of relaunching the energy simulation (Please note that this does not prevent the simulations from being run again. To do this, change the run_all boolean variable above. If the simulations are rerun, the new results will overwrite the old ones saved in the csv files):"
   ]
  },
  {
   "cell_type": "markdown",
   "metadata": {},
   "source": [
    "Dataframe with all energy usage data per simulation run:"
   ]
  },
  {
   "cell_type": "markdown",
   "metadata": {},
   "source": [
    "Retrieve the data from the csv. The simulation_postprocess function will merge the new results by overwriting the old ones, or simply add the new ones if they did not exist yet."
   ]
  },
  {
   "cell_type": "code",
   "execution_count": 31,
   "metadata": {},
   "outputs": [],
   "source": [
    "# Open the df_end_use_allsteps from the csv file:\n",
    "# Avoid re-running energy simulations (time consuming):\n",
    "end_use_path = Path('outputs/steps_dir/df_end_use_allsteps.csv')\n",
    "if end_use_path.is_file():\n",
    "    df_end_use_allsteps_csv = pd.read_csv(end_use_path)\n",
    "    df_end_use_allsteps_csv = df_end_use_allsteps_csv.pivot_table(\n",
    "        values='0', index=['EndUse'], columns=['Run name', 'FuelType'])\n",
    "\n",
    "    df_end_use_allsteps = df_end_use_allsteps_csv"
   ]
  },
  {
   "cell_type": "markdown",
   "metadata": {},
   "source": [
    "List of dict with unmet hours per simulation run during heating and cooling:"
   ]
  },
  {
   "cell_type": "markdown",
   "metadata": {},
   "source": [
    "Retrieve the data from the csv. The simulation_postprocess function will add the new results and eventualy overwrite the old ones, if they exist. "
   ]
  },
  {
   "cell_type": "code",
   "execution_count": 32,
   "metadata": {},
   "outputs": [],
   "source": [
    "unmet_path = Path('outputs/steps_dir/df_ls_unmet.csv')\n",
    "if unmet_path.is_file():\n",
    "    # Open the df_ls_unmet from the csv file created after energy simulation:\n",
    "    df_ls_unmet_csv = pd.read_csv(unmet_path)\n",
    "    # Convert back to a list of dict:\n",
    "    ls_unmet_csv = df_ls_unmet_csv.to_dict('records')"
   ]
  },
  {
   "cell_type": "markdown",
   "metadata": {},
   "source": [
    "Dataframe with the main assumptions and results (natural gas and electricity) specific to each simulation run:"
   ]
  },
  {
   "cell_type": "markdown",
   "metadata": {},
   "source": [
    "A function to recover df_step dataframes saved as csv:"
   ]
  },
  {
   "cell_type": "code",
   "execution_count": 33,
   "metadata": {},
   "outputs": [],
   "source": [
    "def recover_df_step(n_step, df_step):\n",
    "    \"\"\"\n",
    "    If a df_step.csv exists, recover it as a dataframe wich replace \n",
    "    the one currently in use in the notebook.\n",
    "    Avoid re-running energy simulation (time consuming).\n",
    "\n",
    "    Parameters\n",
    "    ----------\n",
    "    n_step: number of the step\n",
    "    df_step: a dataframe. followed by a number (e.g. step4), \n",
    "    identify the step with simulation runs and main results\n",
    "\n",
    "    Returns\n",
    "    -------\n",
    "    df_step: update with csv data or exactly the same as the one in the input\n",
    "\n",
    "    \"\"\"\n",
    "\n",
    "    # Does the csv exist\n",
    "    # and check if the existing df_step includes simulation results:\n",
    "    if (os.path.isfile(f\"outputs\\steps_dir\\df_step\"+str(n_step)+\".csv\")\n",
    "            and np.isnan(\n",
    "                sum(df_step[\"natural_gas\"]) + sum(df_step[\"elec_use\"]))):\n",
    "        df_step = (\n",
    "            pd.read_csv(f\"outputs\\steps_dir\\df_step\"+str(n_step)+\".csv\")\n",
    "            .set_index(['name']))\n",
    "\n",
    "        print(\"df_step updated with csv data\")\n",
    "    else:\n",
    "        print(\"existing df_step kept in place\")\n",
    "\n",
    "    return df_step"
   ]
  },
  {
   "cell_type": "markdown",
   "metadata": {},
   "source": [
    "## Multiple runs through a multiprocessing pool:"
   ]
  },
  {
   "cell_type": "raw",
   "metadata": {},
   "source": [
    "ls_df_steps = [df_step1, df_step2, df_step3, df_step4,\n",
    "               df_step5, df_step6, df_step7, df_step8,\n",
    "               df_step9, df_step10, df_step11, df_step12,\n",
    "               df_step13, df_step14, df_step15, df_step16\n",
    "              ]"
   ]
  },
  {
   "cell_type": "raw",
   "metadata": {},
   "source": [
    "batch_name = \"1\"\n",
    "ls_df_step = [df_step1]\n",
    "ls_run_n = []\n",
    "\n",
    "for df_step in ls_df_step:\n",
    "    # Note the indice run_n of the simulation:\n",
    "    for run_n in df_step.index:\n",
    "        # Note the glazing type:\n",
    "        igu = df_step['glazing'][run_n]\n",
    "\n",
    "        # Modify the idf and create a copy:\n",
    "        idf_modified = modify_idf(idfname_init, epwfile, \n",
    "                                  igu, run_n, df_step, \n",
    "                                  batch_name\n",
    "                                 )"
   ]
  },
  {
   "cell_type": "code",
   "execution_count": null,
   "metadata": {},
   "outputs": [],
   "source": [
    "idfname = idfname_init\n",
    "ls_df_steps = [df_step10]\n",
    "ls_epws = [epwfile]\n",
    "ls_run_code = []\n",
    "\n",
    "ORIGIN_DIR = '.'\n",
    "\n",
    "for df_step in ls_df_steps:\n",
    "    # Note the indice run_n of the simulation:\n",
    "    for run_n in df_step.index:\n",
    "        # Note the glazing type:\n",
    "        ls_run_code.append(run_n)\n",
    "\n",
    "# Run the energy simulation:\n",
    "# Subdirectory with idf:\n",
    "ls_idfs = gb.glob(os.path.join(IDF_DIR, '*.idf'))\n"
   ]
  },
  {
   "cell_type": "code",
   "execution_count": null,
   "metadata": {},
   "outputs": [],
   "source": [
    "all_cases = list(product(ls_idfs, ls_epws))\n",
    "all_args = [(a, b, c) for (a, b), c in zip(\n",
    "    all_cases, ls_run_code)\n",
    "           ]"
   ]
  },
  {
   "cell_type": "code",
   "execution_count": null,
   "metadata": {},
   "outputs": [],
   "source": [
    "args = all_args[0]"
   ]
  },
  {
   "cell_type": "code",
   "execution_count": null,
   "metadata": {},
   "outputs": [],
   "source": [
    "args[0]"
   ]
  },
  {
   "cell_type": "code",
   "execution_count": null,
   "metadata": {},
   "outputs": [],
   "source": [
    "idf_path = os.path.relpath(args[0], ORIGIN_DIR)\n",
    "idf_path"
   ]
  },
  {
   "cell_type": "code",
   "execution_count": null,
   "metadata": {},
   "outputs": [],
   "source": [
    "epw_path = os.path.relpath(args[1], ORIGIN_DIR)\n",
    "epw_path"
   ]
  },
  {
   "cell_type": "code",
   "execution_count": null,
   "metadata": {},
   "outputs": [],
   "source": [
    "idf, idf_ext = os.path.splitext(idf_path)\n",
    "epw, epw_ext = os.path.splitext(epw_path)"
   ]
  },
  {
   "cell_type": "code",
   "execution_count": null,
   "metadata": {},
   "outputs": [],
   "source": [
    "idf"
   ]
  },
  {
   "cell_type": "code",
   "execution_count": null,
   "metadata": {},
   "outputs": [],
   "source": [
    "out_dir = os.path.relpath(os.path.join(OUT_DIR_EPlus), ORIGIN_DIR)"
   ]
  },
  {
   "cell_type": "code",
   "execution_count": null,
   "metadata": {},
   "outputs": [],
   "source": [
    "out_dir"
   ]
  },
  {
   "cell_type": "code",
   "execution_count": null,
   "metadata": {},
   "outputs": [],
   "source": [
    "sql_path=out_dir+'\\eplusout.sql'"
   ]
  },
  {
   "cell_type": "code",
   "execution_count": null,
   "metadata": {},
   "outputs": [],
   "source": [
    "eplus_sql = EPLusSQL(sql_path=out_dir+'\\eplusout.sql')"
   ]
  },
  {
   "cell_type": "code",
   "execution_count": null,
   "metadata": {},
   "outputs": [],
   "source": [
    "cmd = f'energyplus -w {epw_path} -d {out_dir} {idf_path}'"
   ]
  },
  {
   "cell_type": "code",
   "execution_count": null,
   "metadata": {},
   "outputs": [],
   "source": [
    "print(cmd)"
   ]
  },
  {
   "cell_type": "code",
   "execution_count": null,
   "metadata": {},
   "outputs": [],
   "source": [
    "shlex.split(cmd)"
   ]
  },
  {
   "cell_type": "code",
   "execution_count": null,
   "metadata": {},
   "outputs": [],
   "source": [
    "try:\n",
    "    epw_path\n",
    "except NameError:\n",
    "    print(\"empty\")"
   ]
  },
  {
   "cell_type": "code",
   "execution_count": null,
   "metadata": {},
   "outputs": [],
   "source": []
  },
  {
   "cell_type": "code",
   "execution_count": 34,
   "metadata": {},
   "outputs": [],
   "source": [
    "os.environ['PATH'] = r'C:\\EnergyPlusV9-5-0' + os.environ['PATH']\n",
    "os.environ['PATH'] = os.environ['PATH'].replace(r'C:\\EnergyPlusV9-5-0', 'C:\\EnergyPlusV9-5-0;')"
   ]
  },
  {
   "cell_type": "code",
   "execution_count": 35,
   "metadata": {},
   "outputs": [],
   "source": [
    "import BEM_functions"
   ]
  },
  {
   "cell_type": "code",
   "execution_count": 36,
   "metadata": {},
   "outputs": [
    {
     "data": {
      "text/plain": [
       "<module 'BEM_functions' from 'C:\\\\Users\\\\souvi\\\\Documents\\\\These\\\\80_Calculations\\\\05_LCA\\\\BEM_functions.py'>"
      ]
     },
     "execution_count": 36,
     "metadata": {},
     "output_type": "execute_result"
    }
   ],
   "source": [
    "reload(BEM_functions)"
   ]
  },
  {
   "cell_type": "code",
   "execution_count": 37,
   "metadata": {
    "scrolled": false
   },
   "outputs": [
    {
     "name": "stdout",
     "output_type": "stream",
     "text": [
      "Saved: BEM_j_a_2124_dg_init\n",
      "Saved: BEM_j_b_2124_dg0\n",
      "Saved: BEM_j_c_2124_dg4\n",
      "Saved: BEM_j_d_2124_dg5\n",
      "Saved: BEM_j_e_2124_dg6\n",
      "Saved: BEM_j_f_2124_tg4\n",
      "Saved: BEM_j_g_2124_tg5\n",
      "Saved: BEM_j_h_2124_tg6\n",
      "Running with 4 threads\n",
      "There are 8 simulations to run.\n",
      "\n",
      "ls_unmet newly defined\n"
     ]
    },
    {
     "name": "stderr",
     "output_type": "stream",
     "text": [
      "100%|████████████████████████████████████████████████████████████████████████████████████████████████████████████| 8/8 [05:55<00:00, 44.42s/it]"
     ]
    },
    {
     "name": "stdout",
     "output_type": "stream",
     "text": [
      "Finished!\n"
     ]
    },
    {
     "name": "stderr",
     "output_type": "stream",
     "text": [
      "\n"
     ]
    }
   ],
   "source": [
    "idfname = idfname_init\n",
    "ls_df_steps = [df_step10]\n",
    "ls_epws = [epwfile]\n",
    "ls_run_code = []\n",
    "\n",
    "ORIGIN_DIR = '.'\n",
    "\n",
    "for df_step in ls_df_steps:\n",
    "    # Note the indice run_n of the simulation:\n",
    "    for run_n in df_step.index:\n",
    "        # Note the glazing type:\n",
    "        igu = df_step['glazing'][run_n]\n",
    "\n",
    "        # Modify the idf and create a copy:\n",
    "        idf_modified = modify_idf(idfname, epwfile, \n",
    "                                  igu, run_n, df_step)\n",
    "\n",
    "        ls_run_code.append(run_n)\n",
    "\n",
    "# Run the energy simulation:\n",
    "# Subdirectory with idf:\n",
    "ls_idfs = gb.glob(os.path.join(IDF_DIR, '*.idf'))\n",
    "\n",
    "# Defaults to run on all threads\n",
    "# N = mp.cpu_count()\n",
    "# You can override it to run only on a few threads:\n",
    "N = 4\n",
    "print(f\"Running with {N} threads\")\n",
    "\n",
    "all_cases = list(product(ls_idfs, ls_epws))\n",
    "all_args = [(a, b, c) for (a, b), c in zip(\n",
    "    all_cases, ls_run_code)\n",
    "           ]\n",
    "\n",
    "print(f\"There are {len(all_args)} simulations to run.\\n\")\n",
    "\n",
    "# Define an empty DataFrame to save the energy consumption\n",
    "# per end use for each simulation:\n",
    "# If does not already exists:\n",
    "try:\n",
    "    df_end_use_allsteps\n",
    "except NameError:\n",
    "    df_end_use_allsteps = pd.DataFrame()\n",
    "    print(\"df_end_use_allsteps newly defined\")\n",
    "    \n",
    "# Initialisation of a list for unmet hours during occupied coolg/heatg\n",
    "# If does not already exists:\n",
    "try:\n",
    "    ls_unmet\n",
    "except NameError:\n",
    "    ls_unmet = []\n",
    "    print(\"ls_unmet newly defined\")\n",
    "\n",
    "with mp.Pool(processes=N) as pool:\n",
    "    for result in tqdm.tqdm(pool.imap_unordered(\n",
    "        BEM_functions.run_single_simulation,\n",
    "        all_args), \n",
    "                            total=len(all_args)):\n",
    "        # result = run_n\n",
    "        # Post-process the results:\n",
    "        (run_n, df_step, ls_unmet, df_end_use_allsteps) = (\n",
    "            BEM_functions.simulation_postprocess(result[0],\n",
    "                                                 result[1],\n",
    "                                                 ls_df_steps, \n",
    "                                                 ls_unmet, \n",
    "                                                 df_end_use_allsteps\n",
    "                                                )\n",
    "        )\n",
    "        # Save results:\n",
    "        BEM_functions.save_results_csv(run_n, \n",
    "                                       df_step, \n",
    "                                       ls_unmet, \n",
    "                                       df_end_use_allsteps\n",
    "                                      )\n",
    "        pass\n",
    "\n",
    "print(\"Finished!\")"
   ]
  },
  {
   "cell_type": "code",
   "execution_count": null,
   "metadata": {},
   "outputs": [],
   "source": []
  },
  {
   "cell_type": "code",
   "execution_count": null,
   "metadata": {},
   "outputs": [],
   "source": []
  },
  {
   "cell_type": "code",
   "execution_count": null,
   "metadata": {},
   "outputs": [],
   "source": []
  },
  {
   "cell_type": "markdown",
   "metadata": {},
   "source": [
    "## Step by Step"
   ]
  },
  {
   "cell_type": "markdown",
   "metadata": {},
   "source": [
    "<font color='red'>To run all the simulations or not:<font>"
   ]
  },
  {
   "cell_type": "code",
   "execution_count": null,
   "metadata": {},
   "outputs": [],
   "source": [
    "run_all = True"
   ]
  },
  {
   "cell_type": "markdown",
   "metadata": {},
   "source": [
    "### Step 1-3: Initial Configuration w/ Different Glazing Types, Fan Coil Chiller w/ Boiler"
   ]
  },
  {
   "cell_type": "markdown",
   "metadata": {},
   "source": [
    "**Step 1: Different glazing types, w/o shading devices, fan coil chiller w/ boiler**"
   ]
  },
  {
   "cell_type": "raw",
   "metadata": {
    "collapsed": true
   },
   "source": [
    "# Overview of the step_1 dataframe:\n",
    "with pd.option_context('display.max_rows', 20, 'display.max_columns', 10):\n",
    "    display(df_step1)"
   ]
  },
  {
   "cell_type": "markdown",
   "metadata": {},
   "source": [
    "Run the simulations (it takes time! Be patient):"
   ]
  },
  {
   "cell_type": "code",
   "execution_count": null,
   "metadata": {},
   "outputs": [],
   "source": [
    "if run_all:\n",
    "\n",
    "    # Note the indice run_n of the simulation:\n",
    "    for run_n in df_step1.index:\n",
    "        # Note the glazing type:\n",
    "        igu = df_step1['glazing'][run_n]\n",
    "\n",
    "        # Modify the idf and create a copy:\n",
    "        idf_modified = modify_idf(idfname_init, epwfile, igu, run_n, df_step1)\n",
    "\n",
    "        # Run the energy simulation:\n",
    "        idf_modified.run(output_directory=Path('outputs/energyplus'))\n",
    "\n",
    "        # Post-process the results:\n",
    "        (df_step1, ls_unmet, df_end_use_allsteps) = (\n",
    "            simulation_postprocess(run_n, df_step1, ls_unmet,\n",
    "                                   df_end_use_allsteps)\n",
    "        )\n",
    "\n",
    "        # Save results:\n",
    "        save_results_csv(1, df_step1, ls_unmet, df_end_use_allsteps)"
   ]
  },
  {
   "cell_type": "markdown",
   "metadata": {},
   "source": [
    "If the simulation has already been run, to recover the results directly from the csv file:"
   ]
  },
  {
   "cell_type": "code",
   "execution_count": null,
   "metadata": {},
   "outputs": [],
   "source": [
    "df_step1 = recover_df_step(1, df_step1)"
   ]
  },
  {
   "cell_type": "markdown",
   "metadata": {},
   "source": [
    "**Step 2: Different glazing types, with interior shading devices, fan coil chiller w/ boiler**"
   ]
  },
  {
   "cell_type": "code",
   "execution_count": null,
   "metadata": {},
   "outputs": [],
   "source": [
    "# Overview of the step_2 dataframe:\n",
    "with pd.option_context('display.max_rows', 20, 'display.max_columns', 10):\n",
    "    display(df_step2)"
   ]
  },
  {
   "cell_type": "markdown",
   "metadata": {},
   "source": [
    "Run the simulations (it takes time! Be patient):"
   ]
  },
  {
   "cell_type": "code",
   "execution_count": null,
   "metadata": {},
   "outputs": [],
   "source": [
    "if run_all:\n",
    "\n",
    "    # Note the indice run_n of the simulation:\n",
    "    for run_n in df_step2.index:\n",
    "        # Note the glazing type:\n",
    "        igu = df_step2['glazing'][run_n]\n",
    "\n",
    "        # Modify the idf and create a copy:\n",
    "        idf_modified = modify_idf(idfname_init, epwfile, igu, run_n, df_step2)\n",
    "\n",
    "        # Run the energy simulation:\n",
    "        idf_modified.run(output_directory=Path('outputs/energyplus'))\n",
    "\n",
    "        # Post-process the results:\n",
    "        (df_step2, ls_unmet, df_end_use_allsteps) = (\n",
    "            simulation_postprocess(run_n, df_step2, ls_unmet,\n",
    "                                   df_end_use_allsteps)\n",
    "        )\n",
    "\n",
    "        # Save results:\n",
    "        save_results_csv(2, df_step2, ls_unmet, df_end_use_allsteps)"
   ]
  },
  {
   "cell_type": "markdown",
   "metadata": {},
   "source": [
    "If the simulation has already been run, to recover the results directly from the csv file:"
   ]
  },
  {
   "cell_type": "code",
   "execution_count": null,
   "metadata": {},
   "outputs": [],
   "source": [
    "df_step2 = recover_df_step(2, df_step2)"
   ]
  },
  {
   "cell_type": "markdown",
   "metadata": {},
   "source": [
    "**Step 3: Different glazing types, with exterior shading devices, fan coil chiller w/ boiler**"
   ]
  },
  {
   "cell_type": "raw",
   "metadata": {},
   "source": [
    "# Overview of the step_3 dataframe:\n",
    "with pd.option_context('display.max_rows', 20, 'display.max_columns', 10):\n",
    "    display(df_step3)"
   ]
  },
  {
   "cell_type": "markdown",
   "metadata": {},
   "source": [
    "Run the simulations (it takes time! Be patient):"
   ]
  },
  {
   "cell_type": "code",
   "execution_count": null,
   "metadata": {
    "scrolled": true
   },
   "outputs": [],
   "source": [
    "if run_all:\n",
    "\n",
    "    # Note the indice run_n of the simulation:\n",
    "    for run_n in df_step3.index:\n",
    "        # Note the glazing type:\n",
    "        igu = df_step3['glazing'][run_n]\n",
    "\n",
    "        # Modify the idf and create a copy:\n",
    "        idf_modified = modify_idf(idfname_init, epwfile,\n",
    "                                  igu, run_n, df_step3)\n",
    "\n",
    "        # Run the energy simulation:\n",
    "        idf_modified.run(output_directory=Path('outputs/energyplus'))\n",
    "\n",
    "        # Post-process the results:\n",
    "        (df_step3, ls_unmet, df_end_use_allsteps) = (\n",
    "            simulation_postprocess(run_n, df_step3, ls_unmet,\n",
    "                                   df_end_use_allsteps)\n",
    "        )\n",
    "\n",
    "        # Save results:\n",
    "        save_results_csv(3, df_step3, ls_unmet, df_end_use_allsteps)"
   ]
  },
  {
   "cell_type": "markdown",
   "metadata": {},
   "source": [
    "If the simulation has already been run, to recover the results directly from the csv file:"
   ]
  },
  {
   "cell_type": "code",
   "execution_count": null,
   "metadata": {},
   "outputs": [],
   "source": [
    "df_step3 = recover_df_step(3, df_step3)"
   ]
  },
  {
   "cell_type": "markdown",
   "metadata": {},
   "source": [
    "### Steps 4-5: HVAC System optimisation, with VAV"
   ]
  },
  {
   "cell_type": "markdown",
   "metadata": {},
   "source": [
    "- Step 4:\n",
    "HVAC is an efficient VAV system. W/o shading devices. Cooling setpoint 26°C, heating setpoint 21°C.\n",
    "- Step 5:\n",
    "HVAC is an efficient VAV system. W/ interior shading devices. Cooling setpoint 26°C, heating setpoint 21°C."
   ]
  },
  {
   "cell_type": "code",
   "execution_count": null,
   "metadata": {},
   "outputs": [],
   "source": [
    "# Overview of the step_4 dataframe:\n",
    "with pd.option_context('display.max_rows', 20, 'display.max_columns', 10):\n",
    "    display(df_step4)"
   ]
  },
  {
   "cell_type": "code",
   "execution_count": null,
   "metadata": {},
   "outputs": [],
   "source": [
    "# Overview of the step_5 dataframe:\n",
    "with pd.option_context('display.max_rows', 20, 'display.max_columns', 10):\n",
    "    display(df_step5)"
   ]
  },
  {
   "cell_type": "markdown",
   "metadata": {},
   "source": [
    "**Step 4: HVAC is an efficient VAV system. Without shading devices. Cooling setpoint 26°C, heating setpoint 21°C**"
   ]
  },
  {
   "cell_type": "markdown",
   "metadata": {},
   "source": [
    "Run the simulations (it takes time! Be patient):"
   ]
  },
  {
   "cell_type": "code",
   "execution_count": null,
   "metadata": {},
   "outputs": [],
   "source": [
    "if run_all:\n",
    "\n",
    "    # Note the indice run_n of the simulation:\n",
    "    for run_n in df_step4.index:\n",
    "        # Note the glazing type:\n",
    "        igu = df_step4['glazing'][run_n]\n",
    "\n",
    "        # Modify the idf and create a copy:\n",
    "        idf_modified = modify_idf(idfname_vav, epwfile,\n",
    "                                  igu, run_n, df_step4)\n",
    "\n",
    "        # Run the energy simulation:\n",
    "        idf_modified.run(output_directory=Path('outputs/energyplus'))\n",
    "\n",
    "        # Post-process the results:\n",
    "        (df_step4, ls_unmet, df_end_use_allsteps) = (\n",
    "            simulation_postprocess(run_n, df_step4, ls_unmet,\n",
    "                                   df_end_use_allsteps)\n",
    "        )\n",
    "\n",
    "        # Save results:\n",
    "        save_results_csv(4, df_step4, ls_unmet, df_end_use_allsteps)"
   ]
  },
  {
   "cell_type": "markdown",
   "metadata": {},
   "source": [
    "If the simulation has already been run, to recover the results directly from the csv file:"
   ]
  },
  {
   "cell_type": "code",
   "execution_count": null,
   "metadata": {},
   "outputs": [],
   "source": [
    "df_step4 = recover_df_step(4, df_step4)"
   ]
  },
  {
   "cell_type": "markdown",
   "metadata": {},
   "source": [
    "**Step 5: HVAC is an efficient VAV system. With interior shading devices. Cooling setpoint 26°C, heating setpoint 21°C**"
   ]
  },
  {
   "cell_type": "markdown",
   "metadata": {},
   "source": [
    "Run the simulations (it takes time! Be patient):"
   ]
  },
  {
   "cell_type": "code",
   "execution_count": null,
   "metadata": {},
   "outputs": [],
   "source": [
    "if run_all:\n",
    "\n",
    "    # Note the indice run_n of the simulation:\n",
    "    for run_n in df_step5.index:\n",
    "        # Note the glazing type:\n",
    "        igu = df_step5['glazing'][run_n]\n",
    "\n",
    "        # Modify the idf and create a copy:\n",
    "        idf_modified = modify_idf(idfname_vav, epwfile,\n",
    "                                  igu, run_n, df_step5)\n",
    "\n",
    "        # Run the energy simulation:\n",
    "        idf_modified.run(output_directory=Path('outputs/energyplus'))\n",
    "\n",
    "        # Post-process the results:\n",
    "        (df_step5, ls_unmet, df_end_use_allsteps) = (\n",
    "            simulation_postprocess(run_n, df_step5, ls_unmet,\n",
    "                                   df_end_use_allsteps)\n",
    "        )\n",
    "\n",
    "        # Save results:\n",
    "        save_results_csv(5, df_step5, ls_unmet, df_end_use_allsteps)"
   ]
  },
  {
   "cell_type": "markdown",
   "metadata": {},
   "source": [
    "If the simulation has already been run, to recover the results directly from the csv file:"
   ]
  },
  {
   "cell_type": "code",
   "execution_count": null,
   "metadata": {},
   "outputs": [],
   "source": [
    "df_step5 = recover_df_step(5, df_step5)"
   ]
  },
  {
   "cell_type": "markdown",
   "metadata": {},
   "source": [
    "### Steps 6-7: HVAC System optimisation, with VRF"
   ]
  },
  {
   "cell_type": "markdown",
   "metadata": {},
   "source": [
    "- Step 6:\n",
    "HVAC is an efficient VRF system. W/o shading devices. Cooling setpoint 26°C, heating setpoint 21°C.\n",
    "- Step 7:\n",
    "HVAC is an efficient VRF system. W/ interior shading devices. Cooling setpoint 26°C, heating setpoint 21°C."
   ]
  },
  {
   "cell_type": "markdown",
   "metadata": {},
   "source": [
    "Now, energy simulation with VRF system."
   ]
  },
  {
   "cell_type": "markdown",
   "metadata": {},
   "source": [
    "**Step 6: HVAC is an efficient VRF system. Without shading devices. Cooling setpoint 26°C, heating setpoint 21°C**"
   ]
  },
  {
   "cell_type": "markdown",
   "metadata": {},
   "source": [
    "Run the simulations (it takes time! Be patient):"
   ]
  },
  {
   "cell_type": "code",
   "execution_count": null,
   "metadata": {},
   "outputs": [],
   "source": [
    "if run_all:\n",
    "\n",
    "    # Note the indice run_n of the simulation:\n",
    "    for run_n in df_step6.index:\n",
    "        # Note the glazing type:\n",
    "        igu = df_step6['glazing'][run_n]\n",
    "\n",
    "        # Modify the idf and create a copy:\n",
    "        idf_modified = modify_idf(idfname_vrf, epwfile,\n",
    "                                  igu, run_n, df_step6)\n",
    "\n",
    "        # Run the energy simulation:\n",
    "        idf_modified.run(output_directory=Path('outputs/energyplus'))\n",
    "\n",
    "        # Post-process the results:\n",
    "        (df_step6, ls_unmet, df_end_use_allsteps) = (\n",
    "            simulation_postprocess(run_n, df_step6, ls_unmet,\n",
    "                                   df_end_use_allsteps)\n",
    "        )\n",
    "\n",
    "        # Save results:\n",
    "        save_results_csv(6, df_step6, ls_unmet, df_end_use_allsteps)"
   ]
  },
  {
   "cell_type": "markdown",
   "metadata": {},
   "source": [
    "If the simulation has already been run, to recover the results directly from the csv file:"
   ]
  },
  {
   "cell_type": "code",
   "execution_count": null,
   "metadata": {},
   "outputs": [],
   "source": [
    "df_step6 = recover_df_step(6, df_step6)"
   ]
  },
  {
   "cell_type": "markdown",
   "metadata": {},
   "source": [
    "**Step 7: HVAC is an efficient VRF system. With interior shading devices. Cooling setpoint 26°C, heating setpoint 21°C**"
   ]
  },
  {
   "cell_type": "markdown",
   "metadata": {},
   "source": [
    "Run the simulations (it takes time! Be patient):"
   ]
  },
  {
   "cell_type": "code",
   "execution_count": null,
   "metadata": {},
   "outputs": [],
   "source": [
    "if run_all:\n",
    "\n",
    "    # Note the indice run_n of the simulation:\n",
    "    for run_n in df_step7.index:\n",
    "        # Note the glazing type:\n",
    "        igu = df_step7['glazing'][run_n]\n",
    "\n",
    "        # Modify the idf and create a copy:\n",
    "        idf_modified = modify_idf(idfname_vrf, epwfile,\n",
    "                                  igu, run_n, df_step7)\n",
    "\n",
    "        # Run the energy simulation:\n",
    "        idf_modified.run(output_directory=Path('outputs/energyplus'))\n",
    "\n",
    "        # Post-process the results:\n",
    "        (df_step7, ls_unmet, df_end_use_allsteps) = (\n",
    "            simulation_postprocess(run_n, df_step7, ls_unmet,\n",
    "                                   df_end_use_allsteps)\n",
    "        )\n",
    "\n",
    "        # Save results:\n",
    "        save_results_csv(7, df_step7, ls_unmet, df_end_use_allsteps)"
   ]
  },
  {
   "cell_type": "markdown",
   "metadata": {},
   "source": [
    "If the simulation has already been run, to recover the results directly from the csv file:"
   ]
  },
  {
   "cell_type": "code",
   "execution_count": null,
   "metadata": {},
   "outputs": [],
   "source": [
    "df_step7 = recover_df_step(7, df_step7)"
   ]
  },
  {
   "cell_type": "markdown",
   "metadata": {},
   "source": [
    "### Step 8: Reduction of the Window-to-Wall Ratio"
   ]
  },
  {
   "cell_type": "raw",
   "metadata": {},
   "source": [
    "# Overview of the step_8 dataframe:\n",
    "with pd.option_context('display.max_rows', 20, 'display.max_columns', 10):\n",
    "    display(df_step8)"
   ]
  },
  {
   "cell_type": "markdown",
   "metadata": {},
   "source": [
    "Run the simulations (it takes time! Be patient):"
   ]
  },
  {
   "cell_type": "code",
   "execution_count": null,
   "metadata": {},
   "outputs": [],
   "source": [
    "if run_all:\n",
    "\n",
    "    # Note the indice run_n of the simulation:\n",
    "    for run_n in df_step8.index:\n",
    "        # Note the glazing type:\n",
    "        igu = df_step8['glazing'][run_n]\n",
    "\n",
    "        # Modify the idf and create a copy:\n",
    "        idf_modified = modify_idf(idfname_vav, epwfile,\n",
    "                                  igu, run_n, df_step8)\n",
    "\n",
    "        # Modify the window-to-wall ratio (75% of the existing one):\n",
    "        for element in idf_modified.idfobjects['FenestrationSurface:Detailed']:\n",
    "            if element.Surface_Type == 'Window':\n",
    "                if \"Ground\" in element.Name:\n",
    "                    # Reduce the height of the ground floor windows:\n",
    "                    element.Vertex_2_Zcoordinate += 0.70\n",
    "                    element.Vertex_3_Zcoordinate += 0.70\n",
    "                else:\n",
    "                    # Reduce the height of the mid/top floor windows:\n",
    "                    element.Vertex_2_Zcoordinate += 0.60\n",
    "                    element.Vertex_3_Zcoordinate += 0.60\n",
    "\n",
    "        idf_modified.save()\n",
    "\n",
    "        # Run the energy simulation:\n",
    "        idf_modified.run(output_directory=Path('outputs/energyplus'))\n",
    "\n",
    "        # Post-process the results:\n",
    "        glazed_facade_area = glazed_facade_area*0.75\n",
    "        (df_step8, ls_unmet, df_end_use_allsteps) = (\n",
    "            simulation_postprocess(run_n, df_step8, ls_unmet,\n",
    "                                   df_end_use_allsteps)\n",
    "        )\n",
    "        # Set back the initial value for the glazed façade area:\n",
    "        glazed_facade_area = 2700\n",
    "\n",
    "        # Save results:\n",
    "        save_results_csv(8, df_step8, ls_unmet, df_end_use_allsteps)"
   ]
  },
  {
   "cell_type": "markdown",
   "metadata": {},
   "source": [
    "If the simulation has already been run, to recover the results directly from the csv file:"
   ]
  },
  {
   "cell_type": "code",
   "execution_count": null,
   "metadata": {},
   "outputs": [],
   "source": [
    "df_step8 = recover_df_step(8, df_step8)"
   ]
  },
  {
   "cell_type": "markdown",
   "metadata": {},
   "source": [
    "### Steps 9: High-Tech Retrofitting, from Krypton to Smart Glass and DSF"
   ]
  },
  {
   "cell_type": "markdown",
   "metadata": {},
   "source": [
    "Initial run: dg_init_bronze.\n",
    "- Simulation runs: <br>\n",
    "a. Double glazing filled w/ krypton<br>\n",
    "b. Triple glazing filled w/ krypton\t <br>\n",
    "c. Triple glazing filled w/ xenon <br>\n",
    "d. Closed Cavity Facade\t(CCF)<br>\n",
    "e. Vaccum glazing\t<br>\n",
    "f. Smart double glazing<br>\n",
    "g. Double Skin Facade (DSF)<br>"
   ]
  },
  {
   "cell_type": "raw",
   "metadata": {},
   "source": [
    "# Overview of the step_9 dataframe:\n",
    "with pd.option_context('display.max_rows', 20, 'display.max_columns', 10):\n",
    "    display(df_step9)"
   ]
  },
  {
   "cell_type": "code",
   "execution_count": null,
   "metadata": {
    "scrolled": false
   },
   "outputs": [],
   "source": [
    "if run_all:\n",
    "\n",
    "    # Note the indice run_n of the simulation:\n",
    "    for run_n in df_step9.index:\n",
    "        # Note the glazing type:\n",
    "        igu = df_step9['glazing'][run_n]\n",
    "\n",
    "        # DSF is skipped, see below for the specific case of DSF:\n",
    "        if igu == \"dsf\":\n",
    "            continue\n",
    "\n",
    "        else:\n",
    "            # Modify the idf and create a copy:\n",
    "            idf_modified = modify_idf(idfname_vav, epwfile,\n",
    "                                      igu, run_n, df_step9\n",
    "                                      )\n",
    "\n",
    "        # CCF use in between shading:\n",
    "        if igu == \"ccf\":\n",
    "            for element in idf_modified.idfobjects['WindowShadingControl']:\n",
    "                element.Shading_Type = 'ExteriorShade'\n",
    "                element.Shading_Control_Type = (\n",
    "                    'OnIfHighZoneAirTempAndHighSolarOnWindow')\n",
    "                element.Schedule_Name = 'EXT_Shading_On'\n",
    "                element.Setpoint = '22'\n",
    "                element.Setpoint_2 = '250'\n",
    "                element.Shading_Control_Is_Scheduled = 'Yes'\n",
    "                element.Glare_Control_Is_Active = 'No'\n",
    "                element.Shading_Device_Material_Name = (\n",
    "                    'EnviroScreen_lightgrey_silver')\n",
    "                element.Type_of_Slat_Angle_Control_for_Blinds = (\n",
    "                    'FixedSlatAngle')\n",
    "\n",
    "            # Save the idf:\n",
    "            idf_modified.save()\n",
    "            # Run the energy simulation:\n",
    "            idf_modified.run(output_directory=Path('outputs/energyplus'))\n",
    "\n",
    "        # Use of smart glass:\n",
    "        elif igu == \"dg_smart\":\n",
    "            # To run the simulation for smart glass, need a specific idf:\n",
    "            idf_smartglass = IDF(idfname_smartglass, epwfile)\n",
    "            idf_smartglass.run(output_directory=Path('outputs/energyplus'))\n",
    "\n",
    "        # Run the energy simulation with the other IGUs:\n",
    "        else:\n",
    "            idf_modified.run(output_directory=Path('outputs/energyplus'))\n",
    "\n",
    "        # Post-process the results:\n",
    "        (df_step9, ls_unmet, df_end_use_allsteps) = (\n",
    "            simulation_postprocess(run_n, df_step9, ls_unmet,\n",
    "                                   df_end_use_allsteps)\n",
    "        )\n",
    "\n",
    "        # Save results:\n",
    "        save_results_csv(9, df_step9, ls_unmet, df_end_use_allsteps)"
   ]
  },
  {
   "cell_type": "markdown",
   "metadata": {},
   "source": [
    "**Specific cas of the Double Skin Facade (DSF):**"
   ]
  },
  {
   "cell_type": "markdown",
   "metadata": {},
   "source": [
    "The analysis of the double skin facade system is not based on energy modelling, but on the results of a review conducted by Pomponi et al. on more than 50 publications."
   ]
  },
  {
   "cell_type": "markdown",
   "metadata": {},
   "source": [
    "See: Pomponi et al., 2016. \"Energy performance of Double-Skin Façades in temperate climates: A systematic review and meta-analysis,\" *Renewable and Sustainable Energy Reviews*."
   ]
  },
  {
   "cell_type": "markdown",
   "metadata": {},
   "source": [
    "The authors summarise the results in terms of possible energy use reduction. I only consider values obtained through an experimental method (and therefore exclude values obtained through silumation or mathematical equations).\n",
    "The average reduction in heating load is 24%, but with a certain degree of variability. Taking into account the 75th and 25th percentiles, the maximum reduction is about 29% and the minimum about 19%.\n",
    "The average reduction of the cooling load is 32%, still with a certain degree of variability. Taking into account the 75th and 25th percentiles, the maximum reduction is 39% and the minimum 26%."
   ]
  },
  {
   "cell_type": "markdown",
   "metadata": {},
   "source": [
    "These values are applied to the average energy use for double and triple glazing with exterior shading device (step4), VAV optimised."
   ]
  },
  {
   "cell_type": "code",
   "execution_count": null,
   "metadata": {},
   "outputs": [],
   "source": [
    "ls_dsf = list(df_step9.index[df_step9['glazing'] == \"dsf\"])"
   ]
  },
  {
   "cell_type": "code",
   "execution_count": null,
   "metadata": {},
   "outputs": [],
   "source": [
    "if run_all:\n",
    "\n",
    "    df_copy = df_end_use_allsteps[[\n",
    "        \"e_e_2126_dg1_vav_int\", \"e_f_2126_dg2_vav_int\",\n",
    "        \"e_g_2126_dg3_vav_int\", \"e_h_2126_dg4_vav_int\",\n",
    "        \"e_i_2126_dg5_vav_int\", \"e_j_2126_dg6_vav_int\",\n",
    "        \"e_k_2126_tg1_vav_int\", \"e_l_2126_tg2_vav_int\",\n",
    "        \"e_m_2126_tg3_vav_int\", \"e_n_2126_tg4_vav_int\",\n",
    "        \"e_o_2126_tg5_vav_int\", \"e_p_2126_tg6_vav_int\"]\n",
    "    ].copy()\n",
    "\n",
    "    df_step4_mean = df_copy.groupby(level=1, axis=1).mean()\n",
    "    df_step4_mean.columns = pd.MultiIndex.from_product([['mean'],\n",
    "                                                        df_step4_mean.columns])\n",
    "\n",
    "    df_end_use_allsteps = df_end_use_allsteps.stack()\n",
    "    df_step4_mean = df_step4_mean.stack()\n",
    "\n",
    "    for name in ls_dsf:\n",
    "        df_end_use_allsteps[name] = df_step4_mean[\"mean\"]\n",
    "        print(name)\n",
    "\n",
    "    df_end_use_allsteps = df_end_use_allsteps.unstack()\n",
    "    df_step4_mean = df_step4_mean.unstack()\n",
    "\n",
    "    for name in ls_dsf:\n",
    "        for energy in [\"Natural Gas\", \"Electricity\"]:\n",
    "            if \"min\" in name:\n",
    "                df_end_use_allsteps[(name, energy)][\"Heating\"] = (\n",
    "                    df_step4_mean[(\"mean\", energy)][\"Heating\"]*0.71)\n",
    "                df_end_use_allsteps[(name, energy)][\"Cooling\"] = (\n",
    "                    df_step4_mean[(\"mean\", energy)].loc[\"Cooling\"]*0.61)\n",
    "            if \"mean\" in name:\n",
    "                df_end_use_allsteps[(name, energy)][\"Heating\"] = (\n",
    "                    df_step4_mean[(\"mean\", energy)][\"Heating\"]*0.76)\n",
    "                df_end_use_allsteps[(name, energy)][\"Cooling\"] = (\n",
    "                    df_step4_mean[(\"mean\", energy)][\"Cooling\"]*0.68)\n",
    "            if \"max\" in name:\n",
    "                df_end_use_allsteps[(name, energy)][\"Heating\"] = (\n",
    "                    df_step4_mean[(\"mean\", energy)][\"Heating\"]*0.81)\n",
    "                df_end_use_allsteps[(name, energy)][\"Cooling\"] = (\n",
    "                    df_step4_mean[(\"mean\", energy)][\"Cooling\"]*0.74)"
   ]
  },
  {
   "cell_type": "code",
   "execution_count": null,
   "metadata": {},
   "outputs": [],
   "source": [
    "if run_all:\n",
    "\n",
    "    # Update df_step9 with natural gas and electricity use:\n",
    "    for name in ls_dsf:\n",
    "\n",
    "        # Sum of the electricity uses:\n",
    "        elec_tot_gj = df_end_use_allsteps[(name, 'Electricity')].sum()\n",
    "        # Convert GJ to kWh:\n",
    "        elec_tot_kwh = elec_tot_gj * 277.8\n",
    "        # Use of natural gas:\n",
    "        gas_tot_gj = df_end_use_allsteps[(name, 'Natural Gas')].sum()\n",
    "        # Convert GJ to MJ:\n",
    "        gas_tot_mj = gas_tot_gj * 1000\n",
    "\n",
    "        # Save values in df_step9, per m² of glazed facade:\n",
    "        df_step9.loc[df_step9.index == name, 'elec_use'] = (\n",
    "            elec_tot_kwh / glazed_facade_area)\n",
    "        df_step9.loc[df_step9.index == name, 'natural_gas'] = (\n",
    "            gas_tot_mj / glazed_facade_area)\n",
    "\n",
    "    # Save results:\n",
    "    save_results_csv(9, df_step9, ls_unmet, df_end_use_allsteps)"
   ]
  },
  {
   "cell_type": "markdown",
   "metadata": {},
   "source": [
    "If the simulation has already been run, to recover the results directly from the csv file:"
   ]
  },
  {
   "cell_type": "code",
   "execution_count": null,
   "metadata": {},
   "outputs": [],
   "source": [
    "df_step9 = recover_df_step(9, df_step9)"
   ]
  },
  {
   "cell_type": "markdown",
   "metadata": {},
   "source": [
    "### Step 10: \"Americanisation\" of the interior climate"
   ]
  },
  {
   "cell_type": "markdown",
   "metadata": {},
   "source": [
    "- Cooling setpoint: 24°C\n",
    "- Heating setpoint: 21°C\n",
    "- Without shading devices"
   ]
  },
  {
   "cell_type": "code",
   "execution_count": null,
   "metadata": {},
   "outputs": [],
   "source": [
    "# Overview of the step_10 dataframe:\n",
    "with pd.option_context('display.max_rows', 20, 'display.max_columns', 10):\n",
    "    display(df_step10)"
   ]
  },
  {
   "cell_type": "markdown",
   "metadata": {},
   "source": [
    "Run the simulations (it takes time! Be patient):"
   ]
  },
  {
   "cell_type": "code",
   "execution_count": null,
   "metadata": {},
   "outputs": [],
   "source": [
    "if run_all:\n",
    "\n",
    "    # Note the indice run_n of the simulation:\n",
    "    for run_n in df_step10.index:\n",
    "        # Note the glazing type:\n",
    "        igu = df_step10['glazing'][run_n]\n",
    "\n",
    "        # Modify the idf and create a copy:\n",
    "        idf_modified = modify_idf(idfname_vav, epwfile,\n",
    "                                  igu, run_n, df_step10)\n",
    "\n",
    "        # Run the energy simulation:\n",
    "        idf_modified.run(output_directory=Path('outputs/energyplus'))\n",
    "\n",
    "        # Post-process the results:\n",
    "        (df_step10, ls_unmet, df_end_use_allsteps) = (\n",
    "            simulation_postprocess(run_n, df_step10, ls_unmet,\n",
    "                                   df_end_use_allsteps)\n",
    "        )\n",
    "\n",
    "        # Save results:\n",
    "        save_results_csv(10, df_step10, ls_unmet, df_end_use_allsteps)"
   ]
  },
  {
   "cell_type": "markdown",
   "metadata": {},
   "source": [
    "If the simulation has already been run, to recover the results directly from the csv file:"
   ]
  },
  {
   "cell_type": "code",
   "execution_count": null,
   "metadata": {},
   "outputs": [],
   "source": [
    "df_step10 = recover_df_step(10, df_step10)"
   ]
  },
  {
   "cell_type": "markdown",
   "metadata": {},
   "source": [
    "### Step 11: sufficiency path"
   ]
  },
  {
   "cell_type": "markdown",
   "metadata": {},
   "source": [
    "- Cooling setpoint: 19°C\n",
    "- Heating setpoint: 27°C\n",
    "- With exterior shading devices"
   ]
  },
  {
   "cell_type": "code",
   "execution_count": null,
   "metadata": {},
   "outputs": [],
   "source": [
    "# Overview of the step_11 dataframe:\n",
    "with pd.option_context('display.max_rows', 20, 'display.max_columns', 10):\n",
    "    display(df_step11)"
   ]
  },
  {
   "cell_type": "markdown",
   "metadata": {},
   "source": [
    "Run the simulations (it takes time! Be patient):"
   ]
  },
  {
   "cell_type": "code",
   "execution_count": null,
   "metadata": {},
   "outputs": [],
   "source": [
    "if run_all:\n",
    "\n",
    "    # Note the indice run_n of the simulation:\n",
    "    for run_n in df_step11.index:\n",
    "        # Note the glazing type:\n",
    "        igu = df_step11['glazing'][run_n]\n",
    "\n",
    "        # Modify the idf and create a copy:\n",
    "        idf_modified = modify_idf(idfname_vav, epwfile,\n",
    "                                  igu, run_n, df_step11)\n",
    "\n",
    "        # Run the energy simulation:\n",
    "        idf_modified.run(output_directory=Path('outputs/energyplus'))\n",
    "\n",
    "        # Post-process the results:\n",
    "        (df_step11, ls_unmet, df_end_use_allsteps) = (\n",
    "            simulation_postprocess(run_n, df_step11, ls_unmet,\n",
    "                                   df_end_use_allsteps)\n",
    "        )\n",
    "\n",
    "        # Save results:\n",
    "        save_results_csv(11, df_step11, ls_unmet, df_end_use_allsteps)"
   ]
  },
  {
   "cell_type": "markdown",
   "metadata": {},
   "source": [
    "If the simulation has already been run, to recover the results directly from the csv file:"
   ]
  },
  {
   "cell_type": "code",
   "execution_count": null,
   "metadata": {},
   "outputs": [],
   "source": [
    "df_step11 = recover_df_step(11, df_step11)"
   ]
  },
  {
   "cell_type": "markdown",
   "metadata": {},
   "source": [
    "### Steps 12-13: internal gains"
   ]
  },
  {
   "cell_type": "markdown",
   "metadata": {},
   "source": [
    "- Step 12: Increase of the internal gains. Density of 8 m²/p. instead of 10m²/p; lighting power of 10 W/m² instead of 8 W/m²."
   ]
  },
  {
   "cell_type": "code",
   "execution_count": null,
   "metadata": {},
   "outputs": [],
   "source": [
    "# Overview of the step_12 dataframe:\n",
    "with pd.option_context('display.max_rows', 20, 'display.max_columns', 10):\n",
    "    display(df_step12)"
   ]
  },
  {
   "cell_type": "code",
   "execution_count": null,
   "metadata": {},
   "outputs": [],
   "source": [
    "if run_all:\n",
    "\n",
    "    # Note the indice run_n of the simulation:\n",
    "    for run_n in df_step12.index:\n",
    "        # Note the glazing type:\n",
    "        igu = df_step12['glazing'][run_n]\n",
    "\n",
    "        # Modify the idf and create a copy:\n",
    "        idf_modified = modify_idf(idfname_vav, epwfile,\n",
    "                                  igu, run_n, df_step12)\n",
    "\n",
    "        # Modify the lighting power (10 W/m²) and office density (8 m²/p.):\n",
    "        for element in idf_modified.idfobjects['Lights']:\n",
    "            if \"Office\" in element.Zone_or_ZoneList_Name:\n",
    "                element.Watts_per_Zone_Floor_Area = 10\n",
    "\n",
    "        for element in idf_modified.idfobjects['People']:\n",
    "            if \"Office\" in element.Zone_or_ZoneList_Name:\n",
    "                element.Zone_Floor_Area_per_Person = 8\n",
    "\n",
    "        idf_modified.save()\n",
    "        # Run the energy simulation:\n",
    "        idf_modified.run(output_directory=Path('outputs/energyplus'))\n",
    "\n",
    "        # Post-process the results:\n",
    "        (df_step12, ls_unmet, df_end_use_allsteps) = (\n",
    "            simulation_postprocess(run_n, df_step12, ls_unmet,\n",
    "                                   df_end_use_allsteps)\n",
    "        )\n",
    "\n",
    "        # Save results:\n",
    "        save_results_csv(12, df_step12, ls_unmet, df_end_use_allsteps)"
   ]
  },
  {
   "cell_type": "markdown",
   "metadata": {},
   "source": [
    "If the simulation has already been run, to recover the results directly from the csv file:"
   ]
  },
  {
   "cell_type": "code",
   "execution_count": null,
   "metadata": {},
   "outputs": [],
   "source": [
    "df_step12 = recover_df_step(12, df_step12)"
   ]
  },
  {
   "cell_type": "markdown",
   "metadata": {},
   "source": [
    "- Step 13: Decrease of the internal gains. Density of 12 m²/p. instead of 10m²/p; lighting power of 5 W/m² instead of 8 W/m²."
   ]
  },
  {
   "cell_type": "code",
   "execution_count": null,
   "metadata": {},
   "outputs": [],
   "source": [
    "# Overview of the step_13 dataframe:\n",
    "with pd.option_context('display.max_rows', 20, 'display.max_columns', 10):\n",
    "    display(df_step13)"
   ]
  },
  {
   "cell_type": "markdown",
   "metadata": {},
   "source": [
    "Step 19, run the simulations (it takes time! Be patient):"
   ]
  },
  {
   "cell_type": "code",
   "execution_count": null,
   "metadata": {},
   "outputs": [],
   "source": [
    "if run_all:\n",
    "\n",
    "    # Note the indice run_n of the simulation:\n",
    "    for run_n in df_step13.index:\n",
    "        # Note the glazing type:\n",
    "        igu = df_step13['glazing'][run_n]\n",
    "\n",
    "        # Modify the idf and create a copy:\n",
    "        idf_modified = modify_idf(idfname_vav, epwfile,\n",
    "                                  igu, run_n, df_step13)\n",
    "\n",
    "        # Modify the lighting power (10W/m²) and office density (12m²/p.):\n",
    "        for element in idf_modified.idfobjects['Lights']:\n",
    "            if \"Office\" in element.Zone_or_ZoneList_Name:\n",
    "                element.Watts_per_Zone_Floor_Area = 5\n",
    "\n",
    "        for element in idf_modified.idfobjects['People']:\n",
    "            if \"Office\" in element.Zone_or_ZoneList_Name:\n",
    "                element.Zone_Floor_Area_per_Person = 12\n",
    "\n",
    "        idf_modified.save()\n",
    "        # Run the energy simulation:\n",
    "        idf_modified.run(output_directory=Path('outputs/energyplus'))\n",
    "\n",
    "        # Post-process the results:\n",
    "        (df_step13, ls_unmet, df_end_use_allsteps) = (\n",
    "            simulation_postprocess(run_n, df_step13, ls_unmet,\n",
    "                                   df_end_use_allsteps)\n",
    "        )\n",
    "\n",
    "        # Save results:\n",
    "        save_results_csv(13, df_step13, ls_unmet, df_end_use_allsteps)"
   ]
  },
  {
   "cell_type": "markdown",
   "metadata": {},
   "source": [
    "If the simulation has already been run, to recover the results directly from the csv file:"
   ]
  },
  {
   "cell_type": "code",
   "execution_count": null,
   "metadata": {},
   "outputs": [],
   "source": [
    "df_step13 = recover_df_step(13, df_step13)"
   ]
  },
  {
   "cell_type": "markdown",
   "metadata": {},
   "source": [
    "### Steps 14-16: Climate Change (2069-2098 - RCP 8.5)"
   ]
  },
  {
   "cell_type": "markdown",
   "metadata": {},
   "source": [
    "Weather files from: Ramon, Delphine, Karen Allacker, Hendrik Wouters, Sam Vanden Broucke, and Nicole P.M. Van Lipzig. ‘Typical Downscaled Year (TDY) for Building Energy Simulations (.Epw Format) in Future Climate (2069-2098 - RCP 8.5), Uccle, Belgium’. Zenodo, 20 May 2021. https://doi.org/10.5281/ZENODO.4776320."
   ]
  },
  {
   "cell_type": "markdown",
   "metadata": {},
   "source": [
    "See: https://zenodo.org/record/4776320#.YfeSdfjjJhG"
   ]
  },
  {
   "cell_type": "code",
   "execution_count": null,
   "metadata": {},
   "outputs": [],
   "source": [
    "epwfile_cc"
   ]
  },
  {
   "cell_type": "markdown",
   "metadata": {},
   "source": [
    "**Step 14: Include interior shading devices. Cooling setpoint 26°C, heating setpoint 21°C.**\n"
   ]
  },
  {
   "cell_type": "raw",
   "metadata": {},
   "source": [
    "# Overview of the step_14 dataframe:\n",
    "with pd.option_context('display.max_rows', 20, 'display.max_columns', 10):\n",
    "    display(df_step14)"
   ]
  },
  {
   "cell_type": "markdown",
   "metadata": {},
   "source": [
    "Run the simulations (it takes time! Be patient):"
   ]
  },
  {
   "cell_type": "code",
   "execution_count": null,
   "metadata": {
    "scrolled": false
   },
   "outputs": [],
   "source": [
    "if run_all:\n",
    "\n",
    "    # Note the indice run_n of the simulation:\n",
    "    for run_n in df_step14.index:\n",
    "        # Note the glazing type:\n",
    "        igu = df_step14['glazing'][run_n]\n",
    "\n",
    "        # Modify the idf and create a copy:\n",
    "        idf_modified = modify_idf(idfname_vav, epwfile_cc,\n",
    "                                  igu, run_n, df_step14)\n",
    "\n",
    "        # Run the energy simulation:\n",
    "        idf_modified.run(output_directory=Path('outputs/energyplus'))\n",
    "\n",
    "        # Post-process the results:\n",
    "        (df_step14, ls_unmet, df_end_use_allsteps) = (\n",
    "            simulation_postprocess(run_n, df_step14, ls_unmet,\n",
    "                                   df_end_use_allsteps)\n",
    "        )\n",
    "\n",
    "        # Save results:\n",
    "        save_results_csv(14, df_step14, ls_unmet, df_end_use_allsteps)"
   ]
  },
  {
   "cell_type": "markdown",
   "metadata": {},
   "source": [
    "If the simulation has already been run, to recover the results directly from the csv file:"
   ]
  },
  {
   "cell_type": "code",
   "execution_count": null,
   "metadata": {},
   "outputs": [],
   "source": [
    "df_step14 = recover_df_step(14, df_step14)"
   ]
  },
  {
   "cell_type": "markdown",
   "metadata": {},
   "source": [
    "**Step 15: Without shading devices. Cooling setpoint 24°C, heating setpoint 21°C.**"
   ]
  },
  {
   "cell_type": "raw",
   "metadata": {},
   "source": [
    "# Overview of the step_15 dataframe:\n",
    "with pd.option_context('display.max_rows', 20, 'display.max_columns', 10):\n",
    "    display(df_step15)"
   ]
  },
  {
   "cell_type": "markdown",
   "metadata": {},
   "source": [
    "Run the simulations (it takes time! Be patient):"
   ]
  },
  {
   "cell_type": "code",
   "execution_count": null,
   "metadata": {
    "scrolled": false
   },
   "outputs": [],
   "source": [
    "if run_all:\n",
    "\n",
    "    # Note the indice run_n of the simulation:\n",
    "    for run_n in df_step15.index:\n",
    "        # Note the glazing type:\n",
    "        igu = df_step15['glazing'][run_n]\n",
    "\n",
    "        # Modify the idf and create a copy:\n",
    "        idf_modified = modify_idf(idfname_vav, epwfile_cc,\n",
    "                                  igu, run_n, df_step15)\n",
    "\n",
    "        # Run the energy simulation:\n",
    "        idf_modified.run(output_directory=Path('outputs/energyplus'))\n",
    "\n",
    "        # Post-process the results:\n",
    "        (df_step15, ls_unmet, df_end_use_allsteps) = (\n",
    "            simulation_postprocess(run_n, df_step15, ls_unmet,\n",
    "                                   df_end_use_allsteps)\n",
    "        )\n",
    "\n",
    "        # Save results:\n",
    "        save_results_csv(15, df_step15, ls_unmet, df_end_use_allsteps)"
   ]
  },
  {
   "cell_type": "code",
   "execution_count": null,
   "metadata": {
    "scrolled": true
   },
   "outputs": [],
   "source": [
    "df_step15 = recover_df_step(15, df_step15)"
   ]
  },
  {
   "cell_type": "markdown",
   "metadata": {},
   "source": [
    "**Step 16: With exterior shading devices. Cooling setpoint 27°C, heating setpoint 19°C.**"
   ]
  },
  {
   "cell_type": "raw",
   "metadata": {},
   "source": [
    "# Overview of the step_16 dataframe:\n",
    "with pd.option_context('display.max_rows', 20, 'display.max_columns', 10):\n",
    "    display(df_step16)"
   ]
  },
  {
   "cell_type": "code",
   "execution_count": null,
   "metadata": {
    "scrolled": false
   },
   "outputs": [],
   "source": [
    "if run_all:\n",
    "\n",
    "    # Note the indice run_n of the simulation:\n",
    "    for run_n in df_step16.index:\n",
    "        # Note the glazing type:\n",
    "        igu = df_step16['glazing'][run_n]\n",
    "\n",
    "        # Modify the idf and create a copy:\n",
    "        idf_modified = modify_idf(idfname_vav, epwfile_cc,\n",
    "                                  igu, run_n, df_step16)\n",
    "\n",
    "        # Run the energy simulation:\n",
    "        idf_modified.run(output_directory=Path('outputs/energyplus'))\n",
    "\n",
    "        # Post-process the results:\n",
    "        (df_step16, ls_unmet, df_end_use_allsteps) = (\n",
    "            simulation_postprocess(run_n, df_step16, ls_unmet,\n",
    "                                   df_end_use_allsteps)\n",
    "        )\n",
    "\n",
    "        # Save results:\n",
    "        save_results_csv(16, df_step16, ls_unmet, df_end_use_allsteps)"
   ]
  },
  {
   "cell_type": "markdown",
   "metadata": {},
   "source": [
    "If the simulation has already been run, to recover the results directly from the csv file:"
   ]
  },
  {
   "cell_type": "code",
   "execution_count": null,
   "metadata": {},
   "outputs": [],
   "source": [
    "df_step16 = recover_df_step(16, df_step16)"
   ]
  },
  {
   "cell_type": "markdown",
   "metadata": {},
   "source": [
    "# Post-Processing and Data Analysis"
   ]
  },
  {
   "cell_type": "code",
   "execution_count": null,
   "metadata": {
    "scrolled": false
   },
   "outputs": [],
   "source": [
    "df_end_use_allsteps"
   ]
  },
  {
   "cell_type": "code",
   "execution_count": null,
   "metadata": {},
   "outputs": [],
   "source": [
    "# Add a row index to sort by the step (column indexing):\n",
    "df_end_use_allsteps.columns = pd.MultiIndex.from_tuples(\n",
    "    [(x[0][0], x[0], x[1]) for x in df_end_use_allsteps.columns],\n",
    "    names=['Step', 'Run name', 'FuelType']\n",
    ")"
   ]
  },
  {
   "cell_type": "markdown",
   "metadata": {},
   "source": [
    "Create a new DataFrame with total energy use and HVAC total energy use:"
   ]
  },
  {
   "cell_type": "markdown",
   "metadata": {},
   "source": [
    "**Units:** GJ, whole building energy use."
   ]
  },
  {
   "cell_type": "code",
   "execution_count": null,
   "metadata": {},
   "outputs": [],
   "source": [
    "df_end_use_total = df_end_use_allsteps.groupby(level='Run name', axis=1).sum()\n",
    "\n",
    "# Add a row with total energy use:\n",
    "df_end_use_total.loc['Total', :] = df_end_use_total.sum(axis=0)\n",
    "\n",
    "# Add a row with total energy use for HVAC system:\n",
    "hvac_end_uses = ['Cooling', 'Fans', 'Heat Rejection', 'Heating', 'Pumps']\n",
    "df_end_use_total.loc['Total HVAC', :] = df_end_use_total.loc[hvac_end_uses].sum()\n",
    "\n",
    "# Add a row with the sum of heating and cooling energy use:\n",
    "df_end_use_total.loc['Heating and Cooling', :] = df_end_use_total.loc[[\"Heating\", \"Cooling\"]].sum()"
   ]
  },
  {
   "cell_type": "code",
   "execution_count": null,
   "metadata": {},
   "outputs": [],
   "source": [
    "df_end_use_total"
   ]
  },
  {
   "cell_type": "code",
   "execution_count": null,
   "metadata": {},
   "outputs": [],
   "source": [
    "def make_igu(code):\n",
    "    if \"dg_init\" in code:\n",
    "        return 'dg_init'\n",
    "    if \"dg0\" in code:\n",
    "        return 'dg0'\n",
    "    if \"sg\" in code:\n",
    "        return 'sg'\n",
    "    if ((\"dg1\" in code) or (\"dg2\" in code) or (\"dg3\" in code)\n",
    "            or (\"dg4\" in code) or (\"dg5\" in code) or (\"dg6\" in code)):\n",
    "        return 'dg'\n",
    "    if ((\"tg1\" in code) or (\"tg2\" in code) or (\"tg3\" in code)\n",
    "            or (\"tg4\" in code) or (\"tg5\" in code) or (\"tg6\" in code)):\n",
    "        return 'tg'\n",
    "    if \"dg_vacuum\" in code:\n",
    "        return 'dg_vacuum'\n",
    "    if \"dg_smart\" in code:\n",
    "        return 'dg_smart'\n",
    "    if \"dsf\" in code:\n",
    "        return 'dsf'\n",
    "    if \"ccf\" in code:\n",
    "        return 'ccf'\n",
    "    \n",
    "df_end_use_total = df_end_use_total.T\n",
    "df_end_use_total['Step'] = df_end_use_total.index.str[0]\n",
    "df_end_use_total['IGU'] = df_end_use_total.index.map(make_igu)\n",
    "df_end_use_total = df_end_use_total.reset_index().set_index([\"Step\",\n",
    "                                                             \"IGU\",\n",
    "                                                             \"Run name\"]).T"
   ]
  },
  {
   "cell_type": "code",
   "execution_count": null,
   "metadata": {},
   "outputs": [],
   "source": [
    "df_end_use_total"
   ]
  },
  {
   "cell_type": "markdown",
   "metadata": {},
   "source": [
    "## Functions to plot the results"
   ]
  },
  {
   "cell_type": "markdown",
   "metadata": {},
   "source": [
    "Plot of energy use according to glazing type, in kWh per m² of conditioned area:"
   ]
  },
  {
   "cell_type": "code",
   "execution_count": null,
   "metadata": {},
   "outputs": [],
   "source": [
    "def end_use_v_plot(code, df_end_use_allsteps, ylim, title):\n",
    "    \"\"\"\n",
    "    Plot the energy usage by service type for each simulation run. \n",
    "    The graph type is a vertical barplot.\n",
    "\n",
    "    Parameters\n",
    "    ----------\n",
    "    code: reference code for the step which is printed, e.g. \"a_\" for step1\n",
    "    df_end_use_allsteps: dataframe with values for energy use per service \n",
    "        for each simulation run\n",
    "    nrows: number of rows to plot\n",
    "    ncols: number of cols to plot\n",
    "    ylim: limit for the y axis\n",
    "    title: title of the graph\n",
    "\n",
    "    Returns\n",
    "    -------\n",
    "\n",
    "    \"\"\"\n",
    "\n",
    "    # List of columns to plot:\n",
    "    ls_plot = []\n",
    "    for name in df_end_use_allsteps[code].columns:\n",
    "        if code in name[0][0]:\n",
    "            ls_plot.append(name[0])\n",
    "\n",
    "    ls_plot = sorted(list(set(ls_plot)))\n",
    "\n",
    "    # Define the number of rows and cols:\n",
    "    a = math.ceil(len(ls_plot) / 2.)\n",
    "    if a > len(ls_plot):\n",
    "        ls_plot.append(ls_plot[-1])\n",
    "    b = int(a * 2 / 4)\n",
    "    c = b * 3.5\n",
    "\n",
    "    fig, axes = plt.subplots(nrows=b, ncols=4,\n",
    "                             sharex=True, sharey=True,\n",
    "                             figsize=(14, c))\n",
    "\n",
    "    n = 0\n",
    "\n",
    "    for row in range(b):\n",
    "        for col in range(4):\n",
    "            ax = axes[row][col]\n",
    "\n",
    "            # To differentiate between gas and electricity:\n",
    "            colors = []\n",
    "            for end_use in df_end_use_allsteps[code].index:\n",
    "                if df_end_use_allsteps[(code,\n",
    "                                        f\"{ls_plot[n]}\",\n",
    "                                        \"Natural Gas\")\n",
    "                                       ][end_use] == 0:\n",
    "                    colors.append('lightsteelblue')\n",
    "                else:\n",
    "                    colors.append('lightcoral')\n",
    "\n",
    "            x = df_end_use_allsteps.index\n",
    "\n",
    "            # Per m² of bldg, then Convert to kWh, from GJ:\n",
    "            # Electricity and gas are added to simplify calculation,\n",
    "            # but never both energies are used to provide same service\n",
    "            y = ((df_end_use_allsteps[(code,\n",
    "                                       f\"{ls_plot[n]}\",\n",
    "                                       \"Electricity\")\n",
    "                                      ]\n",
    "                 + df_end_use_allsteps[(code,\n",
    "                                        f\"{ls_plot[n]}\",\n",
    "                                        \"Natural Gas\")\n",
    "                                       ])\n",
    "                 / net_conditioned_area * 278\n",
    "                 )\n",
    "\n",
    "            width = 0.5\n",
    "\n",
    "            ax.bar(x, y, width, color=colors)\n",
    "\n",
    "            ax.set_title(f\"{ls_plot[n]}\", y=-0.35, pad=15)\n",
    "\n",
    "            n += 1\n",
    "\n",
    "            ax.tick_params(axis='x', which='both', bottom=False)\n",
    "            ax.xaxis.label.set_visible(False)\n",
    "            ax.yaxis.label.set_visible(False)\n",
    "            ax.grid(which='major', axis='y', linestyle=':', linewidth=1)\n",
    "\n",
    "            style_ax(ax)\n",
    "\n",
    "    labels = [item.get_text() for item in ax.get_xticklabels()]\n",
    "    for i in range(len(labels)):\n",
    "        labels[i] = i + 1\n",
    "    # ax.set_xticklabels(labels)\n",
    "    plt.xticks(np.arange(len(labels)), labels[0:])\n",
    "\n",
    "    ax.set_ylim(0, ylim)\n",
    "    plt.yticks(np.arange(0, ylim+1, 10))\n",
    "\n",
    "    fig.subplots_adjust(wspace=0.15, hspace=0.5)\n",
    "\n",
    "    fig.suptitle(title, fontsize=17, y=0.95)\n",
    "    sns.despine(left=True, bottom=True, offset=5)\n",
    "    plt.show()"
   ]
  },
  {
   "cell_type": "markdown",
   "metadata": {},
   "source": [
    "A function to plot heating and cooling loads, horizontal bars, one bar per simulation run:"
   ]
  },
  {
   "cell_type": "code",
   "execution_count": null,
   "metadata": {},
   "outputs": [],
   "source": [
    "def heat_cool_h_plot(code, df_end_use_allsteps, xlim, title):\n",
    "    \"\"\"\n",
    "    Plot the energy usage by service type for each simulation run. \n",
    "    The graph type is a vertical barplot.\n",
    "\n",
    "    Parameters\n",
    "    ----------\n",
    "    code: reference code for the step which is printed, e.g. \"a_\" for step1\n",
    "    df_end_use_allsteps: dataframe with values for energy use per service \n",
    "        for each simulation run\n",
    "    xlim: limit for the x axis\n",
    "    title: title of the graph\n",
    "\n",
    "    Returns\n",
    "    -------\n",
    "\n",
    "    \"\"\"\n",
    "\n",
    "    # Layout:\n",
    "    a = int(len(df_end_use_total.droplevel(\"IGU\", axis=1)[code].columns)\n",
    "            * 7 / 10\n",
    "            )\n",
    "\n",
    "    fig, axes = plt.subplots(nrows=1, ncols=2,\n",
    "                             sharex=True, sharey=True,\n",
    "                             figsize=(10, a))\n",
    "\n",
    "    for col in range(2):\n",
    "        ax = axes[col]\n",
    "\n",
    "        c = 'lightsteelblue'\n",
    "\n",
    "        if col == 0:\n",
    "            end_use = \"Heating\"\n",
    "            # Change the color for natural gas:\n",
    "            NG = (\n",
    "                df_end_use_allsteps[code].droplevel(0, axis=1)\n",
    "                .groupby(lambda x: x, axis=1)\n",
    "                .sum()[\"Natural Gas\"][\"Heating\"]\n",
    "            )\n",
    "            if NG != 0:\n",
    "                c = \"lightcoral\"\n",
    "        else:\n",
    "            end_use = \"Cooling\"\n",
    "\n",
    "        # Per m² of bldg, then Convert to kWh, from GJ:\n",
    "        # Electricity and gas are added to simplify calculation,\n",
    "        # but never both energies are used to provide same service\n",
    "        ls_plot = df_end_use_total.droplevel(\"IGU\", axis=1)[code].columns\n",
    "        df_plot = (df_end_use_allsteps[code]\n",
    "                   .groupby(level=0, axis=1).sum()\n",
    "                   .loc[[end_use]] / net_conditioned_area * 278\n",
    "                   ).stack()\n",
    "\n",
    "        sns.barplot(x=list(df_plot[end_use][n] for n in ls_plot),\n",
    "                    y=ls_plot,\n",
    "                    color=c, ax=ax)\n",
    "\n",
    "        ax.set(xlim=(0, xlim), ylabel=\"\", xlabel=end_use)\n",
    "\n",
    "        # Write the total value:\n",
    "        for iy, a in enumerate(ax.patches):\n",
    "            y_start = a.get_y()\n",
    "            height = a.get_height()\n",
    "\n",
    "            x_val = (df_plot[end_use][iy])\n",
    "            y_val = y_start+(height/2)\n",
    "\n",
    "            s = str(\"%.0f\" % (df_plot[end_use][iy]))\n",
    "\n",
    "            ax.text(x_val+2.5, y_val+0.1, s, fontsize=12, color=\"grey\")\n",
    "\n",
    "        ax.grid(which='major', axis='x', linestyle=':', linewidth=1)\n",
    "\n",
    "        # Adjust the width of the bars:\n",
    "        for patch in ax.patches:\n",
    "            value = 0.4\n",
    "            current_height = patch.get_height()\n",
    "            diff = current_height - value\n",
    "            patch.set_height(value)\n",
    "            # recenter the bar:\n",
    "            patch.set_y(patch.get_y() + diff*0.5)\n",
    "\n",
    "        style_ax(ax)\n",
    "\n",
    "    fig.subplots_adjust(wspace=0.15, hspace=0.5)\n",
    "\n",
    "    fig.suptitle(title, fontsize=17, y=0.95)\n",
    "    sns.despine(left=True, bottom=True, offset=5)\n",
    "    plt.show()"
   ]
  },
  {
   "cell_type": "code",
   "execution_count": null,
   "metadata": {},
   "outputs": [],
   "source": [
    "def total_end_use_h_plot(code, xlim, title):\n",
    "    \"\"\"\n",
    "    Plot the energy usage by service type for each simulation run.\n",
    "    The graph type is a vertical barplot.\n",
    "\n",
    "    Parameters\n",
    "    ----------\n",
    "    code: reference code for the step which is printed, e.g. \"a_\" for step1\n",
    "    xlim: limit for the x axis\n",
    "    title: title of the graph\n",
    "\n",
    "    Returns\n",
    "    -------\n",
    "\n",
    "    \"\"\"\n",
    "\n",
    "    ls_plot = df_end_use_total.droplevel(\"IGU\", axis=1)[code].columns\n",
    "    # Layout:\n",
    "    a = int(len(ls_plot) * 7 / 8)\n",
    "\n",
    "    fig, ax = plt.subplots(figsize=(7, a))\n",
    "\n",
    "    # Per m² of bldg, then Convert to kWh, from GJ:\n",
    "    # Electricity and gas are added to simplify calculation,\n",
    "    # but never both energies are used to provide same service\n",
    "    df_plot = df_end_use_total.droplevel(\"IGU\", axis=1)[code]\n",
    "    ls_plot = ls_plot\n",
    "    sns.barplot(x=(df_plot.loc[\"Total\"] / net_conditioned_area * 278),\n",
    "                y=ls_plot,\n",
    "                color=\"lightgrey\", ax=ax)\n",
    "\n",
    "    # Plot an indicator line for total hvac and heat+cool energy use:\n",
    "    for iy, a in enumerate(ax.patches):\n",
    "        y_start = a.get_y()\n",
    "        height = a.get_height()\n",
    "\n",
    "        # Total HVAC:\n",
    "        x1 = (df_end_use_total\n",
    "              .droplevel(\"IGU\", axis=1)[(code,\n",
    "                                         ls_plot[iy])\n",
    "                                        ]\n",
    "              .loc['Total HVAC']\n",
    "              / net_conditioned_area * 278\n",
    "              )\n",
    "        ax.plot([x1, x1],\n",
    "                [y_start, y_start+height],\n",
    "                '--', c='black', linewidth=0.75)\n",
    "\n",
    "        # Heating + Cooling:\n",
    "        x2 = (df_end_use_total\n",
    "              .droplevel(\"IGU\", axis=1)[(code,\n",
    "                                         ls_plot[iy])\n",
    "                                        ]\n",
    "              .loc['Heating and Cooling']\n",
    "              / net_conditioned_area * 278\n",
    "              )\n",
    "        ax.plot([x2, x2],\n",
    "                [y_start, y_start+height],\n",
    "                '--', c='r', linewidth=0.75\n",
    "                )\n",
    "\n",
    "        ax.set(xlim=(0, xlim), ylabel=\"\", xlabel=\"Total energy use\")\n",
    "\n",
    "        # Write total energy use, value:\n",
    "        x_text = (df_end_use_total\n",
    "                  .droplevel(\"IGU\", axis=1)[(code,\n",
    "                                             ls_plot[iy])\n",
    "                                            ]\n",
    "                  .loc['Total']\n",
    "                  / net_conditioned_area * 278\n",
    "                  )\n",
    "        y_text = y_start+(height/2)\n",
    "\n",
    "        s = str(\"%.0f\" % (df_end_use_total\n",
    "                          .droplevel(\"IGU\", axis=1)[(code,\n",
    "                                                     ls_plot[iy])\n",
    "                                                    ]\n",
    "                          .loc['Total']\n",
    "                          / net_conditioned_area * 278\n",
    "                          )\n",
    "                )\n",
    "\n",
    "        ax.text(x_text+7, y_text+0.1, s, fontsize=12, color=\"grey\")\n",
    "\n",
    "    ax.grid(which='major', axis='x', linestyle=':', linewidth=1)\n",
    "\n",
    "    style_ax(ax)\n",
    "\n",
    "    # Adjust the width of the bars:\n",
    "    for patch in ax.patches:\n",
    "        value = 0.5\n",
    "        current_height = patch.get_height()\n",
    "        diff = current_height - value\n",
    "        patch.set_height(value)\n",
    "        # recenter the bar:\n",
    "        patch.set_y(patch.get_y() + diff*0.5)\n",
    "\n",
    "    fig.subplots_adjust(wspace=0.15, hspace=0.5)\n",
    "\n",
    "    fig.suptitle(title, fontsize=17, y=0.9)\n",
    "    sns.despine(left=True, bottom=True, offset=5)\n",
    "    plt.show()"
   ]
  },
  {
   "cell_type": "markdown",
   "metadata": {},
   "source": [
    "## Benchmark"
   ]
  },
  {
   "cell_type": "code",
   "execution_count": null,
   "metadata": {},
   "outputs": [],
   "source": [
    "# Directory with the dataset for office energy use in Brussels and Wallonia:\n",
    "ROOT_DIR_BENCHMARK = Path('benchmark/data')"
   ]
  },
  {
   "cell_type": "code",
   "execution_count": null,
   "metadata": {},
   "outputs": [],
   "source": [
    "offices_data = pd.ExcelFile(ROOT_DIR_BENCHMARK / \"OfficeBldgs_Benchmark.xlsx\")"
   ]
  },
  {
   "cell_type": "code",
   "execution_count": null,
   "metadata": {},
   "outputs": [],
   "source": [
    "print(\"offices_data, sheet names = \\n {}\\n\".format(offices_data.sheet_names))"
   ]
  },
  {
   "cell_type": "code",
   "execution_count": null,
   "metadata": {},
   "outputs": [],
   "source": [
    "# Create a DataFrame:\n",
    "df_offices_bxl = offices_data.parse('BXL_2013').set_index(\"No\")"
   ]
  },
  {
   "cell_type": "code",
   "execution_count": null,
   "metadata": {},
   "outputs": [],
   "source": [
    "df_offices_bxl[\"Total, kWh/m²\"] = (\n",
    "    df_offices_bxl[\"electricity, kWh/m²\"] + df_offices_bxl[\"fuel, kWh/m²\"]\n",
    ")"
   ]
  },
  {
   "cell_type": "code",
   "execution_count": null,
   "metadata": {},
   "outputs": [],
   "source": [
    "fig, ax = plt.subplots(figsize=(7, 3))\n",
    "\n",
    "df_benchmark = (df_offices_bxl\n",
    "                .drop([\"area, m²\", \"electricity, MWh\", \"fuel, MWh\"], axis=1)\n",
    "                .stack().to_frame(\"energy use\").reset_index()\n",
    "                .rename(columns={\"level_1\": \"energy type\"}).set_index(\"No\")\n",
    "                )\n",
    "\n",
    "# Category plot:\n",
    "ax = sns.boxplot(data=df_benchmark, x=\"energy use\", y=\"energy type\", color='white')\n",
    "\n",
    "ax = sns.stripplot(data=df_benchmark, x=\"energy use\", y=\"energy type\",\n",
    "                   palette=\"colorblind\"\n",
    "                   )\n",
    "\n",
    "# palette=sns.color_palette(['firebrick', 'lightcoral', 'royalblue'])\n",
    "\n",
    "ax.set(ylabel=\"\", xlabel=\"final energy use, kWh/m²\")\n",
    "plt.xticks(np.arange(0, 501, 100))\n",
    "sns.despine(left=True, offset=5)"
   ]
  },
  {
   "cell_type": "markdown",
   "metadata": {},
   "source": [
    "Compare benchmark with simulation results, first with the initial hvac system:"
   ]
  },
  {
   "cell_type": "code",
   "execution_count": null,
   "metadata": {},
   "outputs": [],
   "source": [
    "# Steps 1, 2 and 3, initial hvac system:\n",
    "df_hvac_init = df_end_use_allsteps[[\"a\", \"b\", \"c\"]]"
   ]
  },
  {
   "cell_type": "code",
   "execution_count": null,
   "metadata": {
    "code_folding": []
   },
   "outputs": [],
   "source": [
    "# Add total energy use per energy supplier, and convert in kWh/m²:\n",
    "df_hvac_init = (df_hvac_init.append(df_hvac_init.sum().rename('Total'))\n",
    "                / net_conditioned_area * 278\n",
    "                )"
   ]
  },
  {
   "cell_type": "code",
   "execution_count": null,
   "metadata": {},
   "outputs": [],
   "source": [
    "# Reorganise the df:\n",
    "df_hvac_init = (\n",
    "    df_hvac_init.loc[\"Total\"].to_frame(\"energy use\").reset_index()\n",
    "    .drop(\"Step\", axis=1)\n",
    ")\n",
    "\n",
    "df_hvac_init = pd.pivot_table(df_hvac_init,\n",
    "                              values='energy use',\n",
    "                              index=['Run name'], columns=['FuelType']\n",
    "                              )"
   ]
  },
  {
   "cell_type": "code",
   "execution_count": null,
   "metadata": {},
   "outputs": [],
   "source": [
    "# Add a column with total energy use:\n",
    "df_hvac_init[\"Total, kWh/m²\"] = (\n",
    "    df_hvac_init[\"Electricity\"] + df_hvac_init[\"Natural Gas\"]\n",
    ")\n",
    "\n",
    "df_hvac_init = df_hvac_init.stack().to_frame(\n",
    "    \"energy use\").reset_index().set_index(\"Run name\")"
   ]
  },
  {
   "cell_type": "code",
   "execution_count": null,
   "metadata": {},
   "outputs": [],
   "source": [
    "fig, ax = plt.subplots(figsize=(7, 3))\n",
    "\n",
    "\n",
    "ax = sns.stripplot(data=df_benchmark, x=\"energy use\", y=\"energy type\",\n",
    "                   color=\".8\")\n",
    "\n",
    "ax = sns.stripplot(data=df_hvac_init, x=\"energy use\", y=\"FuelType\",\n",
    "                   palette=\"colorblind\",\n",
    "                   linewidth=0.5\n",
    "                   )\n",
    "\n",
    "# palette=sns.color_palette(['firebrick', 'lightcoral', 'royalblue'])\n",
    "\n",
    "ax.set(ylabel=\"\", xlabel=\"final energy use, kWh/m²\")\n",
    "plt.xticks(np.arange(0, 501, 100))\n",
    "sns.despine(left=True, offset=5)"
   ]
  },
  {
   "cell_type": "markdown",
   "metadata": {},
   "source": [
    "Compare benchmark with simulation results, with the vav optimised hvac system:"
   ]
  },
  {
   "cell_type": "code",
   "execution_count": null,
   "metadata": {},
   "outputs": [],
   "source": [
    "df_hvac_vav = df_end_use_allsteps[[\"d\", \"e\"]]"
   ]
  },
  {
   "cell_type": "code",
   "execution_count": null,
   "metadata": {
    "code_folding": []
   },
   "outputs": [],
   "source": [
    "# Add total energy use per energy supplier, and convert in kWh/m²:\n",
    "df_hvac_vav = (df_hvac_vav.append(df_hvac_vav.sum().rename('Total'))\n",
    "               / net_conditioned_area * 278\n",
    "               )"
   ]
  },
  {
   "cell_type": "code",
   "execution_count": null,
   "metadata": {},
   "outputs": [],
   "source": [
    "# Reorganise the df:\n",
    "df_hvac_vav = (\n",
    "    df_hvac_vav.loc[\"Total\"].to_frame(\"energy use\").reset_index()\n",
    "    .drop(\"Step\", axis=1)\n",
    ")\n",
    "\n",
    "df_hvac_vav = pd.pivot_table(df_hvac_vav,\n",
    "                             values='energy use',\n",
    "                             index=['Run name'], columns=['FuelType']\n",
    "                             )"
   ]
  },
  {
   "cell_type": "code",
   "execution_count": null,
   "metadata": {},
   "outputs": [],
   "source": [
    "# Add a column with total energy use:\n",
    "df_hvac_vav[\"Total, kWh/m²\"] = (\n",
    "    df_hvac_vav[\"Electricity\"] + df_hvac_vav[\"Natural Gas\"]\n",
    ")\n",
    "\n",
    "df_hvac_vav = df_hvac_vav.stack().to_frame(\n",
    "    \"energy use\").reset_index().set_index(\"Run name\")"
   ]
  },
  {
   "cell_type": "code",
   "execution_count": null,
   "metadata": {},
   "outputs": [],
   "source": [
    "fig, ax = plt.subplots(figsize=(7, 3))\n",
    "\n",
    "\n",
    "ax = sns.stripplot(data=df_benchmark, x=\"energy use\", y=\"energy type\",\n",
    "                   color=\".8\")\n",
    "\n",
    "ax = sns.stripplot(data=df_hvac_vav, x=\"energy use\", y=\"FuelType\",\n",
    "                   palette=\"colorblind\",\n",
    "                   linewidth=0.5\n",
    "                   )\n",
    "\n",
    "# palette=sns.color_palette(['firebrick', 'lightcoral', 'royalblue'])\n",
    "\n",
    "ax.set(ylabel=\"\", xlabel=\"final energy use, kWh/m²\")\n",
    "plt.xticks(np.arange(0, 501, 100))\n",
    "sns.despine(left=True, offset=5)"
   ]
  },
  {
   "cell_type": "markdown",
   "metadata": {},
   "source": [
    "## Comparative Analysis Step by Step"
   ]
  },
  {
   "cell_type": "markdown",
   "metadata": {},
   "source": [
    "### Step 1: Different glazing types, w/o shading devices"
   ]
  },
  {
   "cell_type": "markdown",
   "metadata": {},
   "source": [
    "Labels for xticks in the next graphs:"
   ]
  },
  {
   "cell_type": "code",
   "execution_count": null,
   "metadata": {},
   "outputs": [],
   "source": [
    "labels = [enduse for enduse in df_end_use_allsteps.index]\n",
    "n_ref = []\n",
    "for i in range(len(labels)):\n",
    "    n_ref.append(i + 1)\n",
    "    print(labels[i], \":\", n_ref[i], \"\\n\")"
   ]
  },
  {
   "cell_type": "markdown",
   "metadata": {},
   "source": [
    "In the following graphs, blue is used to represent electricity use, while red corresponds to natural gas use."
   ]
  },
  {
   "cell_type": "code",
   "execution_count": null,
   "metadata": {
    "scrolled": false
   },
   "outputs": [],
   "source": [
    "code = \"a\"\n",
    "ylim = 90\n",
    "title = (\"Step 1: different types of glazing,\" +\n",
    "         \" w/o shading devices,\" +\n",
    "         \" kWh/m² of net conditioned area\")\n",
    "\n",
    "# Vertical bar chart with all end uses:\n",
    "end_use_v_plot(code, df_end_use_allsteps, ylim, title)\n",
    "\n",
    "print(\"\\n\\n\")\n",
    "# Another kind of plot with heating and cooling load:\n",
    "heat_cool_h_plot(code, df_end_use_allsteps, ylim, title)\n",
    "\n",
    "print(\"\\n\\n\")\n",
    "# Horizontal bar chart with total energy use,\n",
    "# w/ indications of cooling+heating load, and total hvac kind:\n",
    "total_end_use_h_plot(code, 300, title)"
   ]
  },
  {
   "cell_type": "markdown",
   "metadata": {},
   "source": [
    "### Step 2: Different glazing types, w/ interior shading devices"
   ]
  },
  {
   "cell_type": "code",
   "execution_count": null,
   "metadata": {
    "scrolled": false
   },
   "outputs": [],
   "source": [
    "code = \"b\"\n",
    "ylim = 90\n",
    "title = (\"Step 2:\" +\n",
    "         \" with interior shading devices,\" +\n",
    "         \" kWh/m² of net conditioned area\")\n",
    "# Vertical bar chart with all end uses:\n",
    "end_use_v_plot(code, df_end_use_allsteps, ylim, title)\n",
    "\n",
    "print(\"\\n\\n\")\n",
    "# Another kind of plot with heating and cooling load:\n",
    "heat_cool_h_plot(code, df_end_use_allsteps, ylim, title)\n",
    "\n",
    "print(\"\\n\\n\")\n",
    "# Horizontal bar chart with total energy use,\n",
    "# w/ indications of cooling+heating load, and total hvac kind:\n",
    "total_end_use_h_plot(code, 300, title)"
   ]
  },
  {
   "cell_type": "markdown",
   "metadata": {},
   "source": [
    "### Step 3: Different glazing types, w/ exterior shading devices"
   ]
  },
  {
   "cell_type": "code",
   "execution_count": null,
   "metadata": {
    "scrolled": false
   },
   "outputs": [],
   "source": [
    "code = \"c\"\n",
    "ylim = 90\n",
    "title = (\"Step 3:\" +\n",
    "         \" with exterior shading devices,\" +\n",
    "         \" kWh/m² of net conditioned area\")\n",
    "# Vertical bar chart with all end uses:\n",
    "end_use_v_plot(code, df_end_use_allsteps, ylim, title)\n",
    "\n",
    "print(\"\\n\\n\")\n",
    "# Another kind of plot with heating and cooling load:\n",
    "heat_cool_h_plot(code, df_end_use_allsteps, ylim, title)\n",
    "\n",
    "print(\"\\n\\n\")\n",
    "# Horizontal bar chart with total energy use,\n",
    "# w/ indications of cooling+heating load, and total hvac kind:\n",
    "total_end_use_h_plot(code, 300, title)"
   ]
  },
  {
   "cell_type": "markdown",
   "metadata": {},
   "source": [
    "### Step 1-3: Different Glazing Types, Old HVAC System"
   ]
  },
  {
   "cell_type": "markdown",
   "metadata": {},
   "source": [
    "<span style=\"color: red;\">Note JM: This looks a bit weird, lots of whitespace.</span>"
   ]
  },
  {
   "cell_type": "code",
   "execution_count": null,
   "metadata": {
    "scrolled": true
   },
   "outputs": [],
   "source": [
    "# Convert to kWh/m²:\n",
    "df_plot = (df_end_use_total / net_conditioned_area * 278)\n",
    "# Consider only step 1, 2, 3:\n",
    "df_plot = df_plot[['a', 'b', 'c']].T.reset_index()\n",
    "\n",
    "# Category plot:\n",
    "ax = sns.catplot(data=df_plot, x=\"IGU\", y=\"Total\", hue=\"Step\",\n",
    "                 # kind=\"point\", capsize=.1,\n",
    "                 palette=\"tab20\", height=5, aspect=1\n",
    "                 )\n",
    "\n",
    "# palette=sns.color_palette(['firebrick', 'lightcoral', 'royalblue'])\n",
    "\n",
    "(ax.set_axis_labels(\"\", \"total end use, kWh/m²\")\n",
    " .set_titles(\"{col_var} {col_name}\", fontsize=17, y=1.1)\n",
    " .set(ylim=(0, 250))\n",
    " .despine(left=True, bottom=True, offset=5)\n",
    " )\n",
    "plt.show()"
   ]
  },
  {
   "cell_type": "code",
   "execution_count": null,
   "metadata": {},
   "outputs": [],
   "source": [
    "# Convert to kWh/m²:\n",
    "df_plot = (df_end_use_total / net_conditioned_area * 278)\n",
    "# Consider only step 1, 2, 3:\n",
    "df_plot = df_plot[['a', 'b', 'c']].T.reset_index()\n",
    "\n",
    "# Category plot:\n",
    "ax = sns.catplot(data=df_plot, x=\"IGU\", y=\"Total\", col=\"Step\",\n",
    "                 height=5, aspect=1, palette=\"copper\"\n",
    "                 )\n",
    "\n",
    "# palette=sns.color_palette(['firebrick', 'lightcoral', 'royalblue'])\n",
    "\n",
    "(ax.set_axis_labels(\"\", \"total end use, kWh/m²\")\n",
    " .set_titles(\"{col_var} {col_name}\", fontsize=17, y=1.1)\n",
    " .set(ylim=(0, 250))\n",
    " .despine(left=True, bottom=True, offset=5)\n",
    " )\n",
    "plt.show()"
   ]
  },
  {
   "cell_type": "markdown",
   "metadata": {},
   "source": [
    "### Step 4: Efficient VAV w/o shading devices"
   ]
  },
  {
   "cell_type": "code",
   "execution_count": null,
   "metadata": {
    "scrolled": false
   },
   "outputs": [],
   "source": [
    "code = \"d\"\n",
    "ylim = 65\n",
    "title = (\"Step 4: efficient VAV system. Without shading devices. \" +\n",
    "         \" kWh/m² of net conditioned area\")\n",
    "\n",
    "# Another kind of plot with heating and cooling load:\n",
    "heat_cool_h_plot(code, df_end_use_allsteps, ylim, title)\n",
    "\n",
    "print(\"\\n\\n\")\n",
    "# Horizontal bar chart with total energy use,\n",
    "# w/ indications of cooling+heating load, and total hvac kind:\n",
    "total_end_use_h_plot(code, 300, title)"
   ]
  },
  {
   "cell_type": "markdown",
   "metadata": {},
   "source": [
    "### Step 5: Efficient VAV w/ interior shading devices"
   ]
  },
  {
   "cell_type": "code",
   "execution_count": null,
   "metadata": {
    "scrolled": false
   },
   "outputs": [],
   "source": [
    "code = \"e\"\n",
    "ylim = 65\n",
    "title = (\"Step 5: efficient VAV system. W/ interior shading devices.\" +\n",
    "         \" kWh/m² of net conditioned area\")\n",
    "\n",
    "# Another kind of plot with heating and cooling load:\n",
    "heat_cool_h_plot(code, df_end_use_allsteps, ylim, title)\n",
    "\n",
    "print(\"\\n\\n\")\n",
    "# Horizontal bar chart with total energy use,\n",
    "# w/ indications of cooling+heating load, and total hvac kind:\n",
    "total_end_use_h_plot(code, 300, title)"
   ]
  },
  {
   "cell_type": "code",
   "execution_count": null,
   "metadata": {},
   "outputs": [],
   "source": [
    "# Convert to kWh/m²:\n",
    "df_plot = (df_end_use_total / net_conditioned_area * 278)\n",
    "# Consider only steps 1, 4, 6:\n",
    "df_plot = df_plot[['a', 'd', 'e']].T.reset_index()\n",
    "\n",
    "# Category plot:\n",
    "ax = sns.catplot(data=df_plot, x=\"IGU\", y=\"Total\", hue=\"Step\",\n",
    "                 # kind=\"point\", capsize=.1,\n",
    "                 palette=\"twilight\", height=5, aspect=1\n",
    "                 )\n",
    "\n",
    "# palette=sns.color_palette(['firebrick', 'lightcoral', 'royalblue'])\n",
    "\n",
    "(ax.set_axis_labels(\"\", \"total end use, kWh/m²\")\n",
    " .set_titles(\"{col_var} {col_name}\", fontsize=17, y=1.1)\n",
    " .set(ylim=(0, 250))\n",
    " .despine(left=True, bottom=True, offset=5)\n",
    " )\n",
    "plt.show()"
   ]
  },
  {
   "cell_type": "markdown",
   "metadata": {},
   "source": [
    "### Step 6: VRF System, without shading devices"
   ]
  },
  {
   "cell_type": "code",
   "execution_count": null,
   "metadata": {
    "scrolled": false
   },
   "outputs": [],
   "source": [
    "code = \"f\"\n",
    "ylim = 65\n",
    "title = (\"Step 6: efficient VRF system. Without shading devices.\" +\n",
    "         \" kWh/m² of net conditioned area\")\n",
    "\n",
    "# Another kind of plot with heating and cooling load:\n",
    "heat_cool_h_plot(code, df_end_use_allsteps, ylim, title)\n",
    "\n",
    "print(\"\\n\\n\")\n",
    "# Horizontal bar chart with total energy use,\n",
    "# w/ indications of cooling+heating load, and total hvac kind:\n",
    "total_end_use_h_plot(code, 300, title)"
   ]
  },
  {
   "cell_type": "markdown",
   "metadata": {},
   "source": [
    "### Step 7:  VRF System, with interior shading devices"
   ]
  },
  {
   "cell_type": "code",
   "execution_count": null,
   "metadata": {
    "scrolled": false
   },
   "outputs": [],
   "source": [
    "code = \"g\"\n",
    "ylim = 65\n",
    "title = (\"Step 7: efficient VRF system. With interior shading devices.\" +\n",
    "         \" kWh/m² of net conditioned area\")\n",
    "\n",
    "# Another kind of plot with heating and cooling load:\n",
    "heat_cool_h_plot(code, df_end_use_allsteps, ylim, title)\n",
    "\n",
    "print(\"\\n\\n\")\n",
    "# Horizontal bar chart with total energy use,\n",
    "# w/ indications of cooling+heating load, and total hvac kind:\n",
    "total_end_use_h_plot(code, 300, title)"
   ]
  },
  {
   "cell_type": "markdown",
   "metadata": {},
   "source": [
    "### HVAC Systems: Comparative Analysis (old one, VAV, VRF)"
   ]
  },
  {
   "cell_type": "markdown",
   "metadata": {},
   "source": [
    "Firt, comparative analysis without shading devices:"
   ]
  },
  {
   "cell_type": "code",
   "execution_count": null,
   "metadata": {},
   "outputs": [],
   "source": [
    "# Convert to kWh/m²:\n",
    "df_plot = (df_end_use_total / net_conditioned_area * 278)\n",
    "# Consider only steps 1, 4, 6:\n",
    "df_plot = df_plot[['a', 'd', 'f']].T.reset_index()\n",
    "\n",
    "# Category plot:\n",
    "ax = sns.catplot(data=df_plot, x=\"IGU\", y=\"Total\", hue=\"Step\",\n",
    "                 # kind=\"point\", capsize=.1,\n",
    "                 palette=\"twilight\", height=5, aspect=1\n",
    "                 )\n",
    "\n",
    "# palette=sns.color_palette(['firebrick', 'lightcoral', 'royalblue'])\n",
    "\n",
    "(ax.set_axis_labels(\"\", \"total end use, kWh/m²\")\n",
    " .set_titles(\"{col_var} {col_name}\", fontsize=17, y=1.1)\n",
    " .set(ylim=(0, 250))\n",
    " .despine(left=True, bottom=True, offset=5)\n",
    " )\n",
    "plt.show()"
   ]
  },
  {
   "cell_type": "code",
   "execution_count": null,
   "metadata": {},
   "outputs": [],
   "source": [
    "# Convert to kWh/m²:\n",
    "df_plot = (df_end_use_total / net_conditioned_area * 278)\n",
    "# Consider only step 1, 4, 6:\n",
    "df_plot = df_plot[['a', 'd', 'f']].T.reset_index()\n",
    "\n",
    "# Category plot:\n",
    "ax = sns.catplot(data=df_plot, x=\"IGU\", y=\"Total\", col=\"Step\",\n",
    "                 height=5, aspect=1, palette=\"twilight\"\n",
    "                 )\n",
    "\n",
    "# palette=sns.color_palette(['firebrick', 'lightcoral', 'royalblue'])\n",
    "\n",
    "(ax.set_axis_labels(\"\", \"total end use, kWh/m²\")\n",
    " .set_titles(\"{col_var} {col_name}\", fontsize=17, y=1.1)\n",
    " .set(ylim=(0, 250))\n",
    " .despine(left=True, bottom=True, offset=5)\n",
    " )\n",
    "plt.show()"
   ]
  },
  {
   "cell_type": "markdown",
   "metadata": {},
   "source": [
    "Second, comparative analysis with internal shading devices:"
   ]
  },
  {
   "cell_type": "code",
   "execution_count": null,
   "metadata": {},
   "outputs": [],
   "source": [
    "# Convert to kWh/m²:\n",
    "df_plot = (df_end_use_total / net_conditioned_area * 278)\n",
    "# Consider only step 2, 5, 7:\n",
    "df_plot = df_plot[['b', 'e', 'g']].T.reset_index()\n",
    "\n",
    "# Category plot:\n",
    "ax = sns.catplot(data=df_plot, x=\"IGU\", y=\"Total\", hue=\"Step\",\n",
    "                 # kind=\"point\", capsize=.1,\n",
    "                 palette=\"twilight\", height=5, aspect=1\n",
    "                 )\n",
    "\n",
    "# palette=sns.color_palette(['firebrick', 'lightcoral', 'royalblue'])\n",
    "\n",
    "(ax.set_axis_labels(\"\", \"total end use, kWh/m²\")\n",
    " .set_titles(\"{col_var} {col_name}\", fontsize=17, y=1.1)\n",
    " .set(ylim=(0, 250))\n",
    " .despine(left=True, bottom=True, offset=5)\n",
    " )\n",
    "plt.show()"
   ]
  },
  {
   "cell_type": "code",
   "execution_count": null,
   "metadata": {},
   "outputs": [],
   "source": [
    "# Convert to kWh/m²:\n",
    "df_plot = (df_end_use_total / net_conditioned_area * 278)\n",
    "# Consider only step 2, 5, 7:\n",
    "df_plot = df_plot[['b', 'e', 'g']].T.reset_index()\n",
    "\n",
    "# Category plot:\n",
    "ax = sns.catplot(data=df_plot, x=\"IGU\", y=\"Total\", col=\"Step\",\n",
    "                 height=5, aspect=1, palette=\"twilight\"\n",
    "                 )\n",
    "\n",
    "# palette=sns.color_palette(['firebrick', 'lightcoral', 'royalblue'])\n",
    "\n",
    "(ax.set_axis_labels(\"\", \"total end use, kWh/m²\")\n",
    " .set_titles(\"{col_var} {col_name}\", fontsize=17, y=1.1)\n",
    " .set(ylim=(0, 250))\n",
    " .despine(left=True, bottom=True, offset=5)\n",
    " )\n",
    "plt.show()"
   ]
  },
  {
   "cell_type": "markdown",
   "metadata": {},
   "source": [
    "### Step 8: 75% reduction of the w-to-w ratio"
   ]
  },
  {
   "cell_type": "code",
   "execution_count": null,
   "metadata": {
    "scrolled": false
   },
   "outputs": [],
   "source": [
    "code = \"h\"\n",
    "ylim = 90\n",
    "title = (\"Step 8: 75% reduction of the window-to-wall ratio \" +\n",
    "         \" without shading devices,\" +\n",
    "         \" kWh/m² of net conditioned area\")\n",
    "\n",
    "print(\"\\n\\n\")\n",
    "# Another kind of plot with heating and cooling load:\n",
    "heat_cool_h_plot(code, df_end_use_allsteps, ylim, title)\n",
    "\n",
    "print(\"\\n\\n\")\n",
    "# Horizontal bar chart with total energy use,\n",
    "# w/ indications of cooling+heating load, and total hvac kind:\n",
    "total_end_use_h_plot(code, 300, title)"
   ]
  },
  {
   "cell_type": "markdown",
   "metadata": {},
   "source": [
    "### Window-to-Wall Ratio: Comparative Analysis"
   ]
  },
  {
   "cell_type": "markdown",
   "metadata": {},
   "source": [
    "With optimised VAV system:\n",
    "- Fully glazed without shading devices (step d)\n",
    "- Fully glazed with interior shading devices (step e)\n",
    "- 75% glazed with shading devices (step h) "
   ]
  },
  {
   "cell_type": "code",
   "execution_count": null,
   "metadata": {},
   "outputs": [],
   "source": [
    "# Convert to kWh/m²:\n",
    "df_plot = (df_end_use_total / net_conditioned_area * 278)\n",
    "# Consider only steps 4, 5, 8:\n",
    "df_plot = df_plot[['d', 'e', 'h']].T.reset_index()\n",
    "\n",
    "# Category plot:\n",
    "ax = sns.catplot(data=df_plot, x=\"IGU\", y=\"Total\", hue=\"Step\",\n",
    "                 # kind=\"point\", capsize=.1,\n",
    "                 palette=\"twilight\", height=5, aspect=1\n",
    "                 )\n",
    "\n",
    "# palette=sns.color_palette(['firebrick', 'lightcoral', 'royalblue'])\n",
    "\n",
    "(ax.set_axis_labels(\"\", \"total end use, kWh/m²\")\n",
    " .set_titles(\"{col_var} {col_name}\", fontsize=17, y=1.1)\n",
    " .set(ylim=(0, 250))\n",
    " .despine(left=True, bottom=True, offset=5)\n",
    " )\n",
    "plt.show()"
   ]
  },
  {
   "cell_type": "markdown",
   "metadata": {},
   "source": [
    "### Step 9: High-Tech Retrofitting"
   ]
  },
  {
   "cell_type": "code",
   "execution_count": null,
   "metadata": {
    "scrolled": false
   },
   "outputs": [],
   "source": [
    "code = \"i\"\n",
    "ylim = 90\n",
    "title = (\"Step 9: high-tech retrofitting.\" +\n",
    "         \" kWh/m² of net conditioned area\")\n",
    "\n",
    "print(\"\\n\\n\")\n",
    "# Another kind of plot with heating and cooling load:\n",
    "heat_cool_h_plot(code, df_end_use_allsteps, ylim, title)\n",
    "\n",
    "print(\"\\n\\n\")\n",
    "# Horizontal bar chart with total energy use,\n",
    "# w/ indications of cooling+heating load, and total hvac kind:\n",
    "total_end_use_h_plot(code, 300, title)"
   ]
  },
  {
   "cell_type": "markdown",
   "metadata": {},
   "source": [
    "To compare with classic IGUs:"
   ]
  },
  {
   "cell_type": "code",
   "execution_count": null,
   "metadata": {},
   "outputs": [],
   "source": [
    "code = \"e\"\n",
    "ylim = 90\n",
    "title = (\"Step 4: efficient VAV system. With interior shadings. \" +\n",
    "         \" kWh/m² of net conditioned area\")\n",
    "\n",
    "print(\"\\n\\n\")\n",
    "# Horizontal bar chart with total energy use,\n",
    "# w/ indications of cooling+heating load, and total hvac kind:\n",
    "total_end_use_h_plot(code, 300, title)"
   ]
  },
  {
   "cell_type": "markdown",
   "metadata": {},
   "source": [
    "### Step 10: Americanisation"
   ]
  },
  {
   "cell_type": "markdown",
   "metadata": {},
   "source": [
    "- Cooling setpoint: 24°C\n",
    "- Heating setpoint: 21°C\n",
    "- Without shading devices"
   ]
  },
  {
   "cell_type": "code",
   "execution_count": null,
   "metadata": {
    "scrolled": false
   },
   "outputs": [],
   "source": [
    "code = \"j\"\n",
    "ylim = 90\n",
    "title = (\"Step 10: Americanisation of the interior climate. \" +\n",
    "         \" kWh/m² of net conditioned area\")\n",
    "\n",
    "print(\"\\n\\n\")\n",
    "# Another kind of plot with heating and cooling load:\n",
    "heat_cool_h_plot(code, df_end_use_allsteps, ylim, title)\n",
    "\n",
    "print(\"\\n\\n\")\n",
    "# Horizontal bar chart with total energy use,\n",
    "# w/ indications of cooling+heating load, and total hvac kind:\n",
    "total_end_use_h_plot(code, 300, title)"
   ]
  },
  {
   "cell_type": "markdown",
   "metadata": {},
   "source": [
    "### Step 11: sufficiency path"
   ]
  },
  {
   "cell_type": "markdown",
   "metadata": {},
   "source": [
    "- Cooling setpoint: 19°C\n",
    "- Heating setpoint: 27°C\n",
    "- With exterior shading devices"
   ]
  },
  {
   "cell_type": "code",
   "execution_count": null,
   "metadata": {
    "scrolled": false
   },
   "outputs": [],
   "source": [
    "code = \"k\"\n",
    "ylim = 90\n",
    "title = (\"Step 11: Sufficiency path. \" +\n",
    "         \" kWh/m² of net conditioned area\")\n",
    "\n",
    "print(\"\\n\\n\")\n",
    "# Another kind of plot with heating and cooling load:\n",
    "heat_cool_h_plot(code, df_end_use_allsteps, ylim, title)\n",
    "\n",
    "print(\"\\n\\n\")\n",
    "# Horizontal bar chart with total energy use,\n",
    "# w/ indications of cooling+heating load, and total hvac kind:\n",
    "total_end_use_h_plot(code, 300, title)"
   ]
  },
  {
   "cell_type": "markdown",
   "metadata": {},
   "source": [
    "### Indoor Climate: Comparative Analysis"
   ]
  },
  {
   "cell_type": "code",
   "execution_count": null,
   "metadata": {},
   "outputs": [],
   "source": [
    "# Convert to kWh/m²:\n",
    "df_plot = (df_end_use_total / net_conditioned_area * 278)\n",
    "# Consider only step 4, 10, 11:\n",
    "df_plot = df_plot[['d', 'j', 'k']].T.reset_index()\n",
    "# Drop single glazing:\n",
    "df_plot = df_plot[df_plot.IGU != \"sg\"]\n",
    "\n",
    "# Category plot:\n",
    "ax = sns.catplot(data=df_plot, x=\"IGU\", y=\"Total\", hue=\"Step\",\n",
    "                 # kind=\"point\", capsize=.1,\n",
    "                 palette=\"twilight\", height=5, aspect=1\n",
    "                 )\n",
    "\n",
    "# palette=sns.color_palette(['firebrick', 'lightcoral', 'royalblue'])\n",
    "\n",
    "(ax.set_axis_labels(\"\", \"total end use, kWh/m²\")\n",
    " .set_titles(\"{col_var} {col_name}\", fontsize=17, y=1.1)\n",
    " .set(ylim=(0, 250))\n",
    " .despine(left=True, bottom=True, offset=5)\n",
    " )\n",
    "plt.show()"
   ]
  },
  {
   "cell_type": "code",
   "execution_count": null,
   "metadata": {},
   "outputs": [],
   "source": [
    "# Convert to kWh/m²:\n",
    "df_plot = (df_end_use_total / net_conditioned_area * 278)\n",
    "# Consider only step 4, 10, 11:\n",
    "df_plot = df_plot[['d', 'j', 'k']].T.reset_index()\n",
    "\n",
    "# Category plot:\n",
    "ax = sns.catplot(data=df_plot, x=\"IGU\", y=\"Total\", col=\"Step\",\n",
    "                 height=5, aspect=1, palette=\"twilight\"\n",
    "                 )\n",
    "\n",
    "# palette=sns.color_palette(['firebrick', 'lightcoral', 'royalblue'])\n",
    "\n",
    "(ax.set_axis_labels(\"\", \"total end use, kWh/m²\")\n",
    " .set_titles(\"{col_var} {col_name}\", fontsize=17, y=1.1)\n",
    " .set(ylim=(0, 250))\n",
    " .despine(left=True, bottom=True, offset=5)\n",
    " )\n",
    "plt.show()"
   ]
  },
  {
   "cell_type": "markdown",
   "metadata": {},
   "source": [
    "### Step 12: Increase of the internal gains"
   ]
  },
  {
   "cell_type": "markdown",
   "metadata": {},
   "source": [
    "- Step 12: Increase of the internal gains. Density of 6.5 m²/p. instead of 10m²/p; lighting power of 10 W/m² instead of 8 W/m²."
   ]
  },
  {
   "cell_type": "code",
   "execution_count": null,
   "metadata": {
    "scrolled": false
   },
   "outputs": [],
   "source": [
    "code = \"l\"\n",
    "ylim = 90\n",
    "title = (\"Step 12: Increased internal gains. \" +\n",
    "         \" kWh/m² of net conditioned area\")\n",
    "\n",
    "print(\"\\n\\n\")\n",
    "# Another kind of plot with heating and cooling load:\n",
    "heat_cool_h_plot(code, df_end_use_allsteps, ylim, title)\n",
    "\n",
    "print(\"\\n\\n\")\n",
    "# Horizontal bar chart with total energy use,\n",
    "# w/ indications of cooling+heating load, and total hvac kind:\n",
    "total_end_use_h_plot(code, 300, title)"
   ]
  },
  {
   "cell_type": "markdown",
   "metadata": {},
   "source": [
    "### Step 13: Decrease of the internal gains"
   ]
  },
  {
   "cell_type": "markdown",
   "metadata": {},
   "source": [
    "- Step 13: Decrease of the internal gains. Density of 10 m²/p. instead of 8m²/p; lighting power of 5 W/m² instead of 8 W/m²."
   ]
  },
  {
   "cell_type": "code",
   "execution_count": null,
   "metadata": {
    "scrolled": false
   },
   "outputs": [],
   "source": [
    "code = \"m\"\n",
    "ylim = 90\n",
    "title = (\"Step 13: Decreased internal gains. \" +\n",
    "         \" kWh/m² of net conditioned area\")\n",
    "\n",
    "print(\"\\n\\n\")\n",
    "# Another kind of plot with heating and cooling load:\n",
    "heat_cool_h_plot(code, df_end_use_allsteps, ylim, title)\n",
    "\n",
    "print(\"\\n\\n\")\n",
    "# Horizontal bar chart with total energy use,\n",
    "# w/ indications of cooling+heating load, and total hvac kind:\n",
    "total_end_use_h_plot(code, 300, title)"
   ]
  },
  {
   "cell_type": "markdown",
   "metadata": {},
   "source": [
    "### Internal Gains: Comparative Analysis"
   ]
  },
  {
   "cell_type": "code",
   "execution_count": null,
   "metadata": {},
   "outputs": [],
   "source": [
    "# Convert to kWh/m²:\n",
    "df_plot = (df_end_use_total / net_conditioned_area * 278)\n",
    "# Consider only step 5, 12, 13:\n",
    "df_plot = df_plot[['e', 'l', 'm']].T.reset_index()\n",
    "# Drop single glazing:\n",
    "df_plot = df_plot[df_plot.IGU != \"sg\"]\n",
    "\n",
    "# Category plot:\n",
    "ax = sns.catplot(data=df_plot, x=\"IGU\", y=\"Total\", hue=\"Step\",\n",
    "                 # kind=\"point\", capsize=.1,\n",
    "                 palette=\"twilight\", height=5, aspect=1\n",
    "                 )\n",
    "\n",
    "# palette=sns.color_palette(['firebrick', 'lightcoral', 'royalblue'])\n",
    "\n",
    "(ax.set_axis_labels(\"\", \"total end use, kWh/m²\")\n",
    " .set_titles(\"{col_var} {col_name}\", fontsize=17, y=1.1)\n",
    " .set(ylim=(0, 250))\n",
    " .despine(left=True, bottom=True, offset=5)\n",
    " )\n",
    "plt.show()"
   ]
  },
  {
   "cell_type": "code",
   "execution_count": null,
   "metadata": {},
   "outputs": [],
   "source": [
    "# Convert to kWh/m²:\n",
    "df_plot = (df_end_use_total / net_conditioned_area * 278)\n",
    "# Consider only step 5, 12, 13:\n",
    "df_plot = df_plot[['e', 'l', 'm']].T.reset_index()\n",
    "\n",
    "# Category plot:\n",
    "ax = sns.catplot(data=df_plot, x=\"IGU\", y=\"Total\", col=\"Step\",\n",
    "                 height=5, aspect=1, palette=\"twilight\"\n",
    "                 )\n",
    "\n",
    "# palette=sns.color_palette(['firebrick', 'lightcoral', 'royalblue'])\n",
    "\n",
    "(ax.set_axis_labels(\"\", \"total end use, kWh/m²\")\n",
    " .set_titles(\"{col_var} {col_name}\", fontsize=17, y=1.1)\n",
    " .set(ylim=(0, 250))\n",
    " .despine(left=True, bottom=True, offset=5)\n",
    " )\n",
    "plt.show()"
   ]
  },
  {
   "cell_type": "markdown",
   "metadata": {},
   "source": [
    "### Step 14-16: Climate Change (2069-2098 - RCP 8.5)"
   ]
  },
  {
   "cell_type": "markdown",
   "metadata": {},
   "source": [
    "- Step 14: Include interior shading devices. Cooling setpoint 26°C, heating setpoint 19°C.\n",
    "- Step 16: Without shading devices. Cooling setpoint 24°C, heating setpoint 21°C.\n",
    "- Step 18: Include exterior shading devices. Cooling setpoint 27°C, heating setpoint 19°C."
   ]
  },
  {
   "cell_type": "code",
   "execution_count": null,
   "metadata": {
    "scrolled": false
   },
   "outputs": [],
   "source": [
    "code = \"n\"\n",
    "ylim = 90\n",
    "title = (\"Step 14: Climate change. \" \n",
    "         + \"Cooling setpoint 26°C, heating setpoint 19°C. \"\n",
    "         + \"kWh/m² of net conditioned area\")\n",
    "\n",
    "print(\"\\n\\n\")\n",
    "# Another kind of plot with heating and cooling load:\n",
    "heat_cool_h_plot(code, df_end_use_allsteps, ylim, title)\n",
    "\n",
    "print(\"\\n\\n\")\n",
    "# Horizontal bar chart with total energy use,\n",
    "# w/ indications of cooling+heating load, and total hvac kind:\n",
    "total_end_use_h_plot(code, 300, title)"
   ]
  },
  {
   "cell_type": "code",
   "execution_count": null,
   "metadata": {},
   "outputs": [],
   "source": [
    "code = \"o\"\n",
    "ylim = 90\n",
    "title = (\"Step 15: Climate change. \"\n",
    "         + \"Cooling setpoint 24°C, heating setpoint 21°C. \" \n",
    "         + \"kWh/m² of net conditioned area\")\n",
    "\n",
    "print(\"\\n\\n\")\n",
    "# Another kind of plot with heating and cooling load:\n",
    "heat_cool_h_plot(code, df_end_use_allsteps, ylim, title)\n",
    "\n",
    "print(\"\\n\\n\")\n",
    "# Horizontal bar chart with total energy use,\n",
    "# w/ indications of cooling+heating load, and total hvac kind:\n",
    "total_end_use_h_plot(code, 300, title)"
   ]
  },
  {
   "cell_type": "code",
   "execution_count": null,
   "metadata": {},
   "outputs": [],
   "source": [
    "code = \"p\"\n",
    "ylim = 90\n",
    "title = (\"Step 16: Climate change. \"\n",
    "         + \"Cooling setpoint 27°C, heating setpoint 19°C. \" \n",
    "         + \"kWh/m² of net conditioned area\")\n",
    "\n",
    "print(\"\\n\\n\")\n",
    "# Another kind of plot with heating and cooling load:\n",
    "heat_cool_h_plot(code, df_end_use_allsteps, ylim, title)\n",
    "\n",
    "print(\"\\n\\n\")\n",
    "# Horizontal bar chart with total energy use,\n",
    "# w/ indications of cooling+heating load, and total hvac kind:\n",
    "total_end_use_h_plot(code, 300, title)"
   ]
  },
  {
   "cell_type": "markdown",
   "metadata": {},
   "source": [
    "### Climate Change, Comparative Analysis"
   ]
  },
  {
   "cell_type": "markdown",
   "metadata": {},
   "source": [
    "Scenario: Include interior shading devices. Cooling setpoint 26°C, heating setpoint 21°C."
   ]
  },
  {
   "cell_type": "code",
   "execution_count": null,
   "metadata": {},
   "outputs": [],
   "source": [
    "# Convert to kWh/m²:\n",
    "df_plot = (df_end_use_total / net_conditioned_area * 278)\n",
    "# Consider only step 5, 14:\n",
    "df_plot = df_plot[['e', 'n']].T.reset_index()\n",
    "# Drop single glazing:\n",
    "df_plot = df_plot[df_plot.IGU != \"sg\"]\n",
    "\n",
    "# Category plot:\n",
    "ax = sns.catplot(data=df_plot, x=\"IGU\", y=\"Total\", hue=\"Step\",\n",
    "                 # kind=\"point\", capsize=.1,\n",
    "                 palette=\"twilight\", height=5, aspect=1\n",
    "                 )\n",
    "\n",
    "# palette=sns.color_palette(['firebrick', 'lightcoral', 'royalblue'])\n",
    "\n",
    "(ax.set_axis_labels(\"\", \"total end use, kWh/m²\")\n",
    " .set_titles(\"{col_var} {col_name}\", fontsize=17, y=1.1)\n",
    " .set(ylim=(0, 250))\n",
    " .despine(left=True, bottom=True, offset=5)\n",
    " )\n",
    "plt.show()"
   ]
  },
  {
   "cell_type": "markdown",
   "metadata": {},
   "source": [
    "Scenario: No shading devices. Cooling setpoint 24°C, heating setpoint 21°C."
   ]
  },
  {
   "cell_type": "code",
   "execution_count": null,
   "metadata": {},
   "outputs": [],
   "source": [
    "# Convert to kWh/m²:\n",
    "df_plot = (df_end_use_total / net_conditioned_area * 278)\n",
    "# Consider only step 10, 15:\n",
    "df_plot = df_plot[['j', 'o']].T.reset_index()\n",
    "# Drop single glazing:\n",
    "df_plot = df_plot[df_plot.IGU != \"sg\"]\n",
    "\n",
    "# Category plot:\n",
    "ax = sns.catplot(data=df_plot, x=\"IGU\", y=\"Total\", hue=\"Step\",\n",
    "                 # kind=\"point\", capsize=.1,\n",
    "                 palette=\"twilight\", height=5, aspect=1\n",
    "                 )\n",
    "\n",
    "# palette=sns.color_palette(['firebrick', 'lightcoral', 'royalblue'])\n",
    "\n",
    "(ax.set_axis_labels(\"\", \"total end use, kWh/m²\")\n",
    " .set_titles(\"{col_var} {col_name}\", fontsize=17, y=1.1)\n",
    " .set(ylim=(0, 250))\n",
    " .despine(left=True, bottom=True, offset=5)\n",
    " )\n",
    "plt.show()"
   ]
  },
  {
   "cell_type": "markdown",
   "metadata": {},
   "source": [
    "Scenario: Include exterior shading devices. Cooling setpoint 27°C, heating setpoint 19°C."
   ]
  },
  {
   "cell_type": "code",
   "execution_count": null,
   "metadata": {},
   "outputs": [],
   "source": [
    "# Convert to kWh/m²:\n",
    "df_plot = (df_end_use_total / net_conditioned_area * 278)\n",
    "# Consider only step 11, 16:\n",
    "df_plot = df_plot[['k', 'p']].T.reset_index()\n",
    "# Drop single glazing:\n",
    "df_plot = df_plot[df_plot.IGU != \"sg\"]\n",
    "\n",
    "# Category plot:\n",
    "ax = sns.catplot(data=df_plot, x=\"IGU\", y=\"Total\", hue=\"Step\",\n",
    "                 # kind=\"point\", capsize=.1,\n",
    "                 palette=\"twilight\", height=5, aspect=1\n",
    "                 )\n",
    "\n",
    "# palette=sns.color_palette(['firebrick', 'lightcoral', 'royalblue'])\n",
    "\n",
    "(ax.set_axis_labels(\"\", \"total end use, kWh/m²\")\n",
    " .set_titles(\"{col_var} {col_name}\", fontsize=17, y=1.1)\n",
    " .set(ylim=(0, 250))\n",
    " .despine(left=True, bottom=True, offset=5)\n",
    " )\n",
    "plt.show()"
   ]
  },
  {
   "cell_type": "markdown",
   "metadata": {},
   "source": [
    "## Heat Gain and Heat Loss through Windows"
   ]
  },
  {
   "cell_type": "markdown",
   "metadata": {},
   "source": [
    "### Setup to recover useful data"
   ]
  },
  {
   "cell_type": "markdown",
   "metadata": {},
   "source": [
    "First, the Outdoor Air Drybulb Temperature:"
   ]
  },
  {
   "cell_type": "code",
   "execution_count": null,
   "metadata": {},
   "outputs": [],
   "source": [
    "temp_vars = ['Site Outdoor Air Drybulb Temperature']\n",
    "# Find the output data from the last simulation run:\n",
    "eplus_sql = EPLusSQL(sql_path=str(Path('outputs/energyplus/eplusout.sql')))\n",
    "# Define a DataFrame with temperature:\n",
    "df_temp = eplus_sql.get_hourly_variables(variables_list=temp_vars)"
   ]
  },
  {
   "cell_type": "code",
   "execution_count": null,
   "metadata": {},
   "outputs": [],
   "source": [
    "# Clean the DataFrame and mean the temperature per hour:\n",
    "df_temp.columns = df_temp.columns.droplevel(\"Units\")\n",
    "df_temp.columns = df_temp.columns.droplevel(\"KeyValue\")"
   ]
  },
  {
   "cell_type": "code",
   "execution_count": null,
   "metadata": {},
   "outputs": [],
   "source": [
    "df_temp.plot()"
   ]
  },
  {
   "cell_type": "code",
   "execution_count": null,
   "metadata": {},
   "outputs": [],
   "source": [
    "# Define a dataframe with temperature during daytime (8am 8pm), mean per day:\n",
    "df_temp_d = df_temp.between_time('8:00', '20:00')\n",
    "df_temp_d = df_temp_d.resample('D').mean()"
   ]
  },
  {
   "cell_type": "markdown",
   "metadata": {},
   "source": [
    "Define a function to recover the hourly reporting variables from the csv file saved after each simulation run:"
   ]
  },
  {
   "cell_type": "code",
   "execution_count": null,
   "metadata": {},
   "outputs": [],
   "source": [
    "def recover_df_hourly(run_code):\n",
    "    \"\"\"\n",
    "    Define a Dataframe from the df_h_run.csv, where hourly reporting \n",
    "    variables have been saved for each simulation run  \n",
    "\n",
    "    Parameters\n",
    "    ----------\n",
    "    run_code: code of the simulation run\n",
    "    df_h_run: a dataframe. followed by a code (e.g. \"b_e\"), \n",
    "        where hourly reporting variables will be saved\n",
    "\n",
    "\n",
    "    Returns\n",
    "    -------\n",
    "    df_h_run\n",
    "\n",
    "    \"\"\"\n",
    "\n",
    "    # Does the csv exist\n",
    "    # And define the df_h_run:\n",
    "    if os.path.isfile(f\"outputs\\steps_dir\\df_h_run_\"+str(run_code)+\".csv\"):\n",
    "        df_h_run = (\n",
    "            pd.read_csv(f\"outputs\\steps_dir\\df_h_run_\"+str(run_code)+\".csv\",\n",
    "                        header=[0, 1, 2], index_col=0)\n",
    "        )\n",
    "\n",
    "        # Converting the index as date\n",
    "        df_h_run.index = pd.to_datetime(df_h_run.index)\n",
    "        \n",
    "    else:\n",
    "        print(\"df_h_run does not exist\")\n",
    "\n",
    "    return df_h_run"
   ]
  },
  {
   "cell_type": "markdown",
   "metadata": {},
   "source": [
    "Define a function to get a dataframe only with heat gain/loss through the windows in the whole building, per day from 8am to 8pm:"
   ]
  },
  {
   "cell_type": "code",
   "execution_count": null,
   "metadata": {},
   "outputs": [],
   "source": [
    "def df_heat_window(df_h_run):\n",
    "    \"\"\"\n",
    "    Define a Dataframe from the df_h_run (hourly reporting \n",
    "    variables). The resulting df_heat_window has two columns:\n",
    "    > 'Total Heat Gain, J'\n",
    "    > 'Total Heat Loss, J'\n",
    "    These data are the sum for the whole bldg, per day.\n",
    "\n",
    "    Parameters\n",
    "    ----------\n",
    "    df_h_run: a dataframe. followed by a code (e.g. \"b_e\"), \n",
    "        where hourly reporting variables will be saved\n",
    "\n",
    "    Returns\n",
    "    -------\n",
    "    df_heat_window: a DataFrame w/ Windows Total Heat Gain/Loss Energy.\n",
    "\n",
    "    \"\"\"\n",
    "\n",
    "    # Define a DataFrame w/ Windows Total Heat Gain/Loss Energy\n",
    "    df_window = df_h_run.groupby(level=1, axis=1).sum()\n",
    "    df_window = df_window.loc[:, df_window.columns.intersection(\n",
    "        ['Zone Windows Total Heat Gain Energy',\n",
    "         'Zone Windows Total Heat Loss Energy'])]\n",
    "\n",
    "    # Consider only heat gain/loss btw 8h and 20h, i.e. daytime\n",
    "    df_window = df_window.between_time('8:00', '20:00')\n",
    "    df_window = df_window.resample('D').sum().rename(\n",
    "        columns={'Zone Windows Total Heat Gain Energy': 'Total Heat Gain, J',\n",
    "                 'Zone Windows Total Heat Loss Energy': 'Total Heat Loss, J'})\n",
    "\n",
    "    return df_window"
   ]
  },
  {
   "cell_type": "markdown",
   "metadata": {},
   "source": [
    "### Analysis of the Heat Transfers with or without Shading Devices"
   ]
  },
  {
   "cell_type": "markdown",
   "metadata": {},
   "source": [
    "Corresponds to the step1 simulations."
   ]
  },
  {
   "cell_type": "code",
   "execution_count": null,
   "metadata": {},
   "outputs": [],
   "source": [
    "run_code = \"a_a\"\n",
    "df_h_run_a_a = recover_df_hourly(run_code)"
   ]
  },
  {
   "cell_type": "code",
   "execution_count": null,
   "metadata": {},
   "outputs": [],
   "source": [
    "df_window_a_a = df_heat_window(df_h_run_a_a)"
   ]
  },
  {
   "cell_type": "code",
   "execution_count": null,
   "metadata": {},
   "outputs": [],
   "source": [
    "df_plot = pd.concat([df_window_a_a, df_temp_d], axis=1)\n",
    "g = sns.JointGrid()\n",
    "x, y, z = (df_plot[\"Total Heat Gain, J\"],\n",
    "           df_plot[\"Total Heat Loss, J\"],\n",
    "           df_plot[\"Site Outdoor Air Drybulb Temperature\"])\n",
    "sns.scatterplot(x=x, y=y, hue=z, s=10, ax=g.ax_joint)\n",
    "sns.histplot(x=x, ax=g.ax_marg_x)\n",
    "sns.histplot(y=y, ax=g.ax_marg_y)"
   ]
  },
  {
   "cell_type": "code",
   "execution_count": null,
   "metadata": {
    "scrolled": false
   },
   "outputs": [],
   "source": [
    "ls_code_plot = [\"a_a\", \"a_b\", \"a_c\", \"a_d\",\n",
    "                \"a_e\", \"a_f\", \"a_g\", \"a_h\",\n",
    "                \"a_i\", \"a_j\", \"a_k\", \"a_l\",\n",
    "                \"a_m\", \"a_n\", \"a_o\", \"a_p\"]\n",
    "\n",
    "fig, axes = plt.subplots(nrows=4, ncols=4,\n",
    "                         sharex=True, sharey=True,\n",
    "                         figsize=(14, 14))\n",
    "\n",
    "n = 0\n",
    "\n",
    "for row in range(4):\n",
    "    for col in range(4):\n",
    "        ax = axes[row][col]\n",
    "\n",
    "        df_h = recover_df_hourly(ls_code_plot[n])\n",
    "        df_window = df_heat_window(df_h)\n",
    "\n",
    "        # Concat temperature and heat gain/loss:\n",
    "        df_plot = pd.concat([df_window, df_temp_d], axis=1)\n",
    "\n",
    "        # Plot with JointGrid:\n",
    "        x, y, z = (df_plot[\"Total Heat Gain, J\"]/10e+6,\n",
    "                   df_plot[\"Total Heat Loss, J\"]/10e+6,\n",
    "                   df_plot[\"Site Outdoor Air Drybulb Temperature\"])\n",
    "        sns.scatterplot(x=x, y=y, hue=z, s=10, ax=ax)\n",
    "\n",
    "        ax.set_title(f\"{ls_code_plot[n]}\", y=-0.35, pad=15)\n",
    "\n",
    "        ax.xaxis.label.set_visible(False)\n",
    "        ax.yaxis.label.set_visible(False)\n",
    "\n",
    "        ax.get_legend().remove()\n",
    "\n",
    "        n += 1\n",
    "\n",
    "ax.set_ylim(0, 300)\n",
    "plt.yticks(np.arange(0, 301, 100))\n",
    "\n",
    "ax.set_xlim(0, 300)\n",
    "plt.xticks(np.arange(0, 301, 100))\n",
    "\n",
    "fig.subplots_adjust(wspace=0.15, hspace=0.5)\n",
    "\n",
    "fig.suptitle('Step1: heat gain (x) and loss (y) through windows, MJ')\n",
    "sns.despine(offset=5)\n",
    "plt.show()"
   ]
  },
  {
   "cell_type": "markdown",
   "metadata": {},
   "source": [
    "### Analysis of the Heat Transfers with Interior Shading Devices"
   ]
  },
  {
   "cell_type": "code",
   "execution_count": null,
   "metadata": {},
   "outputs": [],
   "source": [
    "ls_code_plot = [\"b_a\", \"b_b\", \"b_c\", \"b_d\",\n",
    "                \"b_e\", \"b_f\", \"b_g\", \"b_h\",\n",
    "                \"b_i\", \"b_j\", \"b_k\", \"b_l\",\n",
    "                \"b_m\", \"b_n\", \"b_o\", \"b_p\"\n",
    "               ]\n",
    "\n",
    "fig, axes = plt.subplots(nrows=4, ncols=4,\n",
    "                         sharex=True, sharey=True,\n",
    "                         figsize=(14, 16))\n",
    "\n",
    "n = 0\n",
    "\n",
    "for row in range(4):\n",
    "    for col in range(4):\n",
    "        ax = axes[row][col]\n",
    "\n",
    "        df_h = recover_df_hourly(ls_code_plot[n])\n",
    "        df_window = df_heat_window(df_h)\n",
    "\n",
    "        # Concat temperature and heat gain/loss:\n",
    "        df_plot = pd.concat([df_window, df_temp_d], axis=1)\n",
    "\n",
    "        # Plot with JointGrid:\n",
    "        x, y, z = (df_plot[\"Total Heat Gain, J\"]/10e+6,\n",
    "                   df_plot[\"Total Heat Loss, J\"]/10e+6,\n",
    "                   df_plot[\"Site Outdoor Air Drybulb Temperature\"])\n",
    "        sns.scatterplot(x=x, y=y, hue=z, s=10, ax=ax)\n",
    "\n",
    "        ax.set_title(f\"{ls_code_plot[n]}\", y=-0.35, pad=15)\n",
    "\n",
    "        ax.xaxis.label.set_visible(False)\n",
    "        ax.yaxis.label.set_visible(False)\n",
    "\n",
    "        ax.get_legend().remove()\n",
    "\n",
    "        n += 1\n",
    "\n",
    "ax.set_ylim(0, 300)\n",
    "plt.yticks(np.arange(0, 301, 100))\n",
    "\n",
    "ax.set_xlim(0, 300)\n",
    "plt.xticks(np.arange(0, 301, 100))\n",
    "\n",
    "fig.subplots_adjust(wspace=0.15, hspace=0.5)\n",
    "\n",
    "fig.suptitle(\n",
    "    'Heat gain (x) and loss (y) through windows, w/ interior shadings, MJ'\n",
    ")\n",
    "sns.despine(offset=5)\n",
    "plt.show()"
   ]
  },
  {
   "cell_type": "markdown",
   "metadata": {},
   "source": [
    "### Analysis of the Heat Transfers with Exterior Shading Devices"
   ]
  },
  {
   "cell_type": "code",
   "execution_count": null,
   "metadata": {},
   "outputs": [],
   "source": [
    "ls_code_plot = [\"c_a\", \"c_b\", \"c_c\", \"c_d\",\n",
    "                \"c_e\", \"c_f\", \"c_g\", \"c_h\",\n",
    "                \"c_i\", \"c_j\", \"c_k\", \"c_l\",\n",
    "                \"c_m\", \"c_n\", \"c_o\", \"c_p\"\n",
    "               ]\n",
    "\n",
    "fig, axes = plt.subplots(nrows=4, ncols=4,\n",
    "                         sharex=True, sharey=True,\n",
    "                         figsize=(14, 16))\n",
    "\n",
    "n = 0\n",
    "\n",
    "for row in range(4):\n",
    "    for col in range(4):\n",
    "        ax = axes[row][col]\n",
    "\n",
    "        df_h = recover_df_hourly(ls_code_plot[n])\n",
    "        df_window = df_heat_window(df_h)\n",
    "\n",
    "        # Concat temperature and heat gain/loss:\n",
    "        df_plot = pd.concat([df_window, df_temp_d], axis=1)\n",
    "\n",
    "        # Plot with JointGrid:\n",
    "        x, y, z = (df_plot[\"Total Heat Gain, J\"]/10e+6,\n",
    "                   df_plot[\"Total Heat Loss, J\"]/10e+6,\n",
    "                   df_plot[\"Site Outdoor Air Drybulb Temperature\"])\n",
    "        sns.scatterplot(x=x, y=y, hue=z, s=10, ax=ax)\n",
    "\n",
    "        ax.set_title(f\"{ls_code_plot[n]}\", y=-0.35, pad=15)\n",
    "\n",
    "        ax.xaxis.label.set_visible(False)\n",
    "        ax.yaxis.label.set_visible(False)\n",
    "\n",
    "        ax.get_legend().remove()\n",
    "\n",
    "        n += 1\n",
    "\n",
    "ax.set_ylim(0, 300)\n",
    "plt.yticks(np.arange(0, 301, 100))\n",
    "\n",
    "ax.set_xlim(0, 300)\n",
    "plt.xticks(np.arange(0, 301, 100))\n",
    "\n",
    "fig.subplots_adjust(wspace=0.15, hspace=0.5)\n",
    "\n",
    "fig.suptitle(\n",
    "    'Heat gain (x) and loss (y) through windows, w/ exterior shadings, MJ'\n",
    ")\n",
    "sns.despine(offset=5)\n",
    "plt.show()"
   ]
  },
  {
   "cell_type": "markdown",
   "metadata": {},
   "source": [
    "## Chiller and Boiler Energy Use"
   ]
  },
  {
   "cell_type": "markdown",
   "metadata": {},
   "source": [
    "We first compare steps 5, 10 and 11, which are with a VAV HVAC system. The first one with T° setpoints of 26°C and 21°C w/ interior shadings, the next one of 24°C and 21°C without shading, the last one of 27°C and 19°C with exterior shading."
   ]
  },
  {
   "cell_type": "code",
   "execution_count": null,
   "metadata": {},
   "outputs": [],
   "source": [
    "ls_code_plot = [\"e_a\", \"e_b\", \"e_h\", \"e_i\", \"e_j\", \"e_n\", \"e_o\", \"e_p\",\n",
    "                \"j_a\", \"j_b\", \"j_c\", \"j_d\", \"j_e\", \"j_f\", \"j_g\", \"j_h\",\n",
    "                \"k_a\", \"k_b\", \"k_c\", \"k_d\", \"k_e\", \"k_f\", \"k_g\", \"k_h\",\n",
    "                ]"
   ]
  },
  {
   "cell_type": "markdown",
   "metadata": {},
   "source": [
    "### Comparative Analysis, Chiller"
   ]
  },
  {
   "cell_type": "markdown",
   "metadata": {},
   "source": [
    "Analysis of the use of the chiller according to the day, over a year:"
   ]
  },
  {
   "cell_type": "code",
   "execution_count": null,
   "metadata": {
    "scrolled": false
   },
   "outputs": [],
   "source": [
    "fig, axes = plt.subplots(nrows=8, ncols=3,\n",
    "                         sharex=True, sharey=True,\n",
    "                         figsize=(14, 14))\n",
    "\n",
    "n = 0\n",
    "\n",
    "for col in range(3):\n",
    "    for row in range(8):\n",
    "        \n",
    "        ax = axes[row][col]\n",
    "        \n",
    "        df_h = recover_df_hourly(ls_code_plot[n])\n",
    "        df_h = df_h.groupby(level=1, axis=1).sum()\n",
    "        df_heat_cool = df_h.loc[:, df_h.columns.intersection(\n",
    "            ['Chiller Electricity Energy', 'Boiler Heating Energy']\n",
    "        )\n",
    "        ]\n",
    "\n",
    "        df_heat_cool = df_heat_cool.resample('D').sum().rename(\n",
    "            columns={'Chiller Electricity Energy': 'Chiller, J',\n",
    "                     'Boiler Heating Energy': 'Boiler, J'}\n",
    "        )\n",
    "\n",
    "        # Concat temperature and heat gain/loss:\n",
    "        df_plot = pd.concat([df_heat_cool, df_temp_d], axis=1)\n",
    "\n",
    "        yc, yb = (df_plot[\"Chiller, J\"]/10e+6,\n",
    "                  df_plot[\"Boiler, J\"]/10e+6\n",
    "                 )\n",
    "                  \n",
    "        # Plot with JointGrid:\n",
    "        sns.lineplot(data=df_plot, \n",
    "                     x=df_plot.index,\n",
    "                     y=yc,\n",
    "                     color=\"steelblue\",\n",
    "                     linewidth=0.5,\n",
    "                     ax=ax)\n",
    "        \n",
    "        ax.fill_between(df_plot.index, yc, color=\"steelblue\", alpha=0.1)\n",
    "\n",
    "        ax.set_title(f\"{ls_code_plot[n]}\", y=1.05, x=0, fontsize=10)\n",
    "\n",
    "        ax.xaxis.label.set_visible(False)\n",
    "        ax.yaxis.label.set_visible(False)\n",
    "        \n",
    "        style_ax(ax)\n",
    "\n",
    "        n += 1\n",
    "\n",
    "\n",
    "fig.subplots_adjust(wspace=0.15, hspace=0.5)\n",
    "\n",
    "fig.suptitle('Step 4, 10 and 11: chiller energy use, MJ')\n",
    "sns.despine(offset=5)\n",
    "\n",
    "for col in range(3):\n",
    "    for row in range(8):\n",
    "        ax = axes[row][col]\n",
    "        ax.set_ylim(0, 1000)\n",
    "        plt.yticks(np.arange(0, 1001, 500))\n",
    "        \n",
    "        for label in ax.get_xticklabels():\n",
    "            label.set_rotation(45)\n",
    "            label.set_ha('right')\n",
    "\n",
    "plt.show()"
   ]
  },
  {
   "cell_type": "markdown",
   "metadata": {},
   "source": [
    "Analysis of the use of the chiller according to the outdoor temperature, over a year:"
   ]
  },
  {
   "cell_type": "code",
   "execution_count": null,
   "metadata": {
    "scrolled": false
   },
   "outputs": [],
   "source": [
    "fig, axes = plt.subplots(nrows=8, ncols=3,\n",
    "                         sharex=True, sharey=True,\n",
    "                         figsize=(14, 14))\n",
    "\n",
    "n = 0\n",
    "\n",
    "for col in range(3):\n",
    "    for row in range(8):\n",
    "        \n",
    "        ax = axes[row][col]\n",
    "        \n",
    "        df_h = recover_df_hourly(ls_code_plot[n])\n",
    "        df_h = df_h.groupby(level=1, axis=1).sum()\n",
    "        df_heat_cool = df_h.loc[:, df_h.columns.intersection(\n",
    "            ['Chiller Electricity Energy', 'Boiler Heating Energy']\n",
    "        )\n",
    "        ]\n",
    "\n",
    "        df_heat_cool = df_heat_cool.resample('D').sum().rename(\n",
    "            columns={'Chiller Electricity Energy': 'Chiller, J',\n",
    "                     'Boiler Heating Energy': 'Boiler, J'}\n",
    "        )\n",
    "\n",
    "        # Concat temperature and heat gain/loss:\n",
    "        df_plot = pd.concat(\n",
    "            [df_heat_cool, df_temp_d], axis=1\n",
    "        ).sort_values(by=[\"Site Outdoor Air Drybulb Temperature\"])\n",
    "        \n",
    "        x = df_plot[\"Site Outdoor Air Drybulb Temperature\"]\n",
    "\n",
    "        yc, yb = (df_plot[\"Chiller, J\"]/10e+6,\n",
    "                  df_plot[\"Boiler, J\"]/10e+6\n",
    "                 )\n",
    "                  \n",
    "        # Plot with JointGrid:\n",
    "        sns.lineplot(data=df_plot, \n",
    "                     x=x,\n",
    "                     y=yc,\n",
    "                     color=\"steelblue\",\n",
    "                     linewidth=0.5,\n",
    "                     ax=ax)\n",
    "        \n",
    "        ax.fill_between(x, yc, color=\"steelblue\", alpha=0.1)\n",
    "\n",
    "        ax.set_title(f\"{ls_code_plot[n]}\", y=1.05, x=0, fontsize=10)\n",
    "\n",
    "        ax.xaxis.label.set_visible(False)\n",
    "        ax.yaxis.label.set_visible(False)\n",
    "        \n",
    "        style_ax(ax)\n",
    "\n",
    "        n += 1\n",
    "        \n",
    "fig.subplots_adjust(wspace=0.15, hspace=0.5)\n",
    "\n",
    "fig.suptitle('Step 4, 10 and 11: chiller energy use, MJ')\n",
    "sns.despine(offset=5)\n",
    "\n",
    "for col in range(3):\n",
    "    for row in range(8):\n",
    "        ax = axes[row][col]\n",
    "        \n",
    "        ax.set_xlim(0, 40)\n",
    "        plt.xticks(np.arange(0, 41, 10))\n",
    "        \n",
    "        ax.set_ylim(0, 1000)\n",
    "        plt.yticks(np.arange(0, 1001, 500))\n",
    "\n",
    "plt.show()"
   ]
  },
  {
   "cell_type": "markdown",
   "metadata": {},
   "source": [
    "### Comparative Analysis, Boiler"
   ]
  },
  {
   "cell_type": "markdown",
   "metadata": {},
   "source": [
    "Analysis of the use of the boiler according to the day, over a year:"
   ]
  },
  {
   "cell_type": "code",
   "execution_count": null,
   "metadata": {
    "scrolled": false
   },
   "outputs": [],
   "source": [
    "fig, axes = plt.subplots(nrows=8, ncols=3,\n",
    "                         sharex=True, sharey=True,\n",
    "                         figsize=(14, 14))\n",
    "\n",
    "n = 0\n",
    "\n",
    "for col in range(3):\n",
    "    for row in range(8):\n",
    "        \n",
    "        ax = axes[row][col]\n",
    "        \n",
    "        df_h = recover_df_hourly(ls_code_plot[n])\n",
    "        df_h = df_h.groupby(level=1, axis=1).sum()\n",
    "        df_heat_cool = df_h.loc[:, df_h.columns.intersection(\n",
    "            ['Chiller Electricity Energy', 'Boiler Heating Energy']\n",
    "        )\n",
    "        ]\n",
    "\n",
    "        df_heat_cool = df_heat_cool.resample('D').sum().rename(\n",
    "            columns={'Chiller Electricity Energy': 'Chiller, J',\n",
    "                     'Boiler Heating Energy': 'Boiler, J'}\n",
    "        )\n",
    "\n",
    "        # Concat temperature and heat gain/loss:\n",
    "        df_plot = pd.concat([df_heat_cool, df_temp_d], axis=1)\n",
    "\n",
    "        yc, yb = (df_plot[\"Chiller, J\"]/10e+6,\n",
    "                  df_plot[\"Boiler, J\"]/10e+6\n",
    "                 )\n",
    "                  \n",
    "        # Plot with JointGrid:\n",
    "        sns.lineplot(data=df_plot, \n",
    "                     x=df_plot.index,\n",
    "                     y=yb,\n",
    "                     color=\"firebrick\",\n",
    "                     linewidth=0.5,\n",
    "                     ax=ax)\n",
    "        \n",
    "        ax.fill_between(df_plot.index, yb, color=\"firebrick\", alpha=0.1)\n",
    "\n",
    "        ax.set_title(f\"{ls_code_plot[n]}\", y=1.05, x=0, fontsize=10)\n",
    "\n",
    "        ax.xaxis.label.set_visible(False)\n",
    "        ax.yaxis.label.set_visible(False)\n",
    "        \n",
    "        style_ax(ax)\n",
    "\n",
    "        n += 1\n",
    "\n",
    "fig.subplots_adjust(wspace=0.15, hspace=0.5)\n",
    "\n",
    "fig.suptitle('Step 4, 10 and 11: chiller energy use, MJ')\n",
    "sns.despine(offset=5)\n",
    "\n",
    "for col in range(3):\n",
    "    for row in range(8):\n",
    "        ax = axes[row][col]\n",
    "        for label in ax.get_xticklabels():\n",
    "            label.set_rotation(45)\n",
    "            label.set_ha('right')\n",
    "\n",
    "plt.show()"
   ]
  },
  {
   "cell_type": "markdown",
   "metadata": {},
   "source": [
    "Analysis of the use of the boiler according to the outdoor temperature, over a year:"
   ]
  },
  {
   "cell_type": "code",
   "execution_count": null,
   "metadata": {
    "scrolled": false
   },
   "outputs": [],
   "source": [
    "fig, axes = plt.subplots(nrows=8, ncols=3,\n",
    "                         sharex=True, sharey=True,\n",
    "                         figsize=(14, 14))\n",
    "\n",
    "n = 0\n",
    "\n",
    "for col in range(3):\n",
    "    for row in range(8):\n",
    "        \n",
    "        ax = axes[row][col]\n",
    "\n",
    "        df_h = recover_df_hourly(ls_code_plot[n])\n",
    "        df_h = df_h.groupby(level=1, axis=1).sum()\n",
    "        df_heat_cool = df_h.loc[:, df_h.columns.intersection(\n",
    "            ['Chiller Electricity Energy', 'Boiler Heating Energy']\n",
    "        )\n",
    "        ]\n",
    "\n",
    "        df_heat_cool = df_heat_cool.resample('D').sum().rename(\n",
    "            columns={'Chiller Electricity Energy': 'Chiller, J',\n",
    "                     'Boiler Heating Energy': 'Boiler, J'}\n",
    "        )\n",
    "\n",
    "        # Concat temperature and heat gain/loss:\n",
    "        df_plot = pd.concat(\n",
    "            [df_heat_cool, df_temp_d], axis=1\n",
    "        ).sort_values(by=[\"Site Outdoor Air Drybulb Temperature\"])\n",
    "        \n",
    "        x = df_plot[\"Site Outdoor Air Drybulb Temperature\"]\n",
    "\n",
    "        yc, yb = (df_plot[\"Chiller, J\"]/10e+6,\n",
    "                  df_plot[\"Boiler, J\"]/10e+6\n",
    "                 )\n",
    "                  \n",
    "        # Plot with JointGrid:\n",
    "        sns.lineplot(data=df_plot, \n",
    "                     x=x,\n",
    "                     y=yb,\n",
    "                     color=\"firebrick\",\n",
    "                     linewidth=0.5,\n",
    "                     ax=ax)\n",
    "        \n",
    "        ax.fill_between(x, yb, color=\"firebrick\", alpha=0.1)\n",
    "\n",
    "        ax.set_title(f\"{ls_code_plot[n]}\", y=1.05, x=0, fontsize=10)\n",
    "\n",
    "        ax.xaxis.label.set_visible(False)\n",
    "        ax.yaxis.label.set_visible(False)\n",
    "        \n",
    "        style_ax(ax)\n",
    "\n",
    "        n += 1\n",
    "        \n",
    "\n",
    "fig.subplots_adjust(wspace=0.15, hspace=0.5)\n",
    "\n",
    "fig.suptitle('Step 4, 10 and 11: chiller energy use, MJ')\n",
    "sns.despine(offset=5)\n",
    "\n",
    "for col in range(3):\n",
    "    for row in range(8):\n",
    "        ax = axes[row][col]\n",
    "        \n",
    "        ax.set_xlim(0, 40)\n",
    "        plt.xticks(np.arange(0, 41, 10))\n",
    "        \n",
    "        ax.set_ylim(0, 1500)\n",
    "        plt.yticks(np.arange(0, 1501, 500))\n",
    "\n",
    "plt.show()"
   ]
  },
  {
   "cell_type": "markdown",
   "metadata": {},
   "source": [
    "### Impact of Climate Change RCP 8.5"
   ]
  },
  {
   "cell_type": "markdown",
   "metadata": {},
   "source": [
    "Here, we compare steps 5, 14, 15 and 16, which are with a VAV HVAC system. The first one with T° setpoints of 26°C and 21°C w/ interior shadings.\n",
    "Steps 14, 15 and 16 take into account RCP 8.5 for Brussels. Step 14 with T° setpoints of 26°C and 21°C w/ interior shadings, step 15 with T° setpoint of 24°C and 21°C without shading, and the last one 27°C and 19°C with exterior shading."
   ]
  },
  {
   "cell_type": "code",
   "execution_count": null,
   "metadata": {},
   "outputs": [],
   "source": [
    "ls_code_cc_plot = [\"e_a\", \"e_b\", \"e_h\", \"e_i\", \"e_j\", \"e_n\", \"e_o\", \"e_p\",\n",
    "                   \"n_a\", \"n_b\", \"n_c\", \"n_d\", \"n_e\", \"n_f\", \"n_g\", \"n_h\",\n",
    "                   \"o_a\", \"o_b\", \"o_c\", \"o_d\", \"o_e\", \"o_f\", \"o_g\", \"o_h\",\n",
    "                   \"p_a\", \"p_b\", \"p_c\", \"p_d\", \"p_e\", \"p_f\", \"p_g\", \"p_h\",\n",
    "                   ]"
   ]
  },
  {
   "cell_type": "code",
   "execution_count": null,
   "metadata": {
    "scrolled": false
   },
   "outputs": [],
   "source": [
    "fig, axes = plt.subplots(nrows=8, ncols=3,\n",
    "                         sharex=True, sharey=True,\n",
    "                         figsize=(14, 14))\n",
    "\n",
    "n = 0\n",
    "\n",
    "for col in range(3):\n",
    "    for row in range(8):\n",
    "        \n",
    "        ax = axes[row][col]\n",
    "        \n",
    "        df_h = recover_df_hourly(ls_code_cc_plot[n])\n",
    "        df_h = df_h.groupby(level=1, axis=1).sum()\n",
    "        df_heat_cool = df_h.loc[:, df_h.columns.intersection(\n",
    "            ['Chiller Electricity Energy', 'Boiler Heating Energy']\n",
    "        )\n",
    "        ]\n",
    "\n",
    "        df_heat_cool = df_heat_cool.resample('D').sum().rename(\n",
    "            columns={'Chiller Electricity Energy': 'Chiller, J',\n",
    "                     'Boiler Heating Energy': 'Boiler, J'}\n",
    "        )\n",
    "\n",
    "        # Concat temperature and heat gain/loss:\n",
    "        df_plot = pd.concat([df_heat_cool, df_temp_d], axis=1)\n",
    "\n",
    "        yc, yb = (df_plot[\"Chiller, J\"]/10e+6,\n",
    "                  df_plot[\"Boiler, J\"]/10e+6\n",
    "                 )\n",
    "                  \n",
    "        # Plot with JointGrid:\n",
    "        sns.lineplot(data=df_plot, \n",
    "                     x=df_plot.index,\n",
    "                     y=yc,\n",
    "                     color=\"steelblue\",\n",
    "                     linewidth=0.5,\n",
    "                     ax=ax)\n",
    "        \n",
    "        ax.fill_between(df_plot.index, yc, color=\"steelblue\", alpha=0.1)\n",
    "\n",
    "        ax.set_title(f\"{ls_code_plot[n]}\", y=1.05, x=0, fontsize=10)\n",
    "\n",
    "        ax.xaxis.label.set_visible(False)\n",
    "        ax.yaxis.label.set_visible(False)\n",
    "        \n",
    "        style_ax(ax)\n",
    "\n",
    "        n += 1\n",
    "\n",
    "\n",
    "fig.subplots_adjust(wspace=0.15, hspace=0.5)\n",
    "\n",
    "fig.suptitle('Step 4, 10 and 11: chiller energy use, MJ')\n",
    "sns.despine(offset=5)\n",
    "\n",
    "for col in range(3):\n",
    "    for row in range(8):\n",
    "        ax = axes[row][col]\n",
    "        ax.set_ylim(0, 1000)\n",
    "        plt.yticks(np.arange(0, 1001, 500))\n",
    "        \n",
    "        for label in ax.get_xticklabels():\n",
    "            label.set_rotation(45)\n",
    "            label.set_ha('right')\n",
    "\n",
    "plt.show()"
   ]
  },
  {
   "cell_type": "code",
   "execution_count": null,
   "metadata": {
    "scrolled": false
   },
   "outputs": [],
   "source": [
    "fig, axes = plt.subplots(nrows=8, ncols=3,\n",
    "                         sharex=True, sharey=True,\n",
    "                         figsize=(14, 14))\n",
    "\n",
    "n = 0\n",
    "\n",
    "for col in range(3):\n",
    "    for row in range(8):\n",
    "        \n",
    "        ax = axes[row][col]\n",
    "        \n",
    "        df_h = recover_df_hourly(ls_code_cc_plot[n])\n",
    "        df_h = df_h.groupby(level=1, axis=1).sum()\n",
    "        df_heat_cool = df_h.loc[:, df_h.columns.intersection(\n",
    "            ['Chiller Electricity Energy', 'Boiler Heating Energy']\n",
    "        )\n",
    "        ]\n",
    "\n",
    "        df_heat_cool = df_heat_cool.resample('D').sum().rename(\n",
    "            columns={'Chiller Electricity Energy': 'Chiller, J',\n",
    "                     'Boiler Heating Energy': 'Boiler, J'}\n",
    "        )\n",
    "\n",
    "        # Concat temperature and heat gain/loss:\n",
    "        df_plot = pd.concat([df_heat_cool, df_temp_d], axis=1)\n",
    "\n",
    "        yc, yb = (df_plot[\"Chiller, J\"]/10e+6,\n",
    "                  df_plot[\"Boiler, J\"]/10e+6\n",
    "                 )\n",
    "                  \n",
    "        # Plot with JointGrid:\n",
    "        sns.lineplot(data=df_plot, \n",
    "                     x=df_plot.index,\n",
    "                     y=yb,\n",
    "                     color=\"firebrick\",\n",
    "                     linewidth=0.5,\n",
    "                     ax=ax)\n",
    "        \n",
    "        ax.fill_between(df_plot.index, yb, color=\"firebrick\", alpha=0.1)\n",
    "\n",
    "        ax.set_title(f\"{ls_code_plot[n]}\", y=1.05, x=0, fontsize=10)\n",
    "\n",
    "        ax.xaxis.label.set_visible(False)\n",
    "        ax.yaxis.label.set_visible(False)\n",
    "        \n",
    "        style_ax(ax)\n",
    "\n",
    "        n += 1\n",
    "\n",
    "fig.subplots_adjust(wspace=0.15, hspace=0.5)\n",
    "\n",
    "fig.suptitle('Step 4, 10 and 11: chiller energy use, MJ')\n",
    "sns.despine(offset=5)\n",
    "\n",
    "for col in range(3):\n",
    "    for row in range(8):\n",
    "        ax = axes[row][col]\n",
    "        for label in ax.get_xticklabels():\n",
    "            label.set_rotation(45)\n",
    "            label.set_ha('right')\n",
    "\n",
    "plt.show()"
   ]
  }
 ],
 "metadata": {
  "kernelspec": {
   "display_name": "Python 3 (ipykernel)",
   "language": "python",
   "name": "python3"
  },
  "language_info": {
   "codemirror_mode": {
    "name": "ipython",
    "version": 3
   },
   "file_extension": ".py",
   "mimetype": "text/x-python",
   "name": "python",
   "nbconvert_exporter": "python",
   "pygments_lexer": "ipython3",
   "version": "3.9.6"
  },
  "toc": {
   "base_numbering": 1,
   "nav_menu": {},
   "number_sections": true,
   "sideBar": true,
   "skip_h1_title": false,
   "title_cell": "Table of Contents",
   "title_sidebar": "Contents",
   "toc_cell": false,
   "toc_position": {
    "height": "calc(100% - 180px)",
    "left": "10px",
    "top": "150px",
    "width": "174px"
   },
   "toc_section_display": true,
   "toc_window_display": true
  },
  "varInspector": {
   "cols": {
    "lenName": 16,
    "lenType": 16,
    "lenVar": 40
   },
   "kernels_config": {
    "python": {
     "delete_cmd_postfix": "",
     "delete_cmd_prefix": "del ",
     "library": "var_list.py",
     "varRefreshCmd": "print(var_dic_list())"
    },
    "r": {
     "delete_cmd_postfix": ") ",
     "delete_cmd_prefix": "rm(",
     "library": "var_list.r",
     "varRefreshCmd": "cat(var_dic_list()) "
    }
   },
   "types_to_exclude": [
    "module",
    "function",
    "builtin_function_or_method",
    "instance",
    "_Feature"
   ],
   "window_display": false
  }
 },
 "nbformat": 4,
 "nbformat_minor": 4
}
