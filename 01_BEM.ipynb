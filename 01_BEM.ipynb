{
 "cells": [
  {
   "cell_type": "raw",
   "metadata": {},
   "source": [
    "import sys\n",
    "from pathlib import Path\n",
    "\n",
    "def show_argv_and_path():\n",
    "    print(f\"le répertoire courant est {Path.cwd()}\")\n",
    "    print(f\"le point d'entrée du programme est {sys.argv[0]}\")\n",
    "    print(f\"la variable sys.path contient\")\n",
    "    for i, path in enumerate(sys.path, 1):\n",
    "        print(f\"{i}-ème chemin dans sys.path {path}\")\n",
    "\n",
    "show_argv_and_path()"
   ]
  },
  {
   "cell_type": "markdown",
   "metadata": {},
   "source": [
    "# Setup"
   ]
  },
  {
   "cell_type": "code",
   "execution_count": null,
   "metadata": {},
   "outputs": [],
   "source": [
    "import glob as gb\n",
    "from IPython.display import display\n",
    "\n",
    "import datetime\n",
    "\n",
    "import pandas as pd\n",
    "import numpy as np\n",
    "\n",
    "import math\n",
    "\n",
    "import pathlib\n",
    "\n",
    "import sqlite3\n",
    "\n",
    "import os\n",
    "\n",
    "import matplotlib as mpl\n",
    "import matplotlib.pyplot as plt\n",
    "import seaborn as sns\n",
    "%matplotlib inline"
   ]
  },
  {
   "cell_type": "code",
   "execution_count": null,
   "metadata": {},
   "outputs": [],
   "source": [
    "gb.glob('**/*.sql', recursive=True)"
   ]
  },
  {
   "cell_type": "code",
   "execution_count": null,
   "metadata": {},
   "outputs": [],
   "source": [
    "# Directory with datasets:\n",
    "ROOT_DIR = \"files\""
   ]
  },
  {
   "cell_type": "code",
   "execution_count": null,
   "metadata": {},
   "outputs": [],
   "source": [
    "# Define size of figure:\n",
    "mpl.rcParams['figure.figsize'] = (16, 10)\n",
    "pd.options.display.max_rows = 200"
   ]
  },
  {
   "cell_type": "code",
   "execution_count": null,
   "metadata": {},
   "outputs": [],
   "source": [
    "# Define path to save figures:\n",
    "path_img = os.path.abspath(os.path.join('outputs', 'IMG'))\n",
    "if not os.path.exists(path_img):\n",
    "    os.makedirs(path_img)\n",
    "print(f'Images will be saved in {path_img}')"
   ]
  },
  {
   "cell_type": "code",
   "execution_count": null,
   "metadata": {},
   "outputs": [],
   "source": [
    "# Define seaborn main parameters:\n",
    "sns.set_style(\"ticks\")\n",
    "sns.color_palette(\"colorblind\")\n",
    "sns.set_context(\"paper\", font_scale=1.5,\n",
    "                rc={\"axes.titlesize\": 15, \"lines.linewidth\": 1.2,\n",
    "                    \"legend.fontsize\": 10, \"legend.title_fontsize\": 10})"
   ]
  },
  {
   "cell_type": "markdown",
   "metadata": {},
   "source": [
    "## Class EnergyPlus SQL"
   ]
  },
  {
   "cell_type": "markdown",
   "metadata": {},
   "source": [
    "To work with the output data from EnergyPlus:"
   ]
  },
  {
   "cell_type": "code",
   "execution_count": null,
   "metadata": {},
   "outputs": [],
   "source": [
    "class EPLusSQL():\n",
    "\n",
    "    def __init__(self, sql_path=None):\n",
    "        abs_sql_path = os.path.abspath(sql_path)\n",
    "        self.sql_uri = '{}?mode=ro'.format(pathlib.Path(abs_sql_path).as_uri())\n",
    "\n",
    "    def get_annual_energy_by_fuel_and_enduse(self):\n",
    "        \"\"\"\n",
    "        Queries SQL file and returns the ABUPS' End Uses table\n",
    "\n",
    "        Parameters\n",
    "        ----------\n",
    "        None\n",
    "\n",
    "        Returns\n",
    "        -------\n",
    "        df_end_use: pd.DataFrame\n",
    "            Annual End Use table\n",
    "            index = 'EndUse'\n",
    "            columns = ['FuelType','Units']\n",
    "        \"\"\"\n",
    "\n",
    "        # RowName = '#{end_use}'\n",
    "        # ColumnName='#{fuel_type}'\n",
    "        annual_end_use_query = \"\"\"SELECT RowName, ColumnName, Units, Value\n",
    "            FROM TabularDataWithStrings\n",
    "            WHERE ReportName='AnnualBuildingUtilityPerformanceSummary'\n",
    "            AND ReportForString='Entire Facility'\n",
    "            AND TableName='End Uses'\n",
    "        \"\"\"\n",
    "\n",
    "        with sqlite3.connect(self.sql_uri, uri=True) as con:\n",
    "            df_end_use = pd.read_sql(annual_end_use_query, con=con)\n",
    "\n",
    "        # Convert Value to Float\n",
    "        df_end_use['Value'] = pd.to_numeric(df_end_use['Value'])\n",
    "\n",
    "        df_end_use = df_end_use.set_index(['RowName',\n",
    "                                           'ColumnName',\n",
    "                                           'Units'])['Value'].unstack([1, 2])\n",
    "        df_end_use.index.name = 'EndUse'\n",
    "        df_end_use.columns.names = ['FuelType', 'Units']\n",
    "\n",
    "        end_use_order = ['Heating', 'Cooling',\n",
    "                         'Interior Lighting', 'Exterior Lighting',\n",
    "                         'Interior Equipment', 'Exterior Equipment',\n",
    "                         'Fans', 'Pumps', 'Heat Rejection', 'Humidification',\n",
    "                         'Heat Recovery', 'Water Systems',\n",
    "                         'Refrigeration', 'Generators']\n",
    "        col_order = [\n",
    "            'Electricity', 'Natural Gas', 'Gasoline', 'Diesel', 'Coal',\n",
    "            'Fuel Oil No 1', 'Fuel Oil No 2', 'Propane', 'Other Fuel 1',\n",
    "            'Other Fuel 2', 'District Cooling', 'District Heating',\n",
    "            'Water']\n",
    "        df_end_use = df_end_use[col_order].loc[end_use_order]\n",
    "\n",
    "        # Filter out columns with ALL zeroes\n",
    "        df_end_use = df_end_use.loc[:, (df_end_use > 0).any(axis=0)]\n",
    "\n",
    "        return df_end_use\n",
    "\n",
    "    def get_unmet_hours_table(self):\n",
    "        \"\"\"\n",
    "        Queries 'SystemSummary' and returns all unmet hours\n",
    "\n",
    "        Parameters\n",
    "        ----------\n",
    "        None\n",
    "\n",
    "        Returns\n",
    "        -------\n",
    "        df_unmet: pd.DataFrame\n",
    "            A DataFrame where\n",
    "\n",
    "\n",
    "        \"\"\"\n",
    "\n",
    "        query = \"\"\"SELECT RowName, ColumnName, Units, Value FROM TabularDataWithStrings\n",
    "    WHERE ReportName='SystemSummary'\n",
    "    AND ReportForString='Entire Facility'\n",
    "    AND TableName='Time Setpoint Not Met'\n",
    "    \"\"\"\n",
    "        with sqlite3.connect(self.sql_uri, uri=True) as con:\n",
    "            df_unmet = pd.read_sql(query, con=con)\n",
    "\n",
    "        # Convert Value to Float\n",
    "        df_unmet['Value'] = pd.to_numeric(df_unmet['Value'])\n",
    "\n",
    "        df_unmet = df_unmet.pivot(index='RowName',\n",
    "                                  columns='ColumnName',\n",
    "                                  values='Value')\n",
    "\n",
    "        df_unmet.columns.names = ['Time Setpoint Not Met (hr)']\n",
    "\n",
    "        # Move 'Facility' as last row (Should always be in the index...)\n",
    "        if 'Facility' in df_unmet.index:\n",
    "            df_unmet = df_unmet.loc[[x for x\n",
    "                                     in df_unmet.index\n",
    "                                     if x != 'Facility'] + ['Facility']]\n",
    "\n",
    "        return df_unmet\n",
    "\n",
    "    def get_reporting_vars(self):\n",
    "        \"\"\"\n",
    "        Queries 'ReportingDataDictionary' and returns a DataFrame\n",
    "\n",
    "        Parameters\n",
    "        -----------\n",
    "        None\n",
    "\n",
    "        Returns\n",
    "        ---------\n",
    "        df_vars: pd.DataFrame\n",
    "            A DataFrame where each row is a reporting variable\n",
    "        \"\"\"\n",
    "\n",
    "        with sqlite3.connect(self.sql_uri, uri=True) as con:\n",
    "            query = '''\n",
    "        SELECT KeyValue, Name, TimestepType, ReportingFrequency, Units, Type\n",
    "            FROM ReportDataDictionary\n",
    "            '''\n",
    "            df_vars = pd.read_sql(query, con=con)\n",
    "\n",
    "        return df_vars\n",
    "\n",
    "    def get_hourly_variables(self, variables_list):\n",
    "        \"\"\"\n",
    "        Queries Hourly variables which names are in variables_list\n",
    "\n",
    "        eg: variables_list=['Zone Thermal Comfort CEN 15251 Adaptive Model Temperature']\n",
    "        \"\"\"\n",
    "\n",
    "        query = '''\n",
    "        SELECT EnvironmentPeriodIndex, Month, Day, Hour, Minute,\n",
    "            ReportingFrequency, KeyValue, Name, Units,\n",
    "            Value\n",
    "        FROM ReportVariableWithTime\n",
    "        '''\n",
    "\n",
    "        cond = []\n",
    "\n",
    "        cond.append(\n",
    "            (\"UPPER(Name) IN ({})\".format(', '.join(\n",
    "                map(repr, [name.upper() for name in variables_list]))))\n",
    "        )\n",
    "\n",
    "        cond.append('ReportingFrequency = \"Hourly\"')\n",
    "\n",
    "        query += '  WHERE {}'.format('\\n    AND '.join(cond))\n",
    "\n",
    "        with sqlite3.connect(self.sql_uri, uri=True) as con:\n",
    "            df = pd.read_sql(query, con=con)\n",
    "\n",
    "        df_pivot = pd.pivot_table(df, values='Value',\n",
    "                                  columns=['ReportingFrequency', 'KeyValue',\n",
    "                                           'Name', 'Units'],\n",
    "                                  index=['EnvironmentPeriodIndex',\n",
    "                                         'Month', 'Day', 'Hour', 'Minute'])\n",
    "\n",
    "        df_pivot = df_pivot.loc[3]  # Get the annual environment period index\n",
    "\n",
    "        # We know it's hourly, so recreate a clear index\n",
    "        (month, day, hour, minute) = df_pivot.index[0]\n",
    "        start = datetime.datetime(2005, month, day)\n",
    "        df_pivot.index = pd.date_range(\n",
    "            start=start, periods=df_pivot.index.size, freq='H')\n",
    "        df_pivot = df_pivot['Hourly']\n",
    "\n",
    "        return df_pivot\n",
    "\n",
    "    def get_timestep_variables(self, variables_list=None):\n",
    "        \"\"\"\n",
    "        Queries 'Zone Timestep' variables which names are in variables_list (if supplied, otherwise all)\n",
    "\n",
    "        eg: variables_list=['Zone Thermal Comfort CEN 15251 Adaptive Model Temperature']\n",
    "        \"\"\"\n",
    "\n",
    "        query = '''\n",
    "        SELECT EnvironmentPeriodIndex, Month, Day, Hour, Minute,\n",
    "            ReportingFrequency, KeyValue, Name, Units,\n",
    "            Value\n",
    "        FROM ReportVariableWithTime\n",
    "        '''\n",
    "\n",
    "        cond = []\n",
    "\n",
    "        if variables_list:\n",
    "            cond.append(\n",
    "                (\"UPPER(Name) IN ({})\".format(', '.join(\n",
    "                    map(repr, [name.upper() for name in variables_list]))))\n",
    "            )\n",
    "\n",
    "        cond.append('ReportingFrequency = \"Zone Timestep\"')\n",
    "\n",
    "        query += '  WHERE {}'.format('\\n    AND '.join(cond))\n",
    "\n",
    "        with sqlite3.connect(self.sql_uri, uri=True) as con:\n",
    "            df = pd.read_sql(query, con=con)\n",
    "\n",
    "        df_pivot = pd.pivot_table(df, values='Value',\n",
    "                                  columns=['ReportingFrequency', 'KeyValue',\n",
    "                                           'Name', 'Units'],\n",
    "                                  index=['EnvironmentPeriodIndex',\n",
    "                                         'Month', 'Day', 'Hour', 'Minute'])\n",
    "\n",
    "        df_pivot = df_pivot.loc[3]  # Get the annual environment period index\n",
    "\n",
    "        # We know it's Zone Timestep, with 15min timestep, so recreate a clear index\n",
    "        (month, day, hour, minute) = df_pivot.index[0]\n",
    "        start = datetime.datetime(2005, month, day)\n",
    "\n",
    "        df_pivot.index = pd.date_range(\n",
    "            start=start, periods=df_pivot.index.size, freq='15Min')\n",
    "        df_pivot = df_pivot['Zone Timestep']\n",
    "\n",
    "        return df_pivot"
   ]
  },
  {
   "cell_type": "markdown",
   "metadata": {},
   "source": [
    "# List of Scenarios with their Parameters"
   ]
  },
  {
   "cell_type": "markdown",
   "metadata": {},
   "source": [
    "Import the Excel file with the scenarios for the BEM and LCA (i.e., the parameter values for the configuration of the model):"
   ]
  },
  {
   "cell_type": "code",
   "execution_count": null,
   "metadata": {},
   "outputs": [],
   "source": [
    "LCA_scenarios = pd.ExcelFile(os.path.join(ROOT_DIR, \"LCA_scenarios.xlsx\"))"
   ]
  },
  {
   "cell_type": "markdown",
   "metadata": {},
   "source": [
    "Define a series of dataframes for each step of calculation:"
   ]
  },
  {
   "cell_type": "code",
   "execution_count": null,
   "metadata": {},
   "outputs": [],
   "source": [
    "print(\"LCA_scenarios, sheet names = \\n {}\\n\".format(LCA_scenarios.sheet_names))"
   ]
  },
  {
   "cell_type": "code",
   "execution_count": null,
   "metadata": {},
   "outputs": [],
   "source": [
    "# Create dataframe for with scenarios for each step:\n",
    "df_step1 = LCA_scenarios.parse('Step1').set_index('name')\n",
    "df_step2 = LCA_scenarios.parse('Step2').set_index('name')\n",
    "df_step3 = LCA_scenarios.parse('Step3').set_index('name')\n",
    "df_step4 = LCA_scenarios.parse('Step4').set_index('name')\n",
    "df_step5 = LCA_scenarios.parse('Step5').set_index('name')\n",
    "df_step6 = LCA_scenarios.parse('Step6').set_index('name')\n",
    "df_step7 = LCA_scenarios.parse('Step7').set_index('name')\n",
    "df_step8 = LCA_scenarios.parse('Step8').set_index('name')\n",
    "df_step9 = LCA_scenarios.parse('Step9').set_index('name')\n",
    "df_step10 = LCA_scenarios.parse('Step10').set_index('name')\n",
    "df_step11 = LCA_scenarios.parse('Step11').set_index('name')\n",
    "df_step12 = LCA_scenarios.parse('Step12').set_index('name')\n",
    "df_step13 = LCA_scenarios.parse('Step13').set_index('name')\n",
    "df_step14 = LCA_scenarios.parse('Step14').set_index('name')\n",
    "df_step15 = LCA_scenarios.parse('Step15').set_index('name')\n",
    "df_step16 = LCA_scenarios.parse('Step16').set_index('name')\n",
    "df_step17 = LCA_scenarios.parse('Step17').set_index('name')\n",
    "df_step18 = LCA_scenarios.parse('Step18').set_index('name')\n",
    "df_step19 = LCA_scenarios.parse('Step19').set_index('name')"
   ]
  },
  {
   "cell_type": "markdown",
   "metadata": {},
   "source": [
    "# Building Energy Simulation with EnergyPlus"
   ]
  },
  {
   "cell_type": "markdown",
   "metadata": {},
   "source": [
    "Inspired by the notebooks on Data Driven Building posted on GitHub by Clayton Miller:\n",
    "https://github.com/buds-lab/python-for-building-analysts"
   ]
  },
  {
   "cell_type": "markdown",
   "metadata": {},
   "source": [
    "## Setup for the Energy Simulation"
   ]
  },
  {
   "cell_type": "code",
   "execution_count": null,
   "metadata": {},
   "outputs": [],
   "source": [
    "from eppy import modeleditor\n",
    "from eppy.modeleditor import IDF\n",
    "\n",
    "iddfile = \"C:\\EnergyPlusV9-5-0\\Energy+.idd\"\n",
    "IDF.setiddname(iddfile)"
   ]
  },
  {
   "cell_type": "code",
   "execution_count": null,
   "metadata": {},
   "outputs": [],
   "source": [
    "ROOT_DIR_EPlus = \"files\\EnergyPlus\"\n",
    "\n",
    "# Weather data for Brussels:\n",
    "epwfile = os.path.join(ROOT_DIR_EPlus, \"BEL_Brussels.064510_IWEC.epw\")\n",
    "\n",
    "# IDF file, initial configuration:\n",
    "idfname_init = os.path.join(ROOT_DIR_EPlus, \"BEM_init.idf\")\n",
    "# Same configuration, with overhangs:\n",
    "idfname_overhangs = os.path.join(ROOT_DIR_EPlus, \"BEM_overhangs.idf\")\n",
    "\n",
    "# IDF file, HVAC changed, optimised VAV system:\n",
    "idfname_vav = os.path.join(ROOT_DIR_EPlus, \"BEM_VAV_optimised.idf\")\n",
    "# Same configuration, with overhangs:\n",
    "idfname_vav_overhangs = os.path.join(ROOT_DIR_EPlus,\n",
    "                                     \"BEM_VAV_optimised_overhangs.idf\")\n",
    "\n",
    "# IDF file, HVAC changed, VRF system:\n",
    "idfname_vrf = os.path.join(ROOT_DIR_EPlus, \"BEM_VRF.idf\")\n",
    "# Same configuration, with overhangs:\n",
    "idfname_vrf_overhangs = os.path.join(ROOT_DIR_EPlus,\n",
    "                                     \"BEM_VRF_overhangs.idf\")\n",
    "\n",
    "# IDF file for smart glass modeling, initial configuration:\n",
    "idfname_smartglass = os.path.join(ROOT_DIR_EPlus, \"BEM_SmartGlass.idf\")"
   ]
  },
  {
   "cell_type": "code",
   "execution_count": null,
   "metadata": {},
   "outputs": [],
   "source": [
    "# Setup of the IDF_init:\n",
    "idf_init = IDF(idfname_init, epwfile)"
   ]
  },
  {
   "cell_type": "raw",
   "metadata": {},
   "source": [
    "idf_init.printidf()"
   ]
  },
  {
   "cell_type": "code",
   "execution_count": null,
   "metadata": {},
   "outputs": [],
   "source": [
    "# look at a specific object:\n",
    "building = idf_init.idfobjects['BUILDING'][0]\n",
    "building"
   ]
  },
  {
   "cell_type": "code",
   "execution_count": null,
   "metadata": {},
   "outputs": [],
   "source": [
    "# Change a parameter:\n",
    "building.Name = \"Fully-glazed office building\"\n",
    "building.Name"
   ]
  },
  {
   "cell_type": "raw",
   "metadata": {},
   "source": [
    "# .idfobjects function to look inside the idf \n",
    "# to view all of the object types and instances\n",
    "objectlist = idf.idfobjects\n",
    "objectnamelist = []"
   ]
  },
  {
   "cell_type": "raw",
   "metadata": {},
   "source": [
    "for objectname in objectlist:\n",
    "    objectnamelist.append(objectname)"
   ]
  },
  {
   "cell_type": "raw",
   "metadata": {},
   "source": [
    "# a pandas series (1-dimensional) of the possible object 'types' within EnergyPlus\n",
    "nameseries = pd.Series(objectnamelist)\n",
    "nameseries"
   ]
  },
  {
   "cell_type": "markdown",
   "metadata": {},
   "source": [
    "## Materials and Construction"
   ]
  },
  {
   "cell_type": "markdown",
   "metadata": {},
   "source": [
    "Materials:"
   ]
  },
  {
   "cell_type": "code",
   "execution_count": null,
   "metadata": {},
   "outputs": [],
   "source": [
    "materials = idf_init.idfobjects[\"Material\"]\n",
    "print(materials)"
   ]
  },
  {
   "cell_type": "code",
   "execution_count": null,
   "metadata": {},
   "outputs": [],
   "source": [
    "# Glazing types:\n",
    "igus = idf_init.idfobjects[\"WindowMaterial:SimpleGlazingSystem\"]\n",
    "print(igus)"
   ]
  },
  {
   "cell_type": "code",
   "execution_count": null,
   "metadata": {},
   "outputs": [],
   "source": [
    "# Exterior shading and thermal curtain:\n",
    "shades = idf_init.idfobjects[\"WindowMaterial:Shade\"]\n",
    "print(shades)"
   ]
  },
  {
   "cell_type": "markdown",
   "metadata": {},
   "source": [
    "Constructions:"
   ]
  },
  {
   "cell_type": "code",
   "execution_count": null,
   "metadata": {},
   "outputs": [],
   "source": [
    "constructions = idf_init.idfobjects[\"CONSTRUCTION\"]\n",
    "print(constructions)"
   ]
  },
  {
   "cell_type": "code",
   "execution_count": null,
   "metadata": {},
   "outputs": [],
   "source": [
    "len(constructions)"
   ]
  },
  {
   "cell_type": "code",
   "execution_count": null,
   "metadata": {},
   "outputs": [],
   "source": [
    "[construction.Name for construction in constructions]"
   ]
  },
  {
   "cell_type": "markdown",
   "metadata": {},
   "source": [
    "Total area of conditioned indoor climate or glazed façade:"
   ]
  },
  {
   "cell_type": "code",
   "execution_count": null,
   "metadata": {},
   "outputs": [],
   "source": [
    "net_conditioned_area = 8100\n",
    "glazed_facade_area = 2340"
   ]
  },
  {
   "cell_type": "markdown",
   "metadata": {},
   "source": [
    "Listing the different types of IGUs according to the efficiency of their frame:"
   ]
  },
  {
   "cell_type": "code",
   "execution_count": null,
   "metadata": {},
   "outputs": [],
   "source": [
    "igu_low_perf = ['dg_init_bronze', 'dg_0_clear', 'sg_1_clear', 'sg_2_coated']\n",
    "igu_high_perf = ['dg_1_highSHG_highLT', 'dg_2_midSHG_midLT',\n",
    "                 'dg_3_midSHG_highLT', 'dg_4_lowSHG_lowLT',\n",
    "                 'dg_5_lowSHG_midLT', 'dg_6_lowSHG_highLT',\n",
    "                 'dg_5k_Krypton_lowSHG_midLT', 'dg_vacuum',\n",
    "                 'tg_1_highSHG_highLT', 'tg_2_midSHG_midLT',\n",
    "                 'tg_3_midSHG_highLT', 'tg_4_lowSHG_lowLT',\n",
    "                 'tg_5_lowSHG_midLT', 'tg_6_lowSHG_highLT',\n",
    "                 'tg_5k_Krypton_lowSHG_midLT', 'tg_5x_Xenon_lowSHG_midLT',\n",
    "                 'ccf'\n",
    "                 ]"
   ]
  },
  {
   "cell_type": "markdown",
   "metadata": {},
   "source": [
    "## Functions to Conduct Simulations"
   ]
  },
  {
   "cell_type": "markdown",
   "metadata": {},
   "source": [
    "Function to modify idf according to scenario parameters:"
   ]
  },
  {
   "cell_type": "code",
   "execution_count": null,
   "metadata": {},
   "outputs": [],
   "source": [
    "def modify_idf(idfname_init, epwfile, igu, run_n, df_step):\n",
    "    \"\"\"\n",
    "    Modify the idf parameters, i.e. glazing, frame, and shadings, \n",
    "    according to the parameters defined in the dataframe,\n",
    "    and returns the idf file\n",
    "\n",
    "    Parameters\n",
    "    ----------\n",
    "    idfname_init: idf file to modify\n",
    "    epwfile: weather data, .epw\n",
    "    igu: name of the igu studied for energy simulation\n",
    "    run_n: name/code for the energy simulation\n",
    "    df_step: dataframe w/ a list of variables according to which are changed\n",
    "        the idf parameters\n",
    "\n",
    "    Returns\n",
    "    -------\n",
    "    idf_modified: a copy (saved as) of the initial idf\n",
    "    \"\"\"\n",
    "\n",
    "    idf = IDF(idfname_init, epwfile)\n",
    "    constructions = idf.idfobjects[\"CONSTRUCTION\"]\n",
    "\n",
    "    # Change the glazing and frame:\n",
    "    for element in idf.idfobjects['FenestrationSurface:Detailed']:\n",
    "        if element.Surface_Type == 'Window':\n",
    "\n",
    "            # Replace the glazing:\n",
    "            element.Construction_Name = igu\n",
    "            if igu not in [construction.Name for construction in constructions]:\n",
    "                print('Wrong construction name!! See:', igu)\n",
    "\n",
    "    # Replace the frame:\n",
    "    for element in idf.idfobjects['WindowProperty:FrameAndDivider']:\n",
    "        if igu in igu_low_perf:\n",
    "            if df_step.loc[df_step.index == run_n, 'thermal_curtain'][0] == 0:\n",
    "                element.Frame_Conductance = 5.5\n",
    "                element.Divider_Conductance = 5.5\n",
    "            else:\n",
    "                element.Frame_Conductance = 1.56\n",
    "                element.Divider_Conductance = 1.56\n",
    "\n",
    "        if igu in igu_high_perf:\n",
    "            if df_step.loc[df_step.index == run_n, 'thermal_curtain'][0] == 0:\n",
    "                element.Frame_Conductance = 1.5\n",
    "                element.Divider_Conductance = 1.5\n",
    "            else:\n",
    "                element.Frame_Conductance = 1\n",
    "                element.Divider_Conductance = 1\n",
    "\n",
    "    # Activate or not the shading control:\n",
    "    for element in idf.idfobjects['WindowShadingControl']:\n",
    "        if df_step.loc[df_step.index == run_n, 'thermal_curtain'][0] == 1:\n",
    "            element.Shading_Type = 'InteriorShade'\n",
    "            element.Shading_Control_Type = 'OnNightIfLowOutdoorTempAndOffDay'\n",
    "            element.Schedule_Name = 'Thermal curtain_On'\n",
    "            element.Setpoint = '19'\n",
    "            element.Shading_Control_Is_Scheduled = 'Yes'\n",
    "            element.Glare_Control_Is_Active = 'No'\n",
    "            element.Shading_Device_Material_Name = 'Int_Isotiss_Thermal Curtain and Air Wall'\n",
    "            element.Type_of_Slat_Angle_Control_for_Blinds = 'FixedSlatAngle'\n",
    "\n",
    "        elif df_step.loc[df_step.index == run_n, 'shdg_device'][0] == 1:\n",
    "            element.Shading_Type = 'ExteriorShade'\n",
    "            element.Shading_Control_Type = 'OnIfHighZoneAirTempAndHighSolarOnWindow'\n",
    "            element.Schedule_Name = 'EXT_Shading_On'\n",
    "            element.Setpoint = '22'\n",
    "            element.Setpoint_2 = '250'\n",
    "            element.Shading_Control_Is_Scheduled = 'Yes'\n",
    "            element.Glare_Control_Is_Active = 'No'\n",
    "            element.Shading_Device_Material_Name = 'Ext_EnviroScreen_lightgrey_silver'\n",
    "            element.Type_of_Slat_Angle_Control_for_Blinds = 'FixedSlatAngle'\n",
    "\n",
    "        else:\n",
    "            element.Schedule_Name = 'EXT_Shading_OFF'\n",
    "\n",
    "    # Define heating and cooling setpoint:\n",
    "    for element in idf.idfobjects['ThermostatSetpoint:DualSetpoint']:\n",
    "        if ('Core' in element.Name\n",
    "                or 'Perimeter' in element.Name):\n",
    "            element.Heating_Setpoint_Temperature_Schedule_Name = (\n",
    "                df_step.loc[df_step.index == run_n, 'heating_setpoint'][0])\n",
    "            element.Cooling_Setpoint_Temperature_Schedule_Name = (\n",
    "                df_step.loc[df_step.index == run_n, 'cooling_setpoint'][0])\n",
    "\n",
    "    idf.saveas(\"files\\EnergyPlus\\copies\\BEM_\"+str(run_n)+\".idf\")\n",
    "    idf_modified = IDF(\"files\\EnergyPlus\\copies\\BEM_\"+str(run_n)+\".idf\",\n",
    "                       epwfile)\n",
    "\n",
    "    print(\"Saved: BEM_\"+str(run_n))\n",
    "\n",
    "    return idf_modified"
   ]
  },
  {
   "cell_type": "code",
   "execution_count": null,
   "metadata": {},
   "outputs": [],
   "source": [
    "# Initialisation of a list for unmet hours during occupied cooling/heating:\n",
    "ls_unmet = []\n",
    "# Define an empty DataFrame to save the energy consumption\n",
    "# per end use for each simulation:\n",
    "df_end_use_allsteps = pd.DataFrame()"
   ]
  },
  {
   "cell_type": "markdown",
   "metadata": {},
   "source": [
    "A function to post-process the results and save them in specific DataFrames:"
   ]
  },
  {
   "cell_type": "code",
   "execution_count": null,
   "metadata": {},
   "outputs": [],
   "source": [
    "def simulation_postprocess(run_n, df_step, ls_unmet,\n",
    "                           df_end_use_allsteps):\n",
    "    \"\"\"\n",
    "    Run a simulation from an idf, extract results in df or ls:\n",
    "    > total energy end use in df_end_use (electricity + natural gas)\n",
    "    > unmethours during occupation in ls_unmet\n",
    "    > Energy consumption per enduse in df_end_use_allsteps\n",
    "\n",
    "    Save also the hourly reporting variables per simulation run \n",
    "    in a csv file: df_h_run.csv.\n",
    "\n",
    "    Parameters\n",
    "    ----------\n",
    "    run_n: name/code for the energy simulation\n",
    "    df_step: df define for each step of the LCA where to save\n",
    "        values for electricity and natural gas use.\n",
    "    ls_unmet: list for unmet hours during occupation\n",
    "    df_end_use_allsteps: DataFrame to save energy consumption per year \n",
    "        for the whole facility per end use for every runs\n",
    "\n",
    "    Returns\n",
    "    -------\n",
    "    df_step\n",
    "    ls_unmet\n",
    "    df_end_use_allsteps\n",
    "\n",
    "    \"\"\"\n",
    "\n",
    "    # Find the output data:\n",
    "    eplus_sql = EPLusSQL(sql_path='outputs\\energyplus\\eplusout.sql')\n",
    "\n",
    "    # Get total energy end use in a dataframe:\n",
    "    df_end_use = eplus_sql.get_annual_energy_by_fuel_and_enduse()\n",
    "    if 'Water' in df_end_use.columns:\n",
    "        df_end_use = df_end_use.drop('Water', axis=1)\n",
    "    df_end_use = df_end_use.drop([\n",
    "        'Exterior Lighting', 'Exterior Equipment', 'Generators',\n",
    "        'Water Systems', 'Heat Recovery', 'Humidification', 'Refrigeration'])\n",
    "\n",
    "    # Save total elec and nat gas use for LCA in df_step:\n",
    "    # Sum of the electricity uses:\n",
    "    elec_tot_gj = df_end_use[('Electricity', 'GJ')].sum()\n",
    "    # Convert GJ to kWh:\n",
    "    elec_tot_kwh = elec_tot_gj * 277.8\n",
    "\n",
    "    # Use of natural gas:\n",
    "    if 'Natural Gas' not in df_end_use.columns:\n",
    "        df_end_use[('Natural Gas', 'GJ')] = 0\n",
    "\n",
    "    # Use of natural gas:\n",
    "    gas_tot_gj = df_end_use[('Natural Gas', 'GJ')].sum()\n",
    "    # Convert GJ to MJ:\n",
    "    gas_tot_mj = gas_tot_gj * 1000\n",
    "\n",
    "    # Save values in df_step:\n",
    "    df_step.loc[df_step.index == run_n, 'elec_use'] = (\n",
    "        elec_tot_kwh / glazed_facade_area)\n",
    "    df_step.loc[df_step.index == run_n, 'natural_gas'] = (\n",
    "        gas_tot_mj/glazed_facade_area)\n",
    "\n",
    "    # Append the list of unmet hours during occupied cooling/heating:\n",
    "    df_unmet = eplus_sql.get_unmet_hours_table()\n",
    "    val_toadd = {'Run': run_n,\n",
    "                 'During cooling': df_unmet.loc[df_unmet.index == 'Facility',\n",
    "                                                'During Occupied Cooling'][0],\n",
    "                 'During heating': df_unmet.loc[df_unmet.index == 'Facility',\n",
    "                                                'During Occupied Heating'][0]\n",
    "                 }\n",
    "    # Avoid duplicating values:\n",
    "    if len(ls_unmet) > 0:\n",
    "        for i in range(len(ls_unmet)):\n",
    "            if ls_unmet[i]['Run'] == val_toadd['Run']:\n",
    "                # Replace old value:\n",
    "                ls_unmet[i] = val_toadd\n",
    "    else:\n",
    "        # And append if did not exist before:\n",
    "        ls_unmet.append(val_toadd)\n",
    "\n",
    "    # Save energy consumption per end use:\n",
    "    df_end_use = df_end_use.stack(['FuelType'])\n",
    "    df_end_use['Run name'] = run_n\n",
    "    df_end_use = df_end_use.reset_index().pivot(\n",
    "        index='EndUse', columns=['Run name', 'FuelType'], values='GJ')\n",
    "    if not df_end_use_allsteps.empty:\n",
    "        # Columns to avoid when merging, avoid duplicates and save new values:\n",
    "        cols_to_use = df_end_use_allsteps.columns.difference(\n",
    "            df_end_use.columns)\n",
    "        # Merge by columns_to_use:\n",
    "        df_end_use_allsteps = pd.merge(df_end_use,\n",
    "                                       df_end_use_allsteps[cols_to_use],\n",
    "                                       on=\"EndUse\")\n",
    "    else:\n",
    "        df_end_use_allsteps = df_end_use\n",
    "\n",
    "    df_end_use_allsteps = df_end_use_allsteps.reindex(sorted(\n",
    "        df_end_use_allsteps.columns), axis=1)\n",
    "\n",
    "    # Hourly reporting variables\n",
    "    # Define an empty DataFrame to save the hourly reporting variables:\n",
    "    df_h_run = pd.DataFrame()\n",
    "\n",
    "    ls_vars = [\n",
    "        'Zone Windows Total Heat Gain Energy',\n",
    "        'Zone Windows Total Heat Loss Energy',\n",
    "        'Surface Shading Device Is On Time Fraction',\n",
    "        'Zone Operative Temperature',\n",
    "        'Zone Thermal Comfort CEN 15251 Adaptive Model Temperature',\n",
    "        'Zone Thermal Comfort ASHRAE 55 Adaptive Model Temperature',\n",
    "        'Chiller Electricity Energy', 'Boiler Heating Energy'\n",
    "    ]\n",
    "\n",
    "    df_h_run = eplus_sql.get_hourly_variables(variables_list=ls_vars)\n",
    "\n",
    "    for col in df_h_run.columns:\n",
    "        if \"BASEMENT\" in col[0]:\n",
    "            df_h_run = df_h_run.drop(col, axis=1)\n",
    "\n",
    "    # Save df_h_run to csv:\n",
    "    df_h_run.to_csv('outputs\\steps_dir\\df_h_run_'+str(run_n[:3])+'.csv',\n",
    "                    index=True)\n",
    "    print(\"df_h_run.csv saved\")\n",
    "\n",
    "    return df_step, ls_unmet, df_end_use_allsteps"
   ]
  },
  {
   "cell_type": "markdown",
   "metadata": {},
   "source": [
    "**Units:**\n",
    "- Data saved in df_end_use_allsteps in GJ;\n",
    "- Data saved in df_steps in kWh (electricity) and MJ (natural gas) per m² of glazed area."
   ]
  },
  {
   "cell_type": "markdown",
   "metadata": {},
   "source": [
    "A function to save the results in csv files:"
   ]
  },
  {
   "cell_type": "code",
   "execution_count": null,
   "metadata": {},
   "outputs": [],
   "source": [
    "def save_results_csv(n_step, df_step, ls_unmet, df_end_use_allsteps):\n",
    "    \"\"\"\n",
    "    Save the DataFrames and Lists where the results are to avoid \n",
    "    reruning the time consuming energy simulation\n",
    "\n",
    "    Parameters\n",
    "    ----------\n",
    "    n_step: number of the step\n",
    "    df_step: df define for each step of the LCA where to save\n",
    "        values for electricity and natural gas use.\n",
    "    ls_unmet: list for unmet hours during occupation\n",
    "    df_end_use_allsteps: dataframe with end uses \n",
    "        per type of energy per simulation run\n",
    "\n",
    "    Returns\n",
    "    -------\n",
    "    None\n",
    "\n",
    "    \"\"\"\n",
    "\n",
    "    # Save df_step to csv:\n",
    "    df_step.to_csv('outputs\\steps_dir\\df_step'+str(n_step)+'.csv', index=True)\n",
    "    print(\"df_step.csv saved\")\n",
    "\n",
    "    # Save ls_unmet to csv:\n",
    "    df_ls_unmet = pd.DataFrame(ls_unmet)\n",
    "    df_ls_unmet.to_csv('outputs\\steps_dir\\df_ls_unmet.csv', index=False)\n",
    "    print(\"ls_unmet.csv saved\")\n",
    "\n",
    "    # Save df_end_use_allsteps to csv:\n",
    "    df_end_use_allsteps.stack([0, 1]).to_csv(\n",
    "        'outputs\\steps_dir\\df_end_use_allsteps.csv', index=True)\n",
    "    print(\"df_end_use_allsteps.csv saved\")\n",
    "    print(\"------\")\n",
    "\n",
    "    return"
   ]
  },
  {
   "cell_type": "markdown",
   "metadata": {},
   "source": [
    "## Save idf Files"
   ]
  },
  {
   "cell_type": "raw",
   "metadata": {},
   "source": [
    "# idf.save()\n",
    "\n",
    "# or save a copy\n",
    "# idf1.saveas('something.idf')"
   ]
  },
  {
   "cell_type": "markdown",
   "metadata": {},
   "source": [
    "## Simulation Runs"
   ]
  },
  {
   "cell_type": "markdown",
   "metadata": {},
   "source": [
    "<font color='red'>To run all the simulations or not:<font>"
   ]
  },
  {
   "cell_type": "code",
   "execution_count": null,
   "metadata": {},
   "outputs": [],
   "source": [
    "run_all = True"
   ]
  },
  {
   "cell_type": "markdown",
   "metadata": {},
   "source": [
    "### Recover data saved in csv files from previous simulations:"
   ]
  },
  {
   "cell_type": "markdown",
   "metadata": {},
   "source": [
    "To read directly the csv file and work from them instead of relaunching the energy simulation (Please note that this does not prevent the simulations from being run again. To do this, change the run_all boolean variable above. If the simulations are rerun, the new results will overwrite the old ones saved in the csv files):"
   ]
  },
  {
   "cell_type": "markdown",
   "metadata": {},
   "source": [
    "Dataframe with all energy usage data per simulation run:"
   ]
  },
  {
   "cell_type": "markdown",
   "metadata": {},
   "source": [
    "Retrieve the data from the csv. The simulation_postprocess function will merge the new results by overwriting the old ones, or simply add the new ones if they did not exist yet."
   ]
  },
  {
   "cell_type": "code",
   "execution_count": null,
   "metadata": {},
   "outputs": [],
   "source": [
    "# Open the df_end_use_allsteps from the csv file:\n",
    "# Avoid re-running energy simulations (time consuming):\n",
    "if os.path.isfile('outputs\\steps_dir\\df_end_use_allsteps.csv'):\n",
    "    df_end_use_allsteps_csv = (\n",
    "        pd.read_csv('outputs\\steps_dir\\df_end_use_allsteps.csv'))\n",
    "    df_end_use_allsteps_csv = df_end_use_allsteps_csv.pivot_table(\n",
    "        values='0', index=['EndUse'], columns=['Run name', 'FuelType'])\n",
    "\n",
    "    df_end_use_allsteps = df_end_use_allsteps_csv"
   ]
  },
  {
   "cell_type": "markdown",
   "metadata": {},
   "source": [
    "List of dict with unmet hours per simulation run during heating and cooling:"
   ]
  },
  {
   "cell_type": "markdown",
   "metadata": {},
   "source": [
    "Retrieve the data from the csv. The simulation_postprocess function will add the new results and eventualy overwrite the old ones, if they exist. "
   ]
  },
  {
   "cell_type": "code",
   "execution_count": null,
   "metadata": {},
   "outputs": [],
   "source": [
    "if os.path.isfile('outputs\\steps_dir\\df_ls_unmet.csv'):\n",
    "    # Open the df_ls_unmet from the csv file created after energy simulation:\n",
    "    df_ls_unmet_csv = pd.read_csv('outputs\\steps_dir\\df_ls_unmet.csv')\n",
    "    # Convert back to a list of dict:\n",
    "    ls_unmet_csv = df_ls_unmet_csv.to_dict('records')"
   ]
  },
  {
   "cell_type": "markdown",
   "metadata": {},
   "source": [
    "Dataframe with the main assumptions and results (natural gas and electricity) specific to each simulation run:"
   ]
  },
  {
   "cell_type": "markdown",
   "metadata": {},
   "source": [
    "A function to recover df_step dataframes saved as csv:"
   ]
  },
  {
   "cell_type": "code",
   "execution_count": null,
   "metadata": {},
   "outputs": [],
   "source": [
    "def recover_df_step(n_step, df_step):\n",
    "    \"\"\"\n",
    "    If a df_step.csv exists, recover it as a dataframe wich replace \n",
    "    the one currently in use in the notebook.\n",
    "    Avoid re-running energy simulation (time consuming).\n",
    "\n",
    "    Parameters\n",
    "    ----------\n",
    "    n_step: number of the step\n",
    "    df_step: a dataframe. followed by a number (e.g. step4), \n",
    "    identify the step with simulation runs and main results\n",
    "\n",
    "    Returns\n",
    "    -------\n",
    "    df_step: update with csv data or exactly the same as the one in the input\n",
    "\n",
    "    \"\"\"\n",
    "\n",
    "    # Does the csv exist\n",
    "    # and check if the existing df_step includes simulation results:\n",
    "    if (os.path.isfile(f\"outputs\\steps_dir\\df_step\"+str(n_step)+\".csv\")\n",
    "            and np.isnan(\n",
    "                sum(df_step[\"natural_gas\"]) + sum(df_step[\"elec_use\"]))):\n",
    "        df_step = (\n",
    "            pd.read_csv(f\"outputs\\steps_dir\\df_step\"+str(n_step)+\".csv\")\n",
    "            .set_index(['name']))\n",
    "\n",
    "        print(\"df_step updated with csv data\")\n",
    "    else:\n",
    "        print(\"existing df_step kept in place\")\n",
    "\n",
    "    return df_step"
   ]
  },
  {
   "cell_type": "markdown",
   "metadata": {},
   "source": [
    "### Step 1-3: Initial Configuration with Different Glazing Types"
   ]
  },
  {
   "cell_type": "markdown",
   "metadata": {},
   "source": [
    "**Step 1: Different glazing types, w/o shading devices and thermal curtain, fan coil chiller w/ boiler**"
   ]
  },
  {
   "cell_type": "raw",
   "metadata": {
    "collapsed": true
   },
   "source": [
    "# Overview of the step_1 dataframe:\n",
    "with pd.option_context('display.max_rows', 20, 'display.max_columns', 10):\n",
    "    display(df_step1)"
   ]
  },
  {
   "cell_type": "markdown",
   "metadata": {},
   "source": [
    "Run the simulations (it takes time! Be patient):"
   ]
  },
  {
   "cell_type": "code",
   "execution_count": null,
   "metadata": {},
   "outputs": [],
   "source": [
    "if run_all:\n",
    "\n",
    "    # Note the indice run_n of the simulation:\n",
    "    for run_n in df_step1.index:\n",
    "        # Note the glazing type:\n",
    "        igu = df_step1['glazing'][run_n]\n",
    "\n",
    "        # Modify the idf and create a copy:\n",
    "        idf_modified = modify_idf(idfname_init, epwfile, igu, run_n, df_step1)\n",
    "\n",
    "        # Run the energy simulation:\n",
    "        idf_modified.run(output_directory=\"outputs\\energyplus\")\n",
    "\n",
    "        # Post-process the results:\n",
    "        (df_step1, ls_unmet, df_end_use_allsteps) = (\n",
    "            simulation_postprocess(run_n, df_step1, ls_unmet,\n",
    "                                   df_end_use_allsteps)\n",
    "        )\n",
    "\n",
    "        # Save results:\n",
    "        save_results_csv(1, df_step1, ls_unmet, df_end_use_allsteps)"
   ]
  },
  {
   "cell_type": "markdown",
   "metadata": {},
   "source": [
    "If the simulation has already been run, to recover the results directly from the csv file:"
   ]
  },
  {
   "cell_type": "code",
   "execution_count": null,
   "metadata": {},
   "outputs": [],
   "source": [
    "df_step1 = recover_df_step(1, df_step1)"
   ]
  },
  {
   "cell_type": "markdown",
   "metadata": {},
   "source": [
    "**Step 2: Different glazing types, with shading devices, fan coil chiller w/ boiler**"
   ]
  },
  {
   "cell_type": "code",
   "execution_count": null,
   "metadata": {},
   "outputs": [],
   "source": [
    "# Overview of the step_2 dataframe:\n",
    "with pd.option_context('display.max_rows', 20, 'display.max_columns', 10):\n",
    "    display(df_step2)"
   ]
  },
  {
   "cell_type": "markdown",
   "metadata": {},
   "source": [
    "Run the simulations (it takes time! Be patient):"
   ]
  },
  {
   "cell_type": "code",
   "execution_count": null,
   "metadata": {},
   "outputs": [],
   "source": [
    "if run_all:\n",
    "\n",
    "    # Note the indice run_n of the simulation:\n",
    "    for run_n in df_step2.index:\n",
    "        # Note the glazing type:\n",
    "        igu = df_step2['glazing'][run_n]\n",
    "\n",
    "        # Modify the idf and create a copy:\n",
    "        idf_modified = modify_idf(idfname_init, epwfile, igu, run_n, df_step2)\n",
    "\n",
    "        # Run the energy simulation:\n",
    "        idf_modified.run(output_directory=\"outputs\\energyplus\")\n",
    "\n",
    "        # Post-process the results:\n",
    "        (df_step2, ls_unmet, df_end_use_allsteps) = (\n",
    "            simulation_postprocess(run_n, df_step2, ls_unmet,\n",
    "                                   df_end_use_allsteps)\n",
    "        )\n",
    "\n",
    "        # Save results:\n",
    "        save_results_csv(2, df_step2, ls_unmet, df_end_use_allsteps)"
   ]
  },
  {
   "cell_type": "markdown",
   "metadata": {},
   "source": [
    "If the simulation has already been run, to recover the results directly from the csv file:"
   ]
  },
  {
   "cell_type": "code",
   "execution_count": null,
   "metadata": {},
   "outputs": [],
   "source": [
    "df_step2 = recover_df_step(2, df_step2)"
   ]
  },
  {
   "cell_type": "markdown",
   "metadata": {},
   "source": [
    "**Step 3: Different glazing types, with overhangs and thermal curtains, fan coil chiller w/ boiler**"
   ]
  },
  {
   "cell_type": "raw",
   "metadata": {},
   "source": [
    "# Overview of the step_3 dataframe:\n",
    "with pd.option_context('display.max_rows', 20, 'display.max_columns', 10):\n",
    "    display(df_step3)"
   ]
  },
  {
   "cell_type": "markdown",
   "metadata": {},
   "source": [
    "Run the simulations (it takes time! Be patient):"
   ]
  },
  {
   "cell_type": "code",
   "execution_count": null,
   "metadata": {},
   "outputs": [],
   "source": [
    "if run_all:\n",
    "\n",
    "    # Note the indice run_n of the simulation:\n",
    "    for run_n in df_step3.index:\n",
    "        # Note the glazing type:\n",
    "        igu = df_step3['glazing'][run_n]\n",
    "\n",
    "        # Modify the idf and create a copy:\n",
    "        idf_modified = modify_idf(idfname_overhangs, epwfile,\n",
    "                                  igu, run_n, df_step3)\n",
    "\n",
    "        # Run the energy simulation:\n",
    "        idf_modified.run(output_directory=\"outputs\\energyplus\")\n",
    "\n",
    "        # Post-process the results:\n",
    "        (df_step3, ls_unmet, df_end_use_allsteps) = (\n",
    "            simulation_postprocess(run_n, df_step3, ls_unmet,\n",
    "                                   df_end_use_allsteps)\n",
    "        )\n",
    "\n",
    "        # Save results:\n",
    "        save_results_csv(3, df_step3, ls_unmet, df_end_use_allsteps)"
   ]
  },
  {
   "cell_type": "markdown",
   "metadata": {},
   "source": [
    "If the simulation has already been run, to recover the results directly from the csv file:"
   ]
  },
  {
   "cell_type": "code",
   "execution_count": null,
   "metadata": {},
   "outputs": [],
   "source": [
    "df_step3 = recover_df_step(3, df_step3)"
   ]
  },
  {
   "cell_type": "markdown",
   "metadata": {},
   "source": [
    "### Steps 4-5: HVAC System optimisation, with VAV"
   ]
  },
  {
   "cell_type": "markdown",
   "metadata": {},
   "source": [
    "- Step 4:\n",
    "HVAC is an efficient VAV system. Include exterior shading. Cooling setpoint 26°C, heating setpoint 21°C.\n",
    "- Step 15:\n",
    "HVAC is an efficient VAV system. Include overhangs and thermal curtains. Cooling setpoint 26°C, heating setpoint 21°C."
   ]
  },
  {
   "cell_type": "code",
   "execution_count": null,
   "metadata": {},
   "outputs": [],
   "source": [
    "# Overview of the step_4 dataframe:\n",
    "with pd.option_context('display.max_rows', 20, 'display.max_columns', 10):\n",
    "    display(df_step4)"
   ]
  },
  {
   "cell_type": "code",
   "execution_count": null,
   "metadata": {},
   "outputs": [],
   "source": [
    "# Overview of the step_5 dataframe:\n",
    "with pd.option_context('display.max_rows', 20, 'display.max_columns', 10):\n",
    "    display(df_step5)"
   ]
  },
  {
   "cell_type": "markdown",
   "metadata": {},
   "source": [
    "**Step 4: HVAC is an efficient VAV system. Exterior shading. Cooling setpoint 26°C, heating setpoint 21°C**"
   ]
  },
  {
   "cell_type": "markdown",
   "metadata": {},
   "source": [
    "Run the simulations (it takes time! Be patient):"
   ]
  },
  {
   "cell_type": "code",
   "execution_count": null,
   "metadata": {},
   "outputs": [],
   "source": [
    "if run_all:\n",
    "\n",
    "    # Note the indice run_n of the simulation:\n",
    "    for run_n in df_step4.index:\n",
    "        # Note the glazing type:\n",
    "        igu = df_step4['glazing'][run_n]\n",
    "\n",
    "        # Modify the idf and create a copy:\n",
    "        idf_modified = modify_idf(idfname_vav, epwfile,\n",
    "                                  igu, run_n, df_step4)\n",
    "\n",
    "        # Run the energy simulation:\n",
    "        idf_modified.run(output_directory=\"outputs\\energyplus\")\n",
    "\n",
    "        # Post-process the results:\n",
    "        (df_step4, ls_unmet, df_end_use_allsteps) = (\n",
    "            simulation_postprocess(run_n, df_step4, ls_unmet,\n",
    "                                   df_end_use_allsteps)\n",
    "        )\n",
    "\n",
    "        # Save results:\n",
    "        save_results_csv(4, df_step4, ls_unmet, df_end_use_allsteps)"
   ]
  },
  {
   "cell_type": "markdown",
   "metadata": {},
   "source": [
    "If the simulation has already been run, to recover the results directly from the csv file:"
   ]
  },
  {
   "cell_type": "code",
   "execution_count": null,
   "metadata": {},
   "outputs": [],
   "source": [
    "df_step4 = recover_df_step(4, df_step4)"
   ]
  },
  {
   "cell_type": "markdown",
   "metadata": {},
   "source": [
    "**Step 5: HVAC is an efficient VAV system. Overhangs, thermal curtains. Cooling setpoint 26°C, heating setpoint 21°C**"
   ]
  },
  {
   "cell_type": "markdown",
   "metadata": {},
   "source": [
    "Run the simulations (it takes time! Be patient):"
   ]
  },
  {
   "cell_type": "code",
   "execution_count": null,
   "metadata": {},
   "outputs": [],
   "source": [
    "if run_all:\n",
    "\n",
    "    # Note the indice run_n of the simulation:\n",
    "    for run_n in df_step5.index:\n",
    "        # Note the glazing type:\n",
    "        igu = df_step5['glazing'][run_n]\n",
    "\n",
    "        # Modify the idf and create a copy:\n",
    "        idf_modified = modify_idf(idfname_vav_overhangs, epwfile,\n",
    "                                  igu, run_n, df_step5)\n",
    "\n",
    "        # Run the energy simulation:\n",
    "        idf_modified.run(output_directory=\"outputs\\energyplus\")\n",
    "\n",
    "        # Post-process the results:\n",
    "        (df_step5, ls_unmet, df_end_use_allsteps) = (\n",
    "            simulation_postprocess(run_n, df_step5, ls_unmet,\n",
    "                                   df_end_use_allsteps)\n",
    "        )\n",
    "\n",
    "        # Save results:\n",
    "        save_results_csv(5, df_step5, ls_unmet, df_end_use_allsteps)"
   ]
  },
  {
   "cell_type": "markdown",
   "metadata": {},
   "source": [
    "If the simulation has already been run, to recover the results directly from the csv file:"
   ]
  },
  {
   "cell_type": "code",
   "execution_count": null,
   "metadata": {},
   "outputs": [],
   "source": [
    "df_step5 = recover_df_step(5, df_step5)"
   ]
  },
  {
   "cell_type": "markdown",
   "metadata": {},
   "source": [
    "### Steps 6-7: HVAC System optimisation, with VRF"
   ]
  },
  {
   "cell_type": "markdown",
   "metadata": {},
   "source": [
    "- Step 6:\n",
    "HVAC is an efficient VRF system. Include exterior shading. Cooling setpoint 26°C, heating setpoint 21°C.\n",
    "- Step 7:\n",
    "HVAC is an efficient VRF system. Include overhangs and thermal curtains. Cooling setpoint 26°C, heating setpoint 21°C."
   ]
  },
  {
   "cell_type": "markdown",
   "metadata": {},
   "source": [
    "Now, energy simulation with VRF system."
   ]
  },
  {
   "cell_type": "markdown",
   "metadata": {},
   "source": [
    "**Step 6: HVAC is an efficient VRF system. Exterior shading. Cooling setpoint 26°C, heating setpoint 19°C**"
   ]
  },
  {
   "cell_type": "markdown",
   "metadata": {},
   "source": [
    "Run the simulations (it takes time! Be patient):"
   ]
  },
  {
   "cell_type": "code",
   "execution_count": null,
   "metadata": {},
   "outputs": [],
   "source": [
    "if run_all:\n",
    "\n",
    "    # Note the indice run_n of the simulation:\n",
    "    for run_n in df_step6.index:\n",
    "        # Note the glazing type:\n",
    "        igu = df_step6['glazing'][run_n]\n",
    "\n",
    "        # Modify the idf and create a copy:\n",
    "        idf_modified = modify_idf(idfname_vrf, epwfile,\n",
    "                                  igu, run_n, df_step6)\n",
    "\n",
    "        # Run the energy simulation:\n",
    "        idf_modified.run(output_directory=\"outputs\\energyplus\")\n",
    "\n",
    "        # Post-process the results:\n",
    "        (df_step6, ls_unmet, df_end_use_allsteps) = (\n",
    "            simulation_postprocess(run_n, df_step6, ls_unmet,\n",
    "                                   df_end_use_allsteps)\n",
    "        )\n",
    "\n",
    "        # Save results:\n",
    "        save_results_csv(6, df_step6, ls_unmet, df_end_use_allsteps)"
   ]
  },
  {
   "cell_type": "markdown",
   "metadata": {},
   "source": [
    "If the simulation has already been run, to recover the results directly from the csv file:"
   ]
  },
  {
   "cell_type": "code",
   "execution_count": null,
   "metadata": {},
   "outputs": [],
   "source": [
    "df_step6 = recover_df_step(6, df_step6)"
   ]
  },
  {
   "cell_type": "markdown",
   "metadata": {},
   "source": [
    "**Step 7: HVAC is an efficient VRF system. Overhangs and thermal curtains. Cooling setpoint 27°C, heating setpoint 18°C**"
   ]
  },
  {
   "cell_type": "markdown",
   "metadata": {},
   "source": [
    "Run the simulations (it takes time! Be patient):"
   ]
  },
  {
   "cell_type": "code",
   "execution_count": null,
   "metadata": {},
   "outputs": [],
   "source": [
    "if run_all:\n",
    "\n",
    "    # Note the indice run_n of the simulation:\n",
    "    for run_n in df_step7.index:\n",
    "        # Note the glazing type:\n",
    "        igu = df_step7['glazing'][run_n]\n",
    "\n",
    "        # Modify the idf and create a copy:\n",
    "        idf_modified = modify_idf(idfname_vrf_overhangs, epwfile,\n",
    "                                  igu, run_n, df_step7)\n",
    "\n",
    "        # Run the energy simulation:\n",
    "        idf_modified.run(output_directory=\"outputs\\energyplus\")\n",
    "\n",
    "        # Post-process the results:\n",
    "        (df_step7, ls_unmet, df_end_use_allsteps) = (\n",
    "            simulation_postprocess(run_n, df_step7, ls_unmet,\n",
    "                                   df_end_use_allsteps)\n",
    "        )\n",
    "\n",
    "        # Save results:\n",
    "        save_results_csv(7, df_step7, ls_unmet, df_end_use_allsteps)"
   ]
  },
  {
   "cell_type": "markdown",
   "metadata": {},
   "source": [
    "If the simulation has already been run, to recover the results directly from the csv file:"
   ]
  },
  {
   "cell_type": "code",
   "execution_count": null,
   "metadata": {},
   "outputs": [],
   "source": [
    "df_step7 = recover_df_step(7, df_step7)"
   ]
  },
  {
   "cell_type": "markdown",
   "metadata": {},
   "source": [
    "### Step 8: Reduction of the Window-to-Wall Ratio"
   ]
  },
  {
   "cell_type": "raw",
   "metadata": {},
   "source": [
    "# Overview of the step_8 dataframe:\n",
    "with pd.option_context('display.max_rows', 20, 'display.max_columns', 10):\n",
    "    display(df_step8)"
   ]
  },
  {
   "cell_type": "markdown",
   "metadata": {},
   "source": [
    "Run the simulations (it takes time! Be patient):"
   ]
  },
  {
   "cell_type": "code",
   "execution_count": null,
   "metadata": {},
   "outputs": [],
   "source": [
    "if run_all:\n",
    "\n",
    "    # Note the indice run_n of the simulation:\n",
    "    for run_n in df_step8.index:\n",
    "        # Note the glazing type:\n",
    "        igu = df_step8['glazing'][run_n]\n",
    "\n",
    "        # Modify the idf and create a copy:\n",
    "        idf_modified = modify_idf(idfname_vav, epwfile,\n",
    "                                  igu, run_n, df_step8)\n",
    "\n",
    "        # Modify the window-to-wall ratio (75% of the existing one):\n",
    "        for element in idf_modified.idfobjects['FenestrationSurface:Detailed']:\n",
    "            if element.Surface_Type == 'Window':\n",
    "                if \"Ground\" in element.Name:\n",
    "                    # Reduce the height of the ground floor windows:\n",
    "                    element.Vertex_2_Zcoordinate += 0.70\n",
    "                    element.Vertex_3_Zcoordinate += 0.70\n",
    "                else:\n",
    "                    # Reduce the height of the mid/top floor windows:\n",
    "                    element.Vertex_2_Zcoordinate += 0.60\n",
    "                    element.Vertex_3_Zcoordinate += 0.60\n",
    "\n",
    "        idf_modified.save()\n",
    "\n",
    "        # Run the energy simulation:\n",
    "        idf_modified.run(output_directory=\"outputs\\energyplus\")\n",
    "\n",
    "        # Post-process the results:\n",
    "        (df_step8, ls_unmet, df_end_use_allsteps) = (\n",
    "            simulation_postprocess(run_n, df_step8, ls_unmet,\n",
    "                                   df_end_use_allsteps)\n",
    "        )\n",
    "\n",
    "        # Save results:\n",
    "        save_results_csv(8, df_step8, ls_unmet, df_end_use_allsteps)"
   ]
  },
  {
   "cell_type": "markdown",
   "metadata": {},
   "source": [
    "If the simulation has already been run, to recover the results directly from the csv file:"
   ]
  },
  {
   "cell_type": "code",
   "execution_count": null,
   "metadata": {},
   "outputs": [],
   "source": [
    "df_step8 = recover_df_step(8, df_step8)"
   ]
  },
  {
   "cell_type": "markdown",
   "metadata": {},
   "source": [
    "### Steps 9: High-Tech Retrofitting, from Krypton to Smart Glass and DSF"
   ]
  },
  {
   "cell_type": "markdown",
   "metadata": {},
   "source": [
    "Initial run: dg_init_bronze.\n",
    "- Simulation runs: <br>\n",
    "a. Double glazing filled w/ krypton<br>\n",
    "b. Triple glazing filled w/ krypton\t <br>\n",
    "c. Triple glazing filled w/ xenon <br>\n",
    "d. Closed Cavity Facade\t(CCF)<br>\n",
    "e. Vaccum glazing\t<br>\n",
    "f. Smart double glazing<br>\n",
    "g. Double Skin Facade (DSF)<br>"
   ]
  },
  {
   "cell_type": "raw",
   "metadata": {},
   "source": [
    "# Overview of the step_9 dataframe:\n",
    "with pd.option_context('display.max_rows', 20, 'display.max_columns', 10):\n",
    "    display(df_step9)"
   ]
  },
  {
   "cell_type": "code",
   "execution_count": null,
   "metadata": {},
   "outputs": [],
   "source": [
    "if run_all:\n",
    "\n",
    "    # Note the indice run_n of the simulation:\n",
    "    for run_n in df_step9.index:\n",
    "        # Note the glazing type:\n",
    "        igu = df_step9['glazing'][run_n]\n",
    "        \n",
    "        # DSF is skipped, see below for the specific case of DSF:\n",
    "        if igu == \"dsf\":\n",
    "            continue\n",
    "\n",
    "        # Modify the idf and create a copy:\n",
    "        idf_modified = modify_idf(idfname_vav, epwfile,\n",
    "                                  igu, run_n, df_step9)\n",
    "\n",
    "        # CCF use in between shading:\n",
    "        if igu == \"ccf\":\n",
    "            for element in idf_modified.idfobjects['WindowShadingControl']:\n",
    "                element.Shading_Type = 'ExteriorShade'\n",
    "                element.Shading_Control_Type = (\n",
    "                    'OnIfHighZoneAirTempAndHighSolarOnWindow')\n",
    "                element.Schedule_Name = 'EXT_Shading_On'\n",
    "                element.Setpoint = '22'\n",
    "                element.Setpoint_2 = '250'\n",
    "                element.Shading_Control_Is_Scheduled = 'Yes'\n",
    "                element.Glare_Control_Is_Active = 'No'\n",
    "                element.Shading_Device_Material_Name = (\n",
    "                    'Ext_EnviroScreen_lightgrey_silver')\n",
    "                element.Type_of_Slat_Angle_Control_for_Blinds = (\n",
    "                    'FixedSlatAngle')\n",
    "\n",
    "            idf_modified.save()\n",
    "\n",
    "        # Run the energy simulation:\n",
    "        if igu != \"dg_smart\":\n",
    "            idf_modified.run(output_directory=\"outputs\\energyplus\")\n",
    "        else:\n",
    "            # To run the simulation for smart glass, need a specific idf:\n",
    "            idf_smartglass = IDF(idfname_smartglass, epwfile)\n",
    "            idf_smartglass.run(output_directory=\"outputs\\energyplus\")\n",
    "\n",
    "        # Post-process the results:\n",
    "        (df_step9, ls_unmet, df_end_use_allsteps) = (\n",
    "            simulation_postprocess(run_n, df_step9, ls_unmet,\n",
    "                                   df_end_use_allsteps)\n",
    "        )\n",
    "\n",
    "        # Save results:\n",
    "        save_results_csv(9, df_step9, ls_unmet, df_end_use_allsteps)"
   ]
  },
  {
   "cell_type": "markdown",
   "metadata": {},
   "source": [
    "**Specific cas of the Double Skin Facade (DSF):**"
   ]
  },
  {
   "cell_type": "markdown",
   "metadata": {},
   "source": [
    "The analysis of the double skin facade system is not based on energy modelling, but on the results of a review conducted by Pomponi et al. on more than 50 publications."
   ]
  },
  {
   "cell_type": "markdown",
   "metadata": {},
   "source": [
    "See: Pomponi et al., 2016. \"Energy performance of Double-Skin Façades in temperate climates: A systematic review and meta-analysis,\" *Renewable and Sustainable Energy Reviews*."
   ]
  },
  {
   "cell_type": "markdown",
   "metadata": {},
   "source": [
    "The authors summarise the results in terms of possible energy use reduction.\n",
    "The average reduction in heating load is 33%, but with a high degree of variability. Taking into account the 75th and 25th percentiles, the maximum reduction is about 50% and the minimum about 20%.\n",
    "The average reduction of the cooling load is 28%, with slightly less variability than in the case of the heating load. Taking into account the 75th and 25th percentiles, the maximum reduction is 40% and the minimum 20%."
   ]
  },
  {
   "cell_type": "markdown",
   "metadata": {},
   "source": [
    "These values are applied to the average energy use for double and triple glazing with exterior shading device (step4), VAV optimised."
   ]
  },
  {
   "cell_type": "code",
   "execution_count": null,
   "metadata": {},
   "outputs": [],
   "source": [
    "if run_all:\n",
    "\n",
    "    df_copy = df_end_use_allsteps[[\n",
    "        \"d_e_2126_dg1_vav_sd\", \"d_f_2126_dg2_vav_sd\", \"d_g_2126_dg3_vav_sd\",\n",
    "        \"d_h_2126_dg4_vav_sd\", \"d_i_2126_dg5_vav_sd\", \"d_j_2126_dg6_vav_sd\",\n",
    "        \"d_k_2126_tg1_vav_sd\", \"d_l_2126_tg2_vav_sd\", \"d_m_2126_tg3_vav_sd\",\n",
    "        \"d_n_2126_tg4_vav_sd\", \"d_o_2126_tg5_vav_sd\", \"d_p_2126_tg6_vav_sd\"]\n",
    "    ].copy()\n",
    "\n",
    "    df_step4_mean = df_copy.groupby(level=1, axis=1).mean()\n",
    "    df_step4_mean.columns = pd.MultiIndex.from_product([['mean'],\n",
    "                                                        df_step4_mean.columns])\n",
    "\n",
    "    df_end_use_allsteps = df_end_use_allsteps.stack()\n",
    "    df_step4_mean = df_step4_mean.stack()\n",
    "\n",
    "    for name in df_step9.index:\n",
    "        df_end_use_allsteps[name] = df_step4_mean[\"mean\"]\n",
    "        print(name)\n",
    "\n",
    "    df_end_use_allsteps = df_end_use_allsteps.unstack()\n",
    "    df_step4_mean = df_step4_mean.unstack()\n",
    "\n",
    "    for name in df_step9.index:\n",
    "        for energy in [\"Natural Gas\", \"Electricity\"]:\n",
    "            if \"min\" in name:\n",
    "                df_end_use_allsteps[(name, energy)][\"Heating\"] = (\n",
    "                    df_step4_mean[(\"mean\", energy)][\"Heating\"]*0.50)\n",
    "                df_end_use_allsteps[(name, energy)][\"Cooling\"] = (\n",
    "                    df_step4_mean[(\"mean\", energy)].loc[\"Cooling\"]*0.60)\n",
    "            if \"mean\" in name:\n",
    "                df_end_use_allsteps[(name, energy)][\"Heating\"] = (\n",
    "                    df_step4_mean[(\"mean\", energy)][\"Heating\"]*0.77)\n",
    "                df_end_use_allsteps[(name, energy)][\"Cooling\"] = (\n",
    "                    df_step4_mean[(\"mean\", energy)][\"Cooling\"]*0.72)\n",
    "            if \"mean\" in name:\n",
    "                df_end_use_allsteps[(name, energy)][\"Heating\"] = (\n",
    "                    df_step4_mean[(\"mean\", energy)][\"Heating\"]*0.80)\n",
    "                df_end_use_allsteps[(name, energy)][\"Cooling\"] = (\n",
    "                    df_step4_mean[(\"mean\", energy)][\"Cooling\"]*0.80)"
   ]
  },
  {
   "cell_type": "code",
   "execution_count": null,
   "metadata": {},
   "outputs": [],
   "source": [
    "if run_all:\n",
    "\n",
    "    ls_dsf = list(df_step9.index[df_step9['glazing'] == \"dsf\"])\n",
    "\n",
    "    # Update df_step9 with natural gas and electricity use:\n",
    "    for name in ls_dsf:\n",
    "\n",
    "        # Sum of the electricity uses:\n",
    "        elec_tot_gj = df_end_use_allsteps[(name, 'Electricity')].sum()\n",
    "        # Convert GJ to kWh:\n",
    "        elec_tot_kwh = elec_tot_gj * 277.8\n",
    "        # Use of natural gas:\n",
    "        gas_tot_gj = df_end_use_allsteps[(name, 'Natural Gas')].sum()\n",
    "        # Convert GJ to MJ:\n",
    "        gas_tot_mj = gas_tot_gj * 1000\n",
    "\n",
    "        # Save values in df_step9, per m² of glazed facade:\n",
    "        df_step9.loc[df_step9.index == name, 'elec_use'] = (\n",
    "            elec_tot_kwh / glazed_facade_area)\n",
    "        df_step9.loc[df_step9.index == name, 'natural_gas'] = (\n",
    "            gas_tot_mj / glazed_facade_area)\n",
    "\n",
    "    \n",
    "    # Save results:\n",
    "    save_results_csv(9, df_step9, ls_unmet, df_end_use_allsteps)"
   ]
  },
  {
   "cell_type": "markdown",
   "metadata": {},
   "source": [
    "If the simulation has already been run, to recover the results directly from the csv file:"
   ]
  },
  {
   "cell_type": "code",
   "execution_count": null,
   "metadata": {},
   "outputs": [],
   "source": [
    "df_step9 = recover_df_step(9, df_step9)"
   ]
  },
  {
   "cell_type": "markdown",
   "metadata": {},
   "source": [
    "### Step 10: Americanisation of the interior climate"
   ]
  },
  {
   "cell_type": "markdown",
   "metadata": {},
   "source": [
    "- Cooling setpoint: 24°C\n",
    "- Heating setpoint: 21°C\n",
    "- With exterior shadings"
   ]
  },
  {
   "cell_type": "code",
   "execution_count": null,
   "metadata": {},
   "outputs": [],
   "source": [
    "# Overview of the step_10 dataframe:\n",
    "with pd.option_context('display.max_rows', 20, 'display.max_columns', 10):\n",
    "    display(df_step10)"
   ]
  },
  {
   "cell_type": "markdown",
   "metadata": {},
   "source": [
    "Run the simulations (it takes time! Be patient):"
   ]
  },
  {
   "cell_type": "code",
   "execution_count": null,
   "metadata": {},
   "outputs": [],
   "source": [
    "if run_all:\n",
    "\n",
    "    # Note the indice run_n of the simulation:\n",
    "    for run_n in df_step10.index:\n",
    "        # Note the glazing type:\n",
    "        igu = df_step10['glazing'][run_n]\n",
    "\n",
    "        # Modify the idf and create a copy:\n",
    "        idf_modified = modify_idf(idfname_vav, epwfile,\n",
    "                                  igu, run_n, df_step10)\n",
    "\n",
    "        # Run the energy simulation:\n",
    "        idf_modified.run(output_directory=\"outputs\\energyplus\")\n",
    "\n",
    "        # Post-process the results:\n",
    "        (df_step10, ls_unmet, df_end_use_allsteps) = (\n",
    "            simulation_postprocess(run_n, df_step10, ls_unmet,\n",
    "                                   df_end_use_allsteps)\n",
    "        )\n",
    "\n",
    "        # Save results:\n",
    "        save_results_csv(10, df_step10, ls_unmet, df_end_use_allsteps)"
   ]
  },
  {
   "cell_type": "markdown",
   "metadata": {},
   "source": [
    "If the simulation has already been run, to recover the results directly from the csv file:"
   ]
  },
  {
   "cell_type": "code",
   "execution_count": null,
   "metadata": {},
   "outputs": [],
   "source": [
    "df_step10 = recover_df_step(10, df_step10)"
   ]
  },
  {
   "cell_type": "markdown",
   "metadata": {},
   "source": [
    "### Step 11: sufficiency path"
   ]
  },
  {
   "cell_type": "markdown",
   "metadata": {},
   "source": [
    "- Cooling setpoint: 18°C\n",
    "- Heating setpoint: 27°C\n",
    "- With overhangs and thermal curtains"
   ]
  },
  {
   "cell_type": "code",
   "execution_count": null,
   "metadata": {},
   "outputs": [],
   "source": [
    "# Overview of the step_11 dataframe:\n",
    "with pd.option_context('display.max_rows', 20, 'display.max_columns', 10):\n",
    "    display(df_step11)"
   ]
  },
  {
   "cell_type": "markdown",
   "metadata": {},
   "source": [
    "Run the simulations (it takes time! Be patient):"
   ]
  },
  {
   "cell_type": "code",
   "execution_count": null,
   "metadata": {},
   "outputs": [],
   "source": [
    "if run_all:\n",
    "\n",
    "    # Note the indice run_n of the simulation:\n",
    "    for run_n in df_step11.index:\n",
    "        # Note the glazing type:\n",
    "        igu = df_step11['glazing'][run_n]\n",
    "\n",
    "        # Modify the idf and create a copy:\n",
    "        idf_modified = modify_idf(idfname_vav_overhangs, epwfile,\n",
    "                                  igu, run_n, df_step11)\n",
    "\n",
    "        # Run the energy simulation:\n",
    "        idf_modified.run(output_directory=\"outputs\\energyplus\")\n",
    "\n",
    "        # Post-process the results:\n",
    "        (df_step11, ls_unmet, df_end_use_allsteps) = (\n",
    "            simulation_postprocess(run_n, df_step11, ls_unmet,\n",
    "                                   df_end_use_allsteps)\n",
    "        )\n",
    "\n",
    "        # Save results:\n",
    "        save_results_csv(11, df_step11, ls_unmet, df_end_use_allsteps)"
   ]
  },
  {
   "cell_type": "markdown",
   "metadata": {},
   "source": [
    "If the simulation has already been run, to recover the results directly from the csv file:"
   ]
  },
  {
   "cell_type": "code",
   "execution_count": null,
   "metadata": {},
   "outputs": [],
   "source": [
    "df_step11 = recover_df_step(11, df_step11)"
   ]
  },
  {
   "cell_type": "markdown",
   "metadata": {},
   "source": [
    "### Steps 12: internal gains"
   ]
  },
  {
   "cell_type": "markdown",
   "metadata": {},
   "source": [
    "- Step 18: Increase of the internal gains. Density of 6.5 m²/p. instead of 10m²/p; lighting power of 10 W/m² instead of 8 W/m²."
   ]
  },
  {
   "cell_type": "code",
   "execution_count": null,
   "metadata": {},
   "outputs": [],
   "source": [
    "# Overview of the step_12 dataframe:\n",
    "with pd.option_context('display.max_rows', 20, 'display.max_columns', 10):\n",
    "    display(df_step12)"
   ]
  },
  {
   "cell_type": "code",
   "execution_count": null,
   "metadata": {},
   "outputs": [],
   "source": [
    "if run_all:\n",
    "\n",
    "    # Note the indice run_n of the simulation:\n",
    "    for run_n in df_step12.index:\n",
    "        # Note the glazing type:\n",
    "        igu = df_step12['glazing'][run_n]\n",
    "\n",
    "        # Modify the idf and create a copy:\n",
    "        idf_modified = modify_idf(idfname_vav, epwfile,\n",
    "                                  igu, run_n, df_step12)\n",
    "\n",
    "        # Modify the lighting power (10 W/m²) and office density (8 m²/p.):\n",
    "        for element in idf_modified.idfobjects['Lights']:\n",
    "            if \"Office\" in element.Zone_or_ZoneList_Name:\n",
    "                element.Watts_per_Zone_Floor_Area = 10\n",
    "\n",
    "        for element in idf_modified.idfobjects['People']:\n",
    "            if \"Office\" in element.Zone_or_ZoneList_Name:\n",
    "                element.Zone_Floor_Area_per_Person = 6.5\n",
    "\n",
    "        idf_modified.save()\n",
    "        # Run the energy simulation:\n",
    "        idf_modified.run(output_directory=\"outputs\\energyplus\")\n",
    "\n",
    "        # Post-process the results:\n",
    "        (df_step12, ls_unmet, df_end_use_allsteps) = (\n",
    "            simulation_postprocess(run_n, df_step12, ls_unmet,\n",
    "                                   df_end_use_allsteps)\n",
    "        )\n",
    "\n",
    "        # Save results:\n",
    "        save_results_csv(12, df_step12, ls_unmet, df_end_use_allsteps)"
   ]
  },
  {
   "cell_type": "markdown",
   "metadata": {},
   "source": [
    "If the simulation has already been run, to recover the results directly from the csv file:"
   ]
  },
  {
   "cell_type": "code",
   "execution_count": null,
   "metadata": {},
   "outputs": [],
   "source": [
    "df_step12 = recover_df_step(12, df_step12)"
   ]
  },
  {
   "cell_type": "markdown",
   "metadata": {},
   "source": [
    "- Step 13: Decrease of the internal gains. Density of 10 m²/p. instead of 8m²/p; lighting power of 5 W/m² instead of 8 W/m²."
   ]
  },
  {
   "cell_type": "code",
   "execution_count": null,
   "metadata": {},
   "outputs": [],
   "source": [
    "# Overview of the step_13 dataframe:\n",
    "with pd.option_context('display.max_rows', 20, 'display.max_columns', 10):\n",
    "    display(df_step13)"
   ]
  },
  {
   "cell_type": "markdown",
   "metadata": {},
   "source": [
    "Step 19, run the simulations (it takes time! Be patient):"
   ]
  },
  {
   "cell_type": "code",
   "execution_count": null,
   "metadata": {},
   "outputs": [],
   "source": [
    "if run_all:\n",
    "\n",
    "    # Note the indice run_n of the simulation:\n",
    "    for run_n in df_step13.index:\n",
    "        # Note the glazing type:\n",
    "        igu = df_step13['glazing'][run_n]\n",
    "\n",
    "        # Modify the idf and create a copy:\n",
    "        idf_modified = modify_idf(idfname_vav, epwfile,\n",
    "                                  igu, run_n, df_step13)\n",
    "\n",
    "        # Modify the lighting power (10 W/m²) and office density (8 m²/p.):\n",
    "        for element in idf_modified.idfobjects['Lights']:\n",
    "            if \"Office\" in element.Zone_or_ZoneList_Name:\n",
    "                element.Watts_per_Zone_Floor_Area = 5\n",
    "\n",
    "        for element in idf_modified.idfobjects['People']:\n",
    "            if \"Office\" in element.Zone_or_ZoneList_Name:\n",
    "                element.Zone_Floor_Area_per_Person = 10\n",
    "\n",
    "        idf_modified.save()\n",
    "        # Run the energy simulation:\n",
    "        idf_modified.run(output_directory=\"outputs\\energyplus\")\n",
    "\n",
    "        # Post-process the results:\n",
    "        (df_step13, ls_unmet, df_end_use_allsteps) = (\n",
    "            simulation_postprocess(run_n, df_step13, ls_unmet,\n",
    "                                   df_end_use_allsteps)\n",
    "        )\n",
    "\n",
    "        # Save results:\n",
    "        save_results_csv(13, df_step13, ls_unmet, df_end_use_allsteps)"
   ]
  },
  {
   "cell_type": "markdown",
   "metadata": {},
   "source": [
    "If the simulation has already been run, to recover the results directly from the csv file:"
   ]
  },
  {
   "cell_type": "code",
   "execution_count": null,
   "metadata": {},
   "outputs": [],
   "source": [
    "df_step13 = recover_df_step(13, df_step13)"
   ]
  },
  {
   "cell_type": "markdown",
   "metadata": {},
   "source": [
    "### Steps 14-19: Climate Change"
   ]
  },
  {
   "cell_type": "markdown",
   "metadata": {},
   "source": [
    "Weather files generated thanks to the Climate Change World Weather File Generator (CCWorldWeatherGen), created by the Energy and Climate Change Division (ECCD) at the Faculty of Engineering and Physical Sciences, University of Southampton."
   ]
  },
  {
   "cell_type": "markdown",
   "metadata": {},
   "source": [
    "See: https://energy.soton.ac.uk/climate-change-world-weather-file-generator-for-world-wide-weather-data-ccworldweathergen/#"
   ]
  },
  {
   "cell_type": "markdown",
   "metadata": {},
   "source": [
    "The CCWorldWeatherGen \"uses Intergovernmental Panel on Climate Change (IPCC) Third Assessment Report model summary data of the HadCM3 A2 experiment ensemble which is available from the IPCC Data Distribution Centre (IPCC DDC).\" \"The underlying weather file generation routines of this tool are based on the so-called ‘morphing’ methodology for climate change transformation of weather data [...].\""
   ]
  },
  {
   "cell_type": "code",
   "execution_count": null,
   "metadata": {},
   "outputs": [],
   "source": [
    "epwfile_2050 = os.path.join(ROOT_DIR_EPlus, \"BEL_BRUSSELS_HadCM3-A2-2050.epw\")\n",
    "epwfile_2080 = os.path.join(ROOT_DIR_EPlus, \"BEL_BRUSSELS_HadCM3-A2-2080.epw\")"
   ]
  },
  {
   "cell_type": "markdown",
   "metadata": {},
   "source": [
    "**Step 14-15: epw 2050 and 2080. Include exterior shading. Cooling setpoint 26°C, heating setpoint 19°C.**\n"
   ]
  },
  {
   "cell_type": "raw",
   "metadata": {},
   "source": [
    "# Overview of the step_14 dataframe:\n",
    "with pd.option_context('display.max_rows', 20, 'display.max_columns', 10):\n",
    "    display(df_step14)"
   ]
  },
  {
   "cell_type": "markdown",
   "metadata": {},
   "source": [
    "Run the simulations (it takes time! Be patient):"
   ]
  },
  {
   "cell_type": "code",
   "execution_count": null,
   "metadata": {
    "scrolled": false
   },
   "outputs": [],
   "source": [
    "if run_all:\n",
    "\n",
    "    # Note the indice run_n of the simulation:\n",
    "    for run_n in df_step14.index:\n",
    "        # Note the glazing type:\n",
    "        igu = df_step14['glazing'][run_n]\n",
    "\n",
    "        # Weather file according to time horizon:\n",
    "        if \"cc2050\" in run_n:\n",
    "            epwfile_cc = epwfile_2050\n",
    "        elif \"cc2080\" in run_n:\n",
    "            epwfile_cc = epwfile_2080\n",
    "\n",
    "        # Modify the idf and create a copy:\n",
    "        idf_modified = modify_idf(idfname_vav, epwfile_cc,\n",
    "                                  igu, run_n, df_step14)\n",
    "\n",
    "        # Run the energy simulation:\n",
    "        idf_modified.run(output_directory=\"outputs\\energyplus\")\n",
    "\n",
    "        # Post-process the results:\n",
    "        (df_step14, ls_unmet, df_end_use_allsteps) = (\n",
    "            simulation_postprocess(run_n, df_step14, ls_unmet,\n",
    "                                   df_end_use_allsteps)\n",
    "        )\n",
    "\n",
    "        # Save results:\n",
    "        save_results_csv(14, df_step14, ls_unmet, df_end_use_allsteps)"
   ]
  },
  {
   "cell_type": "code",
   "execution_count": null,
   "metadata": {
    "scrolled": false
   },
   "outputs": [],
   "source": [
    "if run_all:\n",
    "\n",
    "    # Note the indice run_n of the simulation:\n",
    "    for run_n in df_step15.index:\n",
    "        # Note the glazing type:\n",
    "        igu = df_step15['glazing'][run_n]\n",
    "\n",
    "        # Weather file according to time horizon:\n",
    "        if \"cc2050\" in run_n:\n",
    "            epwfile_cc = epwfile_2050\n",
    "        elif \"cc2080\" in run_n:\n",
    "            epwfile_cc = epwfile_2080\n",
    "\n",
    "        # Modify the idf and create a copy:\n",
    "        idf_modified = modify_idf(idfname_vav, epwfile_cc,\n",
    "                                  igu, run_n, df_step15)\n",
    "\n",
    "        # Run the energy simulation:\n",
    "        idf_modified.run(output_directory=\"outputs\\energyplus\")\n",
    "\n",
    "        # Post-process the results:\n",
    "        (df_step15, ls_unmet, df_end_use_allsteps) = (\n",
    "            simulation_postprocess(run_n, df_step15, ls_unmet,\n",
    "                                   df_end_use_allsteps)\n",
    "        )\n",
    "\n",
    "        # Save results:\n",
    "        save_results_csv(15, df_step15, ls_unmet, df_end_use_allsteps)"
   ]
  },
  {
   "cell_type": "markdown",
   "metadata": {},
   "source": [
    "If the simulation has already been run, to recover the results directly from the csv file:"
   ]
  },
  {
   "cell_type": "code",
   "execution_count": null,
   "metadata": {},
   "outputs": [],
   "source": [
    "df_step14 = recover_df_step(14, df_step14)"
   ]
  },
  {
   "cell_type": "code",
   "execution_count": null,
   "metadata": {},
   "outputs": [],
   "source": [
    "df_step15 = recover_df_step(15, df_step15)"
   ]
  },
  {
   "cell_type": "markdown",
   "metadata": {},
   "source": [
    "**Step 16-17: epw 2050 and 2080. Include exterior shading. Cooling setpoint 24°C, heating setpoint 21°C.**"
   ]
  },
  {
   "cell_type": "raw",
   "metadata": {},
   "source": [
    "# Overview of the step_16 dataframe:\n",
    "with pd.option_context('display.max_rows', 20, 'display.max_columns', 10):\n",
    "    display(df_step17)"
   ]
  },
  {
   "cell_type": "markdown",
   "metadata": {},
   "source": [
    "Run the simulations (it takes time! Be patient):"
   ]
  },
  {
   "cell_type": "code",
   "execution_count": null,
   "metadata": {
    "scrolled": false
   },
   "outputs": [],
   "source": [
    "if run_all:\n",
    "\n",
    "    # Note the indice run_n of the simulation:\n",
    "    for run_n in df_step16.index:\n",
    "        # Note the glazing type:\n",
    "        igu = df_step16['glazing'][run_n]\n",
    "\n",
    "        # Weather file according to time horizon:\n",
    "        if \"cc2050\" in run_n:\n",
    "            epwfile_cc = epwfile_2050\n",
    "        elif \"cc2080\" in run_n:\n",
    "            epwfile_cc = epwfile_2080\n",
    "\n",
    "        # Modify the idf and create a copy:\n",
    "        idf_modified = modify_idf(idfname_vav, epwfile_cc,\n",
    "                                  igu, run_n, df_step16)\n",
    "\n",
    "        # Run the energy simulation:\n",
    "        idf_modified.run(output_directory=\"outputs\\energyplus\")\n",
    "\n",
    "        # Post-process the results:\n",
    "        (df_step16, ls_unmet, df_end_use_allsteps) = (\n",
    "            simulation_postprocess(run_n, df_step16, ls_unmet,\n",
    "                                   df_end_use_allsteps)\n",
    "        )\n",
    "\n",
    "        # Save results:\n",
    "        save_results_csv(16, df_step16, ls_unmet, df_end_use_allsteps)"
   ]
  },
  {
   "cell_type": "code",
   "execution_count": null,
   "metadata": {
    "scrolled": false
   },
   "outputs": [],
   "source": [
    "if run_all:\n",
    "\n",
    "    # Note the indice run_n of the simulation:\n",
    "    for run_n in df_step17.index:\n",
    "        # Note the glazing type:\n",
    "        igu = df_step17['glazing'][run_n]\n",
    "\n",
    "        # Weather file according to time horizon:\n",
    "        if \"cc2050\" in run_n:\n",
    "            epwfile_cc = epwfile_2050\n",
    "        elif \"cc2080\" in run_n:\n",
    "            epwfile_cc = epwfile_2080\n",
    "\n",
    "        # Modify the idf and create a copy:\n",
    "        idf_modified = modify_idf(idfname_vav, epwfile_cc,\n",
    "                                  igu, run_n, df_step17)\n",
    "\n",
    "        # Run the energy simulation:\n",
    "        idf_modified.run(output_directory=\"outputs\\energyplus\")\n",
    "\n",
    "        # Post-process the results:\n",
    "        (df_step17, ls_unmet, df_end_use_allsteps) = (\n",
    "            simulation_postprocess(run_n, df_step17, ls_unmet,\n",
    "                                   df_end_use_allsteps)\n",
    "        )\n",
    "\n",
    "        # Save results:\n",
    "        save_results_csv(17, df_step17, ls_unmet, df_end_use_allsteps)"
   ]
  },
  {
   "cell_type": "markdown",
   "metadata": {},
   "source": [
    "If the simulation has already been run, to recover the results directly from the csv file:"
   ]
  },
  {
   "cell_type": "code",
   "execution_count": null,
   "metadata": {},
   "outputs": [],
   "source": [
    "df_step16 = recover_df_step(16, df_step16)"
   ]
  },
  {
   "cell_type": "code",
   "execution_count": null,
   "metadata": {},
   "outputs": [],
   "source": [
    "df_step17 = recover_df_step(17, df_step17)"
   ]
  },
  {
   "cell_type": "markdown",
   "metadata": {},
   "source": [
    "**Step 18-19: epw 2050 and 2080. Include overhangs and thermal curtains. Cooling setpoint 27°C, heating setpoint 18°C.**"
   ]
  },
  {
   "cell_type": "raw",
   "metadata": {},
   "source": [
    "# Overview of the step_18 dataframe:\n",
    "with pd.option_context('display.max_rows', 20, 'display.max_columns', 10):\n",
    "    display(df_step18)"
   ]
  },
  {
   "cell_type": "markdown",
   "metadata": {},
   "source": [
    "Run the simulations (it takes time! Be patient):"
   ]
  },
  {
   "cell_type": "code",
   "execution_count": null,
   "metadata": {
    "scrolled": true
   },
   "outputs": [],
   "source": [
    "if run_all:\n",
    "\n",
    "    # Note the indice run_n of the simulation:\n",
    "    for run_n in df_step18.index:\n",
    "        # Note the glazing type:\n",
    "        igu = df_step18['glazing'][run_n]\n",
    "\n",
    "        # Weather file according to time horizon:\n",
    "        if \"cc2050\" in run_n:\n",
    "            epwfile_cc = epwfile_2050\n",
    "        elif \"cc2080\" in run_n:\n",
    "            epwfile_cc = epwfile_2080\n",
    "\n",
    "        # Modify the idf and create a copy:\n",
    "        idf_modified = modify_idf(idfname_vav_overhangs, epwfile_cc,\n",
    "                                  igu, run_n, df_step18)\n",
    "\n",
    "        # Run the energy simulation:\n",
    "        idf_modified.run(output_directory=\"outputs\\energyplus\")\n",
    "\n",
    "        # Post-process the results:\n",
    "        (df_step18, ls_unmet, df_end_use_allsteps) = (\n",
    "            simulation_postprocess(run_n, df_step18, ls_unmet,\n",
    "                                   df_end_use_allsteps)\n",
    "        )\n",
    "\n",
    "        # Save results:\n",
    "        save_results_csv(18, df_step18, ls_unmet, df_end_use_allsteps)"
   ]
  },
  {
   "cell_type": "code",
   "execution_count": null,
   "metadata": {
    "scrolled": true
   },
   "outputs": [],
   "source": [
    "if run_all:\n",
    "\n",
    "    # Note the indice run_n of the simulation:\n",
    "    for run_n in df_step19.index:\n",
    "        # Note the glazing type:\n",
    "        igu = df_step19['glazing'][run_n]\n",
    "\n",
    "        # Weather file according to time horizon:\n",
    "        if \"cc2050\" in run_n:\n",
    "            epwfile_cc = epwfile_2050\n",
    "        elif \"cc2080\" in run_n:\n",
    "            epwfile_cc = epwfile_2080\n",
    "\n",
    "        # Modify the idf and create a copy:\n",
    "        idf_modified = modify_idf(idfname_vav_overhangs, epwfile_cc,\n",
    "                                  igu, run_n, df_step19)\n",
    "\n",
    "        # Run the energy simulation:\n",
    "        idf_modified.run(output_directory=\"outputs\\energyplus\")\n",
    "\n",
    "        # Post-process the results:\n",
    "        (df_step19, ls_unmet, df_end_use_allsteps) = (\n",
    "            simulation_postprocess(run_n, df_step19, ls_unmet,\n",
    "                                   df_end_use_allsteps)\n",
    "        )\n",
    "\n",
    "        # Save results:\n",
    "        save_results_csv(19, df_step19, ls_unmet, df_end_use_allsteps)"
   ]
  },
  {
   "cell_type": "markdown",
   "metadata": {},
   "source": [
    "If the simulation has already been run, to recover the results directly from csv:"
   ]
  },
  {
   "cell_type": "code",
   "execution_count": null,
   "metadata": {},
   "outputs": [],
   "source": [
    "df_step18 = recover_df_step(18, df_step18)"
   ]
  },
  {
   "cell_type": "code",
   "execution_count": null,
   "metadata": {},
   "outputs": [],
   "source": [
    "df_step19 = recover_df_step(19, df_step19)"
   ]
  },
  {
   "cell_type": "markdown",
   "metadata": {},
   "source": [
    "# Post-Processing and Data Analysis"
   ]
  },
  {
   "cell_type": "code",
   "execution_count": null,
   "metadata": {},
   "outputs": [],
   "source": [
    "df_end_use_allsteps"
   ]
  },
  {
   "cell_type": "markdown",
   "metadata": {},
   "source": [
    "Create a new DataFrame with total energy use and HVAC total energy use:"
   ]
  },
  {
   "cell_type": "code",
   "execution_count": null,
   "metadata": {},
   "outputs": [],
   "source": [
    "df_end_use_total = df_end_use_allsteps.groupby(level=0, axis=1).sum()\n",
    "\n",
    "# Add a row with total energy use:\n",
    "df_end_use_total.loc['Total', :] = df_end_use_total.sum(axis=0)\n",
    "\n",
    "# Add a row with total energy use for HVAC system:\n",
    "ls_hvac = list(df_end_use_total.index)\n",
    "ls_hvac.remove(\"Interior Equipment\")\n",
    "ls_hvac.remove(\"Interior Lighting\")\n",
    "ls_hvac.remove(\"Total\")\n",
    "new_row_hvac = df_end_use_total.loc[ls_hvac].sum()\n",
    "new_row_hvac.name = \"Total HVAC\"\n",
    "df_end_use_total = df_end_use_total.append([new_row_hvac])\n",
    "\n",
    "# Add a row with the sum of heating and cooling energy use:\n",
    "new_row_hc = df_end_use_total.loc[[\"Heating\", \"Cooling\"]].sum()\n",
    "new_row_hc.name = \"Heating and Cooling\"\n",
    "df_end_use_total = df_end_use_total.append([new_row_hc])"
   ]
  },
  {
   "cell_type": "code",
   "execution_count": null,
   "metadata": {},
   "outputs": [],
   "source": [
    "df_end_use_total"
   ]
  },
  {
   "cell_type": "markdown",
   "metadata": {},
   "source": [
    "## Functions to plot the results"
   ]
  },
  {
   "cell_type": "markdown",
   "metadata": {},
   "source": [
    "Plot of energy use according to glazing type, in kWh per m² of conditioned area:"
   ]
  },
  {
   "cell_type": "code",
   "execution_count": null,
   "metadata": {},
   "outputs": [],
   "source": [
    "def end_use_v_plot(code, df_end_use_allsteps, ylim, title):\n",
    "    \"\"\"\n",
    "    Plot the energy usage by service type for each simulation run. \n",
    "    The graph type is a vertical barplot.\n",
    "\n",
    "    Parameters\n",
    "    ----------\n",
    "    code: reference code for the step which is printed, e.g. \"a_\" for step1\n",
    "    df_end_use_allsteps: dataframe with values for energy use per service \n",
    "        for each simulation run\n",
    "    nrows: number of rows to plot\n",
    "    ncols: number of cols to plot\n",
    "    ylim: limit for the y axis\n",
    "    title: title of the graph\n",
    "\n",
    "    Returns\n",
    "    -------\n",
    "\n",
    "    \"\"\"\n",
    "\n",
    "    # List of columns to plot, step1:\n",
    "    to_plot = []\n",
    "    for name in df_end_use_allsteps.columns:\n",
    "        if code in name[0][:2]:\n",
    "            to_plot.append(name[0])\n",
    "\n",
    "    to_plot = sorted(list(set(to_plot)))\n",
    "\n",
    "    # Define the number of rows and cols:\n",
    "    a = math.ceil(len(to_plot) / 2.)\n",
    "    if a > len(to_plot):\n",
    "        to_plot.append(to_plot[-1])\n",
    "    b = int(a * 2 / 4)\n",
    "    c = b * 3.5\n",
    "\n",
    "    fig, axes = plt.subplots(nrows=b, ncols=4,\n",
    "                             sharex=True, sharey=True,\n",
    "                             figsize=(14, c))\n",
    "\n",
    "    n = 0\n",
    "\n",
    "    for row in range(b):\n",
    "        for col in range(4):\n",
    "            ax = axes[row][col]\n",
    "\n",
    "            # To differentiate between gas and electricity:\n",
    "            colors = []\n",
    "            for end_use in df_end_use_allsteps.index:\n",
    "                if df_end_use_allsteps[(f\"{to_plot[n]}\",\n",
    "                                        \"Natural Gas\")][end_use] == 0:\n",
    "                    colors.append('lightsteelblue')\n",
    "                else:\n",
    "                    colors.append('lightcoral')\n",
    "\n",
    "            x = df_end_use_allsteps.index\n",
    "\n",
    "            # Per m² of bldg, then Convert to kWh, from GJ:\n",
    "            # Electricity and gas are added to simplify calculation,\n",
    "            # but never both energies are used to provide same service\n",
    "            y = ((df_end_use_allsteps[(f\"{to_plot[n]}\", \"Electricity\")]\n",
    "                 + df_end_use_allsteps[(f\"{to_plot[n]}\", \"Natural Gas\")])\n",
    "                 / net_conditioned_area * 278)\n",
    "\n",
    "            width = 0.5\n",
    "\n",
    "            ax.bar(x, y, width, color=colors)\n",
    "\n",
    "            ax.set_title(f\"{to_plot[n]}\", y=-0.35, pad=15)\n",
    "\n",
    "            n += 1\n",
    "\n",
    "            ax.tick_params(axis='x', which='both', bottom=False)\n",
    "            ax.xaxis.label.set_visible(False)\n",
    "            ax.yaxis.label.set_visible(False)\n",
    "            ax.grid(which='major', axis='y', linestyle=':', linewidth=1)\n",
    "\n",
    "    labels = [item.get_text() for item in ax.get_xticklabels()]\n",
    "    for i in range(len(labels)):\n",
    "        labels[i] = i + 1\n",
    "    # ax.set_xticklabels(labels)\n",
    "    plt.xticks(np.arange(len(labels)), labels[0:])\n",
    "\n",
    "    ax.set_ylim(0, ylim)\n",
    "    plt.yticks(np.arange(0, ylim+1, 10))\n",
    "\n",
    "    fig.subplots_adjust(wspace=0.15, hspace=0.5)\n",
    "\n",
    "    fig.suptitle(title, fontsize=17, y=0.95)\n",
    "    sns.despine(left=True, bottom=True, offset=5)\n",
    "    plt.show()"
   ]
  },
  {
   "cell_type": "markdown",
   "metadata": {},
   "source": [
    "A function to plot heating and cooling loads, horizontal bars, one bar per simulation run:"
   ]
  },
  {
   "cell_type": "code",
   "execution_count": null,
   "metadata": {},
   "outputs": [],
   "source": [
    "def heat_cool_h_plot(code, df_end_use_allsteps, xlim, title):\n",
    "    \"\"\"\n",
    "    Plot the energy usage by service type for each simulation run. \n",
    "    The graph type is a vertical barplot.\n",
    "\n",
    "    Parameters\n",
    "    ----------\n",
    "    code: reference code for the step which is printed, e.g. \"a_\" for step1\n",
    "    df_end_use_allsteps: dataframe with values for energy use per service \n",
    "        for each simulation run\n",
    "    xlim: limit for the x axis\n",
    "    title: title of the graph\n",
    "\n",
    "    Returns\n",
    "    -------\n",
    "\n",
    "    \"\"\"\n",
    "\n",
    "    # List of columns to plot, step1:\n",
    "    to_plot = []\n",
    "    for name in df_end_use_allsteps.columns:\n",
    "        if code in name[0][:2]:\n",
    "            to_plot.append(name[0])\n",
    "\n",
    "    to_plot = sorted(list(set(to_plot)))\n",
    "\n",
    "    a = int(len(to_plot) * 7 / 10)\n",
    "\n",
    "    fig, axes = plt.subplots(nrows=1, ncols=2,\n",
    "                             sharex=True, sharey=True,\n",
    "                             figsize=(10, a))\n",
    "\n",
    "    for col in range(2):\n",
    "        ax = axes[col]\n",
    "\n",
    "        c = 'lightsteelblue'\n",
    "\n",
    "        if col == 0:\n",
    "            end_use = \"Heating\"\n",
    "            # Change the color for natural gas:\n",
    "            if df_end_use_allsteps[(f\"{to_plot[0]}\",\n",
    "                                    \"Natural Gas\")][end_use] != 0:\n",
    "                c = \"lightcoral\"\n",
    "        else:\n",
    "            end_use = \"Cooling\"\n",
    "\n",
    "        # Per m² of bldg, then Convert to kWh, from GJ:\n",
    "        # Electricity and gas are added to simplify calculation,\n",
    "        # but never both energies are used to provide same service\n",
    "        df_to_plot = (df_end_use_allsteps.groupby(level=0, axis=1).sum()\n",
    "                      .loc[[end_use]] / net_conditioned_area * 278).stack()\n",
    "\n",
    "        sns.barplot(x=list(df_to_plot[end_use][n] for n in to_plot),\n",
    "                    y=to_plot,\n",
    "                    color=c, ax=ax)\n",
    "\n",
    "        ax.set(xlim=(0, xlim), ylabel=\"\", xlabel=end_use)\n",
    "\n",
    "        ax.grid(which='major', axis='x', linestyle=':', linewidth=1)\n",
    "\n",
    "        # Adjust the width of the bars:\n",
    "        for patch in ax.patches:\n",
    "            value = 0.4\n",
    "            current_height = patch.get_height()\n",
    "            diff = current_height - value\n",
    "            patch.set_height(value)\n",
    "            # recenter the bar:\n",
    "            patch.set_y(patch.get_y() + diff*0.5)\n",
    "\n",
    "    fig.subplots_adjust(wspace=0.15, hspace=0.5)\n",
    "\n",
    "    fig.suptitle(title, fontsize=17, y=0.95)\n",
    "    sns.despine(left=True, bottom=True, offset=5)\n",
    "    plt.show()"
   ]
  },
  {
   "cell_type": "code",
   "execution_count": null,
   "metadata": {},
   "outputs": [],
   "source": [
    "def total_end_use_h_plot(code, xlim, title):\n",
    "    \"\"\"\n",
    "    Plot the energy usage by service type for each simulation run.\n",
    "    The graph type is a vertical barplot.\n",
    "\n",
    "    Parameters\n",
    "    ----------\n",
    "    code: reference code for the step which is printed, e.g. \"a_\" for step1\n",
    "    xlim: limit for the x axis\n",
    "    title: title of the graph\n",
    "\n",
    "    Returns\n",
    "    -------\n",
    "\n",
    "    \"\"\"\n",
    "\n",
    "    # List of columns to plot, step1:\n",
    "    to_plot = []\n",
    "    for name in df_end_use_allsteps.columns:\n",
    "        if code in name[0][:2]:\n",
    "            to_plot.append(name[0])\n",
    "\n",
    "    to_plot = sorted(list(set(to_plot)))\n",
    "\n",
    "    a = int(len(to_plot) * 7 / 8)\n",
    "\n",
    "    fig, ax = plt.subplots(figsize=(7, a))\n",
    "\n",
    "    # Per m² of bldg, then Convert to kWh, from GJ:\n",
    "    # Electricity and gas are added to simplify calculation,\n",
    "    # but never both energies are used to provide same service\n",
    "\n",
    "    sns.barplot(x=(df_end_use_total[to_plot].loc[\"Total\"] /\n",
    "                   net_conditioned_area * 278),\n",
    "                y=to_plot,\n",
    "                color=\"lightgrey\", ax=ax)\n",
    "\n",
    "    for iy, a in enumerate(ax.patches):\n",
    "        y_start = a.get_y()\n",
    "        height = a.get_height()\n",
    "\n",
    "        x1 = (df_end_use_total[to_plot[iy]].loc['Total HVAC'] /\n",
    "              net_conditioned_area * 278)\n",
    "\n",
    "        ax.plot([x1, x1],\n",
    "                [y_start, y_start+height],\n",
    "                '--', c='black', linewidth=0.75)\n",
    "\n",
    "        x2 = (df_end_use_total[to_plot[iy]].loc['Heating and Cooling'] /\n",
    "              net_conditioned_area * 278)\n",
    "\n",
    "        ax.plot([x2, x2],\n",
    "                [y_start, y_start+height],\n",
    "                '--', c='r', linewidth=0.75)\n",
    "\n",
    "        ax.set(xlim=(0, xlim), ylabel=\"\", xlabel=\"Total energy use\")\n",
    "\n",
    "    ax.grid(which='major', axis='x', linestyle=':', linewidth=1)\n",
    "\n",
    "    # Adjust the width of the bars:\n",
    "    for patch in ax.patches:\n",
    "        value = 0.5\n",
    "        current_height = patch.get_height()\n",
    "        diff = current_height - value\n",
    "        patch.set_height(value)\n",
    "        # recenter the bar:\n",
    "        patch.set_y(patch.get_y() + diff*0.5)\n",
    "\n",
    "    fig.subplots_adjust(wspace=0.15, hspace=0.5)\n",
    "\n",
    "    fig.suptitle(title, fontsize=17, y=0.9)\n",
    "    sns.despine(left=True, bottom=True, offset=5)\n",
    "    plt.show()"
   ]
  },
  {
   "cell_type": "markdown",
   "metadata": {},
   "source": [
    "## Comparative Analysis Step by Step"
   ]
  },
  {
   "cell_type": "markdown",
   "metadata": {},
   "source": [
    "### Step 1"
   ]
  },
  {
   "cell_type": "markdown",
   "metadata": {},
   "source": [
    "Labels for xticks in the next graphs:"
   ]
  },
  {
   "cell_type": "code",
   "execution_count": null,
   "metadata": {},
   "outputs": [],
   "source": [
    "labels = [enduse for enduse in df_end_use_allsteps.index]\n",
    "n_ref = []\n",
    "for i in range(len(labels)):\n",
    "    n_ref.append(i + 1)\n",
    "    print(labels[i], \":\", n_ref[i], \"\\n\")"
   ]
  },
  {
   "cell_type": "code",
   "execution_count": null,
   "metadata": {
    "scrolled": false
   },
   "outputs": [],
   "source": [
    "code = \"a_\"\n",
    "ylim = 90\n",
    "title = (\"Step 1: different types of glazing,\" +\n",
    "         \" w/o thermal curtain or shading devices,\" +\n",
    "         \" kWh/m² of net conditioned area\")\n",
    "\n",
    "# Vertical bar chart with all end uses:\n",
    "end_use_v_plot(code, df_end_use_allsteps, ylim, title)\n",
    "\n",
    "print(\"\\n\\n\")\n",
    "# Another kind of plot with heating and cooling load:\n",
    "heat_cool_h_plot(code, df_end_use_allsteps, ylim, title)\n",
    "\n",
    "print(\"\\n\\n\")\n",
    "# Horizontal bar chart with total energy use,\n",
    "# w/ indications of cooling+heating load, and total hvac kind:\n",
    "total_end_use_h_plot(code, 300, title)"
   ]
  },
  {
   "cell_type": "markdown",
   "metadata": {},
   "source": [
    "### Step 2"
   ]
  },
  {
   "cell_type": "code",
   "execution_count": null,
   "metadata": {
    "scrolled": false
   },
   "outputs": [],
   "source": [
    "code = \"b_\"\n",
    "ylim = 90\n",
    "title = (\"Step 2:\" +\n",
    "         \" with shading devices,\" +\n",
    "         \" kWh/m² of net conditioned area\")\n",
    "# Vertical bar chart with all end uses:\n",
    "end_use_v_plot(code, df_end_use_allsteps, ylim, title)\n",
    "\n",
    "print(\"\\n\\n\")\n",
    "# Another kind of plot with heating and cooling load:\n",
    "heat_cool_h_plot(code, df_end_use_allsteps, ylim, title)\n",
    "\n",
    "print(\"\\n\\n\")\n",
    "# Horizontal bar chart with total energy use,\n",
    "# w/ indications of cooling+heating load, and total hvac kind:\n",
    "total_end_use_h_plot(code, 300, title)"
   ]
  },
  {
   "cell_type": "markdown",
   "metadata": {},
   "source": [
    "### Step 3"
   ]
  },
  {
   "cell_type": "code",
   "execution_count": null,
   "metadata": {
    "scrolled": false
   },
   "outputs": [],
   "source": [
    "code = \"c_\"\n",
    "ylim = 90\n",
    "title = (\"Step 3:\" +\n",
    "         \" with overhangs and thermal curtains,\" +\n",
    "         \" kWh/m² of net conditioned area\")\n",
    "# Vertical bar chart with all end uses:\n",
    "end_use_v_plot(code, df_end_use_allsteps, ylim, title)\n",
    "\n",
    "print(\"\\n\\n\")\n",
    "# Another kind of plot with heating and cooling load:\n",
    "heat_cool_h_plot(code, df_end_use_allsteps, ylim, title)\n",
    "\n",
    "print(\"\\n\\n\")\n",
    "# Horizontal bar chart with total energy use,\n",
    "# w/ indications of cooling+heating load, and total hvac kind:\n",
    "total_end_use_h_plot(code, 300, title)"
   ]
  },
  {
   "cell_type": "markdown",
   "metadata": {},
   "source": [
    "### Step 4"
   ]
  },
  {
   "cell_type": "code",
   "execution_count": null,
   "metadata": {
    "scrolled": false
   },
   "outputs": [],
   "source": [
    "code = \"d_\"\n",
    "ylim = 65\n",
    "title = (\"Step 4: efficient VAV system. Include exterior shading. \" +\n",
    "         \" kWh/m² of net conditioned area\")\n",
    "\n",
    "# Vertical bar chart with all end uses:\n",
    "end_use_v_plot(code, df_end_use_allsteps, ylim, title)\n",
    "\n",
    "print(\"\\n\\n\")\n",
    "# Another kind of plot with heating and cooling load:\n",
    "heat_cool_h_plot(code, df_end_use_allsteps, ylim, title)\n",
    "\n",
    "print(\"\\n\\n\")\n",
    "# Horizontal bar chart with total energy use,\n",
    "# w/ indications of cooling+heating load, and total hvac kind:\n",
    "total_end_use_h_plot(code, 300, title)"
   ]
  },
  {
   "cell_type": "code",
   "execution_count": null,
   "metadata": {},
   "outputs": [],
   "source": []
  },
  {
   "cell_type": "code",
   "execution_count": null,
   "metadata": {},
   "outputs": [],
   "source": []
  },
  {
   "cell_type": "code",
   "execution_count": null,
   "metadata": {},
   "outputs": [],
   "source": []
  },
  {
   "cell_type": "markdown",
   "metadata": {},
   "source": [
    "### Step 8"
   ]
  },
  {
   "cell_type": "code",
   "execution_count": null,
   "metadata": {},
   "outputs": [],
   "source": [
    "code = \"h_\"\n",
    "ylim = 90\n",
    "title = (\"Step 8: 75% reduction of the window-to-wall ratio \" +\n",
    "         \" with thermal curtains,\" +\n",
    "         \" kWh/m² of net conditioned area\")\n",
    "\n",
    "# Vertical bar chart with all end uses:\n",
    "end_use_v_plot(code, df_end_use_allsteps, ylim, title)\n",
    "\n",
    "print(\"\\n\\n\")\n",
    "# Another kind of plot with heating and cooling load:\n",
    "heat_cool_h_plot(code, df_end_use_allsteps, ylim, title)\n",
    "\n",
    "print(\"\\n\\n\")\n",
    "# Horizontal bar chart with total energy use,\n",
    "# w/ indications of cooling+heating load, and total hvac kind:\n",
    "total_end_use_h_plot(code, 300, title)"
   ]
  },
  {
   "cell_type": "markdown",
   "metadata": {},
   "source": [
    "## Heat Gain and Heat Loss through Windows"
   ]
  },
  {
   "cell_type": "markdown",
   "metadata": {},
   "source": [
    "### Setup to recover useful data"
   ]
  },
  {
   "cell_type": "markdown",
   "metadata": {},
   "source": [
    "First, the Outdoor Air Drybulb Temperature:"
   ]
  },
  {
   "cell_type": "code",
   "execution_count": null,
   "metadata": {},
   "outputs": [],
   "source": [
    "temp_vars = ['Site Outdoor Air Drybulb Temperature']\n",
    "# Find the output data from the last simulation run:\n",
    "eplus_sql = EPLusSQL(sql_path='outputs\\energyplus\\eplusout.sql')\n",
    "# Define a DataFrame with temperature:\n",
    "df_temp = eplus_sql.get_hourly_variables(variables_list=temp_vars)"
   ]
  },
  {
   "cell_type": "code",
   "execution_count": null,
   "metadata": {},
   "outputs": [],
   "source": [
    "# Clean the DataFrame and mean the temperature per hour:\n",
    "df_temp.columns = df_temp.columns.droplevel(\"Units\")\n",
    "df_temp.columns = df_temp.columns.droplevel(\"KeyValue\")"
   ]
  },
  {
   "cell_type": "code",
   "execution_count": null,
   "metadata": {},
   "outputs": [],
   "source": [
    "df_temp.plot()"
   ]
  },
  {
   "cell_type": "code",
   "execution_count": null,
   "metadata": {},
   "outputs": [],
   "source": [
    "# Define a dataframe with temperature during daytime (8am 8pm), mean per day:\n",
    "df_temp_d = df_temp.between_time('8:00', '20:00')\n",
    "df_temp_d = df_temp_d.resample('D').mean()"
   ]
  },
  {
   "cell_type": "markdown",
   "metadata": {},
   "source": [
    "Define a function to recover the hourly reporting variables from the csv file saved after each simulation run:"
   ]
  },
  {
   "cell_type": "code",
   "execution_count": null,
   "metadata": {},
   "outputs": [],
   "source": [
    "def recover_df_hourly(run_code):\n",
    "    \"\"\"\n",
    "    Define a Dataframe from the df_h_run.csv, where hourly reporting \n",
    "    variables have been saved for each simulation run  \n",
    "\n",
    "    Parameters\n",
    "    ----------\n",
    "    run_code: code of the simulation run\n",
    "    df_h_run: a dataframe. followed by a code (e.g. \"b_e\"), \n",
    "        where hourly reporting variables will be saved\n",
    "\n",
    "\n",
    "    Returns\n",
    "    -------\n",
    "    df_h_run\n",
    "\n",
    "    \"\"\"\n",
    "\n",
    "    # Does the csv exist\n",
    "    # And define the df_h_run:\n",
    "    if os.path.isfile(f\"outputs\\steps_dir\\df_h_run_\"+str(run_code)+\".csv\"):\n",
    "        df_h_run = (\n",
    "            pd.read_csv(f\"outputs\\steps_dir\\df_h_run_\"+str(run_code)+\".csv\",\n",
    "                        header=[0, 1, 2], index_col=0)\n",
    "        )\n",
    "\n",
    "        # Converting the index as date\n",
    "        df_h_run.index = pd.to_datetime(df_h_run.index)\n",
    "\n",
    "        print(\"df_h_run_\"+str(run_code)+\" created\")\n",
    "    else:\n",
    "        print(\"df_h_run does not exist\")\n",
    "\n",
    "    return df_h_run"
   ]
  },
  {
   "cell_type": "markdown",
   "metadata": {},
   "source": [
    "Define a function to get a dataframe only with heat gain/loss through the windows in the whole building, per day from 8am to 8pm:"
   ]
  },
  {
   "cell_type": "code",
   "execution_count": null,
   "metadata": {},
   "outputs": [],
   "source": [
    "def df_heat_window(df_h_run):\n",
    "    \"\"\"\n",
    "    Define a Dataframe from the df_h_run (hourly reporting \n",
    "    variables). The resulting df_heat_window has two columns:\n",
    "    > 'Total Heat Gain, J'\n",
    "    > 'Total Heat Loss, J'\n",
    "    These data are the sum for the whole bldg, per day.\n",
    "\n",
    "    Parameters\n",
    "    ----------\n",
    "    df_h_run: a dataframe. followed by a code (e.g. \"b_e\"), \n",
    "        where hourly reporting variables will be saved\n",
    "\n",
    "    Returns\n",
    "    -------\n",
    "    df_heat_window: a DataFrame w/ Windows Total Heat Gain/Loss Energy.\n",
    "\n",
    "    \"\"\"\n",
    "\n",
    "    # Define a DataFrame w/ Windows Total Heat Gain/Loss Energy\n",
    "    df_window = df_h_run.groupby(level=1, axis=1).sum()\n",
    "    df_window = df_window.loc[:, df_window.columns.intersection(\n",
    "        ['Zone Windows Total Heat Gain Energy',\n",
    "         'Zone Windows Total Heat Loss Energy'])]\n",
    "\n",
    "    # Consider only heat gain/loss btw 8h and 20h, i.e. daytime\n",
    "    df_window = df_window.between_time('8:00', '20:00')\n",
    "    df_window = df_window.resample('D').sum().rename(\n",
    "        columns={'Zone Windows Total Heat Gain Energy': 'Total Heat Gain, J',\n",
    "                 'Zone Windows Total Heat Loss Energy': 'Total Heat Loss, J'})\n",
    "\n",
    "    return df_window"
   ]
  },
  {
   "cell_type": "markdown",
   "metadata": {},
   "source": [
    "### Analysis of the heat transfers without shadings/curtains"
   ]
  },
  {
   "cell_type": "markdown",
   "metadata": {},
   "source": [
    "Corresponds to the step1 simulations."
   ]
  },
  {
   "cell_type": "code",
   "execution_count": null,
   "metadata": {},
   "outputs": [],
   "source": [
    "run_code = \"a_a\"\n",
    "df_h_run_a_a = recover_df_hourly(run_code)"
   ]
  },
  {
   "cell_type": "code",
   "execution_count": null,
   "metadata": {},
   "outputs": [],
   "source": [
    "df_window_a_a = df_heat_window(df_h_run_a_a)"
   ]
  },
  {
   "cell_type": "code",
   "execution_count": null,
   "metadata": {},
   "outputs": [],
   "source": [
    "df_to_plot = pd.concat([df_window_a_a, df_temp_d], axis=1)\n",
    "g = sns.JointGrid()\n",
    "x, y, z = (df_to_plot[\"Total Heat Gain, J\"],\n",
    "           df_to_plot[\"Total Heat Loss, J\"],\n",
    "           df_to_plot[\"Site Outdoor Air Drybulb Temperature\"])\n",
    "sns.scatterplot(x=x, y=y, hue=z, s=10, ax=g.ax_joint)\n",
    "sns.histplot(x=x, ax=g.ax_marg_x)\n",
    "sns.histplot(y=y, ax=g.ax_marg_y)"
   ]
  },
  {
   "cell_type": "code",
   "execution_count": null,
   "metadata": {
    "scrolled": false
   },
   "outputs": [],
   "source": [
    "ls_code_to_plot = [\"a_a\", \"a_b\", \"a_c\", \"a_d\",\n",
    "                   \"a_e\", \"a_f\", \"a_g\", \"a_h\",\n",
    "                   \"a_i\", \"a_j\", \"a_k\", \"a_l\",\n",
    "                   \"a_m\", \"a_n\", \"a_o\", \"a_p\"]\n",
    "\n",
    "fig, axes = plt.subplots(nrows=4, ncols=4,\n",
    "                         sharex=True, sharey=True,\n",
    "                         figsize=(14, 14))\n",
    "\n",
    "n = 0\n",
    "\n",
    "for row in range(4):\n",
    "    for col in range(4):\n",
    "        ax = axes[row][col]\n",
    "\n",
    "        df_h = recover_df_hourly(ls_code_to_plot[n])\n",
    "        df_window = df_heat_window(df_h)\n",
    "\n",
    "        # Concat temperature and heat gain/loss:\n",
    "        df_to_plot = pd.concat([df_window, df_temp_d], axis=1)\n",
    "\n",
    "        # Plot with JointGrid:\n",
    "        x, y, z = (df_to_plot[\"Total Heat Gain, J\"]/10e+6,\n",
    "                   df_to_plot[\"Total Heat Loss, J\"]/10e+6,\n",
    "                   df_to_plot[\"Site Outdoor Air Drybulb Temperature\"])\n",
    "        sns.scatterplot(x=x, y=y, hue=z, s=10, ax=ax)\n",
    "\n",
    "        ax.set_title(f\"{ls_code_to_plot[n]}\", y=-0.35, pad=15)\n",
    "\n",
    "        ax.xaxis.label.set_visible(False)\n",
    "        ax.yaxis.label.set_visible(False)\n",
    "\n",
    "        ax.get_legend().remove()\n",
    "\n",
    "        n += 1\n",
    "\n",
    "ax.set_ylim(0, 300)\n",
    "plt.yticks(np.arange(0, 301, 100))\n",
    "\n",
    "ax.set_xlim(0, 300)\n",
    "plt.xticks(np.arange(0, 301, 100))\n",
    "\n",
    "fig.subplots_adjust(wspace=0.15, hspace=0.5)\n",
    "\n",
    "fig.suptitle('Step1: heat gain (x) and loss (y) through windows, MJ')\n",
    "sns.despine(offset=5)\n",
    "plt.show()"
   ]
  },
  {
   "cell_type": "markdown",
   "metadata": {},
   "source": [
    "### Analysis of the heat transfers with shadings and high-tech glazing systems"
   ]
  },
  {
   "cell_type": "code",
   "execution_count": null,
   "metadata": {},
   "outputs": [],
   "source": [
    "ls_code_to_plot = [\"b_a\", \"b_b\", \"b_c\", \"b_d\",\n",
    "                   \"b_e\", \"b_f\", \"b_g\", \"b_h\",\n",
    "                   \"b_i\", \"b_j\", \"b_k\", \"b_l\",\n",
    "                   \"b_m\", \"b_n\", \"b_o\", \"b_p\",\n",
    "                   \"h_a\", \"i_a\", \"j_a\", \"j_a\"]\n",
    "\n",
    "fig, axes = plt.subplots(nrows=5, ncols=4,\n",
    "                         sharex=True, sharey=True,\n",
    "                         figsize=(14, 16))\n",
    "\n",
    "n = 0\n",
    "\n",
    "for row in range(5):\n",
    "    for col in range(4):\n",
    "        ax = axes[row][col]\n",
    "\n",
    "        df_h = recover_df_hourly(ls_code_to_plot[n])\n",
    "        df_window = df_heat_window(df_h)\n",
    "\n",
    "        # Concat temperature and heat gain/loss:\n",
    "        df_to_plot = pd.concat([df_window, df_temp_d], axis=1)\n",
    "\n",
    "        # Plot with JointGrid:\n",
    "        x, y, z = (df_to_plot[\"Total Heat Gain, J\"]/10e+6,\n",
    "                   df_to_plot[\"Total Heat Loss, J\"]/10e+6,\n",
    "                   df_to_plot[\"Site Outdoor Air Drybulb Temperature\"])\n",
    "        sns.scatterplot(x=x, y=y, hue=z, s=10, ax=ax)\n",
    "\n",
    "        ax.set_title(f\"{ls_code_to_plot[n]}\", y=-0.35, pad=15)\n",
    "\n",
    "        ax.xaxis.label.set_visible(False)\n",
    "        ax.yaxis.label.set_visible(False)\n",
    "\n",
    "        ax.get_legend().remove()\n",
    "\n",
    "        n += 1\n",
    "\n",
    "ax.set_ylim(0, 300)\n",
    "plt.yticks(np.arange(0, 301, 100))\n",
    "\n",
    "ax.set_xlim(0, 300)\n",
    "plt.xticks(np.arange(0, 301, 100))\n",
    "\n",
    "fig.subplots_adjust(wspace=0.15, hspace=0.5)\n",
    "\n",
    "fig.suptitle('Heat gain (x) and loss (y) through windows, w/ shadings, MJ')\n",
    "sns.despine(offset=5)\n",
    "plt.show()"
   ]
  },
  {
   "cell_type": "code",
   "execution_count": null,
   "metadata": {},
   "outputs": [],
   "source": []
  },
  {
   "cell_type": "code",
   "execution_count": null,
   "metadata": {},
   "outputs": [],
   "source": []
  },
  {
   "cell_type": "markdown",
   "metadata": {},
   "source": [
    "### Analysis of the heat loss during night time with and without thermal curtains"
   ]
  },
  {
   "cell_type": "code",
   "execution_count": null,
   "metadata": {},
   "outputs": [],
   "source": []
  },
  {
   "cell_type": "code",
   "execution_count": null,
   "metadata": {},
   "outputs": [],
   "source": []
  },
  {
   "cell_type": "code",
   "execution_count": null,
   "metadata": {},
   "outputs": [],
   "source": []
  },
  {
   "cell_type": "code",
   "execution_count": null,
   "metadata": {},
   "outputs": [],
   "source": []
  },
  {
   "cell_type": "markdown",
   "metadata": {},
   "source": [
    "<font color='red'>DRAFT BELOW / DRAFT BELOW / DRAFT BELOW </font>"
   ]
  },
  {
   "cell_type": "markdown",
   "metadata": {},
   "source": [
    "# Output Data Analysis "
   ]
  },
  {
   "cell_type": "code",
   "execution_count": null,
   "metadata": {},
   "outputs": [],
   "source": []
  },
  {
   "cell_type": "code",
   "execution_count": null,
   "metadata": {},
   "outputs": [],
   "source": []
  },
  {
   "cell_type": "code",
   "execution_count": null,
   "metadata": {},
   "outputs": [],
   "source": []
  },
  {
   "cell_type": "code",
   "execution_count": null,
   "metadata": {},
   "outputs": [],
   "source": []
  },
  {
   "cell_type": "markdown",
   "metadata": {},
   "source": []
  },
  {
   "cell_type": "code",
   "execution_count": null,
   "metadata": {},
   "outputs": [],
   "source": []
  },
  {
   "cell_type": "markdown",
   "metadata": {},
   "source": [
    "## Setup"
   ]
  },
  {
   "cell_type": "code",
   "execution_count": null,
   "metadata": {},
   "outputs": [],
   "source": [
    "import datetime\n",
    "from datetime import timedelta\n",
    "import time"
   ]
  },
  {
   "cell_type": "markdown",
   "metadata": {},
   "source": [
    "**If output file as csv:**"
   ]
  },
  {
   "cell_type": "markdown",
   "metadata": {},
   "source": [
    "A Python fucntion to read a .csv file, do a conversion and change the timestamp:"
   ]
  },
  {
   "cell_type": "code",
   "execution_count": null,
   "metadata": {},
   "outputs": [],
   "source": [
    "def loadsimdata(file, pointname, ConvFactor):\n",
    "    df = pd.read_csv(file)\n",
    "    df['desiredpoint'] = df[pointname]*ConvFactor\n",
    "    df.index = eplustimestamp(df)\n",
    "    pointdf = df['desiredpoint']\n",
    "    return pointdf"
   ]
  },
  {
   "cell_type": "code",
   "execution_count": null,
   "metadata": {},
   "outputs": [],
   "source": [
    "# Open the EnergyPlus Output CSV file\n",
    "df_eplusout = pd.read_csv(\"outputs\\energyplus\\eplusout.csv\")"
   ]
  },
  {
   "cell_type": "markdown",
   "metadata": {},
   "source": [
    "**If output file as sql:**"
   ]
  },
  {
   "cell_type": "code",
   "execution_count": null,
   "metadata": {},
   "outputs": [],
   "source": [
    "# Open the EnergyPlus Output SQL file\n",
    "df_eplusout = pd.read_sql_table(\n",
    "    \"outputs\\energyplus\\eplusout.sql\", 'postgres:///db_name')"
   ]
  },
  {
   "cell_type": "code",
   "execution_count": null,
   "metadata": {},
   "outputs": [],
   "source": []
  },
  {
   "cell_type": "code",
   "execution_count": null,
   "metadata": {},
   "outputs": [],
   "source": [
    "# Open the EnergyPlus Output SQL file\n",
    "df_eplusout = pd.read_sql(\"outputs\\energyplus\\eplusout.sql\")"
   ]
  },
  {
   "cell_type": "markdown",
   "metadata": {},
   "source": [
    "Convert 24:00:00 to 00:00:00 for it to play nice with Pandas:"
   ]
  },
  {
   "cell_type": "code",
   "execution_count": null,
   "metadata": {},
   "outputs": [],
   "source": [
    "# Function to convert timestamps\n",
    "def eplustimestamp(simdata):\n",
    "    timestampdict = {}\n",
    "    for i, row in simdata.T.iteritems():\n",
    "        timestamp = str(2013) + row['Date/Time']\n",
    "        try:\n",
    "            timestampdict[i] = datetime.datetime.strptime(\n",
    "                timestamp, '%Y %m/%d  %H:%M:%S')\n",
    "        except ValueError:\n",
    "            tempts = timestamp.replace(' 24', ' 23')\n",
    "            timestampdict[i] = datetime.datetime.strptime(\n",
    "                tempts, '%Y %m/%d  %H:%M:%S')\n",
    "            timestampdict[i] += timedelta(hours=1)\n",
    "    timestampseries = pd.Series(timestampdict)\n",
    "    return timestampseries"
   ]
  },
  {
   "cell_type": "code",
   "execution_count": null,
   "metadata": {},
   "outputs": [],
   "source": [
    "df_eplusout.index = eplustimestamp(df_eplusout)"
   ]
  },
  {
   "cell_type": "markdown",
   "metadata": {},
   "source": [
    "## Navigate the Output File"
   ]
  },
  {
   "cell_type": "markdown",
   "metadata": {},
   "source": [
    "Built-in String Query functions to find desired columns:"
   ]
  },
  {
   "cell_type": "code",
   "execution_count": null,
   "metadata": {},
   "outputs": [],
   "source": [
    "ColumnsList = pd.Series(df_eplusout.columns)\n",
    "ColumnsList.head(100)"
   ]
  },
  {
   "cell_type": "code",
   "execution_count": null,
   "metadata": {},
   "outputs": [],
   "source": [
    "ColumnsList[(ColumnsList.str.endswith(\n",
    "    \"Zone Mean Air Temperature [C](Hourly)\"))]"
   ]
  },
  {
   "cell_type": "code",
   "execution_count": null,
   "metadata": {},
   "outputs": [],
   "source": [
    "# Select all columns for Mean Air Temperature:\n",
    "ZoneTempPointList = list(\n",
    "    ColumnsList[(ColumnsList.str.endswith(\"Zone Mean Air Temperature [C](Hourly)\"))])\n",
    "ZoneTempPointList"
   ]
  },
  {
   "cell_type": "code",
   "execution_count": null,
   "metadata": {},
   "outputs": [],
   "source": [
    "BasementZoneTemp = list(\n",
    "    ColumnsList[\n",
    "        (ColumnsList.str.endswith(\"Zone Mean Air Temperature [C](Hourly)\"))\n",
    "        & (ColumnsList.str.contains(\"BASEMENT\"))])\n",
    "\n",
    "GroundFloorZoneTemp = list(\n",
    "    ColumnsList[\n",
    "        (ColumnsList.str.endswith(\"Zone Mean Air Temperature [C](Hourly)\"))\n",
    "        & (ColumnsList.str.contains(\"GROUNDFLOOR\"))])\n",
    "\n",
    "MidZoneTemp = list(\n",
    "    ColumnsList[\n",
    "        (ColumnsList.str.endswith(\"Zone Mean Air Temperature [C](Hourly)\"))\n",
    "        & (ColumnsList.str.contains(\"MID\"))])\n",
    "\n",
    "TopZoneTemp = list(\n",
    "    ColumnsList[\n",
    "        (ColumnsList.str.endswith(\"Zone Mean Air Temperature [C](Hourly)\"))\n",
    "        & (ColumnsList.str.contains(\"TOP\"))])"
   ]
  },
  {
   "cell_type": "code",
   "execution_count": null,
   "metadata": {},
   "outputs": [],
   "source": [
    "# Calculate mean air temperature per total office area per floor:\n",
    "for zone in [\"GROUNDFLOOR\", \"MID\", \"TOP\"]:\n",
    "    df_eplusout[f\"{zone} All Offices Mean Air Temp [C](Hourly)\"] = df_eplusout[\n",
    "        ColumnsList[\n",
    "            (ColumnsList.str.endswith(\"Zone Mean Air Temperature [C](Hourly)\"))\n",
    "            & (ColumnsList.str.contains(f\"{zone}\"))\n",
    "            & ((ColumnsList.str.contains(\"HALL\"))\n",
    "               | (ColumnsList.str.contains(\"OFFICES\")))]].mean(axis=1)\n",
    "    ZoneTempPointList.append(f\"{zone} All Offices Mean Air Temp [C](Hourly)\")"
   ]
  },
  {
   "cell_type": "code",
   "execution_count": null,
   "metadata": {},
   "outputs": [],
   "source": [
    "ZoneTempPointList"
   ]
  },
  {
   "cell_type": "code",
   "execution_count": null,
   "metadata": {},
   "outputs": [],
   "source": [
    "df_zonetemp = df_eplusout[ZoneTempPointList]"
   ]
  },
  {
   "cell_type": "code",
   "execution_count": null,
   "metadata": {},
   "outputs": [],
   "source": [
    "df_zonetemp.info()"
   ]
  },
  {
   "cell_type": "markdown",
   "metadata": {},
   "source": [
    "## Visualisation"
   ]
  },
  {
   "cell_type": "markdown",
   "metadata": {},
   "source": [
    "Mean temperature pe zone:"
   ]
  },
  {
   "cell_type": "code",
   "execution_count": null,
   "metadata": {},
   "outputs": [],
   "source": [
    "df_zonetemp.plot(figsize=(25, 15))"
   ]
  },
  {
   "cell_type": "code",
   "execution_count": null,
   "metadata": {},
   "outputs": [],
   "source": [
    "df_zonetemp[GroundFloorZoneTemp].plot(figsize=(25, 10))"
   ]
  },
  {
   "cell_type": "code",
   "execution_count": null,
   "metadata": {},
   "outputs": [],
   "source": [
    "df_zonetemp['GROUNDFLOOR All Offices Mean Air Temp [C](Hourly)'].plot(\n",
    "    figsize=(25, 10))"
   ]
  },
  {
   "cell_type": "code",
   "execution_count": null,
   "metadata": {},
   "outputs": [],
   "source": [
    "df_zonetemp['TOP All Offices Mean Air Temp [C](Hourly)'].plot(figsize=(25, 10))"
   ]
  },
  {
   "cell_type": "code",
   "execution_count": null,
   "metadata": {},
   "outputs": [],
   "source": [
    "df_zonetemp['TOP All Offices Mean Air Temp [C](Hourly)'].truncate(\n",
    "    before='2013-02-13', after='2013-02-20').plot(figsize=(25, 10))"
   ]
  },
  {
   "cell_type": "markdown",
   "metadata": {},
   "source": [
    "## Heatmaps"
   ]
  },
  {
   "cell_type": "code",
   "execution_count": null,
   "metadata": {},
   "outputs": [],
   "source": []
  },
  {
   "cell_type": "code",
   "execution_count": null,
   "metadata": {},
   "outputs": [],
   "source": []
  },
  {
   "cell_type": "code",
   "execution_count": null,
   "metadata": {},
   "outputs": [],
   "source": []
  },
  {
   "cell_type": "code",
   "execution_count": null,
   "metadata": {},
   "outputs": [],
   "source": []
  }
 ],
 "metadata": {
  "kernelspec": {
   "display_name": "Python 3 (ipykernel)",
   "language": "python",
   "name": "python3"
  },
  "language_info": {
   "codemirror_mode": {
    "name": "ipython",
    "version": 3
   },
   "file_extension": ".py",
   "mimetype": "text/x-python",
   "name": "python",
   "nbconvert_exporter": "python",
   "pygments_lexer": "ipython3",
   "version": "3.9.6"
  },
  "toc": {
   "base_numbering": 1,
   "nav_menu": {},
   "number_sections": true,
   "sideBar": true,
   "skip_h1_title": false,
   "title_cell": "Table of Contents",
   "title_sidebar": "Contents",
   "toc_cell": false,
   "toc_position": {
    "height": "calc(100% - 180px)",
    "left": "10px",
    "top": "150px",
    "width": "241.733px"
   },
   "toc_section_display": true,
   "toc_window_display": true
  },
  "varInspector": {
   "cols": {
    "lenName": 16,
    "lenType": 16,
    "lenVar": 40
   },
   "kernels_config": {
    "python": {
     "delete_cmd_postfix": "",
     "delete_cmd_prefix": "del ",
     "library": "var_list.py",
     "varRefreshCmd": "print(var_dic_list())"
    },
    "r": {
     "delete_cmd_postfix": ") ",
     "delete_cmd_prefix": "rm(",
     "library": "var_list.r",
     "varRefreshCmd": "cat(var_dic_list()) "
    }
   },
   "types_to_exclude": [
    "module",
    "function",
    "builtin_function_or_method",
    "instance",
    "_Feature"
   ],
   "window_display": false
  }
 },
 "nbformat": 4,
 "nbformat_minor": 4
}
